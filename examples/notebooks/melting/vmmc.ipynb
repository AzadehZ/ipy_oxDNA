{
 "cells": [
  {
   "cell_type": "code",
   "execution_count": null,
   "id": "38436a64-4d8d-4132-a82e-5b77f68aa085",
   "metadata": {},
   "outputs": [],
   "source": [
    "from ipy_oxdna.oxdna_simulation import GenerateReplicas\n",
    "from ipy_oxdna.vmmc import *\n",
    "import os\n",
    "import scienceplots\n",
    "%load_ext autoreload\n",
    "%autoreload 2"
   ]
  },
  {
   "cell_type": "code",
   "execution_count": null,
   "id": "7dab3589-f5df-4de1-ac4a-a1f070477db7",
   "metadata": {},
   "outputs": [],
   "source": [
    "path = os.path.abspath('/scratch/mlsample/ipy_oxDNA/ipy_oxdna_examples')\n",
    "systems = ['duplex_melting']\n",
    "\n",
    "file_dir_list = [f'{path}/{sys}' for sys in systems]\n",
    "sim_dir_list = [f'{file_dir}/vmmc_melting_replicas/vmmc_melting_rep' for sys, file_dir in zip(systems, file_dir_list)]\n",
    "\n",
    "n_replicas = 40\n",
    "vmmc_replica_generator = VmmcReplicas()\n",
    "\n",
    "vmmc_replica_generator.multisystem_replica(\n",
    "    systems,\n",
    "    n_replicas,\n",
    "    file_dir_list,\n",
    "    sim_dir_list\n",
    ")\n",
    "vmmc_sim_list = vmmc_replica_generator.sim_list\n",
    "queue_of_simulations = vmmc_replica_generator.queue_of_sims\n",
    "\n",
    "p1 = '15,14,13,12,11,10,9,8'\n",
    "p2 = '0,1,2,3,4,5,6,7'\n",
    "pre_defined_weights = [8, 16204, 1882.94, 359.746, 52.5898, 15.0591, 7.21252, 2.2498, 2.89783]\n",
    "\n",
    "sim_parameters = {'T':'52C', 'steps':'1e9','print_energy_every': '1e5','print_conf_interval':'1e6'}"
   ]
  },
  {
   "cell_type": "code",
   "execution_count": null,
   "id": "e769597e-0ce2-4ac3-b885-a8e35e8f4b0c",
   "metadata": {
    "tags": []
   },
   "outputs": [],
   "source": [
    "for _ in range(n_replicas):\n",
    "    vmmc = queue_of_simulations.get()\n",
    "    vmmc.build(p1, p2, pre_defined_weights=pre_defined_weights, clean_build='force')\n",
    "    vmmc.input_file(sim_parameters)\n",
    "    vmmc.build_com_hb_observable(p1, p2)"
   ]
  },
  {
   "cell_type": "code",
   "execution_count": null,
   "id": "36a0a20f-959f-43af-a295-282c936e7c46",
   "metadata": {
    "collapsed": true,
    "jupyter": {
     "outputs_hidden": true
    },
    "tags": []
   },
   "outputs": [],
   "source": [
    "for vmmc in vmmc_sim_list:\n",
    "    vmmc.oxpy_run.run(continue_run=1e9)"
   ]
  },
  {
   "cell_type": "code",
   "execution_count": null,
   "id": "6ea9f8b7-0fd0-443f-95f8-fc297c9e27d0",
   "metadata": {
    "collapsed": true,
    "jupyter": {
     "outputs_hidden": true
    },
    "tags": []
   },
   "outputs": [],
   "source": [
    "for vmmc in vmmc_sim_list:\n",
    "    vmmc.oxpy_run.process.terminate()"
   ]
  },
  {
   "cell_type": "code",
   "execution_count": null,
   "id": "776a3cd0-7128-450a-a4ec-b2988178fdba",
   "metadata": {
    "collapsed": true,
    "jupyter": {
     "outputs_hidden": true
    },
    "tags": []
   },
   "outputs": [],
   "source": [
    "fig, ax = plt.subplots(dpi=200, figsize=(5.5, 4.5))\n",
    "for vmmc in vmmc_sim_list:\n",
    "    try:\n",
    "        label = vmmc.sim_dir.split('_')[-1]\n",
    "        vmmc.analysis.plot_weighted_histogram(n_bins=500, ax=ax, label=label)\n",
    "        # ax.set_xlim(-0.2,8)\n",
    "        # ax.set_ylim(-0.2,12)\n",
    "    except:\n",
    "        print('hello')\n",
    "plt.legend(fontsize=4)"
   ]
  },
  {
   "cell_type": "code",
   "execution_count": null,
   "id": "a18c2e6c-b431-43f7-9609-13841178e57e",
   "metadata": {
    "collapsed": true,
    "jupyter": {
     "outputs_hidden": true
    },
    "tags": []
   },
   "outputs": [],
   "source": [
    "vmmc_sim_list[0].analysis.view_last()"
   ]
  },
  {
   "cell_type": "code",
   "execution_count": null,
   "id": "e9bfd811-c91c-47ba-8a84-b275d83e9f42",
   "metadata": {
    "tags": []
   },
   "outputs": [],
   "source": [
    "with plt.style.context(['science', 'no-latex', 'bright']):\n",
    "    fig, ax = plt.subplots(dpi=200, figsize=(5.5, 4.5))\n",
    "    vmmc_replica_generator.plot_mean_free_energy_with_error_bars(num_bins=1000, ax=ax, confidence_level=0.99)\n",
    "    ax.set_xlim(-0.1,4)\n",
    "    plt.ylim(-0.1,8)"
   ]
  },
  {
   "cell_type": "code",
   "execution_count": null,
   "id": "88499f98-52e3-486b-852e-15de4fbf5482",
   "metadata": {
    "tags": []
   },
   "outputs": [],
   "source": [
    "vmmc_replica_generator.statistical_analysis_and_plot()"
   ]
  },
  {
   "cell_type": "code",
   "execution_count": null,
   "id": "f21de540-8191-4313-ba7d-c743d4259515",
   "metadata": {},
   "outputs": [],
   "source": [
    "plt.plot(vmmc_replica_generator.sim_list[0].analysis.x_fit ,vmmc_replica_generator.sim_list[0].analysis.y_fit)"
   ]
  },
  {
   "cell_type": "code",
   "execution_count": null,
   "id": "6f4d09d3-68fa-4723-b7eb-c75cf10c2abe",
   "metadata": {
    "tags": []
   },
   "outputs": [],
   "source": [
    "list(vmmc_replica_generator.sim_list[0].analysis.y_fit).index(0.7755079886140543)"
   ]
  },
  {
   "cell_type": "code",
   "execution_count": null,
   "id": "d7787885-e3be-4de0-beb2-e4259e2e7c7d",
   "metadata": {},
   "outputs": [],
   "source": [
    "list(vmmc_replica_generator.sim_list[0].analysis.x_fit)[222]"
   ]
  },
  {
   "cell_type": "code",
   "execution_count": null,
   "id": "cac43ffc-6b43-437d-8c51-ae6050f49829",
   "metadata": {},
   "outputs": [],
   "source": [
    "vmmc_replica_generator.analyze_histogram_convergence_and_errors()"
   ]
  },
  {
   "cell_type": "code",
   "execution_count": null,
   "id": "01ebb6a7-b292-45bd-b093-94ac84f5b85a",
   "metadata": {},
   "outputs": [],
   "source": [
    "vmmc_replica_generator.plot_histogram_convergence_and_errors(num_bins=200)"
   ]
  },
  {
   "cell_type": "code",
   "execution_count": null,
   "id": "cca613ae-ad42-4f97-a855-98d17b00fd0e",
   "metadata": {
    "collapsed": true,
    "jupyter": {
     "outputs_hidden": true
    },
    "tags": []
   },
   "outputs": [],
   "source": [
    "vmmc_sim_list[12].analysis.view_last()"
   ]
  },
  {
   "cell_type": "code",
   "execution_count": null,
   "id": "aa060b4c-9782-4b6c-b8a6-43570e123bab",
   "metadata": {},
   "outputs": [],
   "source": [
    "for vmmc in vmmc_sim_list:\n",
    "    vmmc.analysis.read_vmmc_op_data()"
   ]
  },
  {
   "cell_type": "code",
   "execution_count": null,
   "id": "7439092a-7ece-4c88-b2b7-92bcb1426651",
   "metadata": {
    "collapsed": true,
    "jupyter": {
     "outputs_hidden": true
    },
    "tags": []
   },
   "outputs": [],
   "source": [
    "for vmmc in vmmc_sim_list:\n",
    "    print(vmmc.simulation_time)"
   ]
  },
  {
   "cell_type": "code",
   "execution_count": null,
   "id": "c856232f-f465-4c29-b72c-c97637c4fd42",
   "metadata": {
    "tags": []
   },
   "outputs": [],
   "source": [
    "vmmc_sim_list[33].analysis.last_hist_analysis()"
   ]
  },
  {
   "cell_type": "code",
   "execution_count": null,
   "id": "20a8a936-5f14-4a30-97b0-986dd34a70ae",
   "metadata": {
    "collapsed": true,
    "jupyter": {
     "outputs_hidden": true
    },
    "tags": []
   },
   "outputs": [],
   "source": [
    "vmmc_sim_list[12].analysis.read_vmmc_op_data()\n",
    "vmmc_sim_list[12].vmmc_df"
   ]
  },
  {
   "cell_type": "code",
   "execution_count": null,
   "id": "6ea15b03-0407-4449-b259-7d19a2cc26bd",
   "metadata": {
    "collapsed": true,
    "jupyter": {
     "outputs_hidden": true
    },
    "tags": []
   },
   "outputs": [],
   "source": [
    "vmmc_sim_list[0].analysis.calculate_sampling_and_probabilities()"
   ]
  },
  {
   "cell_type": "code",
   "execution_count": null,
   "id": "0576e8d3-d57a-4fcf-81c0-943e818c3b51",
   "metadata": {
    "collapsed": true,
    "jupyter": {
     "outputs_hidden": true
    },
    "tags": []
   },
   "outputs": [],
   "source": [
    "vmmc_sim_list[0].statistics"
   ]
  },
  {
   "cell_type": "code",
   "execution_count": null,
   "id": "b69c4e6a-6782-47a6-8419-1098d20d3eef",
   "metadata": {
    "collapsed": true,
    "jupyter": {
     "outputs_hidden": true
    },
    "tags": []
   },
   "outputs": [],
   "source": [
    "vmmc_sim_list[12].analysis.plot_statistics()"
   ]
  },
  {
   "cell_type": "code",
   "execution_count": null,
   "id": "1e955ac4-0db4-4633-996c-36b49aa1d1c2",
   "metadata": {
    "collapsed": true,
    "jupyter": {
     "outputs_hidden": true
    },
    "tags": []
   },
   "outputs": [],
   "source": [
    "vmmc_sim_list[0].analysis.plot_melting_profiles()"
   ]
  },
  {
   "cell_type": "code",
   "execution_count": null,
   "id": "4ce9174f-839c-4fea-b51c-37f351aa8300",
   "metadata": {},
   "outputs": [],
   "source": [
    "vmmc_sim_list[0].melting_profiles"
   ]
  },
  {
   "cell_type": "code",
   "execution_count": null,
   "id": "24addb4d-6681-4201-b4c3-8d965c4c63da",
   "metadata": {},
   "outputs": [],
   "source": [
    "vmmc_replica_generator.replica_data"
   ]
  },
  {
   "cell_type": "code",
   "execution_count": null,
   "id": "627730d5-eee1-4882-b68f-3ee47a6640df",
   "metadata": {
    "tags": []
   },
   "outputs": [],
   "source": [
    "vmmc_replica_generator.collect_replica_data()\n",
    "vmmc_replica_generator.analyze_convergence_and_estimate_errors()"
   ]
  },
  {
   "cell_type": "code",
   "execution_count": null,
   "id": "15c140fb-a2f9-4a6f-bd37-0d71faeed6b4",
   "metadata": {},
   "outputs": [],
   "source": [
    "for vmmc in vmmc_sim_list:\n",
    "    vmmc.analysis.read_vmmc_op_data()\n",
    "    print(vmmc.vmmc_df['unwt_occ'][0])"
   ]
  },
  {
   "cell_type": "code",
   "execution_count": null,
   "id": "ee1d6467-7c3b-49e8-bac2-cec132667907",
   "metadata": {},
   "outputs": [],
   "source": [
    "vmmc_sim_list[0].sim_files.parse_current_files()"
   ]
  },
  {
   "cell_type": "code",
   "execution_count": null,
   "id": "5a9690d8-dc6a-4736-97ef-692ec4018721",
   "metadata": {
    "collapsed": true,
    "jupyter": {
     "outputs_hidden": true
    },
    "tags": []
   },
   "outputs": [],
   "source": [
    "vmmc_sim_list[0].sim_files.file_list"
   ]
  }
 ],
 "metadata": {
  "kernelspec": {
   "display_name": "oxdna",
   "language": "python",
   "name": "oxdna"
  },
  "language_info": {
   "codemirror_mode": {
    "name": "ipython",
    "version": 3
   },
   "file_extension": ".py",
   "mimetype": "text/x-python",
   "name": "python",
   "nbconvert_exporter": "python",
   "pygments_lexer": "ipython3",
   "version": "3.10.9"
  }
 },
 "nbformat": 4,
 "nbformat_minor": 5
}
