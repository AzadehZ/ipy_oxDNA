{
 "cells": [
  {
   "cell_type": "code",
   "execution_count": 1,
   "id": "26afc5dc-79a7-4aa9-981c-7b8a0b816ae3",
   "metadata": {},
   "outputs": [],
   "source": [
    "from ipy_metadynamics import Metadynamics\n",
    "import os\n",
    "from oxdna_simulation import SimulationManager, Simulation, Observable\n",
    "import matplotlib.pyplot as plt\n",
    "import numpy as np\n",
    "from collections import Counter\n",
    "\n",
    "# plt.style.use(['science', 'no-latex', 'bright'])\n",
    "%load_ext autoreload\n",
    "%autoreload 2\n",
    "%matplotlib inline"
   ]
  },
  {
   "cell_type": "code",
   "execution_count": 2,
   "id": "0c9faa1b-1f64-4cdf-bcac-3b12316d6571",
   "metadata": {},
   "outputs": [],
   "source": [
    "path = os.path.abspath('/scratch/matthew/ipy_oxDNA/ipy_oxdna_examples/ico_3p/')\n",
    "# systems = sorted(os.listdir(path))\n",
    "systems = ['inital_umbrella']\n",
    "file_dir_list = [f'{path}/{sys}/' for sys in systems]\n",
    "sim_dir_list = [f'{file_dir}/meta_0' for sys, file_dir in zip(systems, file_dir_list)]\n",
    "    \n",
    "monomer_1_patch_1 = '11674,11666,11667,11668,11669,11670,11671,11672,11673'\n",
    "monomer_1_patch_2 = '12945,12953,12946,12947,12948,12949,12950,12951,12952'\n",
    "monomer_1_patch_3 = '13320,13328,13321,13322,13323,13324,13325,13326,13327'\n",
    "\n",
    "monomer_2_patch_1 = '6655,6663,6656,6657,6658,6659,6660,6661,6662'\n",
    "monomer_2_patch_2 = '6358,6350,6351,6352,6353,6354,6355,6356,6357'\n",
    "monomer_2_patch_3 = '5752,5744,5745,5746,5747,5748,5749,5750,5751'\n",
    "\n",
    "monomer_1 = f'{monomer_1_patch_1},{monomer_1_patch_2},{monomer_1_patch_3}'\n",
    "monomer_2 = f'{monomer_2_patch_1},{monomer_2_patch_2},{monomer_2_patch_3}'\n",
    "\n",
    "meta_list = [Metadynamics(file_dir, sim_dir) for file_dir, sim_dir in zip(file_dir_list, sim_dir_list)]\n",
    " \n",
    "for meta in meta_list:\n",
    "    meta.build(monomer_1, monomer_2,)"
   ]
  },
  {
   "cell_type": "code",
   "execution_count": 11,
   "id": "0334b3a5-5a93-4d5f-956d-f8c5264923f5",
   "metadata": {},
   "outputs": [],
   "source": [
    "meta_arguments = [\n",
    "    '--A', '50000', #Initial bias-height increment\n",
    "    '--sigma', '5000', # Width of the deposited Gaussian\n",
    "    '--tau', '10000', # Length of a metadynamics iteration (in time steps)\n",
    "    '--dX', '0.001', # The spacing of the grid used to approximate the potential\n",
    "    '--N_walkers', '8', # Number of parallel processes to be launched\n",
    "    '--dT', '3', # Strength of the tempering (dT -> 0 leads to conventional simulations, dt -> infinity leads to conventional, non-well-tempered metadynamics)\n",
    "    '--dim', '1', # Dimension of the order parameter\n",
    "    '--p_fname', 'locs.meta', # File storing the indexes of the particles whose coordinates are used to build the order parameters\n",
    "    '--ratio', '0', # Use the angle defined from the ratio of the distances between centres of mass as the order parameter\n",
    "    '--angle', '0', # Use the angle defined from three centres of mass as the order parameter\n",
    "    '--Niter', '100000', # Number of metadynamics iterations\n",
    "    '--xmin', '0', # The lower boundary of the potential grid\n",
    "    '--xmax', '20', # The upper boundary of the potential grid\n",
    "    '--conf_interval', '100000', # Frequency with which configurations should be saved (in time steps)\n",
    "    '--save_hills', '1', # Frequency with which the potential grid is sampled\n",
    "    '--continue_run', '0', # Whether the simulation should continue or start anew\n",
    "    '--T', '45C', #The temperature at which the simulations will be run. If not set, the temperature in the initial input file will be used\n",
    "    '--use_sequential_GPUs' # Each walker will try to use a dedicated GPU: the first one will attempt to use GPU 1, the second one GPU 2, etc.\n",
    "]"
   ]
  },
  {
   "cell_type": "code",
   "execution_count": null,
   "id": "291cd930-ded5-4b40-8ed5-2d0fea55b7b3",
   "metadata": {
    "tags": []
   },
   "outputs": [
    {
     "name": "stdout",
     "output_type": "stream",
     "text": [
      "spawning\n",
      "python3 /scratch/matthew/ipy_oxDNA/src/metad_interface.py /scratch/matthew/ipy_oxDNA/ipy_oxdna_examples/ico_3p/inital_umbrella/meta_0/base ['--A', '5000', '--sigma', '500', '--tau', '1000', '--dX', '0.001', '--N_walkers', '8', '--dT', '3', '--dim', '1', '--p_fname', 'locs.meta', '--ratio', '0', '--angle', '0', '--Niter', '100000', '--xmin', '0', '--xmax', '20', '--conf_interval', '100000', '--save_hills', '1', '--continue_run', '0', '--T', '45C', '--use_sequential_GPUs'] "
     ]
    },
    {
     "name": "stdout",
     "output_type": "stream",
     "text": [
      "\n"
     ]
    }
   ],
   "source": [
    "invocation = meta_list[0].run(meta_arguments)"
   ]
  },
  {
   "cell_type": "code",
   "execution_count": 9,
   "id": "f55101f7-d020-4ce6-9e7f-77b32691dcde",
   "metadata": {},
   "outputs": [
    {
     "ename": "EmptyDataError",
     "evalue": "No columns to parse from file",
     "output_type": "error",
     "traceback": [
      "\u001b[0;31m---------------------------------------------------------------------------\u001b[0m",
      "\u001b[0;31mEmptyDataError\u001b[0m                            Traceback (most recent call last)",
      "\u001b[1;32m/scratch/matthew/ipy_oxDNA/src/metadynamics_ico_3p.ipynb Cell 5\u001b[0m line \u001b[0;36m1\n\u001b[0;32m----> <a href='vscode-notebook-cell://tunnel%2Bjavelina/scratch/matthew/ipy_oxDNA/src/metadynamics_ico_3p.ipynb#W6sdnNjb2RlLXJlbW90ZQ%3D%3D?line=0'>1</a>\u001b[0m meta_list[\u001b[39m0\u001b[39;49m]\u001b[39m.\u001b[39;49mmeta_analysis\u001b[39m.\u001b[39;49mplot_distance(\u001b[39m8\u001b[39;49m)\n",
      "File \u001b[0;32m/scratch/matthew/ipy_oxDNA/src/ipy_metadynamics.py:103\u001b[0m, in \u001b[0;36mMetadynamicsAnalysis.plot_distance\u001b[0;34m(self, n_walkers)\u001b[0m\n\u001b[1;32m    102\u001b[0m \u001b[39mdef\u001b[39;00m \u001b[39mplot_distance\u001b[39m(\u001b[39mself\u001b[39m, n_walkers):\n\u001b[0;32m--> 103\u001b[0m     positions \u001b[39m=\u001b[39m [\u001b[39mself\u001b[39m\u001b[39m.\u001b[39mload_all_positions(i) \u001b[39mfor\u001b[39;00m i \u001b[39min\u001b[39;00m \u001b[39mrange\u001b[39m(n_walkers)]\n\u001b[1;32m    105\u001b[0m     \u001b[39mfor\u001b[39;00m idx,pos \u001b[39min\u001b[39;00m \u001b[39menumerate\u001b[39m(positions):\n\u001b[1;32m    106\u001b[0m         x \u001b[39m=\u001b[39m np\u001b[39m.\u001b[39marray(pos)\u001b[39m.\u001b[39mflatten() \u001b[39m*\u001b[39m \u001b[39m0.8518\u001b[39m\n",
      "File \u001b[0;32m/scratch/matthew/ipy_oxDNA/src/ipy_metadynamics.py:103\u001b[0m, in \u001b[0;36m<listcomp>\u001b[0;34m(.0)\u001b[0m\n\u001b[1;32m    102\u001b[0m \u001b[39mdef\u001b[39;00m \u001b[39mplot_distance\u001b[39m(\u001b[39mself\u001b[39m, n_walkers):\n\u001b[0;32m--> 103\u001b[0m     positions \u001b[39m=\u001b[39m [\u001b[39mself\u001b[39;49m\u001b[39m.\u001b[39;49mload_all_positions(i) \u001b[39mfor\u001b[39;00m i \u001b[39min\u001b[39;00m \u001b[39mrange\u001b[39m(n_walkers)]\n\u001b[1;32m    105\u001b[0m     \u001b[39mfor\u001b[39;00m idx,pos \u001b[39min\u001b[39;00m \u001b[39menumerate\u001b[39m(positions):\n\u001b[1;32m    106\u001b[0m         x \u001b[39m=\u001b[39m np\u001b[39m.\u001b[39marray(pos)\u001b[39m.\u001b[39mflatten() \u001b[39m*\u001b[39m \u001b[39m0.8518\u001b[39m\n",
      "File \u001b[0;32m/scratch/matthew/ipy_oxDNA/src/ipy_metadynamics.py:99\u001b[0m, in \u001b[0;36mMetadynamicsAnalysis.load_all_positions\u001b[0;34m(self, index)\u001b[0m\n\u001b[1;32m     98\u001b[0m \u001b[39mdef\u001b[39;00m \u001b[39mload_all_positions\u001b[39m(\u001b[39mself\u001b[39m, index):\n\u001b[0;32m---> 99\u001b[0m     data \u001b[39m=\u001b[39m pd\u001b[39m.\u001b[39;49mread_csv(\u001b[39mf\u001b[39;49m\u001b[39m'\u001b[39;49m\u001b[39m{\u001b[39;49;00m\u001b[39mself\u001b[39;49m\u001b[39m.\u001b[39;49mmeta\u001b[39m.\u001b[39;49msim\u001b[39m.\u001b[39;49msim_dir\u001b[39m}\u001b[39;49;00m\u001b[39m/run-meta_\u001b[39;49m\u001b[39m{\u001b[39;49;00mindex\u001b[39m}\u001b[39;49;00m\u001b[39m/pos.dat\u001b[39;49m\u001b[39m'\u001b[39;49m,header\u001b[39m=\u001b[39;49m\u001b[39mNone\u001b[39;49;00m)\n\u001b[1;32m    100\u001b[0m     \u001b[39mreturn\u001b[39;00m np\u001b[39m.\u001b[39marray(data)\u001b[39m.\u001b[39mflatten()\n",
      "File \u001b[0;32m~/.conda/envs/oxDNA3.3/lib/python3.10/site-packages/pandas/util/_decorators.py:311\u001b[0m, in \u001b[0;36mdeprecate_nonkeyword_arguments.<locals>.decorate.<locals>.wrapper\u001b[0;34m(*args, **kwargs)\u001b[0m\n\u001b[1;32m    305\u001b[0m \u001b[39mif\u001b[39;00m \u001b[39mlen\u001b[39m(args) \u001b[39m>\u001b[39m num_allow_args:\n\u001b[1;32m    306\u001b[0m     warnings\u001b[39m.\u001b[39mwarn(\n\u001b[1;32m    307\u001b[0m         msg\u001b[39m.\u001b[39mformat(arguments\u001b[39m=\u001b[39marguments),\n\u001b[1;32m    308\u001b[0m         \u001b[39mFutureWarning\u001b[39;00m,\n\u001b[1;32m    309\u001b[0m         stacklevel\u001b[39m=\u001b[39mstacklevel,\n\u001b[1;32m    310\u001b[0m     )\n\u001b[0;32m--> 311\u001b[0m \u001b[39mreturn\u001b[39;00m func(\u001b[39m*\u001b[39;49margs, \u001b[39m*\u001b[39;49m\u001b[39m*\u001b[39;49mkwargs)\n",
      "File \u001b[0;32m~/.conda/envs/oxDNA3.3/lib/python3.10/site-packages/pandas/io/parsers/readers.py:680\u001b[0m, in \u001b[0;36mread_csv\u001b[0;34m(filepath_or_buffer, sep, delimiter, header, names, index_col, usecols, squeeze, prefix, mangle_dupe_cols, dtype, engine, converters, true_values, false_values, skipinitialspace, skiprows, skipfooter, nrows, na_values, keep_default_na, na_filter, verbose, skip_blank_lines, parse_dates, infer_datetime_format, keep_date_col, date_parser, dayfirst, cache_dates, iterator, chunksize, compression, thousands, decimal, lineterminator, quotechar, quoting, doublequote, escapechar, comment, encoding, encoding_errors, dialect, error_bad_lines, warn_bad_lines, on_bad_lines, delim_whitespace, low_memory, memory_map, float_precision, storage_options)\u001b[0m\n\u001b[1;32m    665\u001b[0m kwds_defaults \u001b[39m=\u001b[39m _refine_defaults_read(\n\u001b[1;32m    666\u001b[0m     dialect,\n\u001b[1;32m    667\u001b[0m     delimiter,\n\u001b[0;32m   (...)\u001b[0m\n\u001b[1;32m    676\u001b[0m     defaults\u001b[39m=\u001b[39m{\u001b[39m\"\u001b[39m\u001b[39mdelimiter\u001b[39m\u001b[39m\"\u001b[39m: \u001b[39m\"\u001b[39m\u001b[39m,\u001b[39m\u001b[39m\"\u001b[39m},\n\u001b[1;32m    677\u001b[0m )\n\u001b[1;32m    678\u001b[0m kwds\u001b[39m.\u001b[39mupdate(kwds_defaults)\n\u001b[0;32m--> 680\u001b[0m \u001b[39mreturn\u001b[39;00m _read(filepath_or_buffer, kwds)\n",
      "File \u001b[0;32m~/.conda/envs/oxDNA3.3/lib/python3.10/site-packages/pandas/io/parsers/readers.py:575\u001b[0m, in \u001b[0;36m_read\u001b[0;34m(filepath_or_buffer, kwds)\u001b[0m\n\u001b[1;32m    572\u001b[0m _validate_names(kwds\u001b[39m.\u001b[39mget(\u001b[39m\"\u001b[39m\u001b[39mnames\u001b[39m\u001b[39m\"\u001b[39m, \u001b[39mNone\u001b[39;00m))\n\u001b[1;32m    574\u001b[0m \u001b[39m# Create the parser.\u001b[39;00m\n\u001b[0;32m--> 575\u001b[0m parser \u001b[39m=\u001b[39m TextFileReader(filepath_or_buffer, \u001b[39m*\u001b[39;49m\u001b[39m*\u001b[39;49mkwds)\n\u001b[1;32m    577\u001b[0m \u001b[39mif\u001b[39;00m chunksize \u001b[39mor\u001b[39;00m iterator:\n\u001b[1;32m    578\u001b[0m     \u001b[39mreturn\u001b[39;00m parser\n",
      "File \u001b[0;32m~/.conda/envs/oxDNA3.3/lib/python3.10/site-packages/pandas/io/parsers/readers.py:934\u001b[0m, in \u001b[0;36mTextFileReader.__init__\u001b[0;34m(self, f, engine, **kwds)\u001b[0m\n\u001b[1;32m    931\u001b[0m     \u001b[39mself\u001b[39m\u001b[39m.\u001b[39moptions[\u001b[39m\"\u001b[39m\u001b[39mhas_index_names\u001b[39m\u001b[39m\"\u001b[39m] \u001b[39m=\u001b[39m kwds[\u001b[39m\"\u001b[39m\u001b[39mhas_index_names\u001b[39m\u001b[39m\"\u001b[39m]\n\u001b[1;32m    933\u001b[0m \u001b[39mself\u001b[39m\u001b[39m.\u001b[39mhandles: IOHandles \u001b[39m|\u001b[39m \u001b[39mNone\u001b[39;00m \u001b[39m=\u001b[39m \u001b[39mNone\u001b[39;00m\n\u001b[0;32m--> 934\u001b[0m \u001b[39mself\u001b[39m\u001b[39m.\u001b[39m_engine \u001b[39m=\u001b[39m \u001b[39mself\u001b[39;49m\u001b[39m.\u001b[39;49m_make_engine(f, \u001b[39mself\u001b[39;49m\u001b[39m.\u001b[39;49mengine)\n",
      "File \u001b[0;32m~/.conda/envs/oxDNA3.3/lib/python3.10/site-packages/pandas/io/parsers/readers.py:1236\u001b[0m, in \u001b[0;36mTextFileReader._make_engine\u001b[0;34m(self, f, engine)\u001b[0m\n\u001b[1;32m   1233\u001b[0m     \u001b[39mraise\u001b[39;00m \u001b[39mValueError\u001b[39;00m(msg)\n\u001b[1;32m   1235\u001b[0m \u001b[39mtry\u001b[39;00m:\n\u001b[0;32m-> 1236\u001b[0m     \u001b[39mreturn\u001b[39;00m mapping[engine](f, \u001b[39m*\u001b[39;49m\u001b[39m*\u001b[39;49m\u001b[39mself\u001b[39;49m\u001b[39m.\u001b[39;49moptions)\n\u001b[1;32m   1237\u001b[0m \u001b[39mexcept\u001b[39;00m \u001b[39mException\u001b[39;00m:\n\u001b[1;32m   1238\u001b[0m     \u001b[39mif\u001b[39;00m \u001b[39mself\u001b[39m\u001b[39m.\u001b[39mhandles \u001b[39mis\u001b[39;00m \u001b[39mnot\u001b[39;00m \u001b[39mNone\u001b[39;00m:\n",
      "File \u001b[0;32m~/.conda/envs/oxDNA3.3/lib/python3.10/site-packages/pandas/io/parsers/c_parser_wrapper.py:75\u001b[0m, in \u001b[0;36mCParserWrapper.__init__\u001b[0;34m(self, src, **kwds)\u001b[0m\n\u001b[1;32m     72\u001b[0m     kwds\u001b[39m.\u001b[39mpop(key, \u001b[39mNone\u001b[39;00m)\n\u001b[1;32m     74\u001b[0m kwds[\u001b[39m\"\u001b[39m\u001b[39mdtype\u001b[39m\u001b[39m\"\u001b[39m] \u001b[39m=\u001b[39m ensure_dtype_objs(kwds\u001b[39m.\u001b[39mget(\u001b[39m\"\u001b[39m\u001b[39mdtype\u001b[39m\u001b[39m\"\u001b[39m, \u001b[39mNone\u001b[39;00m))\n\u001b[0;32m---> 75\u001b[0m \u001b[39mself\u001b[39m\u001b[39m.\u001b[39m_reader \u001b[39m=\u001b[39m parsers\u001b[39m.\u001b[39;49mTextReader(src, \u001b[39m*\u001b[39;49m\u001b[39m*\u001b[39;49mkwds)\n\u001b[1;32m     77\u001b[0m \u001b[39mself\u001b[39m\u001b[39m.\u001b[39munnamed_cols \u001b[39m=\u001b[39m \u001b[39mself\u001b[39m\u001b[39m.\u001b[39m_reader\u001b[39m.\u001b[39munnamed_cols\n\u001b[1;32m     79\u001b[0m \u001b[39m# error: Cannot determine type of 'names'\u001b[39;00m\n",
      "File \u001b[0;32m~/.conda/envs/oxDNA3.3/lib/python3.10/site-packages/pandas/_libs/parsers.pyx:551\u001b[0m, in \u001b[0;36mpandas._libs.parsers.TextReader.__cinit__\u001b[0;34m()\u001b[0m\n",
      "\u001b[0;31mEmptyDataError\u001b[0m: No columns to parse from file"
     ]
    }
   ],
   "source": [
    "meta_list[0].meta_analysis.plot_distance(8)"
   ]
  },
  {
   "cell_type": "code",
   "execution_count": 10,
   "id": "e19fe372-b00f-4c57-a459-ee6f29306fcc",
   "metadata": {},
   "outputs": [
    {
     "ename": "IndexError",
     "evalue": "index -1 is out of bounds for axis 0 with size 0",
     "output_type": "error",
     "traceback": [
      "\u001b[0;31m---------------------------------------------------------------------------\u001b[0m",
      "\u001b[0;31mIndexError\u001b[0m                                Traceback (most recent call last)",
      "\u001b[1;32m/scratch/matthew/ipy_oxDNA/src/metadynamics_ico_3p.ipynb Cell 6\u001b[0m line \u001b[0;36m1\n\u001b[0;32m----> <a href='vscode-notebook-cell://tunnel%2Bjavelina/scratch/matthew/ipy_oxDNA/src/metadynamics_ico_3p.ipynb#X10sdnNjb2RlLXJlbW90ZQ%3D%3D?line=0'>1</a>\u001b[0m meta_list[\u001b[39m-\u001b[39;49m\u001b[39m1\u001b[39;49m]\u001b[39m.\u001b[39;49mmeta_analysis\u001b[39m.\u001b[39;49mplot_free_energy()\n",
      "File \u001b[0;32m/scratch/matthew/ipy_oxDNA/src/ipy_metadynamics.py:120\u001b[0m, in \u001b[0;36mMetadynamicsAnalysis.plot_free_energy\u001b[0;34m(self)\u001b[0m\n\u001b[1;32m    118\u001b[0m keys \u001b[39m=\u001b[39m np\u001b[39m.\u001b[39msort(\u001b[39mlist\u001b[39m(bias_dictionary\u001b[39m.\u001b[39mkeys()))\n\u001b[1;32m    119\u001b[0m \u001b[39m# biases = [load_bias(bias_dictionary[key]) for key in keys]\u001b[39;00m\n\u001b[0;32m--> 120\u001b[0m biases \u001b[39m=\u001b[39m [\u001b[39mself\u001b[39m\u001b[39m.\u001b[39mload_bias(bias_dictionary[keys[\u001b[39m-\u001b[39;49m\u001b[39m1\u001b[39;49m]])]\n\u001b[1;32m    121\u001b[0m to_plot \u001b[39m=\u001b[39m \u001b[39m-\u001b[39m(biases[\u001b[39m-\u001b[39m\u001b[39m1\u001b[39m] \u001b[39m-\u001b[39m np\u001b[39m.\u001b[39mmax(biases[\u001b[39m-\u001b[39m\u001b[39m1\u001b[39m]))\n\u001b[1;32m    122\u001b[0m xmax \u001b[39m=\u001b[39m \u001b[39mfloat\u001b[39m(\u001b[39mself\u001b[39m\u001b[39m.\u001b[39mmeta\u001b[39m.\u001b[39mmeta_arguments[\u001b[39m'\u001b[39m\u001b[39m--xmax\u001b[39m\u001b[39m'\u001b[39m])\n",
      "\u001b[0;31mIndexError\u001b[0m: index -1 is out of bounds for axis 0 with size 0"
     ]
    }
   ],
   "source": [
    "meta_list[-1].meta_analysis.plot_free_energy()"
   ]
  },
  {
   "cell_type": "code",
   "execution_count": 10,
   "metadata": {},
   "outputs": [],
   "source": [
    "interval = list(range(int( len(meta_arguments))))[:-1:2]\n",
    "meta_arguments_t = {meta_arguments[0 + i]:meta_arguments[1 + i] for i in interval}\n",
    "if meta_arguments[-1] == '--use_sequential_GPUs':\n",
    "    meta_arguments_t['--use_sequential_GPUs'] = True\n",
    "    \n",
    "meta_list[0].meta_arguments = meta_arguments_t"
   ]
  }
 ],
 "metadata": {
  "kernelspec": {
   "display_name": "oxDNA3.3",
   "language": "python",
   "name": "python3"
  },
  "language_info": {
   "codemirror_mode": {
    "name": "ipython",
    "version": 3
   },
   "file_extension": ".py",
   "mimetype": "text/x-python",
   "name": "python",
   "nbconvert_exporter": "python",
   "pygments_lexer": "ipython3",
   "version": "3.10.8"
  }
 },
 "nbformat": 4,
 "nbformat_minor": 5
}
