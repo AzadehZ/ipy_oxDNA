{
 "cells": [
  {
   "cell_type": "code",
   "execution_count": null,
   "id": "26afc5dc-79a7-4aa9-981c-7b8a0b816ae3",
   "metadata": {},
   "outputs": [],
   "source": [
    "from ipy_oxdna.ipy_metadynamics import Metadynamics\n",
    "import os\n",
    "from ipy_oxdna.oxdna_simulation import SimulationManager, Simulation, Observable\n",
    "import matplotlib.pyplot as plt\n",
    "import numpy as np\n",
    "from collections import Counter\n",
    "\n",
    "# plt.style.use(['science', 'no-latex', 'bright'])\n",
    "%load_ext autoreload\n",
    "%autoreload 2\n",
    "%matplotlib inline"
   ]
  },
  {
   "cell_type": "code",
   "execution_count": null,
   "id": "0c9faa1b-1f64-4cdf-bcac-3b12316d6571",
   "metadata": {},
   "outputs": [],
   "source": [
    "path = os.path.abspath('/scratch/matthew/ipy_oxDNA/ipy_oxdna_examples/ico_3p/')\n",
    "# systems = sorted(os.listdir(path))\n",
    "systems = ['inital_umbrella']\n",
    "file_dir_list = [f'{path}/{sys}/' for sys in systems]\n",
    "sim_dir_list = [f'{file_dir}/meta_0' for sys, file_dir in zip(systems, file_dir_list)]\n",
    "    \n",
    "monomer_1_patch_1 = '11674,11666,11667,11668,11669,11670,11671,11672,11673'\n",
    "monomer_1_patch_2 = '12945,12953,12946,12947,12948,12949,12950,12951,12952'\n",
    "monomer_1_patch_3 = '13320,13328,13321,13322,13323,13324,13325,13326,13327'\n",
    "\n",
    "monomer_2_patch_1 = '6655,6663,6656,6657,6658,6659,6660,6661,6662'\n",
    "monomer_2_patch_2 = '6358,6350,6351,6352,6353,6354,6355,6356,6357'\n",
    "monomer_2_patch_3 = '5752,5744,5745,5746,5747,5748,5749,5750,5751'\n",
    "\n",
    "monomer_1 = f'{monomer_1_patch_1},{monomer_1_patch_2},{monomer_1_patch_3}'\n",
    "monomer_2 = f'{monomer_2_patch_1},{monomer_2_patch_2},{monomer_2_patch_3}'\n",
    "\n",
    "meta_list = [Metadynamics(file_dir, sim_dir) for file_dir, sim_dir in zip(file_dir_list, sim_dir_list)]\n",
    " \n",
    "for meta in meta_list:\n",
    "    meta.build(monomer_1, monomer_2,)"
   ]
  },
  {
   "cell_type": "code",
   "execution_count": null,
   "id": "0334b3a5-5a93-4d5f-956d-f8c5264923f5",
   "metadata": {},
   "outputs": [],
   "source": [
    "meta_arguments = [\n",
    "    '--A', '50000', #Initial bias-height increment\n",
    "    '--sigma', '5000', # Width of the deposited Gaussian\n",
    "    '--tau', '10000', # Length of a metadynamics iteration (in time steps)\n",
    "    '--dX', '0.001', # The spacing of the grid used to approximate the potential\n",
    "    '--N_walkers', '8', # Number of parallel processes to be launched\n",
    "    '--dT', '3', # Strength of the tempering (dT -> 0 leads to conventional simulations, dt -> infinity leads to conventional, non-well-tempered metadynamics)\n",
    "    '--dim', '1', # Dimension of the order parameter\n",
    "    '--p_fname', 'locs.meta', # File storing the indexes of the particles whose coordinates are used to build the order parameters\n",
    "    '--ratio', '0', # Use the angle defined from the ratio of the distances between centres of mass as the order parameter\n",
    "    '--angle', '0', # Use the angle defined from three centres of mass as the order parameter\n",
    "    '--Niter', '100000', # Number of metadynamics iterations\n",
    "    '--xmin', '0', # The lower boundary of the potential grid\n",
    "    '--xmax', '20', # The upper boundary of the potential grid\n",
    "    '--conf_interval', '100000', # Frequency with which configurations should be saved (in time steps)\n",
    "    '--save_hills', '1', # Frequency with which the potential grid is sampled\n",
    "    '--continue_run', '0', # Whether the simulation should continue or start anew\n",
    "    '--T', '45C', #The temperature at which the simulations will be run. If not set, the temperature in the initial input file will be used\n",
    "    '--use_sequential_GPUs' # Each walker will try to use a dedicated GPU: the first one will attempt to use GPU 1, the second one GPU 2, etc.\n",
    "]"
   ]
  },
  {
   "cell_type": "code",
   "execution_count": null,
   "id": "291cd930-ded5-4b40-8ed5-2d0fea55b7b3",
   "metadata": {
    "tags": []
   },
   "outputs": [],
   "source": [
    "invocation = meta_list[0].run(meta_arguments)"
   ]
  },
  {
   "cell_type": "code",
   "execution_count": null,
   "id": "f55101f7-d020-4ce6-9e7f-77b32691dcde",
   "metadata": {},
   "outputs": [],
   "source": [
    "meta_list[0].meta_analysis.plot_distance(8)"
   ]
  },
  {
   "cell_type": "code",
   "execution_count": null,
   "id": "e19fe372-b00f-4c57-a459-ee6f29306fcc",
   "metadata": {},
   "outputs": [],
   "source": [
    "meta_list[-1].meta_analysis.plot_free_energy()"
   ]
  },
  {
   "cell_type": "code",
   "execution_count": null,
   "metadata": {},
   "outputs": [],
   "source": [
    "interval = list(range(int( len(meta_arguments))))[:-1:2]\n",
    "meta_arguments_t = {meta_arguments[0 + i]:meta_arguments[1 + i] for i in interval}\n",
    "if meta_arguments[-1] == '--use_sequential_GPUs':\n",
    "    meta_arguments_t['--use_sequential_GPUs'] = True\n",
    "    \n",
    "meta_list[0].meta_arguments = meta_arguments_t"
   ]
  }
 ],
 "metadata": {
  "kernelspec": {
   "display_name": "oxDNA3.3",
   "language": "python",
   "name": "python3"
  },
  "language_info": {
   "codemirror_mode": {
    "name": "ipython",
    "version": 3
   },
   "file_extension": ".py",
   "mimetype": "text/x-python",
   "name": "python",
   "nbconvert_exporter": "python",
   "pygments_lexer": "ipython3",
   "version": "3.10.8"
  }
 },
 "nbformat": 4,
 "nbformat_minor": 5
}
