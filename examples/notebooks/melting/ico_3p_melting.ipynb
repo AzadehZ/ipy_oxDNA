{
 "cells": [
  {
   "cell_type": "markdown",
   "id": "66b04adc-3b0a-4594-af25-f9a6741b5250",
   "metadata": {},
   "source": [
    "<font size='10'><h1 align=\"center\"><font color='blue'>iPy oxDNA Examples</font></h1>"
   ]
  },
  {
   "cell_type": "markdown",
   "id": "f73ab128-0835-4ab3-a462-7b4f290cf9f6",
   "metadata": {},
   "source": [
    "<center>\n",
    "<img src=\"oxDNA.png\">\n",
    "</center>"
   ]
  },
  {
   "cell_type": "markdown",
   "id": "40ec180e-1429-41d0-b13c-25eca753ef84",
   "metadata": {},
   "source": [
    "<font size='10'><a class=\"anchor\" id=\"3\"></a> <h2 align=\"center\"> <font color='black'>Ico_3p</font></h2> "
   ]
  },
  {
   "cell_type": "code",
   "execution_count": null,
   "id": "01fe6b5c-b5b7-4a10-bcf2-856e875ca717",
   "metadata": {},
   "outputs": [],
   "source": [
    "from ipy_oxdna.umbrella_sampling import ComUmbrellaSampling, MeltingUmbrellaSampling\n",
    "from ipy_oxdna.oxdna_simulation import SimulationManager, Simulation, Observable\n",
    "from ipy_oxdna.wham_analysis import collect_coms\n",
    "import os\n",
    "import matplotlib.pyplot as plt\n",
    "from vmmc import *\n",
    "from collections import Counter\n",
    "from ipy_oxdna.parameter_search import * \n",
    "import numpy as np\n",
    "from skopt import Optimizer\n",
    "from skopt.space import Categorical, Space\n",
    "from scipy.special import logsumexp\n",
    "from copy import deepcopy\n",
    "from numba import jit\n",
    "plt.style.use(['science', 'no-latex', 'bright'])\n",
    "%load_ext autoreload\n",
    "%autoreload 2\n",
    "%matplotlib inline"
   ]
  },
  {
   "cell_type": "code",
   "execution_count": null,
   "id": "b85f4d6a-d69f-48c5-a002-2d9ee673fa2b",
   "metadata": {},
   "outputs": [],
   "source": [
    "path = os.path.abspath('/scratch/matthew/ipy_oxDNA/ipy_oxdna_examples/ico_3p/')\n",
    "\n",
    "system_name = 'inital_umbrella'\n",
    "\n",
    "conditions = ['k1_xmax10_nwin56_50C','k1_xmax10_nwin56_50C_1']\n",
    "\n",
    "systems = [f'{condition}' for condition in conditions]\n",
    "\n",
    "file_dirs = [f'{path}/{system_name}' for _ in range(len(systems))]\n",
    "\n",
    "\n",
    "monomer_1_patch_1 = '11674,11666,11667,11668,11669,11670,11671,11672,11673'\n",
    "monomer_1_patch_2 = '12945,12953,12946,12947,12948,12949,12950,12951,12952'\n",
    "monomer_1_patch_3 = '13320,13328,13321,13322,13323,13324,13325,13326,13327'\n",
    "\n",
    "monomer_2_patch_1 = '6655,6663,6656,6657,6658,6659,6660,6661,6662'\n",
    "monomer_2_patch_2 = '6358,6350,6351,6352,6353,6354,6355,6356,6357'\n",
    "monomer_2_patch_3 = '5752,5744,5745,5746,5747,5748,5749,5750,5751'\n",
    "\n",
    "monomer_1_patch_1 = ','.join(sorted(monomer_1_patch_1.split(','))[::-1])\n",
    "monomer_1_patch_2 = ','.join(sorted(monomer_1_patch_2.split(','))[::-1])\n",
    "monomer_1_patch_3 = ','.join(sorted(monomer_1_patch_3.split(','))[::-1])\n",
    "\n",
    "monomer_2_patch_1 = ','.join(sorted(monomer_2_patch_1.split(',')))\n",
    "monomer_2_patch_2 = ','.join(sorted(monomer_2_patch_2.split(',')))\n",
    "monomer_2_patch_3 = ','.join(sorted(monomer_2_patch_3.split(',')))\n",
    "\n",
    "monomer_1 = f'{monomer_1_patch_1},{monomer_1_patch_2},{monomer_1_patch_3}'\n",
    "monomer_2 = f'{monomer_2_patch_1},{monomer_2_patch_2},{monomer_2_patch_3}'\n",
    "\n",
    "\n",
    "xmin = 10\n",
    "xmax = 45\n",
    "n_windows = 56\n",
    "starting_r0 = 0.0910\n",
    "stiff = 15\n",
    "print_every = 1e4\n",
    "temperature = '50C'\n",
    "name = 'all_observables.txt'\n",
    "\n",
    "pre_eq_steps = 5e6\n",
    "eq_steps = 1e8\n",
    "prod_steps = 1e9\n",
    "\n",
    "verlet_skin = 0.5\n",
    "\n",
    "hb_contact_filename = 'hb_contacts.txt'\n",
    "particle_indexes = [monomer_1, monomer_2]\n",
    "hb_contact_observable = [{'idx':particle_indexes, 'name':f'{hb_contact_filename}', 'print_every':int(print_every)}]\n",
    "\n",
    "\n",
    "pre_equlibration_parameters_list = [{'steps':f'{pre_eq_steps}','print_energy_every': f'{pre_eq_steps}',\n",
    "                           'print_conf_interval':f'{pre_eq_steps}', 'refresh_vel': '1',\n",
    "                           'fix_diffusion': '0', 'T':f'{temperature}', 'verlet_skin': f'{verlet_skin}' }\n",
    "                            for _ in conditions]\n",
    "\n",
    "equlibration_parameters_list = [{'steps':f'{eq_steps}','print_energy_every': f'{eq_steps}',\n",
    "                           'print_conf_interval':f'{eq_steps/10}', 'refresh_vel': '1',\n",
    "                           'fix_diffusion': '0', 'T':f'{temperature}', 'verlet_skin': f'{verlet_skin}'}\n",
    "                            for _ in conditions]\n",
    "\n",
    "production_parameters_list = [{'steps':f'{prod_steps}','print_energy_every': f'{prod_steps}',\n",
    "                           'print_conf_interval':f'{prod_steps/10}', 'refresh_vel': '1',\n",
    "                           'fix_diffusion': '0', 'T':f'{temperature}', 'verlet_skin': f'{verlet_skin}'}\n",
    "                            for _ in conditions]\n",
    "\n",
    "us_list = [MeltingUmbrellaSampling(file_dir, sys, clean_build='force') for file_dir, sys in zip(file_dirs,systems)]\n",
    "\n",
    "simulation_manager = SimulationManager()"
   ]
  },
  {
   "cell_type": "code",
   "execution_count": null,
   "id": "3ab004d7-3867-47ad-aabd-9cb89348137a",
   "metadata": {},
   "outputs": [],
   "source": [
    "for us, pre_equlibration_parameters in zip(us_list, pre_equlibration_parameters_list):\n",
    "    print(us.system)\n",
    "    us.build_pre_equlibration_runs(simulation_manager, n_windows, monomer_1, monomer_2,\n",
    "                               stiff, xmin, xmax, pre_equlibration_parameters, starting_r0, pre_eq_steps,\n",
    "                               print_every=print_every, observable=True, protein=None,\n",
    "                               force_file=None, continue_run=False, name=name, custom_observable=hb_contact_observable)"
   ]
  },
  {
   "cell_type": "code",
   "execution_count": null,
   "id": "ba88115a-b28d-4a59-95b3-24c932b923df",
   "metadata": {
    "scrolled": true,
    "tags": []
   },
   "outputs": [],
   "source": [
    "simulation_manager.run(gpu_mem_block=False)"
   ]
  },
  {
   "cell_type": "code",
   "execution_count": null,
   "metadata": {},
   "outputs": [],
   "source": [
    "simulation_manager.terminate_all()"
   ]
  },
  {
   "cell_type": "code",
   "execution_count": null,
   "id": "a4a242ce-69a9-46b9-b270-988e1d088d3c",
   "metadata": {
    "execution": {
     "iopub.execute_input": "2023-10-30T01:24:01.796731Z",
     "iopub.status.busy": "2023-10-30T01:24:01.795776Z",
     "iopub.status.idle": "2023-10-30T01:24:31.058523Z",
     "shell.execute_reply": "2023-10-30T01:24:31.057936Z",
     "shell.execute_reply.started": "2023-10-30T01:24:01.796709Z"
    }
   },
   "outputs": [],
   "source": [
    "for us, equlibration_parameters in zip(us_list, equlibration_parameters_list):\n",
    "    print(us.system)\n",
    "    us.build_equlibration_runs(simulation_manager, n_windows, monomer_1, monomer_2,\n",
    "                               stiff, xmin, xmax, equlibration_parameters, print_every=print_every,\n",
    "                               observable=True, protein=None, force_file=None, continue_run=False, name=name, custom_observable=hb_contact_observable)"
   ]
  },
  {
   "cell_type": "code",
   "execution_count": null,
   "id": "8662cb23-9f54-4575-abe3-fe315b7190fa",
   "metadata": {
    "collapsed": true,
    "execution": {
     "iopub.execute_input": "2023-10-30T01:24:31.059895Z",
     "iopub.status.busy": "2023-10-30T01:24:31.059739Z",
     "iopub.status.idle": "2023-10-30T01:29:01.323143Z",
     "shell.execute_reply": "2023-10-30T01:29:01.322342Z",
     "shell.execute_reply.started": "2023-10-30T01:24:31.059881Z"
    },
    "jupyter": {
     "outputs_hidden": true
    },
    "scrolled": true,
    "tags": []
   },
   "outputs": [],
   "source": [
    "simulation_manager.run(gpu_mem_block=False)"
   ]
  },
  {
   "cell_type": "code",
   "execution_count": null,
   "id": "21995ab4-f14b-4710-a242-0464103fca50",
   "metadata": {
    "execution": {
     "iopub.execute_input": "2023-10-30T01:48:08.567089Z",
     "iopub.status.busy": "2023-10-30T01:48:08.566539Z",
     "iopub.status.idle": "2023-10-30T01:48:31.873202Z",
     "shell.execute_reply": "2023-10-30T01:48:31.872523Z",
     "shell.execute_reply.started": "2023-10-30T01:48:08.567071Z"
    }
   },
   "outputs": [],
   "source": [
    "for us, production_parameters in zip(us_list, production_parameters_list):\n",
    "    print(us.system)\n",
    "    us.build_production_runs(simulation_manager, n_windows, monomer_1, monomer_2,\n",
    "                             stiff, xmin, xmax, production_parameters,\n",
    "                             observable=True, print_every=print_every ,protein=None,\n",
    "                             force_file=None, continue_run=False, name=name, custom_observable=hb_contact_observable)"
   ]
  },
  {
   "cell_type": "code",
   "execution_count": null,
   "id": "f335f406-33ec-442b-a1f6-e59b17140f02",
   "metadata": {
    "collapsed": true,
    "execution": {
     "iopub.execute_input": "2023-10-30T01:48:32.603631Z",
     "iopub.status.busy": "2023-10-30T01:48:32.603256Z",
     "iopub.status.idle": "2023-10-30T01:48:32.643201Z",
     "shell.execute_reply": "2023-10-30T01:48:32.642166Z",
     "shell.execute_reply.started": "2023-10-30T01:48:32.603616Z"
    },
    "jupyter": {
     "outputs_hidden": true
    },
    "scrolled": true,
    "tags": []
   },
   "outputs": [],
   "source": [
    "simulation_manager.run(gpu_mem_block=False)"
   ]
  },
  {
   "cell_type": "code",
   "execution_count": null,
   "metadata": {},
   "outputs": [],
   "source": [
    "for sim in us_list[0].production_sims[:5]:\n",
    "    sim.analysis.view_last()"
   ]
  },
  {
   "cell_type": "code",
   "execution_count": null,
   "id": "b637091a",
   "metadata": {},
   "outputs": [],
   "source": [
    "wham_dir = os.path.abspath('/scratch/matthew/ipy_oxDNA/src/wham/wham')\n",
    "n_bins = '400'\n",
    "tol = '1e-12'\n",
    "n_boot = '0'\n",
    "\n",
    "monomer_1 = f'{monomer_1_patch_1},{monomer_1_patch_2},{monomer_1_patch_3}'\n",
    "monomer_2 = f'{monomer_2_patch_1},{monomer_2_patch_2},{monomer_2_patch_3}'\n",
    "\n",
    "\n",
    "xmin = [0,10]\n",
    "xmax = [10,45]\n",
    "n_windows = 56\n",
    "stiff = 15\n",
    "print_every = 1e4\n",
    "temperature = '50C'\n",
    "name = 'all_observables.txt'\n",
    "\n",
    "pre_eq_steps = 1e6\n",
    "eq_steps = 1e8\n",
    "prod_steps = 1e9\n",
    "\n",
    "for us in us_list:\n",
    "    us.observables_list = []\n",
    "    us.com_distance_observable(monomer_1, monomer_2, print_every=print_every, name=name)\n",
    "    us.hb_list_observable(print_every=print_every, only_count='true', name=name)\n",
    "    us.force_energy_observable(print_every=print_every, name=name)\n",
    "    us.potential_energy_observable(print_every=print_every, name=name)\n",
    "\n",
    "for us, xmi, xma  in zip(us_list, xmin, xmax):\n",
    "    us.wham_run(wham_dir, xmi, xma, stiff, n_bins, tol, n_boot, all_observables=True)\n",
    "    \n",
    "n_chunks = 2\n",
    "data_added_per_iteration = 2\n",
    "\n",
    "for us, xmi, xma  in zip(us_list, xmin, xmax):\n",
    "    us.wham.get_n_data_per_com_file()\n",
    "    us.convergence_analysis(n_chunks, data_added_per_iteration, wham_dir, xmin, xmax, stiff, n_bins, tol, n_boot)"
   ]
  },
  {
   "cell_type": "code",
   "execution_count": null,
   "metadata": {},
   "outputs": [],
   "source": [
    "for us in us_list:\n",
    "    us.wham.plot_truncated_free_energy()\n",
    "    plt.legend()\n",
    "    plt.title(us.system)\n",
    "    us.wham.plot_chunks_free_energy()\n",
    "    plt.legend()\n",
    "    plt.title(us.system)"
   ]
  },
  {
   "cell_type": "code",
   "execution_count": null,
   "metadata": {},
   "outputs": [],
   "source": [
    "for us in us_list:\n",
    "    us.plot_free()"
   ]
  },
  {
   "cell_type": "code",
   "execution_count": null,
   "metadata": {},
   "outputs": [],
   "source": [
    "temp_range = np.linspace(45, 65, 41)\n",
    "temp_range"
   ]
  },
  {
   "cell_type": "code",
   "execution_count": null,
   "metadata": {},
   "outputs": [],
   "source": [
    "us_list[0].obs_df = new_df"
   ]
  },
  {
   "cell_type": "code",
   "execution_count": null,
   "metadata": {},
   "outputs": [],
   "source": [
    "new_r0 = us_list[0].r0 + us_list[1].r0\n",
    "us_list[0].r0 = new_r0"
   ]
  },
  {
   "cell_type": "code",
   "execution_count": null,
   "metadata": {},
   "outputs": [],
   "source": [
    "us_list[0].r0 = list(np.linspace(0,10,57)[1:]) + us_list[1].r0"
   ]
  },
  {
   "cell_type": "code",
   "execution_count": null,
   "metadata": {},
   "outputs": [],
   "source": [
    "len(us_list[0].r0)"
   ]
  },
  {
   "cell_type": "code",
   "execution_count": null,
   "metadata": {},
   "outputs": [],
   "source": [
    "xmin = 10\n",
    "xmax = 45\n",
    "# temp_range = np.linspace(45, 65, 41)\n",
    "temp_range = np.array([50])\n",
    "# temp_range = np.array([20, 30, 40, 45, 50, 51, 52, 53, 54, 55, 56, 57, 58, 60, 70, 80])\n",
    "n_bins = 1000\n",
    "max_hb = 27\n",
    "epsilon = 1e-6\n",
    "convergence_slice = 1\n",
    "\n",
    "us_list[1].wham_cont_and_disc_temp_interp_converg_analysis(convergence_slice, temp_range,\n",
    "                                                           n_bins, xmin, xmax,max_hb,\n",
    "                                                           epsilon=epsilon, reread_files=False,\n",
    "                                                           all_observables=True)\n",
    "\n",
    "# us_list[0].discrete_temp_interp_converg_analysis(convergence_slice, max_hb, temp_range, reread_files=False, all_observables=True)\n"
   ]
  },
  {
   "cell_type": "code",
   "execution_count": null,
   "metadata": {},
   "outputs": [],
   "source": [
    "calculated_bin_centers, bin_edges = us_list[1].get_bins(xmin, xmax, n_bins=n_bins)\n",
    "\n",
    "fig, (ax1, ax2) = plt.subplots(1,2, dpi=600, figsize=(12,5), tight_layout=True)\n",
    "fig, ax = plt.subplots(dpi=200, figsize=(4,3), tight_layout=True)\n",
    "\n",
    "ax1.set_xlabel('Distance (nm)')\n",
    "ax2.set_xlabel('Number of HB')\n",
    "\n",
    "ax1.set_ylabel('Free Energy (kT)')\n",
    "# ax2.set_ylabel('Free Energy (kT)')\n",
    "\n",
    "# ax1.set_xlim(-0.6,14.5)\n",
    "# ax2.set_xlim(-0.6,29)\n",
    "# ax1.set_ylim(-0.6,20)\n",
    "\n",
    "for idx, free in enumerate(us_list[1].convergence_free):            \n",
    "    sub_index = free[0].argmin()\n",
    "    for f, temp_val in zip(free, temp_range):\n",
    "        if idx == 0:\n",
    "            ax1.plot(calculated_bin_centers*0.8518, f - f[sub_index], label=f'{temp_val}C') \n",
    "        else:\n",
    "            ax1.plot(calculated_bin_centers*0.8518, f - f[sub_index])\n",
    "        \n",
    "ax1.legend(fontsize=6)\n",
    "\n",
    "\n",
    "for idx, free_discrete in enumerate(us_list[1].convergence_discrete_free_energy):\n",
    "    for f_discrete, temp_val in zip(free_discrete, temp_range):\n",
    "        if idx == 0:\n",
    "            ax2.plot(range(max_hb+1), f_discrete - f_discrete[0], label=f'{temp_val}C')\n",
    "        else:\n",
    "            ax2.plot(range(max_hb+1), f_discrete - f_discrete[0])\n",
    "ax2.legend(fontsize=6)\n",
    "\n",
    "label = ''\n",
    "\n",
    "for idx, (inverted_finfs, x_fit, y_fit, Tm) in enumerate(zip(us_list[1].convergence_inverted_finfs, us_list[1].convergence_x_fit, us_list[1].convergence_y_fit, us_list[1].convergence_Tm)):\n",
    "    ax.scatter(temp_range, inverted_finfs, marker='o')\n",
    "    ax.plot(x_fit, y_fit, linestyle='--', linewidth=2, label=f'Tm = {Tm:.2f} C Slice {idx}')\n",
    "    # ax.axvline(x=Tm, color='r', linestyle='--', linewidth=2, label=f'{label}Tm = {Tm:.2f} °C')\n",
    "    ax.legend()   "
   ]
  },
  {
   "cell_type": "code",
   "execution_count": null,
   "metadata": {},
   "outputs": [],
   "source": [
    "us_list[0].production_sims[0].analysis.view_last()"
   ]
  },
  {
   "cell_type": "code",
   "execution_count": null,
   "metadata": {},
   "outputs": [],
   "source": [
    "us_list[0].convergence_discrete_free_energy"
   ]
  },
  {
   "cell_type": "code",
   "execution_count": null,
   "id": "fe3b612f",
   "metadata": {},
   "outputs": [],
   "source": [
    "for sim in us_list[0].pre_equlibration_sims[0:1]:\n",
    "    sim.analysis.view_init()"
   ]
  },
  {
   "cell_type": "code",
   "execution_count": null,
   "metadata": {},
   "outputs": [],
   "source": [
    "for us in us_list:\n",
    "    us.observables_list = []\n",
    "    us.com_distance_observable(monomer_1, monomer_2, print_every=print_every, name=name)\n",
    "    us.hb_list_observable(print_every=print_every, only_count='true', name=name)\n",
    "    us.force_energy_observable(print_every=print_every, name=name)\n",
    "    us.kinetic_energy_observable(print_every=print_every, name=name)\n",
    "    us.potential_energy_observable(print_every=print_every, name=name)\n",
    "\n",
    "all_observables = []\n",
    "for us in us_list:\n",
    "    all_observables.append(us.analysis.read_all_observables('prod'))"
   ]
  },
  {
   "cell_type": "code",
   "execution_count": null,
   "metadata": {},
   "outputs": [],
   "source": [
    "df_1 = us_list[0].obs_df\n",
    "df_2 = us_list[1].obs_df\n",
    "new_df = df_1 + df_2"
   ]
  },
  {
   "cell_type": "code",
   "execution_count": null,
   "metadata": {},
   "outputs": [],
   "source": [
    "names = ['backbone', 'bonded_excluded_volume', 'stacking', 'nonbonded_excluded_volume', 'hydrogen_bonding', 'cross_stacking', 'coaxial_stacking', 'debye_huckel']\n",
    "columns = ['com_distance', 'hb_list', 'force_energy', *names]\n",
    "\n",
    "my_obs = all_observables[0]\n",
    "\n",
    "fig, ax = plt.subplots(dpi=300)\n",
    "for idx, obs in enumerate(new_df):\n",
    "    plt.plot(obs['steps'], obs['hb_list'].rolling(window=1).mean(), label=f'{idx}', linewidth=1)\n",
    "# plt.legend(fontsize=1)"
   ]
  },
  {
   "cell_type": "code",
   "execution_count": null,
   "metadata": {},
   "outputs": [],
   "source": [
    "us_list[1].read_hb_contacts()"
   ]
  },
  {
   "cell_type": "code",
   "execution_count": null,
   "metadata": {},
   "outputs": [],
   "source": [
    "min_len = min([len(inner_list) for inner_list in us_list[1].hb_contacts_by_window.values()])\n",
    "truncated_hb_contacts_by_window = np.array([value[:min_len] for value in us_list[1].hb_contacts_by_window.values()]).squeeze()\n",
    "\n",
    "fig, ax = plt.subplots(dpi=300)\n",
    "for hb_contacts in truncated_hb_contacts_by_window:\n",
    "    \n",
    "    H, bins = np.histogram(hb_contacts, bins=100)\n",
    "    ax.plot(bins[1:], H)\n",
    "ax.set_xlim(-0.05, 1)"
   ]
  },
  {
   "cell_type": "code",
   "execution_count": null,
   "metadata": {},
   "outputs": [],
   "source": [
    "import matplotlib.pyplot as plt\n",
    "from mpl_toolkits.mplot3d import Axes3D\n",
    "import numpy as np\n",
    "\n",
    "# Create a figure for 3D plotting\n",
    "fig = plt.figure()\n",
    "ax = fig.add_subplot(111, projection='3d')\n",
    "\n",
    "# Side length of the cube\n",
    "a = 30\n",
    "\n",
    "# Coordinates for the cube\n",
    "cube = np.array([[0, 0, 0], [a, 0, 0], [a, a, 0], [0, a, 0],  # Bottom face\n",
    "                 [0, 0, a], [a, 0, a], [a, a, a], [0, a, a]]) # Top face\n",
    "\n",
    "# Lines to connect the corners of the cube\n",
    "lines = [[cube[i], cube[j]] for i, j in [(0, 1), (1, 2), (2, 3), (3, 0),  # Bottom face\n",
    "                                         (4, 5), (5, 6), (6, 7), (7, 4),  # Top face\n",
    "                                         (0, 4), (1, 5), (2, 6), (3, 7)]] # Sides\n",
    "\n",
    "# Plot the cube\n",
    "for line in lines:\n",
    "    ax.plot3D(*zip(*line), color=\"b\")\n",
    "\n",
    "# Create a sphere\n",
    "u, v = np.mgrid[0:2*np.pi:20j, 0:np.pi:10j]\n",
    "radius = a / 2 * np.sqrt(3)\n",
    "\n",
    "# Adjust the sphere coordinates to be centered in the cube and with correct radius\n",
    "x_corrected = radius * np.cos(u) * np.sin(v) + a/2\n",
    "y_corrected = radius * np.sin(u) * np.sin(v) + a/2\n",
    "z_corrected = radius * np.cos(v) + a/2\n",
    "\n",
    "# Plot the sphere\n",
    "ax.plot_surface(x, y, z, color='r', alpha=0.3)\n",
    "\n",
    "# Set plot limits and labels\n",
    "ax.set_xlim([0, a])\n",
    "ax.set_ylim([0, a])\n",
    "ax.set_zlim([0, a])\n",
    "ax.set_xlabel('X Axis')\n",
    "ax.set_ylabel('Y Axis')\n",
    "ax.set_zlabel('Z Axis')\n",
    "\n",
    "# Show the plot\n",
    "plt.show()\n"
   ]
  },
  {
   "cell_type": "code",
   "execution_count": null,
   "metadata": {},
   "outputs": [],
   "source": [
    "for us in us_list:\n",
    "    us.wham.plot_truncated_free_energy()\n",
    "    plt.legend()\n",
    "    plt.title(us.system)\n",
    "    us.wham.plot_chunks_free_energy()\n",
    "    plt.legend()\n",
    "    plt.title(us.system)"
   ]
  },
  {
   "cell_type": "code",
   "execution_count": null,
   "metadata": {},
   "outputs": [],
   "source": [
    "sim.oxpy_run.cms_obs((monomer_1_patch_1, monomer_2_patch_1), name='com_distance.txt', print_every=int(print_every))\n",
    "sim.build(clean_build='force')\n",
    "sim.oxpy_run.run()"
   ]
  },
  {
   "cell_type": "code",
   "execution_count": null,
   "metadata": {},
   "outputs": [],
   "source": [
    "sim.oxpy_run.process.terminate()"
   ]
  },
  {
   "cell_type": "code",
   "execution_count": null,
   "metadata": {},
   "outputs": [],
   "source": [
    "A = 0.34\n",
    "B = 2\n",
    "cupy_array = np.random.random((2, 100, 3))\n",
    "cupy_array = A + (B-A) * cupy_array"
   ]
  },
  {
   "cell_type": "code",
   "execution_count": null,
   "metadata": {},
   "outputs": [],
   "source": [
    "A = 0\n",
    "B = 2.4\n",
    "# cupy_array = np.random.random((2, 9, 3))\n",
    "# cupy_array = A + (B-A) * cupy_array\n",
    "new_pos = np.full((1), 1.5)\n",
    "# new_pos = np.full((1, 9, 3), 1.5)\n",
    "\n",
    "# pos = np.zeros((cupy_array.shape[1], cupy_array.shape[2]), dtype=np.float64)\n",
    "# np.subtract(cupy_array[0], cupy_array[1], out=pos, dtype=np.float64)\n",
    "# new_pos = np.linalg.norm(pos, axis=1)\n",
    "r0 = np.full(new_pos.shape, 1.2*1.5)\n",
    "gamma = 58.7\n",
    "denominator = 1 + np.exp((new_pos - r0)*gamma)\n",
    "term = 1 / denominator\n",
    "final = np.sum(term) / np.float64(cupy_array.shape[1])\n",
    "print(final)\n",
    "print(new_pos)\n",
    "\n",
    "def op(new_pos, gamma, r0, shape):\n",
    "    return np.sum(1 / (1 + np.exp((new_pos - r0*shape)*gamma))) / np.float64(new_pos.shape[0])"
   ]
  },
  {
   "cell_type": "code",
   "execution_count": null,
   "metadata": {},
   "outputs": [],
   "source": [
    "def op(new_pos, gamma, r0, shape):\n",
    "    return np.sum(1 / (1 + np.exp((new_pos - r0*shape)*gamma))) / np.float64(new_pos.shape[0])\n",
    "\n",
    "r0 = 1.2\n",
    "shape = 1.5\n",
    "gamma = 58.7\n",
    "\n",
    "x_vals = np.linspace(0, 2.4, 100)\n",
    "y_vals = [op(np.array([x_val]), gamma, r0, shape) for x_val in x_vals]\n",
    "\n",
    "\n",
    "plt.plot(x_vals, y_vals)"
   ]
  },
  {
   "cell_type": "code",
   "execution_count": null,
   "metadata": {},
   "outputs": [],
   "source": [
    "import numpy as np\n",
    "import matplotlib.pyplot as plt\n",
    "\n",
    "def op(new_pos, gamma, r0, shape):\n",
    "    return np.sum(1 / (1 + np.exp((new_pos - r0*shape)*gamma))) / np.float64(new_pos.shape[0])\n",
    "\n",
    "def v_gauss(new_pos, gamma, r0, shape):\n",
    "    return np.exp(-gamma * (new_pos - r0*shape)**2\n",
    "\n",
    "gamma_values = np.arange(50, 71, 10)\n",
    "r0_values = np.arange(0.8, 1.5, 0.3)\n",
    "shape_values = np.arange(0.5, 2.2, 0.8)\n",
    "\n",
    "x_vals = np.linspace(0, 5, 100)\n",
    "\n",
    "fig, axs = plt.subplots(len(r0_values), len(shape_values), figsize=(15, 15), dpi=300)\n",
    "\n",
    "for i, r0 in enumerate(r0_values):\n",
    "    for j, shape in enumerate(shape_values):\n",
    "        for gamma in gamma_values:\n",
    "            y_vals = [op(np.array([x_val]), gamma, r0, shape) for x_val in x_vals]\n",
    "            axs[i, j].plot(x_vals, y_vals, label=f'gamma={gamma}')\n",
    "        axs[i, j].legend(fontsize=6)\n",
    "        axs[i, j].set_title(f'r0={r0}, shape={shape}')\n",
    "\n",
    "plt.tight_layout()\n",
    "plt.show()"
   ]
  },
  {
   "cell_type": "markdown",
   "metadata": {},
   "source": [
    "The Gaussian biasing potential \\( V \\) in a metadynamics simulation is given by:\n",
    "\n",
    "$$\n",
    "V(x_1, y_1, z_1, x_2, y_2, z_2, r_0, \\gamma, \\lambda, h, \\sigma, s_{\\text{Prev}}) = h \\cdot \\exp\\left(-\\frac{(s_{\\text{Prev}} - CV)^2}{2\\sigma^2}\\right)\n",
    "$$\n",
    "\n",
    "where \\( CV \\) is the collective variable defined as:\n",
    "\n",
    "$$\n",
    "CV(x_1, y_1, z_1, x_2, y_2, z_2, r_0, \\gamma, \\lambda) = \\frac{1}{1 + \\exp\\left(\\gamma \\cdot (r_{\\text{Bar}} - \\lambda \\cdot r_0)\\right)}\n",
    "$$\n",
    "\n",
    "and \\( r_{\\text{Bar}} \\) is the Euclidean distance between the two particles:\n",
    "\n",
    "$$\n",
    "r_{\\text{Bar}}(x_1, y_1, z_1, x_2, y_2, z_2) = \\sqrt{(x_1 - x_2)^2 + (y_1 - y_2)^2 + (z_1 - z_2)^2}\n",
    "$$\n",
    "\n",
    "To apply a biasing force to the particles, we need to calculate the gradient of the potential \\( V \\) with respect to the coordinates of the particles. The gradient of \\( V \\) with respect to \\( x_1 \\) is:\n",
    "\n",
    "$$\n",
    "\\frac{\\partial V}{\\partial x_1} = -\\frac{\\partial}{\\partial x_1} \\left[ h \\cdot \\exp\\left(-\\frac{(s_{\\text{Prev}} - CV)^2}{2\\sigma^2}\\right) \\right]\n",
    "$$\n",
    "\n",
    "This derivative can be expanded using the chain rule:\n",
    "\n",
    "$$\n",
    "\\frac{\\partial V}{\\partial x_1} = -h \\cdot \\exp\\left(-\\frac{(s_{\\text{Prev}} - CV)^2}{2\\sigma^2}\\right) \\cdot \\left(-\\frac{2(s_{\\text{Prev}} - CV)}{2\\sigma^2}\\right) \\cdot \\frac{\\partial CV}{\\partial x_1}\n",
    "$$\n",
    "\n",
    "The derivative of \\( CV \\) with respect to \\( x_1 \\) is:\n",
    "\n",
    "$$\n",
    "\\frac{\\partial CV}{\\partial x_1} = \\frac{\\partial}{\\partial x_1} \\left[ \\frac{1}{1 + \\exp\\left(\\gamma \\cdot (r_{\\text{Bar}} - \\lambda \\cdot r_0)\\right)} \\right]\n",
    "$$\n",
    "\n",
    "This derivative can be simplified further using the chain rule and the derivative of the exponential function:\n",
    "\n",
    "$$\n",
    "\\frac{\\partial CV}{\\partial x_1} = -\\frac{\\gamma \\cdot \\exp\\left(\\gamma \\cdot (r_{\\text{Bar}} - \\lambda \\cdot r_0)\\right)}{\\left(1 + \\exp\\left(\\gamma \\cdot (r_{\\text{Bar}} - \\lambda \\cdot r_0)\\right)\\right)^2} \\cdot \\frac{\\partial r_{\\text{Bar}}}{\\partial x_1}\n",
    "$$\n",
    "\n",
    "And the derivative of \\( r_{\\text{Bar}} \\) with respect to \\( x_1 \\) is:\n",
    "\n",
    "$$\n",
    "\\frac{\\partial r_{\\text{Bar}}}{\\partial x_1} = \\frac{x_1 - x_2}{r_{\\text{Bar}}}\n",
    "$$\n",
    "\n",
    "Putting it all together, the gradient of the biasing potential \\( V \\) with respect to \\( x_1 \\) is:\n",
    "\n",
    "$$\n",
    "\\frac{\\partial V}{\\partial x_1} = h \\cdot \\exp\\left(-\\frac{(s_{\\text{Prev}} - CV)^2}{2\\sigma^2}\\right) \\cdot \\frac{(s_{\\text{Prev}} - CV)}{\\sigma^2} \\cdot \\frac{\\gamma \\cdot \\exp\\left(\\gamma \\cdot (r_{\\text{Bar}} - \\lambda \\cdot r_0)\\right)}{\\left(1 + \\exp\\left(\\gamma \\cdot (r_{\\text{Bar}} - \\lambda \\cdot r_0)\\right)\\right)^2} \\cdot \\frac{x_1 - x_2}{r_{\\text{Bar}}}\n",
    "$$\n",
    "\n",
    "This is the force component in the \\( x \\)-direction that would be applied to particle 1 due to the biasing potential in the metadynamics simulation. The force components in the \\( y \\) and \\( z \\) directions can be calculated similarly by taking the partial derivatives with respect to \\( y_1 \\) and \\( z_1 \\), respectively.\n",
    "\n",
    "where \\( \\nabla V \\) is the gradient of the potential \\( V \\) with respect to the coordinates of the particles, and the negative sign arises because the force is in the direction of the steepest descent of the potential energy surface.\n",
    "\n",
    "So, the force in each direction \\( F_x, F_y, F_z \\) can be calculated by the following components:\n",
    "\n",
    "$$\n",
    "F_x = -\\frac{\\partial V}{\\partial x_1} \\cdot \\frac{x_1 - x_2}{r_{\\text{Bar}}}\n",
    "$$\n",
    "\n",
    "$$\n",
    "F_y = -\\frac{\\partial V}{\\partial y_1} \\cdot \\frac{y_1 - y_2}{r_{\\text{Bar}}}\n",
    "$$\n",
    "\n",
    "$$\n",
    "F_z = -\\frac{\\partial V}{\\partial z_1} \\cdot \\frac{z_1 - z_2}{r_{\\text{Bar}}}\n",
    "$$"
   ]
  },
  {
   "cell_type": "markdown",
   "metadata": {},
   "source": []
  }
 ],
 "metadata": {
  "kernelspec": {
   "display_name": "Python 3",
   "language": "python",
   "name": "python3"
  },
  "language_info": {
   "codemirror_mode": {
    "name": "ipython",
    "version": 3
   },
   "file_extension": ".py",
   "mimetype": "text/x-python",
   "name": "python",
   "nbconvert_exporter": "python",
   "pygments_lexer": "ipython3",
   "version": "3.10.8"
  }
 },
 "nbformat": 4,
 "nbformat_minor": 5
}
