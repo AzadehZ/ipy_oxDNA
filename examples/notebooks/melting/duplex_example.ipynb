{
 "cells": [
  {
   "cell_type": "markdown",
   "id": "b3921e85-29c2-4cb1-9b75-6d529f041630",
   "metadata": {},
   "source": [
    "<font size='10'><h1 align=\"center\"><font color='blue'>iPy oxDNA Examples</font></h1>"
   ]
  },
  {
   "cell_type": "markdown",
   "id": "1e81dec7-5371-4bbd-a950-fb772418cb91",
   "metadata": {},
   "source": [
    "<center>\n",
    "<img src=\"oxDNA.png\">\n",
    "</center>"
   ]
  },
  {
   "cell_type": "markdown",
   "id": "ef38f84e-72df-4e15-a20b-4b40b4c52bad",
   "metadata": {},
   "source": [
    "<font size='10'><a class=\"anchor\" id=\"3\"></a> <h2 align=\"center\"> <font color='black'>Duplex Melting</font></h2> "
   ]
  },
  {
   "cell_type": "code",
   "execution_count": null,
   "id": "f629cb95-c1e5-4d18-8096-5f72f4525f5e",
   "metadata": {
    "execution": {
     "iopub.execute_input": "2023-10-30T01:55:07.152236Z",
     "iopub.status.busy": "2023-10-30T01:55:07.151882Z",
     "iopub.status.idle": "2023-10-30T01:55:16.519839Z",
     "shell.execute_reply": "2023-10-30T01:55:16.518818Z",
     "shell.execute_reply.started": "2023-10-30T01:55:07.152217Z"
    },
    "tags": []
   },
   "outputs": [],
   "source": [
    "from ipy_oxdna.umbrella_sampling import ComUmbrellaSampling, MeltingUmbrellaSampling\n",
    "from ipy_oxdna.oxdna_simulation import SimulationManager, Simulation, Observable\n",
    "from ipy_oxdna.wham_analysis import collect_coms\n",
    "import os\n",
    "import matplotlib.pyplot as plt\n",
    "from vmmc import *\n",
    "from collections import Counter\n",
    "from ipy_oxdna.parameter_search import *\n",
    "import numpy as np\n",
    "from skopt import Optimizer\n",
    "from skopt.space import Categorical, Space\n",
    "%load_ext autoreload\n",
    "%autoreload 2"
   ]
  },
  {
   "cell_type": "code",
   "execution_count": null,
   "id": "32a0cca9-bf58-4f72-90bc-7474a89461f3",
   "metadata": {
    "execution": {
     "iopub.execute_input": "2023-10-27T23:14:34.584676Z",
     "iopub.status.busy": "2023-10-27T23:14:34.584110Z",
     "iopub.status.idle": "2023-10-27T23:14:46.741010Z",
     "shell.execute_reply": "2023-10-27T23:14:46.740514Z",
     "shell.execute_reply.started": "2023-10-27T23:14:34.584658Z"
    },
    "tags": []
   },
   "outputs": [],
   "source": [
    "path = os.path.abspath('/scratch/mlsample/ipy_oxDNA/ipy_oxdna_examples/duplex_melting/multi_system_runs')\n",
    "system = f'{path}/duplex_50'\n",
    "us = MeltingUmbrellaSampling(path, system)\n"
   ]
  },
  {
   "cell_type": "code",
   "execution_count": null,
   "id": "ac73a867-1fd9-4f38-bde7-ea7af505f778",
   "metadata": {
    "tags": []
   },
   "outputs": [],
   "source": [
    "hist = us.continuous_to_discrete_unbiasing(8)"
   ]
  },
  {
   "cell_type": "code",
   "execution_count": null,
   "id": "86b4eac9-4581-4e63-a78d-d33c7e7f31f1",
   "metadata": {},
   "outputs": [],
   "source": [
    "hb_values_array = [self.hb_by_window[idx].values.T[0] for idx in range(self.n_windows)]\n",
    "\n",
    "bins = list(np.linspace(0, max_hb, max_hb +1, dtype=int))\n",
    "counts_i_b = [np.bincount(hb_values, minlength=max_hb+1) for hb_values in hb_values_array]\n",
    "numerator = np.sum(counts_i_b, axis=0)\n",
    "\n",
    "bias = [value.values.T[0] for value in self.umbrella_bias]\n",
    "F_i = [float(F) for F in self.get_biases()]\n",
    "beta = 1 / self.temperature\n",
    "denominator = np.array([sum(counts) * np.exp((F - w) * beta) for counts, F, w in zip(counts_i_b, F_i, bias)])\n",
    "   \n",
    "unbiased_discrete_window = np.array([np.zeros(max_hb + 1) for _ in range(self.n_windows)]\n",
    "for idx in range(self.n_windows):\n",
    "    np.add.at(unbiased_discrete_window[idx], hb_values_array[idx], denominator[idx])\n",
    "    \n",
    "denominator = np.sum(unbiased_discrete_window, axis=0)"
   ]
  },
  {
   "cell_type": "code",
   "execution_count": null,
   "id": "a38f7b0e-b268-4289-8276-59832504348d",
   "metadata": {
    "tags": []
   },
   "outputs": [],
   "source": [
    "true = hist[0] / hist[1]\n",
    "\n",
    "normed = true / sum(true)\n",
    "\n",
    "plt.plot(range(9), normed)"
   ]
  },
  {
   "cell_type": "code",
   "execution_count": null,
   "id": "1ecdb535-8c75-4df5-9366-ae7d41f71a20",
   "metadata": {
    "tags": []
   },
   "outputs": [],
   "source": [
    "us.calculate_melting_temperature_using_vmmc()"
   ]
  },
  {
   "cell_type": "code",
   "execution_count": null,
   "id": "56448a33-3140-4f3a-8020-f7d34c7f5c61",
   "metadata": {
    "tags": []
   },
   "outputs": [],
   "source": [
    "plt.plot(range(9), us.free_energy_discrete)"
   ]
  },
  {
   "cell_type": "code",
   "execution_count": null,
   "id": "a7c0a373-8b62-4511-9447-d9b081d943cc",
   "metadata": {
    "tags": []
   },
   "outputs": [],
   "source": [
    "us.free"
   ]
  },
  {
   "cell_type": "code",
   "execution_count": null,
   "id": "623bc166-211e-40d2-8008-03f7ef797113",
   "metadata": {
    "tags": []
   },
   "outputs": [],
   "source": [
    "us.plot_free()"
   ]
  },
  {
   "cell_type": "code",
   "execution_count": null,
   "id": "71b8b1ba-88b4-4590-9f2a-33ea5802ffd8",
   "metadata": {
    "tags": []
   },
   "outputs": [],
   "source": [
    "us.get_com_distance_by_window()\n",
    "us.get_bias_potential_value(us.wham.xmin, us.wham.xmax, us.n_windows, us.wham.umbrella_stiff)\n",
    "us.get_r0_values()"
   ]
  },
  {
   "cell_type": "code",
   "execution_count": null,
   "id": "705d6169-74ee-4b99-9120-271820540210",
   "metadata": {
    "tags": []
   },
   "outputs": [],
   "source": [
    "beta = 1/us.temperature\n",
    "beta"
   ]
  },
  {
   "cell_type": "code",
   "execution_count": null,
   "id": "035338da-c60f-4d87-a5fe-fadcafc7e91d",
   "metadata": {
    "execution": {
     "iopub.execute_input": "2023-10-27T23:14:46.742046Z",
     "iopub.status.busy": "2023-10-27T23:14:46.741890Z",
     "iopub.status.idle": "2023-10-27T23:14:47.016629Z",
     "shell.execute_reply": "2023-10-27T23:14:47.015995Z",
     "shell.execute_reply.started": "2023-10-27T23:14:46.742031Z"
    },
    "tags": []
   },
   "outputs": [],
   "source": [
    "F_i = np.array([float(F) for F in us.get_biases()])\n",
    "bins = np.linspace(us.wham.xmin, us.wham.xmax, 200)\n",
    "temp = [np.histogram(com_values, bins=bins) for com_values in us.com_by_window.values()]\n",
    "p_i_b = np.array([value[0] for value in temp])"
   ]
  },
  {
   "cell_type": "code",
   "execution_count": null,
   "id": "9b035122-bf7b-4513-bd36-228bd19f7665",
   "metadata": {
    "execution": {
     "iopub.status.busy": "2023-10-27T23:14:47.017050Z",
     "iopub.status.idle": "2023-10-27T23:14:47.017238Z",
     "shell.execute_reply": "2023-10-27T23:14:47.017156Z",
     "shell.execute_reply.started": "2023-10-27T23:14:47.017146Z"
    },
    "tags": []
   },
   "outputs": [],
   "source": [
    "numerator = np.sum(p_i_b, axis=0)"
   ]
  },
  {
   "cell_type": "code",
   "execution_count": null,
   "id": "7c183f98-3db7-4cfa-ace5-809b36268142",
   "metadata": {
    "execution": {
     "iopub.status.busy": "2023-10-27T23:14:47.017767Z",
     "iopub.status.idle": "2023-10-27T23:14:47.017937Z",
     "shell.execute_reply": "2023-10-27T23:14:47.017859Z",
     "shell.execute_reply.started": "2023-10-27T23:14:47.017850Z"
    },
    "tags": []
   },
   "outputs": [],
   "source": [
    "denominator = np.array([sum(counts) * np.exp((F - w) * beta) for counts, F, w in zip(p_i_b, F_i, window_biases)])"
   ]
  },
  {
   "cell_type": "code",
   "execution_count": null,
   "id": "067b77e0-a1e1-4e38-aeae-beb233e14f48",
   "metadata": {
    "tags": []
   },
   "outputs": [],
   "source": [
    "p_x = numerator / np.sum(denominator, axis=0)[1:]"
   ]
  },
  {
   "cell_type": "code",
   "execution_count": null,
   "id": "23fa14d3-d21b-4608-80fb-aa76e7fa1ed4",
   "metadata": {
    "execution": {
     "iopub.execute_input": "2023-10-27T23:15:19.672368Z",
     "iopub.status.busy": "2023-10-27T23:15:19.672006Z",
     "iopub.status.idle": "2023-10-27T23:15:19.965508Z",
     "shell.execute_reply": "2023-10-27T23:15:19.964879Z",
     "shell.execute_reply.started": "2023-10-27T23:15:19.672350Z"
    },
    "tags": []
   },
   "outputs": [],
   "source": [
    "def w_i(r, r0, stiff):\n",
    "    return 0.5 * float(stiff) * (r - r0)**2\n",
    "window_biases = np.array([np.array([w_i(bin_value, r0_value, us.wham.umbrella_stiff) for bin_value in bins], dtype=np.longdouble) for r0_value in us.r0])"
   ]
  },
  {
   "cell_type": "code",
   "execution_count": null,
   "id": "74565e42-3a27-4d59-a21c-b8bec5a9a920",
   "metadata": {
    "tags": []
   },
   "outputs": [],
   "source": [
    "plt.plot(bins[1:], -np.log(p_x))"
   ]
  },
  {
   "cell_type": "code",
   "execution_count": null,
   "id": "6a39d423-f468-4a76-af03-38d5cc66b32f",
   "metadata": {
    "tags": []
   },
   "outputs": [],
   "source": [
    "bias = np.array([value.values.T[0] for value in us.umbrella_bias], dtype=np.longdouble)\n",
    "bias.shape"
   ]
  },
  {
   "cell_type": "code",
   "execution_count": null,
   "id": "b4b64814-e908-4a81-9dec-07d69ee6200a",
   "metadata": {
    "tags": []
   },
   "outputs": [],
   "source": [
    "bias_term = np.exp(beta * bias, dtype=np.longdouble)\n",
    "bias_term.shape"
   ]
  },
  {
   "cell_type": "code",
   "execution_count": null,
   "id": "586544e1-4b3e-4b74-9fcb-02fb2e307f7e",
   "metadata": {
    "tags": []
   },
   "outputs": [],
   "source": [
    "ensemble_bias_numerator = np.sum(np.exp(-beta * bias_term), axis=1)\n",
    "ensemble_bias_denominator = np.full((bias_term.shape[0]), bias_term.shape[1])\n",
    "\n",
    "ensemble_bias_term = ensemble_bias_numerator / ensemble_bias_denominator\n",
    "\n",
    "                                    "
   ]
  },
  {
   "cell_type": "code",
   "execution_count": null,
   "id": "382a2399-ceb3-431c-b09d-eabebbbd42bb",
   "metadata": {
    "tags": []
   },
   "outputs": [],
   "source": [
    "weighted_bias_term = np.array([bias * ensemble_bias for bias, ensemble_bias in zip(bias_term, ensemble_bias_term)])"
   ]
  },
  {
   "cell_type": "code",
   "execution_count": null,
   "id": "267409f8-3acd-4ba1-acb3-f83daa75f856",
   "metadata": {
    "tags": []
   },
   "outputs": [],
   "source": [
    "a = [value.values.T[0] for value in list(us.com_by_window.values())]\n"
   ]
  },
  {
   "cell_type": "code",
   "execution_count": null,
   "id": "62057036-9928-485f-93a5-18db2ec7e2d1",
   "metadata": {
    "tags": []
   },
   "outputs": [],
   "source": [
    "weights = [1 / w_bias for w_bias in weighted_bias_term]\n",
    "weights[0].shape"
   ]
  },
  {
   "cell_type": "code",
   "execution_count": null,
   "id": "bcc23989-689c-44c7-ae9f-ac5d7d2bcf41",
   "metadata": {
    "tags": []
   },
   "outputs": [],
   "source": [
    "bins = np.linspace(0, us.wham.xmax, 2000)\n",
    "bins"
   ]
  },
  {
   "cell_type": "code",
   "execution_count": null,
   "id": "537baf15-2580-4486-ac6d-8c54e8866330",
   "metadata": {
    "tags": []
   },
   "outputs": [],
   "source": [
    "unbiased_counts = [np.histogram(com, bins=bins, weights=weight) for com, weight in zip(a, weights)]\n",
    "unbiased_hists = [count[0] / sum(count[0]) for count in unbiased_counts]"
   ]
  },
  {
   "cell_type": "code",
   "execution_count": null,
   "id": "cf156cb2-d771-45a0-8c0d-8b95a3896968",
   "metadata": {
    "tags": []
   },
   "outputs": [],
   "source": [
    "for hist in unbiased_hists:\n",
    "    plt.plot(bins[1:], hist)"
   ]
  },
  {
   "cell_type": "code",
   "execution_count": null,
   "id": "aae5c22e-b8ec-44da-b9ac-13eb4896aac9",
   "metadata": {
    "tags": []
   },
   "outputs": [],
   "source": [
    "counts = np.array([sum(count[0]) for count in unbiased_counts])\n",
    "counts = np.full((100), len(weights[0]))\n",
    "counts"
   ]
  },
  {
   "cell_type": "code",
   "execution_count": null,
   "id": "4f807405-b839-4bcc-9931-d6b0d7fc05fb",
   "metadata": {
    "tags": []
   },
   "outputs": [],
   "source": [
    "a_i = np.array([count * np.exp((-beta * bi) + (beta * F)) for count, bi, F in zip(counts, bias, F_i)])"
   ]
  },
  {
   "cell_type": "code",
   "execution_count": null,
   "id": "25e4a2d5-ac6c-41ce-88fb-5b1ae36e6941",
   "metadata": {
    "tags": []
   },
   "outputs": [],
   "source": [
    "p_i = [a / sum(a) for a in a_i]\n",
    "p_i"
   ]
  },
  {
   "cell_type": "code",
   "execution_count": null,
   "id": "dac81388-f23f-481d-bc9d-d4c3118bd8f6",
   "metadata": {
    "tags": []
   },
   "outputs": [],
   "source": [
    "window_weight = np.mean(a_i, axis=1) / np.sum(np.mean(a_i, axis=1))\n",
    "weighted_hist = [hists[0] * weight for hists, weight in zip(unbiased_counts, window_weight)]\n",
    "window_weight"
   ]
  },
  {
   "cell_type": "code",
   "execution_count": null,
   "id": "690cd270-1cf1-4e6f-a28f-40fc23deabde",
   "metadata": {
    "tags": []
   },
   "outputs": [],
   "source": [
    "combined = np.sum(weighted_hist, axis=0)\n",
    "combined.shape"
   ]
  },
  {
   "cell_type": "code",
   "execution_count": null,
   "id": "b65ef542-8b94-4de4-abaf-5ce6beea51d6",
   "metadata": {
    "tags": []
   },
   "outputs": [],
   "source": [
    "plt.plot(bins[1:], combined)"
   ]
  },
  {
   "cell_type": "code",
   "execution_count": null,
   "id": "a96c26f4-416a-4b01-98a1-b1eb576de901",
   "metadata": {
    "tags": []
   },
   "outputs": [],
   "source": [
    "for hist in weighted_hist:\n",
    "    plt.plot(bins[1:], hist)"
   ]
  },
  {
   "cell_type": "code",
   "execution_count": null,
   "id": "4149b932-1560-4db3-af99-8a6b43519713",
   "metadata": {
    "tags": []
   },
   "outputs": [],
   "source": [
    "bin_width = bins[2] - bins[1]\n",
    "P_i_b = [p_i / sum(p_i) for p_i in p_i_b]"
   ]
  },
  {
   "cell_type": "code",
   "execution_count": null,
   "id": "0b6904d4-4df6-44c6-9b6e-44f6c54d1ba2",
   "metadata": {
    "tags": []
   },
   "outputs": [],
   "source": [
    "plt.figure()\n",
    "for p_b in P_i_b:\n",
    "    plt.plot(bins[1:], p_b)"
   ]
  },
  {
   "cell_type": "code",
   "execution_count": null,
   "id": "ffd68ff6-c82a-491c-9af8-818304ddbfe0",
   "metadata": {
    "tags": []
   },
   "outputs": [],
   "source": [
    "window_biases.shape"
   ]
  },
  {
   "cell_type": "code",
   "execution_count": null,
   "id": "97e48bb2-a950-4df1-8cc6-c79267db9909",
   "metadata": {
    "tags": []
   },
   "outputs": [],
   "source": [
    "print(len(P_i_b))\n",
    "print(len(window_biases))\n",
    "print(len(ensemble_weight))"
   ]
  },
  {
   "cell_type": "code",
   "execution_count": null,
   "id": "5dc53165-e918-43ed-bc1e-a788c95e0fe8",
   "metadata": {
    "tags": []
   },
   "outputs": [],
   "source": [
    "\n",
    "ensemble_weight = [sum(np.exp(-beta * w)) / len(w) for w in window_biases]\n",
    "weight_per_bin = [np.exp(beta  * w) for w in window_biases]\n",
    "weigted_bias = [weight * ensemble for weight, ensemble in zip(weight_per_bin, ensemble_weight)]\n",
    "\n",
    "P_i_u = [P_i * bias[1:] / sum(P_i * bias[1:]) for P_i, bias in zip(P_i_b, weigted_bias)]\n"
   ]
  },
  {
   "cell_type": "code",
   "execution_count": null,
   "id": "9ea6fb25-e451-49af-a2d6-1b0e7145b6a9",
   "metadata": {
    "tags": []
   },
   "outputs": [],
   "source": [
    "samples_per_window = [len(window) for window in us.com_by_window.values()][0]\n",
    "F_i = [float(F) for F in F_i]\n",
    "a_i = [samples_per_window * np.exp((-beta * w) + (beta * F)) for w, F in zip(window_biases, F_i)]"
   ]
  },
  {
   "cell_type": "code",
   "execution_count": null,
   "id": "aaf3752c-a9c3-4b15-8f9a-e86dc7341d74",
   "metadata": {
    "tags": []
   },
   "outputs": [],
   "source": [
    "p_i = a_i / sum(a_i)"
   ]
  },
  {
   "cell_type": "code",
   "execution_count": null,
   "id": "baa29c16-0f6d-4b7e-a0ca-49f93c297069",
   "metadata": {
    "tags": []
   },
   "outputs": [],
   "source": [
    "P_u = np.sum([p[1:] * P_i for p, P_i in zip(p_i, P_i_u)], axis=0)\n"
   ]
  },
  {
   "cell_type": "code",
   "execution_count": null,
   "id": "0394941b-23f6-4632-a525-0e81da38e733",
   "metadata": {
    "tags": []
   },
   "outputs": [],
   "source": [
    "plt.plot(bins[1:], P_u)"
   ]
  },
  {
   "cell_type": "code",
   "execution_count": null,
   "id": "d37b326b-4b86-4bfa-b108-1af383cda407",
   "metadata": {
    "tags": []
   },
   "outputs": [],
   "source": [
    "#Define umbrella sampling param space\n",
    "param_space = Space([\n",
    "    Categorical([0.5, 1, 5, 10], name='k_value'),\n",
    "    Categorical([25, 40, 52, 70], name='temperature'),\n",
    "    Categorical([True, False], name='unique_binding'),\n",
    "    Categorical([1, 10, 100, 1000], name='print_every'),\n",
    "    Categorical([5, 10, 15, 20], name='xmax'),\n",
    "    Categorical([1e8, 5e8], name='production_step'),\n",
    "    Categorical([20, 50], name='n_window')\n",
    "])\n",
    "\n",
    "inital_parameters = [\n",
    " ['10.0', '25', 'False', '10', '5', '500000000.0', '50'],\n",
    " ['0.5', '25', 'False', '100', '10', '500000000.0', '50'],\n",
    " ['10.0', '70', 'True', '10', '20', '500000000.0', '20']\n",
    "]\n",
    "    \n",
    "#Define ground truth melting\n",
    "path = os.path.abspath('/scratch/mlsample/ipy_oxDNA/ipy_oxdna_examples')\n",
    "systems = ['duplex_melting']\n",
    "\n",
    "file_dir_list = [f'{path}/{sys}' for sys in systems]\n",
    "sim_dir_list = [f'{file_dir}/vmmc_melting_replicas/vmmc_melting_rep' for sys, file_dir in zip(systems, file_dir_list)]\n",
    "\n",
    "n_replicas = 40\n",
    "vmmc_replica_generator = VmmcReplicas()\n",
    "\n",
    "vmmc_replica_generator.multisystem_replica(\n",
    "    systems,\n",
    "    n_replicas,\n",
    "    file_dir_list,\n",
    "    sim_dir_list\n",
    ")\n",
    "vmmc_sim_list = vmmc_replica_generator.sim_list\n",
    "queue_of_simulations = vmmc_replica_generator.queue_of_sims\n",
    "\n",
    "vmmc_sim_list[0].analysis.read_vmmc_op_data()\n",
    "vmmc_sim_list[0].analysis.calculate_sampling_and_probabilities()\n",
    "vmmc_sim_list[0].analysis.calculate_and_estimate_melting_profiles()\n",
    "   \n",
    "#Define system parameters\n",
    "path = os.path.abspath('/scratch/mlsample/ipy_oxDNA/ipy_oxdna_examples/duplex_melting/parameter_scan')\n",
    "max_hb = 8\n",
    "com_list = '8,9,10,11,12,13,14,15'\n",
    "ref_list = '0,1,2,3,4,5,6,7'\n",
    "vmmc_ground_truth = vmmc_sim_list[0]\n",
    "\n",
    "#Run\n",
    "n_iterations = 5\n",
    "batch_size = 3\n",
    "run_baysian_hyperparameter_optimization(\n",
    "    param_space,\n",
    "    vmmc_ground_truth,\n",
    "    max_hb, path,\n",
    "    com_list,\n",
    "    ref_list,\n",
    "    n_iterations,\n",
    "    batch_size,\n",
    "    resume_state=None,\n",
    "    inital_parameters=inital_parameters,\n",
    "    subprocess=False\n",
    ")"
   ]
  },
  {
   "cell_type": "code",
   "execution_count": null,
   "id": "62a167dc-85ec-4d2d-bc72-6f71e418b2bc",
   "metadata": {
    "tags": []
   },
   "outputs": [],
   "source": [
    "us = MeltingUmbrellaSampling(file_dir, systems[2])"
   ]
  },
  {
   "cell_type": "code",
   "execution_count": null,
   "id": "d4cc410f-6461-41a6-8e9c-51d01d4f5db9",
   "metadata": {
    "tags": []
   },
   "outputs": [],
   "source": [
    "us_list[0].continuous_to_discrete_unbiasing(8)"
   ]
  },
  {
   "cell_type": "code",
   "execution_count": null,
   "id": "2e3ee1e7-c842-4712-ad54-0a58488e19f6",
   "metadata": {
    "tags": []
   },
   "outputs": [],
   "source": [
    "plt.plot(1 / np.exp(-us_list[0].umbrella_bias[-1] / us_list[0].temperature), rasterized=True)"
   ]
  },
  {
   "cell_type": "code",
   "execution_count": null,
   "id": "3d839753-284c-4db7-9c1e-a4a250e04f0c",
   "metadata": {
    "tags": []
   },
   "outputs": [],
   "source": [
    "a = us.unbiased_discrete_window\n",
    "b = np.sum(us.unbiased_discrete_window, axis=1, keepdims=True)\n",
    "normed = np.divide(a, b, out=np.zeros_like(a), where=b!=0)\n",
    "a"
   ]
  },
  {
   "cell_type": "code",
   "execution_count": null,
   "id": "8740f847-7444-4256-bdf8-9c742266e575",
   "metadata": {
    "tags": []
   },
   "outputs": [],
   "source": [
    "plt.plot(range(9), us_list[0].free_energy_discrete)"
   ]
  },
  {
   "cell_type": "code",
   "execution_count": null,
   "id": "ab97a43c-4545-4648-8cf7-003323272355",
   "metadata": {
    "tags": []
   },
   "outputs": [],
   "source": [
    "path = os.path.abspath('/scratch/mlsample/ipy_oxDNA/ipy_oxdna_examples/duplex_melting/parameter_scan')\n",
    "systems = ['_'.join(params) for params in inital_parameters]\n",
    "file_dir = path\n",
    "\n",
    "us_list = [MeltingUmbrellaSampling(file_dir, system) for system in systems[:2]]"
   ]
  },
  {
   "cell_type": "code",
   "execution_count": null,
   "id": "26011c99-dee4-4679-a9db-680f9f4cc896",
   "metadata": {
    "tags": []
   },
   "outputs": [],
   "source": [
    "us.calculate_melting_temperature_using_vmmc()"
   ]
  },
  {
   "cell_type": "markdown",
   "id": "44d0a577-3956-44aa-a207-a79bfdb755a3",
   "metadata": {},
   "source": [
    "<font size='10'><a class=\"anchor\" id=\"3\"></a> <h2 align=\"center\"> <font color='black'>Potential Energy Umbrella Temperature Interpolation</font></h2> "
   ]
  },
  {
   "cell_type": "code",
   "execution_count": null,
   "id": "c26b46ef-47fa-486a-a05f-d9d3cf90bc53",
   "metadata": {},
   "outputs": [],
   "source": [
    "string =\"\"\"\n",
    "10.0_25_False_10_5_500000000.0_50\n",
    "0.5_25_False_100_10_500000000.0_50\n",
    "10.0_70_True_10_20_500000000.0_20\n",
    "\"\"\".strip().split('\\n')\n",
    "inital_parameters = []\n",
    "for st in string:\n",
    "    inital_parameters.append(st.split('_'))\n",
    "inital_parameters"
   ]
  },
  {
   "cell_type": "code",
   "execution_count": null,
   "id": "773415e1-0920-417b-9cb3-e0eb871b3c51",
   "metadata": {
    "execution": {
     "iopub.execute_input": "2023-10-30T04:01:55.209185Z",
     "iopub.status.busy": "2023-10-30T04:01:55.208503Z",
     "iopub.status.idle": "2023-10-30T04:01:55.907189Z",
     "shell.execute_reply": "2023-10-30T04:01:55.905860Z",
     "shell.execute_reply.started": "2023-10-30T04:01:55.209160Z"
    },
    "tags": []
   },
   "outputs": [],
   "source": [
    "path = os.path.abspath('/scratch/mlsample/ipy_oxDNA/ipy_oxdna_examples/duplex_melting/')\n",
    "\n",
    "system_name = 'multi_system_runs'\n",
    "\n",
    "# k_value_list = ['5_normal_1', '5_unique_1']\n",
    "k_value_list = ['10']\n",
    "\n",
    "systems = [f'duplex_52_{stiff}' for stiff in k_value_list]\n",
    "\n",
    "file_dirs = [f'{path}/{system_name}' for _ in range(len(systems))]\n",
    "\n",
    "\n",
    "com_list = '8,9,10,11,12,13,14,15'\n",
    "ref_list = '0,1,2,3,4,5,6,7'\n",
    "xmin = 0\n",
    "xmax = 10\n",
    "n_windows = 100\n",
    "starting_r0 = 1\n",
    "steps = 1e6\n",
    "# stiff = 0.4\n",
    "\n",
    "\n",
    "pre_equlibration_parameters_list = [{'backend':'CPU','steps':'1e6','print_energy_every': '4e7',\n",
    "                           'print_conf_interval':'4e7', \"CUDA_list\": \"no\",\n",
    "                           'use_edge': 'false', 'refresh_vel': '1',\n",
    "                           'fix_diffusion': '0', 'fix_diffusion_every': '1000',\n",
    "                           'T':f'52C'} for _ in k_value_list]\n",
    "\n",
    "equlibration_parameters_list = [{'backend':'CPU','steps':'5e7','print_energy_every': '4e7',\n",
    "                           'print_conf_interval':'4e7', \"CUDA_list\": \"no\",\n",
    "                           'use_edge': 'false', 'refresh_vel': '1',\n",
    "                           'fix_diffusion': '0', 'fix_diffusion_every': '1000',\n",
    "                           'T':f'52C'} for _ in k_value_list]\n",
    "\n",
    "production_parameters_list = [{'backend':'CPU','steps':'1e8','print_energy_every': '1e8',\n",
    "                        'print_conf_interval':'1e8', \"CUDA_list\": \"no\",\n",
    "                        'use_edge': 'false', 'refresh_vel': '1',\n",
    "                        'fix_diffusion': '0', 'max_io':'100', 'fix_diffusion_every': '1000',\n",
    "                        'T':f'52C'} for temp in k_value_list]\n",
    "\n",
    "us_list = [MeltingUmbrellaSampling(file_dir, sys, clean_build='force') for file_dir, sys in zip(file_dirs,systems)]\n",
    "\n",
    "simulation_manager = SimulationManager()"
   ]
  },
  {
   "cell_type": "code",
   "execution_count": null,
   "id": "62fcc759-34bd-487d-90d2-d448b165a1d9",
   "metadata": {
    "execution": {
     "iopub.execute_input": "2023-10-30T04:02:00.633555Z",
     "iopub.status.busy": "2023-10-30T04:02:00.633036Z",
     "iopub.status.idle": "2023-10-30T04:02:08.015024Z",
     "shell.execute_reply": "2023-10-30T04:02:08.014097Z",
     "shell.execute_reply.started": "2023-10-30T04:02:00.633531Z"
    }
   },
   "outputs": [],
   "source": [
    "for us, pre_equlibration_parameters, stiff in zip(us_list, pre_equlibration_parameters_list, k_value_list):\n",
    "    print(us.system)\n",
    "    us.build_pre_equlibration_runs(simulation_manager, n_windows, com_list, ref_list,\n",
    "                               stiff, xmin, xmax, pre_equlibration_parameters, starting_r0, steps,\n",
    "                               print_every=1000, observable=True, protein=None,\n",
    "                               force_file=None, continue_run=False)"
   ]
  },
  {
   "cell_type": "code",
   "execution_count": null,
   "id": "43ac5bde-a668-4829-a431-9b71a4629a66",
   "metadata": {
    "execution": {
     "iopub.execute_input": "2023-10-30T04:02:08.017062Z",
     "iopub.status.busy": "2023-10-30T04:02:08.016654Z",
     "iopub.status.idle": "2023-10-30T04:02:42.124628Z",
     "shell.execute_reply": "2023-10-30T04:02:42.124020Z",
     "shell.execute_reply.started": "2023-10-30T04:02:08.017044Z"
    },
    "scrolled": true,
    "tags": []
   },
   "outputs": [],
   "source": [
    "simulation_manager.worker_manager(cpu_run=True, gpu_mem_block=False)"
   ]
  },
  {
   "cell_type": "code",
   "execution_count": null,
   "id": "bc851f44-d688-4e5c-8af6-ab8641c5b78f",
   "metadata": {
    "execution": {
     "iopub.execute_input": "2023-10-30T04:02:42.126235Z",
     "iopub.status.busy": "2023-10-30T04:02:42.125560Z",
     "iopub.status.idle": "2023-10-30T04:02:55.519413Z",
     "shell.execute_reply": "2023-10-30T04:02:55.518342Z",
     "shell.execute_reply.started": "2023-10-30T04:02:42.126216Z"
    }
   },
   "outputs": [],
   "source": [
    "for us, equlibration_parameters, stiff in zip(us_list, equlibration_parameters_list, k_value_list):\n",
    "    print(us.system)\n",
    "    us.build_equlibration_runs(simulation_manager, n_windows, com_list, ref_list,\n",
    "                               stiff, xmin, xmax, equlibration_parameters,\n",
    "                               print_every=1000, observable=True, protein=None,\n",
    "                               force_file=None, continue_run=False)"
   ]
  },
  {
   "cell_type": "code",
   "execution_count": null,
   "id": "cd5c15a2-db50-4b24-8c14-e910a468873d",
   "metadata": {},
   "outputs": [],
   "source": [
    "for us in us_list[1:]:\n",
    "    us.modify_topology_for_unique_pairing()"
   ]
  },
  {
   "cell_type": "code",
   "execution_count": null,
   "id": "fe6715b3-da1f-4c9f-95bd-377370b9b0f5",
   "metadata": {
    "execution": {
     "iopub.execute_input": "2023-10-30T04:02:55.521785Z",
     "iopub.status.busy": "2023-10-30T04:02:55.521374Z",
     "iopub.status.idle": "2023-10-30T04:25:02.534066Z",
     "shell.execute_reply": "2023-10-30T04:25:02.532984Z",
     "shell.execute_reply.started": "2023-10-30T04:02:55.521765Z"
    },
    "scrolled": true,
    "tags": []
   },
   "outputs": [],
   "source": [
    "simulation_manager.worker_manager(cpu_run=True, gpu_mem_block=False)"
   ]
  },
  {
   "cell_type": "code",
   "execution_count": null,
   "id": "4494da73-842d-4d72-b30f-2fd4be972a79",
   "metadata": {
    "execution": {
     "iopub.execute_input": "2023-10-30T04:25:02.535652Z",
     "iopub.status.busy": "2023-10-30T04:25:02.535430Z",
     "iopub.status.idle": "2023-10-30T04:25:25.070357Z",
     "shell.execute_reply": "2023-10-30T04:25:25.069341Z",
     "shell.execute_reply.started": "2023-10-30T04:25:02.535630Z"
    }
   },
   "outputs": [],
   "source": [
    "for us, production_parameters, stiff in zip(us_list, production_parameters_list, k_value_list):\n",
    "    print(us.system)\n",
    "    us.build_production_runs(simulation_manager, n_windows, com_list, ref_list,\n",
    "                             stiff, xmin, xmax, production_parameters,\n",
    "                             observable=True, print_every=1e1 ,protein=None,\n",
    "                             force_file=None, continue_run=False)"
   ]
  },
  {
   "cell_type": "code",
   "execution_count": null,
   "id": "5dd1e133-c2c2-46de-8848-72976647f190",
   "metadata": {
    "execution": {
     "iopub.execute_input": "2023-10-30T04:25:25.072184Z",
     "iopub.status.busy": "2023-10-30T04:25:25.071716Z",
     "iopub.status.idle": "2023-10-30T04:25:25.184350Z",
     "shell.execute_reply": "2023-10-30T04:25:25.182680Z",
     "shell.execute_reply.started": "2023-10-30T04:25:25.072162Z"
    },
    "scrolled": true,
    "tags": []
   },
   "outputs": [],
   "source": [
    "simulation_manager.run(cpu_run=True, gpu_mem_block=False)"
   ]
  },
  {
   "cell_type": "code",
   "execution_count": null,
   "id": "cd888f22-2c4b-4267-8584-e0b26d23d256",
   "metadata": {
    "execution": {
     "iopub.execute_input": "2023-10-30T04:33:24.446138Z",
     "iopub.status.busy": "2023-10-30T04:33:24.445664Z",
     "iopub.status.idle": "2023-10-30T04:37:01.614371Z",
     "shell.execute_reply": "2023-10-30T04:37:01.613565Z",
     "shell.execute_reply.started": "2023-10-30T04:33:24.446100Z"
    },
    "tags": []
   },
   "outputs": [],
   "source": [
    "for us in us_list:\n",
    "    us.com_distance_observable(com_list, ref_list)\n",
    "    us.hb_list_observable(print_every=1)\n",
    "\n",
    "\n",
    "for us in us_list:\n",
    "    plt.figure(dpi=200)\n",
    "    for idx in range(0,100,1):\n",
    "        us.analysis.view_observable('prod', idx, observable=us.observables_list[1], sliding_window=False)\n",
    "    # plt.legend([us.system], fontsize=7)"
   ]
  },
  {
   "cell_type": "code",
   "execution_count": null,
   "id": "7d043e83-6080-4ff4-8567-51e98b3d8d3f",
   "metadata": {
    "tags": []
   },
   "outputs": [],
   "source": [
    "fig, ax = plt.subplots()\n",
    "\n",
    "vmmc_sim_list[1].analysis.plot_weighted_histogram(n_bins=1000, label='vmmc 52C', ax=ax)\n",
    "for us in us_list:\n",
    "    us.wham.plot_free_energy(ax = ax)\n",
    "plt.legend()\n",
    "plt.xlim(-1, 13)\n",
    "plt.ylim(-0.5,10)"
   ]
  },
  {
   "cell_type": "code",
   "execution_count": null,
   "id": "de0f32e4-eda5-4db2-9083-48692e0afeaf",
   "metadata": {
    "tags": []
   },
   "outputs": [],
   "source": [
    "vmmc_sim_list[1].analysis.read_vmmc_op_data()\n",
    "vmmc_sim_list[1].analysis.calculate_sampling_and_probabilities()\n"
   ]
  },
  {
   "cell_type": "code",
   "execution_count": null,
   "id": "e97f4bdc-6026-41e7-92ae-bb9566ea6dc7",
   "metadata": {
    "tags": []
   },
   "outputs": [],
   "source": [
    "us_list[0].read_potential_energy()"
   ]
  },
  {
   "cell_type": "code",
   "execution_count": null,
   "id": "b3d35898-a4db-4347-a429-53b0d6650eed",
   "metadata": {
    "collapsed": true,
    "jupyter": {
     "outputs_hidden": true
    },
    "tags": []
   },
   "outputs": [],
   "source": [
    "e_state = [states.sum(axis=1) for states in us_list[0].potential_energy_by_window.values()]\n",
    "e_state"
   ]
  },
  {
   "cell_type": "code",
   "execution_count": null,
   "id": "7f605014-b0a3-4a6a-ac7c-ef88fe15d9e7",
   "metadata": {
    "tags": []
   },
   "outputs": [],
   "source": [
    "#Constants\n",
    "STCK_FACT_EPS_OXDNA2 = 2.6717\n",
    "STCK_BASE_EPS_OXDNA2 = 1.3523\n",
    "\n",
    "# Initialize the variables\n",
    "old_temperature = us_list[0].temperature\n",
    "\n",
    "temperature_range = np.array((range(30, 70, 2)))\n",
    "new_temperatures = (temperature_range + 273.15) / 3000\n",
    "e_state = [states.sum(axis=1) for states in us_list[0].potential_energy_by_window.values()]\n",
    "e_stack = [states['stacking'] for states in us_list[0].potential_energy_by_window.values()]\n",
    "e_ext = 0  # Replace with actual value (external energy term)\n",
    "am = 1  # Replace with actual value (the increment amount)\n",
    "w = 0  # Replace with actual value (the weight)\n",
    "\n",
    "# Initialize a list to store the results\n",
    "results_list = []\n",
    "\n",
    "for window_idx, (e_state_window, e_stack_window) in enumerate(zip(e_state, e_stack)):\n",
    "    n_data_points = len(e_state_window)\n",
    "    n_temps = len(new_temperatures)\n",
    "\n",
    "    # Initialize a NumPy array for this window\n",
    "    results_window = np.zeros((n_temps, n_data_points))\n",
    "\n",
    "    # Calculate et for the old temperature (simtemp in C++)\n",
    "    et_old = (e_stack_window * STCK_FACT_EPS_OXDNA2) / (STCK_BASE_EPS_OXDNA2 + old_temperature * STCK_FACT_EPS_OXDNA2)\n",
    "\n",
    "    # Calculate e0 for the old temperature\n",
    "    e0_old = e_state_window - old_temperature * et_old\n",
    "\n",
    "    for temp_idx, new_temp in enumerate(new_temperatures):\n",
    "        # Calculate et for the new temperature\n",
    "        et_new = (e_stack_window * STCK_FACT_EPS_OXDNA2) / (STCK_BASE_EPS_OXDNA2 + new_temp * STCK_FACT_EPS_OXDNA2)\n",
    "\n",
    "        # Calculate e0 for the new temperature\n",
    "        e0_new = e_state_window - new_temp * et_new\n",
    "\n",
    "        # Calculate the expression inside exp() for the new temperature\n",
    "        energy_term = -(e0_old + e_ext + new_temp * et_new) / new_temp + (e0_old + e_ext + old_temperature * et_old) / old_temperature\n",
    "\n",
    "        # Update results_window\n",
    "        results_window[temp_idx, :] = am * np.exp(energy_term.values)\n",
    "\n",
    "    # Add results_window to results_list\n",
    "    results_list.append(results_window)\n",
    "\n"
   ]
  },
  {
   "cell_type": "code",
   "execution_count": null,
   "id": "65d0f5c3-787b-4d1c-908d-e98723484b96",
   "metadata": {
    "tags": []
   },
   "outputs": [],
   "source": [
    "results_array[0][1]"
   ]
  },
  {
   "cell_type": "code",
   "execution_count": null,
   "id": "997f1fe8-ce5b-4b5c-aae8-fba661112679",
   "metadata": {
    "tags": []
   },
   "outputs": [],
   "source": [
    "us_list[0].termperature_interpolation(8, temperature_range)"
   ]
  },
  {
   "cell_type": "code",
   "execution_count": null,
   "id": "54193446-b9f6-4c4a-ac29-6b278f6fe56b",
   "metadata": {
    "tags": []
   },
   "outputs": [],
   "source": [
    "bias = [\n",
    "    [biases[0] / temp_bias\n",
    "     for temp_bias in temperature_bias\n",
    "    ] \n",
    "     for biases,temperature_bias in zip(bias, results_list)\n",
    "]"
   ]
  },
  {
   "cell_type": "code",
   "execution_count": null,
   "id": "e37cf969-918e-48ce-80cc-1cac2ddfa88e",
   "metadata": {},
   "outputs": [],
   "source": [
    "bias"
   ]
  },
  {
   "cell_type": "code",
   "execution_count": null,
   "id": "21cddfeb-e16e-4f22-aa45-186090818663",
   "metadata": {
    "tags": []
   },
   "outputs": [],
   "source": [
    "us_list[0].potential_energy_by_window[0].sum(axis=1)"
   ]
  },
  {
   "cell_type": "code",
   "execution_count": null,
   "id": "f5dd210e-49a3-4bc9-83ff-e037cc97706a",
   "metadata": {
    "tags": []
   },
   "outputs": [],
   "source": []
  },
  {
   "cell_type": "code",
   "execution_count": null,
   "id": "71f415f4-8a2e-46d8-9fdc-96008f7a7c23",
   "metadata": {
    "tags": []
   },
   "outputs": [],
   "source": [
    "energy_bias_per_window_per_temperature, new_potential_energies, old_potential_energies = us_list[0]._calculate_energy_bias(temp_range)"
   ]
  },
  {
   "cell_type": "code",
   "execution_count": null,
   "id": "bc62f7fb-dd2e-4ada-967d-dcdfff9d903b",
   "metadata": {},
   "outputs": [],
   "source": [
    "np.exp(old_potential_energies[0].sum(axis=1) / old_temperature - new_potential_energies[0][0] / new_temperatures[0])"
   ]
  },
  {
   "cell_type": "code",
   "execution_count": null,
   "id": "854da194-781a-4691-a327-9b036061a06d",
   "metadata": {},
   "outputs": [],
   "source": [
    "old_potential_energies[7]['stacking']"
   ]
  },
  {
   "cell_type": "code",
   "execution_count": null,
   "id": "a8e9e73a-76ca-4f45-a1ea-63bf77402620",
   "metadata": {},
   "outputs": [],
   "source": [
    "old_epsilons = 1.3448 + 2.6568 * old_temperature\n",
    "new_epsilon = 1.3448 + 2.6568 * new_temperatures"
   ]
  },
  {
   "cell_type": "code",
   "execution_count": null,
   "id": "882a8648-01a2-4840-9ef6-410ae873d61d",
   "metadata": {},
   "outputs": [],
   "source": [
    "old_epsilons / new_epsilon"
   ]
  },
  {
   "cell_type": "code",
   "execution_count": null,
   "id": "69a1313d-b64d-4483-94ab-06894213e50b",
   "metadata": {},
   "outputs": [],
   "source": [
    "old_temperature = us_list[0].temperature\n",
    "new_temperatures = (temp_range + 273.15) / 3000\n",
    "energy_bias_per_window_per_temperature = [\n",
    "    [np.exp( (old_potential.sum(axis=1) / old_temperature) - (new_pot / new_temp) )\n",
    "     for new_pot, new_temp in zip(new_potential, new_temperatures)\n",
    "    ]\n",
    "    for old_potential, new_potential in zip(old_potential_energies, new_potential_energies)\n",
    "]"
   ]
  },
  {
   "cell_type": "code",
   "execution_count": null,
   "id": "d1515b83-1ed2-42b7-bfef-7cdac28eb082",
   "metadata": {
    "tags": []
   },
   "outputs": [],
   "source": [
    "energy_bias_per_window_per_temperature[99]"
   ]
  },
  {
   "cell_type": "code",
   "execution_count": null,
   "id": "efcae80b-5029-4235-89a9-099551202570",
   "metadata": {
    "tags": []
   },
   "outputs": [],
   "source": [
    "temp_range = np.array((range(30, 70, 2)))\n",
    "us_list[0].termperature_interpolation(8, temp_range)"
   ]
  },
  {
   "cell_type": "code",
   "execution_count": null,
   "id": "6084830c-a9f9-4071-8911-bc5c3bf5b8b4",
   "metadata": {
    "collapsed": true,
    "jupyter": {
     "outputs_hidden": true
    },
    "tags": []
   },
   "outputs": [],
   "source": [
    "us_list[0].prob_discrete"
   ]
  },
  {
   "cell_type": "code",
   "execution_count": null,
   "id": "ba33bcc5-84a0-4b6a-a84b-e4eae9038b18",
   "metadata": {
    "tags": []
   },
   "outputs": [],
   "source": [
    "plt.plot(range(9) ,vmmc_sim_list[1].statistics['wt_free'])\n",
    "for temp,free in zip(temp_range, us_list[0].free_energy_discrete):\n",
    "    plt.plot(range(9), free, label=f'{temp}')\n",
    "plt.legend()\n"
   ]
  },
  {
   "cell_type": "code",
   "execution_count": null,
   "id": "5a599ffb-2912-4ba7-969c-caa60a559769",
   "metadata": {
    "tags": []
   },
   "outputs": [],
   "source": [
    "vmmc_sim_list[1].statistics"
   ]
  },
  {
   "cell_type": "code",
   "execution_count": null,
   "id": "ad6526fc-5598-4867-97b0-89e47fb309f3",
   "metadata": {
    "tags": []
   },
   "outputs": [],
   "source": [
    "us_list[0].continuous_to_discrete_unbiasing(8)"
   ]
  },
  {
   "cell_type": "code",
   "execution_count": null,
   "id": "2a6e4569-c44b-4df6-85a2-216f79c2b123",
   "metadata": {
    "tags": []
   },
   "outputs": [],
   "source": [
    "us_list[0].free_energy_discrete"
   ]
  },
  {
   "cell_type": "code",
   "execution_count": null,
   "id": "7c268f89-1c77-4d16-b2ac-b44567acc7c6",
   "metadata": {},
   "outputs": [],
   "source": [
    "us_list[0].make_last_hist_files()"
   ]
  },
  {
   "cell_type": "code",
   "execution_count": null,
   "id": "b0490c33-f347-4ec4-8406-bf1849c08525",
   "metadata": {},
   "outputs": [],
   "source": [
    "us_list[0].run_wham_discete(8)"
   ]
  },
  {
   "cell_type": "code",
   "execution_count": null,
   "id": "91178d4a-c838-4f5d-83e8-21a22d9d99c1",
   "metadata": {},
   "outputs": [],
   "source": [
    "us_list[0].homebrew_discrete_wham(8)"
   ]
  },
  {
   "cell_type": "code",
   "execution_count": null,
   "id": "59f607bd-da6e-4542-bfe8-476d90c89e3b",
   "metadata": {
    "tags": []
   },
   "outputs": [],
   "source": [
    "plt.figure()\n",
    "plt.plot(range(9) ,vmmc_sim_list[1].statistics['wt_free'])\n",
    "plt.plot(range(9), us_list[0].free_energy_discrete)\n",
    "plt.legend(['vmmc', 'us'])"
   ]
  },
  {
   "cell_type": "code",
   "execution_count": null,
   "id": "61560d48-c1cb-4a92-a6e8-eadef1dd0754",
   "metadata": {},
   "outputs": [],
   "source": []
  },
  {
   "cell_type": "code",
   "execution_count": null,
   "id": "748533fb-9cab-4b1e-a30e-1caa5ce6bc75",
   "metadata": {
    "tags": []
   },
   "outputs": [],
   "source": [
    "wham_dir = os.path.abspath('/scratch/mlsample/ipy_oxDNA/wham/wham')\n",
    "n_bins = '200'\n",
    "tol = '1e-5'\n",
    "n_boot = '0'\n",
    "for us, stiff in zip(us_list, k_value_list):\n",
    "    us.wham_run(wham_dir, xmin, xmax, 5, n_bins, tol, n_boot)"
   ]
  },
  {
   "cell_type": "code",
   "execution_count": null,
   "id": "2777b2f9-b906-4175-95b9-47c9e8778796",
   "metadata": {},
   "outputs": [],
   "source": [
    "for file in us_list[0].production_sims[0].sim_files.file_list:\n",
    "    if 'potential_energy.txt' in file:\n",
    "        print(file)"
   ]
  },
  {
   "cell_type": "code",
   "execution_count": null,
   "id": "6b1ebcc5-b082-48f7-bbfd-8073c162e311",
   "metadata": {
    "tags": []
   },
   "outputs": [],
   "source": [
    "for us in us_list:\n",
    "    us.read_potential_energy()"
   ]
  },
  {
   "cell_type": "code",
   "execution_count": null,
   "id": "c4d93b70-2d60-4465-bc76-2cf71ccb2c85",
   "metadata": {},
   "outputs": [],
   "source": [
    "us_list[0].potential_energy_by_window"
   ]
  },
  {
   "cell_type": "code",
   "execution_count": null,
   "id": "760424e4-79eb-4427-8b63-f57b57613923",
   "metadata": {},
   "outputs": [],
   "source": [
    "temperature_range = np.linspace(20, 70, 10)\n",
    "_calculate_energy_bias"
   ]
  },
  {
   "cell_type": "code",
   "execution_count": null,
   "id": "be4d1ec0-cc81-41d8-91d0-71dc532f7889",
   "metadata": {
    "tags": []
   },
   "outputs": [],
   "source": [
    "import pyarrow\n",
    "print(pyarrow.__version__)\n"
   ]
  },
  {
   "cell_type": "markdown",
   "id": "adb05434-272b-416c-bfb4-3a06d5708cbd",
   "metadata": {},
   "source": [
    "<font size='10'><a class=\"anchor\" id=\"3\"></a> <h2 align=\"center\"> <font color='black'>Potential Energy Observalble</font></h2> "
   ]
  },
  {
   "cell_type": "code",
   "execution_count": null,
   "id": "620f9325-78fe-4cd6-93ec-903db4514941",
   "metadata": {},
   "outputs": [],
   "source": [
    "path = os.path.abspath('/scratch/mlsample/ipy_oxDNA/ipy_oxdna_examples/duplex_melting/')\n",
    "\n",
    "file_dir = f'{path}'\n",
    "sim_dir = f'{file_dir}/potential_energy'\n",
    "\n",
    "sim = Simulation(file_dir, sim_dir)\n",
    "\n",
    "\n",
    "potential_energy_observable = Observable.potential_energy(print_every=100, split=True, name='potential_energy.txt')\n",
    "simulation_manager = SimulationManager()\n",
    "\n",
    "input_params = {\n",
    "            \"interaction_type\": \"DNA2\",\n",
    "            \"salt_concentration\": \"0.1\",\n",
    "            \"sim_type\": \"MD\",\n",
    "            \"backend\": \"CPU\",\n",
    "            \"backend_precision\": \"mixed\",\n",
    "            \"use_edge\": \"1\",\n",
    "            \"edge_n_forces\": \"1\",\n",
    "            \"CUDA_list\": \"verlet\",\n",
    "            \"CUDA_sort_every\": \"0\",\n",
    "            \"max_density_multiplier\": \"3\",\n",
    "            \"steps\": \"1e7\",\n",
    "            \"ensemble\": \"nvt\",\n",
    "            \"thermostat\": \"john\",\n",
    "            \"T\": \"50C\",\n",
    "            \"dt\": \"0.003\",\n",
    "            \"verlet_skin\": \"0.5\",\n",
    "            \"diff_coeff\": \"2.5\",\n",
    "            \"newtonian_steps\": \"103\",\n",
    "            \"lastconf_file\": \"last_conf.dat\",\n",
    "            \"trajectory_file\": \"trajectory.dat\",\n",
    "            \"refresh_vel\": \"1\",\n",
    "            \"no_stdout_energy\": \"0\",\n",
    "            \"restart_step_counter\": \"1\",\n",
    "            \"energy_file\": \"energy.dat\",\n",
    "            \"print_conf_interval\": \"1e4\",\n",
    "            \"print_energy_every\": \"1e4\",\n",
    "            \"time_scale\": \"linear\",\n",
    "            \"max_io\": \"5\",\n",
    "            \"external_forces\": \"0\",\n",
    "            \"external_forces_file\": \"forces.json\",\n",
    "            \"external_forces_as_JSON\": \"true\"\n",
    "            }"
   ]
  },
  {
   "cell_type": "code",
   "execution_count": null,
   "id": "e7d532d2-19d1-4058-94f3-a61b218cd205",
   "metadata": {},
   "outputs": [],
   "source": [
    "sim.build(clean_build='force')\n",
    "sim.add_observable(potential_energy_observable)\n",
    "sim.input_file(input_params)\n",
    "\n",
    "simulation_manager.queue_sim(sim)"
   ]
  },
  {
   "cell_type": "code",
   "execution_count": null,
   "id": "66886d09-ddd9-45da-a3bd-212ad1a3274b",
   "metadata": {
    "tags": []
   },
   "outputs": [],
   "source": [
    "simulation_manager.run(cpu_run=True, gpu_mem_block=False)"
   ]
  },
  {
   "cell_type": "markdown",
   "id": "9ab71a07-72ba-40a1-b034-338b090b1e1a",
   "metadata": {},
   "source": [
    "<font size='10'><a class=\"anchor\" id=\"3\"></a> <h2 align=\"center\"> <font color='black'>Parameter Scan</font></h2> "
   ]
  },
  {
   "cell_type": "code",
   "execution_count": null,
   "id": "a12bcd08-77cc-4b35-be7a-8c161233013c",
   "metadata": {
    "tags": []
   },
   "outputs": [],
   "source": [
    "\n",
    "\n",
    "path = os.path.abspath('/scratch/mlsample/ipy_oxDNA/ipy_oxdna_examples')\n",
    "systems = ['duplex_melting']\n",
    "\n",
    "file_dir_list = [f'{path}/{sys}' for sys in systems]\n",
    "sim_dir_list = [f'{file_dir}/vmmc_melting_replicas/vmmc_melting_rep' for sys, file_dir in zip(systems, file_dir_list)]\n",
    "\n",
    "n_replicas = 40\n",
    "vmmc_replica_generator = VmmcReplicas()\n",
    "\n",
    "vmmc_replica_generator.multisystem_replica(\n",
    "    systems,\n",
    "    n_replicas,\n",
    "    file_dir_list,\n",
    "    sim_dir_list\n",
    ")\n",
    "vmmc_sim_list = vmmc_replica_generator.sim_list\n",
    "queue_of_simulations = vmmc_replica_generator.queue_of_sims\n",
    "\n",
    "vmmc_sim_list[0].analysis.read_vmmc_op_data()\n",
    "vmmc_sim_list[0].analysis.calculate_sampling_and_probabilities()\n",
    "vmmc_sim_list[0].analysis.calculate_and_estimate_melting_profiles()\n",
    "\n"
   ]
  },
  {
   "cell_type": "code",
   "execution_count": null,
   "id": "22086d4a-6614-4105-a090-10f78d04c9d9",
   "metadata": {
    "tags": []
   },
   "outputs": [],
   "source": [
    "param_space = Space([\n",
    "    Categorical([0.5, 1, 5, 10], name='k_value'),\n",
    "    Categorical([25, 50, 70], name='temperature'),\n",
    "    Categorical([True, False], name='unique_binding'),\n",
    "    Categorical([1, 10, 100, 1000], name='print_every'),\n",
    "    Categorical([5, 10, 15, 20], name='xmax'),\n",
    "    Categorical([1e8, 5e8], name='production_step'),\n",
    "    Categorical([20, 50], name='n_window')\n",
    "])\n",
    "path = os.path.abspath('/scratch/mlsample/ipy_oxDNA/ipy_oxdna_examples/duplex_melting/parameter_optimization')\n",
    "max_hb = 8\n",
    "com_list = '8,9,10,11,12,13,14,15'\n",
    "ref_list = '0,1,2,3,4,5,6,7'\n",
    "vmmc_ground_truth = vmmc_sim_list[0]"
   ]
  },
  {
   "cell_type": "code",
   "execution_count": null,
   "id": "c2a3828c-0352-4c6f-a4c3-0f50e305d310",
   "metadata": {
    "tags": []
   },
   "outputs": [],
   "source": [
    "n_iterations = 3\n",
    "batch_size = 3\n",
    "run_baysian_hyperparameter_optimization(\n",
    "    param_space,\n",
    "    vmmc_ground_truth,\n",
    "    max_hb, path,\n",
    "    com_list,\n",
    "    ref_list,\n",
    "    n_iterations,\n",
    "    batch_size,\n",
    "    resume_state=None,\n",
    "    subprocess=True\n",
    ")"
   ]
  },
  {
   "cell_type": "code",
   "execution_count": null,
   "id": "09450f3f-4042-4526-a39f-bef0b5c919f4",
   "metadata": {},
   "outputs": [],
   "source": [
    "vmmc_sim_list[0].analysis.sigmoid(samples[1], *vmmc_sim_list[0].analysis.popt)"
   ]
  },
  {
   "cell_type": "code",
   "execution_count": null,
   "id": "c117e7d6-ae5c-4591-9518-5b6f9960ce57",
   "metadata": {},
   "outputs": [],
   "source": [
    "parameters = np.array([[1, 10], [50, 25], [True, False], [10, 100], [20, 10], [1e8, 1e8], [50, 50]], dtype='object')\n",
    "ground_truth = vmmc_sim_list[0]\n"
   ]
  },
  {
   "cell_type": "code",
   "execution_count": null,
   "id": "ac65700f-c598-4a3e-9cb3-673ff984b2f5",
   "metadata": {},
   "outputs": [],
   "source": [
    "run_baysian_hyperparameter_optimization"
   ]
  },
  {
   "cell_type": "code",
   "execution_count": null,
   "id": "0ea5e70b-ceaa-4cd9-9742-bbc40a99dcd4",
   "metadata": {
    "tags": []
   },
   "outputs": [],
   "source": [
    "spawn(objective_function, args=(ground_truth, max_hb,path, com_list, ref_list, *parameters))"
   ]
  },
  {
   "cell_type": "code",
   "execution_count": null,
   "id": "892cd911-4635-4fea-a37d-d7b4bbdba9b5",
   "metadata": {},
   "outputs": [],
   "source": [
    "us.vmmc_sim.statistics"
   ]
  },
  {
   "cell_type": "code",
   "execution_count": null,
   "id": "c276d610-6ad1-40aa-a885-c9f85eb017a4",
   "metadata": {},
   "outputs": [],
   "source": [
    "vmmc_sim_list[0].analysis.read_vmmc_op_data()"
   ]
  },
  {
   "cell_type": "code",
   "execution_count": null,
   "id": "3d369ce8-37d5-43cc-98c2-0cb04d200c1c",
   "metadata": {
    "tags": []
   },
   "outputs": [],
   "source": [
    "vmmc_sim_list[0].analysis.plot_statistics()"
   ]
  },
  {
   "cell_type": "code",
   "execution_count": null,
   "id": "91dbf772-9ba0-416b-9144-367abce6b195",
   "metadata": {},
   "outputs": [],
   "source": [
    "os.getcwd()"
   ]
  },
  {
   "cell_type": "code",
   "execution_count": null,
   "id": "a10412d8-c1f8-4649-932f-da5783a85b08",
   "metadata": {},
   "outputs": [],
   "source": [
    "files = [file for file in os.listdir(path) if 'optimizer' in file]\n",
    "which_number = sorted([int(file.split('.')[0].split('_')[-1]) for file in files])[-1]\n",
    "for file in files:\n",
    "    split = int(file.split('.')[0].split('_')[-1])\n",
    "    if which_number == split:\n",
    "        best_optim = [file]\n",
    "best_optim[0]"
   ]
  },
  {
   "cell_type": "markdown",
   "id": "588d45b7-6961-40b4-81c0-8341eacb1695",
   "metadata": {},
   "source": [
    "<font size='10'><a class=\"anchor\" id=\"3\"></a> <h2 align=\"center\"> <font color='black'>K value scan</font></h2> "
   ]
  },
  {
   "cell_type": "code",
   "execution_count": null,
   "id": "7b87a62b-f10b-4c4f-81c8-5e59d7f21d63",
   "metadata": {
    "tags": []
   },
   "outputs": [],
   "source": [
    "path = os.path.abspath('/scratch/mlsample/ipy_oxDNA/ipy_oxdna_examples/duplex_melting/')\n",
    "\n",
    "system_name = 'multi_system_runs'\n",
    "\n",
    "k_value_list = ['0.1', '0.5', '0.75', '1', '2', '5', '10']\n",
    "systems = [f'duplex_30_{stiff}' for stiff in k_value_list]\n",
    "\n",
    "file_dirs = [f'{path}/{system_name}' for _ in range(len(systems))]\n",
    "\n",
    "\n",
    "com_list = '8,9,10,11,12,13,14,15'\n",
    "ref_list = '0,1,2,3,4,5,6,7'\n",
    "xmin = 0\n",
    "xmax = 15\n",
    "n_windows = 50\n",
    "starting_r0 = 1\n",
    "steps = 1e6\n",
    "stiff = 0.4\n",
    "\n",
    "\n",
    "pre_equlibration_parameters_list = [{'backend':'CPU','steps':'1e6','print_energy_every': '4e7',\n",
    "                           'print_conf_interval':'4e7', \"CUDA_list\": \"no\",\n",
    "                           'use_edge': 'false', 'refresh_vel': '1',\n",
    "                           'fix_diffusion': '0', 'fix_diffusion_every': '1000',\n",
    "                           'T':f'30C'} for _ in k_value_list]\n",
    "\n",
    "equlibration_parameters_list = [{'backend':'CPU','steps':'5e7','print_energy_every': '4e7',\n",
    "                           'print_conf_interval':'4e7', \"CUDA_list\": \"no\",\n",
    "                           'use_edge': 'false', 'refresh_vel': '1',\n",
    "                           'fix_diffusion': '0', 'fix_diffusion_every': '1000',\n",
    "                           'T':f'30C'} for _ in k_value_list]\n",
    "\n",
    "production_parameters_list = [{'backend':'CPU','steps':'1e9','print_energy_every': '1e8',\n",
    "                        'print_conf_interval':'1e8', \"CUDA_list\": \"no\",\n",
    "                        'use_edge': 'false', 'refresh_vel': '1',\n",
    "                        'fix_diffusion': '0', 'fix_diffusion_every': '1000',\n",
    "                        'T':f'30C'} for temp in k_value_list]\n",
    "\n",
    "us_list = [MeltingUmbrellaSampling(file_dir, sys, clean_build='force') for file_dir, sys in zip(file_dirs,systems)]\n",
    "\n",
    "simulation_manager = SimulationManager()"
   ]
  },
  {
   "cell_type": "code",
   "execution_count": null,
   "id": "6f4d4029-4e38-4037-8bd6-a1cb962399e0",
   "metadata": {},
   "outputs": [],
   "source": [
    "us_list.append(MeltingUmbrellaSampling(f'{path}/{system_name}', 'duplex_30', clean_build='force'))"
   ]
  },
  {
   "cell_type": "code",
   "execution_count": null,
   "id": "8d14ed3a-ccdd-40fc-b87b-0c66d319e971",
   "metadata": {},
   "outputs": [],
   "source": [
    "for us, pre_equlibration_parameters, stiff in zip(us_list, pre_equlibration_parameters_list, k_value_list):\n",
    "    print(us.system)\n",
    "    us.build_pre_equlibration_runs(simulation_manager, n_windows, com_list, ref_list,\n",
    "                               stiff, xmin, xmax, pre_equlibration_parameters, starting_r0, steps,\n",
    "                               print_every=100, observable=True, protein=None,\n",
    "                               force_file=None, continue_run=False)"
   ]
  },
  {
   "cell_type": "code",
   "execution_count": null,
   "id": "24d115cf-1f77-49f7-a7c0-016ff895662c",
   "metadata": {
    "tags": []
   },
   "outputs": [],
   "source": [
    "simulation_manager.run(cpu_run=True, gpu_mem_block=False)"
   ]
  },
  {
   "cell_type": "code",
   "execution_count": null,
   "id": "5d3cfe5e-591f-468a-871d-a3502271daf8",
   "metadata": {},
   "outputs": [],
   "source": [
    "for us, equlibration_parameters, stiff in zip(us_list, equlibration_parameters_list, k_value_list):\n",
    "    print(us.system)\n",
    "    us.build_equlibration_runs(simulation_manager, n_windows, com_list, ref_list,\n",
    "                               stiff, xmin, xmax, equlibration_parameters,\n",
    "                               print_every=100, observable=True, protein=None,\n",
    "                               force_file=None, continue_run=False)"
   ]
  },
  {
   "cell_type": "code",
   "execution_count": null,
   "id": "e956bb51-b3f4-4215-912d-532f725b8abb",
   "metadata": {
    "tags": []
   },
   "outputs": [],
   "source": [
    "simulation_manager.run(cpu_run=True, gpu_mem_block=False)"
   ]
  },
  {
   "cell_type": "code",
   "execution_count": null,
   "id": "b92417fd-ef6e-488a-936d-043969426d57",
   "metadata": {},
   "outputs": [],
   "source": [
    "for us, production_parameters, stiff in zip(us_list, production_parameters_list, k_value_list):\n",
    "    print(us.system)\n",
    "    us.build_production_runs(simulation_manager, n_windows, com_list, ref_list,\n",
    "                             stiff, xmin, xmax, production_parameters,\n",
    "                             observable=True, print_every=100 ,protein=None,\n",
    "                             force_file=None, continue_run=False)"
   ]
  },
  {
   "cell_type": "code",
   "execution_count": null,
   "id": "6f1570e9-a795-4593-89ad-2ff0ca62604a",
   "metadata": {
    "tags": []
   },
   "outputs": [],
   "source": [
    "simulation_manager.run(cpu_run=True, gpu_mem_block=False)"
   ]
  },
  {
   "cell_type": "code",
   "execution_count": null,
   "id": "64bea8ca-1ed0-45b2-9da7-692c3b53c7cc",
   "metadata": {
    "tags": []
   },
   "outputs": [],
   "source": [
    "wham_dir = os.path.abspath('/scratch/mlsample/ipy_oxDNA/wham/wham')\n",
    "n_bins = '200'\n",
    "tol = '1e-5'\n",
    "n_boot = '0'\n",
    "for us, stiff in zip(us_list, k_value_list):\n",
    "    us.wham_run(wham_dir, xmin, xmax, stiff, n_bins, tol, n_boot)"
   ]
  },
  {
   "cell_type": "code",
   "execution_count": null,
   "id": "801708da-228c-44b3-9d3f-5f62f085b6fe",
   "metadata": {},
   "outputs": [],
   "source": [
    "with plt.style.context(['science', 'no-latex', 'bright']): \n",
    "\n",
    "    ax = us_list[0].wham.plt_fig()\n",
    "    for us in us_list:\n",
    "        us.wham.plot_free_energy(ax=ax)\n",
    "    \n",
    "    plt.legend(fontsize=6)\n",
    "    \n",
    "plt.xlabel('Center of mass distance (nm)')\n"
   ]
  },
  {
   "cell_type": "code",
   "execution_count": null,
   "id": "8cae8faa-3e05-4e6e-96fb-891da3030e7c",
   "metadata": {},
   "outputs": [],
   "source": [
    "n_chunks = 2\n",
    "data_added_per_iteration = 3\n",
    "\n",
    "wham_dir = os.path.abspath('/scratch/mlsample/ipy_oxDNA/wham/wham')\n",
    "n_bins = '200'\n",
    "tol = '1e-5'\n",
    "n_boot = '0'\n",
    "\n",
    "\n",
    "for us in us_list:\n",
    "    us.wham.get_n_data_per_com_file()\n",
    "    us.convergence_analysis(n_chunks, data_added_per_iteration, wham_dir, xmin, xmax, stiff, n_bins, tol, n_boot)"
   ]
  },
  {
   "cell_type": "markdown",
   "id": "76e03d4f-d531-4501-99a2-e129001a756b",
   "metadata": {},
   "source": [
    "<font size='10'><a class=\"anchor\" id=\"3\"></a> <h2 align=\"center\"> <font color='black'>K value scan plotting</font></h2> "
   ]
  },
  {
   "cell_type": "code",
   "execution_count": null,
   "id": "95c20498-e6a9-420c-9c8f-0244fe7cb07d",
   "metadata": {
    "tags": []
   },
   "outputs": [],
   "source": [
    "for us in us_list:\n",
    "    us.com_distance_observable(com_list, ref_list)\n",
    "\n",
    "\n",
    "for us in us_list:\n",
    "    plt.figure(dpi=200)\n",
    "    for idx in range(0,50,1):\n",
    "        us.analysis.view_observable('prod', idx, observable=us.observables_list[0], sliding_window=False)\n",
    "    # plt.legend([us.system], fontsize=7)"
   ]
  },
  {
   "cell_type": "markdown",
   "id": "8ee067ba-4af8-490b-877a-8bdc038bb2d2",
   "metadata": {},
   "source": [
    "<font size='10'><a class=\"anchor\" id=\"3\"></a> <h2 align=\"center\"> <font color='black'>Duplex Melting Movie</font></h2> "
   ]
  },
  {
   "cell_type": "code",
   "execution_count": null,
   "id": "f2064e6c-22f6-46c3-be01-3c9a2dc0262f",
   "metadata": {},
   "outputs": [],
   "source": [
    "path = os.path.abspath('/scratch/mlsample/ipy_oxDNA/ipy_oxdna_examples/duplex_melting/')\n",
    "\n",
    "system_name = 'multi_system_runs'\n",
    "\n",
    "systems = ['duplex_melting_movie']\n",
    "temperature_list = [50]\n",
    "\n",
    "file_dirs = [f'{path}/{system_name}' for _ in range(len(systems))]\n",
    "\n",
    "\n",
    "com_list = '8,9,10,11,12,13,14,15'\n",
    "ref_list = '0,1,2,3,4,5,6,7'\n",
    "xmin = 0\n",
    "xmax = 15\n",
    "n_windows = 100\n",
    "\n",
    "stiff = 0.4\n",
    "\n",
    "equlibration_parameters_list = [{'backend':'CPU','steps':'1e6','print_energy_every': '1e3',\n",
    "                           'print_conf_interval':'1e3', \"CUDA_list\": \"no\",\n",
    "                           'use_edge': 'false', 'refresh_vel': '1',\n",
    "                           'fix_diffusion': '0', 'fix_diffusion_every': '1000',\n",
    "                           'T':f'{temp}C'} for temp in temperature_list]\n",
    "\n",
    "production_parameters_list = [{'backend':'CPU','steps':'1e9','print_energy_every': '1e8',\n",
    "                        'print_conf_interval':'1e8', \"CUDA_list\": \"no\",\n",
    "                        'use_edge': 'false', 'refresh_vel': '1',\n",
    "                        'fix_diffusion': '0', 'fix_diffusion_every': '1000',\n",
    "                        'T':f'{temp}C'} for temp in temperature_list]\n",
    "\n",
    "us_list = [MeltingUmbrellaSampling(file_dir, sys, clean_build='force') for file_dir, sys in zip(file_dirs,systems)]\n",
    "\n",
    "simulation_manager = SimulationManager()"
   ]
  },
  {
   "cell_type": "code",
   "execution_count": null,
   "id": "d581ad4b-cc00-41ce-942f-8808e7e982a9",
   "metadata": {
    "tags": []
   },
   "outputs": [],
   "source": [
    "for us, equlibration_parameters in zip(us_list, equlibration_parameters_list):\n",
    "    print(us.system)\n",
    "    us.build_equlibration_runs(simulation_manager, n_windows, com_list, ref_list,\n",
    "                               stiff, xmin, xmax, equlibration_parameters,\n",
    "                               print_every=1000, observable=True, protein=None,\n",
    "                               force_file=None, continue_run=False)\n",
    "\n",
    "simulation_manager.run(cpu_run=True, gpu_mem_block=False)\n",
    "\n"
   ]
  },
  {
   "cell_type": "markdown",
   "id": "1d1c31d9-5f5b-4f0d-bfba-87a2459ce1d0",
   "metadata": {},
   "source": [
    "<font size='10'><a class=\"anchor\" id=\"3\"></a> <h2 align=\"center\"> <font color='black'>Temp Scan</font></h2> "
   ]
  },
  {
   "cell_type": "code",
   "execution_count": null,
   "id": "5f14ebbb-e525-421c-a4b8-871027cc3d73",
   "metadata": {},
   "outputs": [],
   "source": [
    "path = os.path.abspath('/scratch/mlsample/ipy_oxDNA/ipy_oxdna_examples/duplex_melting/')\n",
    "\n",
    "system_name = 'multi_system_runs'\n",
    "\n",
    "systems = ['duplex_25', 'duplex_30', 'duplex_35', 'duplex_40', 'duplex_45', 'duplex_50', 'duplex_55', 'duplex_60', 'duplex_65', 'duplex_70']\n",
    "temperature_list = [25, 30, 35, 40, 45, 50, 55, 60, 65, 70]\n",
    "\n",
    "file_dirs = [f'{path}/{system_name}' for _ in range(len(systems))]\n",
    "\n",
    "\n",
    "com_list = '8,9,10,11,12,13,14,15'\n",
    "ref_list = '0,1,2,3,4,5,6,7'\n",
    "xmin = 0\n",
    "xmax = 15\n",
    "n_windows = 100\n",
    "\n",
    "stiff = 0.4\n",
    "\n",
    "equlibration_parameters_list = [{'backend':'CPU','steps':'5e7','print_energy_every': '4e7',\n",
    "                           'print_conf_interval':'4e7', \"CUDA_list\": \"no\",\n",
    "                           'use_edge': 'false', 'refresh_vel': '1',\n",
    "                           'fix_diffusion': '0', 'fix_diffusion_every': '1000',\n",
    "                           'T':f'{temp}C'} for temp in temperature_list]\n",
    "\n",
    "production_parameters_list = [{'backend':'CPU','steps':'1e9','print_energy_every': '1e8',\n",
    "                        'print_conf_interval':'1e8', \"CUDA_list\": \"no\",\n",
    "                        'use_edge': 'false', 'refresh_vel': '1',\n",
    "                        'fix_diffusion': '0', 'fix_diffusion_every': '1000',\n",
    "                        'T':f'{temp}C'} for temp in temperature_list]\n",
    "\n",
    "us_list = [MeltingUmbrellaSampling(file_dir, sys, clean_build='force') for file_dir, sys in zip(file_dirs,systems)]\n",
    "\n",
    "simulation_manager = SimulationManager()"
   ]
  },
  {
   "cell_type": "markdown",
   "id": "dd8e98f2-767a-44c4-b8c8-22471f7c995b",
   "metadata": {},
   "source": [
    "<font size='10'><a class=\"anchor\" id=\"3\"></a> <h2 align=\"center\"> <font color='black'>Temp scan convergence analysis</font></h2> "
   ]
  },
  {
   "cell_type": "code",
   "execution_count": null,
   "id": "412d5a5c-3f5e-4760-88de-66b1f0e773ca",
   "metadata": {
    "tags": []
   },
   "outputs": [],
   "source": [
    "n_chunks = 2\n",
    "data_added_per_iteration = 3\n",
    "\n",
    "wham_dir = os.path.abspath('/scratch/mlsample/ipy_oxDNA/wham/wham')\n",
    "n_bins = '200'\n",
    "tol = '1e-5'\n",
    "n_boot = '0'\n",
    "xmin = 0\n",
    "xmax = 15\n",
    "n_windows = 100\n",
    "\n",
    "stiff = 0.4\n",
    "\n",
    "for us in us_list:\n",
    "    us.wham.get_n_data_per_com_file()\n",
    "    us.convergence_analysis(n_chunks, data_added_per_iteration, wham_dir, xmin, xmax, stiff, n_bins, tol, n_boot)"
   ]
  },
  {
   "cell_type": "code",
   "execution_count": null,
   "id": "166de66c-8beb-4ac0-b7fb-71ffb0642576",
   "metadata": {
    "tags": []
   },
   "outputs": [],
   "source": [
    "for us in us_list:\n",
    "    us.wham.plot_truncated_free_energy()\n",
    "    plt.legend()\n",
    "    plt.title(us.system)\n",
    "    us.wham.plot_chunks_free_energy()\n",
    "    plt.legend()\n",
    "    plt.title(us.system)"
   ]
  },
  {
   "cell_type": "code",
   "execution_count": null,
   "id": "2213ee70-49ab-43ca-bb3a-4e5d7a62291e",
   "metadata": {},
   "outputs": [],
   "source": [
    "us_list.append(MeltingUmbrellaSampling(f'{path}', f'us_melting_52_no_non_canonical', clean_build='force'))"
   ]
  },
  {
   "cell_type": "markdown",
   "id": "cc92c613-4b28-4dfc-94ec-1ee18b78014e",
   "metadata": {},
   "source": [
    "<font size='10'><a class=\"anchor\" id=\"3\"></a> <h2 align=\"center\"> <font color='black'>Temp Scan plotting</font></h2> "
   ]
  },
  {
   "cell_type": "code",
   "execution_count": null,
   "id": "5f06cc61-49f2-4614-8bfa-534bb1ef7f7a",
   "metadata": {},
   "outputs": [],
   "source": [
    "for us in us_list:\n",
    "    us.com_distance_observable(com_list, ref_list)\n",
    "\n",
    "\n",
    "for us in us_list:\n",
    "    plt.figure(dpi=200)\n",
    "    for idx in range(0,100,1):\n",
    "        us.analysis.view_observable('prod', idx, observable=us.observables_list[1], sliding_window=20)\n",
    "    plt.legend([us.system], fontsize=7)"
   ]
  },
  {
   "cell_type": "code",
   "execution_count": null,
   "id": "647520ae-10fc-4dc4-a074-823b39adbaaa",
   "metadata": {},
   "outputs": [],
   "source": [
    "for us in us_list:\n",
    "    if us.free['Free'].iloc[4] != 0:\n",
    "        us.free['Free'] = us.free['Free'].subtract(us.free['Free'].iloc[4])"
   ]
  },
  {
   "cell_type": "code",
   "execution_count": null,
   "id": "e39d05e0-6ef6-47c8-8ce5-a9d57583e33e",
   "metadata": {
    "tags": []
   },
   "outputs": [],
   "source": [
    "with plt.style.context(['science', 'no-latex', 'bright']): \n",
    "\n",
    "    ax = us_list[0].wham.plt_fig()\n",
    "    for us in us_list:\n",
    "        us.wham.plot_free_energy(ax=ax, errorevery=20)\n",
    "    \n",
    "    vmmc_replica_generator.plot_mean_free_energy_with_error_bars(num_bins=500, ax=ax, errorevery=20)\n",
    "    # plt.legend(['52C umbrella all hydrogen bonds', '52C umbrella only intended bonds', '52C VMMC all hydrogen bonds (only biased to sample intended bonds)'] ,fontsize=6)\n",
    "    \n",
    "    plt.legend(fontsize=5)\n",
    "    plt.xlabel('Center of mass distance (nm)')\n",
    "    plt.xlim(-0.75,15)\n",
    "    # plt.ylim(-0.25, 12)"
   ]
  },
  {
   "cell_type": "code",
   "execution_count": null,
   "id": "c049b84d-b92d-49a6-a5a9-a96060a6c71a",
   "metadata": {
    "tags": []
   },
   "outputs": [],
   "source": [
    "[[us_list[sys].production_sims[window].analysis.get_conf_count() for window in range(n_windows)]for sys in range(3)] "
   ]
  },
  {
   "cell_type": "code",
   "execution_count": null,
   "id": "023ff83c-0782-4fa7-9d3c-cd44b18d4484",
   "metadata": {
    "tags": []
   },
   "outputs": [],
   "source": [
    "for us, equlibration_parameters in zip(us_list[-1:], equlibration_parameters_list[-1:]):\n",
    "    print(us.system)\n",
    "    us.build_equlibration_runs(simulation_manager, n_windows, com_list, ref_list,\n",
    "                               stiff, xmin, xmax, equlibration_parameters,\n",
    "                               print_every=1000, observable=True, protein=None,\n",
    "                               force_file=None, continue_run=False)\n",
    "\n",
    "simulation_manager.worker_manager(cpu_run=True, gpu_mem_block=False)\n",
    "\n"
   ]
  },
  {
   "cell_type": "code",
   "execution_count": null,
   "id": "73a821cc-13a6-4556-b156-31dbf89c948b",
   "metadata": {},
   "outputs": [],
   "source": [
    "for us, production_parameters in zip(us_list[-1:], production_parameters_list[-1:]):\n",
    "    print(us.system)\n",
    "    us.build_production_runs(simulation_manager, n_windows, com_list, ref_list,\n",
    "                             stiff, xmin, xmax, production_parameters,\n",
    "                             observable=True, print_every=1000 ,protein=None,\n",
    "                             force_file=None, continue_run=False)"
   ]
  },
  {
   "cell_type": "code",
   "execution_count": null,
   "id": "c4521368-6565-4cfb-a871-96a482676641",
   "metadata": {
    "tags": []
   },
   "outputs": [],
   "source": [
    "simulation_manager.run(cpu_run=True, gpu_mem_block=False)\n"
   ]
  },
  {
   "cell_type": "markdown",
   "id": "c6839d0b-dfc4-4fed-852c-6740999e6a32",
   "metadata": {},
   "source": [
    "<font size='6'><a class=\"anchor\" id=\"3\"></a> <h2 align=\"center\"> <font color='black'>Multisystem umbrella sampling</font></h2> "
   ]
  },
  {
   "cell_type": "code",
   "execution_count": null,
   "id": "7266713f-5752-4f69-b3c9-4f53af297ea0",
   "metadata": {},
   "outputs": [],
   "source": [
    "path = os.path.abspath('/scratch/mlsample/ipy_oxDNA/ipy_oxdna_examples/duplex_melting/')\n",
    "\n",
    "system_name = 'multi_system_runs'\n",
    "\n",
    "systems = ['print_100_normal_1e9', 'print_100_unique_1e9']\n",
    "print_every_list = [100, 100]\n",
    "\n",
    "file_dirs = [f'{path}/{system_name}' for _ in range(len(systems))]\n",
    "\n",
    "\n",
    "com_list = '8,9,10,11,12,13,14,15'\n",
    "ref_list = '0,1,2,3,4,5,6,7'\n",
    "xmin = 0\n",
    "xmax = 6\n",
    "n_windows = 50\n",
    "max_hb = 8\n",
    "stiff = 0.8\n",
    "\n",
    "equlibration_parameters = {'backend':'CPU','steps':'5e7','print_energy_every': '4e7',\n",
    "                           'print_conf_interval':'4e7', \"CUDA_list\": \"no\",\n",
    "                           'use_edge': 'false', 'refresh_vel': '1',\n",
    "                           'fix_diffusion': '0', 'fix_diffusion_every': '1000',\n",
    "                           'T':'52C'\n",
    "                          }\n",
    "\n",
    "production_parameters ={'backend':'CPU','steps':'1e9','print_energy_every': '1e8',\n",
    "                        'print_conf_interval':'1e8', \"CUDA_list\": \"no\",\n",
    "                        'use_edge': 'false', 'refresh_vel': '1',\n",
    "                        'fix_diffusion': '0', 'fix_diffusion_every': '1000',\n",
    "                        'T':'52C'\n",
    "                        }\n",
    "\n",
    "us_list = [MeltingUmbrellaSampling(file_dir, sys, clean_build='force') for file_dir, sys in zip(file_dirs,systems)]\n",
    "\n",
    "simulation_manager = SimulationManager()\n",
    "\n"
   ]
  },
  {
   "cell_type": "markdown",
   "id": "cfd782d9-b5d1-44db-bb5a-7ec61a991c55",
   "metadata": {},
   "source": [
    "<font size='10'><a class=\"anchor\" id=\"3\"></a> <h2 align=\"center\"> <font color='black'>Continuous to Discrete Unbiasing</font></h2> "
   ]
  },
  {
   "cell_type": "code",
   "execution_count": null,
   "id": "db97fd15-663b-4f8e-8b88-56cc2a34d6a9",
   "metadata": {},
   "outputs": [],
   "source": [
    "max_hb = 8"
   ]
  },
  {
   "cell_type": "code",
   "execution_count": null,
   "id": "06c83403-c09d-49ef-b6fa-0596222053fd",
   "metadata": {
    "tags": []
   },
   "outputs": [],
   "source": [
    "def count_division_normalize(arr):\n",
    "    row_sums = np.sum(arr, axis=1, keepdims=True)\n",
    "    return arr / row_sums\n",
    "\n",
    "for us, stiff in zip(us_list[:-1], k_value_list):\n",
    "    print(us.system)\n",
    "    us.get_com_distance_by_window()\n",
    "    us.get_hb_list_by_window()\n",
    "    us.get_bias_potential_value(xmin, xmax, n_windows, stiff)\n",
    "    \n",
    "    for idx in us.hb_by_window.keys():\n",
    "        hb_values = np.array(us.hb_by_window[idx].values.T[0])\n",
    "        to_remove = np.where(hb_values > max_hb)[0]  # Indices where hb_values > max_hb\n",
    "        if len(to_remove > 0):\n",
    "        # Remove rows from hb_by_window DataFrame\n",
    "            us.hb_by_window[idx].drop(index=to_remove, inplace=True)\n",
    "            us.hb_by_window[idx].reset_index(drop=True, inplace=True)\n",
    "            \n",
    "            # Remove corresponding rows from umbrella_bias DataFrame\n",
    "            us.umbrella_bias[idx].drop(index=to_remove, inplace=True)\n",
    "            us.umbrella_bias[idx].reset_index(drop=True, inplace=True)\n",
    "            \n",
    "    unbiased_discrete_window = np.array([np.zeros(max_hb + 1) for _ in range(n_windows)])\n",
    "    bias = np.array([1 / np.exp(-window /us.temperature) for window in us.umbrella_bias])\n",
    "    print(us.temperature)\n",
    "    index_to_add_at = np.array([np.array(us.hb_by_window[idx].values.T[0]) for idx in range(n_windows)])\n",
    "    \n",
    "    for idx in range(n_windows):\n",
    "        np.add.at(unbiased_discrete_window[idx], index_to_add_at[idx], bias[idx][0])\n",
    "  \n",
    "    normalized_array = count_division_normalize(unbiased_discrete_window)\n",
    "    new_array_v2 = np.zeros(unbiased_discrete_window.shape[1])\n",
    "    \n",
    "    # Iterate through each row and index\n",
    "    for i, row in enumerate(normalized_array):\n",
    "        new_array_v2 += row * unbiased_discrete_window[i]\n",
    "    us.counts_discrete = new_array_v2\n",
    "    # Normalize the new array using count division normalization\n",
    "    new_array_sum_v2 = np.sum(new_array_v2)\n",
    "    normalized_new_array_v2 = new_array_v2 / new_array_sum_v2\n",
    "    us.free_energy_discrete = -np.log(normalized_new_array_v2)\n",
    "    us.free_energy_discrete -= min(us.free_energy_discrete)\n",
    "    us.prob_discrete = normalized_new_array_v2"
   ]
  },
  {
   "cell_type": "code",
   "execution_count": null,
   "id": "f51b09fd-e268-429f-b779-96c35ebc935d",
   "metadata": {},
   "outputs": [],
   "source": [
    "for us in us_list[:-1]:\n",
    "    plt.plot(range(9), us.free_energy_discrete, label=us.system)\n",
    "plt.legend()"
   ]
  },
  {
   "cell_type": "code",
   "execution_count": null,
   "id": "a6228d8a-2126-473b-be68-3e188581191b",
   "metadata": {
    "tags": []
   },
   "outputs": [],
   "source": [
    "for us in us_list[:-1]:\n",
    "    us.calculate_melting_temperature_using_vmmc()"
   ]
  },
  {
   "cell_type": "code",
   "execution_count": null,
   "id": "064c347d-edfb-45d5-9183-241f56440f98",
   "metadata": {},
   "outputs": [],
   "source": [
    "inverted_finfs = []\n",
    "temperatures = []\n",
    "for us in us_list[:-1]:\n",
    "    inverted_finfs.append(1 - us.vmmc_sim.analysis.finfs[0])\n",
    "    temperatures.append(float((us.system.split('_')[-1])))\n",
    "# del inverted_finfs[2]\n",
    "# del temperatures[2]\n",
    "inverted_finfs"
   ]
  },
  {
   "cell_type": "code",
   "execution_count": null,
   "id": "d3ead52e-9d2f-4a13-aedb-c5e0d1d5cd1d",
   "metadata": {},
   "outputs": [],
   "source": [
    "def sigmoid(x, L, x0, k, b):\n",
    "    return L / (1 + np.exp(-k * (x - x0))) + b\n",
    "\n",
    "from scipy.optimize import curve_fit\n",
    "\n",
    "p0 = [max(inverted_finfs), np.median(temperatures), 1, min(inverted_finfs)]  # initial guesses for L, x0, k, b\n",
    "popt, _ = curve_fit(sigmoid, temperatures, inverted_finfs, p0, method='dogbox')\n",
    "\n",
    "x_fit = np.linspace(min(temperatures), max(temperatures), 500)\n",
    "y_fit = sigmoid(x_fit, *popt)\n",
    "\n",
    "idx = np.argmin(np.abs(y_fit - 0.5))\n",
    "Tm = x_fit[idx]"
   ]
  },
  {
   "cell_type": "code",
   "execution_count": null,
   "id": "3be9c7eb-91dd-42a0-8e49-c5bdcbe7d20c",
   "metadata": {},
   "outputs": [],
   "source": [
    "# Plotting\n",
    "# plt.figure(figsize=(10, 6))\n",
    "vmmc_sim_list[0].analysis.plot_melting_profiles(label='VMMC Discrete ')\n",
    "\n",
    "plt.scatter(temperatures, inverted_finfs, marker='o', label='Continous umbrella made discrete data')\n",
    "plt.plot(x_fit, y_fit, linestyle='--', linewidth=2, label='Continous umbrella made discrete Sigmoid Fit')\n",
    "\n",
    "# Add a vertical line at the melting temperature\n",
    "plt.axvline(x=Tm, color='green', linestyle='--', linewidth=2, label=f'Continous umbrella made discrete Tm = {Tm:.2f} °C')\n",
    "\n",
    "plt.xlabel('Temperature (°C)')\n",
    "plt.ylabel('Fraction of ssDNA')\n",
    "plt.title(f'Melting Profile')\n",
    "\n",
    "# Set y-axis limits\n",
    "plt.ylim(0, 1.1)\n",
    "\n",
    "plt.legend()\n",
    "plt.grid(True)\n",
    "plt.show()\n"
   ]
  },
  {
   "cell_type": "code",
   "execution_count": null,
   "id": "6ada9bec-aba3-4143-80f8-7c80153cdf42",
   "metadata": {},
   "outputs": [],
   "source": [
    "plt.plot(inv_finfs.keys(), inv_finfs.values())"
   ]
  },
  {
   "cell_type": "code",
   "execution_count": null,
   "id": "f150ed5d-52ce-4fca-8457-7311dddac6ba",
   "metadata": {},
   "outputs": [],
   "source": [
    "# vmmc_sim_list[0].analysis.last_hist_analysis()\n",
    "inv = 1 -  np.array(vmmc_sim_list[0].analysis.finfs)\n",
    "inv"
   ]
  },
  {
   "cell_type": "code",
   "execution_count": null,
   "id": "f08a292f-d018-4840-86a2-dcdcd0a02aa1",
   "metadata": {
    "tags": []
   },
   "outputs": [],
   "source": [
    "us_list[1].vmmc_sim.statistics"
   ]
  },
  {
   "cell_type": "code",
   "execution_count": null,
   "id": "8d6315bb-3011-4a71-82e0-a195cab945ea",
   "metadata": {
    "tags": []
   },
   "outputs": [],
   "source": [
    "us.vmmc_sim.statistics"
   ]
  },
  {
   "cell_type": "code",
   "execution_count": null,
   "id": "1899d4e6-b343-4497-97cc-63e1145ac95b",
   "metadata": {},
   "outputs": [],
   "source": [
    "free = vmmc_sim_list[0].statistics['wt_free'] - vmmc_sim_list[0].statistics['wt_free'].values[-1]\n",
    "us.free_energy_discret us.free_energy_discrete - us.free_energy_discrete[-1]"
   ]
  },
  {
   "cell_type": "code",
   "execution_count": null,
   "id": "4821d7b0-012d-4e75-a436-08c69d6efd7f",
   "metadata": {
    "tags": []
   },
   "outputs": [],
   "source": [
    "with plt.style.context(['science', 'no-latex', 'bright']): \n",
    "    ax = us_list[0].wham.plt_fig()\n",
    "    for us in us_list:\n",
    "        temp = us.free_energy_discrete - us.free_energy_discrete[-1]\n",
    "        ax.plot(range(9), temp, label=us.system)\n",
    "    ax.plot(range(9), free, label='discrete')\n",
    "\n",
    "    plt.legend(fontsize=6)\n",
    "    ax.set_xlabel('Number of Hydrogen Bonds')"
   ]
  },
  {
   "cell_type": "code",
   "execution_count": null,
   "id": "139fcb57-8389-476c-88fc-f0fb06340e28",
   "metadata": {},
   "outputs": [],
   "source": [
    "biases = us_list[1].umbrella_bias\n",
    "shift = np.array(us_list[1].get_biases(), dtype=float)\n",
    "\n",
    "energy = [np.exp(-bias + shift) for bias, shift in zip(biases, shift)]"
   ]
  },
  {
   "cell_type": "code",
   "execution_count": null,
   "id": "5875e52b-2ff2-4a75-8674-fc34ce43486b",
   "metadata": {},
   "outputs": [],
   "source": [
    "np.zeros(max_hb)"
   ]
  },
  {
   "cell_type": "code",
   "execution_count": null,
   "id": "68209f92-a81a-4742-a10d-5c86e32364e7",
   "metadata": {
    "tags": []
   },
   "outputs": [],
   "source": [
    "us_list[1].unbias_com_to_hb(xmin, xmax, n_windows, stiff, max_hb)"
   ]
  },
  {
   "cell_type": "code",
   "execution_count": null,
   "id": "422f6676-320b-45c7-a474-ffd9ab810e25",
   "metadata": {},
   "outputs": [],
   "source": [
    "prob = us_list[1].run_wham_discete(8)"
   ]
  },
  {
   "cell_type": "code",
   "execution_count": null,
   "id": "cafa3012-228b-441c-83f6-fbb8c97adcc3",
   "metadata": {
    "tags": []
   },
   "outputs": [],
   "source": [
    "prob = us_list[1].homebrew_discrete_wham(9)"
   ]
  },
  {
   "cell_type": "code",
   "execution_count": null,
   "id": "dfa1cc53-7039-4d8e-ae1b-c15784310f60",
   "metadata": {},
   "outputs": [],
   "source": [
    "prob.tolist()"
   ]
  },
  {
   "cell_type": "code",
   "execution_count": null,
   "id": "0537d9f5-8267-45aa-96ad-8161a56dc633",
   "metadata": {},
   "outputs": [],
   "source": [
    "inv = 1 -  np.array(vmmc_sim_list[0].analysis.finfs)\n",
    "inv[9]"
   ]
  },
  {
   "cell_type": "code",
   "execution_count": null,
   "id": "a0e29db9-3904-4236-a386-8dc2dd4bda5f",
   "metadata": {},
   "outputs": [],
   "source": [
    "vmmc_sim_list[0].analysis.temperatures.index(52)"
   ]
  },
  {
   "cell_type": "code",
   "execution_count": null,
   "id": "7eb22764-54bf-4efd-bba1-7403f4e9ac4d",
   "metadata": {},
   "outputs": [],
   "source": [
    "com_by_window = us_list[1].com_by_window\n",
    "hb_by_window = us_list[1].hb_by_window\n",
    "umbrella_bias = us_list[1].umbrella_bias\n",
    "shift = np.array(us_list[1].get_biases(), dtype=float)\n",
    "\n",
    "umbrella_bias = [np.exp(-bias) for bias, shift in zip(umbrella_bias, shift)]"
   ]
  },
  {
   "cell_type": "code",
   "execution_count": null,
   "id": "224add39-2c13-4748-961a-03c6add5c683",
   "metadata": {
    "tags": []
   },
   "outputs": [],
   "source": [
    "unbiased_discrete_window = {idx:np.zeros(int(max_hb + 1)) for idx in range(n_windows)}\n",
    "for idx in range(n_windows):\n",
    "    index_to_add_at = np.array(hb_by_window[idx].values.T[0])\n",
    "    biases = np.array([value for value in umbrella_bias[idx].values.T[0]])\n",
    "    value_to_add = 1 / biases\n",
    "    np.add.at(unbiased_discrete_window[idx], index_to_add_at, value_to_add)\n",
    "print(unbiased_discrete_window)"
   ]
  },
  {
   "cell_type": "code",
   "execution_count": null,
   "id": "1ae0adda-c0db-4a1a-8a45-feb37ab9c809",
   "metadata": {},
   "outputs": [],
   "source": [
    "unbiased = [hist) - s for hist,s in zip(unbiased_discrete_window.values(), shift)]"
   ]
  },
  {
   "cell_type": "code",
   "execution_count": null,
   "id": "eac194d4-1c0d-43a9-ae09-8fceb4767cde",
   "metadata": {
    "tags": []
   },
   "outputs": [],
   "source": [
    "unbiased"
   ]
  },
  {
   "cell_type": "code",
   "execution_count": null,
   "id": "a5b5b5c7-481f-47a2-bf88-53ceceb2de43",
   "metadata": {},
   "outputs": [],
   "source": [
    "sum_of_hist = np.zeros(9)\n",
    "for hist in unbiased:\n",
    "    sum_of_hist += hist\n",
    "sum_of_hist /= sum(sum_of_hist)"
   ]
  },
  {
   "cell_type": "code",
   "execution_count": null,
   "id": "bd1e82b6-d5df-4bb4-8fbe-79a2eb551d55",
   "metadata": {},
   "outputs": [],
   "source": [
    "sum_of_hist.tolist()"
   ]
  },
  {
   "cell_type": "code",
   "execution_count": null,
   "id": "33a73d24-c303-40f0-8d79-5d24da2346ae",
   "metadata": {},
   "outputs": [],
   "source": [
    "us.discrete_hist.values()"
   ]
  },
  {
   "cell_type": "code",
   "execution_count": null,
   "id": "0d4aa502-a8fc-4a09-af42-0c45a88865bc",
   "metadata": {},
   "outputs": [],
   "source": [
    "plt.plot(range(9), -np.log(list(us.discrete_hist.values())))\n",
    "plt.plot(range(9), -np.log(sum_of_hist))"
   ]
  },
  {
   "cell_type": "code",
   "execution_count": null,
   "id": "647d9f63-b81d-4293-b39f-014df2d59101",
   "metadata": {},
   "outputs": [],
   "source": [
    "counters = [sum(hist) for hist in unbiased_discrete_window.values()]"
   ]
  },
  {
   "cell_type": "code",
   "execution_count": null,
   "id": "d74ef2ca-2fb7-4788-8cf6-21d246362035",
   "metadata": {},
   "outputs": [],
   "source": [
    "new_hist = [hist / count for hist,count in zip(unbiased_discrete_window.values(), counters)]"
   ]
  },
  {
   "cell_type": "code",
   "execution_count": null,
   "id": "d9e91bbb-b298-424c-b377-b280fa84ff33",
   "metadata": {
    "tags": []
   },
   "outputs": [],
   "source": [
    "new_hist"
   ]
  },
  {
   "cell_type": "code",
   "execution_count": null,
   "id": "b7958433-d0be-472d-ae29-ec8701d0689b",
   "metadata": {},
   "outputs": [],
   "source": [
    "us_list[0].homebrew_discrete_wham(9)"
   ]
  },
  {
   "cell_type": "code",
   "execution_count": null,
   "id": "1b745247-d94e-418a-8958-9f74547e996c",
   "metadata": {
    "tags": []
   },
   "outputs": [],
   "source": [
    "max_hb = 8\n",
    "plt.figure()\n",
    "plt.plot(range(9), vmmc_sim_list[0].statistics['wt_free'], label='discrete')\n",
    "plt.plot(range(9), -np.log(us_list[0].homebrew_discrete_wham(9)), label='here')"
   ]
  },
  {
   "cell_type": "markdown",
   "id": "6776df31-0857-4230-9deb-fa477f46913f",
   "metadata": {},
   "source": [
    "<font size='6'><a class=\"anchor\" id=\"3\"></a> <h2 align=\"center\"> <font color='black'>Multisystem umbrella sampling</font></h2> "
   ]
  },
  {
   "cell_type": "code",
   "execution_count": null,
   "id": "da790945-6b55-40b7-bd47-06ab876223e2",
   "metadata": {},
   "outputs": [],
   "source": [
    "path = os.path.abspath('/scratch/mlsample/ipy_oxDNA/ipy_oxdna_examples/duplex_melting/')\n",
    "\n",
    "system_name = 'multi_system_runs'\n",
    "\n",
    "systems = ['print_100_normal_1e9', 'print_100_unique_1e9']\n",
    "print_every_list = [100, 100]\n",
    "\n",
    "file_dirs = [f'{path}/{system_name}' for _ in range(len(systems))]\n",
    "\n",
    "\n",
    "com_list = '8,9,10,11,12,13,14,15'\n",
    "ref_list = '0,1,2,3,4,5,6,7'\n",
    "xmin = 0\n",
    "xmax = 6\n",
    "n_windows = 50\n",
    "\n",
    "stiff = 0.8\n",
    "\n",
    "equlibration_parameters = {'backend':'CPU','steps':'5e7','print_energy_every': '4e7',\n",
    "                           'print_conf_interval':'4e7', \"CUDA_list\": \"no\",\n",
    "                           'use_edge': 'false', 'refresh_vel': '1',\n",
    "                           'fix_diffusion': '0', 'fix_diffusion_every': '1000',\n",
    "                           'T':'52C'\n",
    "                          }\n",
    "\n",
    "production_parameters ={'backend':'CPU','steps':'1e9','print_energy_every': '1e8',\n",
    "                        'print_conf_interval':'1e8', \"CUDA_list\": \"no\",\n",
    "                        'use_edge': 'false', 'refresh_vel': '1',\n",
    "                        'fix_diffusion': '0', 'fix_diffusion_every': '1000',\n",
    "                        'T':'52C'\n",
    "                        }\n",
    "\n",
    "us_list = [MeltingUmbrellaSampling(file_dir, sys, clean_build='force') for file_dir, sys in zip(file_dirs,systems)]\n",
    "\n",
    "simulation_manager = SimulationManager()"
   ]
  },
  {
   "cell_type": "code",
   "execution_count": null,
   "id": "c8aab7c0-936a-4d2f-aecc-7ac883b00a8a",
   "metadata": {},
   "outputs": [],
   "source": [
    "for us, print_every in zip(us_list, print_every_list):\n",
    "    us.build_equlibration_runs(simulation_manager, n_windows, com_list, ref_list,\n",
    "                               stiff, xmin, xmax, equlibration_parameters,\n",
    "                               print_every=print_every, observable=True, protein=None,\n",
    "                               force_file=None, continue_run=False)\n"
   ]
  },
  {
   "cell_type": "code",
   "execution_count": null,
   "id": "74c2d5e8-d5d9-4d7c-82f6-236bc53d567b",
   "metadata": {},
   "outputs": [],
   "source": [
    "us_list[1].modify_topology_for_unique_pairing()"
   ]
  },
  {
   "cell_type": "code",
   "execution_count": null,
   "id": "c1ecb66a-99ec-438e-82a9-611c1ff3f734",
   "metadata": {
    "tags": []
   },
   "outputs": [],
   "source": [
    "simulation_manager.run(cpu_run=True, gpu_mem_block=False)"
   ]
  },
  {
   "cell_type": "code",
   "execution_count": null,
   "id": "2f4c0b52-bd07-4b9a-b601-d4a606701035",
   "metadata": {},
   "outputs": [],
   "source": [
    "for us, print_every in zip(us_list, print_every_list):\n",
    "    us.build_production_runs(simulation_manager, n_windows, com_list, ref_list,\n",
    "                             stiff, xmin, xmax, production_parameters,\n",
    "                             observable=True, print_every=print_every,protein=None,\n",
    "                             force_file=None, continue_run=False)\n"
   ]
  },
  {
   "cell_type": "code",
   "execution_count": null,
   "id": "3252accf-0b85-44a4-86f0-20f6579a1600",
   "metadata": {
    "tags": []
   },
   "outputs": [],
   "source": [
    "simulation_manager.run(cpu_run=True, gpu_mem_block=False)\n"
   ]
  },
  {
   "cell_type": "code",
   "execution_count": null,
   "id": "89c11a6d-620b-40c5-926e-ab3da788d5f7",
   "metadata": {},
   "outputs": [],
   "source": [
    "wham_dir = os.path.abspath('/scratch/mlsample/ipy_oxDNA/wham/wham')\n",
    "n_bins = '200'\n",
    "tol = '1e-5'\n",
    "n_boot = '0'\n",
    "for us in us_list:\n",
    "    us.wham_run(wham_dir, xmin, xmax, stiff, n_bins, tol, n_boot)"
   ]
  },
  {
   "cell_type": "code",
   "execution_count": null,
   "id": "a07757e5-f614-4ee2-98c6-fded97216d97",
   "metadata": {},
   "outputs": [],
   "source": [
    "with plt.style.context(['science', 'no-latex', 'bright']): \n",
    "    ax = us_list[0].wham.plt_fig()\n",
    "    for us in us_list:\n",
    "        us.wham.plot_free_energy(ax=ax)\n",
    "    vmmc_replica_generator.plot_mean_free_energy_with_error_bars(num_bins=1000, ax=ax, confidence_level=0.95, label='VMMC discrete made continuous 52C')\n",
    "    plt.legend(fontsize=6)\n",
    "    plt.xlim(0, 6)\n",
    "    plt.ylim(0, 8)"
   ]
  },
  {
   "cell_type": "code",
   "execution_count": null,
   "id": "ea4526d8-b855-4094-93ee-dc6a0eb1fb67",
   "metadata": {
    "tags": []
   },
   "outputs": [],
   "source": [
    "for us in us_list:\n",
    "    us.com_distance_observable(com_list, ref_list)\n",
    "\n",
    "\n",
    "for us in us_list[:2]:\n",
    "    plt.figure(dpi=200)\n",
    "    for idx in range(0,100,1):\n",
    "        us.analysis.view_observable('prod', idx, sliding_window=50, observable=us.observables_list[0])#, observable=us.observables_list[0], sliding_window=20)\n",
    "    plt.legend([us.system], fontsize=7)"
   ]
  },
  {
   "cell_type": "markdown",
   "id": "bdc349cf-4000-4793-84b0-e10c519a6a07",
   "metadata": {},
   "source": [
    "<font size='6'><a class=\"anchor\" id=\"3\"></a> <h2 align=\"center\"> <font color='black'>Unbiased equlibration</font></h2> "
   ]
  },
  {
   "cell_type": "code",
   "execution_count": null,
   "id": "d7bfbda8-c970-4a59-a18e-62c1cb28c1c1",
   "metadata": {},
   "outputs": [],
   "source": [
    "simulation_manager = SimulationManager() \n",
    "simulation_manager.start_nvidia_cuda_mps_control(pipe='temp')"
   ]
  },
  {
   "cell_type": "code",
   "execution_count": null,
   "id": "eb335b0d-2be0-4dc0-ab75-2090e65b657b",
   "metadata": {},
   "outputs": [],
   "source": [
    "path = os.path.abspath('/scratch/mlsample/ipy_oxDNA/ipy_oxdna_examples')\n",
    "file_dir = f'{path}/duplex_melting'\n",
    "sim_dir = f'{file_dir}/unbiased_no_non_canonical_bonds_1'\n",
    "\n",
    "sim = Simulation(file_dir, sim_dir)"
   ]
  },
  {
   "cell_type": "code",
   "execution_count": null,
   "id": "cdb4b816-1290-40cd-a0e5-9c2637cdd5e8",
   "metadata": {},
   "outputs": [],
   "source": [
    "sim.build(clean_build='force')\n",
    "sim.input_file({'backend':'CPU', 'steps':'1e7','print_energy_every': '1e4', 'print_conf_interval':'1e4', \"CUDA_list\": \"no\", 'use_edge': 'false'})"
   ]
  },
  {
   "cell_type": "code",
   "execution_count": null,
   "id": "23ffb44f-1a60-4f84-9df8-21c86cc381c9",
   "metadata": {},
   "outputs": [],
   "source": [
    "sim.modify_topology_for_unique_pairing()"
   ]
  },
  {
   "cell_type": "code",
   "execution_count": null,
   "id": "cba1ed52-1e2c-4b28-b971-3e05f62ffacf",
   "metadata": {},
   "outputs": [],
   "source": [
    "sim.oxpy_run.run(subprocess=True)"
   ]
  },
  {
   "cell_type": "code",
   "execution_count": null,
   "id": "988c1c48-6902-45e1-8e11-1a4df6062fd2",
   "metadata": {},
   "outputs": [],
   "source": [
    "sim.oxpy_run.process.terminate()"
   ]
  },
  {
   "cell_type": "code",
   "execution_count": null,
   "id": "02c53134-6edf-4027-a442-384b3fc6928a",
   "metadata": {
    "tags": []
   },
   "outputs": [],
   "source": [
    "sim.analysis.plot_energy()\n",
    "sim.analysis.view_last()"
   ]
  },
  {
   "cell_type": "markdown",
   "id": "cd742972-1b20-49ab-9b01-96499c9e5f9d",
   "metadata": {},
   "source": [
    "<font size='7'><a class=\"anchor\" id=\"3\"></a> <h2 align=\"center\"> <font color='black'>Initalize Vmmc Replicas</font></h2> "
   ]
  },
  {
   "cell_type": "code",
   "execution_count": null,
   "id": "6b3bae8d-62be-4d4b-a755-517f7e07726b",
   "metadata": {},
   "outputs": [],
   "source": [
    "path = os.path.abspath('/scratch/mlsample/ipy_oxDNA/ipy_oxdna_examples')\n",
    "systems = ['duplex_melting']\n",
    "\n",
    "file_dir_list = [f'{path}/{sys}' for sys in systems]\n",
    "sim_dir_list = [f'{file_dir}/vmmc_melting_replicas/vmmc_melting_rep' for sys, file_dir in zip(systems, file_dir_list)]\n",
    "\n",
    "n_replicas = 40\n",
    "vmmc_replica_generator = VmmcReplicas()\n",
    "\n",
    "vmmc_replica_generator.multisystem_replica(\n",
    "    systems,\n",
    "    n_replicas,\n",
    "    file_dir_list,\n",
    "    sim_dir_list\n",
    ")\n",
    "vmmc_sim_list = vmmc_replica_generator.sim_list\n",
    "queue_of_simulations = vmmc_replica_generator.queue_of_sims\n",
    "\n",
    "p1 = '15,14,13,12,11,10,9,8'\n",
    "p2 = '0,1,2,3,4,5,6,7'\n",
    "pre_defined_weights = [8, 16204, 1882.94, 359.746, 52.5898, 15.0591, 7.21252, 2.2498, 2.89783]\n",
    "\n",
    "sim_parameters = {'T':'52C', 'steps':'1e9','print_energy_every': '1e5','print_conf_interval':'1e6'}"
   ]
  },
  {
   "cell_type": "code",
   "execution_count": null,
   "id": "383d2a98-584b-46a7-a261-046e303f6a17",
   "metadata": {},
   "outputs": [],
   "source": [
    "vmmc_sim_list[0].analysis.read_vmmc_op_data()\n",
    "vmmc_sim_list[0].analysis.calculate_sampling_and_probabilities()"
   ]
  },
  {
   "cell_type": "code",
   "execution_count": null,
   "id": "22dc4881-ed5a-484e-a0f0-37e28c10fd2f",
   "metadata": {
    "tags": []
   },
   "outputs": [],
   "source": [
    "with plt.style.context(['science', 'no-latex', 'bright']):\n",
    "    ax = us.wham.plt_fig() \n",
    "    vmmc_replica_generator.plot_mean_free_energy_with_error_bars(num_bins=500, ax=ax, confidence_level=0.95, label='VMMC discrete made continuous 52C')\n",
    "    # us_1.wham.plot_free_energy(confidence_level=0.99, ax=ax, errorevery=10, label='Continuous umbrella sampling 52C all bonds')\n",
    "    us.wham.plot_free_energy(confidence_level=0.99, ax=ax, errorevery=10, label='Continuos umbrella sampling 52C only intended bonds')\n",
    "    ax.set_xlim(-0.1,8)\n",
    "    plt.ylim(-0.1,9)\n",
    "plt.legend(fontsize=6)"
   ]
  },
  {
   "cell_type": "code",
   "execution_count": null,
   "id": "d1df2f82-d20b-4fa8-a471-276083654afb",
   "metadata": {
    "tags": []
   },
   "outputs": [],
   "source": [
    "with plt.style.context(['science', 'no-latex', 'bright']):\n",
    "    ax = us.wham.plt_fig() \n",
    "    # vmmc_replica_generator.plot_mean_free_energy_with_error_bars(num_bins=500, ax=ax, confidence_level=0.95, label='VMMC discrete made continuous 52C')\n",
    "    us_1.wham.plot_free_energy(confidence_level=0.99, ax=ax, errorevery=10, label='Continuous umbrella sampling 52C all bonds')\n",
    "    us.wham.plot_free_energy(confidence_level=0.99, ax=ax, errorevery=10, label='Continuos umbrella sampling 52C only intended bonds')\n",
    "    # ax.set_xlim(-0.1,8)\n",
    "    # plt.ylim(-0.1,9)\n",
    "plt.legend(fontsize=6)"
   ]
  },
  {
   "cell_type": "markdown",
   "id": "2656d4ca-ef84-4773-8776-67e3b212d055",
   "metadata": {},
   "source": [
    "<font size='7'><a class=\"anchor\" id=\"3\"></a> <h2 align=\"center\"> <font color='black'>Umbrella sampling melting</font></h2> "
   ]
  },
  {
   "cell_type": "code",
   "execution_count": null,
   "id": "47505920-3803-4f54-9b7f-f8c1145c8fa8",
   "metadata": {},
   "outputs": [],
   "source": [
    "simulation_manager = SimulationManager()\n",
    "\n",
    "path = os.path.abspath('/scratch/mlsample/ipy_oxDNA/ipy_oxdna_examples')\n",
    "file_dir = f'{path}/duplex_melting'\n",
    "system = 'us_melting_52_cpu'\n",
    "\n",
    "com_list = '8,9,10,11,12,13,14,15'\n",
    "ref_list = '0,1,2,3,4,5,6,7'\n",
    "xmin = 0\n",
    "xmax = 6\n",
    "n_windows = 100\n",
    "\n",
    "stiff = 0.8\n",
    "\n",
    "equlibration_parameters = {'backend':'CPU','steps':'1e7','print_energy_every': '5e6',\n",
    "                           'print_conf_interval':'5e6', \"CUDA_list\": \"no\",\n",
    "                           'use_edge': 'false', 'refresh_vel': '1',\n",
    "                           'fix_diffusion': '0', 'fix_diffusion_every': '1000',\n",
    "                           'T':'52C'\n",
    "                          }\n",
    "\n",
    "production_parameters ={'backend':'CPU','steps':'2e9','print_energy_every': '2e7',\n",
    "                        'print_conf_interval':'2e7', \"CUDA_list\": \"no\",\n",
    "                        'use_edge': 'false', 'refresh_vel': '1',\n",
    "                        'fix_diffusion': '0', 'fix_diffusion_every': '1000',\n",
    "                        'T':'52C'\n",
    "                        }\n",
    "\n",
    "us_1 = MeltingUmbrellaSampling(file_dir, system, clean_build=True)\n"
   ]
  },
  {
   "cell_type": "code",
   "execution_count": null,
   "id": "e68b0954-5d24-4f67-a674-2d734321aa4b",
   "metadata": {},
   "outputs": [],
   "source": [
    "simulation_manager = SimulationManager()\n",
    "\n",
    "path = os.path.abspath('/scratch/mlsample/ipy_oxDNA/ipy_oxdna_examples')\n",
    "file_dir = f'{path}/duplex_melting'\n",
    "system = 'us_melting_52_no_non_canonical_10'\n",
    "\n",
    "com_list = '8,9,10,11,12,13,14,15'\n",
    "ref_list = '0,1,2,3,4,5,6,7'\n",
    "xmin = 0\n",
    "xmax = 6\n",
    "n_windows = 100\n",
    "\n",
    "stiff = 0.8\n",
    "\n",
    "equlibration_parameters = {'backend':'CPU','steps':'1e7','print_energy_every': '5e6',\n",
    "                           'print_conf_interval':'5e6', \"CUDA_list\": \"no\",\n",
    "                           'use_edge': 'false', 'refresh_vel': '1',\n",
    "                           'fix_diffusion': '0', 'fix_diffusion_every': '1000',\n",
    "                           'T':'52C'\n",
    "                          }\n",
    "\n",
    "production_parameters ={'backend':'CPU','steps':'2e9','print_energy_every': '2e7',\n",
    "                        'print_conf_interval':'2e7', \"CUDA_list\": \"no\",\n",
    "                        'use_edge': 'false', 'refresh_vel': '1',\n",
    "                        'fix_diffusion': '0', 'fix_diffusion_every': '1000',\n",
    "                        'T':'52C'\n",
    "                        }\n",
    "\n",
    "us = MeltingUmbrellaSampling(file_dir, system, clean_build=True)\n"
   ]
  },
  {
   "cell_type": "markdown",
   "id": "b0cee52a-1d9d-4b0f-accc-9b84d9977cf6",
   "metadata": {},
   "source": [
    "<font size='6'><a class=\"anchor\" id=\"3\"></a> <h2 align=\"center\"> <font color='black'>Build and run</font></h2> "
   ]
  },
  {
   "cell_type": "code",
   "execution_count": null,
   "id": "2620c3e4-0827-45cd-a8e3-4ed243f3ad41",
   "metadata": {
    "tags": []
   },
   "outputs": [],
   "source": [
    "us.build_equlibration_runs(simulation_manager, n_windows, com_list, ref_list, stiff, xmin, xmax, equlibration_parameters,\n",
    "                           observable=True, sequence_dependant=False, print_every=10, name='com_distance.txt',\n",
    "                           continue_run=False)"
   ]
  },
  {
   "cell_type": "code",
   "execution_count": null,
   "id": "68a8114b-03ce-4b2f-84fc-4d24ebec08e4",
   "metadata": {},
   "outputs": [],
   "source": [
    "us.modify_topology_for_unique_pairing()"
   ]
  },
  {
   "cell_type": "code",
   "execution_count": null,
   "id": "e874d5bb-1ec0-4933-aeff-510584c4c56c",
   "metadata": {
    "tags": []
   },
   "outputs": [],
   "source": [
    "simulation_manager.run(cpu_run=True, gpu_mem_block=False)"
   ]
  },
  {
   "cell_type": "code",
   "execution_count": null,
   "id": "d5b5fc79-21be-4af9-be11-0d3024e35522",
   "metadata": {
    "tags": []
   },
   "outputs": [],
   "source": [
    "us.build_production_runs(simulation_manager, n_windows, com_list, ref_list, stiff, xmin, xmax, production_parameters,\n",
    "                           observable=True, sequence_dependant=False, print_every=10, name='com_distance.txt',\n",
    "                        continue_run=False)"
   ]
  },
  {
   "cell_type": "code",
   "execution_count": null,
   "id": "ab6325d1-025d-4ef3-82ff-b7378b383252",
   "metadata": {
    "tags": []
   },
   "outputs": [],
   "source": [
    "simulation_manager.run(cpu_run=True, gpu_mem_block=False)"
   ]
  },
  {
   "cell_type": "code",
   "execution_count": null,
   "id": "aa7eabbd-67b2-4eca-bfa6-8d46bfbbddf3",
   "metadata": {
    "tags": []
   },
   "outputs": [],
   "source": [
    "dir(us.equlibration_sims[0].sim_files)"
   ]
  },
  {
   "cell_type": "markdown",
   "id": "81c298c0-211f-4436-8c60-310166a88be8",
   "metadata": {},
   "source": [
    "<font size='6'><a class=\"anchor\" id=\"3\"></a> <h2 align=\"center\"> <font color='black'>Run time analysis methods</font></h2> "
   ]
  },
  {
   "cell_type": "code",
   "execution_count": null,
   "id": "8101f548-bfaf-4905-9fac-1055bccd7fbb",
   "metadata": {
    "tags": []
   },
   "outputs": [],
   "source": [
    "us.analysis.view_conf('eq', 7)"
   ]
  },
  {
   "cell_type": "code",
   "execution_count": null,
   "id": "d5fc8d79-e198-4562-b82d-d545a5ae4ddf",
   "metadata": {
    "tags": []
   },
   "outputs": [],
   "source": [
    "us.com_distance_observable(com_list, ref_list, print_every=10)\n",
    "us.hb_list_observable(print_every=10)\n",
    "plt.figure(dpi=50)\n",
    "for idx in range(0,100,1):\n",
    "    us.analysis.hist_observable('prod', idx, observable=us.observables_list[0])#, sliding_window=False)#, bins=200)#)\n",
    "# plt.legend(fontsize=4)"
   ]
  },
  {
   "cell_type": "code",
   "execution_count": null,
   "id": "6ac137c1-689e-4f2e-a524-2fc182ee5122",
   "metadata": {
    "tags": []
   },
   "outputs": [],
   "source": [
    "for idx in range(0,48):\n",
    "    print(idx)\n",
    "    us.equlibration_sims[idx].sim_files.last_conf"
   ]
  },
  {
   "cell_type": "code",
   "execution_count": null,
   "id": "6a3a5730-70bc-494a-a4d3-68c74c783489",
   "metadata": {
    "tags": []
   },
   "outputs": [],
   "source": [
    "us.analysis.view_conf('eq', 13)"
   ]
  },
  {
   "cell_type": "code",
   "execution_count": null,
   "id": "defef66e-3e6e-4f3d-b521-fff04e107d4b",
   "metadata": {
    "tags": []
   },
   "outputs": [],
   "source": [
    "wham_dir = os.path.abspath('/scratch/mlsample/ipy_oxDNA/wham/wham')\n",
    "n_bins = '200'\n",
    "tol = '1e-5'\n",
    "n_boot = '0'\n",
    "us.wham_run(wham_dir, xmin, xmax, stiff, n_bins, tol, n_boot)"
   ]
  },
  {
   "cell_type": "code",
   "execution_count": null,
   "id": "f7c1b071-5b8a-4050-87bd-401cea9fab85",
   "metadata": {
    "tags": []
   },
   "outputs": [],
   "source": [
    "with plt.style.context(['science', 'no-latex', 'bright']):\n",
    "    ax = us.wham.plt_fig() \n",
    "    vmmc_replica_generator.plot_mean_free_energy_with_error_bars(num_bins=500, ax=ax, confidence_level=0.95, label='VMMC discrete made continuous 52C')\n",
    "    us.wham.plot_free_energy(confidence_level=0.99, ax=ax, errorevery=10, label='Continuos umbrella sampling 52C only intended bonds')\n",
    "    # ax.set_xlim(-0.1,8)\n",
    "    # plt.ylim(-0.1,9)\n",
    "plt.legend(fontsize=6)"
   ]
  },
  {
   "cell_type": "code",
   "execution_count": null,
   "id": "009989b7-e78f-40be-a2b4-4c46c3623058",
   "metadata": {
    "tags": []
   },
   "outputs": [],
   "source": [
    "us.free"
   ]
  },
  {
   "cell_type": "markdown",
   "id": "17936b7d-2a2f-40fd-be06-0747826ac283",
   "metadata": {},
   "source": [
    "<font size='8'><a class=\"anchor\" id=\"3\"></a> <h2 align=\"center\"> <font color='black'>Post run reinitalization </font></h2> "
   ]
  },
  {
   "cell_type": "code",
   "execution_count": null,
   "id": "1667138b-a9d1-4961-ab5d-d0ed5157644a",
   "metadata": {},
   "outputs": [],
   "source": [
    "path = os.path.abspath('/scratch/mlsample/ipy_oxDNA/ipy_oxdna_examples')\n",
    "file_dir = f'{path}/duplex_melting'\n",
    "systems = ['us_melting_10', 'us_melting', 'us_melting_30','us_melting_40', 'us_melting_62']\n",
    "\n",
    "us_list = [MeltingUmbrellaSampling(file_dir, system) for system in systems]"
   ]
  },
  {
   "cell_type": "code",
   "execution_count": null,
   "id": "a3e78e08-1c81-4bf2-b5ae-cebed436278b",
   "metadata": {},
   "outputs": [],
   "source": [
    "us_list[0].fig_ax()\n",
    "\n",
    "for us in us_list:\n",
    "    us.wham.plot_free_energy(ax=us_list[0].ax, errorevery=10)\n",
    "plt.legend([f'{10 + 273}K', f'{20 + 273}K', f'{30 + 273}K', f'{40 + 273}K', f'{62 + 273}K'])\n",
    "plt.title('8nt Duplex Melting Free Energy Profile')\n",
    "plt.xlabel('COM Distance (nm)')"
   ]
  },
  {
   "cell_type": "markdown",
   "id": "a5d1befc-f0ae-4d96-ae85-028a1bed7b30",
   "metadata": {},
   "source": [
    "<font size='6'><a class=\"anchor\" id=\"3\"></a> <h2 align=\"center\"> <font color='black'>Convergence analysis </font></h2> "
   ]
  },
  {
   "cell_type": "code",
   "execution_count": null,
   "id": "b8a593a6-bf93-4670-84f7-bdb621533a24",
   "metadata": {
    "tags": []
   },
   "outputs": [],
   "source": [
    "n_data = 50000\n",
    "\n",
    "n_chunks = 2\n",
    "data_added_per_iteration = 3\n",
    "\n",
    "wham_dir = os.path.abspath('/scratch/mlsample/ipy_oxDNA/wham/wham')\n",
    "n_bins = '200'\n",
    "tol = '1e-5'\n",
    "n_boot = '0'\n",
    "xmin = 0\n",
    "xmax = 6\n",
    "n_windows = 50\n",
    "\n",
    "stiff = 0.8\n",
    "\n",
    "for us in us_list:\n",
    "    us.convergence_analysis(n_chunks, data_added_per_iteration, wham_dir, xmin, xmax, stiff, n_bins, tol, n_boot)"
   ]
  },
  {
   "cell_type": "code",
   "execution_count": null,
   "id": "baa08371-ac8a-4c35-8bcb-4cb895dedcd9",
   "metadata": {
    "tags": []
   },
   "outputs": [],
   "source": [
    "us.wham.plot_truncated_free_energy()\n",
    "plt.legend()\n",
    "plt.title(us.system)\n",
    "us.wham.plot_chunks_free_energy()\n",
    "plt.legend()\n",
    "plt.title(us.system)"
   ]
  },
  {
   "cell_type": "code",
   "execution_count": null,
   "id": "21726b7f-a9b6-4e88-8d88-f886c6310c37",
   "metadata": {
    "tags": []
   },
   "outputs": [],
   "source": [
    "n_data = 50000\n",
    "\n",
    "n_chunks = 2\n",
    "data_added_per_iteration = 3\n",
    "\n",
    "wham_dir = os.path.abspath('/scratch/mlsample/ipy_oxDNA/wham/wham')\n",
    "n_bins = '200'\n",
    "tol = '1e-5'\n",
    "n_boot = '0'\n",
    "xmin = 0\n",
    "xmax = 8\n",
    "n_windows = 95\n",
    "\n",
    "stiff = 0.8\n",
    "\n",
    "for us in us_list:\n",
    "    if 'us_melting_62' in us.system:\n",
    "        us.convergence_analysis(n_chunks, data_added_per_iteration, wham_dir, xmin, 5, stiff, n_bins, tol, n_boot)\n",
    "    else:\n",
    "        us.convergence_analysis(n_chunks, data_added_per_iteration, wham_dir, xmin, xmax, stiff, n_bins, tol, n_boot)"
   ]
  },
  {
   "cell_type": "code",
   "execution_count": null,
   "id": "77a5c93b-4a89-4033-bd5a-7b43d6b9a7d2",
   "metadata": {
    "tags": []
   },
   "outputs": [],
   "source": [
    "for us in us_list:\n",
    "    \n",
    "    us.wham.plot_truncated_free_energy()\n",
    "    plt.legend()\n",
    "    plt.title(us.system)\n",
    "    us.wham.plot_chunks_free_energy()\n",
    "    plt.legend()\n",
    "    plt.title(us.system)"
   ]
  },
  {
   "cell_type": "markdown",
   "id": "f9d13ef0-3383-48f4-94a9-81e9c10adc9f",
   "metadata": {},
   "source": [
    "<font size='6'><a class=\"anchor\" id=\"3\"></a> <h2 align=\"center\"> <font color='black'>In progress: Com unbiasing </font></h2> "
   ]
  },
  {
   "cell_type": "code",
   "execution_count": null,
   "id": "3db47859-c87d-4f91-93e1-1d5e13494402",
   "metadata": {
    "tags": []
   },
   "outputs": [],
   "source": [
    "xmin = 0\n",
    "xmax = 6\n",
    "n_windows = 100\n",
    "stiff = 0.8\n",
    "max_hb = 8\n",
    "\n",
    "us.unbias_com_to_hb(xmin, xmax, n_windows, stiff, max_hb)"
   ]
  },
  {
   "cell_type": "code",
   "execution_count": null,
   "id": "1454860d-f484-4ea4-94e8-7e04ec3254f0",
   "metadata": {},
   "outputs": [],
   "source": [
    "x_range = np.round(np.linspace(xmin, xmax, (n_windows + 1))[1:], 3)\n",
    "\n",
    "1 / (0.5 * stiff * (x_range[0] - list(us.com_by_window.values())[0][0][0])**2)"
   ]
  },
  {
   "cell_type": "code",
   "execution_count": null,
   "id": "bf4e6069-62df-49bb-aa2b-9f42454de68a",
   "metadata": {},
   "outputs": [],
   "source": [
    "list(us.com_by_window.values())[0][0][0]"
   ]
  },
  {
   "cell_type": "code",
   "execution_count": null,
   "id": "1e3266ac-4f4a-4818-bd6d-2f4b04459ee5",
   "metadata": {
    "tags": []
   },
   "outputs": [],
   "source": [
    "us.get_bias_potential_value(xmin, xmax, n_windows, stiff)\n",
    "weight = 1 / us.umbrella_bias[0]"
   ]
  },
  {
   "cell_type": "code",
   "execution_count": null,
   "id": "04383c61-6a47-46a0-9798-79281e50c8bb",
   "metadata": {},
   "outputs": [],
   "source": [
    "sum(weight.values)"
   ]
  },
  {
   "cell_type": "code",
   "execution_count": null,
   "id": "e5d6155d-4991-4c84-937c-adf1cd227d7f",
   "metadata": {},
   "outputs": [],
   "source": [
    "us.make_last_hist_files()"
   ]
  },
  {
   "cell_type": "code",
   "execution_count": null,
   "id": "befdb5a3-f445-4ea1-ab4d-3e1e877a1a81",
   "metadata": {
    "tags": []
   },
   "outputs": [],
   "source": [
    "normalized_bins = {}\n",
    "\n",
    "discrete_bins = list(range(max_hb + 1))\n",
    "for key, value in us.unbiased_discrete_windows.items():\n",
    "    normalized_bins[key] = value / sum(value)"
   ]
  },
  {
   "cell_type": "code",
   "execution_count": null,
   "id": "5d29ca1d-093c-4abc-9b88-49dbb64941f2",
   "metadata": {
    "tags": []
   },
   "outputs": [],
   "source": [
    "normalized_bins"
   ]
  },
  {
   "cell_type": "code",
   "execution_count": null,
   "id": "ad4e2a4c-c466-4d89-8027-9bd792859423",
   "metadata": {
    "tags": []
   },
   "outputs": [],
   "source": [
    "hist = np.zeros(int(max_hb + 1))\n",
    "for key, value in normalized_bins.items():\n",
    "    hist += value\n",
    "    \n",
    "hist = hist / sum(hist)\n",
    "plt.plot(discrete_bins, -np.log(hist))\n"
   ]
  },
  {
   "cell_type": "code",
   "execution_count": null,
   "id": "8ebfb726-f060-4fcd-a7c9-72b295ccc18a",
   "metadata": {
    "tags": []
   },
   "outputs": [],
   "source": [
    "us.get_biases()"
   ]
  },
  {
   "cell_type": "code",
   "execution_count": null,
   "id": "2ef22f8a-125b-4c2e-903c-b09c44131aba",
   "metadata": {
    "tags": []
   },
   "outputs": [],
   "source": [
    "us.run_wham_discete(max_hb)"
   ]
  },
  {
   "cell_type": "code",
   "execution_count": null,
   "id": "b718c8b6-9ad6-4598-ae70-24e51a5f0f4d",
   "metadata": {},
   "outputs": [],
   "source": [
    "us.discrete_hist"
   ]
  },
  {
   "cell_type": "code",
   "execution_count": null,
   "id": "9dcd36db-4228-4722-aa9a-c851f4652c35",
   "metadata": {},
   "outputs": [],
   "source": [
    "plt.plot(us.discrete_hist.keys(), -np.log(list(us.discrete_hist.values())), label='Continuous made discrete')\n",
    "plt.plot(range(9), vmmc_sim_list[0].statistics['wt_free'], label='discrete')\n",
    "# plt.plot(discrete_bins, -np.log(hist))\n",
    "plt.legend()"
   ]
  },
  {
   "cell_type": "code",
   "execution_count": null,
   "id": "4af521dc-bb91-464e-818a-67a09a5f74e4",
   "metadata": {
    "tags": []
   },
   "outputs": [],
   "source": [
    "us.hb_by_window[0].shape[0]"
   ]
  },
  {
   "cell_type": "code",
   "execution_count": null,
   "id": "e076c2d3-a259-4ced-85c4-cab7bb53c25d",
   "metadata": {},
   "outputs": [],
   "source": [
    "vmmc_sim_list[0].analysis.read_vmmc_op_data()"
   ]
  },
  {
   "cell_type": "code",
   "execution_count": null,
   "id": "a9e32ea6-36cb-4c20-ba4d-53ab08852706",
   "metadata": {},
   "outputs": [],
   "source": [
    "vmmc_sim_list[0].analysis.calculate_sampling_and_probabilities()"
   ]
  },
  {
   "cell_type": "code",
   "execution_count": null,
   "id": "8d9cba2c-dc41-4885-b5a0-6c706de4cc7c",
   "metadata": {},
   "outputs": [],
   "source": [
    "plt.plot(range(9), vmmc_sim_list[0].statistics['wt_free'])"
   ]
  },
  {
   "cell_type": "code",
   "execution_count": null,
   "id": "c6c9ace3-93d6-4f9a-baa0-8ef18384ce80",
   "metadata": {
    "tags": []
   },
   "outputs": [],
   "source": [
    "plt.plot(vmmc_sim_list[0].vmmc_df['h_bonds'], np.log(vmmc_sim_list[0].vmmc_df['wt_occ']))"
   ]
  },
  {
   "cell_type": "code",
   "execution_count": null,
   "id": "a166d879-ecb7-4807-a012-22d2a6253dc4",
   "metadata": {},
   "outputs": [],
   "source": [
    "vmmc_sim_list[0].analysis.calculate_weighted_histogram()"
   ]
  },
  {
   "cell_type": "code",
   "execution_count": null,
   "id": "be10d781-dacf-4dcd-8ce3-de7e7798cf16",
   "metadata": {},
   "outputs": [],
   "source": [
    "vmmc_sim_list[0].analysis.calculate_sampling_and_probabilities()"
   ]
  },
  {
   "cell_type": "code",
   "execution_count": null,
   "id": "71b2a5de-593a-42ed-abb2-d997ba40786a",
   "metadata": {
    "tags": []
   },
   "outputs": [],
   "source": [
    "import numpy as np\n",
    "biases = np.array(us.get_biases())\n",
    "# biases = [float(bias) / ((273 + 20) / 3000) for bias in biases]\n",
    "free_shift = [float(bias) for bias in biases]\n",
    "bins = np.linspace(0, 8, 200)\n",
    "com_by_window = us.get_com_distance_by_window()\n",
    "histograms = [np.histogram(coms, bins=bins) for coms in com_by_window.values()]"
   ]
  },
  {
   "cell_type": "code",
   "execution_count": null,
   "id": "75736662-ef47-4aa3-a872-602226092aa9",
   "metadata": {},
   "outputs": [],
   "source": [
    "com_by_window"
   ]
  },
  {
   "cell_type": "code",
   "execution_count": null,
   "id": "c0d621cb-d40e-4ac6-8d01-1e0be105b322",
   "metadata": {},
   "outputs": [],
   "source": [
    "# Optimize the weighted property calculation function by vectorizing operations where possible\n",
    "def calculate_weighted_property_optimized(com_distance_dfs, hb_list_dfs, metadata_df, F_i_values):\n",
    "    weighted_property = {}\n",
    "    # Constants\n",
    "    K_B = 1  # Boltzmann constant in simulation units\n",
    "    T = 1  # Temperature in simulation units\n",
    "    \n",
    "    # Reset the index of metadata DataFrame\n",
    "    metadata_df = metadata_df.reset_index(drop=True)\n",
    "    \n",
    "    for i, (com_distance_df, hb_list_df) in enumerate(zip(com_distance_dfs.values(), hb_list_dfs.values())):\n",
    "        # Reset the index for both DataFrames for consistent indexing\n",
    "        com_distance_df = com_distance_df.reset_index(drop=True)\n",
    "        hb_list_df = hb_list_df.reset_index(drop=True)\n",
    "        \n",
    "        # Fetch window-specific parameters\n",
    "        k_i = metadata_df.loc[i, 'Spring']\n",
    "        x_0_i = metadata_df.loc[i, 'Loc_win_min']\n",
    "        F_i = F_i_values[i]\n",
    "        \n",
    "        # Vectorized calculation of the weighting factor (Equation 13 in the WHAM paper)\n",
    "        weighting_factor = np.exp((F_i - 0.5 * k_i * (com_distance_df['Value'] - x_0_i)**2) / (K_B * T))\n",
    "        \n",
    "        # Vectorized calculation of the weighted property (T(x))\n",
    "        hb_values = hb_list_df['Value']\n",
    "        weighted_numerator = weighting_factor * com_distance_df['Value']\n",
    "        weighted_denominator = weighting_factor\n",
    "        \n",
    "        for x, (numerator, denominator) in zip(hb_values, zip(weighted_numerator, weighted_denominator)):\n",
    "            if x not in weighted_property:\n",
    "                weighted_property[x] = {'numerator': 0.0, 'denominator': 0.0}\n",
    "            weighted_property[x]['numerator'] += numerator\n",
    "            weighted_property[x]['denominator'] += denominator\n",
    "    \n",
    "    # Calculate the final weighted property T(x) (Equation 14 in the WHAM paper)\n",
    "    weighted_property_result = {x: props['numerator'] / props['denominator'] for x, props in weighted_property.items()}\n",
    "    \n",
    "    return weighted_property_result\n",
    "\n",
    "# Re-run the weighted property calculation with the optimized function\n",
    "weighted_property_result_optimized = calculate_weighted_property_optimized(all_com_distance_dfs, all_h_bonds_dfs, metadata_df, F_i_values_fixed)\n",
    "\n",
    "weighted_property_result_optimized"
   ]
  },
  {
   "cell_type": "code",
   "execution_count": null,
   "id": "e80caa39-931c-496e-9afc-9a3647e4899e",
   "metadata": {
    "tags": []
   },
   "outputs": [],
   "source": [
    "def get_bias_potential_value(com_by_window, xmin, xmax, n_windows, stiff):\n",
    "    x_range = np.round(np.linspace(xmin, xmax, (n_windows + 1))[1:], 3)\n",
    "    umbrella_bias = [0.5 * stiff * (com_values - eq_pos)**2 for com_values, eq_pos in zip(com_by_window.values(), x_range)]\n",
    "    return umbrella_bias\n",
    "                     \n",
    "def weighted_average_time_series(biases, com_by_window, xmin, xmax, n_windows, stiff):\n",
    "    bias_potential_values = get_bias_potential_value(com_by_window, xmin, xmax, n_windows, stiff)\n",
    "    \n",
    "    exp_term = [np.exp(bias - free) for bias, free in zip(bias_potential_values, free_shift)]\n",
    "    \n",
    "    denominator = sum([sum(term) for term in exp_term])\n",
    "    \n",
    "    numberator = sum([sum(time_series * term) for time_series, term in zip(com_by_window, exp_term)])\n",
    "    \n",
    "    \n",
    "    return numberator / denominator\n",
    "        \n",
    "    \n",
    "    \n",
    "    \n",
    "def wham_probability_equation(histograms, free_shift, com_by_window, xmin, xmax, n_windows, stiff):\n",
    "    #get the histogram counts\n",
    "    counts = [hist[0] for hist in histograms]\n",
    "    #get hist bins\n",
    "    bins = histograms[0][1]\n",
    "    #compute the numerator\n",
    "    sum_of_counts_over_all_windows = sum(counts)\n",
    "    #\n",
    "    umbrella_bias = get_bias_potential_value(com_by_window, xmin, xmax, n_windows, stiff)\n",
    "    shift_minus_umbrella_bias = [ sum(np.exp(free - bias)) for free, bias in zip(free_shift, umbrella_bias)]\n",
    "    print(len(sum_of_counts_over_all_windows))\n",
    "    \n",
    "    return None\n",
    "\n",
    "wham_probability_equation(histograms, free_shift, com_by_window, xmin, xmax, n_windows, stiff)"
   ]
  },
  {
   "cell_type": "code",
   "execution_count": null,
   "id": "77dfa3ff-ec4b-4efe-87e3-6c030240070b",
   "metadata": {},
   "outputs": [],
   "source": [
    "histograms = [np.histogram(coms, bins=bins) for coms in com_by_window.values()]"
   ]
  },
  {
   "cell_type": "code",
   "execution_count": null,
   "id": "8066d274-a191-40dc-884e-4b51ebe34816",
   "metadata": {
    "tags": []
   },
   "outputs": [],
   "source": [
    "histograms"
   ]
  },
  {
   "cell_type": "code",
   "execution_count": null,
   "id": "ba47df6d-9246-435e-a0e0-06105d80bf55",
   "metadata": {},
   "outputs": [],
   "source": [
    "import numpy as np\n",
    "biases = np.array(us.get_biases())\n",
    "# biases = [float(bias) / ((273 + 20) / 3000) for bias in biases]\n",
    "free_shift = [float(bias) for bias in biases]\n",
    "bins = np.linspace(0, 8, 200)\n",
    "com_by_window = us.get_com_distance_by_window()\n",
    "histograms = [np.histogram(coms, bins=bins) for coms in com_by_window.values()]"
   ]
  },
  {
   "cell_type": "code",
   "execution_count": null,
   "id": "045c3c05-d159-4224-9f21-ab9c9738ab5a",
   "metadata": {
    "tags": []
   },
   "outputs": [],
   "source": []
  },
  {
   "cell_type": "code",
   "execution_count": null,
   "id": "82dc172d-1206-42a4-98a1-a313c1fded0a",
   "metadata": {
    "tags": []
   },
   "outputs": [],
   "source": [
    "def get_window_bias_potential_value(bins, xmin, xmax, n_windows, stiff):\n",
    "    x_range = np.round(np.linspace(xmin, xmax, (n_windows + 1))[1:], 3)\n",
    "    bins = bins[1:]\n",
    "    print(bins)\n",
    "    print(x_range)\n",
    "    diffrence = [com_values - eq_pos for com_values, eq_pos in zip(bins, x_range)]\n",
    "    umbrella_bias = [0.5 * stiff * (com_values - eq_pos)**2 for com_values, eq_pos in zip(bins, x_range)]\n",
    "    return diffrence\n",
    "\n",
    "get_window_bias_potential_value(bins, xmin, xmax, n_windows, stiff)\n"
   ]
  },
  {
   "cell_type": "code",
   "execution_count": null,
   "id": "74142028-e179-4ce2-abf6-2118070a7ee6",
   "metadata": {},
   "outputs": [],
   "source": [
    "#I want to \n",
    "umbrella_bias = get_bias_potential_value(bins, xmin, xmax, n_windows, stiff)\n",
    "com_values = list(com_by_window.values())"
   ]
  },
  {
   "cell_type": "code",
   "execution_count": null,
   "id": "bc7dd445-904a-4571-abdd-56b9b21c856f",
   "metadata": {
    "tags": []
   },
   "outputs": [],
   "source": [
    "umbrella_bias = get_bias_potential_value(bins, xmin, xmax, n_windows, stiff)\n",
    "umbrella_bias"
   ]
  },
  {
   "cell_type": "code",
   "execution_count": null,
   "id": "f78b43b1-2ce5-4750-8b81-59cebf7c7506",
   "metadata": {
    "tags": []
   },
   "outputs": [],
   "source": [
    "master_H = np.zeros(199)\n",
    "\n",
    "for (H, bins), free, bias in zip(histograms, free_shift, umbrella_bias):\n",
    "    # print(H)\n",
    "    # H = H * bias\n",
    "    # print(H)\n",
    "    H = np.array([-np.log(count) if count > 0 else 0 for count in H])\n",
    "    H = H - bias + free\n",
    "    # print(H)\n",
    "    # H = np.array([np.exp(-count) for count in H])\n",
    "    # H = np.array([count if count != 1 else 0 for count in H ])\n",
    "    print(H)\n",
    "    master_H += H\n",
    "\n",
    "master_H = master_H"
   ]
  },
  {
   "cell_type": "code",
   "execution_count": null,
   "id": "eef61007-6430-48f0-b880-8da9dcf31ea2",
   "metadata": {
    "tags": []
   },
   "outputs": [],
   "source": [
    "master_H /= sum(master_H)\n",
    "weight_avg = bins[1:] * master_H"
   ]
  },
  {
   "cell_type": "code",
   "execution_count": null,
   "id": "8e6e9e3d-885f-472b-9bcc-ce1dd10022cb",
   "metadata": {},
   "outputs": [],
   "source": [
    "sum(weight_avg) * 0.85"
   ]
  },
  {
   "cell_type": "code",
   "execution_count": null,
   "id": "c45bf023-ba0c-438a-a98b-317c97ab64b8",
   "metadata": {
    "tags": []
   },
   "outputs": [],
   "source": [
    "weight_avg"
   ]
  },
  {
   "cell_type": "code",
   "execution_count": null,
   "id": "809d9520-4604-4e5a-a199-fa68cec0789d",
   "metadata": {},
   "outputs": [],
   "source": [
    "plt.plot(bins[1:] * 0.85, master_H)"
   ]
  },
  {
   "cell_type": "code",
   "execution_count": null,
   "id": "d5a3991b-36dd-43c1-94a1-e13fc3c4e223",
   "metadata": {
    "tags": []
   },
   "outputs": [],
   "source": [
    "for (H, bins), bias in zip(histograms, biases):\n",
    "    plt.plot(bins[1:], -np.log(H) * bias)"
   ]
  },
  {
   "cell_type": "code",
   "execution_count": null,
   "id": "95692386-b48a-443e-b9b2-57bec538f681",
   "metadata": {
    "tags": []
   },
   "outputs": [],
   "source": [
    "master_H"
   ]
  },
  {
   "cell_type": "code",
   "execution_count": null,
   "id": "6f90ede0-0c9d-448f-af0b-32b6bf582aca",
   "metadata": {
    "tags": []
   },
   "outputs": [],
   "source": [
    "H"
   ]
  },
  {
   "cell_type": "code",
   "execution_count": null,
   "id": "cd8c2b96-4cb8-47d3-b559-6824f169650f",
   "metadata": {
    "tags": []
   },
   "outputs": [],
   "source": [
    "n_data = 50000\n",
    "\n",
    "n_chunks = 2\n",
    "data_added_per_iteration = 2\n",
    "\n",
    "wham_dir = os.path.abspath('/scratch/mlsample/ipy_oxDNA/wham/wham')\n",
    "n_bins = '200'\n",
    "tol = '1e-5'\n",
    "n_boot = '0'\n",
    "xmin = 0\n",
    "xmax = 5\n",
    "n_windows = 46\n",
    "\n",
    "stiff = 0.8\n",
    "\n",
    "us.convergence_analysis(n_chunks, data_added_per_iteration, wham_dir, xmin, xmax, stiff, n_bins, tol, n_boot)"
   ]
  },
  {
   "cell_type": "code",
   "execution_count": null,
   "id": "468d0632-6a01-4539-a2f4-ad4af95ebd8f",
   "metadata": {
    "tags": []
   },
   "outputs": [],
   "source": [
    "us.wham.plot_truncated_free_energy()\n",
    "plt.legend()\n",
    "us.wham.plot_chunks_free_energy()\n",
    "plt.legend()"
   ]
  },
  {
   "cell_type": "markdown",
   "id": "c71ba29e-4911-49af-8400-12898d59de11",
   "metadata": {},
   "source": [
    "<font size='8'><a class=\"anchor\" id=\"3\"></a> <h2 align=\"center\"> <font color='black'>Convergence analysis</font></h2>"
   ]
  },
  {
   "cell_type": "code",
   "execution_count": null,
   "id": "a81f4c12-7ba7-4e2d-a9d2-9cc25be06c75",
   "metadata": {
    "tags": []
   },
   "outputs": [],
   "source": [
    "maxes =  [free_energy['Free'] for free_energy in us.chunk_dirs_free]"
   ]
  },
  {
   "cell_type": "code",
   "execution_count": null,
   "id": "fffc3ec5-a67a-48dc-ada3-6d80bb8e4f4e",
   "metadata": {},
   "outputs": [],
   "source": [
    "for us in us_list:\n",
    "    us."
   ]
  },
  {
   "cell_type": "code",
   "execution_count": null,
   "id": "0e7b16e8-d483-42c8-a7f7-18300c4d0b03",
   "metadata": {},
   "outputs": [],
   "source": [
    "import pandas as pd\n",
    "import numpy as np"
   ]
  },
  {
   "cell_type": "code",
   "execution_count": null,
   "id": "7c8fa913-eac6-4945-becb-1d2a8b4446cc",
   "metadata": {},
   "outputs": [],
   "source": [
    "free = pd.read_csv(f'{us.system_dir}/production/com_dir/freefile', sep='\\t')"
   ]
  },
  {
   "cell_type": "code",
   "execution_count": null,
   "id": "4b489a85-e2e1-4b6a-a095-0cb5d2e42721",
   "metadata": {},
   "outputs": [],
   "source": [
    "free_vals = free.iloc[-95:].Free"
   ]
  },
  {
   "cell_type": "code",
   "execution_count": null,
   "id": "6bb07e1b-47d2-4077-9bdf-8999d66b17a0",
   "metadata": {},
   "outputs": [],
   "source": [
    "free_vals.iloc[1:]"
   ]
  },
  {
   "cell_type": "code",
   "execution_count": null,
   "id": "d6f3e104-271d-4eab-8b2b-484bab9eaf0c",
   "metadata": {
    "tags": []
   },
   "outputs": [],
   "source": [
    "H_vals = np.zeros(94)\n",
    "us.hb_list_observable(print_every=1e3)\n",
    "for idx, sim in enumerate(us.production_sims):\n",
    "    sim_dir = sim.sim_dir\n",
    "    file_name = us.observables_list[1]['output']['name']\n",
    "    df = pd.read_csv(f\"{sim_dir}/{file_name}\", header=None)\n",
    "    df = np.concatenate(np.array(df))\n",
    "    H, bins = np.histogram(df, density=False, bins=np.linspace(0, 8, 95))\n",
    "    H_vals += H"
   ]
  },
  {
   "cell_type": "code",
   "execution_count": null,
   "id": "2cde587c-5ca0-45cd-af38-ef5245b47b6f",
   "metadata": {},
   "outputs": [],
   "source": [
    "prob_H = H_vals / sum(H_vals)"
   ]
  },
  {
   "cell_type": "code",
   "execution_count": null,
   "id": "810126d7-f503-4116-8db3-a65e80d0e336",
   "metadata": {},
   "outputs": [],
   "source": [
    "plt.plot(bins[:-1], -np.log(prob_H))"
   ]
  },
  {
   "cell_type": "code",
   "execution_count": null,
   "id": "17f76af0-7840-4f48-b1d8-bcdc2f27c30d",
   "metadata": {},
   "outputs": [],
   "source": []
  },
  {
   "cell_type": "code",
   "execution_count": null,
   "id": "c2e081ee-ebd4-4a48-9f7b-dea2972c6f21",
   "metadata": {},
   "outputs": [],
   "source": [
    "file_name = us.observables_list[0]['output']['name']"
   ]
  }
 ],
 "metadata": {
  "kernelspec": {
   "display_name": "oxdnapy12",
   "language": "python",
   "name": "oxdnapy12"
  },
  "language_info": {
   "codemirror_mode": {
    "name": "ipython",
    "version": 3
   },
   "file_extension": ".py",
   "mimetype": "text/x-python",
   "name": "python",
   "nbconvert_exporter": "python",
   "pygments_lexer": "ipython3",
   "version": "3.12.0"
  }
 },
 "nbformat": 4,
 "nbformat_minor": 5
}
