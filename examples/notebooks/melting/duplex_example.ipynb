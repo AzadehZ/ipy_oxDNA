{
 "cells": [
  {
   "cell_type": "markdown",
   "id": "b3921e85-29c2-4cb1-9b75-6d529f041630",
   "metadata": {},
   "source": [
    "<font size='10'><h1 align=\"center\"><font color='blue'>iPy oxDNA Examples</font></h1>"
   ]
  },
  {
   "cell_type": "markdown",
   "id": "1e81dec7-5371-4bbd-a950-fb772418cb91",
   "metadata": {},
   "source": [
    "<center>\n",
    "<img src=\"oxDNA.png\">\n",
    "</center>"
   ]
  },
  {
   "cell_type": "markdown",
   "id": "ef38f84e-72df-4e15-a20b-4b40b4c52bad",
   "metadata": {},
   "source": [
    "<font size='10'><a class=\"anchor\" id=\"3\"></a> <h2 align=\"center\"> <font color='black'>Duplex Melting</font></h2> "
   ]
  },
  {
   "cell_type": "code",
   "execution_count": 1,
   "id": "f629cb95-c1e5-4d18-8096-5f72f4525f5e",
   "metadata": {
    "execution": {
     "iopub.execute_input": "2023-10-30T01:55:07.152236Z",
     "iopub.status.busy": "2023-10-30T01:55:07.151882Z",
     "iopub.status.idle": "2023-10-30T01:55:16.519839Z",
     "shell.execute_reply": "2023-10-30T01:55:16.518818Z",
     "shell.execute_reply.started": "2023-10-30T01:55:07.152217Z"
    },
    "tags": []
   },
   "outputs": [],
   "source": [
    "from umbrella_sampling import ComUmbrellaSampling, MeltingUmbrellaSampling\n",
    "from oxdna_simulation import SimulationManager, Simulation, Observable\n",
    "from wham_analysis import collect_coms\n",
    "import os\n",
    "import matplotlib.pyplot as plt\n",
    "from vmmc import *\n",
    "from collections import Counter\n",
    "from parameter_search import *\n",
    "import numpy as np\n",
    "from skopt import Optimizer\n",
    "from skopt.space import Categorical, Space\n",
    "%load_ext autoreload\n",
    "%autoreload 2"
   ]
  },
  {
   "cell_type": "code",
   "execution_count": 4,
   "id": "32a0cca9-bf58-4f72-90bc-7474a89461f3",
   "metadata": {
    "execution": {
     "iopub.execute_input": "2023-10-27T23:14:34.584676Z",
     "iopub.status.busy": "2023-10-27T23:14:34.584110Z",
     "iopub.status.idle": "2023-10-27T23:14:46.741010Z",
     "shell.execute_reply": "2023-10-27T23:14:46.740514Z",
     "shell.execute_reply.started": "2023-10-27T23:14:34.584658Z"
    },
    "tags": []
   },
   "outputs": [
    {
     "name": "stderr",
     "output_type": "stream",
     "text": [
      "/home/mlsample/.local/lib/python3.10/site-packages/scipy/optimize/minpack.py:833: OptimizeWarning: Covariance of the parameters could not be estimated\n",
      "  warnings.warn('Covariance of the parameters could not be estimated',\n"
     ]
    }
   ],
   "source": [
    "path = os.path.abspath('/scratch/mlsample/ipy_oxDNA/ipy_oxdna_examples/duplex_melting/multi_system_runs')\n",
    "system = f'{path}/duplex_50'\n",
    "us = MeltingUmbrellaSampling(path, system)\n"
   ]
  },
  {
   "cell_type": "code",
   "execution_count": null,
   "id": "ac73a867-1fd9-4f38-bde7-ea7af505f778",
   "metadata": {
    "tags": []
   },
   "outputs": [],
   "source": [
    "hist = us.continuous_to_discrete_unbiasing(8)"
   ]
  },
  {
   "cell_type": "code",
   "execution_count": null,
   "id": "86b4eac9-4581-4e63-a78d-d33c7e7f31f1",
   "metadata": {},
   "outputs": [],
   "source": [
    "hb_values_array = [self.hb_by_window[idx].values.T[0] for idx in range(self.n_windows)]\n",
    "\n",
    "bins = list(np.linspace(0, max_hb, max_hb +1, dtype=int))\n",
    "counts_i_b = [np.bincount(hb_values, minlength=max_hb+1) for hb_values in hb_values_array]\n",
    "numerator = np.sum(counts_i_b, axis=0)\n",
    "\n",
    "bias = [value.values.T[0] for value in self.umbrella_bias]\n",
    "F_i = [float(F) for F in self.get_biases()]\n",
    "beta = 1 / self.temperature\n",
    "denominator = np.array([sum(counts) * np.exp((F - w) * beta) for counts, F, w in zip(counts_i_b, F_i, bias)])\n",
    "   \n",
    "unbiased_discrete_window = np.array([np.zeros(max_hb + 1) for _ in range(self.n_windows)]\n",
    "for idx in range(self.n_windows):\n",
    "    np.add.at(unbiased_discrete_window[idx], hb_values_array[idx], denominator[idx])\n",
    "    \n",
    "denominator = np.sum(unbiased_discrete_window, axis=0)"
   ]
  },
  {
   "cell_type": "code",
   "execution_count": null,
   "id": "a38f7b0e-b268-4289-8276-59832504348d",
   "metadata": {
    "tags": []
   },
   "outputs": [],
   "source": [
    "true = hist[0] / hist[1]\n",
    "\n",
    "normed = true / sum(true)\n",
    "\n",
    "plt.plot(range(9), normed)"
   ]
  },
  {
   "cell_type": "code",
   "execution_count": null,
   "id": "1ecdb535-8c75-4df5-9366-ae7d41f71a20",
   "metadata": {
    "tags": []
   },
   "outputs": [],
   "source": [
    "us.calculate_melting_temperature_using_vmmc()"
   ]
  },
  {
   "cell_type": "code",
   "execution_count": null,
   "id": "56448a33-3140-4f3a-8020-f7d34c7f5c61",
   "metadata": {
    "tags": []
   },
   "outputs": [],
   "source": [
    "plt.plot(range(9), us.free_energy_discrete)"
   ]
  },
  {
   "cell_type": "code",
   "execution_count": null,
   "id": "a7c0a373-8b62-4511-9447-d9b081d943cc",
   "metadata": {
    "tags": []
   },
   "outputs": [],
   "source": [
    "us.free"
   ]
  },
  {
   "cell_type": "code",
   "execution_count": null,
   "id": "623bc166-211e-40d2-8008-03f7ef797113",
   "metadata": {
    "tags": []
   },
   "outputs": [],
   "source": [
    "us.plot_free()"
   ]
  },
  {
   "cell_type": "code",
   "execution_count": null,
   "id": "71b8b1ba-88b4-4590-9f2a-33ea5802ffd8",
   "metadata": {
    "tags": []
   },
   "outputs": [],
   "source": [
    "us.get_com_distance_by_window()\n",
    "us.get_bias_potential_value(us.wham.xmin, us.wham.xmax, us.n_windows, us.wham.umbrella_stiff)\n",
    "us.get_r0_values()"
   ]
  },
  {
   "cell_type": "code",
   "execution_count": null,
   "id": "705d6169-74ee-4b99-9120-271820540210",
   "metadata": {
    "tags": []
   },
   "outputs": [],
   "source": [
    "beta = 1/us.temperature\n",
    "beta"
   ]
  },
  {
   "cell_type": "code",
   "execution_count": 5,
   "id": "035338da-c60f-4d87-a5fe-fadcafc7e91d",
   "metadata": {
    "execution": {
     "iopub.execute_input": "2023-10-27T23:14:46.742046Z",
     "iopub.status.busy": "2023-10-27T23:14:46.741890Z",
     "iopub.status.idle": "2023-10-27T23:14:47.016629Z",
     "shell.execute_reply": "2023-10-27T23:14:47.015995Z",
     "shell.execute_reply.started": "2023-10-27T23:14:46.742031Z"
    },
    "tags": []
   },
   "outputs": [
    {
     "ename": "AttributeError",
     "evalue": "'NoneType' object has no attribute 'values'",
     "output_type": "error",
     "traceback": [
      "\u001b[0;31m---------------------------------------------------------------------------\u001b[0m",
      "\u001b[0;31mAttributeError\u001b[0m                            Traceback (most recent call last)",
      "Cell \u001b[0;32mIn[5], line 3\u001b[0m\n\u001b[1;32m      1\u001b[0m F_i \u001b[38;5;241m=\u001b[39m np\u001b[38;5;241m.\u001b[39marray([\u001b[38;5;28mfloat\u001b[39m(F) \u001b[38;5;28;01mfor\u001b[39;00m F \u001b[38;5;129;01min\u001b[39;00m us\u001b[38;5;241m.\u001b[39mget_biases()])\n\u001b[1;32m      2\u001b[0m bins \u001b[38;5;241m=\u001b[39m np\u001b[38;5;241m.\u001b[39mlinspace(us\u001b[38;5;241m.\u001b[39mwham\u001b[38;5;241m.\u001b[39mxmin, us\u001b[38;5;241m.\u001b[39mwham\u001b[38;5;241m.\u001b[39mxmax, \u001b[38;5;241m200\u001b[39m)\n\u001b[0;32m----> 3\u001b[0m temp \u001b[38;5;241m=\u001b[39m [np\u001b[38;5;241m.\u001b[39mhistogram(com_values, bins\u001b[38;5;241m=\u001b[39mbins) \u001b[38;5;28;01mfor\u001b[39;00m com_values \u001b[38;5;129;01min\u001b[39;00m \u001b[43mus\u001b[49m\u001b[38;5;241;43m.\u001b[39;49m\u001b[43mcom_by_window\u001b[49m\u001b[38;5;241;43m.\u001b[39;49m\u001b[43mvalues\u001b[49m()]\n\u001b[1;32m      4\u001b[0m p_i_b \u001b[38;5;241m=\u001b[39m np\u001b[38;5;241m.\u001b[39marray([value[\u001b[38;5;241m0\u001b[39m] \u001b[38;5;28;01mfor\u001b[39;00m value \u001b[38;5;129;01min\u001b[39;00m temp])\n",
      "\u001b[0;31mAttributeError\u001b[0m: 'NoneType' object has no attribute 'values'"
     ]
    }
   ],
   "source": [
    "F_i = np.array([float(F) for F in us.get_biases()])\n",
    "bins = np.linspace(us.wham.xmin, us.wham.xmax, 200)\n",
    "temp = [np.histogram(com_values, bins=bins) for com_values in us.com_by_window.values()]\n",
    "p_i_b = np.array([value[0] for value in temp])"
   ]
  },
  {
   "cell_type": "code",
   "execution_count": null,
   "id": "9b035122-bf7b-4513-bd36-228bd19f7665",
   "metadata": {
    "execution": {
     "iopub.status.busy": "2023-10-27T23:14:47.017050Z",
     "iopub.status.idle": "2023-10-27T23:14:47.017238Z",
     "shell.execute_reply": "2023-10-27T23:14:47.017156Z",
     "shell.execute_reply.started": "2023-10-27T23:14:47.017146Z"
    },
    "tags": []
   },
   "outputs": [],
   "source": [
    "numerator = np.sum(p_i_b, axis=0)"
   ]
  },
  {
   "cell_type": "code",
   "execution_count": null,
   "id": "7c183f98-3db7-4cfa-ace5-809b36268142",
   "metadata": {
    "execution": {
     "iopub.status.busy": "2023-10-27T23:14:47.017767Z",
     "iopub.status.idle": "2023-10-27T23:14:47.017937Z",
     "shell.execute_reply": "2023-10-27T23:14:47.017859Z",
     "shell.execute_reply.started": "2023-10-27T23:14:47.017850Z"
    },
    "tags": []
   },
   "outputs": [],
   "source": [
    "denominator = np.array([sum(counts) * np.exp((F - w) * beta) for counts, F, w in zip(p_i_b, F_i, window_biases)])"
   ]
  },
  {
   "cell_type": "code",
   "execution_count": null,
   "id": "067b77e0-a1e1-4e38-aeae-beb233e14f48",
   "metadata": {
    "tags": []
   },
   "outputs": [],
   "source": [
    "p_x = numerator / np.sum(denominator, axis=0)[1:]"
   ]
  },
  {
   "cell_type": "code",
   "execution_count": 6,
   "id": "23fa14d3-d21b-4608-80fb-aa76e7fa1ed4",
   "metadata": {
    "execution": {
     "iopub.execute_input": "2023-10-27T23:15:19.672368Z",
     "iopub.status.busy": "2023-10-27T23:15:19.672006Z",
     "iopub.status.idle": "2023-10-27T23:15:19.965508Z",
     "shell.execute_reply": "2023-10-27T23:15:19.964879Z",
     "shell.execute_reply.started": "2023-10-27T23:15:19.672350Z"
    },
    "tags": []
   },
   "outputs": [
    {
     "ename": "AttributeError",
     "evalue": "'MeltingUmbrellaSampling' object has no attribute 'r0'",
     "output_type": "error",
     "traceback": [
      "\u001b[0;31m---------------------------------------------------------------------------\u001b[0m",
      "\u001b[0;31mAttributeError\u001b[0m                            Traceback (most recent call last)",
      "Cell \u001b[0;32mIn[6], line 3\u001b[0m\n\u001b[1;32m      1\u001b[0m \u001b[38;5;28;01mdef\u001b[39;00m \u001b[38;5;21mw_i\u001b[39m(r, r0, stiff):\n\u001b[1;32m      2\u001b[0m     \u001b[38;5;28;01mreturn\u001b[39;00m \u001b[38;5;241m0.5\u001b[39m \u001b[38;5;241m*\u001b[39m \u001b[38;5;28mfloat\u001b[39m(stiff) \u001b[38;5;241m*\u001b[39m (r \u001b[38;5;241m-\u001b[39m r0)\u001b[38;5;241m*\u001b[39m\u001b[38;5;241m*\u001b[39m\u001b[38;5;241m2\u001b[39m\n\u001b[0;32m----> 3\u001b[0m window_biases \u001b[38;5;241m=\u001b[39m np\u001b[38;5;241m.\u001b[39marray([np\u001b[38;5;241m.\u001b[39marray([w_i(bin_value, r0_value, us\u001b[38;5;241m.\u001b[39mwham\u001b[38;5;241m.\u001b[39mumbrella_stiff) \u001b[38;5;28;01mfor\u001b[39;00m bin_value \u001b[38;5;129;01min\u001b[39;00m bins], dtype\u001b[38;5;241m=\u001b[39mnp\u001b[38;5;241m.\u001b[39mlongdouble) \u001b[38;5;28;01mfor\u001b[39;00m r0_value \u001b[38;5;129;01min\u001b[39;00m \u001b[43mus\u001b[49m\u001b[38;5;241;43m.\u001b[39;49m\u001b[43mr0\u001b[49m])\n",
      "\u001b[0;31mAttributeError\u001b[0m: 'MeltingUmbrellaSampling' object has no attribute 'r0'"
     ]
    }
   ],
   "source": [
    "def w_i(r, r0, stiff):\n",
    "    return 0.5 * float(stiff) * (r - r0)**2\n",
    "window_biases = np.array([np.array([w_i(bin_value, r0_value, us.wham.umbrella_stiff) for bin_value in bins], dtype=np.longdouble) for r0_value in us.r0])"
   ]
  },
  {
   "cell_type": "code",
   "execution_count": null,
   "id": "74565e42-3a27-4d59-a21c-b8bec5a9a920",
   "metadata": {
    "tags": []
   },
   "outputs": [],
   "source": [
    "plt.plot(bins[1:], -np.log(p_x))"
   ]
  },
  {
   "cell_type": "code",
   "execution_count": null,
   "id": "6a39d423-f468-4a76-af03-38d5cc66b32f",
   "metadata": {
    "tags": []
   },
   "outputs": [],
   "source": [
    "bias = np.array([value.values.T[0] for value in us.umbrella_bias], dtype=np.longdouble)\n",
    "bias.shape"
   ]
  },
  {
   "cell_type": "code",
   "execution_count": null,
   "id": "b4b64814-e908-4a81-9dec-07d69ee6200a",
   "metadata": {
    "tags": []
   },
   "outputs": [],
   "source": [
    "bias_term = np.exp(beta * bias, dtype=np.longdouble)\n",
    "bias_term.shape"
   ]
  },
  {
   "cell_type": "code",
   "execution_count": null,
   "id": "586544e1-4b3e-4b74-9fcb-02fb2e307f7e",
   "metadata": {
    "tags": []
   },
   "outputs": [],
   "source": [
    "ensemble_bias_numerator = np.sum(np.exp(-beta * bias_term), axis=1)\n",
    "ensemble_bias_denominator = np.full((bias_term.shape[0]), bias_term.shape[1])\n",
    "\n",
    "ensemble_bias_term = ensemble_bias_numerator / ensemble_bias_denominator\n",
    "\n",
    "                                    "
   ]
  },
  {
   "cell_type": "code",
   "execution_count": null,
   "id": "382a2399-ceb3-431c-b09d-eabebbbd42bb",
   "metadata": {
    "tags": []
   },
   "outputs": [],
   "source": [
    "weighted_bias_term = np.array([bias * ensemble_bias for bias, ensemble_bias in zip(bias_term, ensemble_bias_term)])"
   ]
  },
  {
   "cell_type": "code",
   "execution_count": null,
   "id": "267409f8-3acd-4ba1-acb3-f83daa75f856",
   "metadata": {
    "tags": []
   },
   "outputs": [],
   "source": [
    "a = [value.values.T[0] for value in list(us.com_by_window.values())]\n"
   ]
  },
  {
   "cell_type": "code",
   "execution_count": null,
   "id": "62057036-9928-485f-93a5-18db2ec7e2d1",
   "metadata": {
    "tags": []
   },
   "outputs": [],
   "source": [
    "weights = [1 / w_bias for w_bias in weighted_bias_term]\n",
    "weights[0].shape"
   ]
  },
  {
   "cell_type": "code",
   "execution_count": null,
   "id": "bcc23989-689c-44c7-ae9f-ac5d7d2bcf41",
   "metadata": {
    "tags": []
   },
   "outputs": [],
   "source": [
    "bins = np.linspace(0, us.wham.xmax, 2000)\n",
    "bins"
   ]
  },
  {
   "cell_type": "code",
   "execution_count": null,
   "id": "537baf15-2580-4486-ac6d-8c54e8866330",
   "metadata": {
    "tags": []
   },
   "outputs": [],
   "source": [
    "unbiased_counts = [np.histogram(com, bins=bins, weights=weight) for com, weight in zip(a, weights)]\n",
    "unbiased_hists = [count[0] / sum(count[0]) for count in unbiased_counts]"
   ]
  },
  {
   "cell_type": "code",
   "execution_count": null,
   "id": "cf156cb2-d771-45a0-8c0d-8b95a3896968",
   "metadata": {
    "tags": []
   },
   "outputs": [],
   "source": [
    "for hist in unbiased_hists:\n",
    "    plt.plot(bins[1:], hist)"
   ]
  },
  {
   "cell_type": "code",
   "execution_count": null,
   "id": "aae5c22e-b8ec-44da-b9ac-13eb4896aac9",
   "metadata": {
    "tags": []
   },
   "outputs": [],
   "source": [
    "counts = np.array([sum(count[0]) for count in unbiased_counts])\n",
    "counts = np.full((100), len(weights[0]))\n",
    "counts"
   ]
  },
  {
   "cell_type": "code",
   "execution_count": null,
   "id": "4f807405-b839-4bcc-9931-d6b0d7fc05fb",
   "metadata": {
    "tags": []
   },
   "outputs": [],
   "source": [
    "a_i = np.array([count * np.exp((-beta * bi) + (beta * F)) for count, bi, F in zip(counts, bias, F_i)])"
   ]
  },
  {
   "cell_type": "code",
   "execution_count": null,
   "id": "25e4a2d5-ac6c-41ce-88fb-5b1ae36e6941",
   "metadata": {
    "tags": []
   },
   "outputs": [],
   "source": [
    "p_i = [a / sum(a) for a in a_i]\n",
    "p_i"
   ]
  },
  {
   "cell_type": "code",
   "execution_count": null,
   "id": "dac81388-f23f-481d-bc9d-d4c3118bd8f6",
   "metadata": {
    "tags": []
   },
   "outputs": [],
   "source": [
    "window_weight = np.mean(a_i, axis=1) / np.sum(np.mean(a_i, axis=1))\n",
    "weighted_hist = [hists[0] * weight for hists, weight in zip(unbiased_counts, window_weight)]\n",
    "window_weight"
   ]
  },
  {
   "cell_type": "code",
   "execution_count": null,
   "id": "690cd270-1cf1-4e6f-a28f-40fc23deabde",
   "metadata": {
    "tags": []
   },
   "outputs": [],
   "source": [
    "combined = np.sum(weighted_hist, axis=0)\n",
    "combined.shape"
   ]
  },
  {
   "cell_type": "code",
   "execution_count": null,
   "id": "b65ef542-8b94-4de4-abaf-5ce6beea51d6",
   "metadata": {
    "tags": []
   },
   "outputs": [],
   "source": [
    "plt.plot(bins[1:], combined)"
   ]
  },
  {
   "cell_type": "code",
   "execution_count": null,
   "id": "a96c26f4-416a-4b01-98a1-b1eb576de901",
   "metadata": {
    "tags": []
   },
   "outputs": [],
   "source": [
    "for hist in weighted_hist:\n",
    "    plt.plot(bins[1:], hist)"
   ]
  },
  {
   "cell_type": "code",
   "execution_count": null,
   "id": "4149b932-1560-4db3-af99-8a6b43519713",
   "metadata": {
    "tags": []
   },
   "outputs": [],
   "source": [
    "bin_width = bins[2] - bins[1]\n",
    "P_i_b = [p_i / sum(p_i) for p_i in p_i_b]"
   ]
  },
  {
   "cell_type": "code",
   "execution_count": null,
   "id": "0b6904d4-4df6-44c6-9b6e-44f6c54d1ba2",
   "metadata": {
    "tags": []
   },
   "outputs": [],
   "source": [
    "plt.figure()\n",
    "for p_b in P_i_b:\n",
    "    plt.plot(bins[1:], p_b)"
   ]
  },
  {
   "cell_type": "code",
   "execution_count": null,
   "id": "ffd68ff6-c82a-491c-9af8-818304ddbfe0",
   "metadata": {
    "tags": []
   },
   "outputs": [],
   "source": [
    "window_biases.shape"
   ]
  },
  {
   "cell_type": "code",
   "execution_count": null,
   "id": "97e48bb2-a950-4df1-8cc6-c79267db9909",
   "metadata": {
    "tags": []
   },
   "outputs": [],
   "source": [
    "print(len(P_i_b))\n",
    "print(len(window_biases))\n",
    "print(len(ensemble_weight))"
   ]
  },
  {
   "cell_type": "code",
   "execution_count": null,
   "id": "5dc53165-e918-43ed-bc1e-a788c95e0fe8",
   "metadata": {
    "tags": []
   },
   "outputs": [],
   "source": [
    "\n",
    "ensemble_weight = [sum(np.exp(-beta * w)) / len(w) for w in window_biases]\n",
    "weight_per_bin = [np.exp(beta  * w) for w in window_biases]\n",
    "weigted_bias = [weight * ensemble for weight, ensemble in zip(weight_per_bin, ensemble_weight)]\n",
    "\n",
    "P_i_u = [P_i * bias[1:] / sum(P_i * bias[1:]) for P_i, bias in zip(P_i_b, weigted_bias)]\n"
   ]
  },
  {
   "cell_type": "code",
   "execution_count": null,
   "id": "9ea6fb25-e451-49af-a2d6-1b0e7145b6a9",
   "metadata": {
    "tags": []
   },
   "outputs": [],
   "source": [
    "samples_per_window = [len(window) for window in us.com_by_window.values()][0]\n",
    "F_i = [float(F) for F in F_i]\n",
    "a_i = [samples_per_window * np.exp((-beta * w) + (beta * F)) for w, F in zip(window_biases, F_i)]"
   ]
  },
  {
   "cell_type": "code",
   "execution_count": null,
   "id": "aaf3752c-a9c3-4b15-8f9a-e86dc7341d74",
   "metadata": {
    "tags": []
   },
   "outputs": [],
   "source": [
    "p_i = a_i / sum(a_i)"
   ]
  },
  {
   "cell_type": "code",
   "execution_count": null,
   "id": "baa29c16-0f6d-4b7e-a0ca-49f93c297069",
   "metadata": {
    "tags": []
   },
   "outputs": [],
   "source": [
    "P_u = np.sum([p[1:] * P_i for p, P_i in zip(p_i, P_i_u)], axis=0)\n"
   ]
  },
  {
   "cell_type": "code",
   "execution_count": null,
   "id": "0394941b-23f6-4632-a525-0e81da38e733",
   "metadata": {
    "tags": []
   },
   "outputs": [],
   "source": [
    "plt.plot(bins[1:], P_u)"
   ]
  },
  {
   "cell_type": "code",
   "execution_count": null,
   "id": "d37b326b-4b86-4bfa-b108-1af383cda407",
   "metadata": {
    "tags": []
   },
   "outputs": [],
   "source": [
    "#Define umbrella sampling param space\n",
    "param_space = Space([\n",
    "    Categorical([0.5, 1, 5, 10], name='k_value'),\n",
    "    Categorical([25, 40, 52, 70], name='temperature'),\n",
    "    Categorical([True, False], name='unique_binding'),\n",
    "    Categorical([1, 10, 100, 1000], name='print_every'),\n",
    "    Categorical([5, 10, 15, 20], name='xmax'),\n",
    "    Categorical([1e8, 5e8], name='production_step'),\n",
    "    Categorical([20, 50], name='n_window')\n",
    "])\n",
    "\n",
    "inital_parameters = [\n",
    " ['10.0', '25', 'False', '10', '5', '500000000.0', '50'],\n",
    " ['0.5', '25', 'False', '100', '10', '500000000.0', '50'],\n",
    " ['10.0', '70', 'True', '10', '20', '500000000.0', '20']\n",
    "]\n",
    "    \n",
    "#Define ground truth melting\n",
    "path = os.path.abspath('/scratch/mlsample/ipy_oxDNA/ipy_oxdna_examples')\n",
    "systems = ['duplex_melting']\n",
    "\n",
    "file_dir_list = [f'{path}/{sys}' for sys in systems]\n",
    "sim_dir_list = [f'{file_dir}/vmmc_melting_replicas/vmmc_melting_rep' for sys, file_dir in zip(systems, file_dir_list)]\n",
    "\n",
    "n_replicas = 40\n",
    "vmmc_replica_generator = VmmcReplicas()\n",
    "\n",
    "vmmc_replica_generator.multisystem_replica(\n",
    "    systems,\n",
    "    n_replicas,\n",
    "    file_dir_list,\n",
    "    sim_dir_list\n",
    ")\n",
    "vmmc_sim_list = vmmc_replica_generator.sim_list\n",
    "queue_of_simulations = vmmc_replica_generator.queue_of_sims\n",
    "\n",
    "vmmc_sim_list[0].analysis.read_vmmc_op_data()\n",
    "vmmc_sim_list[0].analysis.calculate_sampling_and_probabilities()\n",
    "vmmc_sim_list[0].analysis.calculate_and_estimate_melting_profiles()\n",
    "   \n",
    "#Define system parameters\n",
    "path = os.path.abspath('/scratch/mlsample/ipy_oxDNA/ipy_oxdna_examples/duplex_melting/parameter_scan')\n",
    "max_hb = 8\n",
    "com_list = '8,9,10,11,12,13,14,15'\n",
    "ref_list = '0,1,2,3,4,5,6,7'\n",
    "vmmc_ground_truth = vmmc_sim_list[0]\n",
    "\n",
    "#Run\n",
    "n_iterations = 5\n",
    "batch_size = 3\n",
    "run_baysian_hyperparameter_optimization(\n",
    "    param_space,\n",
    "    vmmc_ground_truth,\n",
    "    max_hb, path,\n",
    "    com_list,\n",
    "    ref_list,\n",
    "    n_iterations,\n",
    "    batch_size,\n",
    "    resume_state=None,\n",
    "    inital_parameters=inital_parameters,\n",
    "    subprocess=False\n",
    ")"
   ]
  },
  {
   "cell_type": "code",
   "execution_count": null,
   "id": "62a167dc-85ec-4d2d-bc72-6f71e418b2bc",
   "metadata": {
    "tags": []
   },
   "outputs": [],
   "source": [
    "us = MeltingUmbrellaSampling(file_dir, systems[2])"
   ]
  },
  {
   "cell_type": "code",
   "execution_count": null,
   "id": "d4cc410f-6461-41a6-8e9c-51d01d4f5db9",
   "metadata": {
    "tags": []
   },
   "outputs": [],
   "source": [
    "us_list[0].continuous_to_discrete_unbiasing(8)"
   ]
  },
  {
   "cell_type": "code",
   "execution_count": null,
   "id": "2e3ee1e7-c842-4712-ad54-0a58488e19f6",
   "metadata": {
    "tags": []
   },
   "outputs": [],
   "source": [
    "plt.plot(1 / np.exp(-us_list[0].umbrella_bias[-1] / us_list[0].temperature), rasterized=True)"
   ]
  },
  {
   "cell_type": "code",
   "execution_count": null,
   "id": "3d839753-284c-4db7-9c1e-a4a250e04f0c",
   "metadata": {
    "tags": []
   },
   "outputs": [],
   "source": [
    "a = us.unbiased_discrete_window\n",
    "b = np.sum(us.unbiased_discrete_window, axis=1, keepdims=True)\n",
    "normed = np.divide(a, b, out=np.zeros_like(a), where=b!=0)\n",
    "a"
   ]
  },
  {
   "cell_type": "code",
   "execution_count": null,
   "id": "8740f847-7444-4256-bdf8-9c742266e575",
   "metadata": {
    "tags": []
   },
   "outputs": [],
   "source": [
    "plt.plot(range(9), us_list[0].free_energy_discrete)"
   ]
  },
  {
   "cell_type": "code",
   "execution_count": null,
   "id": "ab97a43c-4545-4648-8cf7-003323272355",
   "metadata": {
    "tags": []
   },
   "outputs": [],
   "source": [
    "path = os.path.abspath('/scratch/mlsample/ipy_oxDNA/ipy_oxdna_examples/duplex_melting/parameter_scan')\n",
    "systems = ['_'.join(params) for params in inital_parameters]\n",
    "file_dir = path\n",
    "\n",
    "us_list = [MeltingUmbrellaSampling(file_dir, system) for system in systems[:2]]"
   ]
  },
  {
   "cell_type": "code",
   "execution_count": null,
   "id": "26011c99-dee4-4679-a9db-680f9f4cc896",
   "metadata": {
    "tags": []
   },
   "outputs": [],
   "source": [
    "us.calculate_melting_temperature_using_vmmc()"
   ]
  },
  {
   "cell_type": "markdown",
   "id": "44d0a577-3956-44aa-a207-a79bfdb755a3",
   "metadata": {},
   "source": [
    "<font size='10'><a class=\"anchor\" id=\"3\"></a> <h2 align=\"center\"> <font color='black'>Potential Energy Umbrella Temperature Interpolation</font></h2> "
   ]
  },
  {
   "cell_type": "code",
   "execution_count": null,
   "id": "c26b46ef-47fa-486a-a05f-d9d3cf90bc53",
   "metadata": {},
   "outputs": [],
   "source": [
    "string =\"\"\"\n",
    "10.0_25_False_10_5_500000000.0_50\n",
    "0.5_25_False_100_10_500000000.0_50\n",
    "10.0_70_True_10_20_500000000.0_20\n",
    "\"\"\".strip().split('\\n')\n",
    "inital_parameters = []\n",
    "for st in string:\n",
    "    inital_parameters.append(st.split('_'))\n",
    "inital_parameters"
   ]
  },
  {
   "cell_type": "code",
   "execution_count": 47,
   "id": "773415e1-0920-417b-9cb3-e0eb871b3c51",
   "metadata": {
    "execution": {
     "iopub.execute_input": "2023-10-30T04:01:55.209185Z",
     "iopub.status.busy": "2023-10-30T04:01:55.208503Z",
     "iopub.status.idle": "2023-10-30T04:01:55.907189Z",
     "shell.execute_reply": "2023-10-30T04:01:55.905860Z",
     "shell.execute_reply.started": "2023-10-30T04:01:55.209160Z"
    },
    "tags": []
   },
   "outputs": [],
   "source": [
    "path = os.path.abspath('/scratch/mlsample/ipy_oxDNA/ipy_oxdna_examples/duplex_melting/')\n",
    "\n",
    "system_name = 'multi_system_runs'\n",
    "\n",
    "# k_value_list = ['5_normal_1', '5_unique_1']\n",
    "k_value_list = ['10']\n",
    "\n",
    "systems = [f'duplex_52_{stiff}' for stiff in k_value_list]\n",
    "\n",
    "file_dirs = [f'{path}/{system_name}' for _ in range(len(systems))]\n",
    "\n",
    "\n",
    "com_list = '8,9,10,11,12,13,14,15'\n",
    "ref_list = '0,1,2,3,4,5,6,7'\n",
    "xmin = 0\n",
    "xmax = 10\n",
    "n_windows = 100\n",
    "starting_r0 = 1\n",
    "steps = 1e6\n",
    "# stiff = 0.4\n",
    "\n",
    "\n",
    "pre_equlibration_parameters_list = [{'backend':'CPU','steps':'1e6','print_energy_every': '4e7',\n",
    "                           'print_conf_interval':'4e7', \"CUDA_list\": \"no\",\n",
    "                           'use_edge': 'false', 'refresh_vel': '1',\n",
    "                           'fix_diffusion': '0', 'fix_diffusion_every': '1000',\n",
    "                           'T':f'52C'} for _ in k_value_list]\n",
    "\n",
    "equlibration_parameters_list = [{'backend':'CPU','steps':'5e7','print_energy_every': '4e7',\n",
    "                           'print_conf_interval':'4e7', \"CUDA_list\": \"no\",\n",
    "                           'use_edge': 'false', 'refresh_vel': '1',\n",
    "                           'fix_diffusion': '0', 'fix_diffusion_every': '1000',\n",
    "                           'T':f'52C'} for _ in k_value_list]\n",
    "\n",
    "production_parameters_list = [{'backend':'CPU','steps':'1e8','print_energy_every': '1e8',\n",
    "                        'print_conf_interval':'1e8', \"CUDA_list\": \"no\",\n",
    "                        'use_edge': 'false', 'refresh_vel': '1',\n",
    "                        'fix_diffusion': '0', 'max_io':'100', 'fix_diffusion_every': '1000',\n",
    "                        'T':f'52C'} for temp in k_value_list]\n",
    "\n",
    "us_list = [MeltingUmbrellaSampling(file_dir, sys, clean_build='force') for file_dir, sys in zip(file_dirs,systems)]\n",
    "\n",
    "simulation_manager = SimulationManager()"
   ]
  },
  {
   "cell_type": "code",
   "execution_count": 48,
   "id": "62fcc759-34bd-487d-90d2-d448b165a1d9",
   "metadata": {
    "execution": {
     "iopub.execute_input": "2023-10-30T04:02:00.633555Z",
     "iopub.status.busy": "2023-10-30T04:02:00.633036Z",
     "iopub.status.idle": "2023-10-30T04:02:08.015024Z",
     "shell.execute_reply": "2023-10-30T04:02:08.014097Z",
     "shell.execute_reply.started": "2023-10-30T04:02:00.633531Z"
    }
   },
   "outputs": [
    {
     "name": "stdout",
     "output_type": "stream",
     "text": [
      "duplex_52_10\n"
     ]
    }
   ],
   "source": [
    "for us, pre_equlibration_parameters, stiff in zip(us_list, pre_equlibration_parameters_list, k_value_list):\n",
    "    print(us.system)\n",
    "    us.build_pre_equlibration_runs(simulation_manager, n_windows, com_list, ref_list,\n",
    "                               stiff, xmin, xmax, pre_equlibration_parameters, starting_r0, steps,\n",
    "                               print_every=1000, observable=True, protein=None,\n",
    "                               force_file=None, continue_run=False)"
   ]
  },
  {
   "cell_type": "code",
   "execution_count": 49,
   "id": "43ac5bde-a668-4829-a431-9b71a4629a66",
   "metadata": {
    "execution": {
     "iopub.execute_input": "2023-10-30T04:02:08.017062Z",
     "iopub.status.busy": "2023-10-30T04:02:08.016654Z",
     "iopub.status.idle": "2023-10-30T04:02:42.124628Z",
     "shell.execute_reply": "2023-10-30T04:02:42.124020Z",
     "shell.execute_reply.started": "2023-10-30T04:02:08.017044Z"
    },
    "scrolled": true,
    "tags": []
   },
   "outputs": [
    {
     "name": "stdout",
     "output_type": "stream",
     "text": [
      "Running: 0\n",
      "Running: 1\n",
      "Running: 2\n",
      "Running: 3\n",
      "Running: 4\n",
      "Running: 5\n",
      "Running: 6\n",
      "Running: 7\n",
      "Running: 8\n",
      "Running: 9\n",
      "Running: 10\n",
      "Running: 11\n",
      "Running: 12\n",
      "Running: 13\n",
      "Running: 14\n",
      "Running: 15\n",
      "Running: 16\n",
      "Running: 17\n",
      "Running: 18\n",
      "Running: 19\n",
      "Running: 20\n",
      "Running: 21\n",
      "Running: 22\n",
      "Running: 23\n",
      "Running: 24\n",
      "Running: 25\n",
      "Running: 26\n",
      "Running: 27\n",
      "Running: 28\n",
      "Running: 29\n",
      "Running: 30\n",
      "Running: 31\n",
      "Running: 32\n",
      "Running: 33\n",
      "Running: 34\n",
      "Running: 35\n",
      "Running: 36\n",
      "Running: 37\n",
      "Running: 38\n",
      "Running: 39\n",
      "Running: 40\n",
      "Running: 41\n",
      "Running: 42\n",
      "Running: 43\n",
      "Running: 44\n",
      "Running: 45\n",
      "Running: 46\n",
      "Running: 47\n",
      "Running: 48\n",
      "Running: 49\n",
      "Running: 50\n",
      "Running: 51\n",
      "Running: 52\n",
      "Running: 53\n",
      "Running: 54\n",
      "Running: 55\n",
      "Running: 56\n",
      "Running: 57\n",
      "Running: 58\n",
      "Running: 59\n",
      "Running: 60\n",
      "Running: 61\n",
      "Running: 62\n",
      "Running: 63\n",
      "Running: 64\n",
      "Running: 65\n",
      "Running: 66\n",
      "Running: 67\n",
      "Running: 68\n",
      "Running: 69\n",
      "Running: 70\n",
      "Running: 71\n",
      "Running: 72\n",
      "Running: 73\n",
      "Running: 74\n",
      "Running: 75\n",
      "Running: 76\n",
      "Running: 77\n",
      "Running: 78\n",
      "Running: 79\n",
      "Running: 80\n",
      "Running: 81\n",
      "Running: 82\n",
      "Running: 83\n",
      "Running: 84\n",
      "Running: 85\n",
      "Running: 86\n",
      "Running: 87\n",
      "Running: 88\n",
      "Running: 89\n",
      "Running: 90\n",
      "Running: 91\n",
      "Running: 92\n",
      "Running: 93\n",
      "Running: 94\n",
      "Running: 95\n",
      "Running: 96\n",
      "Running: 97\n",
      "Running: 98\n",
      "Running: 99\n",
      "Run time: 19.282294336007908\n",
      "Finished: 29\n",
      "Run time: 20.303653644863516\n",
      "Finished: 23\n"
     ]
    },
    {
     "name": "stderr",
     "output_type": "stream",
     "text": [
      "INFO: Lists updated 3652 times (every ~273.822563 steps)\n",
      "INFO: Aggregated I/O statistics (set debug=1 for file-wise information)\n",
      "\t 19.047 KB written to files\n",
      "\t 62.000  B written to stdout/stderr\n",
      "\tFor a total of  0.00102 MB/s\n",
      "\n",
      "INFO: Lists updated 3294 times (every ~303.582271 steps)\n",
      "INFO: Aggregated I/O statistics (set debug=1 for file-wise information)\n",
      "\t 19.069 KB written to files\n",
      "\t 62.000  B written to stdout/stderr\n",
      "\tFor a total of 0.000966 MB/s\n",
      "\n"
     ]
    },
    {
     "name": "stdout",
     "output_type": "stream",
     "text": [
      "Run time: 22.39351211488247\n",
      "Finished: 14\n",
      "Run time: 19.39935874682851\n",
      "Finished: 33\n",
      "Run time: 20.700363453943282\n",
      "Finished: 25\n"
     ]
    },
    {
     "name": "stderr",
     "output_type": "stream",
     "text": [
      "INFO: Lists updated 3306 times (every ~302.480339 steps)\n",
      "INFO: Aggregated I/O statistics (set debug=1 for file-wise information)\n",
      "\t 19.064 KB written to files\n",
      "\t 62.000  B written to stdout/stderr\n",
      "\tFor a total of 0.000872 MB/s\n",
      "\n",
      "INFO: Lists updated 3170 times (every ~315.457413 steps)\n",
      "INFO: Aggregated I/O statistics (set debug=1 for file-wise information)\n",
      "\t 19.083 KB written to files\n",
      "\t 62.000  B written to stdout/stderr\n",
      "\tFor a total of  0.00101 MB/s\n",
      "\n",
      "INFO: Lists updated 3568 times (every ~280.269058 steps)\n",
      "INFO: Aggregated I/O statistics (set debug=1 for file-wise information)\n",
      "\t 19.051 KB written to files\n",
      "\t 62.000  B written to stdout/stderr\n",
      "\tFor a total of 0.000948 MB/s\n",
      "\n"
     ]
    },
    {
     "name": "stdout",
     "output_type": "stream",
     "text": [
      "Run time: 23.644681375008076\n",
      "Finished: 8\n",
      "Run time: 20.74891652795486\n",
      "Finished: 26\n",
      "Run time: 21.638178466120735\n",
      "Finished: 21\n",
      "Run time: 19.510220010066405\n",
      "Finished: 35"
     ]
    },
    {
     "name": "stderr",
     "output_type": "stream",
     "text": [
      "INFO: Lists updated 3113 times (every ~321.233537 steps)\n",
      "INFO: Aggregated I/O statistics (set debug=1 for file-wise information)\n",
      "\t 19.080 KB written to files\n",
      "\t 62.000  B written to stdout/stderr\n",
      "\tFor a total of 0.000826 MB/s\n",
      "\n",
      "INFO: Lists updated 3444 times (every ~290.360046 steps)\n",
      "INFO: Aggregated I/O statistics (set debug=1 for file-wise information)\n",
      "\t 19.114 KB written to files\n",
      "\t 62.000  B written to stdout/stderr\n",
      "\tFor a total of 0.000951 MB/s\n",
      "\n",
      "INFO: Lists updated 3216 times (every ~310.945274 steps)\n",
      "INFO: Aggregated I/O statistics (set debug=1 for file-wise information)\n",
      "\t 19.057 KB written to files\n",
      "\t 62.000  B written to stdout/stderr\n",
      "\tFor a total of 0.000907 MB/s\n",
      "\n"
     ]
    },
    {
     "name": "stdout",
     "output_type": "stream",
     "text": [
      "\n",
      "Run time: 22.735165708931163\n",
      "Finished: 15\n",
      "Run time: 23.277103678090498\n",
      "Finished: 12Run time: 22.298379061976448\n",
      "\n",
      "Finished: 18\n",
      "Run time: 22.010693395975977\n",
      "Finished: 20\n",
      "Run time: 18.989646709989756\n",
      "Finished: 39\n",
      "Run time: 19.151684375014156\n",
      "Finished: 38\n"
     ]
    },
    {
     "name": "stderr",
     "output_type": "stream",
     "text": [
      "INFO: Lists updated 3045 times (every ~328.407225 steps)\n",
      "INFO: Aggregated I/O statistics (set debug=1 for file-wise information)\n",
      "\t 19.075 KB written to files\n",
      "\t 62.000  B written to stdout/stderr\n",
      "\tFor a total of 0.000859 MB/s\n",
      "\n",
      "INFO: Lists updated 3335 times (every ~299.850075 steps)\n",
      "INFO: Aggregated I/O statistics (set debug=1 for file-wise information)\n",
      "\t 19.081 KB written to files\n",
      "\t 62.000  B written to stdout/stderr\n",
      "\tFor a total of  0.00101 MB/s\n",
      "\n",
      "INFO: Lists updated 2855 times (every ~350.262697 steps)\n",
      "INFO: Aggregated I/O statistics (set debug=1 for file-wise information)\n",
      "\t 19.087 KB written to files\n",
      "\t 62.000  B written to stdout/stderr\n",
      "\tFor a total of 0.000878 MB/s\n",
      "\n",
      "INFO: Lists updated 3387 times (every ~295.246531 steps)\n",
      "INFO: Aggregated I/O statistics (set debug=1 for file-wise information)\n",
      "\t 19.078 KB written to files\n",
      "\t 62.000  B written to stdout/stderr\n",
      "\tFor a total of 0.000839 MB/s\n",
      "\n",
      "INFO: Lists updated 2886 times (every ~346.500347 steps)\n",
      "INFO: Aggregated I/O statistics (set debug=1 for file-wise information)\n",
      "\t 19.076 KB written to files\n",
      "\t 62.000  B written to stdout/stderr\n",
      "\tFor a total of 0.000889 MB/s\n",
      "\n",
      "INFO: Lists updated 3665 times (every ~272.851296 steps)\n",
      "INFO: Aggregated I/O statistics (set debug=1 for file-wise information)\n",
      "\t 19.094 KB written to files\n",
      "\t 62.000  B written to stdout/stderr\n",
      "\tFor a total of   0.0011 MB/s\n",
      "\n",
      "INFO: Lists updated 3561 times (every ~280.819994 steps)\n",
      "INFO: Aggregated I/O statistics (set debug=1 for file-wise information)\n",
      "\t 19.125 KB written to files\n",
      "\t 62.000  B written to stdout/stderr\n",
      "\tFor a total of  0.00104 MB/s\n",
      "\n"
     ]
    },
    {
     "name": "stdout",
     "output_type": "stream",
     "text": [
      "Run time: 24.712078402051702\n",
      "Finished: 4\n",
      "Run time: 17.999976417049766\n",
      "Finished: 46\n",
      "Run time: 25.126783890184015\n",
      "Finished: 2\n",
      "Run time: 24.502727846847847\n",
      "Finished: 6\n",
      "Run time: 23.890569984912872\n",
      "Finished: 10\n",
      "Run time: 22.812204308109358\n",
      "Run time: 18.81763602909632Finished: 17\n",
      "\n",
      "Finished: 42\n"
     ]
    },
    {
     "name": "stderr",
     "output_type": "stream",
     "text": [
      "INFO: Lists updated 2997 times (every ~333.667000 steps)\n",
      "INFO: Aggregated I/O statistics (set debug=1 for file-wise information)\n",
      "\t 19.088 KB written to files\n",
      "\t 62.000  B written to stdout/stderr\n",
      "\tFor a total of 0.000789 MB/s\n",
      "\n",
      "INFO: Lists updated 3283 times (every ~304.599452 steps)\n",
      "INFO: Aggregated I/O statistics (set debug=1 for file-wise information)\n",
      "\t 19.072 KB written to files\n",
      "\t 62.000  B written to stdout/stderr\n",
      "\tFor a total of  0.00111 MB/s\n",
      "\n",
      "INFO: Lists updated 2938 times (every ~340.367597 steps)\n",
      "INFO: Aggregated I/O statistics (set debug=1 for file-wise information)\n",
      "\t 19.085 KB written to files\n",
      "\t 62.000  B written to stdout/stderr\n",
      "\tFor a total of 0.000777 MB/s\n",
      "\n",
      "INFO: Lists updated 3166 times (every ~315.855970 steps)\n",
      "INFO: Aggregated I/O statistics (set debug=1 for file-wise information)\n",
      "\t 19.092 KB written to files\n",
      "\t 62.000  B written to stdout/stderr\n",
      "\tFor a total of 0.000797 MB/s\n",
      "\n",
      "INFO: Lists updated 2962 times (every ~337.609723 steps)\n",
      "INFO: Aggregated I/O statistics (set debug=1 for file-wise information)\n",
      "\t 19.062 KB written to files\n",
      "\t 62.000  B written to stdout/stderr\n",
      "\tFor a total of 0.000816 MB/s\n",
      "\n",
      "INFO: Lists updated 3568 times (every ~280.269058 steps)\n",
      "INFO: Aggregated I/O statistics (set debug=1 for file-wise information)\n",
      "\t 19.092 KB written to files\n",
      "\t 62.000  B written to stdout/stderr\n",
      "\tFor a total of 0.000857 MB/s\n",
      "\n"
     ]
    },
    {
     "name": "stdout",
     "output_type": "stream",
     "text": [
      "Run time: 19.68282576999627\n",
      "Finished: 37\n",
      "Run time: 21.166833891998976\n",
      "Finished: 28\n",
      "Run time: 24.563828772865236\n",
      "Finished: 7\n",
      "Run time: 16.128948968835175\n",
      "Finished: 60\n",
      "Run time: 19.962047070031986\n",
      "Finished: 36\n",
      "Run time: 18.09486660407856\n",
      "Finished: 48\n"
     ]
    },
    {
     "name": "stderr",
     "output_type": "stream",
     "text": [
      "INFO: Lists updated 3598 times (every ~277.932185 steps)\n",
      "INFO: Aggregated I/O statistics (set debug=1 for file-wise information)\n",
      "\t 19.068 KB written to files\n",
      "\t 62.000  B written to stdout/stderr\n",
      "\tFor a total of  0.00113 MB/s\n",
      "\n",
      "INFO: Lists updated 3223 times (every ~310.269935 steps)\n",
      "INFO: Aggregated I/O statistics (set debug=1 for file-wise information)\n",
      "\t 19.082 KB written to files\n",
      "\t 62.000  B written to stdout/stderr\n",
      "\tFor a total of    0.001 MB/s\n",
      "\n",
      "INFO: Lists updated 3548 times (every ~281.848929 steps)\n",
      "INFO: Aggregated I/O statistics (set debug=1 for file-wise information)\n",
      "\t 19.108 KB written to files\n",
      "\t 62.000  B written to stdout/stderr\n",
      "\tFor a total of 0.000929 MB/s\n",
      "\n",
      "INFO: Lists updated 3058 times (every ~327.011118 steps)\n",
      "INFO: Aggregated I/O statistics (set debug=1 for file-wise information)\n",
      "\t 19.072 KB written to files\n",
      "\t 62.000  B written to stdout/stderr\n",
      "\tFor a total of 0.000793 MB/s\n",
      "\n",
      "INFO: Lists updated 3369 times (every ~296.823983 steps)\n",
      "INFO: Aggregated I/O statistics (set debug=1 for file-wise information)\n",
      "\t 19.064 KB written to files\n",
      "\t 62.000  B written to stdout/stderr\n",
      "\tFor a total of 0.000988 MB/s\n",
      "\n",
      "INFO: Lists updated 3900 times (every ~256.410256 steps)\n",
      "INFO: Aggregated I/O statistics (set debug=1 for file-wise information)\n",
      "\t 19.098 KB written to files\n",
      "\t 62.000  B written to stdout/stderr\n",
      "\tFor a total of  0.00125 MB/s\n",
      "\n",
      "INFO: Lists updated 3453 times (every ~289.603244 steps)\n",
      "INFO: Aggregated I/O statistics (set debug=1 for file-wise information)\n",
      "\t 19.090 KB written to files\n",
      "\t 62.000  B written to stdout/stderr\n",
      "\tFor a total of   0.0011 MB/s\n",
      "\n"
     ]
    },
    {
     "name": "stdout",
     "output_type": "stream",
     "text": [
      "Run time: 21.0239985359367\n",
      "Finished: 30\n",
      "Run time: 25.391907670069486\n",
      "Finished: 3\n",
      "Run time: 22.322539605898783Run time: 17.536685094004497\n",
      "\n",
      "Finished: 22Finished: 52\n",
      "\n",
      "Run time: 25.87505288911052\n",
      "Finished: 0\n",
      "Run time: 22.069792684866115\n",
      "Finished: 24\n",
      "Run time: 20.959568643011153\n",
      "Finished: 31\n",
      "Run time: 24.22546227904968\n",
      "Finished: 11Run time: 23.40534239518456\n",
      "\n",
      "Finished: 16\n",
      "Run time: 20.83258687192574\n",
      "Finished: 32\n",
      "Run time: 18.465034747030586\n",
      "Finished: 47\n",
      "Run time: 19.159317124867812\n",
      "Finished: 43\n"
     ]
    },
    {
     "name": "stderr",
     "output_type": "stream",
     "text": [
      "INFO: Lists updated 3467 times (every ~288.433804 steps)\n",
      "INFO: Aggregated I/O statistics (set debug=1 for file-wise information)\n",
      "\t 19.071 KB written to files\n",
      "\t 62.000  B written to stdout/stderr\n",
      "\tFor a total of 0.000933 MB/s\n",
      "\n",
      "INFO: Lists updated 2960 times (every ~337.837838 steps)\n",
      "INFO: Aggregated I/O statistics (set debug=1 for file-wise information)\n",
      "\t 19.091 KB written to files\n",
      "\t 62.000  B written to stdout/stderr\n",
      "\tFor a total of 0.000767 MB/s\n",
      "\n",
      "INFO: Lists updated 3189 times (every ~313.577924 steps)\n",
      "INFO: Aggregated I/O statistics (set debug=1 for file-wise information)\n",
      "\t 19.081 KB written to files\n",
      "\t 62.000  B written to stdout/stderr\n",
      "\tFor a total of 0.000878 MB/s\n",
      "\n",
      "INFO: Lists updated 3498 times (every ~285.877644 steps)\n",
      "INFO: Aggregated I/O statistics (set debug=1 for file-wise information)\n",
      "\t 19.086 KB written to files\n",
      "\t 62.000  B written to stdout/stderr\n",
      "\tFor a total of  0.00113 MB/s\n",
      "\n",
      "INFO: Lists updated 2541 times (every ~393.545848 steps)\n",
      "INFO: Aggregated I/O statistics (set debug=1 for file-wise information)\n",
      "\t 19.072 KB written to files\n",
      "\t 62.000  B written to stdout/stderr\n",
      "\tFor a total of 0.000761 MB/s\n",
      "\n",
      "INFO: Lists updated 3338 times (every ~299.580587 steps)\n",
      "INFO: Aggregated I/O statistics (set debug=1 for file-wise information)\n",
      "\t 19.093 KB written to files\n",
      "\t 62.000  B written to stdout/stderr\n",
      "\tFor a total of 0.000892 MB/s\n",
      "\n",
      "INFO: Lists updated 2808 times (every ~356.125356 steps)\n",
      "INFO: Aggregated I/O statistics (set debug=1 for file-wise information)\n",
      "\t 19.095 KB written to files\n",
      "\t 62.000  B written to stdout/stderr\n",
      "\tFor a total of 0.000942 MB/s\n",
      "\n",
      "INFO: Lists updated 2980 times (every ~335.570470 steps)\n",
      "INFO: Aggregated I/O statistics (set debug=1 for file-wise information)\n",
      "\t 19.106 KB written to files\n",
      "\t 62.000  B written to stdout/stderr\n",
      "\tFor a total of  0.00094 MB/s\n",
      "\n",
      "INFO: Lists updated 3101 times (every ~322.476620 steps)\n",
      "INFO: Aggregated I/O statistics (set debug=1 for file-wise information)\n",
      "\t 19.081 KB written to files\n",
      "\t 62.000  B written to stdout/stderr\n",
      "\tFor a total of 0.000805 MB/s\n",
      "\n",
      "INFO: Lists updated 2931 times (every ~341.180484 steps)\n",
      "INFO: Aggregated I/O statistics (set debug=1 for file-wise information)\n",
      "\t 19.088 KB written to files\n",
      "\t 62.000  B written to stdout/stderr\n",
      "\tFor a total of 0.000835 MB/s\n",
      "\n",
      "INFO: Lists updated 3313 times (every ~301.841232 steps)\n",
      "INFO: Aggregated I/O statistics (set debug=1 for file-wise information)\n",
      "\t 19.069 KB written to files\n",
      "\t 62.000  B written to stdout/stderr\n",
      "\tFor a total of  0.00107 MB/s\n",
      "\n"
     ]
    },
    {
     "name": "stdout",
     "output_type": "stream",
     "text": [
      "Run time: 25.917353201890364\n",
      "Finished: 1\n",
      "Run time: 17.60510020982474\n",
      "Finished: 53\n",
      "Run time: 19.780316311167553\n",
      "Finished: 40\n",
      "Run time: 18.353517269017175\n",
      "Finished: 49\n"
     ]
    },
    {
     "name": "stderr",
     "output_type": "stream",
     "text": [
      "INFO: Lists updated 3435 times (every ~291.120815 steps)\n",
      "INFO: Aggregated I/O statistics (set debug=1 for file-wise information)\n",
      "\t 19.066 KB written to files\n",
      "\t 62.000  B written to stdout/stderr\n",
      "\tFor a total of  0.00104 MB/s\n",
      "\n",
      "INFO: Lists updated 2429 times (every ~411.692054 steps)\n",
      "INFO: Aggregated I/O statistics (set debug=1 for file-wise information)\n",
      "\t 19.107 KB written to files\n",
      "\t 62.000  B written to stdout/stderr\n",
      "\tFor a total of 0.000751 MB/s\n",
      "\n",
      "INFO: Lists updated 3812 times (every ~262.329486 steps)\n",
      "INFO: Aggregated I/O statistics (set debug=1 for file-wise information)\n",
      "\t 19.087 KB written to files\n",
      "\t 62.000  B written to stdout/stderr\n",
      "\tFor a total of  0.00113 MB/s\n",
      "\n",
      "INFO: Lists updated 3235 times (every ~309.119011 steps)\n",
      "INFO: Aggregated I/O statistics (set debug=1 for file-wise information)\n",
      "\t 19.077 KB written to files\n",
      "\t 62.000  B written to stdout/stderr\n",
      "\tFor a total of 0.000997 MB/s\n",
      "\n",
      "INFO: Lists updated 3678 times (every ~271.886895 steps)\n",
      "INFO: Aggregated I/O statistics (set debug=1 for file-wise information)\n",
      "\t 19.079 KB written to files\n",
      "\t 62.000  B written to stdout/stderr\n",
      "\tFor a total of  0.00108 MB/s\n",
      "\n"
     ]
    },
    {
     "name": "stdout",
     "output_type": "stream",
     "text": [
      "Run time: 23.289854311849922\n",
      "Finished: 19\n",
      "Run time: 19.316265478963032\n",
      "Finished: 44\n",
      "Run time: 19.842779722996056\n",
      "Run time: 24.984597365139052Finished: 41\n",
      "\n",
      "Run time: 20.952861096011475Finished: 9\n",
      "\n",
      "Finished: 34\n",
      "Run time: 16.99077746202238\n",
      "Finished: 59\n"
     ]
    },
    {
     "name": "stderr",
     "output_type": "stream",
     "text": [
      "INFO: Lists updated 3210 times (every ~311.526480 steps)\n",
      "INFO: Aggregated I/O statistics (set debug=1 for file-wise information)\n",
      "\t 19.100 KB written to files\n",
      "\t 62.000  B written to stdout/stderr\n",
      "\tFor a total of  0.00084 MB/s\n",
      "\n",
      "INFO: Lists updated 3564 times (every ~280.583614 steps)\n",
      "INFO: Aggregated I/O statistics (set debug=1 for file-wise information)\n",
      "\t 19.088 KB written to files\n",
      "\t 62.000  B written to stdout/stderr\n",
      "\tFor a total of  0.00103 MB/s\n",
      "\n",
      "INFO: Lists updated 3339 times (every ~299.490866 steps)\n",
      "INFO: Aggregated I/O statistics (set debug=1 for file-wise information)\n",
      "\t 19.104 KB written to files\n",
      "\t 62.000  B written to stdout/stderr\n",
      "\tFor a total of 0.000995 MB/s\n",
      "\n",
      "INFO: Lists updated 3154 times (every ~317.057705 steps)\n",
      "INFO: Aggregated I/O statistics (set debug=1 for file-wise information)\n",
      "\t 19.106 KB written to files\n",
      "\t 62.000  B written to stdout/stderr\n",
      "\tFor a total of 0.000939 MB/s\n",
      "\n",
      "INFO: Lists updated 2613 times (every ~382.701875 steps)\n",
      "INFO: Aggregated I/O statistics (set debug=1 for file-wise information)\n",
      "\t 19.067 KB written to files\n",
      "\t 62.000  B written to stdout/stderr\n",
      "\tFor a total of 0.000779 MB/s\n",
      "\n",
      "INFO: Lists updated 3619 times (every ~276.319425 steps)\n",
      "INFO: Aggregated I/O statistics (set debug=1 for file-wise information)\n",
      "\t 19.118 KB written to files\n",
      "\t 62.000  B written to stdout/stderr\n",
      "\tFor a total of  0.00118 MB/s\n",
      "\n"
     ]
    },
    {
     "name": "stdout",
     "output_type": "stream",
     "text": [
      "Run time: 25.9773094530683\n",
      "Finished: 5\n",
      "Run time: 24.74388151289895\n",
      "Finished: 13\n",
      "Run time: 17.719261053949594\n",
      "Finished: 57\n",
      "Run time: 22.551639579935\n",
      "Finished: 27\n",
      "Run time: 18.932785484939814\n",
      "Finished: 50\n",
      "Run time: 19.73319632606581\n",
      "Finished: 45\n"
     ]
    },
    {
     "name": "stderr",
     "output_type": "stream",
     "text": [
      "INFO: Lists updated 2466 times (every ~405.515004 steps)\n",
      "INFO: Aggregated I/O statistics (set debug=1 for file-wise information)\n",
      "\t 19.053 KB written to files\n",
      "\t 62.000  B written to stdout/stderr\n",
      "\tFor a total of 0.000747 MB/s\n",
      "\n",
      "INFO: Lists updated 2700 times (every ~370.370370 steps)\n",
      "INFO: Aggregated I/O statistics (set debug=1 for file-wise information)\n",
      "\t 19.077 KB written to files\n",
      "\t 62.000  B written to stdout/stderr\n",
      "\tFor a total of 0.000787 MB/s\n",
      "\n",
      "INFO: Lists updated 3471 times (every ~288.101412 steps)\n",
      "INFO: Aggregated I/O statistics (set debug=1 for file-wise information)\n",
      "\t 19.074 KB written to files\n",
      "\t 62.000  B written to stdout/stderr\n",
      "\tFor a total of  0.00113 MB/s\n",
      "\n",
      "INFO: Lists updated 2946 times (every ~339.443313 steps)\n",
      "INFO: Aggregated I/O statistics (set debug=1 for file-wise information)\n",
      "\t 19.059 KB written to files\n",
      "\t 62.000  B written to stdout/stderr\n",
      "\tFor a total of 0.000909 MB/s\n",
      "\n",
      "INFO: Lists updated 3247 times (every ~307.976594 steps)\n",
      "INFO: Aggregated I/O statistics (set debug=1 for file-wise information)\n",
      "\t 19.090 KB written to files\n",
      "\t 62.000  B written to stdout/stderr\n",
      "\tFor a total of  0.00105 MB/s\n",
      "\n",
      "INFO: Lists updated 3132 times (every ~319.284802 steps)\n",
      "INFO: Aggregated I/O statistics (set debug=1 for file-wise information)\n",
      "\t 19.067 KB written to files\n",
      "\t 62.000  B written to stdout/stderr\n",
      "\tFor a total of    0.001 MB/s\n",
      "\n"
     ]
    },
    {
     "name": "stdout",
     "output_type": "stream",
     "text": [
      "Run time: 18.85651113395579\n",
      "Finished: 51\n",
      "Run time: 17.870533684035763\n",
      "Finished: 58\n",
      "Run time: 16.29996431595646\n",
      "Finished: 68\n"
     ]
    },
    {
     "name": "stderr",
     "output_type": "stream",
     "text": [
      "INFO: Lists updated 3357 times (every ~297.885016 steps)\n",
      "INFO: Aggregated I/O statistics (set debug=1 for file-wise information)\n",
      "\t 19.051 KB written to files\n",
      "\t 62.000  B written to stdout/stderr\n",
      "\tFor a total of  0.00105 MB/s\n",
      "\n",
      "INFO: Lists updated 3641 times (every ~274.649821 steps)\n",
      "INFO: Aggregated I/O statistics (set debug=1 for file-wise information)\n",
      "\t 19.082 KB written to files\n",
      "\t 62.000  B written to stdout/stderr\n",
      "\tFor a total of  0.00111 MB/s\n",
      "\n",
      "INFO: Lists updated 3693 times (every ~270.782562 steps)\n",
      "INFO: Aggregated I/O statistics (set debug=1 for file-wise information)\n",
      "\t 19.083 KB written to files\n",
      "\t 62.000  B written to stdout/stderr\n",
      "\tFor a total of  0.00123 MB/s\n",
      "\n"
     ]
    },
    {
     "name": "stdout",
     "output_type": "stream",
     "text": [
      "Run time: 18.49572517396882\n",
      "Finished: 55\n",
      "Run time: 17.397341581992805\n",
      "Finished: 62\n"
     ]
    },
    {
     "name": "stderr",
     "output_type": "stream",
     "text": [
      "INFO: Lists updated 3644 times (every ~274.423710 steps)\n",
      "INFO: Aggregated I/O statistics (set debug=1 for file-wise information)\n",
      "\t 19.091 KB written to files\n",
      "\t 62.000  B written to stdout/stderr\n",
      "\tFor a total of  0.00108 MB/s\n",
      "\n",
      "INFO: Lists updated 3104 times (every ~322.164948 steps)\n",
      "INFO: Aggregated I/O statistics (set debug=1 for file-wise information)\n",
      "\t 19.103 KB written to files\n",
      "\t 62.000  B written to stdout/stderr\n",
      "\tFor a total of  0.00115 MB/s\n",
      "\n"
     ]
    },
    {
     "name": "stdout",
     "output_type": "stream",
     "text": [
      "Run time: 18.601198783842847\n",
      "Finished: 56\n",
      "Run time: 17.849002902163193\n",
      "Finished: 61\n",
      "Run time: 18.9753102210816\n",
      "Finished: 54\n",
      "Run time: 17.168852627975866\n",
      "Finished: 66\n"
     ]
    },
    {
     "name": "stderr",
     "output_type": "stream",
     "text": [
      "INFO: Lists updated 3327 times (every ~300.571085 steps)\n",
      "INFO: Aggregated I/O statistics (set debug=1 for file-wise information)\n",
      "\t 19.089 KB written to files\n",
      "\t 62.000  B written to stdout/stderr\n",
      "\tFor a total of  0.00107 MB/s\n",
      "\n",
      "INFO: Lists updated 3397 times (every ~294.377392 steps)\n",
      "INFO: Aggregated I/O statistics (set debug=1 for file-wise information)\n",
      "\t 19.075 KB written to files\n",
      "\t 62.000  B written to stdout/stderr\n",
      "\tFor a total of  0.00112 MB/s\n",
      "\n",
      "INFO: Lists updated 3320 times (every ~301.204819 steps)\n",
      "INFO: Aggregated I/O statistics (set debug=1 for file-wise information)\n",
      "\t 19.093 KB written to files\n",
      "\t 62.000  B written to stdout/stderr\n",
      "\tFor a total of  0.00107 MB/s\n",
      "\n",
      "INFO: Lists updated 3363 times (every ~297.353553 steps)\n",
      "INFO: Aggregated I/O statistics (set debug=1 for file-wise information)\n",
      "\t 19.073 KB written to files\n",
      "\t 62.000  B written to stdout/stderr\n",
      "\tFor a total of  0.00116 MB/s\n",
      "\n"
     ]
    },
    {
     "name": "stdout",
     "output_type": "stream",
     "text": [
      "Run time: 17.619058566866443\n",
      "Finished: 64\n",
      "Run time: 17.225830873008817\n",
      "Finished: 67\n",
      "Run time: 16.30422007688321\n",
      "Finished: 73\n",
      "Run time: 16.64362167008221\n",
      "Finished: 71\n",
      "Run time: 17.977064614882693\n",
      "Finished: 63\n"
     ]
    },
    {
     "name": "stderr",
     "output_type": "stream",
     "text": [
      "INFO: Lists updated 3655 times (every ~273.597811 steps)\n",
      "INFO: Aggregated I/O statistics (set debug=1 for file-wise information)\n",
      "\t 19.102 KB written to files\n",
      "\t 62.000  B written to stdout/stderr\n",
      "\tFor a total of  0.00113 MB/s\n",
      "\n",
      "INFO: Lists updated 3581 times (every ~279.251606 steps)\n",
      "INFO: Aggregated I/O statistics (set debug=1 for file-wise information)\n",
      "\t 19.050 KB written to files\n",
      "\t 62.000  B written to stdout/stderr\n",
      "\tFor a total of  0.00116 MB/s\n",
      "\n",
      "INFO: Lists updated 3458 times (every ~289.184500 steps)\n",
      "INFO: Aggregated I/O statistics (set debug=1 for file-wise information)\n",
      "\t 19.085 KB written to files\n",
      "\t 62.000  B written to stdout/stderr\n",
      "\tFor a total of  0.00123 MB/s\n",
      "\n",
      "INFO: Lists updated 3437 times (every ~290.951411 steps)\n",
      "INFO: Aggregated I/O statistics (set debug=1 for file-wise information)\n",
      "\t 19.095 KB written to files\n",
      "\t 62.000  B written to stdout/stderr\n",
      "\tFor a total of   0.0012 MB/s\n",
      "\n",
      "INFO: Lists updated 3555 times (every ~281.293952 steps)\n",
      "INFO: Aggregated I/O statistics (set debug=1 for file-wise information)\n",
      "\t 19.065 KB written to files\n",
      "\t 62.000  B written to stdout/stderr\n",
      "\tFor a total of  0.00112 MB/s\n",
      "\n"
     ]
    },
    {
     "name": "stdout",
     "output_type": "stream",
     "text": [
      "Run time: 17.430218124063686\n",
      "Finished: 70\n"
     ]
    },
    {
     "name": "stderr",
     "output_type": "stream",
     "text": [
      "INFO: Lists updated 3485 times (every ~286.944046 steps)\n",
      "INFO: Aggregated I/O statistics (set debug=1 for file-wise information)\n",
      "\t 19.070 KB written to files\n",
      "\t 62.000  B written to stdout/stderr\n",
      "\tFor a total of  0.00116 MB/s\n",
      "\n"
     ]
    },
    {
     "name": "stdout",
     "output_type": "stream",
     "text": [
      "Run time: 17.79804074205458\n",
      "Finished: 69\n"
     ]
    },
    {
     "name": "stderr",
     "output_type": "stream",
     "text": [
      "INFO: Lists updated 3263 times (every ~306.466442 steps)\n",
      "INFO: Aggregated I/O statistics (set debug=1 for file-wise information)\n",
      "\t 19.048 KB written to files\n",
      "\t 62.000  B written to stdout/stderr\n",
      "\tFor a total of  0.00117 MB/s\n",
      "\n"
     ]
    },
    {
     "name": "stdout",
     "output_type": "stream",
     "text": [
      "Run time: 17.52730902307667\n",
      "Finished: 72\n",
      "Run time: 18.665568282827735\n",
      "Finished: 65\n",
      "Run time: 17.16561350086704\n",
      "Finished: 75\n"
     ]
    },
    {
     "name": "stderr",
     "output_type": "stream",
     "text": [
      "INFO: Lists updated 3594 times (every ~278.241514 steps)\n",
      "INFO: Aggregated I/O statistics (set debug=1 for file-wise information)\n",
      "\t 19.069 KB written to files\n",
      "\t 62.000  B written to stdout/stderr\n",
      "\tFor a total of  0.00115 MB/s\n",
      "\n",
      "INFO: Lists updated 3752 times (every ~266.524520 steps)\n",
      "INFO: Aggregated I/O statistics (set debug=1 for file-wise information)\n",
      "\t 19.053 KB written to files\n",
      "\t 62.000  B written to stdout/stderr\n",
      "\tFor a total of  0.00115 MB/s\n",
      "\n",
      "INFO: Lists updated 3406 times (every ~293.599530 steps)\n",
      "INFO: Aggregated I/O statistics (set debug=1 for file-wise information)\n",
      "\t 19.091 KB written to files\n",
      "\t 62.000  B written to stdout/stderr\n",
      "\tFor a total of  0.00117 MB/s\n",
      "\n"
     ]
    },
    {
     "name": "stdout",
     "output_type": "stream",
     "text": [
      "Run time: 16.542849239893258\n",
      "Finished: 80\n",
      "Run time: 16.970260868081823\n",
      "Finished: 78\n",
      "Run time: 17.62570421816781\n",
      "Finished: 74\n",
      "Run time: 16.021323989145458\n",
      "Finished: 84\n",
      "Run time: 16.398774881847203\n",
      "Finished: 82\n"
     ]
    },
    {
     "name": "stderr",
     "output_type": "stream",
     "text": [
      "INFO: Lists updated 3416 times (every ~292.740047 steps)\n",
      "INFO: Aggregated I/O statistics (set debug=1 for file-wise information)\n",
      "\t 19.063 KB written to files\n",
      "\t 62.000  B written to stdout/stderr\n",
      "\tFor a total of  0.00122 MB/s\n",
      "\n",
      "INFO: Lists updated 3734 times (every ~267.809320 steps)\n",
      "INFO: Aggregated I/O statistics (set debug=1 for file-wise information)\n",
      "\t 19.075 KB written to files\n",
      "\t 62.000  B written to stdout/stderr\n",
      "\tFor a total of  0.00118 MB/s\n",
      "\n",
      "INFO: Lists updated 3594 times (every ~278.241514 steps)\n",
      "INFO: Aggregated I/O statistics (set debug=1 for file-wise information)\n",
      "\t 19.081 KB written to files\n",
      "\t 62.000  B written to stdout/stderr\n",
      "\tFor a total of  0.00114 MB/s\n",
      "\n",
      "INFO: Lists updated 3404 times (every ~293.772033 steps)\n",
      "INFO: Aggregated I/O statistics (set debug=1 for file-wise information)\n",
      "\t 19.062 KB written to files\n",
      "\t 62.000  B written to stdout/stderr\n",
      "\tFor a total of  0.00126 MB/s\n",
      "\n",
      "INFO: Lists updated 3630 times (every ~275.482094 steps)\n",
      "INFO: Aggregated I/O statistics (set debug=1 for file-wise information)\n",
      "\t 19.059 KB written to files\n",
      "\t 62.000  B written to stdout/stderr\n",
      "\tFor a total of  0.00122 MB/s\n",
      "\n"
     ]
    },
    {
     "name": "stdout",
     "output_type": "stream",
     "text": [
      "Run time: 17.38466683216393\n",
      "Finished: 77\n",
      "Run time: 17.558182002976537\n",
      "Finished: 76\n"
     ]
    },
    {
     "name": "stderr",
     "output_type": "stream",
     "text": [
      "INFO: Lists updated 3593 times (every ~278.318954 steps)\n",
      "INFO: Aggregated I/O statistics (set debug=1 for file-wise information)\n",
      "\t 19.068 KB written to files\n",
      "\t 62.000  B written to stdout/stderr\n",
      "\tFor a total of  0.00116 MB/s\n",
      "\n",
      "INFO: Lists updated 3674 times (every ~272.182907 steps)\n",
      "INFO: Aggregated I/O statistics (set debug=1 for file-wise information)\n",
      "\t 19.064 KB written to files\n",
      "\t 62.000  B written to stdout/stderr\n",
      "\tFor a total of  0.00117 MB/s\n",
      "\n"
     ]
    },
    {
     "name": "stdout",
     "output_type": "stream",
     "text": [
      "Run time: 17.487211657920852\n",
      "Finished: 79\n"
     ]
    },
    {
     "name": "stderr",
     "output_type": "stream",
     "text": [
      "INFO: Lists updated 3488 times (every ~286.697248 steps)\n",
      "INFO: Aggregated I/O statistics (set debug=1 for file-wise information)\n",
      "\t 19.100 KB written to files\n",
      "\t 62.000  B written to stdout/stderr\n",
      "\tFor a total of  0.00115 MB/s\n",
      "\n"
     ]
    },
    {
     "name": "stdout",
     "output_type": "stream",
     "text": [
      "Run time: 16.837024903157726\n",
      "Finished: 85\n"
     ]
    },
    {
     "name": "stderr",
     "output_type": "stream",
     "text": [
      "INFO: Lists updated 3929 times (every ~254.517689 steps)\n",
      "INFO: Aggregated I/O statistics (set debug=1 for file-wise information)\n",
      "\t 19.097 KB written to files\n",
      "\t 62.000  B written to stdout/stderr\n",
      "\tFor a total of  0.00128 MB/s\n",
      "\n"
     ]
    },
    {
     "name": "stdout",
     "output_type": "stream",
     "text": [
      "Run time: 17.41185129713267\n",
      "Finished: 83\n",
      "Run time: 15.63956428389065\n",
      "Finished: 94\n",
      "Run time: 16.92583308997564\n",
      "Finished: 87\n"
     ]
    },
    {
     "name": "stderr",
     "output_type": "stream",
     "text": [
      "INFO: Lists updated 3621 times (every ~276.166805 steps)\n",
      "INFO: Aggregated I/O statistics (set debug=1 for file-wise information)\n",
      "\t 19.110 KB written to files\n",
      "\t 62.000  B written to stdout/stderr\n",
      "\tFor a total of  0.00125 MB/s\n",
      "\n",
      "INFO: Lists updated 3625 times (every ~275.862069 steps)\n",
      "INFO: Aggregated I/O statistics (set debug=1 for file-wise information)\n",
      "\t 19.085 KB written to files\n",
      "\t 62.000  B written to stdout/stderr\n",
      "\tFor a total of   0.0013 MB/s\n",
      "\n",
      "INFO: Lists updated 3527 times (every ~283.527077 steps)\n",
      "INFO: Aggregated I/O statistics (set debug=1 for file-wise information)\n",
      "\t 19.083 KB written to files\n",
      "\t 62.000  B written to stdout/stderr\n",
      "\tFor a total of  0.00119 MB/s\n",
      "\n"
     ]
    },
    {
     "name": "stdout",
     "output_type": "stream",
     "text": [
      "Run time: 16.39792945003137\n",
      "Finished: 91\n"
     ]
    },
    {
     "name": "stderr",
     "output_type": "stream",
     "text": [
      "INFO: Lists updated 3678 times (every ~271.886895 steps)\n",
      "INFO: Aggregated I/O statistics (set debug=1 for file-wise information)\n",
      "\t 19.101 KB written to files\n",
      "\t 62.000  B written to stdout/stderr\n",
      "\tFor a total of  0.00122 MB/s\n",
      "\n"
     ]
    },
    {
     "name": "stdout",
     "output_type": "stream",
     "text": [
      "Run time: 15.903037107083946\n",
      "Finished: 96\n",
      "Run time: 16.656078380998224\n",
      "Finished: 92\n",
      "Run time: 17.21243919292465\n",
      "Finished: 89\n",
      "Run time: 18.520520452177152\n",
      "Finished: 81\n"
     ]
    },
    {
     "name": "stderr",
     "output_type": "stream",
     "text": [
      "INFO: Lists updated 3723 times (every ~268.600591 steps)\n",
      "INFO: Aggregated I/O statistics (set debug=1 for file-wise information)\n",
      "\t 19.099 KB written to files\n",
      "\t 62.000  B written to stdout/stderr\n",
      "\tFor a total of  0.00131 MB/s\n",
      "\n",
      "INFO: Lists updated 3517 times (every ~284.333239 steps)\n",
      "INFO: Aggregated I/O statistics (set debug=1 for file-wise information)\n",
      "\t 19.104 KB written to files\n",
      "\t 62.000  B written to stdout/stderr\n",
      "\tFor a total of  0.00129 MB/s\n",
      "\n",
      "INFO: Lists updated 3641 times (every ~274.649821 steps)\n",
      "INFO: Aggregated I/O statistics (set debug=1 for file-wise information)\n",
      "\t 19.084 KB written to files\n",
      "\t 62.000  B written to stdout/stderr\n",
      "\tFor a total of  0.00126 MB/s\n",
      "\n",
      "INFO: Lists updated 3671 times (every ~272.405339 steps)\n",
      "INFO: Aggregated I/O statistics (set debug=1 for file-wise information)\n",
      "\t 19.099 KB written to files\n",
      "\t 62.000  B written to stdout/stderr\n",
      "\tFor a total of  0.00124 MB/s\n",
      "\n"
     ]
    },
    {
     "name": "stdout",
     "output_type": "stream",
     "text": [
      "Run time: 17.179309523897246\n",
      "Finished: 90\n",
      "Run time: 15.902228544000536\n",
      "Finished: 97\n"
     ]
    },
    {
     "name": "stderr",
     "output_type": "stream",
     "text": [
      "INFO: Lists updated 3562 times (every ~280.741157 steps)\n",
      "INFO: Aggregated I/O statistics (set debug=1 for file-wise information)\n",
      "\t 19.074 KB written to files\n",
      "\t 62.000  B written to stdout/stderr\n",
      "\tFor a total of   0.0012 MB/s\n",
      "\n",
      "INFO: Lists updated 3716 times (every ~269.106566 steps)\n",
      "INFO: Aggregated I/O statistics (set debug=1 for file-wise information)\n",
      "\t 19.072 KB written to files\n",
      "\t 62.000  B written to stdout/stderr\n",
      "\tFor a total of  0.00128 MB/s\n",
      "\n"
     ]
    },
    {
     "name": "stdout",
     "output_type": "stream",
     "text": [
      "Run time: 18.086372222052887\n",
      "Finished: 86\n",
      "Run time: 16.67502946779132\n",
      "Finished: 95\n"
     ]
    },
    {
     "name": "stderr",
     "output_type": "stream",
     "text": [
      "INFO: Lists updated 3378 times (every ~296.033156 steps)\n",
      "INFO: Aggregated I/O statistics (set debug=1 for file-wise information)\n",
      "\t 19.083 KB written to files\n",
      "\t 62.000  B written to stdout/stderr\n",
      "\tFor a total of  0.00118 MB/s\n",
      "\n",
      "INFO: Lists updated 3803 times (every ~262.950302 steps)\n",
      "INFO: Aggregated I/O statistics (set debug=1 for file-wise information)\n",
      "\t 19.069 KB written to files\n",
      "\t 62.000  B written to stdout/stderr\n",
      "\tFor a total of  0.00121 MB/s\n",
      "\n"
     ]
    },
    {
     "name": "stdout",
     "output_type": "stream",
     "text": [
      "Run time: 16.26850155601278\n",
      "Finished: 98\n"
     ]
    },
    {
     "name": "stderr",
     "output_type": "stream",
     "text": [
      "INFO: Lists updated 3649 times (every ~274.047684 steps)\n",
      "INFO: Aggregated I/O statistics (set debug=1 for file-wise information)\n",
      "\t 19.104 KB written to files\n",
      "\t 62.000  B written to stdout/stderr\n",
      "\tFor a total of  0.00125 MB/s\n",
      "\n"
     ]
    },
    {
     "name": "stdout",
     "output_type": "stream",
     "text": [
      "Run time: 16.365142847876996\n",
      "Finished: 99\n",
      "Run time: 18.27155956812203\n",
      "Finished: 88\n"
     ]
    },
    {
     "name": "stderr",
     "output_type": "stream",
     "text": [
      "INFO: Lists updated 3526 times (every ~283.607487 steps)\n",
      "INFO: Aggregated I/O statistics (set debug=1 for file-wise information)\n",
      "\t 19.076 KB written to files\n",
      "\t 62.000  B written to stdout/stderr\n",
      "\tFor a total of  0.00128 MB/s\n",
      "\n",
      "INFO: Lists updated 3627 times (every ~275.709953 steps)\n",
      "INFO: Aggregated I/O statistics (set debug=1 for file-wise information)\n",
      "\t 19.062 KB written to files\n",
      "\t 62.000  B written to stdout/stderr\n",
      "\tFor a total of  0.00123 MB/s\n",
      "\n"
     ]
    },
    {
     "name": "stdout",
     "output_type": "stream",
     "text": [
      "Run time: 17.938590765930712\n",
      "Finished: 93\n"
     ]
    },
    {
     "name": "stderr",
     "output_type": "stream",
     "text": [
      "INFO: Lists updated 3588 times (every ~278.706800 steps)\n",
      "INFO: Aggregated I/O statistics (set debug=1 for file-wise information)\n",
      "\t 19.098 KB written to files\n",
      "\t 62.000  B written to stdout/stderr\n",
      "\tFor a total of  0.00122 MB/s\n",
      "\n"
     ]
    },
    {
     "name": "stdout",
     "output_type": "stream",
     "text": [
      "All queued simulations finished in: 34.08419154305011\n"
     ]
    }
   ],
   "source": [
    "simulation_manager.worker_manager(cpu_run=True, gpu_mem_block=False)"
   ]
  },
  {
   "cell_type": "code",
   "execution_count": 50,
   "id": "bc851f44-d688-4e5c-8af6-ab8641c5b78f",
   "metadata": {
    "execution": {
     "iopub.execute_input": "2023-10-30T04:02:42.126235Z",
     "iopub.status.busy": "2023-10-30T04:02:42.125560Z",
     "iopub.status.idle": "2023-10-30T04:02:55.519413Z",
     "shell.execute_reply": "2023-10-30T04:02:55.518342Z",
     "shell.execute_reply.started": "2023-10-30T04:02:42.126216Z"
    }
   },
   "outputs": [
    {
     "name": "stdout",
     "output_type": "stream",
     "text": [
      "duplex_52_10\n"
     ]
    }
   ],
   "source": [
    "for us, equlibration_parameters, stiff in zip(us_list, equlibration_parameters_list, k_value_list):\n",
    "    print(us.system)\n",
    "    us.build_equlibration_runs(simulation_manager, n_windows, com_list, ref_list,\n",
    "                               stiff, xmin, xmax, equlibration_parameters,\n",
    "                               print_every=1000, observable=True, protein=None,\n",
    "                               force_file=None, continue_run=False)"
   ]
  },
  {
   "cell_type": "code",
   "execution_count": null,
   "id": "cd5c15a2-db50-4b24-8c14-e910a468873d",
   "metadata": {},
   "outputs": [],
   "source": [
    "for us in us_list[1:]:\n",
    "    us.modify_topology_for_unique_pairing()"
   ]
  },
  {
   "cell_type": "code",
   "execution_count": 51,
   "id": "fe6715b3-da1f-4c9f-95bd-377370b9b0f5",
   "metadata": {
    "execution": {
     "iopub.execute_input": "2023-10-30T04:02:55.521785Z",
     "iopub.status.busy": "2023-10-30T04:02:55.521374Z",
     "iopub.status.idle": "2023-10-30T04:25:02.534066Z",
     "shell.execute_reply": "2023-10-30T04:25:02.532984Z",
     "shell.execute_reply.started": "2023-10-30T04:02:55.521765Z"
    },
    "scrolled": true,
    "tags": []
   },
   "outputs": [
    {
     "name": "stdout",
     "output_type": "stream",
     "text": [
      "Running: 0\n",
      "Running: 1\n",
      "Running: 2\n",
      "Running: 3\n",
      "Running: 4\n",
      "Running: 5\n",
      "Running: 6\n",
      "Running: 7\n",
      "Running: 8\n",
      "Running: 9\n",
      "Running: 10\n",
      "Running: 11\n",
      "Running: 12\n",
      "Running: 13\n",
      "Running: 14\n",
      "Running: 15\n",
      "Running: 16\n",
      "Running: 17\n",
      "Running: 18\n",
      "Running: 19\n",
      "Running: 20\n",
      "Running: 21\n",
      "Running: 22\n",
      "Running: 23\n",
      "Running: 24\n",
      "Running: 25\n",
      "Running: 26\n",
      "Running: 27\n",
      "Running: 28\n",
      "Running: 29\n",
      "Running: 30\n",
      "Running: 31\n",
      "Running: 32\n",
      "Running: 33\n",
      "Running: 34\n",
      "Running: 35\n",
      "Running: 36\n",
      "Running: 37\n",
      "Running: 38\n",
      "Running: 39\n",
      "Running: 40\n",
      "Running: 41\n",
      "Running: 42\n",
      "Running: 43\n",
      "Running: 44\n",
      "Running: 45\n",
      "Running: 46\n",
      "Running: 47\n",
      "Running: 48\n",
      "Running: 49\n",
      "Running: 50\n",
      "Running: 51\n",
      "Running: 52\n",
      "Running: 53\n",
      "Running: 54\n",
      "Running: 55\n",
      "Running: 56\n",
      "Running: 57\n",
      "Running: 58\n",
      "Running: 59\n",
      "Running: 60\n",
      "Running: 61\n",
      "Running: 62\n",
      "Running: 63\n",
      "Running: 64\n",
      "Running: 65\n",
      "Running: 66\n",
      "Running: 67\n",
      "Running: 68\n",
      "Running: 69\n",
      "Running: 70\n",
      "Running: 71\n",
      "Running: 72\n",
      "Running: 73\n",
      "Running: 74\n",
      "Running: 75\n",
      "Running: 76\n",
      "Running: 77\n",
      "Running: 78\n",
      "Running: 79\n",
      "Running: 80\n",
      "Running: 81\n",
      "Running: 82\n",
      "Running: 83\n",
      "Running: 84\n",
      "Running: 85\n",
      "Running: 86\n",
      "Running: 87\n",
      "Running: 88\n",
      "Running: 89\n",
      "Running: 90\n",
      "Running: 91\n",
      "Running: 92\n",
      "Running: 93\n",
      "Running: 94\n",
      "Running: 95\n",
      "Running: 96\n",
      "Running: 97\n",
      "Running: 98\n",
      "Running: 99\n",
      "Run time: 671.746091827983\n",
      "Finished: 82\n"
     ]
    },
    {
     "name": "stderr",
     "output_type": "stream",
     "text": [
      "INFO: Lists updated 194550 times (every ~257.003341 steps)\n",
      "INFO: Aggregated I/O statistics (set debug=1 for file-wise information)\n",
      "\t  5.067 MB written to files\n",
      "\t124.000  B written to stdout/stderr\n",
      "\tFor a total of  0.00812 MB/s\n",
      "\n"
     ]
    },
    {
     "name": "stdout",
     "output_type": "stream",
     "text": [
      "Run time: 678.9398521319963\n",
      "Finished: 51\n"
     ]
    },
    {
     "name": "stderr",
     "output_type": "stream",
     "text": [
      "INFO: Lists updated 196149 times (every ~254.908259 steps)\n",
      "INFO: Aggregated I/O statistics (set debug=1 for file-wise information)\n",
      "\t  5.068 MB written to files\n",
      "\t124.000  B written to stdout/stderr\n",
      "\tFor a total of  0.00803 MB/s\n",
      "\n"
     ]
    },
    {
     "name": "stdout",
     "output_type": "stream",
     "text": [
      "Run time: 678.393613262102\n",
      "Finished: 70\n"
     ]
    },
    {
     "name": "stderr",
     "output_type": "stream",
     "text": [
      "INFO: Lists updated 196486 times (every ~254.471056 steps)\n",
      "INFO: Aggregated I/O statistics (set debug=1 for file-wise information)\n",
      "\t  5.068 MB written to files\n",
      "\t124.000  B written to stdout/stderr\n",
      "\tFor a total of  0.00804 MB/s\n",
      "\n"
     ]
    },
    {
     "name": "stdout",
     "output_type": "stream",
     "text": [
      "Run time: 684.4534533240367\n",
      "Finished: 64\n",
      "Run time: 686.005316341063\n",
      "Finished: 55\n"
     ]
    },
    {
     "name": "stderr",
     "output_type": "stream",
     "text": [
      "INFO: Lists updated 195314 times (every ~255.998034 steps)\n",
      "INFO: Aggregated I/O statistics (set debug=1 for file-wise information)\n",
      "\t  5.068 MB written to files\n",
      "\t124.000  B written to stdout/stderr\n",
      "\tFor a total of  0.00796 MB/s\n",
      "\n",
      "INFO: Lists updated 196367 times (every ~254.625268 steps)\n",
      "INFO: Aggregated I/O statistics (set debug=1 for file-wise information)\n",
      "\t  5.067 MB written to files\n",
      "\t124.000  B written to stdout/stderr\n",
      "\tFor a total of  0.00795 MB/s\n",
      "\n"
     ]
    },
    {
     "name": "stdout",
     "output_type": "stream",
     "text": [
      "Run time: 686.5503810560331\n",
      "Finished: 61\n"
     ]
    },
    {
     "name": "stderr",
     "output_type": "stream",
     "text": [
      "INFO: Lists updated 198268 times (every ~252.183913 steps)\n",
      "INFO: Aggregated I/O statistics (set debug=1 for file-wise information)\n",
      "\t  5.067 MB written to files\n",
      "\t124.000  B written to stdout/stderr\n",
      "\tFor a total of  0.00795 MB/s\n",
      "\n"
     ]
    },
    {
     "name": "stdout",
     "output_type": "stream",
     "text": [
      "Run time: 684.7109904859681\n",
      "Finished: 75\n"
     ]
    },
    {
     "name": "stderr",
     "output_type": "stream",
     "text": [
      "INFO: Lists updated 196727 times (every ~254.159317 steps)\n",
      "INFO: Aggregated I/O statistics (set debug=1 for file-wise information)\n",
      "\t  5.067 MB written to files\n",
      "\t124.000  B written to stdout/stderr\n",
      "\tFor a total of  0.00796 MB/s\n",
      "\n"
     ]
    },
    {
     "name": "stdout",
     "output_type": "stream",
     "text": [
      "Run time: 687.7647124680225\n",
      "Finished: 73\n",
      "Run time: 690.6929709890392\n",
      "Finished: 57\n"
     ]
    },
    {
     "name": "stderr",
     "output_type": "stream",
     "text": [
      "INFO: Lists updated 195087 times (every ~256.295909 steps)\n",
      "INFO: Aggregated I/O statistics (set debug=1 for file-wise information)\n",
      "\t  5.068 MB written to files\n",
      "\t124.000  B written to stdout/stderr\n",
      "\tFor a total of  0.00793 MB/s\n",
      "\n",
      "INFO: Lists updated 198451 times (every ~251.951363 steps)\n",
      "INFO: Aggregated I/O statistics (set debug=1 for file-wise information)\n",
      "\t  5.067 MB written to files\n",
      "\t124.000  B written to stdout/stderr\n",
      "\tFor a total of   0.0079 MB/s\n",
      "\n"
     ]
    },
    {
     "name": "stdout",
     "output_type": "stream",
     "text": [
      "Run time: 691.0490117000882\n",
      "Finished: 69\n",
      "Run time: 686.8790191749576\n",
      "Finished: 96\n"
     ]
    },
    {
     "name": "stderr",
     "output_type": "stream",
     "text": [
      "INFO: Lists updated 196178 times (every ~254.870577 steps)\n",
      "INFO: Aggregated I/O statistics (set debug=1 for file-wise information)\n",
      "\t  5.067 MB written to files\n",
      "\t124.000  B written to stdout/stderr\n",
      "\tFor a total of  0.00789 MB/s\n",
      "\n",
      "INFO: Lists updated 194909 times (every ~256.529970 steps)\n",
      "INFO: Aggregated I/O statistics (set debug=1 for file-wise information)\n",
      "\t  5.068 MB written to files\n",
      "\t124.000  B written to stdout/stderr\n",
      "\tFor a total of  0.00797 MB/s\n",
      "\n"
     ]
    },
    {
     "name": "stdout",
     "output_type": "stream",
     "text": [
      "Run time: 695.9923685120884\n",
      "Finished: 44\n"
     ]
    },
    {
     "name": "stderr",
     "output_type": "stream",
     "text": [
      "INFO: Lists updated 197933 times (every ~252.610732 steps)\n",
      "INFO: Aggregated I/O statistics (set debug=1 for file-wise information)\n",
      "\t  5.068 MB written to files\n",
      "\t124.000  B written to stdout/stderr\n",
      "\tFor a total of   0.0078 MB/s\n",
      "\n"
     ]
    },
    {
     "name": "stdout",
     "output_type": "stream",
     "text": [
      "Run time: 693.1232320310082\n",
      "Finished: 66\n"
     ]
    },
    {
     "name": "stderr",
     "output_type": "stream",
     "text": [
      "INFO: Lists updated 195088 times (every ~256.294595 steps)\n",
      "INFO: Aggregated I/O statistics (set debug=1 for file-wise information)\n",
      "\t  5.068 MB written to files\n",
      "\t124.000  B written to stdout/stderr\n",
      "\tFor a total of  0.00786 MB/s\n",
      "\n"
     ]
    },
    {
     "name": "stdout",
     "output_type": "stream",
     "text": [
      "Run time: 694.5437285900116Run time: 690.7111678540241\n",
      "Finished: 60\n",
      "\n",
      "Finished: 83\n",
      "Run time: 689.3293380690739\n",
      "Finished: 92\n"
     ]
    },
    {
     "name": "stderr",
     "output_type": "stream",
     "text": [
      "INFO: Lists updated 194683 times (every ~256.827766 steps)\n",
      "INFO: Aggregated I/O statistics (set debug=1 for file-wise information)\n",
      "\t  5.068 MB written to files\n",
      "\t124.000  B written to stdout/stderr\n",
      "\tFor a total of   0.0079 MB/s\n",
      "\n",
      "INFO: Lists updated 198249 times (every ~252.208082 steps)\n",
      "INFO: Aggregated I/O statistics (set debug=1 for file-wise information)\n",
      "\t  5.067 MB written to files\n",
      "\t124.000  B written to stdout/stderr\n",
      "\tFor a total of  0.00787 MB/s\n",
      "\n",
      "INFO: Lists updated 194926 times (every ~256.507598 steps)\n",
      "INFO: Aggregated I/O statistics (set debug=1 for file-wise information)\n",
      "\t  5.067 MB written to files\n",
      "\t124.000  B written to stdout/stderr\n",
      "\tFor a total of  0.00792 MB/s\n",
      "\n"
     ]
    },
    {
     "name": "stdout",
     "output_type": "stream",
     "text": [
      "Run time: 692.5176585018635\n",
      "Finished: 81\n"
     ]
    },
    {
     "name": "stderr",
     "output_type": "stream",
     "text": [
      "INFO: Lists updated 198679 times (every ~251.662229 steps)\n",
      "INFO: Aggregated I/O statistics (set debug=1 for file-wise information)\n",
      "\t  5.068 MB written to files\n",
      "\t124.000  B written to stdout/stderr\n",
      "\tFor a total of  0.00788 MB/s\n",
      "\n"
     ]
    },
    {
     "name": "stdout",
     "output_type": "stream",
     "text": [
      "Run time: 691.6439229729585\n",
      "Finished: 88\n",
      "Run time: 693.7768183550797\n",
      "Finished: 76\n"
     ]
    },
    {
     "name": "stderr",
     "output_type": "stream",
     "text": [
      "INFO: Lists updated 199144 times (every ~251.074599 steps)\n",
      "INFO: Aggregated I/O statistics (set debug=1 for file-wise information)\n",
      "\t  5.068 MB written to files\n",
      "\t124.000  B written to stdout/stderr\n",
      "\tFor a total of  0.00792 MB/s\n",
      "\n",
      "INFO: Lists updated 194866 times (every ~256.586577 steps)\n",
      "INFO: Aggregated I/O statistics (set debug=1 for file-wise information)\n",
      "\t  5.068 MB written to files\n",
      "\t124.000  B written to stdout/stderr\n",
      "\tFor a total of   0.0079 MB/s\n",
      "\n"
     ]
    },
    {
     "name": "stdout",
     "output_type": "stream",
     "text": [
      "Run time: 699.7495722221211\n",
      "Finished: 42\n",
      "Run time: 692.635682079941\n",
      "Finished: 86\n"
     ]
    },
    {
     "name": "stderr",
     "output_type": "stream",
     "text": [
      "INFO: Lists updated 196996 times (every ~253.812260 steps)\n",
      "INFO: Aggregated I/O statistics (set debug=1 for file-wise information)\n",
      "\t  5.068 MB written to files\n",
      "\t124.000  B written to stdout/stderr\n",
      "\tFor a total of  0.00779 MB/s\n",
      "\n",
      "INFO: Lists updated 198931 times (every ~251.343431 steps)\n",
      "INFO: Aggregated I/O statistics (set debug=1 for file-wise information)\n",
      "\t  5.068 MB written to files\n",
      "\t124.000  B written to stdout/stderr\n",
      "\tFor a total of  0.00786 MB/s\n",
      "\n"
     ]
    },
    {
     "name": "stdout",
     "output_type": "stream",
     "text": [
      "Run time: 700.2453624969348\n",
      "Finished: 49\n"
     ]
    },
    {
     "name": "stderr",
     "output_type": "stream",
     "text": [
      "INFO: Lists updated 197518 times (every ~253.141486 steps)\n",
      "INFO: Aggregated I/O statistics (set debug=1 for file-wise information)\n",
      "\t  5.068 MB written to files\n",
      "\t124.000  B written to stdout/stderr\n",
      "\tFor a total of   0.0078 MB/s\n",
      "\n"
     ]
    },
    {
     "name": "stdout",
     "output_type": "stream",
     "text": [
      "Run time: 695.555138065014\n",
      "Finished: 79\n",
      "Run time: 699.1445589649957\n",
      "Finished: 58\n"
     ]
    },
    {
     "name": "stderr",
     "output_type": "stream",
     "text": [
      "INFO: Lists updated 193260 times (every ~258.718824 steps)\n",
      "INFO: Aggregated I/O statistics (set debug=1 for file-wise information)\n",
      "\t  5.068 MB written to files\n",
      "\t124.000  B written to stdout/stderr\n",
      "\tFor a total of  0.00785 MB/s\n",
      "\n",
      "INFO: Lists updated 196882 times (every ~253.959224 steps)\n",
      "INFO: Aggregated I/O statistics (set debug=1 for file-wise information)\n",
      "\t  5.068 MB written to files\n",
      "\t124.000  B written to stdout/stderr\n",
      "\tFor a total of  0.00779 MB/s\n",
      "\n"
     ]
    },
    {
     "name": "stdout",
     "output_type": "stream",
     "text": [
      "Run time: 696.2695843467955\n",
      "Finished: 77\n",
      "Run time: 692.7443926660344\n",
      "Finished: 99\n"
     ]
    },
    {
     "name": "stderr",
     "output_type": "stream",
     "text": [
      "INFO: Lists updated 193471 times (every ~258.436665 steps)\n",
      "INFO: Aggregated I/O statistics (set debug=1 for file-wise information)\n",
      "\t  5.067 MB written to files\n",
      "\t124.000  B written to stdout/stderr\n",
      "\tFor a total of  0.00783 MB/s\n",
      "\n",
      "INFO: Lists updated 195451 times (every ~255.818594 steps)\n",
      "INFO: Aggregated I/O statistics (set debug=1 for file-wise information)\n",
      "\t  5.067 MB written to files\n",
      "\t124.000  B written to stdout/stderr\n",
      "\tFor a total of  0.00787 MB/s\n",
      "\n"
     ]
    },
    {
     "name": "stdout",
     "output_type": "stream",
     "text": [
      "Run time: 698.8057780729141\n",
      "Finished: 71\n",
      "Run time: 702.4733789449092\n",
      "Finished: 50\n"
     ]
    },
    {
     "name": "stderr",
     "output_type": "stream",
     "text": [
      "INFO: Lists updated 191731 times (every ~260.782033 steps)\n",
      "INFO: Aggregated I/O statistics (set debug=1 for file-wise information)\n",
      "\t  5.068 MB written to files\n",
      "\t124.000  B written to stdout/stderr\n",
      "\tFor a total of  0.00781 MB/s\n",
      "\n",
      "INFO: Lists updated 196505 times (every ~254.446452 steps)\n",
      "INFO: Aggregated I/O statistics (set debug=1 for file-wise information)\n",
      "\t  5.068 MB written to files\n",
      "\t124.000  B written to stdout/stderr\n",
      "\tFor a total of  0.00775 MB/s\n",
      "\n"
     ]
    },
    {
     "name": "stdout",
     "output_type": "stream",
     "text": [
      "Run time: 695.8134542519692\n",
      "Finished: 98\n"
     ]
    },
    {
     "name": "stderr",
     "output_type": "stream",
     "text": [
      "INFO: Lists updated 193108 times (every ~258.922468 steps)\n",
      "INFO: Aggregated I/O statistics (set debug=1 for file-wise information)\n",
      "\t  5.067 MB written to files\n",
      "\t124.000  B written to stdout/stderr\n",
      "\tFor a total of  0.00785 MB/s\n",
      "\n"
     ]
    },
    {
     "name": "stdout",
     "output_type": "stream",
     "text": [
      "Run time: 699.4029877381399\n",
      "Finished: 78\n"
     ]
    },
    {
     "name": "stderr",
     "output_type": "stream",
     "text": [
      "INFO: Lists updated 196945 times (every ~253.877986 steps)\n",
      "INFO: Aggregated I/O statistics (set debug=1 for file-wise information)\n",
      "\t  5.068 MB written to files\n",
      "\t124.000  B written to stdout/stderr\n",
      "\tFor a total of  0.00779 MB/s\n",
      "\n"
     ]
    },
    {
     "name": "stdout",
     "output_type": "stream",
     "text": [
      "Run time: 705.6865386480931\n",
      "Finished: 46\n"
     ]
    },
    {
     "name": "stderr",
     "output_type": "stream",
     "text": [
      "INFO: Lists updated 197309 times (every ~253.409627 steps)\n",
      "INFO: Aggregated I/O statistics (set debug=1 for file-wise information)\n",
      "\t  5.068 MB written to files\n",
      "\t124.000  B written to stdout/stderr\n",
      "\tFor a total of  0.00773 MB/s\n",
      "\n"
     ]
    },
    {
     "name": "stdout",
     "output_type": "stream",
     "text": [
      "Run time: 699.2531845099293\n",
      "Finished: 87\n",
      "Run time: 699.9147806440014\n",
      "Finished: 84\n",
      "Run time: 698.972728622146\n",
      "Finished: 90\n"
     ]
    },
    {
     "name": "stderr",
     "output_type": "stream",
     "text": [
      "INFO: Lists updated 193313 times (every ~258.647892 steps)\n",
      "INFO: Aggregated I/O statistics (set debug=1 for file-wise information)\n",
      "\t  5.067 MB written to files\n",
      "\t124.000  B written to stdout/stderr\n",
      "\tFor a total of  0.00781 MB/s\n",
      "\n",
      "INFO: Lists updated 195727 times (every ~255.457857 steps)\n",
      "INFO: Aggregated I/O statistics (set debug=1 for file-wise information)\n",
      "\t  5.068 MB written to files\n",
      "\t124.000  B written to stdout/stderr\n",
      "\tFor a total of   0.0078 MB/s\n",
      "\n",
      "INFO: Lists updated 195594 times (every ~255.631563 steps)\n",
      "INFO: Aggregated I/O statistics (set debug=1 for file-wise information)\n",
      "\t  5.068 MB written to files\n",
      "\t124.000  B written to stdout/stderr\n",
      "\tFor a total of  0.00781 MB/s\n",
      "\n"
     ]
    },
    {
     "name": "stdout",
     "output_type": "stream",
     "text": [
      "Run time: 700.9212270660792\n",
      "Finished: 85\n"
     ]
    },
    {
     "name": "stderr",
     "output_type": "stream",
     "text": [
      "INFO: Lists updated 196091 times (every ~254.983656 steps)\n",
      "INFO: Aggregated I/O statistics (set debug=1 for file-wise information)\n",
      "\t  5.067 MB written to files\n",
      "\t124.000  B written to stdout/stderr\n",
      "\tFor a total of   0.0078 MB/s\n",
      "\n"
     ]
    },
    {
     "name": "stdout",
     "output_type": "stream",
     "text": [
      "Run time: 707.3567730651703\n",
      "Finished: 48\n"
     ]
    },
    {
     "name": "stderr",
     "output_type": "stream",
     "text": [
      "INFO: Lists updated 194031 times (every ~257.690781 steps)\n",
      "INFO: Aggregated I/O statistics (set debug=1 for file-wise information)\n",
      "\t  5.068 MB written to files\n",
      "\t124.000  B written to stdout/stderr\n",
      "\tFor a total of  0.00771 MB/s\n",
      "\n"
     ]
    },
    {
     "name": "stdout",
     "output_type": "stream",
     "text": [
      "Run time: 707.9477518768981\n",
      "Finished: 47\n",
      "Run time: 700.4273262289353\n",
      "Finished: 93\n"
     ]
    },
    {
     "name": "stderr",
     "output_type": "stream",
     "text": [
      "INFO: Lists updated 197244 times (every ~253.493135 steps)\n",
      "INFO: Aggregated I/O statistics (set debug=1 for file-wise information)\n",
      "\t  5.068 MB written to files\n",
      "\t124.000  B written to stdout/stderr\n",
      "\tFor a total of  0.00768 MB/s\n",
      "\n",
      "INFO: Lists updated 196049 times (every ~255.038281 steps)\n",
      "INFO: Aggregated I/O statistics (set debug=1 for file-wise information)\n",
      "\t  5.067 MB written to files\n",
      "\t124.000  B written to stdout/stderr\n",
      "\tFor a total of  0.00779 MB/s\n",
      "\n"
     ]
    },
    {
     "name": "stdout",
     "output_type": "stream",
     "text": [
      "Run time: 700.6080286339857\n",
      "Finished: 94\n"
     ]
    },
    {
     "name": "stderr",
     "output_type": "stream",
     "text": [
      "INFO: Lists updated 196406 times (every ~254.574707 steps)\n",
      "INFO: Aggregated I/O statistics (set debug=1 for file-wise information)\n",
      "\t  5.067 MB written to files\n",
      "\t124.000  B written to stdout/stderr\n",
      "\tFor a total of  0.00776 MB/s\n",
      "\n"
     ]
    },
    {
     "name": "stdout",
     "output_type": "stream",
     "text": [
      "Run time: 709.9392675231211\n",
      "Finished: 41\n",
      "Run time: 706.5539947692305\n",
      "Finished: 62\n"
     ]
    },
    {
     "name": "stderr",
     "output_type": "stream",
     "text": [
      "INFO: Lists updated 197424 times (every ~253.262015 steps)\n",
      "INFO: Aggregated I/O statistics (set debug=1 for file-wise information)\n",
      "\t  5.068 MB written to files\n",
      "\t124.000  B written to stdout/stderr\n",
      "\tFor a total of  0.00768 MB/s\n",
      "\n",
      "INFO: Lists updated 196059 times (every ~255.025273 steps)\n",
      "INFO: Aggregated I/O statistics (set debug=1 for file-wise information)\n",
      "\t  5.068 MB written to files\n",
      "\t124.000  B written to stdout/stderr\n",
      "\tFor a total of   0.0077 MB/s\n",
      "\n"
     ]
    },
    {
     "name": "stdout",
     "output_type": "stream",
     "text": [
      "Run time: 710.1077099679969\n",
      "Finished: 54\n",
      "Run time: 705.8583607000764\n",
      "Finished: 80\n"
     ]
    },
    {
     "name": "stderr",
     "output_type": "stream",
     "text": [
      "INFO: Lists updated 195778 times (every ~255.391311 steps)\n",
      "INFO: Aggregated I/O statistics (set debug=1 for file-wise information)\n",
      "\t  5.068 MB written to files\n",
      "\t124.000  B written to stdout/stderr\n",
      "\tFor a total of  0.00768 MB/s\n",
      "\n",
      "INFO: Lists updated 193690 times (every ~258.144458 steps)\n",
      "INFO: Aggregated I/O statistics (set debug=1 for file-wise information)\n",
      "\t  5.067 MB written to files\n",
      "\t124.000  B written to stdout/stderr\n",
      "\tFor a total of  0.00775 MB/s\n",
      "\n"
     ]
    },
    {
     "name": "stdout",
     "output_type": "stream",
     "text": [
      "Run time: 712.2996209559496\n",
      "Finished: 43\n"
     ]
    },
    {
     "name": "stderr",
     "output_type": "stream",
     "text": [
      "INFO: Lists updated 196498 times (every ~254.455516 steps)\n",
      "INFO: Aggregated I/O statistics (set debug=1 for file-wise information)\n",
      "\t  5.068 MB written to files\n",
      "\t124.000  B written to stdout/stderr\n",
      "\tFor a total of  0.00764 MB/s\n",
      "\n"
     ]
    },
    {
     "name": "stdout",
     "output_type": "stream",
     "text": [
      "Run time: 705.1121745130513\n",
      "Finished: 89\n",
      "Run time: 704.8444702089764\n",
      "Finished: 91\n"
     ]
    },
    {
     "name": "stderr",
     "output_type": "stream",
     "text": [
      "INFO: Lists updated 196405 times (every ~254.576004 steps)\n",
      "INFO: Aggregated I/O statistics (set debug=1 for file-wise information)\n",
      "\t  5.067 MB written to files\n",
      "\t124.000  B written to stdout/stderr\n",
      "\tFor a total of  0.00774 MB/s\n",
      "\n",
      "INFO: Lists updated 198199 times (every ~252.271707 steps)\n",
      "INFO: Aggregated I/O statistics (set debug=1 for file-wise information)\n",
      "\t  5.068 MB written to files\n",
      "\t124.000  B written to stdout/stderr\n",
      "\tFor a total of  0.00775 MB/s\n",
      "\n"
     ]
    },
    {
     "name": "stdout",
     "output_type": "stream",
     "text": [
      "Run time: 709.1698026449885\n",
      "Finished: 67\n",
      "Run time: 708.0843449530657\n",
      "Finished: 74\n"
     ]
    },
    {
     "name": "stderr",
     "output_type": "stream",
     "text": [
      "INFO: Lists updated 196396 times (every ~254.587670 steps)\n",
      "INFO: Aggregated I/O statistics (set debug=1 for file-wise information)\n",
      "\t  5.068 MB written to files\n",
      "\t124.000  B written to stdout/stderr\n",
      "\tFor a total of  0.00768 MB/s\n",
      "\n",
      "INFO: Lists updated 195413 times (every ~255.868340 steps)\n",
      "INFO: Aggregated I/O statistics (set debug=1 for file-wise information)\n",
      "\t  5.067 MB written to files\n",
      "\t124.000  B written to stdout/stderr\n",
      "\tFor a total of   0.0077 MB/s\n",
      "\n"
     ]
    },
    {
     "name": "stdout",
     "output_type": "stream",
     "text": [
      "Run time: 705.3500712309033\n",
      "Finished: 95\n"
     ]
    },
    {
     "name": "stderr",
     "output_type": "stream",
     "text": [
      "INFO: Lists updated 196893 times (every ~253.945036 steps)\n",
      "INFO: Aggregated I/O statistics (set debug=1 for file-wise information)\n",
      "\t  5.067 MB written to files\n",
      "\t124.000  B written to stdout/stderr\n",
      "\tFor a total of  0.00774 MB/s\n",
      "\n"
     ]
    },
    {
     "name": "stdout",
     "output_type": "stream",
     "text": [
      "Run time: 709.7059602199588\n",
      "Finished: 72\n"
     ]
    },
    {
     "name": "stderr",
     "output_type": "stream",
     "text": [
      "INFO: Lists updated 195726 times (every ~255.459162 steps)\n",
      "INFO: Aggregated I/O statistics (set debug=1 for file-wise information)\n",
      "\t  5.067 MB written to files\n",
      "\t124.000  B written to stdout/stderr\n",
      "\tFor a total of  0.00766 MB/s\n",
      "\n"
     ]
    },
    {
     "name": "stdout",
     "output_type": "stream",
     "text": [
      "Run time: 713.4901912258938\n",
      "Finished: 52\n",
      "Run time: 714.8652134919539\n",
      "Finished: 45\n"
     ]
    },
    {
     "name": "stderr",
     "output_type": "stream",
     "text": [
      "INFO: Lists updated 194127 times (every ~257.563348 steps)\n",
      "INFO: Aggregated I/O statistics (set debug=1 for file-wise information)\n",
      "\t  5.067 MB written to files\n",
      "\t124.000  B written to stdout/stderr\n",
      "\tFor a total of  0.00763 MB/s\n",
      "\n",
      "INFO: Lists updated 194561 times (every ~256.988811 steps)\n",
      "INFO: Aggregated I/O statistics (set debug=1 for file-wise information)\n",
      "\t  5.068 MB written to files\n",
      "\t124.000  B written to stdout/stderr\n",
      "\tFor a total of  0.00765 MB/s\n",
      "\n"
     ]
    },
    {
     "name": "stdout",
     "output_type": "stream",
     "text": [
      "Run time: 712.6025318240281\n",
      "Finished: 59\n",
      "Run time: 713.6955665289424\n",
      "Finished: 53\n"
     ]
    },
    {
     "name": "stderr",
     "output_type": "stream",
     "text": [
      "INFO: Lists updated 195336 times (every ~255.969202 steps)\n",
      "INFO: Aggregated I/O statistics (set debug=1 for file-wise information)\n",
      "\t  5.068 MB written to files\n",
      "\t124.000  B written to stdout/stderr\n",
      "\tFor a total of  0.00765 MB/s\n",
      "\n",
      "INFO: Lists updated 193644 times (every ~258.205780 steps)\n",
      "INFO: Aggregated I/O statistics (set debug=1 for file-wise information)\n",
      "\t  5.068 MB written to files\n",
      "\t124.000  B written to stdout/stderr\n",
      "\tFor a total of  0.00764 MB/s\n",
      "\n"
     ]
    },
    {
     "name": "stdout",
     "output_type": "stream",
     "text": [
      "Run time: 706.6742689709645\n",
      "Finished: 97\n"
     ]
    },
    {
     "name": "stderr",
     "output_type": "stream",
     "text": [
      "INFO: Lists updated 197183 times (every ~253.571555 steps)\n",
      "INFO: Aggregated I/O statistics (set debug=1 for file-wise information)\n",
      "\t  5.068 MB written to files\n",
      "\t124.000  B written to stdout/stderr\n",
      "\tFor a total of  0.00772 MB/s\n",
      "\n"
     ]
    },
    {
     "name": "stdout",
     "output_type": "stream",
     "text": [
      "Run time: 713.1387166359928\n",
      "Finished: 65\n"
     ]
    },
    {
     "name": "stderr",
     "output_type": "stream",
     "text": [
      "INFO: Lists updated 193856 times (every ~257.923407 steps)\n",
      "INFO: Aggregated I/O statistics (set debug=1 for file-wise information)\n",
      "\t  5.068 MB written to files\n",
      "\t124.000  B written to stdout/stderr\n",
      "\tFor a total of  0.00764 MB/s\n",
      "\n"
     ]
    },
    {
     "name": "stdout",
     "output_type": "stream",
     "text": [
      "Run time: 719.5255225438159\n",
      "Finished: 39\n"
     ]
    },
    {
     "name": "stderr",
     "output_type": "stream",
     "text": [
      "INFO: Lists updated 196346 times (every ~254.652501 steps)\n",
      "INFO: Aggregated I/O statistics (set debug=1 for file-wise information)\n",
      "\t  5.068 MB written to files\n",
      "\t124.000  B written to stdout/stderr\n",
      "\tFor a total of  0.00756 MB/s\n",
      "\n"
     ]
    },
    {
     "name": "stdout",
     "output_type": "stream",
     "text": [
      "Run time: 715.5253669500817\n",
      "Finished: 68\n"
     ]
    },
    {
     "name": "stderr",
     "output_type": "stream",
     "text": [
      "INFO: Lists updated 193722 times (every ~258.101816 steps)\n",
      "INFO: Aggregated I/O statistics (set debug=1 for file-wise information)\n",
      "\t  5.068 MB written to files\n",
      "\t124.000  B written to stdout/stderr\n",
      "\tFor a total of  0.00763 MB/s\n",
      "\n"
     ]
    },
    {
     "name": "stdout",
     "output_type": "stream",
     "text": [
      "Run time: 721.5859725140035\n",
      "Finished: 40\n"
     ]
    },
    {
     "name": "stderr",
     "output_type": "stream",
     "text": [
      "INFO: Lists updated 194981 times (every ~256.435242 steps)\n",
      "INFO: Aggregated I/O statistics (set debug=1 for file-wise information)\n",
      "\t  5.068 MB written to files\n",
      "\t124.000  B written to stdout/stderr\n",
      "\tFor a total of  0.00752 MB/s\n",
      "\n"
     ]
    },
    {
     "name": "stdout",
     "output_type": "stream",
     "text": [
      "Run time: 729.2398051610216\n",
      "Finished: 36\n"
     ]
    },
    {
     "name": "stderr",
     "output_type": "stream",
     "text": [
      "INFO: Lists updated 196013 times (every ~255.085122 steps)\n",
      "INFO: Aggregated I/O statistics (set debug=1 for file-wise information)\n",
      "\t  5.067 MB written to files\n",
      "\t124.000  B written to stdout/stderr\n",
      "\tFor a total of  0.00746 MB/s\n",
      "\n"
     ]
    },
    {
     "name": "stdout",
     "output_type": "stream",
     "text": [
      "Run time: 726.4915679001715\n",
      "Finished: 56\n"
     ]
    },
    {
     "name": "stderr",
     "output_type": "stream",
     "text": [
      "INFO: Lists updated 197395 times (every ~253.299222 steps)\n",
      "INFO: Aggregated I/O statistics (set debug=1 for file-wise information)\n",
      "\t  5.068 MB written to files\n",
      "\t124.000  B written to stdout/stderr\n",
      "\tFor a total of  0.00751 MB/s\n",
      "\n"
     ]
    },
    {
     "name": "stdout",
     "output_type": "stream",
     "text": [
      "Run time: 730.8916997320484\n",
      "Finished: 38\n"
     ]
    },
    {
     "name": "stderr",
     "output_type": "stream",
     "text": [
      "INFO: Lists updated 197579 times (every ~253.063332 steps)\n",
      "INFO: Aggregated I/O statistics (set debug=1 for file-wise information)\n",
      "\t  5.067 MB written to files\n",
      "\t124.000  B written to stdout/stderr\n",
      "\tFor a total of  0.00743 MB/s\n",
      "\n"
     ]
    },
    {
     "name": "stdout",
     "output_type": "stream",
     "text": [
      "Run time: 733.8274219289888\n",
      "Finished: 37\n"
     ]
    },
    {
     "name": "stderr",
     "output_type": "stream",
     "text": [
      "INFO: Lists updated 195428 times (every ~255.848701 steps)\n",
      "INFO: Aggregated I/O statistics (set debug=1 for file-wise information)\n",
      "\t  5.068 MB written to files\n",
      "\t124.000  B written to stdout/stderr\n",
      "\tFor a total of  0.00739 MB/s\n",
      "\n"
     ]
    },
    {
     "name": "stdout",
     "output_type": "stream",
     "text": [
      "Run time: 731.5353917900939\n",
      "Finished: 63\n"
     ]
    },
    {
     "name": "stderr",
     "output_type": "stream",
     "text": [
      "INFO: Lists updated 196656 times (every ~254.251078 steps)\n",
      "INFO: Aggregated I/O statistics (set debug=1 for file-wise information)\n",
      "\t  5.067 MB written to files\n",
      "\t124.000  B written to stdout/stderr\n",
      "\tFor a total of  0.00747 MB/s\n",
      "\n"
     ]
    },
    {
     "name": "stdout",
     "output_type": "stream",
     "text": [
      "Run time: 744.7436675250065\n",
      "Finished: 35\n"
     ]
    },
    {
     "name": "stderr",
     "output_type": "stream",
     "text": [
      "INFO: Lists updated 194998 times (every ~256.412886 steps)\n",
      "INFO: Aggregated I/O statistics (set debug=1 for file-wise information)\n",
      "\t  5.068 MB written to files\n",
      "\t124.000  B written to stdout/stderr\n",
      "\tFor a total of  0.00729 MB/s\n",
      "\n"
     ]
    },
    {
     "name": "stdout",
     "output_type": "stream",
     "text": [
      "Run time: 747.0235753299203\n",
      "Finished: 34\n"
     ]
    },
    {
     "name": "stderr",
     "output_type": "stream",
     "text": [
      "INFO: Lists updated 195741 times (every ~255.439586 steps)\n",
      "INFO: Aggregated I/O statistics (set debug=1 for file-wise information)\n",
      "\t  5.068 MB written to files\n",
      "\t124.000  B written to stdout/stderr\n",
      "\tFor a total of  0.00725 MB/s\n",
      "\n"
     ]
    },
    {
     "name": "stdout",
     "output_type": "stream",
     "text": [
      "Run time: 760.6342393858358\n",
      "Finished: 31\n"
     ]
    },
    {
     "name": "stderr",
     "output_type": "stream",
     "text": [
      "INFO: Lists updated 194585 times (every ~256.957114 steps)\n",
      "INFO: Aggregated I/O statistics (set debug=1 for file-wise information)\n",
      "\t  5.068 MB written to files\n",
      "\t124.000  B written to stdout/stderr\n",
      "\tFor a total of   0.0071 MB/s\n",
      "\n"
     ]
    },
    {
     "name": "stdout",
     "output_type": "stream",
     "text": [
      "Run time: 769.8584315569606\n",
      "Finished: 32\n"
     ]
    },
    {
     "name": "stderr",
     "output_type": "stream",
     "text": [
      "INFO: Lists updated 196625 times (every ~254.291163 steps)\n",
      "INFO: Aggregated I/O statistics (set debug=1 for file-wise information)\n",
      "\t  5.068 MB written to files\n",
      "\t124.000  B written to stdout/stderr\n",
      "\tFor a total of  0.00704 MB/s\n",
      "\n"
     ]
    },
    {
     "name": "stdout",
     "output_type": "stream",
     "text": [
      "Run time: 770.8303833748214\n",
      "Finished: 33\n"
     ]
    },
    {
     "name": "stderr",
     "output_type": "stream",
     "text": [
      "INFO: Lists updated 195078 times (every ~256.307733 steps)\n",
      "INFO: Aggregated I/O statistics (set debug=1 for file-wise information)\n",
      "\t  5.067 MB written to files\n",
      "\t124.000  B written to stdout/stderr\n",
      "\tFor a total of  0.00701 MB/s\n",
      "\n"
     ]
    },
    {
     "name": "stdout",
     "output_type": "stream",
     "text": [
      "Run time: 790.4643173289951\n",
      "Finished: 30\n"
     ]
    },
    {
     "name": "stderr",
     "output_type": "stream",
     "text": [
      "INFO: Lists updated 194161 times (every ~257.518245 steps)\n",
      "INFO: Aggregated I/O statistics (set debug=1 for file-wise information)\n",
      "\t  5.068 MB written to files\n",
      "\t124.000  B written to stdout/stderr\n",
      "\tFor a total of  0.00685 MB/s\n",
      "\n"
     ]
    },
    {
     "name": "stdout",
     "output_type": "stream",
     "text": [
      "Run time: 795.6453472189605\n",
      "Finished: 28\n"
     ]
    },
    {
     "name": "stderr",
     "output_type": "stream",
     "text": [
      "INFO: Lists updated 195681 times (every ~255.517909 steps)\n",
      "INFO: Aggregated I/O statistics (set debug=1 for file-wise information)\n",
      "\t  5.068 MB written to files\n",
      "\t124.000  B written to stdout/stderr\n",
      "\tFor a total of  0.00677 MB/s\n",
      "\n"
     ]
    },
    {
     "name": "stdout",
     "output_type": "stream",
     "text": [
      "Run time: 802.8874861551449\n",
      "Finished: 29\n"
     ]
    },
    {
     "name": "stderr",
     "output_type": "stream",
     "text": [
      "INFO: Lists updated 196190 times (every ~254.854988 steps)\n",
      "INFO: Aggregated I/O statistics (set debug=1 for file-wise information)\n",
      "\t  5.067 MB written to files\n",
      "\t124.000  B written to stdout/stderr\n",
      "\tFor a total of  0.00674 MB/s\n",
      "\n"
     ]
    },
    {
     "name": "stdout",
     "output_type": "stream",
     "text": [
      "Run time: 812.2621902180836\n",
      "Finished: 27\n"
     ]
    },
    {
     "name": "stderr",
     "output_type": "stream",
     "text": [
      "INFO: Lists updated 195596 times (every ~255.628949 steps)\n",
      "INFO: Aggregated I/O statistics (set debug=1 for file-wise information)\n",
      "\t  5.067 MB written to files\n",
      "\t124.000  B written to stdout/stderr\n",
      "\tFor a total of  0.00664 MB/s\n",
      "\n"
     ]
    },
    {
     "name": "stdout",
     "output_type": "stream",
     "text": [
      "Run time: 838.562224562047\n",
      "Finished: 26\n"
     ]
    },
    {
     "name": "stderr",
     "output_type": "stream",
     "text": [
      "INFO: Lists updated 195395 times (every ~255.891911 steps)\n",
      "INFO: Aggregated I/O statistics (set debug=1 for file-wise information)\n",
      "\t  5.068 MB written to files\n",
      "\t124.000  B written to stdout/stderr\n",
      "\tFor a total of  0.00644 MB/s\n",
      "\n"
     ]
    },
    {
     "name": "stdout",
     "output_type": "stream",
     "text": [
      "Run time: 843.868310620077\n",
      "Finished: 25\n"
     ]
    },
    {
     "name": "stderr",
     "output_type": "stream",
     "text": [
      "INFO: Lists updated 194615 times (every ~256.917504 steps)\n",
      "INFO: Aggregated I/O statistics (set debug=1 for file-wise information)\n",
      "\t  5.067 MB written to files\n",
      "\t124.000  B written to stdout/stderr\n",
      "\tFor a total of  0.00638 MB/s\n",
      "\n"
     ]
    },
    {
     "name": "stdout",
     "output_type": "stream",
     "text": [
      "Run time: 849.4749836460687\n",
      "Finished: 24\n"
     ]
    },
    {
     "name": "stderr",
     "output_type": "stream",
     "text": [
      "INFO: Lists updated 194529 times (every ~257.031085 steps)\n",
      "INFO: Aggregated I/O statistics (set debug=1 for file-wise information)\n",
      "\t  5.068 MB written to files\n",
      "\t124.000  B written to stdout/stderr\n",
      "\tFor a total of  0.00633 MB/s\n",
      "\n"
     ]
    },
    {
     "name": "stdout",
     "output_type": "stream",
     "text": [
      "Run time: 854.9624732609373\n",
      "Finished: 23\n"
     ]
    },
    {
     "name": "stderr",
     "output_type": "stream",
     "text": [
      "INFO: Lists updated 194134 times (every ~257.554061 steps)\n",
      "INFO: Aggregated I/O statistics (set debug=1 for file-wise information)\n",
      "\t  5.068 MB written to files\n",
      "\t124.000  B written to stdout/stderr\n",
      "\tFor a total of   0.0063 MB/s\n",
      "\n"
     ]
    },
    {
     "name": "stdout",
     "output_type": "stream",
     "text": [
      "Run time: 891.6806102329865\n",
      "Finished: 21\n"
     ]
    },
    {
     "name": "stderr",
     "output_type": "stream",
     "text": [
      "INFO: Lists updated 193408 times (every ~258.520847 steps)\n",
      "INFO: Aggregated I/O statistics (set debug=1 for file-wise information)\n",
      "\t  5.067 MB written to files\n",
      "\t124.000  B written to stdout/stderr\n",
      "\tFor a total of    0.006 MB/s\n",
      "\n"
     ]
    },
    {
     "name": "stdout",
     "output_type": "stream",
     "text": [
      "Run time: 908.2425177260302\n",
      "Finished: 20\n"
     ]
    },
    {
     "name": "stderr",
     "output_type": "stream",
     "text": [
      "INFO: Lists updated 189798 times (every ~263.437971 steps)\n",
      "INFO: Aggregated I/O statistics (set debug=1 for file-wise information)\n",
      "\t  5.067 MB written to files\n",
      "\t124.000  B written to stdout/stderr\n",
      "\tFor a total of   0.0059 MB/s\n",
      "\n"
     ]
    },
    {
     "name": "stdout",
     "output_type": "stream",
     "text": [
      "Run time: 909.1700989380479\n",
      "Finished: 22\n"
     ]
    },
    {
     "name": "stderr",
     "output_type": "stream",
     "text": [
      "INFO: Lists updated 193580 times (every ~258.291146 steps)\n",
      "INFO: Aggregated I/O statistics (set debug=1 for file-wise information)\n",
      "\t  5.068 MB written to files\n",
      "\t124.000  B written to stdout/stderr\n",
      "\tFor a total of  0.00589 MB/s\n",
      "\n"
     ]
    },
    {
     "name": "stdout",
     "output_type": "stream",
     "text": [
      "Run time: 930.3049389719963\n",
      "Finished: 18\n"
     ]
    },
    {
     "name": "stderr",
     "output_type": "stream",
     "text": [
      "INFO: Lists updated 193359 times (every ~258.586360 steps)\n",
      "INFO: Aggregated I/O statistics (set debug=1 for file-wise information)\n",
      "\t  5.067 MB written to files\n",
      "\t124.000  B written to stdout/stderr\n",
      "\tFor a total of  0.00576 MB/s\n",
      "\n"
     ]
    },
    {
     "name": "stdout",
     "output_type": "stream",
     "text": [
      "Run time: 938.2679118979722\n",
      "Finished: 19\n"
     ]
    },
    {
     "name": "stderr",
     "output_type": "stream",
     "text": [
      "INFO: Lists updated 193848 times (every ~257.934051 steps)\n",
      "INFO: Aggregated I/O statistics (set debug=1 for file-wise information)\n",
      "\t  5.068 MB written to files\n",
      "\t124.000  B written to stdout/stderr\n",
      "\tFor a total of   0.0057 MB/s\n",
      "\n"
     ]
    },
    {
     "name": "stdout",
     "output_type": "stream",
     "text": [
      "Run time: 979.0265136868693\n",
      "Finished: 17\n"
     ]
    },
    {
     "name": "stderr",
     "output_type": "stream",
     "text": [
      "INFO: Lists updated 189799 times (every ~263.436583 steps)\n",
      "INFO: Aggregated I/O statistics (set debug=1 for file-wise information)\n",
      "\t  5.067 MB written to files\n",
      "\t124.000  B written to stdout/stderr\n",
      "\tFor a total of  0.00545 MB/s\n",
      "\n"
     ]
    },
    {
     "name": "stdout",
     "output_type": "stream",
     "text": [
      "Run time: 1040.4177295758855\n",
      "Finished: 16\n"
     ]
    },
    {
     "name": "stderr",
     "output_type": "stream",
     "text": [
      "INFO: Lists updated 175995 times (every ~284.098980 steps)\n",
      "INFO: Aggregated I/O statistics (set debug=1 for file-wise information)\n",
      "\t  5.067 MB written to files\n",
      "\t124.000  B written to stdout/stderr\n",
      "\tFor a total of  0.00511 MB/s\n",
      "\n"
     ]
    },
    {
     "name": "stdout",
     "output_type": "stream",
     "text": [
      "Run time: 1052.0926551190205\n",
      "Finished: 15\n"
     ]
    },
    {
     "name": "stderr",
     "output_type": "stream",
     "text": [
      "INFO: Lists updated 178302 times (every ~280.423102 steps)\n",
      "INFO: Aggregated I/O statistics (set debug=1 for file-wise information)\n",
      "\t  5.068 MB written to files\n",
      "\t124.000  B written to stdout/stderr\n",
      "\tFor a total of  0.00505 MB/s\n",
      "\n"
     ]
    },
    {
     "name": "stdout",
     "output_type": "stream",
     "text": [
      "Run time: 1068.4978286980186\n",
      "Finished: 14\n"
     ]
    },
    {
     "name": "stderr",
     "output_type": "stream",
     "text": [
      "INFO: Lists updated 180358 times (every ~277.226405 steps)\n",
      "INFO: Aggregated I/O statistics (set debug=1 for file-wise information)\n",
      "\t  5.067 MB written to files\n",
      "\t124.000  B written to stdout/stderr\n",
      "\tFor a total of  0.00498 MB/s\n",
      "\n"
     ]
    },
    {
     "name": "stdout",
     "output_type": "stream",
     "text": [
      "Run time: 1112.2012151561212\n",
      "Finished: 13\n"
     ]
    },
    {
     "name": "stderr",
     "output_type": "stream",
     "text": [
      "INFO: Lists updated 170855 times (every ~292.645811 steps)\n",
      "INFO: Aggregated I/O statistics (set debug=1 for file-wise information)\n",
      "\t  5.068 MB written to files\n",
      "\t124.000  B written to stdout/stderr\n",
      "\tFor a total of  0.00476 MB/s\n",
      "\n"
     ]
    },
    {
     "name": "stdout",
     "output_type": "stream",
     "text": [
      "Run time: 1132.7543585300446\n",
      "Finished: 12\n"
     ]
    },
    {
     "name": "stderr",
     "output_type": "stream",
     "text": [
      "INFO: Lists updated 169197 times (every ~295.513514 steps)\n",
      "INFO: Aggregated I/O statistics (set debug=1 for file-wise information)\n",
      "\t  5.067 MB written to files\n",
      "\t124.000  B written to stdout/stderr\n",
      "\tFor a total of  0.00467 MB/s\n",
      "\n"
     ]
    },
    {
     "name": "stdout",
     "output_type": "stream",
     "text": [
      "Run time: 1143.7286673730705\n",
      "Finished: 11\n"
     ]
    },
    {
     "name": "stderr",
     "output_type": "stream",
     "text": [
      "INFO: Lists updated 167218 times (every ~299.010872 steps)\n",
      "INFO: Aggregated I/O statistics (set debug=1 for file-wise information)\n",
      "\t  5.068 MB written to files\n",
      "\t124.000  B written to stdout/stderr\n",
      "\tFor a total of  0.00463 MB/s\n",
      "\n"
     ]
    },
    {
     "name": "stdout",
     "output_type": "stream",
     "text": [
      "Run time: 1192.4370927098207\n",
      "Finished: 9\n"
     ]
    },
    {
     "name": "stderr",
     "output_type": "stream",
     "text": [
      "INFO: Lists updated 163819 times (every ~305.214902 steps)\n",
      "INFO: Aggregated I/O statistics (set debug=1 for file-wise information)\n",
      "\t  5.067 MB written to files\n",
      "\t124.000  B written to stdout/stderr\n",
      "\tFor a total of  0.00443 MB/s\n",
      "\n"
     ]
    },
    {
     "name": "stdout",
     "output_type": "stream",
     "text": [
      "Run time: 1197.2074587030802\n",
      "Finished: 10\n"
     ]
    },
    {
     "name": "stderr",
     "output_type": "stream",
     "text": [
      "INFO: Lists updated 163937 times (every ~304.995212 steps)\n",
      "INFO: Aggregated I/O statistics (set debug=1 for file-wise information)\n",
      "\t  5.067 MB written to files\n",
      "\t124.000  B written to stdout/stderr\n",
      "\tFor a total of  0.00442 MB/s\n",
      "\n"
     ]
    },
    {
     "name": "stdout",
     "output_type": "stream",
     "text": [
      "Run time: 1210.1269824390765\n",
      "Finished: 8\n"
     ]
    },
    {
     "name": "stderr",
     "output_type": "stream",
     "text": [
      "INFO: Lists updated 160414 times (every ~311.693493 steps)\n",
      "INFO: Aggregated I/O statistics (set debug=1 for file-wise information)\n",
      "\t  5.068 MB written to files\n",
      "\t124.000  B written to stdout/stderr\n",
      "\tFor a total of  0.00436 MB/s\n",
      "\n"
     ]
    },
    {
     "name": "stdout",
     "output_type": "stream",
     "text": [
      "Run time: 1229.1059959460981\n",
      "Finished: 7\n"
     ]
    },
    {
     "name": "stderr",
     "output_type": "stream",
     "text": [
      "INFO: Lists updated 156398 times (every ~319.697183 steps)\n",
      "INFO: Aggregated I/O statistics (set debug=1 for file-wise information)\n",
      "\t  5.068 MB written to files\n",
      "\t124.000  B written to stdout/stderr\n",
      "\tFor a total of  0.00429 MB/s\n",
      "\n"
     ]
    },
    {
     "name": "stdout",
     "output_type": "stream",
     "text": [
      "Run time: 1289.4762453488074\n",
      "Finished: 5\n"
     ]
    },
    {
     "name": "stderr",
     "output_type": "stream",
     "text": [
      "INFO: Lists updated 122680 times (every ~407.564395 steps)\n",
      "INFO: Aggregated I/O statistics (set debug=1 for file-wise information)\n",
      "\t  5.068 MB written to files\n",
      "\t124.000  B written to stdout/stderr\n",
      "\tFor a total of  0.00408 MB/s\n",
      "\n"
     ]
    },
    {
     "name": "stdout",
     "output_type": "stream",
     "text": [
      "Run time: 1291.962556332117\n",
      "Finished: 6\n"
     ]
    },
    {
     "name": "stderr",
     "output_type": "stream",
     "text": [
      "INFO: Lists updated 135793 times (every ~368.207492 steps)\n",
      "INFO: Aggregated I/O statistics (set debug=1 for file-wise information)\n",
      "\t  5.068 MB written to files\n",
      "\t124.000  B written to stdout/stderr\n",
      "\tFor a total of  0.00408 MB/s\n",
      "\n"
     ]
    },
    {
     "name": "stdout",
     "output_type": "stream",
     "text": [
      "Run time: 1294.067389307078\n",
      "Finished: 4\n"
     ]
    },
    {
     "name": "stderr",
     "output_type": "stream",
     "text": [
      "INFO: Lists updated 112960 times (every ~442.634561 steps)\n",
      "INFO: Aggregated I/O statistics (set debug=1 for file-wise information)\n",
      "\t  5.067 MB written to files\n",
      "\t124.000  B written to stdout/stderr\n",
      "\tFor a total of  0.00407 MB/s\n",
      "\n"
     ]
    },
    {
     "name": "stdout",
     "output_type": "stream",
     "text": [
      "Run time: 1296.9501186450943\n",
      "Finished: 3\n"
     ]
    },
    {
     "name": "stderr",
     "output_type": "stream",
     "text": [
      "INFO: Lists updated 108487 times (every ~460.884714 steps)\n",
      "INFO: Aggregated I/O statistics (set debug=1 for file-wise information)\n",
      "\t  5.067 MB written to files\n",
      "\t124.000  B written to stdout/stderr\n",
      "\tFor a total of  0.00406 MB/s\n",
      "\n"
     ]
    },
    {
     "name": "stdout",
     "output_type": "stream",
     "text": [
      "Run time: 1301.4192814261187\n",
      "Finished: 0\n"
     ]
    },
    {
     "name": "stderr",
     "output_type": "stream",
     "text": [
      "INFO: Lists updated 109062 times (every ~458.454824 steps)\n",
      "INFO: Aggregated I/O statistics (set debug=1 for file-wise information)\n",
      "\t  5.068 MB written to files\n",
      "\t124.000  B written to stdout/stderr\n",
      "\tFor a total of  0.00405 MB/s\n",
      "\n"
     ]
    },
    {
     "name": "stdout",
     "output_type": "stream",
     "text": [
      "Run time: 1304.82374191517\n",
      "Finished: 1\n"
     ]
    },
    {
     "name": "stderr",
     "output_type": "stream",
     "text": [
      "INFO: Lists updated 106662 times (every ~468.770509 steps)\n",
      "INFO: Aggregated I/O statistics (set debug=1 for file-wise information)\n",
      "\t  5.067 MB written to files\n",
      "\t124.000  B written to stdout/stderr\n",
      "\tFor a total of  0.00404 MB/s\n",
      "\n"
     ]
    },
    {
     "name": "stdout",
     "output_type": "stream",
     "text": [
      "Run time: 1325.3168838708661\n",
      "Finished: 2\n"
     ]
    },
    {
     "name": "stderr",
     "output_type": "stream",
     "text": [
      "INFO: Lists updated 105159 times (every ~475.470478 steps)\n",
      "INFO: Aggregated I/O statistics (set debug=1 for file-wise information)\n",
      "\t  5.068 MB written to files\n",
      "\t124.000  B written to stdout/stderr\n",
      "\tFor a total of  0.00397 MB/s\n",
      "\n"
     ]
    },
    {
     "name": "stdout",
     "output_type": "stream",
     "text": [
      "All queued simulations finished in: 1326.585649546003\n"
     ]
    }
   ],
   "source": [
    "simulation_manager.worker_manager(cpu_run=True, gpu_mem_block=False)"
   ]
  },
  {
   "cell_type": "code",
   "execution_count": 52,
   "id": "4494da73-842d-4d72-b30f-2fd4be972a79",
   "metadata": {
    "execution": {
     "iopub.execute_input": "2023-10-30T04:25:02.535652Z",
     "iopub.status.busy": "2023-10-30T04:25:02.535430Z",
     "iopub.status.idle": "2023-10-30T04:25:25.070357Z",
     "shell.execute_reply": "2023-10-30T04:25:25.069341Z",
     "shell.execute_reply.started": "2023-10-30T04:25:02.535630Z"
    }
   },
   "outputs": [
    {
     "name": "stdout",
     "output_type": "stream",
     "text": [
      "duplex_52_10\n"
     ]
    }
   ],
   "source": [
    "for us, production_parameters, stiff in zip(us_list, production_parameters_list, k_value_list):\n",
    "    print(us.system)\n",
    "    us.build_production_runs(simulation_manager, n_windows, com_list, ref_list,\n",
    "                             stiff, xmin, xmax, production_parameters,\n",
    "                             observable=True, print_every=1e1 ,protein=None,\n",
    "                             force_file=None, continue_run=False)"
   ]
  },
  {
   "cell_type": "code",
   "execution_count": 53,
   "id": "5dd1e133-c2c2-46de-8848-72976647f190",
   "metadata": {
    "execution": {
     "iopub.execute_input": "2023-10-30T04:25:25.072184Z",
     "iopub.status.busy": "2023-10-30T04:25:25.071716Z",
     "iopub.status.idle": "2023-10-30T04:25:25.184350Z",
     "shell.execute_reply": "2023-10-30T04:25:25.182680Z",
     "shell.execute_reply.started": "2023-10-30T04:25:25.072162Z"
    },
    "scrolled": true,
    "tags": []
   },
   "outputs": [
    {
     "name": "stdout",
     "output_type": "stream",
     "text": [
      "spawning\n",
      "Running: 0\n",
      "Running: 1\n",
      "Running: 2\n",
      "Running: 3\n",
      "Running: 4\n",
      "Running: 5\n",
      "Running: 6\n",
      "Running: 7\n",
      "Running: 8\n",
      "Running: 9\n",
      "Running: 10\n",
      "Running: 11\n",
      "Running: 12\n",
      "Running: 13\n",
      "Running: 14\n",
      "Running: 15\n",
      "Running: 16\n",
      "Running: 17\n",
      "Running: 18\n",
      "Running: 19\n",
      "Running: 20\n",
      "Running: 21\n",
      "Running: 22\n",
      "Running: 23\n",
      "Running: 24\n",
      "Running: 25\n",
      "Running: 26\n",
      "Running: 27\n",
      "Running: 28\n",
      "Running: 29\n",
      "Running: 30\n",
      "Running: 31\n",
      "Running: 32\n",
      "Running: 33\n",
      "Running: 34\n",
      "Running: 35\n",
      "Running: 36\n",
      "Running: 37\n",
      "Running: 38\n",
      "Running: 39\n",
      "Running: 40\n",
      "Running: 41\n",
      "Running: 42\n",
      "Running: 43\n",
      "Running: 44\n",
      "Running: 45\n",
      "Running: 46\n",
      "Running: 47\n",
      "Running: 48\n",
      "Running: 49\n",
      "Running: 50\n",
      "Running: 51\n",
      "Running: 52\n",
      "Running: 53\n",
      "Running: 54\n",
      "Running: 55\n",
      "Running: 56\n",
      "Running: 57\n",
      "Running: 58\n",
      "Running: 59\n",
      "Running: 60\n",
      "Running: 61\n",
      "Running: 62\n",
      "Running: 63\n",
      "Running: 64\n",
      "Running: 65\n",
      "Running: 66\n",
      "Running: 67\n",
      "Running: 68\n",
      "Running: 69\n",
      "Running: 70\n",
      "Running: 71\n",
      "Running: 72\n",
      "Running: 73\n",
      "Running: 74\n",
      "Running: 75\n",
      "Running: 76\n",
      "Running: 77\n",
      "Running: 78\n",
      "Running: 79\n",
      "Running: 80\n",
      "Running: 81\n",
      "Running: 82\n",
      "Running: 83\n",
      "Running: 84\n",
      "Running: 85\n",
      "Running: 86\n",
      "Running: 87\n",
      "Running: 88\n",
      "Running: 89\n",
      "Running: 90\n",
      "Running: 91\n",
      "Running: 92\n",
      "Running: 93\n",
      "Running: 94\n",
      "Running: 95\n",
      "Running: 96\n",
      "Running: 97\n",
      "Running: 98\n",
      "Running: 99\n"
     ]
    }
   ],
   "source": [
    "simulation_manager.run(cpu_run=True, gpu_mem_block=False)"
   ]
  },
  {
   "cell_type": "code",
   "execution_count": 54,
   "id": "cd888f22-2c4b-4267-8584-e0b26d23d256",
   "metadata": {
    "execution": {
     "iopub.execute_input": "2023-10-30T04:33:24.446138Z",
     "iopub.status.busy": "2023-10-30T04:33:24.445664Z",
     "iopub.status.idle": "2023-10-30T04:37:01.614371Z",
     "shell.execute_reply": "2023-10-30T04:37:01.613565Z",
     "shell.execute_reply.started": "2023-10-30T04:33:24.446100Z"
    },
    "tags": []
   },
   "outputs": [
    {
     "data": {
      "image/png": "[encoded data removed]",
      "text/plain": [
       "<Figure size 1280x960 with 1 Axes>"
      ]
     },
     "metadata": {},
     "output_type": "display_data"
    }
   ],
   "source": [
    "for us in us_list:\n",
    "    us.com_distance_observable(com_list, ref_list)\n",
    "    us.hb_list_observable(print_every=1)\n",
    "\n",
    "\n",
    "for us in us_list:\n",
    "    plt.figure(dpi=200)\n",
    "    for idx in range(0,100,1):\n",
    "        us.analysis.view_observable('prod', idx, observable=us.observables_list[1], sliding_window=False)\n",
    "    # plt.legend([us.system], fontsize=7)"
   ]
  },
  {
   "cell_type": "code",
   "execution_count": null,
   "id": "7d043e83-6080-4ff4-8567-51e98b3d8d3f",
   "metadata": {
    "tags": []
   },
   "outputs": [],
   "source": [
    "fig, ax = plt.subplots()\n",
    "\n",
    "vmmc_sim_list[1].analysis.plot_weighted_histogram(n_bins=1000, label='vmmc 52C', ax=ax)\n",
    "for us in us_list:\n",
    "    us.wham.plot_free_energy(ax = ax)\n",
    "plt.legend()\n",
    "plt.xlim(-1, 13)\n",
    "plt.ylim(-0.5,10)"
   ]
  },
  {
   "cell_type": "code",
   "execution_count": 6,
   "id": "de0f32e4-eda5-4db2-9083-48692e0afeaf",
   "metadata": {
    "tags": []
   },
   "outputs": [],
   "source": [
    "vmmc_sim_list[1].analysis.read_vmmc_op_data()\n",
    "vmmc_sim_list[1].analysis.calculate_sampling_and_probabilities()\n"
   ]
  },
  {
   "cell_type": "code",
   "execution_count": 3,
   "id": "e97f4bdc-6026-41e7-92ae-bb9566ea6dc7",
   "metadata": {
    "tags": []
   },
   "outputs": [],
   "source": [
    "us_list[0].read_potential_energy()"
   ]
  },
  {
   "cell_type": "code",
   "execution_count": 11,
   "id": "b3d35898-a4db-4347-a429-53b0d6650eed",
   "metadata": {
    "collapsed": true,
    "jupyter": {
     "outputs_hidden": true
    },
    "tags": []
   },
   "outputs": [
    {
     "data": {
      "text/plain": [
       "[0        -1.403511\n",
       " 1        -1.350488\n",
       " 2        -1.355247\n",
       " 3        -1.336339\n",
       " 4        -1.320540\n",
       "             ...   \n",
       " 499996   -1.221529\n",
       " 499997   -1.345405\n",
       " 499998   -1.254268\n",
       " 499999   -1.350305\n",
       " 500000   -1.334267\n",
       " Length: 500001, dtype: float64,\n",
       " 0        -1.320404\n",
       " 1        -1.347557\n",
       " 2        -1.427879\n",
       " 3        -1.398720\n",
       " 4        -1.385753\n",
       "             ...   \n",
       " 499996   -1.278386\n",
       " 499997   -1.234616\n",
       " 499998   -1.317854\n",
       " 499999   -1.262735\n",
       " 500000   -1.222281\n",
       " Length: 500001, dtype: float64,\n",
       " 0        -1.216682\n",
       " 1        -1.285005\n",
       " 2        -1.272501\n",
       " 3        -1.260083\n",
       " 4        -1.236381\n",
       "             ...   \n",
       " 499996   -1.313118\n",
       " 499997   -1.224452\n",
       " 499998   -1.213211\n",
       " 499999   -1.231020\n",
       " 500000   -1.247326\n",
       " Length: 500001, dtype: float64,\n",
       " 0        -0.830869\n",
       " 1        -0.845315\n",
       " 2        -0.893809\n",
       " 3        -0.870937\n",
       " 4        -0.904483\n",
       "             ...   \n",
       " 499996   -1.149775\n",
       " 499997   -1.246686\n",
       " 499998   -1.123067\n",
       " 499999   -1.158676\n",
       " 500000   -1.176694\n",
       " Length: 500001, dtype: float64,\n",
       " 0        -1.063494\n",
       " 1        -1.043347\n",
       " 2        -1.113927\n",
       " 3        -1.023870\n",
       " 4        -1.138388\n",
       "             ...   \n",
       " 499996   -1.212152\n",
       " 499997   -1.149010\n",
       " 499998   -1.135035\n",
       " 499999   -1.214042\n",
       " 500000   -1.190237\n",
       " Length: 500001, dtype: float64,\n",
       " 0        -0.465958\n",
       " 1        -0.438781\n",
       " 2        -0.490011\n",
       " 3        -0.499425\n",
       " 4        -0.499096\n",
       "             ...   \n",
       " 499996   -0.541838\n",
       " 499997   -0.510183\n",
       " 499998   -0.493631\n",
       " 499999   -0.464785\n",
       " 500000   -0.438121\n",
       " Length: 500001, dtype: float64,\n",
       " 0        -1.039739\n",
       " 1        -1.061455\n",
       " 2        -1.066374\n",
       " 3        -1.017947\n",
       " 4        -0.995414\n",
       "             ...   \n",
       " 499996   -0.599083\n",
       " 499997   -0.582236\n",
       " 499998   -0.512926\n",
       " 499999   -0.542189\n",
       " 500000   -0.545636\n",
       " Length: 500001, dtype: float64,\n",
       " 0        -0.430420\n",
       " 1        -0.453814\n",
       " 2        -0.389484\n",
       " 3        -0.404954\n",
       " 4        -0.401360\n",
       "             ...   \n",
       " 499996   -0.562380\n",
       " 499997   -0.542610\n",
       " 499998   -0.589450\n",
       " 499999   -0.532724\n",
       " 500000   -0.536297\n",
       " Length: 500001, dtype: float64,\n",
       " 0        -0.551468\n",
       " 1        -0.535331\n",
       " 2        -0.572777\n",
       " 3        -0.584658\n",
       " 4        -0.624580\n",
       "             ...   \n",
       " 499996   -0.581208\n",
       " 499997   -0.575459\n",
       " 499998   -0.546522\n",
       " 499999   -0.486700\n",
       " 500000   -0.612696\n",
       " Length: 500001, dtype: float64,\n",
       " 0        -0.253624\n",
       " 1        -0.222816\n",
       " 2        -0.267868\n",
       " 3        -0.262049\n",
       " 4        -0.193234\n",
       "             ...   \n",
       " 499996   -0.420445\n",
       " 499997   -0.367931\n",
       " 499998   -0.430503\n",
       " 499999   -0.375059\n",
       " 500000   -0.397710\n",
       " Length: 500001, dtype: float64,\n",
       " 0        -0.645571\n",
       " 1        -0.638701\n",
       " 2        -0.645911\n",
       " 3        -0.681162\n",
       " 4        -0.780700\n",
       "             ...   \n",
       " 499996   -0.666190\n",
       " 499997   -0.608702\n",
       " 499998   -0.672027\n",
       " 499999   -0.630425\n",
       " 500000   -0.706285\n",
       " Length: 500001, dtype: float64,\n",
       " 0        -0.564464\n",
       " 1        -0.561890\n",
       " 2        -0.552156\n",
       " 3        -0.630516\n",
       " 4        -0.496112\n",
       "             ...   \n",
       " 499996   -0.457160\n",
       " 499997   -0.555310\n",
       " 499998   -0.549867\n",
       " 499999   -0.557258\n",
       " 500000   -0.526627\n",
       " Length: 500001, dtype: float64,\n",
       " 0        -0.553910\n",
       " 1        -0.596436\n",
       " 2        -0.552495\n",
       " 3        -0.596922\n",
       " 4        -0.540518\n",
       "             ...   \n",
       " 499996   -0.350442\n",
       " 499997   -0.361764\n",
       " 499998   -0.300212\n",
       " 499999   -0.317135\n",
       " 500000   -0.333313\n",
       " Length: 500001, dtype: float64,\n",
       " 0        -0.442223\n",
       " 1        -0.429270\n",
       " 2        -0.489845\n",
       " 3        -0.503710\n",
       " 4        -0.490380\n",
       "             ...   \n",
       " 499996   -0.763502\n",
       " 499997   -0.733090\n",
       " 499998   -0.723512\n",
       " 499999   -0.738875\n",
       " 500000   -0.738382\n",
       " Length: 500001, dtype: float64,\n",
       " 0        -0.618714\n",
       " 1        -0.648688\n",
       " 2        -0.636322\n",
       " 3        -0.662374\n",
       " 4        -0.612088\n",
       "             ...   \n",
       " 499996   -0.856104\n",
       " 499997   -0.958575\n",
       " 499998   -0.811397\n",
       " 499999   -0.739613\n",
       " 500000   -0.847090\n",
       " Length: 500001, dtype: float64,\n",
       " 0        -0.611705\n",
       " 1        -0.654916\n",
       " 2        -0.613376\n",
       " 3        -0.638759\n",
       " 4        -0.641660\n",
       "             ...   \n",
       " 499996   -0.682136\n",
       " 499997   -0.724408\n",
       " 499998   -0.703298\n",
       " 499999   -0.684507\n",
       " 500000   -0.677417\n",
       " Length: 500001, dtype: float64,\n",
       " 0        -0.563796\n",
       " 1        -0.533428\n",
       " 2        -0.576986\n",
       " 3        -0.572905\n",
       " 4        -0.593611\n",
       "             ...   \n",
       " 499996   -0.653445\n",
       " 499997   -0.526757\n",
       " 499998   -0.542779\n",
       " 499999   -0.668763\n",
       " 500000   -0.519543\n",
       " Length: 500001, dtype: float64,\n",
       " 0        -0.661401\n",
       " 1        -0.667496\n",
       " 2        -0.664361\n",
       " 3        -0.650439\n",
       " 4        -0.662115\n",
       "             ...   \n",
       " 499996   -0.680898\n",
       " 499997   -0.709008\n",
       " 499998   -0.715700\n",
       " 499999   -0.690983\n",
       " 500000   -0.702734\n",
       " Length: 500001, dtype: float64,\n",
       " 0        -0.453697\n",
       " 1        -0.429974\n",
       " 2        -0.470855\n",
       " 3        -0.486566\n",
       " 4        -0.466983\n",
       "             ...   \n",
       " 499996   -0.540614\n",
       " 499997   -0.546557\n",
       " 499998   -0.518829\n",
       " 499999   -0.496479\n",
       " 500000   -0.515885\n",
       " Length: 500001, dtype: float64,\n",
       " 0        -0.619647\n",
       " 1        -0.620117\n",
       " 2        -0.626377\n",
       " 3        -0.617189\n",
       " 4        -0.656543\n",
       "             ...   \n",
       " 499996   -0.398378\n",
       " 499997   -0.388623\n",
       " 499998   -0.342424\n",
       " 499999   -0.350224\n",
       " 500000   -0.371714\n",
       " Length: 500001, dtype: float64,\n",
       " 0        -0.883094\n",
       " 1        -0.870046\n",
       " 2        -0.834489\n",
       " 3        -0.838800\n",
       " 4        -0.820787\n",
       "             ...   \n",
       " 499996   -0.334556\n",
       " 499997   -0.368789\n",
       " 499998   -0.454451\n",
       " 499999   -0.369227\n",
       " 500000   -0.390870\n",
       " Length: 500001, dtype: float64,\n",
       " 0        -0.946453\n",
       " 1        -0.966439\n",
       " 2        -0.973840\n",
       " 3        -0.960685\n",
       " 4        -0.882403\n",
       "             ...   \n",
       " 499996   -0.741445\n",
       " 499997   -0.691480\n",
       " 499998   -0.691941\n",
       " 499999   -0.728381\n",
       " 500000   -0.727223\n",
       " Length: 500001, dtype: float64,\n",
       " 0        -0.547162\n",
       " 1        -0.447960\n",
       " 2        -0.482577\n",
       " 3        -0.527307\n",
       " 4        -0.504700\n",
       "             ...   \n",
       " 499996   -0.634720\n",
       " 499997   -0.653505\n",
       " 499998   -0.674136\n",
       " 499999   -0.701179\n",
       " 500000   -0.639061\n",
       " Length: 500001, dtype: float64,\n",
       " 0        -0.513415\n",
       " 1        -0.484722\n",
       " 2        -0.487434\n",
       " 3        -0.489390\n",
       " 4        -0.480646\n",
       "             ...   \n",
       " 499996   -0.551108\n",
       " 499997   -0.453956\n",
       " 499998   -0.438246\n",
       " 499999   -0.548549\n",
       " 500000   -0.421841\n",
       " Length: 500001, dtype: float64,\n",
       " 0        -0.749148\n",
       " 1        -0.769126\n",
       " 2        -0.757109\n",
       " 3        -0.779454\n",
       " 4        -0.773252\n",
       "             ...   \n",
       " 499996   -0.675443\n",
       " 499997   -0.656828\n",
       " 499998   -0.646695\n",
       " 499999   -0.656735\n",
       " 500000   -0.640448\n",
       " Length: 500001, dtype: float64,\n",
       " 0        -0.462915\n",
       " 1        -0.489236\n",
       " 2        -0.457330\n",
       " 3        -0.545518\n",
       " 4        -0.508250\n",
       "             ...   \n",
       " 499996   -0.566784\n",
       " 499997   -0.539506\n",
       " 499998   -0.539227\n",
       " 499999   -0.512967\n",
       " 500000   -0.504316\n",
       " Length: 500001, dtype: float64,\n",
       " 0        -0.310649\n",
       " 1        -0.286098\n",
       " 2        -0.326987\n",
       " 3        -0.359284\n",
       " 4        -0.368462\n",
       "             ...   \n",
       " 499996   -0.502235\n",
       " 499997   -0.461525\n",
       " 499998   -0.487628\n",
       " 499999   -0.466786\n",
       " 500000   -0.496146\n",
       " Length: 500001, dtype: float64,\n",
       " 0        -0.538519\n",
       " 1        -0.600057\n",
       " 2        -0.649437\n",
       " 3        -0.646616\n",
       " 4        -0.610850\n",
       "             ...   \n",
       " 499996   -0.564588\n",
       " 499997   -0.522101\n",
       " 499998   -0.508464\n",
       " 499999   -0.476148\n",
       " 500000   -0.505353\n",
       " Length: 500001, dtype: float64,\n",
       " 0        -0.706198\n",
       " 1        -0.791730\n",
       " 2        -0.748912\n",
       " 3        -0.814149\n",
       " 4        -0.769573\n",
       "             ...   \n",
       " 499996   -0.839463\n",
       " 499997   -0.839012\n",
       " 499998   -0.815375\n",
       " 499999   -0.794510\n",
       " 500000   -0.790788\n",
       " Length: 500001, dtype: float64,\n",
       " 0        -0.399685\n",
       " 1        -0.430984\n",
       " 2        -0.392780\n",
       " 3        -0.390100\n",
       " 4        -0.405923\n",
       "             ...   \n",
       " 499996   -0.580451\n",
       " 499997   -0.601773\n",
       " 499998   -0.596721\n",
       " 499999   -0.548347\n",
       " 500000   -0.612489\n",
       " Length: 500001, dtype: float64,\n",
       " 0        -0.616782\n",
       " 1        -0.568578\n",
       " 2        -0.564789\n",
       " 3        -0.642951\n",
       " 4        -0.676191\n",
       "             ...   \n",
       " 499996   -0.519178\n",
       " 499997   -0.488614\n",
       " 499998   -0.506288\n",
       " 499999   -0.418455\n",
       " 500000   -0.437875\n",
       " Length: 500001, dtype: float64,\n",
       " 0        -0.607359\n",
       " 1        -0.565721\n",
       " 2        -0.585594\n",
       " 3        -0.632395\n",
       " 4        -0.579426\n",
       "             ...   \n",
       " 499996   -0.523799\n",
       " 499997   -0.501902\n",
       " 499998   -0.497116\n",
       " 499999   -0.484900\n",
       " 500000   -0.465901\n",
       " Length: 500001, dtype: float64,\n",
       " 0        -0.499914\n",
       " 1        -0.477953\n",
       " 2        -0.427258\n",
       " 3        -0.450075\n",
       " 4        -0.460609\n",
       "             ...   \n",
       " 499996   -0.354690\n",
       " 499997   -0.346378\n",
       " 499998   -0.337488\n",
       " 499999   -0.288214\n",
       " 500000   -0.295315\n",
       " Length: 500001, dtype: float64,\n",
       " 0        -0.439633\n",
       " 1        -0.399769\n",
       " 2        -0.426922\n",
       " 3        -0.394437\n",
       " 4        -0.404946\n",
       "             ...   \n",
       " 499996   -0.642763\n",
       " 499997   -0.630730\n",
       " 499998   -0.631823\n",
       " 499999   -0.650218\n",
       " 500000   -0.701272\n",
       " Length: 500001, dtype: float64,\n",
       " 0        -0.663425\n",
       " 1        -0.571201\n",
       " 2        -0.698094\n",
       " 3        -0.598092\n",
       " 4        -0.612237\n",
       "             ...   \n",
       " 499996   -0.416489\n",
       " 499997   -0.426394\n",
       " 499998   -0.406423\n",
       " 499999   -0.400412\n",
       " 500000   -0.382385\n",
       " Length: 500001, dtype: float64,\n",
       " 0        -0.237729\n",
       " 1        -0.217991\n",
       " 2        -0.234872\n",
       " 3        -0.201816\n",
       " 4        -0.248200\n",
       "             ...   \n",
       " 499996   -0.337703\n",
       " 499997   -0.316780\n",
       " 499998   -0.321977\n",
       " 499999   -0.408301\n",
       " 500000   -0.399583\n",
       " Length: 500001, dtype: float64,\n",
       " 0        -0.660401\n",
       " 1        -0.625476\n",
       " 2        -0.593654\n",
       " 3        -0.599907\n",
       " 4        -0.571519\n",
       "             ...   \n",
       " 499996   -0.406096\n",
       " 499997   -0.425339\n",
       " 499998   -0.382447\n",
       " 499999   -0.409575\n",
       " 500000   -0.453212\n",
       " Length: 500001, dtype: float64,\n",
       " 0        -0.529821\n",
       " 1        -0.504066\n",
       " 2        -0.509560\n",
       " 3        -0.529419\n",
       " 4        -0.550235\n",
       "             ...   \n",
       " 499996   -0.495331\n",
       " 499997   -0.480379\n",
       " 499998   -0.443465\n",
       " 499999   -0.412391\n",
       " 500000   -0.466609\n",
       " Length: 500001, dtype: float64,\n",
       " 0        -0.548542\n",
       " 1        -0.482772\n",
       " 2        -0.459475\n",
       " 3        -0.499988\n",
       " 4        -0.505702\n",
       "             ...   \n",
       " 499996   -0.568661\n",
       " 499997   -0.585370\n",
       " 499998   -0.613493\n",
       " 499999   -0.567140\n",
       " 500000   -0.531236\n",
       " Length: 500001, dtype: float64,\n",
       " 0        -0.617119\n",
       " 1        -0.620970\n",
       " 2        -0.658564\n",
       " 3        -0.640334\n",
       " 4        -0.675848\n",
       "             ...   \n",
       " 499996   -0.484987\n",
       " 499997   -0.486307\n",
       " 499998   -0.507252\n",
       " 499999   -0.603344\n",
       " 500000   -0.419170\n",
       " Length: 500001, dtype: float64,\n",
       " 0        -0.510495\n",
       " 1        -0.474665\n",
       " 2        -0.516421\n",
       " 3        -0.520593\n",
       " 4        -0.524861\n",
       "             ...   \n",
       " 499996   -0.558669\n",
       " 499997   -0.574862\n",
       " 499998   -0.515743\n",
       " 499999   -0.529849\n",
       " 500000   -0.530574\n",
       " Length: 500001, dtype: float64,\n",
       " 0        -0.701939\n",
       " 1        -0.705418\n",
       " 2        -0.600615\n",
       " 3        -0.698472\n",
       " 4        -0.704755\n",
       "             ...   \n",
       " 499996   -0.342776\n",
       " 499997   -0.350640\n",
       " 499998   -0.340080\n",
       " 499999   -0.318768\n",
       " 500000   -0.382836\n",
       " Length: 500001, dtype: float64,\n",
       " 0        -0.465949\n",
       " 1        -0.484886\n",
       " 2        -0.470325\n",
       " 3        -0.444126\n",
       " 4        -0.451748\n",
       "             ...   \n",
       " 499996   -0.566593\n",
       " 499997   -0.498072\n",
       " 499998   -0.508853\n",
       " 499999   -0.455287\n",
       " 500000   -0.443162\n",
       " Length: 500001, dtype: float64,\n",
       " 0        -0.424103\n",
       " 1        -0.452612\n",
       " 2        -0.442424\n",
       " 3        -0.444992\n",
       " 4        -0.461769\n",
       "             ...   \n",
       " 499996   -0.441582\n",
       " 499997   -0.404062\n",
       " 499998   -0.444519\n",
       " 499999   -0.403844\n",
       " 500000   -0.417321\n",
       " Length: 500001, dtype: float64,\n",
       " 0        -0.735521\n",
       " 1        -0.704252\n",
       " 2        -0.801686\n",
       " 3        -0.787682\n",
       " 4        -0.784053\n",
       "             ...   \n",
       " 499996   -0.647369\n",
       " 499997   -0.680396\n",
       " 499998   -0.607361\n",
       " 499999   -0.638557\n",
       " 500000   -0.591853\n",
       " Length: 500001, dtype: float64,\n",
       " 0        -0.780415\n",
       " 1        -0.685490\n",
       " 2        -0.698161\n",
       " 3        -0.721613\n",
       " 4        -0.679855\n",
       "             ...   \n",
       " 499996   -0.558078\n",
       " 499997   -0.563913\n",
       " 499998   -0.559970\n",
       " 499999   -0.540441\n",
       " 500000   -0.549554\n",
       " Length: 500001, dtype: float64,\n",
       " 0        -0.427278\n",
       " 1        -0.379963\n",
       " 2        -0.414501\n",
       " 3        -0.414384\n",
       " 4        -0.393723\n",
       "             ...   \n",
       " 499996   -0.315528\n",
       " 499997   -0.387485\n",
       " 499998   -0.365097\n",
       " 499999   -0.371868\n",
       " 500000   -0.363757\n",
       " Length: 500001, dtype: float64,\n",
       " 0        -0.521299\n",
       " 1        -0.486113\n",
       " 2        -0.507134\n",
       " 3        -0.491444\n",
       " 4        -0.490248\n",
       "             ...   \n",
       " 499996   -0.425891\n",
       " 499997   -0.406590\n",
       " 499998   -0.336277\n",
       " 499999   -0.371421\n",
       " 500000   -0.378158\n",
       " Length: 500001, dtype: float64,\n",
       " 0        -0.572642\n",
       " 1        -0.651259\n",
       " 2        -0.620010\n",
       " 3        -0.677181\n",
       " 4        -0.649330\n",
       "             ...   \n",
       " 499996   -0.367387\n",
       " 499997   -0.421445\n",
       " 499998   -0.426488\n",
       " 499999   -0.444508\n",
       " 500000   -0.462315\n",
       " Length: 500001, dtype: float64,\n",
       " 0        -0.563788\n",
       " 1        -0.594172\n",
       " 2        -0.550396\n",
       " 3        -0.577641\n",
       " 4        -0.485881\n",
       "             ...   \n",
       " 499996   -0.598554\n",
       " 499997   -0.638453\n",
       " 499998   -0.628902\n",
       " 499999   -0.574188\n",
       " 500000   -0.591048\n",
       " Length: 500001, dtype: float64,\n",
       " 0        -0.531877\n",
       " 1        -0.561110\n",
       " 2        -0.574695\n",
       " 3        -0.564525\n",
       " 4        -0.578988\n",
       "             ...   \n",
       " 499996   -0.625674\n",
       " 499997   -0.568516\n",
       " 499998   -0.576935\n",
       " 499999   -0.619505\n",
       " 500000   -0.625634\n",
       " Length: 500001, dtype: float64,\n",
       " 0        -0.511019\n",
       " 1        -0.506203\n",
       " 2        -0.450420\n",
       " 3        -0.508329\n",
       " 4        -0.490591\n",
       "             ...   \n",
       " 499996   -0.594139\n",
       " 499997   -0.485083\n",
       " 499998   -0.466153\n",
       " 499999   -0.460577\n",
       " 500000   -0.429033\n",
       " Length: 500001, dtype: float64,\n",
       " 0        -0.811936\n",
       " 1        -0.858205\n",
       " 2        -0.861845\n",
       " 3        -0.807396\n",
       " 4        -0.848179\n",
       "             ...   \n",
       " 499996   -0.227426\n",
       " 499997   -0.241051\n",
       " 499998   -0.255541\n",
       " 499999   -0.248262\n",
       " 500000   -0.225321\n",
       " Length: 500001, dtype: float64,\n",
       " 0        -0.700608\n",
       " 1        -0.676668\n",
       " 2        -0.658466\n",
       " 3        -0.722485\n",
       " 4        -0.716192\n",
       "             ...   \n",
       " 499996   -0.631764\n",
       " 499997   -0.656847\n",
       " 499998   -0.638978\n",
       " 499999   -0.639585\n",
       " 500000   -0.630066\n",
       " Length: 500001, dtype: float64,\n",
       " 0        -0.814766\n",
       " 1        -0.748615\n",
       " 2        -0.744905\n",
       " 3        -0.748507\n",
       " 4        -0.823975\n",
       "             ...   \n",
       " 499996   -0.457771\n",
       " 499997   -0.441836\n",
       " 499998   -0.469238\n",
       " 499999   -0.440387\n",
       " 500000   -0.415350\n",
       " Length: 500001, dtype: float64,\n",
       " 0        -0.422256\n",
       " 1        -0.493980\n",
       " 2        -0.419475\n",
       " 3        -0.458341\n",
       " 4        -0.463142\n",
       "             ...   \n",
       " 499996   -0.651870\n",
       " 499997   -0.609128\n",
       " 499998   -0.675550\n",
       " 499999   -0.652959\n",
       " 500000   -0.648318\n",
       " Length: 500001, dtype: float64,\n",
       " 0        -0.338370\n",
       " 1        -0.415432\n",
       " 2        -0.371480\n",
       " 3        -0.328502\n",
       " 4        -0.333622\n",
       "             ...   \n",
       " 499996   -0.511247\n",
       " 499997   -0.506404\n",
       " 499998   -0.491274\n",
       " 499999   -0.478183\n",
       " 500000   -0.439104\n",
       " Length: 500001, dtype: float64,\n",
       " 0        -0.594826\n",
       " 1        -0.591069\n",
       " 2        -0.606023\n",
       " 3        -0.629330\n",
       " 4        -0.612553\n",
       "             ...   \n",
       " 499996   -0.569117\n",
       " 499997   -0.610097\n",
       " 499998   -0.647123\n",
       " 499999   -0.602726\n",
       " 500000   -0.559232\n",
       " Length: 500001, dtype: float64,\n",
       " 0        -0.400169\n",
       " 1        -0.329501\n",
       " 2        -0.309826\n",
       " 3        -0.340350\n",
       " 4        -0.282424\n",
       "             ...   \n",
       " 499996   -0.392369\n",
       " 499997   -0.359272\n",
       " 499998   -0.341829\n",
       " 499999   -0.456171\n",
       " 500000   -0.403872\n",
       " Length: 500001, dtype: float64,\n",
       " 0        -0.706813\n",
       " 1        -0.716866\n",
       " 2        -0.715431\n",
       " 3        -0.752222\n",
       " 4        -0.698545\n",
       "             ...   \n",
       " 499996   -0.302926\n",
       " 499997   -0.319186\n",
       " 499998   -0.312989\n",
       " 499999   -0.320882\n",
       " 500000   -0.335554\n",
       " Length: 500001, dtype: float64]"
      ]
     },
     "execution_count": 11,
     "metadata": {},
     "output_type": "execute_result"
    }
   ],
   "source": [
    "e_state = [states.sum(axis=1) for states in us_list[0].potential_energy_by_window.values()]\n",
    "e_state"
   ]
  },
  {
   "cell_type": "code",
   "execution_count": 37,
   "id": "7f605014-b0a3-4a6a-ac7c-ef88fe15d9e7",
   "metadata": {
    "tags": []
   },
   "outputs": [],
   "source": [
    "#Constants\n",
    "STCK_FACT_EPS_OXDNA2 = 2.6717\n",
    "STCK_BASE_EPS_OXDNA2 = 1.3523\n",
    "\n",
    "# Initialize the variables\n",
    "old_temperature = us_list[0].temperature\n",
    "\n",
    "temperature_range = np.array((range(30, 70, 2)))\n",
    "new_temperatures = (temperature_range + 273.15) / 3000\n",
    "e_state = [states.sum(axis=1) for states in us_list[0].potential_energy_by_window.values()]\n",
    "e_stack = [states['stacking'] for states in us_list[0].potential_energy_by_window.values()]\n",
    "e_ext = 0  # Replace with actual value (external energy term)\n",
    "am = 1  # Replace with actual value (the increment amount)\n",
    "w = 0  # Replace with actual value (the weight)\n",
    "\n",
    "# Initialize a list to store the results\n",
    "results_list = []\n",
    "\n",
    "for window_idx, (e_state_window, e_stack_window) in enumerate(zip(e_state, e_stack)):\n",
    "    n_data_points = len(e_state_window)\n",
    "    n_temps = len(new_temperatures)\n",
    "\n",
    "    # Initialize a NumPy array for this window\n",
    "    results_window = np.zeros((n_temps, n_data_points))\n",
    "\n",
    "    # Calculate et for the old temperature (simtemp in C++)\n",
    "    et_old = (e_stack_window * STCK_FACT_EPS_OXDNA2) / (STCK_BASE_EPS_OXDNA2 + old_temperature * STCK_FACT_EPS_OXDNA2)\n",
    "\n",
    "    # Calculate e0 for the old temperature\n",
    "    e0_old = e_state_window - old_temperature * et_old\n",
    "\n",
    "    for temp_idx, new_temp in enumerate(new_temperatures):\n",
    "        # Calculate et for the new temperature\n",
    "        et_new = (e_stack_window * STCK_FACT_EPS_OXDNA2) / (STCK_BASE_EPS_OXDNA2 + new_temp * STCK_FACT_EPS_OXDNA2)\n",
    "\n",
    "        # Calculate e0 for the new temperature\n",
    "        e0_new = e_state_window - new_temp * et_new\n",
    "\n",
    "        # Calculate the expression inside exp() for the new temperature\n",
    "        energy_term = -(e0_old + e_ext + new_temp * et_new) / new_temp + (e0_old + e_ext + old_temperature * et_old) / old_temperature\n",
    "\n",
    "        # Update results_window\n",
    "        results_window[temp_idx, :] = am * np.exp(energy_term.values)\n",
    "\n",
    "    # Add results_window to results_list\n",
    "    results_list.append(results_window)\n",
    "\n"
   ]
  },
  {
   "cell_type": "code",
   "execution_count": 19,
   "id": "65d0f5c3-787b-4d1c-908d-e98723484b96",
   "metadata": {
    "tags": []
   },
   "outputs": [
    {
     "data": {
      "text/plain": [
       "array([2.13661996, 2.07389437, 2.07970198, ..., 1.95433611, 2.07081303,\n",
       "       2.05232777])"
      ]
     },
     "execution_count": 19,
     "metadata": {},
     "output_type": "execute_result"
    }
   ],
   "source": [
    "results_array[0][1]"
   ]
  },
  {
   "cell_type": "code",
   "execution_count": 40,
   "id": "997f1fe8-ce5b-4b5c-aae8-fba661112679",
   "metadata": {
    "tags": []
   },
   "outputs": [],
   "source": [
    "us_list[0].termperature_interpolation(8, temperature_range)"
   ]
  },
  {
   "cell_type": "code",
   "execution_count": 38,
   "id": "54193446-b9f6-4c4a-ac29-6b278f6fe56b",
   "metadata": {
    "tags": []
   },
   "outputs": [],
   "source": [
    "bias = [\n",
    "    [biases[0] / temp_bias\n",
    "     for temp_bias in temperature_bias\n",
    "    ] \n",
    "     for biases,temperature_bias in zip(bias, results_list)\n",
    "]"
   ]
  },
  {
   "cell_type": "code",
   "execution_count": null,
   "id": "e37cf969-918e-48ce-80cc-1cac2ddfa88e",
   "metadata": {},
   "outputs": [],
   "source": [
    "bias"
   ]
  },
  {
   "cell_type": "code",
   "execution_count": null,
   "id": "21cddfeb-e16e-4f22-aa45-186090818663",
   "metadata": {
    "tags": []
   },
   "outputs": [],
   "source": [
    "us_list[0].potential_energy_by_window[0].sum(axis=1)"
   ]
  },
  {
   "cell_type": "code",
   "execution_count": null,
   "id": "f5dd210e-49a3-4bc9-83ff-e037cc97706a",
   "metadata": {
    "tags": []
   },
   "outputs": [],
   "source": []
  },
  {
   "cell_type": "code",
   "execution_count": null,
   "id": "71f415f4-8a2e-46d8-9fdc-96008f7a7c23",
   "metadata": {
    "tags": []
   },
   "outputs": [],
   "source": [
    "energy_bias_per_window_per_temperature, new_potential_energies, old_potential_energies = us_list[0]._calculate_energy_bias(temp_range)"
   ]
  },
  {
   "cell_type": "code",
   "execution_count": null,
   "id": "bc62f7fb-dd2e-4ada-967d-dcdfff9d903b",
   "metadata": {},
   "outputs": [],
   "source": [
    "np.exp(old_potential_energies[0].sum(axis=1) / old_temperature - new_potential_energies[0][0] / new_temperatures[0])"
   ]
  },
  {
   "cell_type": "code",
   "execution_count": null,
   "id": "854da194-781a-4691-a327-9b036061a06d",
   "metadata": {},
   "outputs": [],
   "source": [
    "old_potential_energies[7]['stacking']"
   ]
  },
  {
   "cell_type": "code",
   "execution_count": null,
   "id": "a8e9e73a-76ca-4f45-a1ea-63bf77402620",
   "metadata": {},
   "outputs": [],
   "source": [
    "old_epsilons = 1.3448 + 2.6568 * old_temperature\n",
    "new_epsilon = 1.3448 + 2.6568 * new_temperatures"
   ]
  },
  {
   "cell_type": "code",
   "execution_count": null,
   "id": "882a8648-01a2-4840-9ef6-410ae873d61d",
   "metadata": {},
   "outputs": [],
   "source": [
    "old_epsilons / new_epsilon"
   ]
  },
  {
   "cell_type": "code",
   "execution_count": null,
   "id": "69a1313d-b64d-4483-94ab-06894213e50b",
   "metadata": {},
   "outputs": [],
   "source": [
    "old_temperature = us_list[0].temperature\n",
    "new_temperatures = (temp_range + 273.15) / 3000\n",
    "energy_bias_per_window_per_temperature = [\n",
    "    [np.exp( (old_potential.sum(axis=1) / old_temperature) - (new_pot / new_temp) )\n",
    "     for new_pot, new_temp in zip(new_potential, new_temperatures)\n",
    "    ]\n",
    "    for old_potential, new_potential in zip(old_potential_energies, new_potential_energies)\n",
    "]"
   ]
  },
  {
   "cell_type": "code",
   "execution_count": null,
   "id": "d1515b83-1ed2-42b7-bfef-7cdac28eb082",
   "metadata": {
    "tags": []
   },
   "outputs": [],
   "source": [
    "energy_bias_per_window_per_temperature[99]"
   ]
  },
  {
   "cell_type": "code",
   "execution_count": 64,
   "id": "efcae80b-5029-4235-89a9-099551202570",
   "metadata": {
    "tags": []
   },
   "outputs": [],
   "source": [
    "temp_range = np.array((range(30, 70, 2)))\n",
    "us_list[0].termperature_interpolation(8, temp_range)"
   ]
  },
  {
   "cell_type": "code",
   "execution_count": 65,
   "id": "6084830c-a9f9-4071-8911-bc5c3bf5b8b4",
   "metadata": {
    "collapsed": true,
    "jupyter": {
     "outputs_hidden": true
    },
    "tags": []
   },
   "outputs": [
    {
     "data": {
      "text/plain": [
       "[array([9.90356215e-01, 1.31035215e-05, 7.31819153e-05, 3.66703755e-04,\n",
       "        1.43234651e-03, 1.87341561e-03, 1.07901584e-03, 2.49223618e-03,\n",
       "        2.31378120e-03]),\n",
       " array([9.89972978e-01, 1.31773409e-05, 7.42147115e-05, 3.74241421e-04,\n",
       "        1.46992580e-03, 1.93278530e-03, 1.11868890e-03, 2.60472797e-03,\n",
       "        2.43926089e-03]),\n",
       " array([9.89579479e-01, 1.32498237e-05, 7.52417498e-05, 3.81801035e-04,\n",
       "        1.50786178e-03, 1.99304882e-03, 1.15919256e-03, 2.72054870e-03,\n",
       "        2.56957610e-03]),\n",
       " array([9.89175612e-01, 1.33209835e-05, 7.62628669e-05, 3.89380732e-04,\n",
       "        1.54614579e-03, 2.05419639e-03, 1.20052599e-03, 2.83973206e-03,\n",
       "        2.70482334e-03]),\n",
       " array([9.88761269e-01, 1.33908339e-05, 7.72779069e-05, 3.96978674e-04,\n",
       "        1.58476917e-03, 2.11621790e-03, 1.24268804e-03, 2.96231044e-03,\n",
       "        2.84509808e-03]),\n",
       " array([9.88336348e-01, 1.34593888e-05, 7.82867217e-05, 4.04593052e-04,\n",
       "        1.62372319e-03, 2.17910300e-03, 1.28567719e-03, 3.08831491e-03,\n",
       "        2.99049469e-03]),\n",
       " array([9.87900749e-01, 1.35266619e-05, 7.92891700e-05, 4.12222086e-04,\n",
       "        1.66299913e-03, 2.24284104e-03, 1.32949157e-03, 3.21777518e-03,\n",
       "        3.14110634e-03]),\n",
       " array([9.87454375e-01, 1.35926671e-05, 8.02851177e-05, 4.19864025e-04,\n",
       "        1.70258822e-03, 2.30742113e-03, 1.37412900e-03, 3.35071960e-03,\n",
       "        3.29702497e-03]),\n",
       " array([9.86997134e-01, 1.36574180e-05, 8.12744371e-05, 4.27517148e-04,\n",
       "        1.74248171e-03, 2.37283214e-03, 1.41958696e-03, 3.48717516e-03,\n",
       "        3.45834119e-03]),\n",
       " array([9.86528934e-01, 1.37209286e-05, 8.22570072e-05, 4.35179761e-04,\n",
       "        1.78267081e-03, 2.43906270e-03, 1.46586258e-03, 3.62716750e-03,\n",
       "        3.62514426e-03]),\n",
       " array([9.86049690e-01, 1.37832126e-05, 8.32327131e-05, 4.42850202e-04,\n",
       "        1.82314676e-03, 2.50610123e-03, 1.51295271e-03, 3.77072084e-03,\n",
       "        3.79752195e-03]),\n",
       " array([9.85559318e-01, 1.38442836e-05, 8.42014463e-05, 4.50526837e-04,\n",
       "        1.86390078e-03, 2.57393592e-03, 1.56085387e-03, 3.91785804e-03,\n",
       "        3.97556058e-03]),\n",
       " array([9.85057738e-01, 1.39041554e-05, 8.51631037e-05, 4.58208061e-04,\n",
       "        1.90492412e-03, 2.64255479e-03, 1.60956227e-03, 4.06860057e-03,\n",
       "        4.15934486e-03]),\n",
       " array([9.84544873e-01, 1.39628414e-05, 8.61175882e-05, 4.65892301e-04,\n",
       "        1.94620801e-03, 2.71194564e-03, 1.65907384e-03, 4.22296850e-03,\n",
       "        4.34895793e-03]),\n",
       " array([9.84020651e-01, 1.40203553e-05, 8.70648080e-05, 4.73578011e-04,\n",
       "        1.98774374e-03, 2.78209612e-03, 1.70938420e-03, 4.38098052e-03,\n",
       "        4.54448124e-03]),\n",
       " array([9.83485002e-01, 1.40767104e-05, 8.80046766e-05, 4.81263674e-04,\n",
       "        2.02952259e-03, 2.85299370e-03, 1.76048870e-03, 4.54265390e-03,\n",
       "        4.74599450e-03]),\n",
       " array([9.82937859e-01, 1.41319201e-05, 8.89371127e-05, 4.88947805e-04,\n",
       "        2.07153589e-03, 2.92462570e-03, 1.81238241e-03, 4.70800455e-03,\n",
       "        4.95357570e-03]),\n",
       " array([9.82379161e-01, 1.41859975e-05, 8.98620397e-05, 4.96628946e-04,\n",
       "        2.11377498e-03, 2.99697927e-03, 1.86506013e-03, 4.87704696e-03,\n",
       "        5.16730096e-03]),\n",
       " array([9.81808848e-01, 1.42389559e-05, 9.07793860e-05, 5.04305668e-04,\n",
       "        2.15623126e-03, 3.07004147e-03, 1.91851638e-03, 5.04979426e-03,\n",
       "        5.38724459e-03]),\n",
       " array([9.81226866e-01, 1.42908083e-05, 9.16890845e-05, 5.11976571e-04,\n",
       "        2.19889614e-03, 3.14379918e-03, 1.97274545e-03, 5.22625818e-03,\n",
       "        5.61347896e-03])]"
      ]
     },
     "execution_count": 65,
     "metadata": {},
     "output_type": "execute_result"
    }
   ],
   "source": [
    "us_list[0].prob_discrete"
   ]
  },
  {
   "cell_type": "code",
   "execution_count": null,
   "id": "ba33bcc5-84a0-4b6a-a84b-e4eae9038b18",
   "metadata": {
    "tags": []
   },
   "outputs": [],
   "source": [
    "plt.plot(range(9) ,vmmc_sim_list[1].statistics['wt_free'])\n",
    "for temp,free in zip(temp_range, us_list[0].free_energy_discrete):\n",
    "    plt.plot(range(9), free, label=f'{temp}')\n",
    "plt.legend()\n"
   ]
  },
  {
   "cell_type": "code",
   "execution_count": null,
   "id": "5a599ffb-2912-4ba7-969c-caa60a559769",
   "metadata": {
    "tags": []
   },
   "outputs": [],
   "source": [
    "vmmc_sim_list[1].statistics"
   ]
  },
  {
   "cell_type": "code",
   "execution_count": 3,
   "id": "ad6526fc-5598-4867-97b0-89e47fb309f3",
   "metadata": {
    "tags": []
   },
   "outputs": [
    {
     "name": "stderr",
     "output_type": "stream",
     "text": [
      "/scratch/mlsample/ipy_oxDNA/src/umbrella_sampling.py:648: VisibleDeprecationWarning: Creating an ndarray from ragged nested sequences (which is a list-or-tuple of lists-or-tuples-or ndarrays with different lengths or shapes) is deprecated. If you meant to do this, you must specify 'dtype=object' when creating the ndarray.\n",
      "  bias = np.array([1 / np.exp(-window /self.temperature) for window in self.umbrella_bias])\n",
      "/scratch/mlsample/ipy_oxDNA/src/umbrella_sampling.py:649: VisibleDeprecationWarning: Creating an ndarray from ragged nested sequences (which is a list-or-tuple of lists-or-tuples-or ndarrays with different lengths or shapes) is deprecated. If you meant to do this, you must specify 'dtype=object' when creating the ndarray.\n",
      "  index_to_add_at = np.array([np.array(self.hb_by_window[idx].values.T[0]) for idx in range(self.n_windows)])\n"
     ]
    }
   ],
   "source": [
    "us_list[0].continuous_to_discrete_unbiasing(8)"
   ]
  },
  {
   "cell_type": "code",
   "execution_count": 9,
   "id": "2a6e4569-c44b-4df6-85a2-216f79c2b123",
   "metadata": {
    "tags": []
   },
   "outputs": [
    {
     "data": {
      "text/plain": [
       "array([ 2.24044335,  6.81260299, 11.45263622,  9.17230675,  4.65836507,\n",
       "        4.16427654,  1.35463344,  0.        ,  1.2759371 ,         inf])"
      ]
     },
     "execution_count": 9,
     "metadata": {},
     "output_type": "execute_result"
    }
   ],
   "source": [
    "us_list[0].free_energy_discrete"
   ]
  },
  {
   "cell_type": "code",
   "execution_count": null,
   "id": "7c268f89-1c77-4d16-b2ac-b44567acc7c6",
   "metadata": {},
   "outputs": [],
   "source": [
    "us_list[0].make_last_hist_files()"
   ]
  },
  {
   "cell_type": "code",
   "execution_count": null,
   "id": "b0490c33-f347-4ec4-8406-bf1849c08525",
   "metadata": {},
   "outputs": [],
   "source": [
    "us_list[0].run_wham_discete(8)"
   ]
  },
  {
   "cell_type": "code",
   "execution_count": null,
   "id": "91178d4a-c838-4f5d-83e8-21a22d9d99c1",
   "metadata": {},
   "outputs": [],
   "source": [
    "us_list[0].homebrew_discrete_wham(8)"
   ]
  },
  {
   "cell_type": "code",
   "execution_count": 7,
   "id": "59f607bd-da6e-4542-bfe8-476d90c89e3b",
   "metadata": {
    "tags": []
   },
   "outputs": [
    {
     "data": {
      "text/plain": [
       "<matplotlib.legend.Legend at 0x155513bc9090>"
      ]
     },
     "execution_count": 7,
     "metadata": {},
     "output_type": "execute_result"
    },
    {
     "data": {
      "image/png": "[encoded data removed]",
      "text/plain": [
       "<Figure size 640x480 with 1 Axes>"
      ]
     },
     "metadata": {},
     "output_type": "display_data"
    }
   ],
   "source": [
    "plt.figure()\n",
    "plt.plot(range(9) ,vmmc_sim_list[1].statistics['wt_free'])\n",
    "plt.plot(range(9), us_list[0].free_energy_discrete)\n",
    "plt.legend(['vmmc', 'us'])"
   ]
  },
  {
   "cell_type": "code",
   "execution_count": null,
   "id": "61560d48-c1cb-4a92-a6e8-eadef1dd0754",
   "metadata": {},
   "outputs": [],
   "source": []
  },
  {
   "cell_type": "code",
   "execution_count": null,
   "id": "748533fb-9cab-4b1e-a30e-1caa5ce6bc75",
   "metadata": {
    "tags": []
   },
   "outputs": [],
   "source": [
    "wham_dir = os.path.abspath('/scratch/mlsample/ipy_oxDNA/wham/wham')\n",
    "n_bins = '200'\n",
    "tol = '1e-5'\n",
    "n_boot = '0'\n",
    "for us, stiff in zip(us_list, k_value_list):\n",
    "    us.wham_run(wham_dir, xmin, xmax, 5, n_bins, tol, n_boot)"
   ]
  },
  {
   "cell_type": "code",
   "execution_count": null,
   "id": "2777b2f9-b906-4175-95b9-47c9e8778796",
   "metadata": {},
   "outputs": [],
   "source": [
    "for file in us_list[0].production_sims[0].sim_files.file_list:\n",
    "    if 'potential_energy.txt' in file:\n",
    "        print(file)"
   ]
  },
  {
   "cell_type": "code",
   "execution_count": null,
   "id": "6b1ebcc5-b082-48f7-bbfd-8073c162e311",
   "metadata": {
    "tags": []
   },
   "outputs": [],
   "source": [
    "for us in us_list:\n",
    "    us.read_potential_energy()"
   ]
  },
  {
   "cell_type": "code",
   "execution_count": null,
   "id": "c4d93b70-2d60-4465-bc76-2cf71ccb2c85",
   "metadata": {},
   "outputs": [],
   "source": [
    "us_list[0].potential_energy_by_window"
   ]
  },
  {
   "cell_type": "code",
   "execution_count": null,
   "id": "760424e4-79eb-4427-8b63-f57b57613923",
   "metadata": {},
   "outputs": [],
   "source": [
    "temperature_range = np.linspace(20, 70, 10)\n",
    "_calculate_energy_bias"
   ]
  },
  {
   "cell_type": "code",
   "execution_count": null,
   "id": "be4d1ec0-cc81-41d8-91d0-71dc532f7889",
   "metadata": {
    "tags": []
   },
   "outputs": [],
   "source": [
    "import pyarrow\n",
    "print(pyarrow.__version__)\n"
   ]
  },
  {
   "cell_type": "markdown",
   "id": "adb05434-272b-416c-bfb4-3a06d5708cbd",
   "metadata": {},
   "source": [
    "<font size='10'><a class=\"anchor\" id=\"3\"></a> <h2 align=\"center\"> <font color='black'>Potential Energy Observalble</font></h2> "
   ]
  },
  {
   "cell_type": "code",
   "execution_count": null,
   "id": "620f9325-78fe-4cd6-93ec-903db4514941",
   "metadata": {},
   "outputs": [],
   "source": [
    "path = os.path.abspath('/scratch/mlsample/ipy_oxDNA/ipy_oxdna_examples/duplex_melting/')\n",
    "\n",
    "file_dir = f'{path}'\n",
    "sim_dir = f'{file_dir}/potential_energy'\n",
    "\n",
    "sim = Simulation(file_dir, sim_dir)\n",
    "\n",
    "\n",
    "potential_energy_observable = Observable.potential_energy(print_every=100, split=True, name='potential_energy.txt')\n",
    "simulation_manager = SimulationManager()\n",
    "\n",
    "input_params = {\n",
    "            \"interaction_type\": \"DNA2\",\n",
    "            \"salt_concentration\": \"0.1\",\n",
    "            \"sim_type\": \"MD\",\n",
    "            \"backend\": \"CPU\",\n",
    "            \"backend_precision\": \"mixed\",\n",
    "            \"use_edge\": \"1\",\n",
    "            \"edge_n_forces\": \"1\",\n",
    "            \"CUDA_list\": \"verlet\",\n",
    "            \"CUDA_sort_every\": \"0\",\n",
    "            \"max_density_multiplier\": \"3\",\n",
    "            \"steps\": \"1e7\",\n",
    "            \"ensemble\": \"nvt\",\n",
    "            \"thermostat\": \"john\",\n",
    "            \"T\": \"50C\",\n",
    "            \"dt\": \"0.003\",\n",
    "            \"verlet_skin\": \"0.5\",\n",
    "            \"diff_coeff\": \"2.5\",\n",
    "            \"newtonian_steps\": \"103\",\n",
    "            \"lastconf_file\": \"last_conf.dat\",\n",
    "            \"trajectory_file\": \"trajectory.dat\",\n",
    "            \"refresh_vel\": \"1\",\n",
    "            \"no_stdout_energy\": \"0\",\n",
    "            \"restart_step_counter\": \"1\",\n",
    "            \"energy_file\": \"energy.dat\",\n",
    "            \"print_conf_interval\": \"1e4\",\n",
    "            \"print_energy_every\": \"1e4\",\n",
    "            \"time_scale\": \"linear\",\n",
    "            \"max_io\": \"5\",\n",
    "            \"external_forces\": \"0\",\n",
    "            \"external_forces_file\": \"forces.json\",\n",
    "            \"external_forces_as_JSON\": \"true\"\n",
    "            }"
   ]
  },
  {
   "cell_type": "code",
   "execution_count": null,
   "id": "e7d532d2-19d1-4058-94f3-a61b218cd205",
   "metadata": {},
   "outputs": [],
   "source": [
    "sim.build(clean_build='force')\n",
    "sim.add_observable(potential_energy_observable)\n",
    "sim.input_file(input_params)\n",
    "\n",
    "simulation_manager.queue_sim(sim)"
   ]
  },
  {
   "cell_type": "code",
   "execution_count": null,
   "id": "66886d09-ddd9-45da-a3bd-212ad1a3274b",
   "metadata": {
    "tags": []
   },
   "outputs": [],
   "source": [
    "simulation_manager.run(cpu_run=True, gpu_mem_block=False)"
   ]
  },
  {
   "cell_type": "markdown",
   "id": "9ab71a07-72ba-40a1-b034-338b090b1e1a",
   "metadata": {},
   "source": [
    "<font size='10'><a class=\"anchor\" id=\"3\"></a> <h2 align=\"center\"> <font color='black'>Parameter Scan</font></h2> "
   ]
  },
  {
   "cell_type": "code",
   "execution_count": 5,
   "id": "a12bcd08-77cc-4b35-be7a-8c161233013c",
   "metadata": {
    "tags": []
   },
   "outputs": [],
   "source": [
    "\n",
    "\n",
    "path = os.path.abspath('/scratch/mlsample/ipy_oxDNA/ipy_oxdna_examples')\n",
    "systems = ['duplex_melting']\n",
    "\n",
    "file_dir_list = [f'{path}/{sys}' for sys in systems]\n",
    "sim_dir_list = [f'{file_dir}/vmmc_melting_replicas/vmmc_melting_rep' for sys, file_dir in zip(systems, file_dir_list)]\n",
    "\n",
    "n_replicas = 40\n",
    "vmmc_replica_generator = VmmcReplicas()\n",
    "\n",
    "vmmc_replica_generator.multisystem_replica(\n",
    "    systems,\n",
    "    n_replicas,\n",
    "    file_dir_list,\n",
    "    sim_dir_list\n",
    ")\n",
    "vmmc_sim_list = vmmc_replica_generator.sim_list\n",
    "queue_of_simulations = vmmc_replica_generator.queue_of_sims\n",
    "\n",
    "vmmc_sim_list[0].analysis.read_vmmc_op_data()\n",
    "vmmc_sim_list[0].analysis.calculate_sampling_and_probabilities()\n",
    "vmmc_sim_list[0].analysis.calculate_and_estimate_melting_profiles()\n",
    "\n"
   ]
  },
  {
   "cell_type": "code",
   "execution_count": null,
   "id": "22086d4a-6614-4105-a090-10f78d04c9d9",
   "metadata": {
    "tags": []
   },
   "outputs": [],
   "source": [
    "param_space = Space([\n",
    "    Categorical([0.5, 1, 5, 10], name='k_value'),\n",
    "    Categorical([25, 50, 70], name='temperature'),\n",
    "    Categorical([True, False], name='unique_binding'),\n",
    "    Categorical([1, 10, 100, 1000], name='print_every'),\n",
    "    Categorical([5, 10, 15, 20], name='xmax'),\n",
    "    Categorical([1e8, 5e8], name='production_step'),\n",
    "    Categorical([20, 50], name='n_window')\n",
    "])\n",
    "path = os.path.abspath('/scratch/mlsample/ipy_oxDNA/ipy_oxdna_examples/duplex_melting/parameter_optimization')\n",
    "max_hb = 8\n",
    "com_list = '8,9,10,11,12,13,14,15'\n",
    "ref_list = '0,1,2,3,4,5,6,7'\n",
    "vmmc_ground_truth = vmmc_sim_list[0]"
   ]
  },
  {
   "cell_type": "code",
   "execution_count": null,
   "id": "c2a3828c-0352-4c6f-a4c3-0f50e305d310",
   "metadata": {
    "tags": []
   },
   "outputs": [],
   "source": [
    "n_iterations = 3\n",
    "batch_size = 3\n",
    "run_baysian_hyperparameter_optimization(\n",
    "    param_space,\n",
    "    vmmc_ground_truth,\n",
    "    max_hb, path,\n",
    "    com_list,\n",
    "    ref_list,\n",
    "    n_iterations,\n",
    "    batch_size,\n",
    "    resume_state=None,\n",
    "    subprocess=True\n",
    ")"
   ]
  },
  {
   "cell_type": "code",
   "execution_count": null,
   "id": "09450f3f-4042-4526-a39f-bef0b5c919f4",
   "metadata": {},
   "outputs": [],
   "source": [
    "vmmc_sim_list[0].analysis.sigmoid(samples[1], *vmmc_sim_list[0].analysis.popt)"
   ]
  },
  {
   "cell_type": "code",
   "execution_count": null,
   "id": "c117e7d6-ae5c-4591-9518-5b6f9960ce57",
   "metadata": {},
   "outputs": [],
   "source": [
    "parameters = np.array([[1, 10], [50, 25], [True, False], [10, 100], [20, 10], [1e8, 1e8], [50, 50]], dtype='object')\n",
    "ground_truth = vmmc_sim_list[0]\n"
   ]
  },
  {
   "cell_type": "code",
   "execution_count": null,
   "id": "ac65700f-c598-4a3e-9cb3-673ff984b2f5",
   "metadata": {},
   "outputs": [],
   "source": [
    "run_baysian_hyperparameter_optimization"
   ]
  },
  {
   "cell_type": "code",
   "execution_count": null,
   "id": "0ea5e70b-ceaa-4cd9-9742-bbc40a99dcd4",
   "metadata": {
    "tags": []
   },
   "outputs": [],
   "source": [
    "spawn(objective_function, args=(ground_truth, max_hb,path, com_list, ref_list, *parameters))"
   ]
  },
  {
   "cell_type": "code",
   "execution_count": null,
   "id": "892cd911-4635-4fea-a37d-d7b4bbdba9b5",
   "metadata": {},
   "outputs": [],
   "source": [
    "us.vmmc_sim.statistics"
   ]
  },
  {
   "cell_type": "code",
   "execution_count": null,
   "id": "c276d610-6ad1-40aa-a885-c9f85eb017a4",
   "metadata": {},
   "outputs": [],
   "source": [
    "vmmc_sim_list[0].analysis.read_vmmc_op_data()"
   ]
  },
  {
   "cell_type": "code",
   "execution_count": null,
   "id": "3d369ce8-37d5-43cc-98c2-0cb04d200c1c",
   "metadata": {
    "tags": []
   },
   "outputs": [],
   "source": [
    "vmmc_sim_list[0].analysis.plot_statistics()"
   ]
  },
  {
   "cell_type": "code",
   "execution_count": null,
   "id": "91dbf772-9ba0-416b-9144-367abce6b195",
   "metadata": {},
   "outputs": [],
   "source": [
    "os.getcwd()"
   ]
  },
  {
   "cell_type": "code",
   "execution_count": null,
   "id": "a10412d8-c1f8-4649-932f-da5783a85b08",
   "metadata": {},
   "outputs": [],
   "source": [
    "files = [file for file in os.listdir(path) if 'optimizer' in file]\n",
    "which_number = sorted([int(file.split('.')[0].split('_')[-1]) for file in files])[-1]\n",
    "for file in files:\n",
    "    split = int(file.split('.')[0].split('_')[-1])\n",
    "    if which_number == split:\n",
    "        best_optim = [file]\n",
    "best_optim[0]"
   ]
  },
  {
   "cell_type": "markdown",
   "id": "588d45b7-6961-40b4-81c0-8341eacb1695",
   "metadata": {},
   "source": [
    "<font size='10'><a class=\"anchor\" id=\"3\"></a> <h2 align=\"center\"> <font color='black'>K value scan</font></h2> "
   ]
  },
  {
   "cell_type": "code",
   "execution_count": null,
   "id": "7b87a62b-f10b-4c4f-81c8-5e59d7f21d63",
   "metadata": {
    "tags": []
   },
   "outputs": [],
   "source": [
    "path = os.path.abspath('/scratch/mlsample/ipy_oxDNA/ipy_oxdna_examples/duplex_melting/')\n",
    "\n",
    "system_name = 'multi_system_runs'\n",
    "\n",
    "k_value_list = ['0.1', '0.5', '0.75', '1', '2', '5', '10']\n",
    "systems = [f'duplex_30_{stiff}' for stiff in k_value_list]\n",
    "\n",
    "file_dirs = [f'{path}/{system_name}' for _ in range(len(systems))]\n",
    "\n",
    "\n",
    "com_list = '8,9,10,11,12,13,14,15'\n",
    "ref_list = '0,1,2,3,4,5,6,7'\n",
    "xmin = 0\n",
    "xmax = 15\n",
    "n_windows = 50\n",
    "starting_r0 = 1\n",
    "steps = 1e6\n",
    "stiff = 0.4\n",
    "\n",
    "\n",
    "pre_equlibration_parameters_list = [{'backend':'CPU','steps':'1e6','print_energy_every': '4e7',\n",
    "                           'print_conf_interval':'4e7', \"CUDA_list\": \"no\",\n",
    "                           'use_edge': 'false', 'refresh_vel': '1',\n",
    "                           'fix_diffusion': '0', 'fix_diffusion_every': '1000',\n",
    "                           'T':f'30C'} for _ in k_value_list]\n",
    "\n",
    "equlibration_parameters_list = [{'backend':'CPU','steps':'5e7','print_energy_every': '4e7',\n",
    "                           'print_conf_interval':'4e7', \"CUDA_list\": \"no\",\n",
    "                           'use_edge': 'false', 'refresh_vel': '1',\n",
    "                           'fix_diffusion': '0', 'fix_diffusion_every': '1000',\n",
    "                           'T':f'30C'} for _ in k_value_list]\n",
    "\n",
    "production_parameters_list = [{'backend':'CPU','steps':'1e9','print_energy_every': '1e8',\n",
    "                        'print_conf_interval':'1e8', \"CUDA_list\": \"no\",\n",
    "                        'use_edge': 'false', 'refresh_vel': '1',\n",
    "                        'fix_diffusion': '0', 'fix_diffusion_every': '1000',\n",
    "                        'T':f'30C'} for temp in k_value_list]\n",
    "\n",
    "us_list = [MeltingUmbrellaSampling(file_dir, sys, clean_build='force') for file_dir, sys in zip(file_dirs,systems)]\n",
    "\n",
    "simulation_manager = SimulationManager()"
   ]
  },
  {
   "cell_type": "code",
   "execution_count": null,
   "id": "6f4d4029-4e38-4037-8bd6-a1cb962399e0",
   "metadata": {},
   "outputs": [],
   "source": [
    "us_list.append(MeltingUmbrellaSampling(f'{path}/{system_name}', 'duplex_30', clean_build='force'))"
   ]
  },
  {
   "cell_type": "code",
   "execution_count": null,
   "id": "8d14ed3a-ccdd-40fc-b87b-0c66d319e971",
   "metadata": {},
   "outputs": [],
   "source": [
    "for us, pre_equlibration_parameters, stiff in zip(us_list, pre_equlibration_parameters_list, k_value_list):\n",
    "    print(us.system)\n",
    "    us.build_pre_equlibration_runs(simulation_manager, n_windows, com_list, ref_list,\n",
    "                               stiff, xmin, xmax, pre_equlibration_parameters, starting_r0, steps,\n",
    "                               print_every=100, observable=True, protein=None,\n",
    "                               force_file=None, continue_run=False)"
   ]
  },
  {
   "cell_type": "code",
   "execution_count": null,
   "id": "24d115cf-1f77-49f7-a7c0-016ff895662c",
   "metadata": {
    "tags": []
   },
   "outputs": [],
   "source": [
    "simulation_manager.run(cpu_run=True, gpu_mem_block=False)"
   ]
  },
  {
   "cell_type": "code",
   "execution_count": null,
   "id": "5d3cfe5e-591f-468a-871d-a3502271daf8",
   "metadata": {},
   "outputs": [],
   "source": [
    "for us, equlibration_parameters, stiff in zip(us_list, equlibration_parameters_list, k_value_list):\n",
    "    print(us.system)\n",
    "    us.build_equlibration_runs(simulation_manager, n_windows, com_list, ref_list,\n",
    "                               stiff, xmin, xmax, equlibration_parameters,\n",
    "                               print_every=100, observable=True, protein=None,\n",
    "                               force_file=None, continue_run=False)"
   ]
  },
  {
   "cell_type": "code",
   "execution_count": null,
   "id": "e956bb51-b3f4-4215-912d-532f725b8abb",
   "metadata": {
    "tags": []
   },
   "outputs": [],
   "source": [
    "simulation_manager.run(cpu_run=True, gpu_mem_block=False)"
   ]
  },
  {
   "cell_type": "code",
   "execution_count": null,
   "id": "b92417fd-ef6e-488a-936d-043969426d57",
   "metadata": {},
   "outputs": [],
   "source": [
    "for us, production_parameters, stiff in zip(us_list, production_parameters_list, k_value_list):\n",
    "    print(us.system)\n",
    "    us.build_production_runs(simulation_manager, n_windows, com_list, ref_list,\n",
    "                             stiff, xmin, xmax, production_parameters,\n",
    "                             observable=True, print_every=100 ,protein=None,\n",
    "                             force_file=None, continue_run=False)"
   ]
  },
  {
   "cell_type": "code",
   "execution_count": null,
   "id": "6f1570e9-a795-4593-89ad-2ff0ca62604a",
   "metadata": {
    "tags": []
   },
   "outputs": [],
   "source": [
    "simulation_manager.run(cpu_run=True, gpu_mem_block=False)"
   ]
  },
  {
   "cell_type": "code",
   "execution_count": null,
   "id": "64bea8ca-1ed0-45b2-9da7-692c3b53c7cc",
   "metadata": {
    "tags": []
   },
   "outputs": [],
   "source": [
    "wham_dir = os.path.abspath('/scratch/mlsample/ipy_oxDNA/wham/wham')\n",
    "n_bins = '200'\n",
    "tol = '1e-5'\n",
    "n_boot = '0'\n",
    "for us, stiff in zip(us_list, k_value_list):\n",
    "    us.wham_run(wham_dir, xmin, xmax, stiff, n_bins, tol, n_boot)"
   ]
  },
  {
   "cell_type": "code",
   "execution_count": null,
   "id": "801708da-228c-44b3-9d3f-5f62f085b6fe",
   "metadata": {},
   "outputs": [],
   "source": [
    "with plt.style.context(['science', 'no-latex', 'bright']): \n",
    "\n",
    "    ax = us_list[0].wham.plt_fig()\n",
    "    for us in us_list:\n",
    "        us.wham.plot_free_energy(ax=ax)\n",
    "    \n",
    "    plt.legend(fontsize=6)\n",
    "    \n",
    "plt.xlabel('Center of mass distance (nm)')\n"
   ]
  },
  {
   "cell_type": "code",
   "execution_count": null,
   "id": "8cae8faa-3e05-4e6e-96fb-891da3030e7c",
   "metadata": {},
   "outputs": [],
   "source": [
    "n_chunks = 2\n",
    "data_added_per_iteration = 3\n",
    "\n",
    "wham_dir = os.path.abspath('/scratch/mlsample/ipy_oxDNA/wham/wham')\n",
    "n_bins = '200'\n",
    "tol = '1e-5'\n",
    "n_boot = '0'\n",
    "\n",
    "\n",
    "for us in us_list:\n",
    "    us.wham.get_n_data_per_com_file()\n",
    "    us.convergence_analysis(n_chunks, data_added_per_iteration, wham_dir, xmin, xmax, stiff, n_bins, tol, n_boot)"
   ]
  },
  {
   "cell_type": "markdown",
   "id": "76e03d4f-d531-4501-99a2-e129001a756b",
   "metadata": {},
   "source": [
    "<font size='10'><a class=\"anchor\" id=\"3\"></a> <h2 align=\"center\"> <font color='black'>K value scan plotting</font></h2> "
   ]
  },
  {
   "cell_type": "code",
   "execution_count": null,
   "id": "95c20498-e6a9-420c-9c8f-0244fe7cb07d",
   "metadata": {
    "tags": []
   },
   "outputs": [],
   "source": [
    "for us in us_list:\n",
    "    us.com_distance_observable(com_list, ref_list)\n",
    "\n",
    "\n",
    "for us in us_list:\n",
    "    plt.figure(dpi=200)\n",
    "    for idx in range(0,50,1):\n",
    "        us.analysis.view_observable('prod', idx, observable=us.observables_list[0], sliding_window=False)\n",
    "    # plt.legend([us.system], fontsize=7)"
   ]
  },
  {
   "cell_type": "markdown",
   "id": "8ee067ba-4af8-490b-877a-8bdc038bb2d2",
   "metadata": {},
   "source": [
    "<font size='10'><a class=\"anchor\" id=\"3\"></a> <h2 align=\"center\"> <font color='black'>Duplex Melting Movie</font></h2> "
   ]
  },
  {
   "cell_type": "code",
   "execution_count": null,
   "id": "f2064e6c-22f6-46c3-be01-3c9a2dc0262f",
   "metadata": {},
   "outputs": [],
   "source": [
    "path = os.path.abspath('/scratch/mlsample/ipy_oxDNA/ipy_oxdna_examples/duplex_melting/')\n",
    "\n",
    "system_name = 'multi_system_runs'\n",
    "\n",
    "systems = ['duplex_melting_movie']\n",
    "temperature_list = [50]\n",
    "\n",
    "file_dirs = [f'{path}/{system_name}' for _ in range(len(systems))]\n",
    "\n",
    "\n",
    "com_list = '8,9,10,11,12,13,14,15'\n",
    "ref_list = '0,1,2,3,4,5,6,7'\n",
    "xmin = 0\n",
    "xmax = 15\n",
    "n_windows = 100\n",
    "\n",
    "stiff = 0.4\n",
    "\n",
    "equlibration_parameters_list = [{'backend':'CPU','steps':'1e6','print_energy_every': '1e3',\n",
    "                           'print_conf_interval':'1e3', \"CUDA_list\": \"no\",\n",
    "                           'use_edge': 'false', 'refresh_vel': '1',\n",
    "                           'fix_diffusion': '0', 'fix_diffusion_every': '1000',\n",
    "                           'T':f'{temp}C'} for temp in temperature_list]\n",
    "\n",
    "production_parameters_list = [{'backend':'CPU','steps':'1e9','print_energy_every': '1e8',\n",
    "                        'print_conf_interval':'1e8', \"CUDA_list\": \"no\",\n",
    "                        'use_edge': 'false', 'refresh_vel': '1',\n",
    "                        'fix_diffusion': '0', 'fix_diffusion_every': '1000',\n",
    "                        'T':f'{temp}C'} for temp in temperature_list]\n",
    "\n",
    "us_list = [MeltingUmbrellaSampling(file_dir, sys, clean_build='force') for file_dir, sys in zip(file_dirs,systems)]\n",
    "\n",
    "simulation_manager = SimulationManager()"
   ]
  },
  {
   "cell_type": "code",
   "execution_count": null,
   "id": "d581ad4b-cc00-41ce-942f-8808e7e982a9",
   "metadata": {
    "tags": []
   },
   "outputs": [],
   "source": [
    "for us, equlibration_parameters in zip(us_list, equlibration_parameters_list):\n",
    "    print(us.system)\n",
    "    us.build_equlibration_runs(simulation_manager, n_windows, com_list, ref_list,\n",
    "                               stiff, xmin, xmax, equlibration_parameters,\n",
    "                               print_every=1000, observable=True, protein=None,\n",
    "                               force_file=None, continue_run=False)\n",
    "\n",
    "simulation_manager.run(cpu_run=True, gpu_mem_block=False)\n",
    "\n"
   ]
  },
  {
   "cell_type": "markdown",
   "id": "1d1c31d9-5f5b-4f0d-bfba-87a2459ce1d0",
   "metadata": {},
   "source": [
    "<font size='10'><a class=\"anchor\" id=\"3\"></a> <h2 align=\"center\"> <font color='black'>Temp Scan</font></h2> "
   ]
  },
  {
   "cell_type": "code",
   "execution_count": null,
   "id": "5f14ebbb-e525-421c-a4b8-871027cc3d73",
   "metadata": {},
   "outputs": [],
   "source": [
    "path = os.path.abspath('/scratch/mlsample/ipy_oxDNA/ipy_oxdna_examples/duplex_melting/')\n",
    "\n",
    "system_name = 'multi_system_runs'\n",
    "\n",
    "systems = ['duplex_25', 'duplex_30', 'duplex_35', 'duplex_40', 'duplex_45', 'duplex_50', 'duplex_55', 'duplex_60', 'duplex_65', 'duplex_70']\n",
    "temperature_list = [25, 30, 35, 40, 45, 50, 55, 60, 65, 70]\n",
    "\n",
    "file_dirs = [f'{path}/{system_name}' for _ in range(len(systems))]\n",
    "\n",
    "\n",
    "com_list = '8,9,10,11,12,13,14,15'\n",
    "ref_list = '0,1,2,3,4,5,6,7'\n",
    "xmin = 0\n",
    "xmax = 15\n",
    "n_windows = 100\n",
    "\n",
    "stiff = 0.4\n",
    "\n",
    "equlibration_parameters_list = [{'backend':'CPU','steps':'5e7','print_energy_every': '4e7',\n",
    "                           'print_conf_interval':'4e7', \"CUDA_list\": \"no\",\n",
    "                           'use_edge': 'false', 'refresh_vel': '1',\n",
    "                           'fix_diffusion': '0', 'fix_diffusion_every': '1000',\n",
    "                           'T':f'{temp}C'} for temp in temperature_list]\n",
    "\n",
    "production_parameters_list = [{'backend':'CPU','steps':'1e9','print_energy_every': '1e8',\n",
    "                        'print_conf_interval':'1e8', \"CUDA_list\": \"no\",\n",
    "                        'use_edge': 'false', 'refresh_vel': '1',\n",
    "                        'fix_diffusion': '0', 'fix_diffusion_every': '1000',\n",
    "                        'T':f'{temp}C'} for temp in temperature_list]\n",
    "\n",
    "us_list = [MeltingUmbrellaSampling(file_dir, sys, clean_build='force') for file_dir, sys in zip(file_dirs,systems)]\n",
    "\n",
    "simulation_manager = SimulationManager()"
   ]
  },
  {
   "cell_type": "markdown",
   "id": "dd8e98f2-767a-44c4-b8c8-22471f7c995b",
   "metadata": {},
   "source": [
    "<font size='10'><a class=\"anchor\" id=\"3\"></a> <h2 align=\"center\"> <font color='black'>Temp scan convergence analysis</font></h2> "
   ]
  },
  {
   "cell_type": "code",
   "execution_count": null,
   "id": "412d5a5c-3f5e-4760-88de-66b1f0e773ca",
   "metadata": {
    "tags": []
   },
   "outputs": [],
   "source": [
    "n_chunks = 2\n",
    "data_added_per_iteration = 3\n",
    "\n",
    "wham_dir = os.path.abspath('/scratch/mlsample/ipy_oxDNA/wham/wham')\n",
    "n_bins = '200'\n",
    "tol = '1e-5'\n",
    "n_boot = '0'\n",
    "xmin = 0\n",
    "xmax = 15\n",
    "n_windows = 100\n",
    "\n",
    "stiff = 0.4\n",
    "\n",
    "for us in us_list:\n",
    "    us.wham.get_n_data_per_com_file()\n",
    "    us.convergence_analysis(n_chunks, data_added_per_iteration, wham_dir, xmin, xmax, stiff, n_bins, tol, n_boot)"
   ]
  },
  {
   "cell_type": "code",
   "execution_count": null,
   "id": "166de66c-8beb-4ac0-b7fb-71ffb0642576",
   "metadata": {
    "tags": []
   },
   "outputs": [],
   "source": [
    "for us in us_list:\n",
    "    us.wham.plot_truncated_free_energy()\n",
    "    plt.legend()\n",
    "    plt.title(us.system)\n",
    "    us.wham.plot_chunks_free_energy()\n",
    "    plt.legend()\n",
    "    plt.title(us.system)"
   ]
  },
  {
   "cell_type": "code",
   "execution_count": null,
   "id": "2213ee70-49ab-43ca-bb3a-4e5d7a62291e",
   "metadata": {},
   "outputs": [],
   "source": [
    "us_list.append(MeltingUmbrellaSampling(f'{path}', f'us_melting_52_no_non_canonical', clean_build='force'))"
   ]
  },
  {
   "cell_type": "markdown",
   "id": "cc92c613-4b28-4dfc-94ec-1ee18b78014e",
   "metadata": {},
   "source": [
    "<font size='10'><a class=\"anchor\" id=\"3\"></a> <h2 align=\"center\"> <font color='black'>Temp Scan plotting</font></h2> "
   ]
  },
  {
   "cell_type": "code",
   "execution_count": null,
   "id": "5f06cc61-49f2-4614-8bfa-534bb1ef7f7a",
   "metadata": {},
   "outputs": [],
   "source": [
    "for us in us_list:\n",
    "    us.com_distance_observable(com_list, ref_list)\n",
    "\n",
    "\n",
    "for us in us_list:\n",
    "    plt.figure(dpi=200)\n",
    "    for idx in range(0,100,1):\n",
    "        us.analysis.view_observable('prod', idx, observable=us.observables_list[1], sliding_window=20)\n",
    "    plt.legend([us.system], fontsize=7)"
   ]
  },
  {
   "cell_type": "code",
   "execution_count": null,
   "id": "647520ae-10fc-4dc4-a074-823b39adbaaa",
   "metadata": {},
   "outputs": [],
   "source": [
    "for us in us_list:\n",
    "    if us.free['Free'].iloc[4] != 0:\n",
    "        us.free['Free'] = us.free['Free'].subtract(us.free['Free'].iloc[4])"
   ]
  },
  {
   "cell_type": "code",
   "execution_count": null,
   "id": "e39d05e0-6ef6-47c8-8ce5-a9d57583e33e",
   "metadata": {
    "tags": []
   },
   "outputs": [],
   "source": [
    "with plt.style.context(['science', 'no-latex', 'bright']): \n",
    "\n",
    "    ax = us_list[0].wham.plt_fig()\n",
    "    for us in us_list:\n",
    "        us.wham.plot_free_energy(ax=ax, errorevery=20)\n",
    "    \n",
    "    vmmc_replica_generator.plot_mean_free_energy_with_error_bars(num_bins=500, ax=ax, errorevery=20)\n",
    "    # plt.legend(['52C umbrella all hydrogen bonds', '52C umbrella only intended bonds', '52C VMMC all hydrogen bonds (only biased to sample intended bonds)'] ,fontsize=6)\n",
    "    \n",
    "    plt.legend(fontsize=5)\n",
    "    plt.xlabel('Center of mass distance (nm)')\n",
    "    plt.xlim(-0.75,15)\n",
    "    # plt.ylim(-0.25, 12)"
   ]
  },
  {
   "cell_type": "code",
   "execution_count": null,
   "id": "c049b84d-b92d-49a6-a5a9-a96060a6c71a",
   "metadata": {
    "tags": []
   },
   "outputs": [],
   "source": [
    "[[us_list[sys].production_sims[window].analysis.get_conf_count() for window in range(n_windows)]for sys in range(3)] "
   ]
  },
  {
   "cell_type": "code",
   "execution_count": null,
   "id": "023ff83c-0782-4fa7-9d3c-cd44b18d4484",
   "metadata": {
    "tags": []
   },
   "outputs": [],
   "source": [
    "for us, equlibration_parameters in zip(us_list[-1:], equlibration_parameters_list[-1:]):\n",
    "    print(us.system)\n",
    "    us.build_equlibration_runs(simulation_manager, n_windows, com_list, ref_list,\n",
    "                               stiff, xmin, xmax, equlibration_parameters,\n",
    "                               print_every=1000, observable=True, protein=None,\n",
    "                               force_file=None, continue_run=False)\n",
    "\n",
    "simulation_manager.worker_manager(cpu_run=True, gpu_mem_block=False)\n",
    "\n"
   ]
  },
  {
   "cell_type": "code",
   "execution_count": null,
   "id": "73a821cc-13a6-4556-b156-31dbf89c948b",
   "metadata": {},
   "outputs": [],
   "source": [
    "for us, production_parameters in zip(us_list[-1:], production_parameters_list[-1:]):\n",
    "    print(us.system)\n",
    "    us.build_production_runs(simulation_manager, n_windows, com_list, ref_list,\n",
    "                             stiff, xmin, xmax, production_parameters,\n",
    "                             observable=True, print_every=1000 ,protein=None,\n",
    "                             force_file=None, continue_run=False)"
   ]
  },
  {
   "cell_type": "code",
   "execution_count": null,
   "id": "c4521368-6565-4cfb-a871-96a482676641",
   "metadata": {
    "tags": []
   },
   "outputs": [],
   "source": [
    "simulation_manager.run(cpu_run=True, gpu_mem_block=False)\n"
   ]
  },
  {
   "cell_type": "markdown",
   "id": "c6839d0b-dfc4-4fed-852c-6740999e6a32",
   "metadata": {},
   "source": [
    "<font size='6'><a class=\"anchor\" id=\"3\"></a> <h2 align=\"center\"> <font color='black'>Multisystem umbrella sampling</font></h2> "
   ]
  },
  {
   "cell_type": "code",
   "execution_count": null,
   "id": "7266713f-5752-4f69-b3c9-4f53af297ea0",
   "metadata": {},
   "outputs": [],
   "source": [
    "path = os.path.abspath('/scratch/mlsample/ipy_oxDNA/ipy_oxdna_examples/duplex_melting/')\n",
    "\n",
    "system_name = 'multi_system_runs'\n",
    "\n",
    "systems = ['print_100_normal_1e9', 'print_100_unique_1e9']\n",
    "print_every_list = [100, 100]\n",
    "\n",
    "file_dirs = [f'{path}/{system_name}' for _ in range(len(systems))]\n",
    "\n",
    "\n",
    "com_list = '8,9,10,11,12,13,14,15'\n",
    "ref_list = '0,1,2,3,4,5,6,7'\n",
    "xmin = 0\n",
    "xmax = 6\n",
    "n_windows = 50\n",
    "max_hb = 8\n",
    "stiff = 0.8\n",
    "\n",
    "equlibration_parameters = {'backend':'CPU','steps':'5e7','print_energy_every': '4e7',\n",
    "                           'print_conf_interval':'4e7', \"CUDA_list\": \"no\",\n",
    "                           'use_edge': 'false', 'refresh_vel': '1',\n",
    "                           'fix_diffusion': '0', 'fix_diffusion_every': '1000',\n",
    "                           'T':'52C'\n",
    "                          }\n",
    "\n",
    "production_parameters ={'backend':'CPU','steps':'1e9','print_energy_every': '1e8',\n",
    "                        'print_conf_interval':'1e8', \"CUDA_list\": \"no\",\n",
    "                        'use_edge': 'false', 'refresh_vel': '1',\n",
    "                        'fix_diffusion': '0', 'fix_diffusion_every': '1000',\n",
    "                        'T':'52C'\n",
    "                        }\n",
    "\n",
    "us_list = [MeltingUmbrellaSampling(file_dir, sys, clean_build='force') for file_dir, sys in zip(file_dirs,systems)]\n",
    "\n",
    "simulation_manager = SimulationManager()\n",
    "\n"
   ]
  },
  {
   "cell_type": "markdown",
   "id": "cfd782d9-b5d1-44db-bb5a-7ec61a991c55",
   "metadata": {},
   "source": [
    "<font size='10'><a class=\"anchor\" id=\"3\"></a> <h2 align=\"center\"> <font color='black'>Continuous to Discrete Unbiasing</font></h2> "
   ]
  },
  {
   "cell_type": "code",
   "execution_count": null,
   "id": "db97fd15-663b-4f8e-8b88-56cc2a34d6a9",
   "metadata": {},
   "outputs": [],
   "source": [
    "max_hb = 8"
   ]
  },
  {
   "cell_type": "code",
   "execution_count": null,
   "id": "06c83403-c09d-49ef-b6fa-0596222053fd",
   "metadata": {
    "tags": []
   },
   "outputs": [],
   "source": [
    "def count_division_normalize(arr):\n",
    "    row_sums = np.sum(arr, axis=1, keepdims=True)\n",
    "    return arr / row_sums\n",
    "\n",
    "for us, stiff in zip(us_list[:-1], k_value_list):\n",
    "    print(us.system)\n",
    "    us.get_com_distance_by_window()\n",
    "    us.get_hb_list_by_window()\n",
    "    us.get_bias_potential_value(xmin, xmax, n_windows, stiff)\n",
    "    \n",
    "    for idx in us.hb_by_window.keys():\n",
    "        hb_values = np.array(us.hb_by_window[idx].values.T[0])\n",
    "        to_remove = np.where(hb_values > max_hb)[0]  # Indices where hb_values > max_hb\n",
    "        if len(to_remove > 0):\n",
    "        # Remove rows from hb_by_window DataFrame\n",
    "            us.hb_by_window[idx].drop(index=to_remove, inplace=True)\n",
    "            us.hb_by_window[idx].reset_index(drop=True, inplace=True)\n",
    "            \n",
    "            # Remove corresponding rows from umbrella_bias DataFrame\n",
    "            us.umbrella_bias[idx].drop(index=to_remove, inplace=True)\n",
    "            us.umbrella_bias[idx].reset_index(drop=True, inplace=True)\n",
    "            \n",
    "    unbiased_discrete_window = np.array([np.zeros(max_hb + 1) for _ in range(n_windows)])\n",
    "    bias = np.array([1 / np.exp(-window /us.temperature) for window in us.umbrella_bias])\n",
    "    print(us.temperature)\n",
    "    index_to_add_at = np.array([np.array(us.hb_by_window[idx].values.T[0]) for idx in range(n_windows)])\n",
    "    \n",
    "    for idx in range(n_windows):\n",
    "        np.add.at(unbiased_discrete_window[idx], index_to_add_at[idx], bias[idx][0])\n",
    "  \n",
    "    normalized_array = count_division_normalize(unbiased_discrete_window)\n",
    "    new_array_v2 = np.zeros(unbiased_discrete_window.shape[1])\n",
    "    \n",
    "    # Iterate through each row and index\n",
    "    for i, row in enumerate(normalized_array):\n",
    "        new_array_v2 += row * unbiased_discrete_window[i]\n",
    "    us.counts_discrete = new_array_v2\n",
    "    # Normalize the new array using count division normalization\n",
    "    new_array_sum_v2 = np.sum(new_array_v2)\n",
    "    normalized_new_array_v2 = new_array_v2 / new_array_sum_v2\n",
    "    us.free_energy_discrete = -np.log(normalized_new_array_v2)\n",
    "    us.free_energy_discrete -= min(us.free_energy_discrete)\n",
    "    us.prob_discrete = normalized_new_array_v2"
   ]
  },
  {
   "cell_type": "code",
   "execution_count": null,
   "id": "f51b09fd-e268-429f-b779-96c35ebc935d",
   "metadata": {},
   "outputs": [],
   "source": [
    "for us in us_list[:-1]:\n",
    "    plt.plot(range(9), us.free_energy_discrete, label=us.system)\n",
    "plt.legend()"
   ]
  },
  {
   "cell_type": "code",
   "execution_count": null,
   "id": "a6228d8a-2126-473b-be68-3e188581191b",
   "metadata": {
    "tags": []
   },
   "outputs": [],
   "source": [
    "for us in us_list[:-1]:\n",
    "    us.calculate_melting_temperature_using_vmmc()"
   ]
  },
  {
   "cell_type": "code",
   "execution_count": null,
   "id": "064c347d-edfb-45d5-9183-241f56440f98",
   "metadata": {},
   "outputs": [],
   "source": [
    "inverted_finfs = []\n",
    "temperatures = []\n",
    "for us in us_list[:-1]:\n",
    "    inverted_finfs.append(1 - us.vmmc_sim.analysis.finfs[0])\n",
    "    temperatures.append(float((us.system.split('_')[-1])))\n",
    "# del inverted_finfs[2]\n",
    "# del temperatures[2]\n",
    "inverted_finfs"
   ]
  },
  {
   "cell_type": "code",
   "execution_count": null,
   "id": "d3ead52e-9d2f-4a13-aedb-c5e0d1d5cd1d",
   "metadata": {},
   "outputs": [],
   "source": [
    "def sigmoid(x, L, x0, k, b):\n",
    "    return L / (1 + np.exp(-k * (x - x0))) + b\n",
    "\n",
    "from scipy.optimize import curve_fit\n",
    "\n",
    "p0 = [max(inverted_finfs), np.median(temperatures), 1, min(inverted_finfs)]  # initial guesses for L, x0, k, b\n",
    "popt, _ = curve_fit(sigmoid, temperatures, inverted_finfs, p0, method='dogbox')\n",
    "\n",
    "x_fit = np.linspace(min(temperatures), max(temperatures), 500)\n",
    "y_fit = sigmoid(x_fit, *popt)\n",
    "\n",
    "idx = np.argmin(np.abs(y_fit - 0.5))\n",
    "Tm = x_fit[idx]"
   ]
  },
  {
   "cell_type": "code",
   "execution_count": null,
   "id": "3be9c7eb-91dd-42a0-8e49-c5bdcbe7d20c",
   "metadata": {},
   "outputs": [],
   "source": [
    "# Plotting\n",
    "# plt.figure(figsize=(10, 6))\n",
    "vmmc_sim_list[0].analysis.plot_melting_profiles(label='VMMC Discrete ')\n",
    "\n",
    "plt.scatter(temperatures, inverted_finfs, marker='o', label='Continous umbrella made discrete data')\n",
    "plt.plot(x_fit, y_fit, linestyle='--', linewidth=2, label='Continous umbrella made discrete Sigmoid Fit')\n",
    "\n",
    "# Add a vertical line at the melting temperature\n",
    "plt.axvline(x=Tm, color='green', linestyle='--', linewidth=2, label=f'Continous umbrella made discrete Tm = {Tm:.2f} °C')\n",
    "\n",
    "plt.xlabel('Temperature (°C)')\n",
    "plt.ylabel('Fraction of ssDNA')\n",
    "plt.title(f'Melting Profile')\n",
    "\n",
    "# Set y-axis limits\n",
    "plt.ylim(0, 1.1)\n",
    "\n",
    "plt.legend()\n",
    "plt.grid(True)\n",
    "plt.show()\n"
   ]
  },
  {
   "cell_type": "code",
   "execution_count": null,
   "id": "6ada9bec-aba3-4143-80f8-7c80153cdf42",
   "metadata": {},
   "outputs": [],
   "source": [
    "plt.plot(inv_finfs.keys(), inv_finfs.values())"
   ]
  },
  {
   "cell_type": "code",
   "execution_count": null,
   "id": "f150ed5d-52ce-4fca-8457-7311dddac6ba",
   "metadata": {},
   "outputs": [],
   "source": [
    "# vmmc_sim_list[0].analysis.last_hist_analysis()\n",
    "inv = 1 -  np.array(vmmc_sim_list[0].analysis.finfs)\n",
    "inv"
   ]
  },
  {
   "cell_type": "code",
   "execution_count": null,
   "id": "f08a292f-d018-4840-86a2-dcdcd0a02aa1",
   "metadata": {
    "tags": []
   },
   "outputs": [],
   "source": [
    "us_list[1].vmmc_sim.statistics"
   ]
  },
  {
   "cell_type": "code",
   "execution_count": null,
   "id": "8d6315bb-3011-4a71-82e0-a195cab945ea",
   "metadata": {
    "tags": []
   },
   "outputs": [],
   "source": [
    "us.vmmc_sim.statistics"
   ]
  },
  {
   "cell_type": "code",
   "execution_count": null,
   "id": "1899d4e6-b343-4497-97cc-63e1145ac95b",
   "metadata": {},
   "outputs": [],
   "source": [
    "free = vmmc_sim_list[0].statistics['wt_free'] - vmmc_sim_list[0].statistics['wt_free'].values[-1]\n",
    "us.free_energy_discret us.free_energy_discrete - us.free_energy_discrete[-1]"
   ]
  },
  {
   "cell_type": "code",
   "execution_count": null,
   "id": "4821d7b0-012d-4e75-a436-08c69d6efd7f",
   "metadata": {
    "tags": []
   },
   "outputs": [],
   "source": [
    "with plt.style.context(['science', 'no-latex', 'bright']): \n",
    "    ax = us_list[0].wham.plt_fig()\n",
    "    for us in us_list:\n",
    "        temp = us.free_energy_discrete - us.free_energy_discrete[-1]\n",
    "        ax.plot(range(9), temp, label=us.system)\n",
    "    ax.plot(range(9), free, label='discrete')\n",
    "\n",
    "    plt.legend(fontsize=6)\n",
    "    ax.set_xlabel('Number of Hydrogen Bonds')"
   ]
  },
  {
   "cell_type": "code",
   "execution_count": null,
   "id": "139fcb57-8389-476c-88fc-f0fb06340e28",
   "metadata": {},
   "outputs": [],
   "source": [
    "biases = us_list[1].umbrella_bias\n",
    "shift = np.array(us_list[1].get_biases(), dtype=float)\n",
    "\n",
    "energy = [np.exp(-bias + shift) for bias, shift in zip(biases, shift)]"
   ]
  },
  {
   "cell_type": "code",
   "execution_count": null,
   "id": "5875e52b-2ff2-4a75-8674-fc34ce43486b",
   "metadata": {},
   "outputs": [],
   "source": [
    "np.zeros(max_hb)"
   ]
  },
  {
   "cell_type": "code",
   "execution_count": null,
   "id": "68209f92-a81a-4742-a10d-5c86e32364e7",
   "metadata": {
    "tags": []
   },
   "outputs": [],
   "source": [
    "us_list[1].unbias_com_to_hb(xmin, xmax, n_windows, stiff, max_hb)"
   ]
  },
  {
   "cell_type": "code",
   "execution_count": null,
   "id": "422f6676-320b-45c7-a474-ffd9ab810e25",
   "metadata": {},
   "outputs": [],
   "source": [
    "prob = us_list[1].run_wham_discete(8)"
   ]
  },
  {
   "cell_type": "code",
   "execution_count": null,
   "id": "cafa3012-228b-441c-83f6-fbb8c97adcc3",
   "metadata": {
    "tags": []
   },
   "outputs": [],
   "source": [
    "prob = us_list[1].homebrew_discrete_wham(9)"
   ]
  },
  {
   "cell_type": "code",
   "execution_count": null,
   "id": "dfa1cc53-7039-4d8e-ae1b-c15784310f60",
   "metadata": {},
   "outputs": [],
   "source": [
    "prob.tolist()"
   ]
  },
  {
   "cell_type": "code",
   "execution_count": null,
   "id": "0537d9f5-8267-45aa-96ad-8161a56dc633",
   "metadata": {},
   "outputs": [],
   "source": [
    "inv = 1 -  np.array(vmmc_sim_list[0].analysis.finfs)\n",
    "inv[9]"
   ]
  },
  {
   "cell_type": "code",
   "execution_count": null,
   "id": "a0e29db9-3904-4236-a386-8dc2dd4bda5f",
   "metadata": {},
   "outputs": [],
   "source": [
    "vmmc_sim_list[0].analysis.temperatures.index(52)"
   ]
  },
  {
   "cell_type": "code",
   "execution_count": null,
   "id": "7eb22764-54bf-4efd-bba1-7403f4e9ac4d",
   "metadata": {},
   "outputs": [],
   "source": [
    "com_by_window = us_list[1].com_by_window\n",
    "hb_by_window = us_list[1].hb_by_window\n",
    "umbrella_bias = us_list[1].umbrella_bias\n",
    "shift = np.array(us_list[1].get_biases(), dtype=float)\n",
    "\n",
    "umbrella_bias = [np.exp(-bias) for bias, shift in zip(umbrella_bias, shift)]"
   ]
  },
  {
   "cell_type": "code",
   "execution_count": null,
   "id": "224add39-2c13-4748-961a-03c6add5c683",
   "metadata": {
    "tags": []
   },
   "outputs": [],
   "source": [
    "unbiased_discrete_window = {idx:np.zeros(int(max_hb + 1)) for idx in range(n_windows)}\n",
    "for idx in range(n_windows):\n",
    "    index_to_add_at = np.array(hb_by_window[idx].values.T[0])\n",
    "    biases = np.array([value for value in umbrella_bias[idx].values.T[0]])\n",
    "    value_to_add = 1 / biases\n",
    "    np.add.at(unbiased_discrete_window[idx], index_to_add_at, value_to_add)\n",
    "print(unbiased_discrete_window)"
   ]
  },
  {
   "cell_type": "code",
   "execution_count": null,
   "id": "1ae0adda-c0db-4a1a-8a45-feb37ab9c809",
   "metadata": {},
   "outputs": [],
   "source": [
    "unbiased = [hist) - s for hist,s in zip(unbiased_discrete_window.values(), shift)]"
   ]
  },
  {
   "cell_type": "code",
   "execution_count": null,
   "id": "eac194d4-1c0d-43a9-ae09-8fceb4767cde",
   "metadata": {
    "tags": []
   },
   "outputs": [],
   "source": [
    "unbiased"
   ]
  },
  {
   "cell_type": "code",
   "execution_count": null,
   "id": "a5b5b5c7-481f-47a2-bf88-53ceceb2de43",
   "metadata": {},
   "outputs": [],
   "source": [
    "sum_of_hist = np.zeros(9)\n",
    "for hist in unbiased:\n",
    "    sum_of_hist += hist\n",
    "sum_of_hist /= sum(sum_of_hist)"
   ]
  },
  {
   "cell_type": "code",
   "execution_count": null,
   "id": "bd1e82b6-d5df-4bb4-8fbe-79a2eb551d55",
   "metadata": {},
   "outputs": [],
   "source": [
    "sum_of_hist.tolist()"
   ]
  },
  {
   "cell_type": "code",
   "execution_count": null,
   "id": "33a73d24-c303-40f0-8d79-5d24da2346ae",
   "metadata": {},
   "outputs": [],
   "source": [
    "us.discrete_hist.values()"
   ]
  },
  {
   "cell_type": "code",
   "execution_count": null,
   "id": "0d4aa502-a8fc-4a09-af42-0c45a88865bc",
   "metadata": {},
   "outputs": [],
   "source": [
    "plt.plot(range(9), -np.log(list(us.discrete_hist.values())))\n",
    "plt.plot(range(9), -np.log(sum_of_hist))"
   ]
  },
  {
   "cell_type": "code",
   "execution_count": null,
   "id": "647d9f63-b81d-4293-b39f-014df2d59101",
   "metadata": {},
   "outputs": [],
   "source": [
    "counters = [sum(hist) for hist in unbiased_discrete_window.values()]"
   ]
  },
  {
   "cell_type": "code",
   "execution_count": null,
   "id": "d74ef2ca-2fb7-4788-8cf6-21d246362035",
   "metadata": {},
   "outputs": [],
   "source": [
    "new_hist = [hist / count for hist,count in zip(unbiased_discrete_window.values(), counters)]"
   ]
  },
  {
   "cell_type": "code",
   "execution_count": null,
   "id": "d9e91bbb-b298-424c-b377-b280fa84ff33",
   "metadata": {
    "tags": []
   },
   "outputs": [],
   "source": [
    "new_hist"
   ]
  },
  {
   "cell_type": "code",
   "execution_count": null,
   "id": "b7958433-d0be-472d-ae29-ec8701d0689b",
   "metadata": {},
   "outputs": [],
   "source": [
    "us_list[0].homebrew_discrete_wham(9)"
   ]
  },
  {
   "cell_type": "code",
   "execution_count": null,
   "id": "1b745247-d94e-418a-8958-9f74547e996c",
   "metadata": {
    "tags": []
   },
   "outputs": [],
   "source": [
    "max_hb = 8\n",
    "plt.figure()\n",
    "plt.plot(range(9), vmmc_sim_list[0].statistics['wt_free'], label='discrete')\n",
    "plt.plot(range(9), -np.log(us_list[0].homebrew_discrete_wham(9)), label='here')"
   ]
  },
  {
   "cell_type": "markdown",
   "id": "6776df31-0857-4230-9deb-fa477f46913f",
   "metadata": {},
   "source": [
    "<font size='6'><a class=\"anchor\" id=\"3\"></a> <h2 align=\"center\"> <font color='black'>Multisystem umbrella sampling</font></h2> "
   ]
  },
  {
   "cell_type": "code",
   "execution_count": null,
   "id": "da790945-6b55-40b7-bd47-06ab876223e2",
   "metadata": {},
   "outputs": [],
   "source": [
    "path = os.path.abspath('/scratch/mlsample/ipy_oxDNA/ipy_oxdna_examples/duplex_melting/')\n",
    "\n",
    "system_name = 'multi_system_runs'\n",
    "\n",
    "systems = ['print_100_normal_1e9', 'print_100_unique_1e9']\n",
    "print_every_list = [100, 100]\n",
    "\n",
    "file_dirs = [f'{path}/{system_name}' for _ in range(len(systems))]\n",
    "\n",
    "\n",
    "com_list = '8,9,10,11,12,13,14,15'\n",
    "ref_list = '0,1,2,3,4,5,6,7'\n",
    "xmin = 0\n",
    "xmax = 6\n",
    "n_windows = 50\n",
    "\n",
    "stiff = 0.8\n",
    "\n",
    "equlibration_parameters = {'backend':'CPU','steps':'5e7','print_energy_every': '4e7',\n",
    "                           'print_conf_interval':'4e7', \"CUDA_list\": \"no\",\n",
    "                           'use_edge': 'false', 'refresh_vel': '1',\n",
    "                           'fix_diffusion': '0', 'fix_diffusion_every': '1000',\n",
    "                           'T':'52C'\n",
    "                          }\n",
    "\n",
    "production_parameters ={'backend':'CPU','steps':'1e9','print_energy_every': '1e8',\n",
    "                        'print_conf_interval':'1e8', \"CUDA_list\": \"no\",\n",
    "                        'use_edge': 'false', 'refresh_vel': '1',\n",
    "                        'fix_diffusion': '0', 'fix_diffusion_every': '1000',\n",
    "                        'T':'52C'\n",
    "                        }\n",
    "\n",
    "us_list = [MeltingUmbrellaSampling(file_dir, sys, clean_build='force') for file_dir, sys in zip(file_dirs,systems)]\n",
    "\n",
    "simulation_manager = SimulationManager()"
   ]
  },
  {
   "cell_type": "code",
   "execution_count": null,
   "id": "c8aab7c0-936a-4d2f-aecc-7ac883b00a8a",
   "metadata": {},
   "outputs": [],
   "source": [
    "for us, print_every in zip(us_list, print_every_list):\n",
    "    us.build_equlibration_runs(simulation_manager, n_windows, com_list, ref_list,\n",
    "                               stiff, xmin, xmax, equlibration_parameters,\n",
    "                               print_every=print_every, observable=True, protein=None,\n",
    "                               force_file=None, continue_run=False)\n"
   ]
  },
  {
   "cell_type": "code",
   "execution_count": null,
   "id": "74c2d5e8-d5d9-4d7c-82f6-236bc53d567b",
   "metadata": {},
   "outputs": [],
   "source": [
    "us_list[1].modify_topology_for_unique_pairing()"
   ]
  },
  {
   "cell_type": "code",
   "execution_count": null,
   "id": "c1ecb66a-99ec-438e-82a9-611c1ff3f734",
   "metadata": {
    "tags": []
   },
   "outputs": [],
   "source": [
    "simulation_manager.run(cpu_run=True, gpu_mem_block=False)"
   ]
  },
  {
   "cell_type": "code",
   "execution_count": null,
   "id": "2f4c0b52-bd07-4b9a-b601-d4a606701035",
   "metadata": {},
   "outputs": [],
   "source": [
    "for us, print_every in zip(us_list, print_every_list):\n",
    "    us.build_production_runs(simulation_manager, n_windows, com_list, ref_list,\n",
    "                             stiff, xmin, xmax, production_parameters,\n",
    "                             observable=True, print_every=print_every,protein=None,\n",
    "                             force_file=None, continue_run=False)\n"
   ]
  },
  {
   "cell_type": "code",
   "execution_count": null,
   "id": "3252accf-0b85-44a4-86f0-20f6579a1600",
   "metadata": {
    "tags": []
   },
   "outputs": [],
   "source": [
    "simulation_manager.run(cpu_run=True, gpu_mem_block=False)\n"
   ]
  },
  {
   "cell_type": "code",
   "execution_count": null,
   "id": "89c11a6d-620b-40c5-926e-ab3da788d5f7",
   "metadata": {},
   "outputs": [],
   "source": [
    "wham_dir = os.path.abspath('/scratch/mlsample/ipy_oxDNA/wham/wham')\n",
    "n_bins = '200'\n",
    "tol = '1e-5'\n",
    "n_boot = '0'\n",
    "for us in us_list:\n",
    "    us.wham_run(wham_dir, xmin, xmax, stiff, n_bins, tol, n_boot)"
   ]
  },
  {
   "cell_type": "code",
   "execution_count": null,
   "id": "a07757e5-f614-4ee2-98c6-fded97216d97",
   "metadata": {},
   "outputs": [],
   "source": [
    "with plt.style.context(['science', 'no-latex', 'bright']): \n",
    "    ax = us_list[0].wham.plt_fig()\n",
    "    for us in us_list:\n",
    "        us.wham.plot_free_energy(ax=ax)\n",
    "    vmmc_replica_generator.plot_mean_free_energy_with_error_bars(num_bins=1000, ax=ax, confidence_level=0.95, label='VMMC discrete made continuous 52C')\n",
    "    plt.legend(fontsize=6)\n",
    "    plt.xlim(0, 6)\n",
    "    plt.ylim(0, 8)"
   ]
  },
  {
   "cell_type": "code",
   "execution_count": null,
   "id": "ea4526d8-b855-4094-93ee-dc6a0eb1fb67",
   "metadata": {
    "tags": []
   },
   "outputs": [],
   "source": [
    "for us in us_list:\n",
    "    us.com_distance_observable(com_list, ref_list)\n",
    "\n",
    "\n",
    "for us in us_list[:2]:\n",
    "    plt.figure(dpi=200)\n",
    "    for idx in range(0,100,1):\n",
    "        us.analysis.view_observable('prod', idx, sliding_window=50, observable=us.observables_list[0])#, observable=us.observables_list[0], sliding_window=20)\n",
    "    plt.legend([us.system], fontsize=7)"
   ]
  },
  {
   "cell_type": "markdown",
   "id": "bdc349cf-4000-4793-84b0-e10c519a6a07",
   "metadata": {},
   "source": [
    "<font size='6'><a class=\"anchor\" id=\"3\"></a> <h2 align=\"center\"> <font color='black'>Unbiased equlibration</font></h2> "
   ]
  },
  {
   "cell_type": "code",
   "execution_count": null,
   "id": "d7bfbda8-c970-4a59-a18e-62c1cb28c1c1",
   "metadata": {},
   "outputs": [],
   "source": [
    "simulation_manager = SimulationManager() \n",
    "simulation_manager.start_nvidia_cuda_mps_control(pipe='temp')"
   ]
  },
  {
   "cell_type": "code",
   "execution_count": null,
   "id": "eb335b0d-2be0-4dc0-ab75-2090e65b657b",
   "metadata": {},
   "outputs": [],
   "source": [
    "path = os.path.abspath('/scratch/mlsample/ipy_oxDNA/ipy_oxdna_examples')\n",
    "file_dir = f'{path}/duplex_melting'\n",
    "sim_dir = f'{file_dir}/unbiased_no_non_canonical_bonds_1'\n",
    "\n",
    "sim = Simulation(file_dir, sim_dir)"
   ]
  },
  {
   "cell_type": "code",
   "execution_count": null,
   "id": "cdb4b816-1290-40cd-a0e5-9c2637cdd5e8",
   "metadata": {},
   "outputs": [],
   "source": [
    "sim.build(clean_build='force')\n",
    "sim.input_file({'backend':'CPU', 'steps':'1e7','print_energy_every': '1e4', 'print_conf_interval':'1e4', \"CUDA_list\": \"no\", 'use_edge': 'false'})"
   ]
  },
  {
   "cell_type": "code",
   "execution_count": null,
   "id": "23ffb44f-1a60-4f84-9df8-21c86cc381c9",
   "metadata": {},
   "outputs": [],
   "source": [
    "sim.modify_topology_for_unique_pairing()"
   ]
  },
  {
   "cell_type": "code",
   "execution_count": null,
   "id": "cba1ed52-1e2c-4b28-b971-3e05f62ffacf",
   "metadata": {},
   "outputs": [],
   "source": [
    "sim.oxpy_run.run(subprocess=True)"
   ]
  },
  {
   "cell_type": "code",
   "execution_count": null,
   "id": "988c1c48-6902-45e1-8e11-1a4df6062fd2",
   "metadata": {},
   "outputs": [],
   "source": [
    "sim.oxpy_run.process.terminate()"
   ]
  },
  {
   "cell_type": "code",
   "execution_count": null,
   "id": "02c53134-6edf-4027-a442-384b3fc6928a",
   "metadata": {
    "tags": []
   },
   "outputs": [],
   "source": [
    "sim.analysis.plot_energy()\n",
    "sim.analysis.view_last()"
   ]
  },
  {
   "cell_type": "markdown",
   "id": "cd742972-1b20-49ab-9b01-96499c9e5f9d",
   "metadata": {},
   "source": [
    "<font size='7'><a class=\"anchor\" id=\"3\"></a> <h2 align=\"center\"> <font color='black'>Initalize Vmmc Replicas</font></h2> "
   ]
  },
  {
   "cell_type": "code",
   "execution_count": null,
   "id": "6b3bae8d-62be-4d4b-a755-517f7e07726b",
   "metadata": {},
   "outputs": [],
   "source": [
    "path = os.path.abspath('/scratch/mlsample/ipy_oxDNA/ipy_oxdna_examples')\n",
    "systems = ['duplex_melting']\n",
    "\n",
    "file_dir_list = [f'{path}/{sys}' for sys in systems]\n",
    "sim_dir_list = [f'{file_dir}/vmmc_melting_replicas/vmmc_melting_rep' for sys, file_dir in zip(systems, file_dir_list)]\n",
    "\n",
    "n_replicas = 40\n",
    "vmmc_replica_generator = VmmcReplicas()\n",
    "\n",
    "vmmc_replica_generator.multisystem_replica(\n",
    "    systems,\n",
    "    n_replicas,\n",
    "    file_dir_list,\n",
    "    sim_dir_list\n",
    ")\n",
    "vmmc_sim_list = vmmc_replica_generator.sim_list\n",
    "queue_of_simulations = vmmc_replica_generator.queue_of_sims\n",
    "\n",
    "p1 = '15,14,13,12,11,10,9,8'\n",
    "p2 = '0,1,2,3,4,5,6,7'\n",
    "pre_defined_weights = [8, 16204, 1882.94, 359.746, 52.5898, 15.0591, 7.21252, 2.2498, 2.89783]\n",
    "\n",
    "sim_parameters = {'T':'52C', 'steps':'1e9','print_energy_every': '1e5','print_conf_interval':'1e6'}"
   ]
  },
  {
   "cell_type": "code",
   "execution_count": null,
   "id": "383d2a98-584b-46a7-a261-046e303f6a17",
   "metadata": {},
   "outputs": [],
   "source": [
    "vmmc_sim_list[0].analysis.read_vmmc_op_data()\n",
    "vmmc_sim_list[0].analysis.calculate_sampling_and_probabilities()"
   ]
  },
  {
   "cell_type": "code",
   "execution_count": null,
   "id": "22dc4881-ed5a-484e-a0f0-37e28c10fd2f",
   "metadata": {
    "tags": []
   },
   "outputs": [],
   "source": [
    "with plt.style.context(['science', 'no-latex', 'bright']):\n",
    "    ax = us.wham.plt_fig() \n",
    "    vmmc_replica_generator.plot_mean_free_energy_with_error_bars(num_bins=500, ax=ax, confidence_level=0.95, label='VMMC discrete made continuous 52C')\n",
    "    # us_1.wham.plot_free_energy(confidence_level=0.99, ax=ax, errorevery=10, label='Continuous umbrella sampling 52C all bonds')\n",
    "    us.wham.plot_free_energy(confidence_level=0.99, ax=ax, errorevery=10, label='Continuos umbrella sampling 52C only intended bonds')\n",
    "    ax.set_xlim(-0.1,8)\n",
    "    plt.ylim(-0.1,9)\n",
    "plt.legend(fontsize=6)"
   ]
  },
  {
   "cell_type": "code",
   "execution_count": null,
   "id": "d1df2f82-d20b-4fa8-a471-276083654afb",
   "metadata": {
    "tags": []
   },
   "outputs": [],
   "source": [
    "with plt.style.context(['science', 'no-latex', 'bright']):\n",
    "    ax = us.wham.plt_fig() \n",
    "    # vmmc_replica_generator.plot_mean_free_energy_with_error_bars(num_bins=500, ax=ax, confidence_level=0.95, label='VMMC discrete made continuous 52C')\n",
    "    us_1.wham.plot_free_energy(confidence_level=0.99, ax=ax, errorevery=10, label='Continuous umbrella sampling 52C all bonds')\n",
    "    us.wham.plot_free_energy(confidence_level=0.99, ax=ax, errorevery=10, label='Continuos umbrella sampling 52C only intended bonds')\n",
    "    # ax.set_xlim(-0.1,8)\n",
    "    # plt.ylim(-0.1,9)\n",
    "plt.legend(fontsize=6)"
   ]
  },
  {
   "cell_type": "markdown",
   "id": "2656d4ca-ef84-4773-8776-67e3b212d055",
   "metadata": {},
   "source": [
    "<font size='7'><a class=\"anchor\" id=\"3\"></a> <h2 align=\"center\"> <font color='black'>Umbrella sampling melting</font></h2> "
   ]
  },
  {
   "cell_type": "code",
   "execution_count": null,
   "id": "47505920-3803-4f54-9b7f-f8c1145c8fa8",
   "metadata": {},
   "outputs": [],
   "source": [
    "simulation_manager = SimulationManager()\n",
    "\n",
    "path = os.path.abspath('/scratch/mlsample/ipy_oxDNA/ipy_oxdna_examples')\n",
    "file_dir = f'{path}/duplex_melting'\n",
    "system = 'us_melting_52_cpu'\n",
    "\n",
    "com_list = '8,9,10,11,12,13,14,15'\n",
    "ref_list = '0,1,2,3,4,5,6,7'\n",
    "xmin = 0\n",
    "xmax = 6\n",
    "n_windows = 100\n",
    "\n",
    "stiff = 0.8\n",
    "\n",
    "equlibration_parameters = {'backend':'CPU','steps':'1e7','print_energy_every': '5e6',\n",
    "                           'print_conf_interval':'5e6', \"CUDA_list\": \"no\",\n",
    "                           'use_edge': 'false', 'refresh_vel': '1',\n",
    "                           'fix_diffusion': '0', 'fix_diffusion_every': '1000',\n",
    "                           'T':'52C'\n",
    "                          }\n",
    "\n",
    "production_parameters ={'backend':'CPU','steps':'2e9','print_energy_every': '2e7',\n",
    "                        'print_conf_interval':'2e7', \"CUDA_list\": \"no\",\n",
    "                        'use_edge': 'false', 'refresh_vel': '1',\n",
    "                        'fix_diffusion': '0', 'fix_diffusion_every': '1000',\n",
    "                        'T':'52C'\n",
    "                        }\n",
    "\n",
    "us_1 = MeltingUmbrellaSampling(file_dir, system, clean_build=True)\n"
   ]
  },
  {
   "cell_type": "code",
   "execution_count": null,
   "id": "e68b0954-5d24-4f67-a674-2d734321aa4b",
   "metadata": {},
   "outputs": [],
   "source": [
    "simulation_manager = SimulationManager()\n",
    "\n",
    "path = os.path.abspath('/scratch/mlsample/ipy_oxDNA/ipy_oxdna_examples')\n",
    "file_dir = f'{path}/duplex_melting'\n",
    "system = 'us_melting_52_no_non_canonical_10'\n",
    "\n",
    "com_list = '8,9,10,11,12,13,14,15'\n",
    "ref_list = '0,1,2,3,4,5,6,7'\n",
    "xmin = 0\n",
    "xmax = 6\n",
    "n_windows = 100\n",
    "\n",
    "stiff = 0.8\n",
    "\n",
    "equlibration_parameters = {'backend':'CPU','steps':'1e7','print_energy_every': '5e6',\n",
    "                           'print_conf_interval':'5e6', \"CUDA_list\": \"no\",\n",
    "                           'use_edge': 'false', 'refresh_vel': '1',\n",
    "                           'fix_diffusion': '0', 'fix_diffusion_every': '1000',\n",
    "                           'T':'52C'\n",
    "                          }\n",
    "\n",
    "production_parameters ={'backend':'CPU','steps':'2e9','print_energy_every': '2e7',\n",
    "                        'print_conf_interval':'2e7', \"CUDA_list\": \"no\",\n",
    "                        'use_edge': 'false', 'refresh_vel': '1',\n",
    "                        'fix_diffusion': '0', 'fix_diffusion_every': '1000',\n",
    "                        'T':'52C'\n",
    "                        }\n",
    "\n",
    "us = MeltingUmbrellaSampling(file_dir, system, clean_build=True)\n"
   ]
  },
  {
   "cell_type": "markdown",
   "id": "b0cee52a-1d9d-4b0f-accc-9b84d9977cf6",
   "metadata": {},
   "source": [
    "<font size='6'><a class=\"anchor\" id=\"3\"></a> <h2 align=\"center\"> <font color='black'>Build and run</font></h2> "
   ]
  },
  {
   "cell_type": "code",
   "execution_count": null,
   "id": "2620c3e4-0827-45cd-a8e3-4ed243f3ad41",
   "metadata": {
    "tags": []
   },
   "outputs": [],
   "source": [
    "us.build_equlibration_runs(simulation_manager, n_windows, com_list, ref_list, stiff, xmin, xmax, equlibration_parameters,\n",
    "                           observable=True, sequence_dependant=False, print_every=10, name='com_distance.txt',\n",
    "                           continue_run=False)"
   ]
  },
  {
   "cell_type": "code",
   "execution_count": null,
   "id": "68a8114b-03ce-4b2f-84fc-4d24ebec08e4",
   "metadata": {},
   "outputs": [],
   "source": [
    "us.modify_topology_for_unique_pairing()"
   ]
  },
  {
   "cell_type": "code",
   "execution_count": null,
   "id": "e874d5bb-1ec0-4933-aeff-510584c4c56c",
   "metadata": {
    "tags": []
   },
   "outputs": [],
   "source": [
    "simulation_manager.run(cpu_run=True, gpu_mem_block=False)"
   ]
  },
  {
   "cell_type": "code",
   "execution_count": null,
   "id": "d5b5fc79-21be-4af9-be11-0d3024e35522",
   "metadata": {
    "tags": []
   },
   "outputs": [],
   "source": [
    "us.build_production_runs(simulation_manager, n_windows, com_list, ref_list, stiff, xmin, xmax, production_parameters,\n",
    "                           observable=True, sequence_dependant=False, print_every=10, name='com_distance.txt',\n",
    "                        continue_run=False)"
   ]
  },
  {
   "cell_type": "code",
   "execution_count": null,
   "id": "ab6325d1-025d-4ef3-82ff-b7378b383252",
   "metadata": {
    "tags": []
   },
   "outputs": [],
   "source": [
    "simulation_manager.run(cpu_run=True, gpu_mem_block=False)"
   ]
  },
  {
   "cell_type": "code",
   "execution_count": null,
   "id": "aa7eabbd-67b2-4eca-bfa6-8d46bfbbddf3",
   "metadata": {
    "tags": []
   },
   "outputs": [],
   "source": [
    "dir(us.equlibration_sims[0].sim_files)"
   ]
  },
  {
   "cell_type": "markdown",
   "id": "81c298c0-211f-4436-8c60-310166a88be8",
   "metadata": {},
   "source": [
    "<font size='6'><a class=\"anchor\" id=\"3\"></a> <h2 align=\"center\"> <font color='black'>Run time analysis methods</font></h2> "
   ]
  },
  {
   "cell_type": "code",
   "execution_count": null,
   "id": "8101f548-bfaf-4905-9fac-1055bccd7fbb",
   "metadata": {
    "tags": []
   },
   "outputs": [],
   "source": [
    "us.analysis.view_conf('eq', 7)"
   ]
  },
  {
   "cell_type": "code",
   "execution_count": null,
   "id": "d5fc8d79-e198-4562-b82d-d545a5ae4ddf",
   "metadata": {
    "tags": []
   },
   "outputs": [],
   "source": [
    "us.com_distance_observable(com_list, ref_list, print_every=10)\n",
    "us.hb_list_observable(print_every=10)\n",
    "plt.figure(dpi=50)\n",
    "for idx in range(0,100,1):\n",
    "    us.analysis.hist_observable('prod', idx, observable=us.observables_list[0])#, sliding_window=False)#, bins=200)#)\n",
    "# plt.legend(fontsize=4)"
   ]
  },
  {
   "cell_type": "code",
   "execution_count": null,
   "id": "6ac137c1-689e-4f2e-a524-2fc182ee5122",
   "metadata": {
    "tags": []
   },
   "outputs": [],
   "source": [
    "for idx in range(0,48):\n",
    "    print(idx)\n",
    "    us.equlibration_sims[idx].sim_files.last_conf"
   ]
  },
  {
   "cell_type": "code",
   "execution_count": null,
   "id": "6a3a5730-70bc-494a-a4d3-68c74c783489",
   "metadata": {
    "tags": []
   },
   "outputs": [],
   "source": [
    "us.analysis.view_conf('eq', 13)"
   ]
  },
  {
   "cell_type": "code",
   "execution_count": null,
   "id": "defef66e-3e6e-4f3d-b521-fff04e107d4b",
   "metadata": {
    "tags": []
   },
   "outputs": [],
   "source": [
    "wham_dir = os.path.abspath('/scratch/mlsample/ipy_oxDNA/wham/wham')\n",
    "n_bins = '200'\n",
    "tol = '1e-5'\n",
    "n_boot = '0'\n",
    "us.wham_run(wham_dir, xmin, xmax, stiff, n_bins, tol, n_boot)"
   ]
  },
  {
   "cell_type": "code",
   "execution_count": null,
   "id": "f7c1b071-5b8a-4050-87bd-401cea9fab85",
   "metadata": {
    "tags": []
   },
   "outputs": [],
   "source": [
    "with plt.style.context(['science', 'no-latex', 'bright']):\n",
    "    ax = us.wham.plt_fig() \n",
    "    vmmc_replica_generator.plot_mean_free_energy_with_error_bars(num_bins=500, ax=ax, confidence_level=0.95, label='VMMC discrete made continuous 52C')\n",
    "    us.wham.plot_free_energy(confidence_level=0.99, ax=ax, errorevery=10, label='Continuos umbrella sampling 52C only intended bonds')\n",
    "    # ax.set_xlim(-0.1,8)\n",
    "    # plt.ylim(-0.1,9)\n",
    "plt.legend(fontsize=6)"
   ]
  },
  {
   "cell_type": "code",
   "execution_count": null,
   "id": "009989b7-e78f-40be-a2b4-4c46c3623058",
   "metadata": {
    "tags": []
   },
   "outputs": [],
   "source": [
    "us.free"
   ]
  },
  {
   "cell_type": "markdown",
   "id": "17936b7d-2a2f-40fd-be06-0747826ac283",
   "metadata": {},
   "source": [
    "<font size='8'><a class=\"anchor\" id=\"3\"></a> <h2 align=\"center\"> <font color='black'>Post run reinitalization </font></h2> "
   ]
  },
  {
   "cell_type": "code",
   "execution_count": null,
   "id": "1667138b-a9d1-4961-ab5d-d0ed5157644a",
   "metadata": {},
   "outputs": [],
   "source": [
    "path = os.path.abspath('/scratch/mlsample/ipy_oxDNA/ipy_oxdna_examples')\n",
    "file_dir = f'{path}/duplex_melting'\n",
    "systems = ['us_melting_10', 'us_melting', 'us_melting_30','us_melting_40', 'us_melting_62']\n",
    "\n",
    "us_list = [MeltingUmbrellaSampling(file_dir, system) for system in systems]"
   ]
  },
  {
   "cell_type": "code",
   "execution_count": null,
   "id": "a3e78e08-1c81-4bf2-b5ae-cebed436278b",
   "metadata": {},
   "outputs": [],
   "source": [
    "us_list[0].fig_ax()\n",
    "\n",
    "for us in us_list:\n",
    "    us.wham.plot_free_energy(ax=us_list[0].ax, errorevery=10)\n",
    "plt.legend([f'{10 + 273}K', f'{20 + 273}K', f'{30 + 273}K', f'{40 + 273}K', f'{62 + 273}K'])\n",
    "plt.title('8nt Duplex Melting Free Energy Profile')\n",
    "plt.xlabel('COM Distance (nm)')"
   ]
  },
  {
   "cell_type": "markdown",
   "id": "a5d1befc-f0ae-4d96-ae85-028a1bed7b30",
   "metadata": {},
   "source": [
    "<font size='6'><a class=\"anchor\" id=\"3\"></a> <h2 align=\"center\"> <font color='black'>Convergence analysis </font></h2> "
   ]
  },
  {
   "cell_type": "code",
   "execution_count": null,
   "id": "b8a593a6-bf93-4670-84f7-bdb621533a24",
   "metadata": {
    "tags": []
   },
   "outputs": [],
   "source": [
    "n_data = 50000\n",
    "\n",
    "n_chunks = 2\n",
    "data_added_per_iteration = 3\n",
    "\n",
    "wham_dir = os.path.abspath('/scratch/mlsample/ipy_oxDNA/wham/wham')\n",
    "n_bins = '200'\n",
    "tol = '1e-5'\n",
    "n_boot = '0'\n",
    "xmin = 0\n",
    "xmax = 6\n",
    "n_windows = 50\n",
    "\n",
    "stiff = 0.8\n",
    "\n",
    "for us in us_list:\n",
    "    us.convergence_analysis(n_chunks, data_added_per_iteration, wham_dir, xmin, xmax, stiff, n_bins, tol, n_boot)"
   ]
  },
  {
   "cell_type": "code",
   "execution_count": null,
   "id": "baa08371-ac8a-4c35-8bcb-4cb895dedcd9",
   "metadata": {
    "tags": []
   },
   "outputs": [],
   "source": [
    "us.wham.plot_truncated_free_energy()\n",
    "plt.legend()\n",
    "plt.title(us.system)\n",
    "us.wham.plot_chunks_free_energy()\n",
    "plt.legend()\n",
    "plt.title(us.system)"
   ]
  },
  {
   "cell_type": "code",
   "execution_count": null,
   "id": "21726b7f-a9b6-4e88-8d88-f886c6310c37",
   "metadata": {
    "tags": []
   },
   "outputs": [],
   "source": [
    "n_data = 50000\n",
    "\n",
    "n_chunks = 2\n",
    "data_added_per_iteration = 3\n",
    "\n",
    "wham_dir = os.path.abspath('/scratch/mlsample/ipy_oxDNA/wham/wham')\n",
    "n_bins = '200'\n",
    "tol = '1e-5'\n",
    "n_boot = '0'\n",
    "xmin = 0\n",
    "xmax = 8\n",
    "n_windows = 95\n",
    "\n",
    "stiff = 0.8\n",
    "\n",
    "for us in us_list:\n",
    "    if 'us_melting_62' in us.system:\n",
    "        us.convergence_analysis(n_chunks, data_added_per_iteration, wham_dir, xmin, 5, stiff, n_bins, tol, n_boot)\n",
    "    else:\n",
    "        us.convergence_analysis(n_chunks, data_added_per_iteration, wham_dir, xmin, xmax, stiff, n_bins, tol, n_boot)"
   ]
  },
  {
   "cell_type": "code",
   "execution_count": null,
   "id": "77a5c93b-4a89-4033-bd5a-7b43d6b9a7d2",
   "metadata": {
    "tags": []
   },
   "outputs": [],
   "source": [
    "for us in us_list:\n",
    "    \n",
    "    us.wham.plot_truncated_free_energy()\n",
    "    plt.legend()\n",
    "    plt.title(us.system)\n",
    "    us.wham.plot_chunks_free_energy()\n",
    "    plt.legend()\n",
    "    plt.title(us.system)"
   ]
  },
  {
   "cell_type": "markdown",
   "id": "f9d13ef0-3383-48f4-94a9-81e9c10adc9f",
   "metadata": {},
   "source": [
    "<font size='6'><a class=\"anchor\" id=\"3\"></a> <h2 align=\"center\"> <font color='black'>In progress: Com unbiasing </font></h2> "
   ]
  },
  {
   "cell_type": "code",
   "execution_count": null,
   "id": "3db47859-c87d-4f91-93e1-1d5e13494402",
   "metadata": {
    "tags": []
   },
   "outputs": [],
   "source": [
    "xmin = 0\n",
    "xmax = 6\n",
    "n_windows = 100\n",
    "stiff = 0.8\n",
    "max_hb = 8\n",
    "\n",
    "us.unbias_com_to_hb(xmin, xmax, n_windows, stiff, max_hb)"
   ]
  },
  {
   "cell_type": "code",
   "execution_count": null,
   "id": "1454860d-f484-4ea4-94e8-7e04ec3254f0",
   "metadata": {},
   "outputs": [],
   "source": [
    "x_range = np.round(np.linspace(xmin, xmax, (n_windows + 1))[1:], 3)\n",
    "\n",
    "1 / (0.5 * stiff * (x_range[0] - list(us.com_by_window.values())[0][0][0])**2)"
   ]
  },
  {
   "cell_type": "code",
   "execution_count": null,
   "id": "bf4e6069-62df-49bb-aa2b-9f42454de68a",
   "metadata": {},
   "outputs": [],
   "source": [
    "list(us.com_by_window.values())[0][0][0]"
   ]
  },
  {
   "cell_type": "code",
   "execution_count": null,
   "id": "1e3266ac-4f4a-4818-bd6d-2f4b04459ee5",
   "metadata": {
    "tags": []
   },
   "outputs": [],
   "source": [
    "us.get_bias_potential_value(xmin, xmax, n_windows, stiff)\n",
    "weight = 1 / us.umbrella_bias[0]"
   ]
  },
  {
   "cell_type": "code",
   "execution_count": null,
   "id": "04383c61-6a47-46a0-9798-79281e50c8bb",
   "metadata": {},
   "outputs": [],
   "source": [
    "sum(weight.values)"
   ]
  },
  {
   "cell_type": "code",
   "execution_count": null,
   "id": "e5d6155d-4991-4c84-937c-adf1cd227d7f",
   "metadata": {},
   "outputs": [],
   "source": [
    "us.make_last_hist_files()"
   ]
  },
  {
   "cell_type": "code",
   "execution_count": null,
   "id": "befdb5a3-f445-4ea1-ab4d-3e1e877a1a81",
   "metadata": {
    "tags": []
   },
   "outputs": [],
   "source": [
    "normalized_bins = {}\n",
    "\n",
    "discrete_bins = list(range(max_hb + 1))\n",
    "for key, value in us.unbiased_discrete_windows.items():\n",
    "    normalized_bins[key] = value / sum(value)"
   ]
  },
  {
   "cell_type": "code",
   "execution_count": null,
   "id": "5d29ca1d-093c-4abc-9b88-49dbb64941f2",
   "metadata": {
    "tags": []
   },
   "outputs": [],
   "source": [
    "normalized_bins"
   ]
  },
  {
   "cell_type": "code",
   "execution_count": null,
   "id": "ad4e2a4c-c466-4d89-8027-9bd792859423",
   "metadata": {
    "tags": []
   },
   "outputs": [],
   "source": [
    "hist = np.zeros(int(max_hb + 1))\n",
    "for key, value in normalized_bins.items():\n",
    "    hist += value\n",
    "    \n",
    "hist = hist / sum(hist)\n",
    "plt.plot(discrete_bins, -np.log(hist))\n"
   ]
  },
  {
   "cell_type": "code",
   "execution_count": null,
   "id": "8ebfb726-f060-4fcd-a7c9-72b295ccc18a",
   "metadata": {
    "tags": []
   },
   "outputs": [],
   "source": [
    "us.get_biases()"
   ]
  },
  {
   "cell_type": "code",
   "execution_count": null,
   "id": "2ef22f8a-125b-4c2e-903c-b09c44131aba",
   "metadata": {
    "tags": []
   },
   "outputs": [],
   "source": [
    "us.run_wham_discete(max_hb)"
   ]
  },
  {
   "cell_type": "code",
   "execution_count": null,
   "id": "b718c8b6-9ad6-4598-ae70-24e51a5f0f4d",
   "metadata": {},
   "outputs": [],
   "source": [
    "us.discrete_hist"
   ]
  },
  {
   "cell_type": "code",
   "execution_count": null,
   "id": "9dcd36db-4228-4722-aa9a-c851f4652c35",
   "metadata": {},
   "outputs": [],
   "source": [
    "plt.plot(us.discrete_hist.keys(), -np.log(list(us.discrete_hist.values())), label='Continuous made discrete')\n",
    "plt.plot(range(9), vmmc_sim_list[0].statistics['wt_free'], label='discrete')\n",
    "# plt.plot(discrete_bins, -np.log(hist))\n",
    "plt.legend()"
   ]
  },
  {
   "cell_type": "code",
   "execution_count": null,
   "id": "4af521dc-bb91-464e-818a-67a09a5f74e4",
   "metadata": {
    "tags": []
   },
   "outputs": [],
   "source": [
    "us.hb_by_window[0].shape[0]"
   ]
  },
  {
   "cell_type": "code",
   "execution_count": null,
   "id": "e076c2d3-a259-4ced-85c4-cab7bb53c25d",
   "metadata": {},
   "outputs": [],
   "source": [
    "vmmc_sim_list[0].analysis.read_vmmc_op_data()"
   ]
  },
  {
   "cell_type": "code",
   "execution_count": null,
   "id": "a9e32ea6-36cb-4c20-ba4d-53ab08852706",
   "metadata": {},
   "outputs": [],
   "source": [
    "vmmc_sim_list[0].analysis.calculate_sampling_and_probabilities()"
   ]
  },
  {
   "cell_type": "code",
   "execution_count": null,
   "id": "8d9cba2c-dc41-4885-b5a0-6c706de4cc7c",
   "metadata": {},
   "outputs": [],
   "source": [
    "plt.plot(range(9), vmmc_sim_list[0].statistics['wt_free'])"
   ]
  },
  {
   "cell_type": "code",
   "execution_count": null,
   "id": "c6c9ace3-93d6-4f9a-baa0-8ef18384ce80",
   "metadata": {
    "tags": []
   },
   "outputs": [],
   "source": [
    "plt.plot(vmmc_sim_list[0].vmmc_df['h_bonds'], np.log(vmmc_sim_list[0].vmmc_df['wt_occ']))"
   ]
  },
  {
   "cell_type": "code",
   "execution_count": null,
   "id": "a166d879-ecb7-4807-a012-22d2a6253dc4",
   "metadata": {},
   "outputs": [],
   "source": [
    "vmmc_sim_list[0].analysis.calculate_weighted_histogram()"
   ]
  },
  {
   "cell_type": "code",
   "execution_count": null,
   "id": "be10d781-dacf-4dcd-8ce3-de7e7798cf16",
   "metadata": {},
   "outputs": [],
   "source": [
    "vmmc_sim_list[0].analysis.calculate_sampling_and_probabilities()"
   ]
  },
  {
   "cell_type": "code",
   "execution_count": null,
   "id": "71b2a5de-593a-42ed-abb2-d997ba40786a",
   "metadata": {
    "tags": []
   },
   "outputs": [],
   "source": [
    "import numpy as np\n",
    "biases = np.array(us.get_biases())\n",
    "# biases = [float(bias) / ((273 + 20) / 3000) for bias in biases]\n",
    "free_shift = [float(bias) for bias in biases]\n",
    "bins = np.linspace(0, 8, 200)\n",
    "com_by_window = us.get_com_distance_by_window()\n",
    "histograms = [np.histogram(coms, bins=bins) for coms in com_by_window.values()]"
   ]
  },
  {
   "cell_type": "code",
   "execution_count": null,
   "id": "75736662-ef47-4aa3-a872-602226092aa9",
   "metadata": {},
   "outputs": [],
   "source": [
    "com_by_window"
   ]
  },
  {
   "cell_type": "code",
   "execution_count": null,
   "id": "c0d621cb-d40e-4ac6-8d01-1e0be105b322",
   "metadata": {},
   "outputs": [],
   "source": [
    "# Optimize the weighted property calculation function by vectorizing operations where possible\n",
    "def calculate_weighted_property_optimized(com_distance_dfs, hb_list_dfs, metadata_df, F_i_values):\n",
    "    weighted_property = {}\n",
    "    # Constants\n",
    "    K_B = 1  # Boltzmann constant in simulation units\n",
    "    T = 1  # Temperature in simulation units\n",
    "    \n",
    "    # Reset the index of metadata DataFrame\n",
    "    metadata_df = metadata_df.reset_index(drop=True)\n",
    "    \n",
    "    for i, (com_distance_df, hb_list_df) in enumerate(zip(com_distance_dfs.values(), hb_list_dfs.values())):\n",
    "        # Reset the index for both DataFrames for consistent indexing\n",
    "        com_distance_df = com_distance_df.reset_index(drop=True)\n",
    "        hb_list_df = hb_list_df.reset_index(drop=True)\n",
    "        \n",
    "        # Fetch window-specific parameters\n",
    "        k_i = metadata_df.loc[i, 'Spring']\n",
    "        x_0_i = metadata_df.loc[i, 'Loc_win_min']\n",
    "        F_i = F_i_values[i]\n",
    "        \n",
    "        # Vectorized calculation of the weighting factor (Equation 13 in the WHAM paper)\n",
    "        weighting_factor = np.exp((F_i - 0.5 * k_i * (com_distance_df['Value'] - x_0_i)**2) / (K_B * T))\n",
    "        \n",
    "        # Vectorized calculation of the weighted property (T(x))\n",
    "        hb_values = hb_list_df['Value']\n",
    "        weighted_numerator = weighting_factor * com_distance_df['Value']\n",
    "        weighted_denominator = weighting_factor\n",
    "        \n",
    "        for x, (numerator, denominator) in zip(hb_values, zip(weighted_numerator, weighted_denominator)):\n",
    "            if x not in weighted_property:\n",
    "                weighted_property[x] = {'numerator': 0.0, 'denominator': 0.0}\n",
    "            weighted_property[x]['numerator'] += numerator\n",
    "            weighted_property[x]['denominator'] += denominator\n",
    "    \n",
    "    # Calculate the final weighted property T(x) (Equation 14 in the WHAM paper)\n",
    "    weighted_property_result = {x: props['numerator'] / props['denominator'] for x, props in weighted_property.items()}\n",
    "    \n",
    "    return weighted_property_result\n",
    "\n",
    "# Re-run the weighted property calculation with the optimized function\n",
    "weighted_property_result_optimized = calculate_weighted_property_optimized(all_com_distance_dfs, all_h_bonds_dfs, metadata_df, F_i_values_fixed)\n",
    "\n",
    "weighted_property_result_optimized"
   ]
  },
  {
   "cell_type": "code",
   "execution_count": null,
   "id": "e80caa39-931c-496e-9afc-9a3647e4899e",
   "metadata": {
    "tags": []
   },
   "outputs": [],
   "source": [
    "def get_bias_potential_value(com_by_window, xmin, xmax, n_windows, stiff):\n",
    "    x_range = np.round(np.linspace(xmin, xmax, (n_windows + 1))[1:], 3)\n",
    "    umbrella_bias = [0.5 * stiff * (com_values - eq_pos)**2 for com_values, eq_pos in zip(com_by_window.values(), x_range)]\n",
    "    return umbrella_bias\n",
    "                     \n",
    "def weighted_average_time_series(biases, com_by_window, xmin, xmax, n_windows, stiff):\n",
    "    bias_potential_values = get_bias_potential_value(com_by_window, xmin, xmax, n_windows, stiff)\n",
    "    \n",
    "    exp_term = [np.exp(bias - free) for bias, free in zip(bias_potential_values, free_shift)]\n",
    "    \n",
    "    denominator = sum([sum(term) for term in exp_term])\n",
    "    \n",
    "    numberator = sum([sum(time_series * term) for time_series, term in zip(com_by_window, exp_term)])\n",
    "    \n",
    "    \n",
    "    return numberator / denominator\n",
    "        \n",
    "    \n",
    "    \n",
    "    \n",
    "def wham_probability_equation(histograms, free_shift, com_by_window, xmin, xmax, n_windows, stiff):\n",
    "    #get the histogram counts\n",
    "    counts = [hist[0] for hist in histograms]\n",
    "    #get hist bins\n",
    "    bins = histograms[0][1]\n",
    "    #compute the numerator\n",
    "    sum_of_counts_over_all_windows = sum(counts)\n",
    "    #\n",
    "    umbrella_bias = get_bias_potential_value(com_by_window, xmin, xmax, n_windows, stiff)\n",
    "    shift_minus_umbrella_bias = [ sum(np.exp(free - bias)) for free, bias in zip(free_shift, umbrella_bias)]\n",
    "    print(len(sum_of_counts_over_all_windows))\n",
    "    \n",
    "    return None\n",
    "\n",
    "wham_probability_equation(histograms, free_shift, com_by_window, xmin, xmax, n_windows, stiff)"
   ]
  },
  {
   "cell_type": "code",
   "execution_count": null,
   "id": "77dfa3ff-ec4b-4efe-87e3-6c030240070b",
   "metadata": {},
   "outputs": [],
   "source": [
    "histograms = [np.histogram(coms, bins=bins) for coms in com_by_window.values()]"
   ]
  },
  {
   "cell_type": "code",
   "execution_count": null,
   "id": "8066d274-a191-40dc-884e-4b51ebe34816",
   "metadata": {
    "tags": []
   },
   "outputs": [],
   "source": [
    "histograms"
   ]
  },
  {
   "cell_type": "code",
   "execution_count": null,
   "id": "ba47df6d-9246-435e-a0e0-06105d80bf55",
   "metadata": {},
   "outputs": [],
   "source": [
    "import numpy as np\n",
    "biases = np.array(us.get_biases())\n",
    "# biases = [float(bias) / ((273 + 20) / 3000) for bias in biases]\n",
    "free_shift = [float(bias) for bias in biases]\n",
    "bins = np.linspace(0, 8, 200)\n",
    "com_by_window = us.get_com_distance_by_window()\n",
    "histograms = [np.histogram(coms, bins=bins) for coms in com_by_window.values()]"
   ]
  },
  {
   "cell_type": "code",
   "execution_count": null,
   "id": "045c3c05-d159-4224-9f21-ab9c9738ab5a",
   "metadata": {
    "tags": []
   },
   "outputs": [],
   "source": []
  },
  {
   "cell_type": "code",
   "execution_count": null,
   "id": "82dc172d-1206-42a4-98a1-a313c1fded0a",
   "metadata": {
    "tags": []
   },
   "outputs": [],
   "source": [
    "def get_window_bias_potential_value(bins, xmin, xmax, n_windows, stiff):\n",
    "    x_range = np.round(np.linspace(xmin, xmax, (n_windows + 1))[1:], 3)\n",
    "    bins = bins[1:]\n",
    "    print(bins)\n",
    "    print(x_range)\n",
    "    diffrence = [com_values - eq_pos for com_values, eq_pos in zip(bins, x_range)]\n",
    "    umbrella_bias = [0.5 * stiff * (com_values - eq_pos)**2 for com_values, eq_pos in zip(bins, x_range)]\n",
    "    return diffrence\n",
    "\n",
    "get_window_bias_potential_value(bins, xmin, xmax, n_windows, stiff)\n"
   ]
  },
  {
   "cell_type": "code",
   "execution_count": null,
   "id": "74142028-e179-4ce2-abf6-2118070a7ee6",
   "metadata": {},
   "outputs": [],
   "source": [
    "#I want to \n",
    "umbrella_bias = get_bias_potential_value(bins, xmin, xmax, n_windows, stiff)\n",
    "com_values = list(com_by_window.values())"
   ]
  },
  {
   "cell_type": "code",
   "execution_count": null,
   "id": "bc7dd445-904a-4571-abdd-56b9b21c856f",
   "metadata": {
    "tags": []
   },
   "outputs": [],
   "source": [
    "umbrella_bias = get_bias_potential_value(bins, xmin, xmax, n_windows, stiff)\n",
    "umbrella_bias"
   ]
  },
  {
   "cell_type": "code",
   "execution_count": null,
   "id": "f78b43b1-2ce5-4750-8b81-59cebf7c7506",
   "metadata": {
    "tags": []
   },
   "outputs": [],
   "source": [
    "master_H = np.zeros(199)\n",
    "\n",
    "for (H, bins), free, bias in zip(histograms, free_shift, umbrella_bias):\n",
    "    # print(H)\n",
    "    # H = H * bias\n",
    "    # print(H)\n",
    "    H = np.array([-np.log(count) if count > 0 else 0 for count in H])\n",
    "    H = H - bias + free\n",
    "    # print(H)\n",
    "    # H = np.array([np.exp(-count) for count in H])\n",
    "    # H = np.array([count if count != 1 else 0 for count in H ])\n",
    "    print(H)\n",
    "    master_H += H\n",
    "\n",
    "master_H = master_H"
   ]
  },
  {
   "cell_type": "code",
   "execution_count": null,
   "id": "eef61007-6430-48f0-b880-8da9dcf31ea2",
   "metadata": {
    "tags": []
   },
   "outputs": [],
   "source": [
    "master_H /= sum(master_H)\n",
    "weight_avg = bins[1:] * master_H"
   ]
  },
  {
   "cell_type": "code",
   "execution_count": null,
   "id": "8e6e9e3d-885f-472b-9bcc-ce1dd10022cb",
   "metadata": {},
   "outputs": [],
   "source": [
    "sum(weight_avg) * 0.85"
   ]
  },
  {
   "cell_type": "code",
   "execution_count": null,
   "id": "c45bf023-ba0c-438a-a98b-317c97ab64b8",
   "metadata": {
    "tags": []
   },
   "outputs": [],
   "source": [
    "weight_avg"
   ]
  },
  {
   "cell_type": "code",
   "execution_count": null,
   "id": "809d9520-4604-4e5a-a199-fa68cec0789d",
   "metadata": {},
   "outputs": [],
   "source": [
    "plt.plot(bins[1:] * 0.85, master_H)"
   ]
  },
  {
   "cell_type": "code",
   "execution_count": null,
   "id": "d5a3991b-36dd-43c1-94a1-e13fc3c4e223",
   "metadata": {
    "tags": []
   },
   "outputs": [],
   "source": [
    "for (H, bins), bias in zip(histograms, biases):\n",
    "    plt.plot(bins[1:], -np.log(H) * bias)"
   ]
  },
  {
   "cell_type": "code",
   "execution_count": null,
   "id": "95692386-b48a-443e-b9b2-57bec538f681",
   "metadata": {
    "tags": []
   },
   "outputs": [],
   "source": [
    "master_H"
   ]
  },
  {
   "cell_type": "code",
   "execution_count": null,
   "id": "6f90ede0-0c9d-448f-af0b-32b6bf582aca",
   "metadata": {
    "tags": []
   },
   "outputs": [],
   "source": [
    "H"
   ]
  },
  {
   "cell_type": "code",
   "execution_count": null,
   "id": "cd8c2b96-4cb8-47d3-b559-6824f169650f",
   "metadata": {
    "tags": []
   },
   "outputs": [],
   "source": [
    "n_data = 50000\n",
    "\n",
    "n_chunks = 2\n",
    "data_added_per_iteration = 2\n",
    "\n",
    "wham_dir = os.path.abspath('/scratch/mlsample/ipy_oxDNA/wham/wham')\n",
    "n_bins = '200'\n",
    "tol = '1e-5'\n",
    "n_boot = '0'\n",
    "xmin = 0\n",
    "xmax = 5\n",
    "n_windows = 46\n",
    "\n",
    "stiff = 0.8\n",
    "\n",
    "us.convergence_analysis(n_chunks, data_added_per_iteration, wham_dir, xmin, xmax, stiff, n_bins, tol, n_boot)"
   ]
  },
  {
   "cell_type": "code",
   "execution_count": null,
   "id": "468d0632-6a01-4539-a2f4-ad4af95ebd8f",
   "metadata": {
    "tags": []
   },
   "outputs": [],
   "source": [
    "us.wham.plot_truncated_free_energy()\n",
    "plt.legend()\n",
    "us.wham.plot_chunks_free_energy()\n",
    "plt.legend()"
   ]
  },
  {
   "cell_type": "markdown",
   "id": "c71ba29e-4911-49af-8400-12898d59de11",
   "metadata": {},
   "source": [
    "<font size='8'><a class=\"anchor\" id=\"3\"></a> <h2 align=\"center\"> <font color='black'>Convergence analysis</font></h2>"
   ]
  },
  {
   "cell_type": "code",
   "execution_count": null,
   "id": "a81f4c12-7ba7-4e2d-a9d2-9cc25be06c75",
   "metadata": {
    "tags": []
   },
   "outputs": [],
   "source": [
    "maxes =  [free_energy['Free'] for free_energy in us.chunk_dirs_free]"
   ]
  },
  {
   "cell_type": "code",
   "execution_count": null,
   "id": "fffc3ec5-a67a-48dc-ada3-6d80bb8e4f4e",
   "metadata": {},
   "outputs": [],
   "source": [
    "for us in us_list:\n",
    "    us."
   ]
  },
  {
   "cell_type": "code",
   "execution_count": null,
   "id": "0e7b16e8-d483-42c8-a7f7-18300c4d0b03",
   "metadata": {},
   "outputs": [],
   "source": [
    "import pandas as pd\n",
    "import numpy as np"
   ]
  },
  {
   "cell_type": "code",
   "execution_count": null,
   "id": "7c8fa913-eac6-4945-becb-1d2a8b4446cc",
   "metadata": {},
   "outputs": [],
   "source": [
    "free = pd.read_csv(f'{us.system_dir}/production/com_dir/freefile', sep='\\t')"
   ]
  },
  {
   "cell_type": "code",
   "execution_count": null,
   "id": "4b489a85-e2e1-4b6a-a095-0cb5d2e42721",
   "metadata": {},
   "outputs": [],
   "source": [
    "free_vals = free.iloc[-95:].Free"
   ]
  },
  {
   "cell_type": "code",
   "execution_count": null,
   "id": "6bb07e1b-47d2-4077-9bdf-8999d66b17a0",
   "metadata": {},
   "outputs": [],
   "source": [
    "free_vals.iloc[1:]"
   ]
  },
  {
   "cell_type": "code",
   "execution_count": null,
   "id": "d6f3e104-271d-4eab-8b2b-484bab9eaf0c",
   "metadata": {
    "tags": []
   },
   "outputs": [],
   "source": [
    "H_vals = np.zeros(94)\n",
    "us.hb_list_observable(print_every=1e3)\n",
    "for idx, sim in enumerate(us.production_sims):\n",
    "    sim_dir = sim.sim_dir\n",
    "    file_name = us.observables_list[1]['output']['name']\n",
    "    df = pd.read_csv(f\"{sim_dir}/{file_name}\", header=None)\n",
    "    df = np.concatenate(np.array(df))\n",
    "    H, bins = np.histogram(df, density=False, bins=np.linspace(0, 8, 95))\n",
    "    H_vals += H"
   ]
  },
  {
   "cell_type": "code",
   "execution_count": null,
   "id": "2cde587c-5ca0-45cd-af38-ef5245b47b6f",
   "metadata": {},
   "outputs": [],
   "source": [
    "prob_H = H_vals / sum(H_vals)"
   ]
  },
  {
   "cell_type": "code",
   "execution_count": null,
   "id": "810126d7-f503-4116-8db3-a65e80d0e336",
   "metadata": {},
   "outputs": [],
   "source": [
    "plt.plot(bins[:-1], -np.log(prob_H))"
   ]
  },
  {
   "cell_type": "code",
   "execution_count": null,
   "id": "17f76af0-7840-4f48-b1d8-bcdc2f27c30d",
   "metadata": {},
   "outputs": [],
   "source": []
  },
  {
   "cell_type": "code",
   "execution_count": null,
   "id": "c2e081ee-ebd4-4a48-9f7b-dea2972c6f21",
   "metadata": {},
   "outputs": [],
   "source": [
    "file_name = us.observables_list[0]['output']['name']"
   ]
  }
 ],
 "metadata": {
  "kernelspec": {
   "display_name": "oxdnapy12",
   "language": "python",
   "name": "oxdnapy12"
  },
  "language_info": {
   "codemirror_mode": {
    "name": "ipython",
    "version": 3
   },
   "file_extension": ".py",
   "mimetype": "text/x-python",
   "name": "python",
   "nbconvert_exporter": "python",
   "pygments_lexer": "ipython3",
   "version": "3.12.0"
  }
 },
 "nbformat": 4,
 "nbformat_minor": 5
}
