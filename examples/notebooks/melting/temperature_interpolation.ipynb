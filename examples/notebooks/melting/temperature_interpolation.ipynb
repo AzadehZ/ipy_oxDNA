{
 "cells": [
  {
   "cell_type": "markdown",
   "id": "66b04adc-3b0a-4594-af25-f9a6741b5250",
   "metadata": {},
   "source": [
    "<font size='10'><h1 align=\"center\"><font color='blue'>iPy oxDNA Examples</font></h1>"
   ]
  },
  {
   "cell_type": "markdown",
   "id": "f73ab128-0835-4ab3-a462-7b4f290cf9f6",
   "metadata": {},
   "source": [
    "<center>\n",
    "<img src=\"oxDNA.png\">\n",
    "</center>"
   ]
  },
  {
   "cell_type": "markdown",
   "id": "40ec180e-1429-41d0-b13c-25eca753ef84",
   "metadata": {},
   "source": [
    "<font size='10'><a class=\"anchor\" id=\"3\"></a> <h2 align=\"center\"> <font color='black'>Duplex Melting</font></h2> "
   ]
  },
  {
   "cell_type": "code",
   "execution_count": null,
   "id": "01fe6b5c-b5b7-4a10-bcf2-856e875ca717",
   "metadata": {
    "execution": {
     "iopub.execute_input": "2023-10-30T19:31:07.782656Z",
     "iopub.status.busy": "2023-10-30T19:31:07.781936Z",
     "iopub.status.idle": "2023-10-30T19:31:09.921192Z",
     "shell.execute_reply": "2023-10-30T19:31:09.920737Z",
     "shell.execute_reply.started": "2023-10-30T19:31:07.782637Z"
    }
   },
   "outputs": [],
   "source": [
    "from ipy_oxdna.umbrella_sampling import ComUmbrellaSampling, MeltingUmbrellaSampling\n",
    "from ipy_oxdna.oxdna_simulation import SimulationManager, Simulation, Observable\n",
    "from ipy_oxdna.wham_analysis import collect_coms\n",
    "import os\n",
    "import matplotlib.pyplot as plt\n",
    "from vmmc import *\n",
    "from collections import Counter\n",
    "from ipy_oxdna.parameter_search import * \n",
    "import numpy as np\n",
    "from skopt import Optimizer\n",
    "from skopt.space import Categorical, Space\n",
    "from scipy.special import logsumexp\n",
    "from copy import deepcopy\n",
    "plt.style.use(['science', 'no-latex', 'bright'])\n",
    "\n",
    "%load_ext autoreload\n",
    "%autoreload 2\n",
    "%matplotlib inline"
   ]
  },
  {
   "cell_type": "code",
   "execution_count": null,
   "id": "b85f4d6a-d69f-48c5-a002-2d9ee673fa2b",
   "metadata": {
    "execution": {
     "iopub.execute_input": "2023-10-30T19:31:09.922402Z",
     "iopub.status.busy": "2023-10-30T19:31:09.922024Z",
     "iopub.status.idle": "2023-10-30T19:31:12.683502Z",
     "shell.execute_reply": "2023-10-30T19:31:12.682900Z",
     "shell.execute_reply.started": "2023-10-30T19:31:09.922383Z"
    }
   },
   "outputs": [],
   "source": [
    "path = os.path.abspath('/scratch/mlsample/ipy_oxDNA/ipy_oxdna_examples/duplex_melting/')\n",
    "\n",
    "system_name = 'multi_system_runs'\n",
    "\n",
    "condition = ['30C' ,'52C', '70C']\n",
    "\n",
    "systems = [f'duplex_{temp}_5_new_op' for temp in condition]\n",
    "\n",
    "file_dirs = [f'{path}/{system_name}' for _ in range(len(systems))]\n",
    "\n",
    "# temperature = '70C'\n",
    "\n",
    "com_list = '8,9,10,11,12,13,14,15'\n",
    "ref_list = '7,6,5,4,3,2,1,0'\n",
    "xmin = 0\n",
    "xmax = 15\n",
    "n_windows = 100\n",
    "starting_r0 = 1\n",
    "print_every = 1e4\n",
    "stiff = 5\n",
    "obs_filename = 'all_observables.txt'\n",
    "hb_contact_filename = 'hb_contacts.txt'\n",
    "\n",
    "pre_eq_steps = 1e6\n",
    "eq_steps = 5e6\n",
    "prod_steps = 2e8\n",
    "\n",
    "particle_indexes = [com_list, ref_list]\n",
    "hb_contact_observable = [{'idx':particle_indexes, 'name':f'{hb_contact_filename}', 'print_every':int(print_every)}]\n",
    "\n",
    "\n",
    "pre_equlibration_parameters_list = [{'backend':'CPU','steps':f'{pre_eq_steps}','print_energy_every': f'{pre_eq_steps}',\n",
    "                           'print_conf_interval':f'{pre_eq_steps}', \"CUDA_list\": \"no\",\n",
    "                           'use_edge': 'false', 'refresh_vel': '1',\n",
    "                           'fix_diffusion': '0', 'fix_diffusion_every': '1000',\n",
    "                           'T':f'{temperature}'} for temperature in condition]\n",
    "\n",
    "equlibration_parameters_list = [{'backend':'CPU','steps':f'{eq_steps}','print_energy_every': f'{eq_steps}',\n",
    "                           'print_conf_interval':f'{eq_steps}', \"CUDA_list\": \"no\",\n",
    "                           'use_edge': 'false', 'refresh_vel': '1',\n",
    "                           'fix_diffusion': '0', 'fix_diffusion_every': '1000',\n",
    "                           'T':f'{temperature}'} for temperature in condition]\n",
    "\n",
    "production_parameters_list = [{'backend':'CPU', 'steps':f'{prod_steps}','print_energy_every': f'{prod_steps}',\n",
    "                        'print_conf_interval':f'{prod_steps}', \"CUDA_list\": \"no\",\n",
    "                        'use_edge': 'false', 'refresh_vel': '1',\n",
    "                        'fix_diffusion': '0', 'fix_diffusion_every': '1000',\n",
    "                        'T':f'{temperature}'} for temperature in condition]\n",
    "\n",
    "us_list = [MeltingUmbrellaSampling(file_dir, sys, clean_build='force') for file_dir, sys in zip(file_dirs,systems)]\n",
    "\n",
    "simulation_manager = SimulationManager()"
   ]
  },
  {
   "cell_type": "code",
   "execution_count": null,
   "id": "3ab004d7-3867-47ad-aabd-9cb89348137a",
   "metadata": {
    "execution": {
     "iopub.execute_input": "2023-10-30T01:23:04.264471Z",
     "iopub.status.busy": "2023-10-30T01:23:04.263052Z",
     "iopub.status.idle": "2023-10-30T01:23:23.904748Z",
     "shell.execute_reply": "2023-10-30T01:23:23.904232Z",
     "shell.execute_reply.started": "2023-10-30T01:23:04.264441Z"
    }
   },
   "outputs": [],
   "source": [
    "for us, pre_equlibration_parameters in zip(us_list, pre_equlibration_parameters_list):\n",
    "    print(us.system)\n",
    "    us.build_pre_equlibration_runs(simulation_manager, n_windows, com_list, ref_list,\n",
    "                               stiff, xmin, xmax, pre_equlibration_parameters, starting_r0, pre_eq_steps,\n",
    "                               print_every=print_every, observable=True, protein=None, name=obs_filename,\n",
    "                               force_file=None, continue_run=False, custom_observable=hb_contact_observable)"
   ]
  },
  {
   "cell_type": "code",
   "execution_count": null,
   "id": "ba88115a-b28d-4a59-95b3-24c932b923df",
   "metadata": {
    "collapsed": true,
    "execution": {
     "iopub.execute_input": "2023-10-30T01:23:23.905923Z",
     "iopub.status.busy": "2023-10-30T01:23:23.905638Z",
     "iopub.status.idle": "2023-10-30T01:24:01.794538Z",
     "shell.execute_reply": "2023-10-30T01:24:01.793669Z",
     "shell.execute_reply.started": "2023-10-30T01:23:23.905909Z"
    },
    "jupyter": {
     "outputs_hidden": true
    },
    "scrolled": true,
    "tags": []
   },
   "outputs": [],
   "source": [
    "simulation_manager.worker_manager(cpu_run=True, gpu_mem_block=False)"
   ]
  },
  {
   "cell_type": "code",
   "execution_count": null,
   "id": "a4a242ce-69a9-46b9-b270-988e1d088d3c",
   "metadata": {
    "execution": {
     "iopub.execute_input": "2023-10-30T01:24:01.796731Z",
     "iopub.status.busy": "2023-10-30T01:24:01.795776Z",
     "iopub.status.idle": "2023-10-30T01:24:31.058523Z",
     "shell.execute_reply": "2023-10-30T01:24:31.057936Z",
     "shell.execute_reply.started": "2023-10-30T01:24:01.796709Z"
    }
   },
   "outputs": [],
   "source": [
    "for us, equlibration_parameters in zip(us_list, equlibration_parameters_list):\n",
    "    print(us.system)\n",
    "    us.build_equlibration_runs(simulation_manager, n_windows, com_list, ref_list,\n",
    "                               stiff, xmin, xmax, equlibration_parameters,\n",
    "                               print_every=print_every, observable=True, protein=None, name=obs_filename,\n",
    "                               force_file=None, continue_run=False, custom_observable=hb_contact_observable)"
   ]
  },
  {
   "cell_type": "code",
   "execution_count": null,
   "id": "8662cb23-9f54-4575-abe3-fe315b7190fa",
   "metadata": {
    "collapsed": true,
    "execution": {
     "iopub.execute_input": "2023-10-30T01:24:31.059895Z",
     "iopub.status.busy": "2023-10-30T01:24:31.059739Z",
     "iopub.status.idle": "2023-10-30T01:29:01.323143Z",
     "shell.execute_reply": "2023-10-30T01:29:01.322342Z",
     "shell.execute_reply.started": "2023-10-30T01:24:31.059881Z"
    },
    "jupyter": {
     "outputs_hidden": true
    },
    "scrolled": true,
    "tags": []
   },
   "outputs": [],
   "source": [
    "simulation_manager.worker_manager(cpu_run=True, gpu_mem_block=False)"
   ]
  },
  {
   "cell_type": "code",
   "execution_count": null,
   "id": "21995ab4-f14b-4710-a242-0464103fca50",
   "metadata": {
    "execution": {
     "iopub.execute_input": "2023-10-30T01:48:08.567089Z",
     "iopub.status.busy": "2023-10-30T01:48:08.566539Z",
     "iopub.status.idle": "2023-10-30T01:48:31.873202Z",
     "shell.execute_reply": "2023-10-30T01:48:31.872523Z",
     "shell.execute_reply.started": "2023-10-30T01:48:08.567071Z"
    }
   },
   "outputs": [],
   "source": [
    "for us, production_parameters in zip(us_list, production_parameters_list):\n",
    "    print(us.system)\n",
    "    us.build_production_runs(simulation_manager, n_windows, com_list, ref_list,\n",
    "                             stiff, xmin, xmax, production_parameters,\n",
    "                             observable=True, print_every=print_every ,protein=None, name=obs_filename,\n",
    "                             force_file=None, continue_run=8e8, custom_observable=hb_contact_observable)"
   ]
  },
  {
   "cell_type": "code",
   "execution_count": null,
   "id": "f335f406-33ec-442b-a1f6-e59b17140f02",
   "metadata": {
    "collapsed": true,
    "execution": {
     "iopub.execute_input": "2023-10-30T01:48:32.603631Z",
     "iopub.status.busy": "2023-10-30T01:48:32.603256Z",
     "iopub.status.idle": "2023-10-30T01:48:32.643201Z",
     "shell.execute_reply": "2023-10-30T01:48:32.642166Z",
     "shell.execute_reply.started": "2023-10-30T01:48:32.603616Z"
    },
    "jupyter": {
     "outputs_hidden": true
    },
    "scrolled": true,
    "tags": []
   },
   "outputs": [],
   "source": [
    "simulation_manager.run(cpu_run=True, gpu_mem_block=False)"
   ]
  },
  {
   "cell_type": "code",
   "execution_count": null,
   "metadata": {},
   "outputs": [],
   "source": [
    "simulation_manager.terminate_all()"
   ]
  },
  {
   "cell_type": "code",
   "execution_count": null,
   "metadata": {},
   "outputs": [],
   "source": [
    "for us in us_list:\n",
    "    us.observables_list = []\n",
    "    us.com_distance_observable(com_list, ref_list, print_every=print_every, name=obs_filename)\n",
    "    us.hb_list_observable(print_every=print_every, only_count='true', name=obs_filename)\n",
    "    us.force_energy_observable(print_every=print_every, name=obs_filename)\n",
    "    us.kinetic_energy_observable(print_every=print_every, name=obs_filename)\n",
    "    us.potential_energy_observable(print_every=print_every, name=obs_filename)\n",
    "\n",
    "all_observables = []\n",
    "for us in us_list[1:2]:\n",
    "    all_observables.append(us.analysis.read_all_observables('prod'))"
   ]
  },
  {
   "cell_type": "code",
   "execution_count": null,
   "metadata": {},
   "outputs": [],
   "source": [
    "names = ['backbone', 'bonded_excluded_volume', 'stacking', 'nonbonded_excluded_volume', 'hydrogen_bonding', 'cross_stacking', 'coaxial_stacking', 'debye_huckel']\n",
    "columns = ['com_distance', 'hb_list', 'force_energy', *names]\n",
    "\n",
    "\n",
    "fig, ax = plt.subplots(dpi=300)\n",
    "for idx, obs in enumerate(us_list[1].obs_df):\n",
    "    plt.plot(obs['steps'], obs['com_distance'].rolling(window=1).mean(), label=f'{idx}')\n",
    "plt.legend(fontsize=1)"
   ]
  },
  {
   "cell_type": "code",
   "execution_count": null,
   "metadata": {},
   "outputs": [],
   "source": [
    "temp_range = np.arange(30, 71, 2)\n",
    "\n",
    "temp_range"
   ]
  },
  {
   "cell_type": "code",
   "execution_count": null,
   "metadata": {},
   "outputs": [],
   "source": [
    "temp_range = np.arange(30, 71, 2)\n",
    "n_bins = 200\n",
    "xmin = 0\n",
    "xmax = 15\n",
    "max_hb = 8\n",
    "epsilon = 1e-5\n",
    "convergence_slice = 3\n",
    "\n",
    "us_list[1].wham_cont_and_disc_temp_interp_converg_analysis(convergence_slice, temp_range,\n",
    "                                                           n_bins, xmin, xmax,max_hb,\n",
    "                                                           epsilon=1e-5, reread_files=False,\n",
    "                                                           all_observables=True)"
   ]
  },
  {
   "cell_type": "code",
   "execution_count": null,
   "metadata": {},
   "outputs": [],
   "source": [
    "calculated_bin_centers, bin_edges = us_list[0].get_bins(xmin, xmax, n_bins=n_bins)\n",
    "\n",
    "fig, (ax1, ax2) = plt.subplots(1,2, dpi=600, figsize=(12,5), sharey=True, tight_layout=True)\n",
    "fig, ax = plt.subplots(dpi=200, figsize=(4,3), tight_layout=True)\n",
    "\n",
    "ax1.set_xlabel('Distance (nm)')\n",
    "ax2.set_xlabel('Number of HB')\n",
    "\n",
    "ax1.set_ylabel('Free Energy (kT)')\n",
    "# ax2.set_ylabel('Free Energy (kT)')\n",
    "for idx, free in enumerate(us_list[1].convergence_free):            \n",
    "    sub_index = free[1].argmin()\n",
    "    for f, temp_val in zip(free, temp_range):\n",
    "        if idx == 0:\n",
    "            ax1.plot(calculated_bin_centers*0.8518, f - f[sub_index], label=f'{temp_val}C') \n",
    "        else:\n",
    "            ax1.plot(calculated_bin_centers*0.8518, f - f[sub_index])\n",
    "        \n",
    "# ax1.legend(fontsize=6)\n",
    "\n",
    "\n",
    "for idx, free_discrete in enumerate(us_list[1].convergence_discrete_free_energy):\n",
    "    for f_discrete, temp_val in zip(free_discrete, temp_range):\n",
    "        ax2.plot(range(9), f_discrete - f_discrete[0], label=f'{temp_val}C Slice {idx}')\n",
    "# ax2.legend(fontsize=6)\n",
    "\n",
    "label = ''\n",
    "\n",
    "for idx, (inverted_finfs, x_fit, y_fit, Tm) in enumerate(zip(us_list[1].convergence_inverted_finfs, us_list[1].convergence_x_fit, us_list[1].convergence_y_fit, us_list[1].convergence_Tm)):\n",
    "    ax.scatter(temp_range, inverted_finfs, marker='o')\n",
    "    ax.plot(x_fit, y_fit, linestyle='--', linewidth=2, label=f'Tm = {Tm:.2f} C Slice {idx}')\n",
    "    # ax.axvline(x=Tm, color='r', linestyle='--', linewidth=2, label=f'{label}Tm = {Tm:.2f} °C')\n",
    "    ax.legend()   "
   ]
  },
  {
   "cell_type": "code",
   "execution_count": null,
   "metadata": {},
   "outputs": [],
   "source": [
    "temp_range = np.array([30, 52, 70])\n",
    "\n",
    "\n",
    "us_list[1].calculate_melting_temperature(temp_range)"
   ]
  },
  {
   "cell_type": "code",
   "execution_count": null,
   "metadata": {},
   "outputs": [],
   "source": [
    "label = ''\n",
    "\n",
    "plt.scatter(temp_range, us_list[1].inverted_finfs, marker='o', label=f'{label}Data')\n",
    "plt.plot(us_list[1].x_fit, us_list[1].y_fit, linestyle='--', linewidth=2, label=f'{label}Sigmoid Fit')\n",
    "plt.axvline(x=us_list[1].Tm, color='r', linestyle='--', linewidth=2, label=f'{label}Tm = {us_list[1].Tm:.2f} °C')\n",
    "\n",
    "# Add a vertical line at the melting temperature\n",
    "plt.legend()   "
   ]
  },
  {
   "cell_type": "code",
   "execution_count": null,
   "metadata": {},
   "outputs": [],
   "source": [
    "temp_range = np.array([30, 52, 70])\n",
    "n_bins = 500\n",
    "xmin = 0\n",
    "xmax = 15\n",
    "max_hb = 8\n",
    "epsilon = 1e-5\n",
    "convergence_slice = 'auto'\n",
    "\n",
    "us_list[1].wham_temp_interp_converg_analysis(convergence_slice, temp_range, n_bins, xmin, xmax, max_hb,\n",
    "                                      epsilon=1e-5, reread_files=False, all_observables=True, max_iterations=100000)\n",
    "    \n"
   ]
  },
  {
   "cell_type": "code",
   "execution_count": null,
   "metadata": {},
   "outputs": [],
   "source": [
    "temp_range = np.array([30, 52, 70])\n",
    "n_bins = 500\n",
    "xmin = 0\n",
    "xmax = 15\n",
    "max_hb = 8\n",
    "epsilon = 1e-5\n",
    "convergence_slice = 10\n",
    "max_hb = 8\n",
    "\n",
    "us_list[1].discrete_temp_interp_converg_analysis(convergence_slice, max_hb,\n",
    "                                                 temp_range, reread_files=False,\n",
    "                                                 all_observables=True)"
   ]
  },
  {
   "cell_type": "code",
   "execution_count": null,
   "metadata": {},
   "outputs": [],
   "source": [
    "fig, ax = plt.subplots(dpi=300)\n",
    "\n",
    "for free_discrete in us_list[1].convergence_discrete_free_energy:\n",
    "    for f_discrete in free_discrete:\n",
    "        ax.plot(range(9), f_discrete - f_discrete[0])"
   ]
  },
  {
   "cell_type": "code",
   "execution_count": null,
   "metadata": {},
   "outputs": [],
   "source": [
    "calculated_bin_centers, bin_edges = us_list[0].get_bins(xmin, xmax, n_bins=n_bins)\n",
    "\n",
    "\n",
    "fig, ax = plt.subplots(dpi=300)\n",
    "\n",
    "# for us, temp_val in zip(us_list, temp_range):\n",
    "#     us.wham.plot_free_energy(ax=ax, label=f'{temp_val}C Ground Truth')\n",
    "    \n",
    "for idx, free in enumerate(us_list[1].convergence_free):            \n",
    "    sub_index = free[1].argmin()\n",
    "    for f, temp_val in zip(free, temp_range):\n",
    "        ax.plot(calculated_bin_centers*0.8518, f - f[sub_index], label=f'{temp_val}C Slice {idx}') \n",
    "        \n",
    "plt.legend(fontsize=6)"
   ]
  },
  {
   "cell_type": "code",
   "execution_count": null,
   "metadata": {},
   "outputs": [],
   "source": [
    "# temp_range = np.array([30, 52, 70])   \n",
    "temp_range = np.arange(30, 70, 1)\n",
    "n_bins = 500\n",
    "xmin = 0\n",
    "xmax = 15\n",
    "max_hb = 8\n",
    "epsilon = 1e-5\n",
    "\n",
    "us_list[1].wham_temperature_interpolation(\n",
    "    temp_range, n_bins, xmin, xmax, max_hb,\n",
    "    epsilon=epsilon, reread_files=False, all_observables=True,\n",
    "    convergence_slice=slice(0, 10000))\n",
    "\n"
   ]
  },
  {
   "cell_type": "code",
   "execution_count": null,
   "metadata": {},
   "outputs": [],
   "source": [
    "for us in us_list:\n",
    "    us.free['Free'] = us.free['Free'] - us.free['Free'][10]"
   ]
  },
  {
   "cell_type": "code",
   "execution_count": null,
   "metadata": {},
   "outputs": [],
   "source": [
    "free_comparison = [free[0], free[22], free[-1]]\n",
    "temp_range_temp = [temp_range[0], temp_range[22], temp_range[-1]]"
   ]
  },
  {
   "cell_type": "code",
   "execution_count": null,
   "metadata": {},
   "outputs": [],
   "source": [
    "calculated_bin_centers, bin_edges = us_list[0].get_bins(xmin, xmax, n_bins=n_bins)\n",
    "with plt.style.context(['science', 'no-latex', 'bright']): \n",
    "\n",
    "    fig, ax = plt.subplots(dpi=300)\n",
    "    \n",
    "    \n",
    "    for us, temp_val in zip(us_list, temp_range):\n",
    "        us.wham.plot_free_energy(ax=ax, label=f'{temp_val}C Ground Truth')\n",
    "\n",
    "        \n",
    "    sub_index = free[1].argmin()\n",
    "    for f, temp_val in zip(free, temp_range):\n",
    "        # f = f / ((temp_val + 273.15) / 3000)\n",
    "        plt.plot(calculated_bin_centers*0.8518, f - f[sub_index], label=f'{temp_val:.1f}C Interpolated') \n",
    "        \n",
    "plt.legend(fontsize=1)"
   ]
  },
  {
   "cell_type": "code",
   "execution_count": null,
   "metadata": {},
   "outputs": [],
   "source": [
    "max_hb = 8\n",
    "temp_range = np.arange(30, 70, 1)\n",
    "all_pot_energy = us_list[1].temperature_interpolation(max_hb, temp_range, reread_files=False, all_observables=True)"
   ]
  },
  {
   "cell_type": "code",
   "execution_count": null,
   "metadata": {},
   "outputs": [],
   "source": [
    "free_dis = [f - f[0] for f in us_list[1].free_energy_discrete ]\n"
   ]
  },
  {
   "cell_type": "code",
   "execution_count": null,
   "metadata": {},
   "outputs": [],
   "source": [
    "free_dis_temp = [free_dis[0], free_dis[22],free_dis[-1]]\n",
    "temp_range_temp = [temp_range[0], temp_range[22], temp_range[-1]]"
   ]
  },
  {
   "cell_type": "code",
   "execution_count": null,
   "metadata": {},
   "outputs": [],
   "source": [
    "fig, ax = plt.subplots(dpi=300)\n",
    "ax.plot(range(9), vmmc_replica_generator.sim_list[0].statistics['wt_occ_70.0C_free']- vmmc_replica_generator.sim_list[0].statistics['wt_occ_70.0C_free'][0], label='70C Ground Truth')\n",
    "\n",
    "ax.plot(range(9), vmmc_replica_generator.sim_list[0].statistics['wt_occ_52.0C_free']- vmmc_replica_generator.sim_list[0].statistics['wt_occ_52.0C_free'][0], label='52C Ground Truth')\n",
    "\n",
    "ax.plot(range(9), vmmc_replica_generator.sim_list[0].statistics['wt_occ_34.0C_free']- vmmc_replica_generator.sim_list[0].statistics['wt_occ_34.0C_free'][0], label='34C Ground Truth')\n",
    "\n",
    "\n",
    "for temp, f in zip(temp_range_temp, free_dis_temp):\n",
    "    ax.plot(range(9), f, label=f'{temp}C')\n",
    "    \n",
    "plt.legend()"
   ]
  },
  {
   "cell_type": "code",
   "execution_count": null,
   "metadata": {},
   "outputs": [],
   "source": [
    "volume_correction = np.log((((us_list[1].box_size / 2) * np.sqrt(3))**3) / ((4/3)*np.pi*15**3))\n",
    "volume_correction      "
   ]
  },
  {
   "cell_type": "code",
   "execution_count": null,
   "metadata": {},
   "outputs": [],
   "source": [
    "names = ['backbone', 'bonded_excluded_volume', 'stacking', 'nonbonded_excluded_volume', 'hydrogen_bonding', 'cross_stacking', 'coaxial_stacking', 'debye_huckel']\n",
    "pot_energy = [innerlist[names].sum(axis=1) for innerlist in us_list[1].obs_df]\n",
    "force_energy = [innerlist['force_energy'] for innerlist in us_list[1].obs_df]\n",
    "\n",
    "all_pot_energy = [pot + force for pot, force in zip(pot_energy, force_energy)]\n",
    "all_pot_energy"
   ]
  },
  {
   "cell_type": "code",
   "execution_count": null,
   "metadata": {},
   "outputs": [],
   "source": [
    "pot_energy"
   ]
  },
  {
   "cell_type": "code",
   "execution_count": null,
   "metadata": {},
   "outputs": [],
   "source": [
    "def sigmoid(x, L, x0, k, b):\n",
    "    return L / (1 + np.exp(-k * (x - x0))) + b\n",
    "\n",
    "temperatures = temp_range\n",
    "probabilities = us_list[1].prob_discrete\n",
    "\n",
    "bound_states = probabilities[:,1:].sum(axis=1)\n",
    "unbound_states = probabilities[:,0]\n",
    "ratio = bound_states / unbound_states \n",
    "    \n",
    "finf = 1. + 1. / (2. * ratio) - np.sqrt((1. + 1. / (2. * ratio))**2 - 1.)\n",
    "\n",
    "inverted_finfs = 1 - finf\n",
    "\n",
    "# Fit the sigmoid function to the inverted data\n",
    "p0 = [max(inverted_finfs), np.median(temperatures), 1, min(inverted_finfs)]  # initial guesses for L, x0, k, b\n",
    "popt, _ = curve_fit(sigmoid, temperatures, inverted_finfs, p0, method='dogbox')\n",
    "    \n",
    "# Generate fitted data\n",
    "x_fit = np.linspace(min(temperatures), max(temperatures), 1000)\n",
    "y_fit = sigmoid(x_fit, *popt)\n",
    "\n",
    "\n",
    "idx = np.argmin(np.abs(y_fit - 0.5))\n",
    "Tm = x_fit[idx]"
   ]
  },
  {
   "cell_type": "code",
   "execution_count": null,
   "metadata": {},
   "outputs": [],
   "source": [
    "vmmc_replica_generator.sim_list[0].analysis.plot_melting_profiles()\n",
    "\n",
    "label= ''\n",
    "plt.scatter(temperatures, inverted_finfs, marker='o', label=f'{label}Data')\n",
    "plt.plot(x_fit, y_fit, linestyle='--', linewidth=2, label=f'{label}Sigmoid Fit')\n",
    "\n",
    "# Add a vertical line at the melting temperature\n",
    "plt.axvline(x=Tm, color='r', linestyle='--', linewidth=2, label=f'{label}Tm = {Tm:.2f} °C')\n",
    "plt.legend()    "
   ]
  },
  {
   "cell_type": "code",
   "execution_count": null,
   "metadata": {},
   "outputs": [],
   "source": [
    "us_list[1].calculate_melting_temperature()"
   ]
  },
  {
   "cell_type": "code",
   "execution_count": null,
   "metadata": {},
   "outputs": [],
   "source": [
    "name = 'all_observables.txt'\n",
    "com_list = '8,9,10,11,12,13,14,15'\n",
    "ref_list = '7,6,5,4,3,2,1,0'\n",
    "\n",
    "for us in us_list:\n",
    "    us.observables_list = []\n",
    "    us.com_distance_observable(com_list, ref_list, print_every=print_every, name=name)\n",
    "    us.hb_list_observable(print_every=print_every, only_count='true', name=name)\n",
    "    us.force_energy_observable(print_every=print_every, name=name)\n",
    "    us.potential_energy_observable(print_every=print_every, name=name)\n",
    "\n",
    "wham_dir = os.path.abspath('/scratch/mlsample/ipy_oxDNA/wham/wham')\n",
    "n_bins = '400'\n",
    "tol = '1e-12'\n",
    "n_boot = '0'\n",
    "\n",
    "xmin = 0\n",
    "xmax = 15\n",
    "n_windows = 100\n",
    "starting_r0 = 1\n",
    "print_every = 1e4\n",
    "stiff = 5\n",
    "\n",
    "for us in us_list:\n",
    "    us.wham_run(wham_dir, xmin, xmax, stiff, n_bins, tol, n_boot, all_observables=True)\n",
    "    \n",
    "n_chunks = 2\n",
    "data_added_per_iteration = 3\n",
    "\n",
    "for us in us_list:\n",
    "    us.wham.get_n_data_per_com_file()\n",
    "    us.convergence_analysis(n_chunks, data_added_per_iteration, wham_dir, xmin, xmax, stiff, n_bins, tol, n_boot)"
   ]
  },
  {
   "cell_type": "code",
   "execution_count": null,
   "metadata": {},
   "outputs": [],
   "source": [
    "for us in us_list:\n",
    "    us.wham.plot_truncated_free_energy()\n",
    "    plt.legend()\n",
    "    plt.title(us.system)\n",
    "    us.wham.plot_chunks_free_energy()\n",
    "    plt.legend()\n",
    "    plt.title(us.system)"
   ]
  },
  {
   "cell_type": "code",
   "execution_count": null,
   "metadata": {},
   "outputs": [],
   "source": [
    "simulation_manager.terminate_all()"
   ]
  },
  {
   "cell_type": "code",
   "execution_count": null,
   "id": "62fe9e7d-1139-47e4-bc80-7429bf8466a8",
   "metadata": {
    "collapsed": true,
    "jupyter": {
     "outputs_hidden": true
    },
    "tags": []
   },
   "outputs": [],
   "source": [
    "for us in us_list:\n",
    "    us.com_distance_observable(com_list, ref_list)\n",
    "\n",
    "\n",
    "for us in us_list:\n",
    "    plt.figure(dpi=200)\n",
    "    for idx in range(0,50,1):\n",
    "        us.analysis.view_observable('prod', idx, observable=us.observables_list[0], sliding_window=100)\n",
    "    # plt.legend([us.system], fontsize=7)"
   ]
  },
  {
   "cell_type": "code",
   "execution_count": null,
   "id": "0cc73883-b37c-4dea-9ccf-0af5f0479569",
   "metadata": {
    "execution": {
     "iopub.execute_input": "2023-10-30T19:41:55.055181Z",
     "iopub.status.busy": "2023-10-30T19:41:55.054747Z",
     "iopub.status.idle": "2023-10-30T19:41:56.557684Z",
     "shell.execute_reply": "2023-10-30T19:41:56.557086Z",
     "shell.execute_reply.started": "2023-10-30T19:41:55.055163Z"
    },
    "tags": []
   },
   "outputs": [],
   "source": [
    "path = os.path.abspath('/scratch/mlsample/ipy_oxDNA/ipy_oxdna_examples')\n",
    "systems = ['duplex_melting']\n",
    "\n",
    "file_dir_list = [f'{path}/{sys}' for sys in systems]\n",
    "sim_dir_list = [f'{file_dir}/vmmc_melting_replicas/vmmc_melting_rep' for sys, file_dir in zip(systems, file_dir_list)]\n",
    "\n",
    "n_replicas = 40\n",
    "vmmc_replica_generator = VmmcReplicas()\n",
    "\n",
    "vmmc_replica_generator.multisystem_replica(\n",
    "    systems,\n",
    "    n_replicas,\n",
    "    file_dir_list,\n",
    "    sim_dir_list\n",
    ")\n",
    "vmmc_sim_list = vmmc_replica_generator.sim_list\n",
    "queue_of_simulations = vmmc_replica_generator.queue_of_sims"
   ]
  },
  {
   "cell_type": "code",
   "execution_count": null,
   "id": "b5d99bda-d5f7-4624-a346-c8a1ae977ef3",
   "metadata": {
    "execution": {
     "iopub.execute_input": "2023-10-30T21:07:05.374738Z",
     "iopub.status.busy": "2023-10-30T21:07:05.374351Z",
     "iopub.status.idle": "2023-10-30T21:07:05.454522Z",
     "shell.execute_reply": "2023-10-30T21:07:05.453993Z",
     "shell.execute_reply.started": "2023-10-30T21:07:05.374722Z"
    }
   },
   "outputs": [],
   "source": [
    "vmmc_replica_generator.statistical_analysis_and_plot()"
   ]
  },
  {
   "cell_type": "code",
   "execution_count": null,
   "id": "0469e34e-8d07-439e-8e9d-8c6c0215443d",
   "metadata": {
    "execution": {
     "iopub.execute_input": "2023-10-30T19:29:18.153968Z",
     "iopub.status.busy": "2023-10-30T19:29:18.153220Z",
     "iopub.status.idle": "2023-10-30T19:29:18.330116Z",
     "shell.execute_reply": "2023-10-30T19:29:18.329644Z",
     "shell.execute_reply.started": "2023-10-30T19:29:18.153950Z"
    },
    "tags": []
   },
   "outputs": [],
   "source": [
    "fig, ax = plt.subplots()\n",
    "\n",
    "vmmc_replica_generator.plot_mean_free_energy_with_error_bars(num_bins=1000, errorevery=20,ax=ax)\n",
    "for us in us_list:\n",
    "    us.wham.plot_free_energy(ax = ax)\n",
    "plt.legend()\n",
    "plt.xlim(-0.1, 3)\n",
    "plt.ylim(-0.1,8.1)"
   ]
  },
  {
   "cell_type": "code",
   "execution_count": null,
   "id": "cecfd936-1dad-4582-8978-b0acae01aa3c",
   "metadata": {
    "execution": {
     "iopub.execute_input": "2023-10-30T18:32:57.842151Z",
     "iopub.status.busy": "2023-10-30T18:32:57.841861Z",
     "iopub.status.idle": "2023-10-30T18:34:15.798096Z",
     "shell.execute_reply": "2023-10-30T18:34:15.797576Z",
     "shell.execute_reply.started": "2023-10-30T18:32:57.842135Z"
    }
   },
   "outputs": [],
   "source": [
    "max_hb = 8\n",
    "temp_range = np.array([25, 30, 35, 40, 45, 50, 52, 55, 60, 65, 70])   \n",
    "us_list[0].temperature_interpolation(max_hb, temp_range, reread_files=False)"
   ]
  },
  {
   "cell_type": "code",
   "execution_count": null,
   "id": "fa21dc7a",
   "metadata": {},
   "outputs": [],
   "source": [
    "for free in us_list[0].free_energy_discrete:\n",
    "    plt.plot(range(9), free - free[0])\n",
    "    \n",
    "# plt.plot(range(9), vmmc_replica_generator.sim_list[0].statistics['wt_occ_34.0C_free'] - vmmc_replica_generator.sim_list[0].statistics['wt_occ_34.0C_free'][0])\n",
    "\n",
    "# plt.plot(range(9), vmmc_replica_generator.sim_list[0].statistics['wt_occ_70.0C_free']- vmmc_replica_generator.sim_list[0].statistics['wt_occ_70.0C_free'][0])\n",
    "\n",
    "# plt.plot(range(9), vmmc_replica_generator.sim_list[0].statistics['wt_occ_52.0C_free']- vmmc_replica_generator.sim_list[0].statistics['wt_occ_52.0C_free'][0])\n",
    "\n",
    "# plt.plot(range(9), vmmc_replica_generator.sim_list[0].statistics['wt_occ_34.0C_free'])"
   ]
  },
  {
   "cell_type": "code",
   "execution_count": null,
   "id": "cc65f1d4",
   "metadata": {},
   "outputs": [],
   "source": [
    "bound_states, unbound_states = us_list[0].calculate_melting_temperature()\n"
   ]
  },
  {
   "cell_type": "code",
   "execution_count": null,
   "id": "f8ebe271",
   "metadata": {},
   "outputs": [],
   "source": [
    "us_list[0].prob_discrete.shape"
   ]
  },
  {
   "cell_type": "code",
   "execution_count": null,
   "id": "a38a86b3",
   "metadata": {},
   "outputs": [],
   "source": [
    "max_hb = 8\n",
    "us_list[0].continuous_to_discrete_unbiasing(max_hb)"
   ]
  },
  {
   "cell_type": "markdown",
   "id": "ab3ff70b",
   "metadata": {},
   "source": [
    "# Scale A_i with diffrent beta values and recompute temps"
   ]
  },
  {
   "cell_type": "code",
   "execution_count": null,
   "id": "4f08580f",
   "metadata": {},
   "outputs": [],
   "source": [
    "temp_range = np.array([25, 30, 35, 40, 45, 50, 52, 55, 60, 65, 70])   \n",
    "n_bins = 200\n",
    "free, F_i_temps, f_i_temps_over_time = us_list[0].wham_temperature_interpolation(temp_range, n_bins)"
   ]
  },
  {
   "cell_type": "code",
   "execution_count": null,
   "id": "6766a95f",
   "metadata": {},
   "outputs": [],
   "source": [
    "temp_range = np.array([30, 52, 70])   \n",
    "min_length = min([len(inner_list) for inner_list in us_list[0].umbrella_bias])\n",
    "umbrella_bias = np.array([inner_list[:min_length] for inner_list in us_list[0].umbrella_bias]).squeeze(-1)\n",
    "potential_energy = [inner_list[:min_length] for inner_list in us_list[0].potential_energy_by_window.values()]\n",
    "\n",
    "energy_bias_per_window_per_temperature = np.array(us_list[0]._calculate_energy_bias(temp_range, truncated_potential_energy=potential_energy))\n",
    "\n",
    "new_energy_bias_per_window_per_temperature = np.array(us_list[0]._new_calcualte_bias_energy(umbrella_bias, temp_range, truncated_potential_energy=potential_energy))\n"
   ]
  },
  {
   "cell_type": "code",
   "execution_count": null,
   "id": "89706941",
   "metadata": {},
   "outputs": [],
   "source": [
    "new_energy_bias_per_window_per_temperature"
   ]
  },
  {
   "cell_type": "code",
   "execution_count": null,
   "id": "020165dc",
   "metadata": {},
   "outputs": [],
   "source": [
    "energy_bias_per_window_per_temperature - new_energy_bias_per_window_per_temperature"
   ]
  },
  {
   "cell_type": "code",
   "execution_count": null,
   "id": "808b2163",
   "metadata": {},
   "outputs": [],
   "source": [
    "potential_energy = [inner_list[:min_length] for inner_list in us_list[0].potential_energy_by_window.values()]\n",
    "\n",
    "potential_energy_sum = [pot_energy.sum(axis=1) for pot_energy in potential_energy]"
   ]
  },
  {
   "cell_type": "code",
   "execution_count": null,
   "id": "f0bd2ee2",
   "metadata": {},
   "outputs": [],
   "source": [
    "potential_energy[6]"
   ]
  },
  {
   "cell_type": "code",
   "execution_count": null,
   "id": "31585ef0",
   "metadata": {},
   "outputs": [],
   "source": [
    "energy = [inner_list[:min_length] for inner_list in us_list[0].energy_by_window.values()]\n",
    "kinetic_energy = np.array([ene['K'] for ene in energy])\n",
    "energy[6]"
   ]
  },
  {
   "cell_type": "code",
   "execution_count": null,
   "id": "88255156",
   "metadata": {},
   "outputs": [],
   "source": [
    "with_kinetic_energy = np.array(us_list[0]._new_calcualte_bias_energy(kinetic_energy, temp_range, truncated_potential_energy=potential_energy))\n"
   ]
  },
  {
   "cell_type": "code",
   "execution_count": null,
   "id": "83ecdef6",
   "metadata": {},
   "outputs": [],
   "source": [
    "with_kinetic_energy - new_energy_bias_per_window_per_temperature"
   ]
  },
  {
   "cell_type": "code",
   "execution_count": null,
   "id": "ce7df180",
   "metadata": {},
   "outputs": [],
   "source": [
    "temp_range = np.array([30, 52, 70])   \n",
    "n_bins = 200\n",
    "free_kinetic, F_i_temps_kinetic, f_i_temps_over_time_kinetic = us_list[0].wham_temperature_interpolation(temp_range, n_bins)"
   ]
  },
  {
   "cell_type": "code",
   "execution_count": null,
   "id": "3d26e942",
   "metadata": {},
   "outputs": [],
   "source": [
    "kinetic_energy_and_umbrella_bias = umbrella_bias + kinetic_energy\n",
    "with_kinetic_energy_umbrella_bias = np.array(us_list[0]._new_calcualte_bias_energy(kinetic_energy_and_umbrella_bias, temp_range, truncated_potential_energy=potential_energy))\n"
   ]
  },
  {
   "cell_type": "code",
   "execution_count": null,
   "id": "4eb33874",
   "metadata": {},
   "outputs": [],
   "source": [
    "with_kinetic_energy_umbrella_bias - with_kinetic_energy"
   ]
  },
  {
   "cell_type": "code",
   "execution_count": null,
   "id": "8482e704",
   "metadata": {},
   "outputs": [],
   "source": [
    "temp_range = np.array([30, 52, 70])   \n",
    "n_bins = 200\n",
    "free_kinetic_bias, F_i_temps_kinetic_bias, f_i_temps_over_time_kinetic_bias = us_list[0].wham_temperature_interpolation(temp_range, n_bins)"
   ]
  },
  {
   "cell_type": "code",
   "execution_count": null,
   "id": "63c4e7b1",
   "metadata": {},
   "outputs": [],
   "source": [
    "temp_range = np.array([30, 52, 70])   \n",
    "n_bins = 200\n",
    "free_kinetic_bias_w_beta, F_i_temps_kinetic_bias_w_beta, f_i_temps_over_time_kinetic_bias_w_beta = us_list[0].wham_temperature_interpolation(temp_range, n_bins)"
   ]
  },
  {
   "cell_type": "code",
   "execution_count": null,
   "id": "f9b40759",
   "metadata": {},
   "outputs": [],
   "source": [
    "temp_range = np.array([25, 30, 35, 40, 45, 50, 52, 55, 60, 65, 70])   \n",
    "n_bins = 200\n",
    "free_kinetic_bias_new_w_beta, F_i_temps_kinetic_bias_new_w_beta, f_i_temps_over_time_kinetic_bias_new_w_beta = us_list[0].wham_temperature_interpolation(temp_range, n_bins)"
   ]
  },
  {
   "cell_type": "code",
   "execution_count": null,
   "id": "20163c7c",
   "metadata": {},
   "outputs": [],
   "source": [
    "xmin = 0\n",
    "xmax = 15\n",
    "calculated_bin_centers, bin_edges = us_list[0].get_bins(xmin, xmax, n_bins=200)\n",
    "temp = [us_list_ground_truth[1], us_list_ground_truth[-1]]\n",
    "with plt.style.context(['science', 'no-latex', 'bright']): \n",
    "\n",
    "    fig, ax = plt.subplots(dpi=300)\n",
    "    \n",
    "    # us_list[0].wham.plot_free_energy(ax=ax, label='duplex_52')\n",
    "    \n",
    "    # for us in temp:\n",
    "    #     us.free['Free'] -= us.free['Free'][5]\n",
    "    #     us.wham.plot_free_energy(ax=ax)\n",
    "        \n",
    "\n",
    "    for f, temp_val in zip(free_kinetic_bias_new_w_beta, temp_range):\n",
    "        plt.plot(calculated_bin_centers*0.8518, f - f[5], label=f'{temp_val:.1f}C') \n",
    "        \n",
    "    plt.legend(fontsize=6)"
   ]
  },
  {
   "cell_type": "code",
   "execution_count": null,
   "id": "a1e2e053",
   "metadata": {},
   "outputs": [],
   "source": [
    "xmin = 0\n",
    "xmax = 15\n",
    "calculated_bin_centers, bin_edges = us_list[0].get_bins(xmin, xmax, n_bins=200)\n",
    "temp = [us_list_ground_truth[1], us_list_ground_truth[-1]]\n",
    "with plt.style.context(['science', 'no-latex', 'bright']): \n",
    "\n",
    "    fig, ax = plt.subplots(dpi=300)\n",
    "    \n",
    "    us_list[0].wham.plot_free_energy(ax=ax, label='duplex_52')\n",
    "    \n",
    "    for us in temp:\n",
    "        us.free['Free'] -= us.free['Free'][5]\n",
    "        us.wham.plot_free_energy(ax=ax)\n",
    "        \n",
    "\n",
    "    for f, temp_val in zip(free_kinetic_bias_w_beta, temp_range):\n",
    "        # f = f / ((temp_val + 273.15) / 3000)\n",
    "        plt.plot(calculated_bin_centers*0.8518, f - f[5], label=f'{temp_val:.1f}C') \n",
    "        \n",
    "    plt.legend(fontsize=6)"
   ]
  },
  {
   "cell_type": "code",
   "execution_count": null,
   "id": "2f87c957",
   "metadata": {},
   "outputs": [],
   "source": [
    "xmin = 0\n",
    "xmax = 15\n",
    "calculated_bin_centers, bin_edges = us_list[0].get_bins(xmin, xmax, n_bins=200)\n",
    "temp = [us_list_ground_truth[1], us_list_ground_truth[-1]]\n",
    "with plt.style.context(['science', 'no-latex', 'bright']): \n",
    "\n",
    "    fig, ax = plt.subplots(dpi=300)\n",
    "    \n",
    "    us_list[0].wham.plot_free_energy(ax=ax, label='duplex_52')\n",
    "    \n",
    "    for us in temp:\n",
    "        us.free['Free'] -= us.free['Free'][5]\n",
    "        us.wham.plot_free_energy(ax=ax)\n",
    "        \n",
    "\n",
    "    for f, temp_val in zip(free_kinetic_bias, temp_range):\n",
    "        # f = f / ((temp_val + 273.15) / 3000)\n",
    "        plt.plot(calculated_bin_centers*0.8518, f - f[5], label=f'{temp_val:.1f}C') \n",
    "        \n",
    "    plt.legend(fontsize=6)"
   ]
  },
  {
   "cell_type": "code",
   "execution_count": null,
   "id": "deebfb87",
   "metadata": {},
   "outputs": [],
   "source": [
    "xmin = 0\n",
    "xmax = 15\n",
    "calculated_bin_centers, bin_edges = us_list[0].get_bins(xmin, xmax, n_bins=200)\n",
    "temp = [us_list_ground_truth[1], us_list_ground_truth[-1]]\n",
    "with plt.style.context(['science', 'no-latex', 'bright']): \n",
    "\n",
    "    fig, ax = plt.subplots(dpi=300)\n",
    "    \n",
    "    us_list[0].wham.plot_free_energy(ax=ax, label='duplex_52')\n",
    "    \n",
    "    for us in temp:\n",
    "        us.free['Free'] -= us.free['Free'][5]\n",
    "        us.wham.plot_free_energy(ax=ax)\n",
    "        \n",
    "\n",
    "    for f, temp_val in zip(free_kinetic, temp_range):\n",
    "        plt.plot(calculated_bin_centers*0.8518, f - f[5], label=f'{temp_val:.1f}C') \n",
    "        \n",
    "    plt.legend(fontsize=6)"
   ]
  },
  {
   "cell_type": "code",
   "execution_count": null,
   "id": "63110a05",
   "metadata": {},
   "outputs": [],
   "source": [
    "np.array(us_list[0].umbrella_bias) /8 * 2"
   ]
  },
  {
   "cell_type": "code",
   "execution_count": null,
   "id": "df8bbdc6",
   "metadata": {},
   "outputs": [],
   "source": [
    "xmin = 0\n",
    "xmax = 15\n",
    "calculated_bin_centers, bin_edges = us_list[0].get_bins(xmin, xmax, n_bins=200)\n",
    "temp = [us_list_ground_truth[1], us_list_ground_truth[-1]]\n",
    "with plt.style.context(['science', 'no-latex', 'bright']): \n",
    "\n",
    "    fig, ax = plt.subplots(dpi=300)\n",
    "    \n",
    "    us_list[0].wham.plot_free_energy(ax=ax, label='duplex_52')\n",
    "    \n",
    "    for us in temp:\n",
    "        us.free['Free'] -= us.free['Free'][5]\n",
    "        us.wham.plot_free_energy(ax=ax)\n",
    "        \n",
    "\n",
    "    for f, temp_val in zip(free, temp_range):\n",
    "        plt.plot(calculated_bin_centers*0.8518, f - f[5], label=f'{temp_val:.1f}C') \n",
    "        \n",
    "    plt.legend(fontsize=6)"
   ]
  },
  {
   "cell_type": "code",
   "execution_count": null,
   "id": "69e6bbf1",
   "metadata": {},
   "outputs": [],
   "source": [
    "plt.plot(range(len(f_i_temps_over_time)) ,np.array(f_i_temps_over_time))"
   ]
  },
  {
   "cell_type": "code",
   "execution_count": null,
   "id": "3f10e0e2",
   "metadata": {},
   "outputs": [],
   "source": [
    "path = os.path.abspath('/scratch/mlsample/ipy_oxDNA/ipy_oxdna_examples/duplex_melting/')\n",
    "\n",
    "system_name = 'multi_system_runs/temp_set'\n",
    "\n",
    "systems = ['duplex_25', 'duplex_30', 'duplex_35', 'duplex_40', 'duplex_45', 'duplex_50', 'duplex_55', 'duplex_60', 'duplex_65', 'duplex_70']\n",
    "temperature_list = [25, 30, 35, 40, 45, 50, 55, 60, 65, 70]\n",
    "\n",
    "file_dirs = [f'{path}/{system_name}' for _ in range(len(systems))]\n",
    "\n",
    "\n",
    "com_list = '8,9,10,11,12,13,14,15'\n",
    "ref_list = '0,1,2,3,4,5,6,7'\n",
    "xmin = 0\n",
    "xmax = 15\n",
    "n_windows = 100\n",
    "\n",
    "stiff = 0.4\n",
    "\n",
    "equlibration_parameters_list = [{'backend':'CPU','steps':'5e7','print_energy_every': '4e7',\n",
    "                           'print_conf_interval':'4e7', \"CUDA_list\": \"no\",\n",
    "                           'use_edge': 'false', 'refresh_vel': '1',\n",
    "                           'fix_diffusion': '0', 'fix_diffusion_every': '1000',\n",
    "                           'T':f'{temp}C'} for temp in temperature_list]\n",
    "\n",
    "production_parameters_list = [{'backend':'CPU','steps':'1e9','print_energy_every': '1e8',\n",
    "                        'print_conf_interval':'1e8', \"CUDA_list\": \"no\",\n",
    "                        'use_edge': 'false', 'refresh_vel': '1',\n",
    "                        'fix_diffusion': '0', 'fix_diffusion_every': '1000',\n",
    "                        'T':f'{temp}C'} for temp in temperature_list]\n",
    "\n",
    "us_list_ground_truth = [MeltingUmbrellaSampling(file_dir, sys, clean_build='force') for file_dir, sys in zip(file_dirs,systems)]\n",
    "\n",
    "simulation_manager = SimulationManager()"
   ]
  },
  {
   "cell_type": "code",
   "execution_count": null,
   "id": "22e3e16f",
   "metadata": {},
   "outputs": [],
   "source": [
    "with plt.style.context(['science', 'no-latex', 'bright']): \n",
    "\n",
    "    fig, ax = plt.subplots(dpi=300)\n",
    "    for us in us_list_ground_truth[6:7]:\n",
    "        us.free['Free'] -= us.free['Free'][5]\n",
    "        us.wham.plot_free_energy(ax=ax)\n",
    "\n",
    "    for f, temp_val in zip(free[5:6], temp_range[6:7]):\n",
    "        plt.plot(calculated_bin_centers*0.8518, f - f[5], label=f'{temp_val:.1f}C') \n",
    "        \n",
    "    plt.legend()"
   ]
  },
  {
   "cell_type": "code",
   "execution_count": null,
   "id": "0cc7171d",
   "metadata": {},
   "outputs": [],
   "source": [
    "bins = np.linspace(us_list[0].wham.xmin, us_list[0].wham.xmax, 200)\n",
    "real_bins = np.zeros(len(bins))\n",
    "for i in range(len(bins)):\n",
    "    real_bins[i] = us_list[0].wham.xmin + (bins[1] - bins[0])* (i +0.5)"
   ]
  },
  {
   "cell_type": "code",
   "execution_count": null,
   "id": "4a0e1590",
   "metadata": {},
   "outputs": [],
   "source": [
    "n_bins = 200\n",
    "BIN_WIDTH = (us_list[0].wham.xmax - us_list[0].wham.xmin) / n_bins;\n",
    "BIN_WIDTH"
   ]
  },
  {
   "cell_type": "code",
   "execution_count": null,
   "id": "d725e423",
   "metadata": {},
   "outputs": [],
   "source": [
    "def potential(bins, r0_value, k):\n",
    "    return 0.5 * k * (bins - r0_value)**2\n",
    "\n",
    "beta = 1 / temperature\n",
    "p\n",
    "bins = np.linspace(0.037500, 14.962500, 200)\n",
    "r0 = np.linspace(0, 15, 61)[1:]\n",
    "window_potentials = np.array([potential(bins, r0_val, 5) for r0_val in r0])\n",
    "com_values = np.array(list(us_list[0].com_by_window.values())).squeeze(-1)\n",
    "p_x = us_list[0].free['Prob'].values\n",
    "\n",
    "p_x_u = p_x * np.exp(-window_potentials * beta)\n",
    "\n",
    "f_i_manual = -temperature * np.log(np.sum(p_x_u, axis=1))\n",
    "f_i_manual -= f_i_manual[0]\n",
    "f_i_manual\n",
    "\n",
    "# def compute_f_i():\n",
    "    "
   ]
  },
  {
   "cell_type": "code",
   "execution_count": null,
   "id": "2bdc7d34",
   "metadata": {},
   "outputs": [],
   "source": [
    "temp_range_scaled = (temp_range + 273.15) / 3000\n",
    "temperature = np.array(us_list[0].temperature, dtype=np.longdouble)\n",
    "beta = 1 / temperature\n",
    "beta_range = 1 / temp_range_scaled\n",
    "\n",
    "f_i = us_list[0].get_biases()\n",
    "weight = -beta * np.array(f_i)\n",
    "weight_norm = logsumexp(weight)\n",
    "A_i = weight - weight_norm\n",
    "\n",
    "weight_temps = -beta_range[:, np.newaxis] * np.array(f_i)\n",
    "weight_temps_norm = logsumexp(weight_temps, axis=1)\n",
    "A_i_temps = weight_temps - weight_temps_norm[:, np.newaxis]\n",
    "\n",
    "log_p_i_h = us_list[0].log_p_i_h\n",
    "\n",
    "a_log_p_i_h = log_p_i_h.T + A_i_temps[:, :]\n",
    "\n",
    "\n",
    "\n",
    "combine_log_p_i_h = logsumexp(a_log_p_i_h, axis=2)\n",
    "\n",
    "free_energy = -combine_log_p_i_h.T\n",
    "free_energy -= free_energy.min(axis=1, keepdims=True)\n",
    "free_energy[:,0] = free_energy[:,0] - us_list[0].volume_correction\n",
    "free_energy_discrete = free_energy + us_list[0].volume_correction\n",
    "normed_free_energy = -free_energy - logsumexp(-free_energy, axis=1, keepdims=True)\n",
    "prob_discrete = np.exp(normed_free_energy)\n",
    "prob_discrete"
   ]
  },
  {
   "cell_type": "code",
   "execution_count": null,
   "id": "7490b6c1",
   "metadata": {},
   "outputs": [],
   "source": [
    "for free in us_list[0].prob_discrete:\n",
    "    print(free[0])"
   ]
  },
  {
   "cell_type": "code",
   "execution_count": null,
   "id": "873fcde8",
   "metadata": {},
   "outputs": [],
   "source": [
    "for idx, free in enumerate(us_list[0].free_energy_discrete):\n",
    "    plt.plot(range(9), free, label=f'{temp_range[idx]}C')\n",
    "plt.legend()"
   ]
  },
  {
   "cell_type": "code",
   "execution_count": null,
   "id": "1967e919",
   "metadata": {},
   "outputs": [],
   "source": [
    "plt.plot(range(9), vmmc_replica_generator.sim_list[0].statistics['wt_occ_34.0C_free'] - vmmc_replica_generator.sim_list[0].statistics['wt_occ_34.0C_free'][0])\n",
    "\n",
    "plt.plot(range(9), vmmc_replica_generator.sim_list[0].statistics['wt_occ_70.0C_free']- vmmc_replica_generator.sim_list[0].statistics['wt_occ_70.0C_free'][0])\n",
    "\n",
    "plt.plot(range(9), vmmc_replica_generator.sim_list[0].statistics['wt_occ_34.0C_free'])\n",
    "\n",
    "plt.plot(range(9), vmmc_replica_generator.sim_list[0].statistics['wt_occ_34.0C_free'])"
   ]
  },
  {
   "cell_type": "code",
   "execution_count": null,
   "id": "f240af1c-0d66-4c61-9629-9961b3ff455b",
   "metadata": {
    "execution": {
     "iopub.execute_input": "2023-10-30T19:18:16.282420Z",
     "iopub.status.busy": "2023-10-30T19:18:16.282058Z",
     "iopub.status.idle": "2023-10-30T19:25:08.434599Z",
     "shell.execute_reply": "2023-10-30T19:25:08.434146Z",
     "shell.execute_reply.started": "2023-10-30T19:18:16.282394Z"
    }
   },
   "outputs": [],
   "source": [
    "wham_dir = os.path.abspath('/scratch/mlsample/ipy_oxDNA/wham/wham')\n",
    "n_bins = '200'\n",
    "tol = '1e-12'\n",
    "n_boot = '0'\n",
    "for us in us_list:\n",
    "    us.wham_run(wham_dir, xmin, xmax, 10, n_bins, tol, n_boot)"
   ]
  },
  {
   "cell_type": "code",
   "execution_count": null,
   "id": "822c4d6d-d004-415a-a39d-bea8068ea120",
   "metadata": {
    "execution": {
     "iopub.execute_input": "2023-10-30T19:37:18.677696Z",
     "iopub.status.busy": "2023-10-30T19:37:18.677382Z",
     "iopub.status.idle": "2023-10-30T19:38:16.639071Z",
     "shell.execute_reply": "2023-10-30T19:38:16.638687Z",
     "shell.execute_reply.started": "2023-10-30T19:37:18.677680Z"
    },
    "scrolled": true
   },
   "outputs": [],
   "source": [
    "max_hb = 8\n",
    "us_list[0].continuous_to_discrete_unbiasing(max_hb)\n",
    "# us_list[1].continuous_to_discrete_unbiasing(max_hb)"
   ]
  },
  {
   "cell_type": "code",
   "execution_count": null,
   "id": "90abd283",
   "metadata": {},
   "outputs": [],
   "source": [
    "us_list[0].volume_correction"
   ]
  },
  {
   "cell_type": "code",
   "execution_count": null,
   "id": "9d934d42",
   "metadata": {},
   "outputs": [],
   "source": [
    "fig, ax = plt.subplots(dpi=300)\n",
    "\n",
    "# ax.plot(range(9), us_list[1].free_energy_discrete, label='us_1')\n",
    "\n",
    "ax.plot(range(9), us_list[0].free_energy_discrete, label='us_0')\n",
    "ax.plot(range(9), vmmc_replica_generator.wt_free_mean, label='vmmc')\n",
    "plt.legend()"
   ]
  },
  {
   "cell_type": "code",
   "execution_count": null,
   "id": "bcee568d-fd6a-4c4a-b338-1ce68c39124a",
   "metadata": {
    "execution": {
     "iopub.execute_input": "2023-10-30T01:00:39.442689Z",
     "iopub.status.busy": "2023-10-30T01:00:39.442206Z",
     "iopub.status.idle": "2023-10-30T01:01:46.968852Z",
     "shell.execute_reply": "2023-10-30T01:01:46.967881Z",
     "shell.execute_reply.started": "2023-10-30T01:00:39.442670Z"
    },
    "scrolled": true
   },
   "outputs": [],
   "source": [
    "path = os.path.abspath('/scratch/matthew/ipy_oxDNA/ipy_oxdna_examples/duplex_melting/')\n",
    "\n",
    "system_name = 'multi_system_runs'\n",
    "\n",
    "systems = ['duplex_25', 'duplex_30', 'duplex_35', 'duplex_40', 'duplex_45', 'duplex_50', 'duplex_55', 'duplex_60', 'duplex_65', 'duplex_70']\n",
    "temperature_list = [25, 30, 35, 40, 45, 50, 55, 60, 65, 70]\n",
    "\n",
    "file_dirs = [f'{path}/{system_name}' for _ in range(len(systems))]\n",
    "\n",
    "\n",
    "com_list = '8,9,10,11,12,13,14,15'\n",
    "ref_list = '0,1,2,3,4,5,6,7'\n",
    "xmin = 0\n",
    "xmax = 15\n",
    "n_windows = 100\n",
    "\n",
    "stiff = 0.4\n",
    "\n",
    "equlibration_parameters_list = [{'backend':'CPU','steps':'5e7','print_energy_every': '4e7',\n",
    "                           'print_conf_interval':'4e7', \"CUDA_list\": \"no\",\n",
    "                           'use_edge': 'false', 'refresh_vel': '1',\n",
    "                           'fix_diffusion': '0', 'fix_diffusion_every': '1000',\n",
    "                           'T':f'{temp}C'} for temp in temperature_list]\n",
    "\n",
    "production_parameters_list = [{'backend':'CPU','steps':'1e9','print_energy_every': '1e8',\n",
    "                        'print_conf_interval':'1e8', \"CUDA_list\": \"no\",\n",
    "                        'use_edge': 'false', 'refresh_vel': '1',\n",
    "                        'fix_diffusion': '0', 'fix_diffusion_every': '1000',\n",
    "                        'T':f'{temp}C'} for temp in temperature_list]\n",
    "\n",
    "us_list = [MeltingUmbrellaSampling(file_dir, sys, clean_build='force') for file_dir, sys in zip(file_dirs,systems)]\n",
    "\n",
    "simulation_manager = SimulationManager()"
   ]
  },
  {
   "cell_type": "code",
   "execution_count": null,
   "id": "0a79c3e5",
   "metadata": {},
   "outputs": [],
   "source": [
    "wham_dir = os.path.abspath('/scratch/mlsample/ipy_oxDNA/wham/wham')\n",
    "n_bins = '200'\n",
    "tol = '1e-12'\n",
    "n_boot = '0'\n",
    "\n",
    "xmin = 0\n",
    "xmax = 15\n",
    "n_windows = 100\n",
    "stiff = 0.4\n",
    "for us in us_list:\n",
    "    us.spawn_wham_run(wham_dir, xmin, xmax, stiff, n_bins, tol, n_boot, join=False)"
   ]
  },
  {
   "cell_type": "code",
   "execution_count": null,
   "id": "14ab9c18",
   "metadata": {},
   "outputs": [],
   "source": [
    "for us in us_list:\n",
    "    us.free['Free'] -= us.free['Free'][4] "
   ]
  },
  {
   "cell_type": "code",
   "execution_count": null,
   "id": "7fcb472d",
   "metadata": {},
   "outputs": [],
   "source": [
    "fig, ax = plt.subplots(dpi=300)\n",
    "\n",
    "for us in us_list:\n",
    "    us.wham.plot_free_energy(ax=ax, label=us.system)"
   ]
  },
  {
   "cell_type": "code",
   "execution_count": null,
   "id": "62c02ee1-0dd7-4f98-aa87-f2d8bdd0801a",
   "metadata": {
    "execution": {
     "iopub.execute_input": "2023-10-30T01:01:46.971222Z",
     "iopub.status.busy": "2023-10-30T01:01:46.970860Z",
     "iopub.status.idle": "2023-10-30T01:11:11.970821Z",
     "shell.execute_reply": "2023-10-30T01:11:11.969957Z",
     "shell.execute_reply.started": "2023-10-30T01:01:46.971191Z"
    },
    "scrolled": true
   },
   "outputs": [],
   "source": [
    "max_hb = 8\n",
    "for us in us_list:\n",
    "    us.continuous_to_discrete_unbiasing(max_hb)"
   ]
  },
  {
   "cell_type": "code",
   "execution_count": null,
   "id": "8f96013b",
   "metadata": {},
   "outputs": [],
   "source": [
    "bound = []\n",
    "for us in us_list:\n",
    "    bound.append((us.prob_discrete[0]))\n",
    "\n",
    "bound"
   ]
  },
  {
   "cell_type": "code",
   "execution_count": null,
   "id": "e05b7b53",
   "metadata": {},
   "outputs": [],
   "source": [
    "def sigmoid(self, x, L, x0, k, b):\n",
    "    return L / (1 + np.exp(-k * (x - x0))) + b\n",
    "\n",
    "temps = np.linspace(25,70,10)\n",
    "p0 = [max(bound), np.median(temps), 1, min(bound), 1]  # initial guesses for L, x0, k, b\n",
    "popt, _ = curve_fit(sigmoid, temps, bound, p0, method='dogbox')\n",
    "# Generate fitted data\n",
    "x_fit = np.linspace(min(temps), max(temps), 500)\n",
    "y_fit = sigmoid(x_fit, *popt)\n",
    "\n",
    "\n",
    "idx = np.argmin(np.abs(y_fit - 0.5))\n",
    "Tm = x_fit[idx]\n",
    "\n",
    "y_fit"
   ]
  },
  {
   "cell_type": "code",
   "execution_count": null,
   "id": "37b97926",
   "metadata": {},
   "outputs": [],
   "source": [
    "y_fit"
   ]
  },
  {
   "cell_type": "code",
   "execution_count": null,
   "id": "02e0e4d4",
   "metadata": {},
   "outputs": [],
   "source": [
    "plt.plot(x_fit, y_fit, label='fit')"
   ]
  },
  {
   "cell_type": "code",
   "execution_count": null,
   "id": "e958834e",
   "metadata": {},
   "outputs": [],
   "source": [
    "plt.figure(figsize=(10, 6))\n",
    "plt.scatter(temps, inverted_finfs, marker='o', label=f'{label}Data')\n",
    "plt.plot(x_fit, y_fit, linestyle='--', linewidth=2, label=f'{label}Sigmoid Fit')\n",
    "\n",
    "# Add a vertical line at the melting temperature\n",
    "plt.axvline(x=sim.Tm, color='r', linestyle='--', linewidth=2, label=f'{label}Tm = {sim.Tm:.2f} °C')\n",
    "\n",
    "plt.xlabel('Temperature (°C)')\n",
    "plt.ylabel('Fraction of ssDNA')\n",
    "plt.title(f'Melting Profile')\n",
    "\n",
    "# Set y-axis limits\n",
    "plt.ylim(0, 1.1)\n",
    "\n",
    "plt.legend()\n",
    "plt.grid(True)"
   ]
  },
  {
   "cell_type": "code",
   "execution_count": null,
   "id": "33ed36f4-7ee5-4ccd-ad2c-876118ac2f52",
   "metadata": {
    "execution": {
     "iopub.execute_input": "2023-10-30T01:12:21.511921Z",
     "iopub.status.busy": "2023-10-30T01:12:21.511380Z",
     "iopub.status.idle": "2023-10-30T01:12:22.986526Z",
     "shell.execute_reply": "2023-10-30T01:12:22.985883Z",
     "shell.execute_reply.started": "2023-10-30T01:12:21.511899Z"
    }
   },
   "outputs": [],
   "source": [
    "for us in us_list[:-3]:\n",
    "    plt.plot(range(9), us.free_energy_discrete, label=us.system)\n",
    "plt.legend()"
   ]
  },
  {
   "cell_type": "code",
   "execution_count": null,
   "id": "2cf206fd",
   "metadata": {},
   "outputs": [],
   "source": [
    "for us in us_list:\n",
    "    us.calculate_melting_temperature()"
   ]
  },
  {
   "cell_type": "code",
   "execution_count": null,
   "id": "61514aa3",
   "metadata": {},
   "outputs": [],
   "source": [
    "for us in us_list:\n",
    "    print(us.inverted_finf)"
   ]
  },
  {
   "cell_type": "code",
   "execution_count": null,
   "id": "5f88003d",
   "metadata": {},
   "outputs": [],
   "source": [
    "temps = np.linspace(25,70,10)\n",
    "vmmc_replica_generator.sim_list[0].analysis.plot_melting_profiles()\n",
    "plt.plot(temps,bound)"
   ]
  },
  {
   "cell_type": "code",
   "execution_count": null,
   "id": "869bce99-8ffd-412c-958a-e41ef98a77bb",
   "metadata": {
    "execution": {
     "iopub.execute_input": "2023-10-29T07:02:37.578997Z",
     "iopub.status.busy": "2023-10-29T07:02:37.578248Z",
     "iopub.status.idle": "2023-10-29T07:02:38.124135Z",
     "shell.execute_reply": "2023-10-29T07:02:38.123693Z",
     "shell.execute_reply.started": "2023-10-29T07:02:37.578981Z"
    },
    "scrolled": true,
    "tags": []
   },
   "outputs": [],
   "source": [
    "for us in us_list:\n",
    "    us.calculate_melting_temperature_using_vmmc()"
   ]
  },
  {
   "cell_type": "code",
   "execution_count": null,
   "id": "11e485e2-79d5-4b40-86b4-8dff362034ec",
   "metadata": {
    "execution": {
     "iopub.execute_input": "2023-10-29T07:02:53.252679Z",
     "iopub.status.busy": "2023-10-29T07:02:53.251934Z",
     "iopub.status.idle": "2023-10-29T07:02:53.630233Z",
     "shell.execute_reply": "2023-10-29T07:02:53.629827Z",
     "shell.execute_reply.started": "2023-10-29T07:02:53.252663Z"
    }
   },
   "outputs": [],
   "source": [
    "inverted_finfs = []\n",
    "temperatures = []\n",
    "for us in us_list:\n",
    "    inverted_finfs.append(1 - us.vmmc_sim.analysis.finfs[0])\n",
    "    temperatures.append(float((us.system.split('_')[-1])))\n",
    "# del inverted_finfs[2]\n",
    "# del temperatures[2]\n",
    "inverted_finfs"
   ]
  },
  {
   "cell_type": "code",
   "execution_count": null,
   "id": "98ab4215-9d0a-4b39-8255-ab077199b751",
   "metadata": {
    "execution": {
     "iopub.execute_input": "2023-10-28T01:40:55.318127Z",
     "iopub.status.busy": "2023-10-28T01:40:55.317587Z",
     "iopub.status.idle": "2023-10-28T01:40:55.627758Z",
     "shell.execute_reply": "2023-10-28T01:40:55.627321Z",
     "shell.execute_reply.started": "2023-10-28T01:40:55.318104Z"
    }
   },
   "outputs": [],
   "source": [
    "def sigmoid(x, L, x0, k, b):\n",
    "    return L / (1 + np.exp(-k * (x - x0))) + b\n",
    "\n",
    "from scipy.optimize import curve_fit\n",
    "\n",
    "p0 = [max(inverted_finfs), np.median(temperatures), 1, min(inverted_finfs)]  # initial guesses for L, x0, k, b\n",
    "popt, _ = curve_fit(sigmoid, temperatures, inverted_finfs, p0, method='dogbox')\n",
    "\n",
    "x_fit = np.linspace(min(temperatures), max(temperatures), 500)\n",
    "y_fit = sigmoid(x_fit, *popt)\n",
    "\n",
    "idx = np.argmin(np.abs(y_fit - 0.5))\n",
    "Tm = x_fit[idx]"
   ]
  },
  {
   "cell_type": "code",
   "execution_count": null,
   "id": "f94a923c-92b9-41c3-8ad1-e1cad85c2722",
   "metadata": {
    "execution": {
     "iopub.execute_input": "2023-10-28T02:04:33.735499Z",
     "iopub.status.busy": "2023-10-28T02:04:33.735003Z",
     "iopub.status.idle": "2023-10-28T02:04:35.857865Z",
     "shell.execute_reply": "2023-10-28T02:04:35.857474Z",
     "shell.execute_reply.started": "2023-10-28T02:04:33.735483Z"
    }
   },
   "outputs": [],
   "source": [
    "# Plotting\n",
    "# plt.figure(figsize=(10, 6))\n",
    "vmmc_sim_list[0].analysis.plot_melting_profiles(label='VMMC Discrete ')\n",
    "\n",
    "plt.scatter(temperatures, inverted_finfs, marker='o', label='Continous umbrella made discrete data')\n",
    "plt.plot(x_fit, y_fit, linestyle='--', linewidth=2, label='Continous umbrella made discrete Sigmoid Fit')\n",
    "\n",
    "# Add a vertical line at the melting temperature\n",
    "plt.axvline(x=Tm, color='green', linestyle='--', linewidth=2, label=f'Continous umbrella made discrete Tm = {Tm:.2f} °C')\n",
    "\n",
    "plt.xlabel('Temperature (°C)')\n",
    "plt.ylabel('Fraction of ssDNA')\n",
    "plt.title(f'Melting Profile')\n",
    "\n",
    "# Set y-axis limits\n",
    "plt.ylim(0, 1.1)\n",
    "\n",
    "plt.legend()\n",
    "plt.grid(True)\n",
    "plt.show()\n"
   ]
  },
  {
   "cell_type": "code",
   "execution_count": null,
   "id": "28b27e5b",
   "metadata": {},
   "outputs": [],
   "source": [
    "us_list[0].get_com_distance_by_window()\n",
    "us_list[0].get_bias_potential_value(us_list[0].wham.xmin, us_list[0].wham.xmax, us_list[0].n_windows, us_list[0].wham.umbrella_stiff)\n",
    "us_list[0].get_r0_values()\n",
    "\n",
    "if us_list[0].potential_energy_by_window is None:\n",
    "    us_list[0].read_potential_energy()"
   ]
  },
  {
   "cell_type": "code",
   "execution_count": null,
   "id": "bfe09d18-9d44-4300-9b92-9d18184e171f",
   "metadata": {},
   "outputs": [],
   "source": [
    "def w_i(r, r0, stiff):\n",
    "    return 0.5 * float(stiff) * (r - r0)**2\n",
    "\n",
    "def get_bins(xmin, xmax, n_bins=200):\n",
    "    # Calculate the bin width\n",
    "    bin_width = (xmax - xmin) / n_bins\n",
    "\n",
    "    # Calculate the first bin center\n",
    "    first_bin_center = xmin + bin_width / 2\n",
    "\n",
    "    # Generate the bin centers\n",
    "    calculated_bin_centers = np.array([first_bin_center + i * bin_width for i in range(n_bins)])\n",
    "\n",
    "    # Calculate bin edges based on bin centers\n",
    "    bin_edges = np.zeros(len(calculated_bin_centers) + 1)\n",
    "    bin_edges[1:-1] = (calculated_bin_centers[:-1] + calculated_bin_centers[1:]) / 2.0\n",
    "    bin_edges[0] = calculated_bin_centers[0] - (bin_edges[1] - calculated_bin_centers[0])\n",
    "    bin_edges[-1] = calculated_bin_centers[-1] + (calculated_bin_centers[-1] - bin_edges[-2])\n",
    "\n",
    "    return calculated_bin_centers, bin_edges\n",
    "\n",
    "def celcius_to_scaled(temp):\n",
    "    return (temp + 273.15) / 3000\n",
    "\n",
    "def weighted_histogram_analysis_method_temperature_interpolation(temp_range):\n",
    "    #Get temperature scalar\n",
    "    temp_range_scaled = celcius_to_scaled(temp_range)\n",
    "    beta_range = 1 / temp_range_scaled\n",
    "\n",
    "    temperature = np.array(us_list[0].temperature, dtype=np.longdouble)\n",
    "    beta = 1 / temperature\n",
    "    \n",
    "    umbrella_bias = np.array(us_list[0].umbrella_bias).squeeze(-1)\n",
    "    new_energy_per_window = us_list[0]._new_calcualte_bias_energy(umbrella_bias, temp_range)\n",
    "    temp_biases = np.exp(np.array(new_energy_per_window).swapaxes(0,1) * beta_range[:,np.newaxis, np.newaxis])\n",
    "    #Get the energy bias per window per temperature\n",
    "    # energy_bias_per_window_per_temperature = np.array(us_list[0]._calculate_energy_bias(temp_range))\n",
    "    # temp_biases = np.exp(beta_range[:,np.newaxis, np.newaxis] * energy_bias_per_window_per_temperature.swapaxes(0,1) + umbrella_bias_per_temp)\n",
    "    #Intalise the inital free energy shift\n",
    "    # F_i_temps = np.array([[np.random.randint(10) for F in us_list[0].get_biases()] for _ in temp_range_scaled])\n",
    "\n",
    "    #get the bin values\n",
    "    xmin = 0\n",
    "    xmax = 15\n",
    "    calculated_bin_centers, bin_edges = get_bins(xmin, xmax, n_bins=200)\n",
    "\n",
    "    #Calculate the biases in the windows\n",
    "    window_biases = np.array([[\n",
    "        w_i(bin_value, r0_value, us_list[0].wham.umbrella_stiff)\n",
    "        for bin_value in calculated_bin_centers\n",
    "        ] \n",
    "        for r0_value in us_list[0].r0\n",
    "    ], dtype=np.longdouble)\n",
    "\n",
    "    #Get the com values\n",
    "    all_com_values = np.array(list(us_list[0].com_by_window.values())).squeeze(-1)\n",
    "\n",
    "    #Calculate the counts of each bin\n",
    "    count = [\n",
    "        [\n",
    "        np.histogram(com_values, bins=bin_edges, weights=t_bias)[0]\n",
    "        for com_values, t_bias in zip(all_com_values, temp_bias)\n",
    "        ] \n",
    "        for temp_bias in temp_biases\n",
    "    ]\n",
    "\n",
    "    #Put the counts into an array\n",
    "    p_i_b_s = np.array(count)\n",
    "\n",
    "    #The numerator of p_x is the sum of the counts from each window\n",
    "    numerator = np.sum(p_i_b_s, axis=1)\n",
    "    \n",
    "    rng = np.random.default_rng()    \n",
    "    epsilon = 1e-12\n",
    "    \n",
    "    f_i_temps_old = np.array([[rng.normal(loc=0.0, scale=1.0, size=None) for F in us_list[0].get_biases()] for _ in temp_range_scaled])\n",
    "    f_i_temps_new = np.zeros_like(f_i_temps_old)\n",
    "    f_i_temps_over_time = []\n",
    "    \n",
    "    first = True\n",
    "    while (first is True) or (np.max((f_i_temps_new - f_i_temps_old)**2) > epsilon):\n",
    "        first = False\n",
    "        f_i_temps_old = deepcopy(f_i_temps_new)\n",
    "        \n",
    "        #Compute the denominator\n",
    "        denominator = np.array([\n",
    "            [\n",
    "            sum(counts) * np.exp((F - w) * bet)\n",
    "\n",
    "            for counts, F, w, t_bias in zip(p_i_b, F_i, window_biases, temp_b)\n",
    "            ] \n",
    "            for bet, F_i, temp_b, p_i_b in zip(beta_range, f_i_temps_old, temp_biases, p_i_b_s)\n",
    "        ])\n",
    "\n",
    "        #Compute the probability of each bin\n",
    "        p_x = numerator / np.sum(denominator, axis=1)\n",
    "\n",
    "        #Recompute the f_i values per window. This value will update till convergence\n",
    "        f_i_bias_factor = np.array([np.exp(-window_biases * bet) for bet in beta_range])\n",
    "        sum_p_bf = np.sum([p_ * f_ for p_, f_ in zip(p_x, f_i_bias_factor)], axis=2)\n",
    "        \n",
    "        f_i_temps_new = -temp_range_scaled[:,np.newaxis] * np.log(sum_p_bf)\n",
    "    \n",
    "        f_i_temps_over_time.append((np.max((f_i_temps_new - f_i_temps_old)**2)))\n",
    "        \n",
    "    value = f_i_temps_new[:,0]\n",
    "    F_i_temps = f_i_temps_new - value[:,np.newaxis]\n",
    "\n",
    "    #Get free energy\n",
    "    free = -np.log(p_x)\n",
    "    free = free - np.min(free, axis=1, keepdims=True)\n",
    "    \n",
    "    return free, F_i_temps, f_i_temps_over_time\n",
    " \n",
    "temp_range = np.arange(40,46,5)    \n",
    "free, F_i_temps, f_i_temps_over_time = weighted_histogram_analysis_method_temperature_interpolation(temp_range)"
   ]
  }
 ],
 "metadata": {
  "kernelspec": {
   "display_name": "Python 3",
   "language": "python",
   "name": "python3"
  },
  "language_info": {
   "codemirror_mode": {
    "name": "ipython",
    "version": 3
   },
   "file_extension": ".py",
   "mimetype": "text/x-python",
   "name": "python",
   "nbconvert_exporter": "python",
   "pygments_lexer": "ipython3",
   "version": "3.10.8"
  }
 },
 "nbformat": 4,
 "nbformat_minor": 5
}
