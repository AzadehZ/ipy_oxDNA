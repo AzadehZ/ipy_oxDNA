{
 "cells": [
  {
   "cell_type": "markdown",
   "id": "b3921e85-29c2-4cb1-9b75-6d529f041630",
   "metadata": {},
   "source": [
    "<font size='10'><h1 align=\"center\"><font color='blue'>iPy oxDNA Examples</font></h1>"
   ]
  },
  {
   "cell_type": "markdown",
   "id": "1e81dec7-5371-4bbd-a950-fb772418cb91",
   "metadata": {},
   "source": [
    "<center>\n",
    "<img src=\"oxDNA.png\">\n",
    "</center>"
   ]
  },
  {
   "cell_type": "markdown",
   "id": "1008a483-a062-443d-ae75-08cbc7905550",
   "metadata": {},
   "source": [
    "<font size='8'><a class=\"anchor\" id=\"3\"></a> <h2 align=\"center\"> <font color='black'>Mold</font></h2> \n"
   ]
  },
  {
   "cell_type": "code",
   "execution_count": null,
   "id": "d7bfbda8-c970-4a59-a18e-62c1cb28c1c1",
   "metadata": {},
   "outputs": [],
   "source": [
    "simulation_manager = SimulationManager() \n",
    "simulation_manager.start_nvidia_cuda_mps_control(pipe='temp')"
   ]
  },
  {
   "cell_type": "code",
   "execution_count": null,
   "id": "4e16321d-9066-4c13-bd3f-320bd02998b4",
   "metadata": {},
   "outputs": [],
   "source": [
    "import os\n",
    "os.chdir('../')\n",
    "os.getcwd()"
   ]
  },
  {
   "cell_type": "code",
   "execution_count": null,
   "id": "f629cb95-c1e5-4d18-8096-5f72f4525f5e",
   "metadata": {},
   "outputs": [],
   "source": [
    "from ipy_oxdna.umbrella_sampling import ComUmbrellaSampling, CustomObservableUmbrellaSampling\n",
    "from ipy_oxdna.oxdna_simulation import SimulationManager, Simulation, Observable, Force\n",
    "import os\n",
    "import matplotlib.pyplot as plt"
   ]
  },
  {
   "cell_type": "markdown",
   "id": "4a89111b-2bc8-4e07-b12e-7ebe259a6dc7",
   "metadata": {},
   "source": [
    "<font size='8'><a class=\"anchor\" id=\"3\"></a> <h2 align=\"center\"> <font color='black'>DNA Mold Only</font></h2> "
   ]
  },
  {
   "cell_type": "code",
   "execution_count": null,
   "id": "46fdd3c3-a841-4257-b631-2beedb35dc5e",
   "metadata": {},
   "outputs": [],
   "source": [
    "sim_manager = SimulationManager()\n",
    "\n",
    "path = os.path.abspath('/scratch/mlsample/ipy_oxDNA/ipy_oxdna_examples')\n",
    "file_dir = f'{path}/mold/final_mold'\n",
    "replicas = list(range(100))\n",
    "sim_dir_list = [f'{file_dir}/{rep}' for rep in replicas]\n",
    "\n",
    "sim_list = [Simulation(file_dir, sim_dir) for sim_dir in sim_dir_list]\n",
    "\n",
    "sim_parameters = [{'dt':f'0.002' ,'steps':'5e4','print_energy_every': '1e4','print_conf_interval':'1e4'} for _ in replicas]\n",
    "for sim_parameter, sim in zip(sim_parameters, sim_list):\n",
    "    sim.build(clean_build='force')\n",
    "    sim.input_file(sim_parameter)\n",
    "    sim_manager.queue_sim(sim)"
   ]
  },
  {
   "cell_type": "code",
   "execution_count": null,
   "id": "1e6f425a-3834-473e-b650-dc231f95a826",
   "metadata": {
    "tags": []
   },
   "outputs": [],
   "source": [
    "sim_manager.run(gpu_mem_block=False)"
   ]
  },
  {
   "cell_type": "code",
   "execution_count": null,
   "id": "924f82e8-0a5b-4601-b303-0ecb5c4a6ada",
   "metadata": {
    "tags": []
   },
   "outputs": [],
   "source": [
    "for sim in sim_list:\n",
    "    sim.analysis.plot_energy()"
   ]
  },
  {
   "cell_type": "code",
   "execution_count": null,
   "id": "279dfef5-2978-4f74-824d-9a8bb51abebf",
   "metadata": {},
   "outputs": [],
   "source": [
    "sim_manager = SimulationManager()\n",
    "\n",
    "path = os.path.abspath('../ipy_oxdna_examples/mold/')\n",
    "systems = ['new_mold', 'new_new_mold']\n",
    "\n",
    "file_dir_list = [f'{path}/{sys}' for sys in systems]\n",
    "sim_dir_list = [f'{file_dir}/equlibrate' for sys, file_dir in zip(systems, file_dir_list)]\n",
    "sim_list = [Simulation(file_dir, sim_dir) for sim_dir, file_dir in zip(sim_dir_list, file_dir_list)]\n",
    "\n",
    "sim_parameters = [{'dt':f'0.002','steps':'4e6','print_energy_every': '5e4','print_conf_interval':'5e4'} for _ in replicas]\n",
    "for sim_parameter, sim in zip(sim_parameters, sim_list):\n",
    "    sim.build(clean_build='force')\n",
    "    sim.input_file(sim_parameter)\n",
    "    sim_manager.queue_sim(sim)"
   ]
  },
  {
   "cell_type": "code",
   "execution_count": null,
   "id": "61fcd562-92cc-44a5-8d0f-6065197d1f2d",
   "metadata": {},
   "outputs": [],
   "source": [
    "sim_manager.run(gpu_mem_block=False)"
   ]
  },
  {
   "cell_type": "markdown",
   "id": "dcb794f4-79d2-4d4b-8d9f-26b46effa8ce",
   "metadata": {},
   "source": [
    "<font size='8'><a class=\"anchor\" id=\"3\"></a> <h2 align=\"center\"> <font color='black'>Protein Only</font></h2> \n"
   ]
  },
  {
   "cell_type": "code",
   "execution_count": null,
   "id": "9c7d70b1-1af2-4ea0-95c9-57f182ae6225",
   "metadata": {},
   "outputs": [],
   "source": [
    "sim_manager = SimulationManager()\n",
    "\n",
    "path = os.path.abspath('../ipy_oxdna_examples/mold/protein')\n",
    "systems = ['c1', 'c2', 'c3', 'c4']\n",
    "\n",
    "file_dir_list = [f'{path}/{sys}' for sys in systems]\n",
    "sim_dir_list = [f'{file_dir}/relax' for sys, file_dir in zip(systems, file_dir_list)]\n",
    "sim_list = [Simulation(file_dir, sim_dir) for sim_dir, file_dir in zip(sim_dir_list, file_dir_list)]\n",
    "\n",
    "sim_parameters = [{'dt':f'0.0002','steps':'4e6','print_energy_every': '5e4','print_conf_interval':'5e4'} for _ in replicas]\n",
    "for sim_parameter, sim in zip(sim_parameters, sim_list):\n",
    "    sim.build(clean_build='force')\n",
    "    sim.input_file(sim_parameter)\n",
    "    sim.add_protein_par()\n",
    "    sim_manager.queue_sim(sim)"
   ]
  },
  {
   "cell_type": "code",
   "execution_count": null,
   "id": "74b22bec-586f-470c-a105-61179b8d89d7",
   "metadata": {},
   "outputs": [],
   "source": [
    "sim_manager = SimulationManager()\n",
    "\n",
    "path = os.path.abspath('../ipy_oxdna_examples/mold/protein')\n",
    "systems = ['c1', 'c2', 'c3', 'c4']\n",
    "\n",
    "file_dir_list = [f'{path}/{sys}/relax' for sys in systems]\n",
    "sim_dir_list = [f'{file_dir}/../equlibrate' for sys, file_dir in zip(systems, file_dir_list)]\n",
    "sim_list = [Simulation(file_dir, sim_dir) for sim_dir, file_dir in zip(sim_dir_list, file_dir_list)]\n",
    "\n",
    "sim_parameters = [{'dt':f'0.002','steps':'4e6','print_energy_every': '5e4','print_conf_interval':'5e4'} for _ in replicas]\n",
    "for sim_parameter, sim in zip(sim_parameters, sim_list):\n",
    "    sim.build(clean_build='force')\n",
    "    sim.input_file(sim_parameter)\n",
    "    sim.add_protein_par()\n",
    "    sim_manager.queue_sim(sim)"
   ]
  },
  {
   "cell_type": "code",
   "execution_count": null,
   "id": "c634e678-0020-4f81-8d22-f9ec70864891",
   "metadata": {},
   "outputs": [],
   "source": [
    "import queue\n",
    "sim_manager = SimulationManager()\n",
    "\n",
    "path = os.path.abspath('../ipy_oxdna_examples/mold/protein')\n",
    "\n",
    "systems = ['c1', 'c2', 'c3', 'c4']\n",
    "replicas = list(range(4))\n",
    "file_dir_list = [f'{path}/{sys}/equlibrate' for sys in systems]\n",
    "sim_dir_list = [f'{file_dir}/../prod' for sys, file_dir in zip(systems, file_dir_list)]\n",
    "sim_rep_list = []\n",
    "for sys in sim_dir_list:\n",
    "    for rep in replicas:\n",
    "        sim_rep_list.append(f'{sys}_{rep}')\n",
    "q1 = queue.Queue()\n",
    "for sys in sim_rep_list:\n",
    "    q1.put(sys)\n",
    "sim_list = []\n",
    "\n",
    "for file_dir in file_dir_list:\n",
    "    for _ in range(len(replicas)):\n",
    "        sim_dir = q1.get()\n",
    "        sim_list.append(Simulation(file_dir, sim_dir))\n",
    "q2 = queue.Queue()\n",
    "for sim in sim_list:\n",
    "    q2.put(sim)\n",
    "sim_parameters = [{'dt':f'0.002','steps':'2.5e8','print_energy_every': '5e4','print_conf_interval':'5e4'} for _ in replicas]\n",
    "# for parameter in sim_parameters:\n",
    "#     for _ in range(len(replicas)):\n",
    "#         sim = q2.get()\n",
    "#         sim.build(clean_build='force')\n",
    "#         sim.input_file(parameter)\n",
    "#         sim.add_protein_par()\n",
    "#         sim_manager.queue_sim(sim)"
   ]
  },
  {
   "cell_type": "code",
   "execution_count": null,
   "id": "752a28e9-210f-47c2-876e-9a3d18db7346",
   "metadata": {
    "tags": []
   },
   "outputs": [],
   "source": [
    "sim_manager.run()"
   ]
  },
  {
   "cell_type": "code",
   "execution_count": null,
   "id": "9b2e1b71-af12-4aab-bab9-65546754d3f2",
   "metadata": {
    "tags": []
   },
   "outputs": [],
   "source": [
    "import time\n",
    "for sim in sim_list:\n",
    "    time.sleep(0.5)\n",
    "    sim.analysis.plot_energy()"
   ]
  },
  {
   "cell_type": "code",
   "execution_count": null,
   "id": "4c333a3a-0962-4b4e-b3a4-13f195a74364",
   "metadata": {},
   "outputs": [],
   "source": [
    "sim_manager = SimulationManager()\n",
    "\n",
    "path = os.path.abspath('/scratch/mlsample/ipy_oxDNA/ipy_oxdna_examples')\n",
    "file_dir = f'{path}/mold/protein/c1/0/'\n",
    "replicas = list(range(4))\n",
    "sim_dir_list = [f'{file_dir}/{rep}' for rep in replicas]\n",
    "\n",
    "sim_list = [Simulation(file_dir, sim_dir) for sim_dir in sim_dir_list]\n",
    "\n",
    "sim_parameters = [{'dt':f'0.002','steps':'7e6','print_energy_every': '5e4','print_conf_interval':'5e4'} for _ in replicas]\n",
    "for sim_parameter, sim in zip(sim_parameters, sim_list):\n",
    "    sim.build(clean_build='force')\n",
    "    sim.input_file(sim_parameter)\n",
    "    sim.add_protein_par()\n",
    "    sim_manager.queue_sim(sim)"
   ]
  },
  {
   "cell_type": "code",
   "execution_count": null,
   "id": "a17a3974-acd4-453c-aa61-38f11215be52",
   "metadata": {},
   "outputs": [],
   "source": [
    "sim_manager = SimulationManager()\n",
    "\n",
    "path = os.path.abspath('/scratch/mlsample/ipy_oxDNA/ipy_oxdna_examples')\n",
    "file_dir = f'{path}/mold/5_prot_mdanalysis'\n",
    "replicas = list(range(4))\n",
    "sim_dir_list = [f'{file_dir}/{rep}' for rep in replicas]\n",
    "\n",
    "sim_list = [Simulation(file_dir, sim_dir) for sim_dir in sim_dir_list]\n",
    "\n",
    "sim_parameters = [{'dt':f'0.002','steps':'2e8','print_energy_every': '5e4','print_conf_interval':'5e4'} for _ in replicas]\n",
    "for sim_parameter, sim in zip(sim_parameters, sim_list):\n",
    "    sim.build(clean_build='force')\n",
    "    sim.input_file(sim_parameter)\n",
    "    sim.add_protein_par()\n",
    "    sim_manager.queue_sim(sim)"
   ]
  },
  {
   "cell_type": "code",
   "execution_count": null,
   "id": "06cfd9ca-4979-4cde-93fe-6b175fb73cd3",
   "metadata": {
    "tags": []
   },
   "outputs": [],
   "source": [
    "sim_manager.run(gpu_mem_block=False)"
   ]
  },
  {
   "cell_type": "code",
   "execution_count": null,
   "id": "63a6520b-a17e-4c2f-a3a0-037af8390966",
   "metadata": {
    "tags": []
   },
   "outputs": [],
   "source": [
    "import time\n",
    "for sim in sim_list:\n",
    "    time.sleep(2.5)\n",
    "    sim.analysis.plot_energy()"
   ]
  },
  {
   "cell_type": "code",
   "execution_count": null,
   "id": "8d8a8a63-d743-42a3-b0a1-03ab8d88522b",
   "metadata": {},
   "outputs": [],
   "source": [
    "x = [145, 86, 65, 56.5, 50]\n",
    "y = [1, 2, 3, 4, 5]"
   ]
  },
  {
   "cell_type": "code",
   "execution_count": null,
   "id": "d2514405-7bd1-4747-936e-8798d1dd7d49",
   "metadata": {},
   "outputs": [],
   "source": [
    "plt.plot(y,x)"
   ]
  },
  {
   "cell_type": "markdown",
   "id": "bc40d5b3-54f5-44c6-84ca-0df7620e5800",
   "metadata": {},
   "source": [
    "# Mold and Protein Top Handles"
   ]
  },
  {
   "cell_type": "code",
   "execution_count": null,
   "id": "52e1faf2-e240-47a6-a62c-906ee9d22f3a",
   "metadata": {
    "tags": []
   },
   "outputs": [],
   "source": [
    "sim_manager = SimulationManager()\n",
    "\n",
    "path = os.path.abspath('/scratch/mlsample/ipy_oxDNA/ipy_oxdna_examples')\n",
    "file_dir = f'{path}/mold/skew_potential_final_system/3'\n",
    "replicas = list(range(28))\n",
    "sim_dir_list = [f'{file_dir}/../prod/{rep}' for rep in replicas]\n",
    "\n",
    "sim_list = [Simulation(file_dir, sim_dir) for sim_dir in sim_dir_list]\n",
    "\n",
    "sim_parameters = [{'verlet_skin':f'0.1', 'dt':f'0.002','steps':'2e8','print_energy_every': '5e4','print_conf_interval':'5e4'} for _ in replicas]\n",
    "# for sim_parameter, sim in zip(sim_parameters, sim_list):\n",
    "#     sim.build(clean_build='force')\n",
    "#     sim.input_file(sim_parameter)\n",
    "#     sim.add_protein_par()\n",
    "#     sim.add_force_file()\n",
    "#     sim_manager.queue_sim(sim)\n"
   ]
  },
  {
   "cell_type": "code",
   "execution_count": null,
   "id": "5e64f510-4699-4d89-ab4f-642890877631",
   "metadata": {},
   "outputs": [],
   "source": [
    "sim_manager = SimulationManager()\n",
    "\n",
    "path = os.path.abspath('/scratch/mlsample/ipy_oxDNA/ipy_oxdna_examples')\n",
    "file_dir = f'{path}/mold/skew_potential_final_system/prod/0'\n",
    "replicas = list(range(4))\n",
    "sim_dir_list = [f'{file_dir}/../../movie/{rep}' for rep in replicas]\n",
    "\n",
    "sim_list = [Simulation(file_dir, sim_dir) for sim_dir in sim_dir_list]\n",
    "\n",
    "sim_parameters = [{'max_io':'20','verlet_skin':f'0.1', 'dt':f'0.002','steps':'2e6','print_energy_every': \"1e4\",'print_conf_interval':\"1e4\"} for _ in replicas]\n",
    "for sim_parameter, sim in zip(sim_parameters, sim_list):\n",
    "    sim.build(clean_build='force')\n",
    "    sim.input_file(sim_parameter)\n",
    "    sim.add_protein_par()\n",
    "    sim.add_force_file()\n",
    "    sim_manager.queue_sim(sim)"
   ]
  },
  {
   "cell_type": "code",
   "execution_count": null,
   "id": "114e955a-c5f6-4e75-82f6-4735acc893a2",
   "metadata": {
    "tags": []
   },
   "outputs": [],
   "source": [
    "from time import sleep\n",
    "for sim in sim_list:\n",
    "    sim.oat.decimate(args='-p 1', join=False)\n",
    "    sleep(0.5)\n",
    "    "
   ]
  },
  {
   "cell_type": "code",
   "execution_count": null,
   "id": "9b580139-fa2b-441f-916a-8f4f1cf550c9",
   "metadata": {
    "tags": []
   },
   "outputs": [],
   "source": [
    "sim_manager.run(gpu_mem_block=False)"
   ]
  },
  {
   "cell_type": "markdown",
   "id": "e796467f-d14e-48ec-84d7-4fe89301f120",
   "metadata": {},
   "source": [
    "# Two Connection Umbrella"
   ]
  },
  {
   "cell_type": "code",
   "execution_count": null,
   "id": "ff039309-3432-4e59-9fd2-9d83f97d4577",
   "metadata": {},
   "outputs": [],
   "source": [
    "path = os.path.abspath('/scratch/mlsample/ipy_oxDNA/ipy_oxdna_examples')\n",
    "file_dir = f'{path}/mold/one_connection_mold_protein'\n",
    "system = 'two_con_face_1_umbrella'\n",
    "\n",
    "com_list = '1486,1498,1501,1502,1511,1515,1655,1667,1670,1671,1680,1684,1824,1836,1839,1840,1849,1853,1993,2005,2008,2009,2018,2022'\n",
    "ref_list = '2,3,15,29,171,172,184,198,340,341,353,367,509,510,522,536'\n",
    "xmin = 0\n",
    "xmax = 30\n",
    "n_windows = 47\n",
    "\n",
    "stiff = 0.05\n",
    "\n",
    "equlibration_parameters = {'dt':'0.002','steps':'2e5','print_energy_every': '2e5',\n",
    "                           'print_conf_interval':'2e5', 'fix_diffusion':'false'\n",
    "                          }\n",
    "\n",
    "production_parameters ={'dt':'0.002','steps':'2e5','print_energy_every': '2e5',\n",
    "                        'print_conf_interval':'2e5', 'fix_diffusion':'false'\n",
    "                        }\n",
    "\n",
    "us = ComUmbrellaSampling(file_dir, system)\n",
    "simulation_manager = SimulationManager()\n",
    "\n"
   ]
  },
  {
   "cell_type": "code",
   "execution_count": null,
   "id": "22813881-b5a2-4f61-92fa-c1f6cb807c3e",
   "metadata": {},
   "outputs": [],
   "source": [
    "path = os.path.abspath('/scratch/mlsample/ipy_oxDNA/ipy_oxdna_examples')\n",
    "file_dir = f'{path}/mold/one_connection_mold_protein'\n",
    "system = 'two_con_face_2_umbrella'\n",
    "\n",
    "com_list = '134,146,149,150,159,163,303,315,318,319,328,332,472,484,487,488,497,501,641,653,656,657,666,670'\n",
    "ref_list = '2706,2707,2719,2733,2875,2876,2888,2902,3044,3045,3057,3071,3213,3214,3226,3240'\n",
    "xmin = 0\n",
    "xmax = 30\n",
    "n_windows = 47\n",
    "\n",
    "stiff = 0.05\n",
    "\n",
    "equlibration_parameters = {'dt':'0.002','steps':'2e5','print_energy_every': '2e5',\n",
    "                           'print_conf_interval':'2e5', 'fix_diffusion':'false'\n",
    "                          }\n",
    "\n",
    "production_parameters ={'dt':'0.002','steps':'2e5','print_energy_every': '2e5',\n",
    "                        'print_conf_interval':'2e5', 'fix_diffusion':'false'\n",
    "                        }\n",
    "\n",
    "us = ComUmbrellaSampling(file_dir, system)\n",
    "simulation_manager = SimulationManager()"
   ]
  },
  {
   "cell_type": "code",
   "execution_count": null,
   "id": "209f2073-b017-4f15-8da3-83678c5096d9",
   "metadata": {},
   "outputs": [],
   "source": [
    "from umbrella_sampling import ComUmbrellaSampling, CustomObservableUmbrellaSampling\n",
    "from oxdna_simulation import SimulationManager, Simulation, Observable, Force, Replica\n",
    "import os\n",
    "import matplotlib.pyplot as plt"
   ]
  },
  {
   "cell_type": "markdown",
   "id": "6ce4952b-7395-4efd-b101-479b262b2231",
   "metadata": {},
   "source": [
    "# One Connection Mold and Protein"
   ]
  },
  {
   "cell_type": "code",
   "execution_count": null,
   "id": "c1015486-24eb-48e9-80b2-12a4c04e93ab",
   "metadata": {},
   "outputs": [],
   "source": [
    "sim_manager = SimulationManager()\n",
    "\n",
    "path = os.path.abspath('/scratch/mlsample/ipy_oxDNA/ipy_oxdna_examples')\n",
    "file_dir = f'{path}/mold/one_connection_mold_protein'\n",
    "replicas = list(range(28))\n",
    "sim_dir_list = [f'{file_dir}/{rep}' for rep in replicas]\n",
    "\n",
    "sim_list = [Simulation(file_dir, sim_dir) for sim_dir in sim_dir_list]\n",
    "\n",
    "sim_parameters = [{'verlet_skin':f'0.1', 'dt':f'0.002','steps':'2e8','print_energy_every': '5e5','print_conf_interval':'5e5'} for _ in replicas]\n",
    "# for sim_parameter, sim in zip(sim_parameters, sim_list):\n",
    "#     sim.build(clean_build='force')\n",
    "#     sim.input_file(sim_parameter)\n",
    "#     sim.add_protein_par()\n",
    "#     sim.add_force_file()\n",
    "#     sim_manager.queue_sim(sim)"
   ]
  },
  {
   "cell_type": "code",
   "execution_count": null,
   "id": "c020b0f7-12dc-4647-a5f2-bd8aa8d3ba10",
   "metadata": {},
   "outputs": [],
   "source": [
    "sim_list"
   ]
  },
  {
   "cell_type": "code",
   "execution_count": null,
   "id": "e101d49d-0f8e-4b0a-8b06-3afe6e26726e",
   "metadata": {
    "tags": []
   },
   "outputs": [],
   "source": [
    "sim_list[0].analysis.view_last()"
   ]
  },
  {
   "cell_type": "code",
   "execution_count": null,
   "id": "678c509e-b7e5-4ee0-8b87-0f20c3cbe4cd",
   "metadata": {
    "tags": []
   },
   "outputs": [],
   "source": [
    "sim_manager.run()"
   ]
  },
  {
   "cell_type": "code",
   "execution_count": null,
   "id": "d65bc39c-1b33-4a10-9007-9cfe1ec02cb7",
   "metadata": {},
   "outputs": [],
   "source": [
    "replica = Replica(sim_list)\n",
    "concat_dir  = 'concat_dir'\n",
    "replica.concat_trajectory(concat_dir=concat_dir)"
   ]
  },
  {
   "cell_type": "code",
   "execution_count": null,
   "id": "565d7a02-889f-4f15-917a-46759a75f264",
   "metadata": {
    "tags": []
   },
   "outputs": [],
   "source": [
    "concat = Simulation(file_dir, f'{file_dir}/{concat_dir}')\n",
    "\n",
    "\n",
    "concat.oat.mean(args='-p 20', join=True)\n",
    "concat.oat.centroid(args='-p 20', join=True)\n",
    "concat.oat.align(args='-p 20', join=True)\n",
    "concat.oat.deviations(args='-p 20', join=True)"
   ]
  },
  {
   "cell_type": "markdown",
   "id": "f84493b7-75f0-4c56-ba33-8d51b7b42d46",
   "metadata": {},
   "source": [
    "# Movie"
   ]
  },
  {
   "cell_type": "code",
   "execution_count": null,
   "id": "c6c5b095-f5df-4d22-91c4-8a9d8d7dfe93",
   "metadata": {},
   "outputs": [],
   "source": [
    "sim_manager = SimulationManager()\n",
    "\n",
    "path = os.path.abspath('/scratch/mlsample/ipy_oxDNA/ipy_oxdna_examples')\n",
    "file_dir = f'{path}/mold/one_connection_mold_protein/0'\n",
    "replicas = list(range(1))\n",
    "sim_dir_list = [f'{file_dir}/../movie/{rep}' for rep in replicas]\n",
    "\n",
    "sim_list = [Simulation(file_dir, sim_dir) for sim_dir in sim_dir_list]\n",
    "\n",
    "sim_parameters = [{'max_io':'20','verlet_skin':f'0.1', 'dt':f'0.002','steps':'5e6','print_energy_every': \"1e4\",'print_conf_interval':\"1e4\"} for _ in replicas]\n",
    "# for sim_parameter, sim in zip(sim_parameters, sim_list):\n",
    "#     sim.build(clean_build='force')\n",
    "#     sim.input_file(sim_parameter)\n",
    "#     sim.add_protein_par()\n",
    "#     sim.add_force_file()\n",
    "#     sim_manager.queue_sim(sim)"
   ]
  },
  {
   "cell_type": "code",
   "execution_count": null,
   "id": "c8c388d3-64ee-448a-bfc0-7160b2b27938",
   "metadata": {},
   "outputs": [],
   "source": [
    "sim_list[0].sim_dir"
   ]
  },
  {
   "cell_type": "code",
   "execution_count": null,
   "id": "aff87d70-9270-4fc6-b68b-fd090e1558f3",
   "metadata": {},
   "outputs": [],
   "source": [
    "sim_manager.run()"
   ]
  },
  {
   "cell_type": "markdown",
   "id": "5396ab86-bae9-468b-883e-b65ed5a0c765",
   "metadata": {},
   "source": [
    "# One Connection Umbrella"
   ]
  },
  {
   "cell_type": "code",
   "execution_count": null,
   "id": "8ee0fd45-afc9-4673-8f6e-e1f760189ab2",
   "metadata": {
    "tags": []
   },
   "outputs": [],
   "source": [
    "path = os.path.abspath('/scratch/mlsample/ipy_oxDNA/ipy_oxdna_examples')\n",
    "file_dir = f'{path}/mold/skew_potential_final_system/'\n",
    "system = 'new_two_con_face_1_umbrella'\n",
    "\n",
    "com_list = '1486,1498,1501,1502,1511,1515,1655,1667,1670,1671,1680,1684,1824,1836,1839,1840,1849,1853,1993,2005,2008,2009,2018,2022'\n",
    "ref_list = '2,3,15,29,171,172,184,198,340,341,353,367,509,510,522,536'\n",
    "xmin = 0\n",
    "xmax = 25\n",
    "n_windows = 94\n",
    "\n",
    "stiff = 0.5\n",
    "\n",
    "equlibration_parameters = {'dt':'0.002','steps':'2e6','print_energy_every': '2e6',\n",
    "                           'print_conf_interval':'2e6', 'fix_diffusion':'false'\n",
    "                          }\n",
    "\n",
    "production_parameters ={'dt':'0.002','steps':'1e7','print_energy_every': '1e7',\n",
    "                        'print_conf_interval':'1e7', 'fix_diffusion':'false'\n",
    "                        }\n",
    "\n",
    "us = ComUmbrellaSampling(file_dir, system)\n",
    "simulation_manager = SimulationManager()"
   ]
  },
  {
   "cell_type": "code",
   "execution_count": null,
   "id": "f4e9661a-1b7b-4b2c-98c2-5801c7627e99",
   "metadata": {
    "tags": []
   },
   "outputs": [],
   "source": [
    "us.production_sims[49:]"
   ]
  },
  {
   "cell_type": "code",
   "execution_count": null,
   "id": "e57fc66e-ba2c-41e6-b0ca-5acd11093a2c",
   "metadata": {
    "tags": []
   },
   "outputs": [],
   "source": [
    "us.equlibration_sims[0].analysis.view_last()\n"
   ]
  },
  {
   "cell_type": "code",
   "execution_count": null,
   "id": "ab1c716a-a475-4e59-aaa1-a362c26c238d",
   "metadata": {
    "tags": []
   },
   "outputs": [],
   "source": [
    "us.com_distance_observable(com_list, ref_list)\n",
    "plt.figure(dpi=600)\n",
    "for idx in range(0,94,1):\n",
    "    us.analysis.view_observable('prod', idx, sliding_window=False)#, observable=us.observables_list[0], sliding_window=20)\n",
    "plt.legend(fontsize=1)"
   ]
  },
  {
   "cell_type": "code",
   "execution_count": null,
   "id": "b450f7bd-55fc-4da5-8eb7-817593bfa065",
   "metadata": {},
   "outputs": [],
   "source": [
    "3476 * 1e3"
   ]
  },
  {
   "cell_type": "code",
   "execution_count": null,
   "id": "2b55c77a-c769-438d-98e5-bc9813597536",
   "metadata": {
    "tags": []
   },
   "outputs": [],
   "source": [
    "us.build_equlibration_runs(simulation_manager, n_windows, com_list, ref_list, stiff, xmin, xmax, equlibration_parameters, observable=True, sequence_dependant=False, print_every=1e3, name='com_distance.txt', protein=True, force_file=True)\n",
    "\n",
    "simulation_manager.run()"
   ]
  },
  {
   "cell_type": "code",
   "execution_count": null,
   "id": "a9b24996-76e3-4dc9-a999-d7111f98c464",
   "metadata": {
    "tags": []
   },
   "outputs": [],
   "source": [
    "us.build_production_runs(simulation_manager,\n",
    "                         n_windows,\n",
    "                         com_list,\n",
    "                         ref_list,\n",
    "                         stiff,\n",
    "                         xmin,\n",
    "                         xmax,\n",
    "                         production_parameters,\n",
    "                         observable=True,\n",
    "                         sequence_dependant=False,\n",
    "                         print_every=1e3,\n",
    "                         name='com_distance.txt',\n",
    "                         protein=True,\n",
    "                         force_file=True,\n",
    "                         continue_run=1e8)\n",
    "\n",
    "simulation_manager.run(gpu_mem_block=False)"
   ]
  },
  {
   "cell_type": "markdown",
   "id": "720e4ded-bccd-4b00-b13b-3ad0b484802e",
   "metadata": {},
   "source": [
    "# Umbrella Plots"
   ]
  },
  {
   "cell_type": "code",
   "execution_count": null,
   "id": "98323b7e-9b33-47e1-a081-0caac8662a6e",
   "metadata": {},
   "outputs": [],
   "source": [
    "path = os.path.abspath('/scratch/mlsample/ipy_oxDNA/ipy_oxdna_examples')\n",
    "file_dir = f'{path}/mold/one_connection_mold_protein'\n",
    "\n",
    "systems = ['new_face_1_umbrella', 'new_face_2_umbrella']#, 'two_con_face_2_umbrella']\n",
    "\n",
    "us_systems = [ComUmbrellaSampling(file_dir, system) for system in systems]\n",
    "\n",
    "path = os.path.abspath('/scratch/mlsample/ipy_oxDNA/ipy_oxdna_examples')\n",
    "file_dir = f'{path}/mold/skew_potential_final_system/'\n",
    "systems = ['new_two_con_face_1_umbrella', 'new_two_con_face_2_umbrella']\n",
    "\n",
    "us_2 =  [ComUmbrellaSampling(file_dir, system) for system in systems]\n",
    "\n",
    "us_systems.extend(us_2)\n",
    "us_systems\n"
   ]
  },
  {
   "cell_type": "code",
   "execution_count": null,
   "id": "f3140c67-e96e-4893-884e-4fa689eac068",
   "metadata": {
    "tags": []
   },
   "outputs": [],
   "source": [
    "xmin = 0\n",
    "xmax = 25\n",
    "n_windows = 94\n",
    "\n",
    "stiff = 0.5\n",
    "\n",
    "for us in us_systems:\n",
    "    wham_dir = os.path.abspath('/scratch/mlsample/ipy_oxDNA/wham/wham')\n",
    "    n_bins = '25'\n",
    "    tol = '1e-5'\n",
    "    n_boot = '10000'\n",
    "    us.wham_run(wham_dir, xmin, xmax, stiff, n_bins, tol, n_boot)"
   ]
  },
  {
   "cell_type": "code",
   "execution_count": null,
   "id": "b1326f80-9b4d-4e11-bef1-289a09475074",
   "metadata": {},
   "outputs": [],
   "source": [
    "%load_ext autoreload\n",
    "%autoreload 2"
   ]
  },
  {
   "cell_type": "code",
   "execution_count": null,
   "id": "3d5df518-f357-443a-80d4-ad2d3f2262e4",
   "metadata": {
    "tags": []
   },
   "outputs": [],
   "source": [
    "display(us_systems[0].free)"
   ]
  },
  {
   "cell_type": "code",
   "execution_count": null,
   "id": "baebac1e-06e7-4855-a39a-3e35ea2b0b16",
   "metadata": {},
   "outputs": [],
   "source": [
    "plt.style.use(['science', 'no-latex'])\n",
    "with plt.style.context(['science', 'no-latex', 'ieee']):\n",
    "    fig, ax = plt.subplots(dpi=300)\n",
    "    for us in us_systems:\n",
    "        us.wham.plot_probability(errorevery=15, ax=ax)\n",
    "    plt.legend(fontsize=4)\n",
    "    \n",
    "plt.xlabel('Center of mass distance between faces (nm)')\n",
    "plt.ylabel('Probability')"
   ]
  },
  {
   "cell_type": "code",
   "execution_count": null,
   "id": "ed63a2b7-9110-490d-a0f3-f1ad49bfe3cf",
   "metadata": {},
   "outputs": [],
   "source": [
    "import pandas as pd\n",
    "for us in us_systems:\n",
    "    df = us.free[['Prob']]\n",
    "    m = df.ne(0).idxmax()\n",
    "    display(pd.DataFrame(dict(pos=m, val=df.lookup(m, m.index))))\n",
    "    display(us.free.loc[m, ['#Coor']])"
   ]
  },
  {
   "cell_type": "code",
   "execution_count": null,
   "id": "6acd9a80-851b-4bf9-97a2-b967c386605f",
   "metadata": {},
   "outputs": [],
   "source": [
    "path = os.path.abspath('/scratch/mlsample/ipy_oxDNA/ipy_oxdna_examples')\n",
    "file_dir = f'{path}/mold/one_connection_mold_protein'\n",
    "system = 'face_1_umbrella'\n",
    "\n",
    "com_list = '2706,2707,2719,2733,2875,2876,2888,2902,3044,3045,3057,3071,3213,3214,3226,3240'\n",
    "ref_list = '134,146,149,150,159,163,303,315,318,319,328,332,472,484,487,488,497,501,641,653,656,657,666,670'\n",
    "xmin = 0\n",
    "xmax = 30\n",
    "n_windows = 47\n",
    "\n",
    "stiff = 0.05\n",
    "\n",
    "equlibration_parameters = {'dt':'0.002','steps':'1e7','print_energy_every': '1e7',\n",
    "                           'print_conf_interval':'1e7', 'fix_diffusion':'false'\n",
    "                          }\n",
    "\n",
    "production_parameters ={'dt':'0.002','steps':'1e8','print_energy_every': '1e7',\n",
    "                        'print_conf_interval':'1e8', 'fix_diffusion':'false'\n",
    "                        }\n",
    "\n",
    "us = ComUmbrellaSampling(file_dir, system)\n",
    "simulation_manager = SimulationManager()\n",
    "\n"
   ]
  },
  {
   "cell_type": "code",
   "execution_count": null,
   "id": "199e2163-25ff-4ce1-9db5-fa15b7c6fc90",
   "metadata": {},
   "outputs": [],
   "source": [
    "us.build_equlibration_runs(simulation_manager, n_windows, com_list, ref_list, stiff, xmin, xmax, equlibration_parameters, observable=True, sequence_dependant=False, print_every=1e3, name='com_distance.txt', protein=True, force_file=True)\n",
    "\n",
    "simulation_manager.worker_manager()\n",
    "\n",
    "us.build_production_runs(simulation_manager, n_windows, com_list, ref_list, stiff, xmin, xmax, production_parameters, observable=True, sequence_dependant=False, print_every=1e3, name='com_distance.txt', protein=True, force_file=True, continue_run=1e8)\n",
    "\n",
    "simulation_manager.worker_manager()\n",
    "\n",
    "wham_dir = os.path.abspath('/scratch/mlsample/ipy_oxDNA/wham/wham')\n",
    "n_bins = '200'\n",
    "tol = '1e-7'\n",
    "n_boot = '30'\n",
    "us.wham_run(wham_dir, xmin, xmax, stiff, n_bins, tol, n_boot)"
   ]
  },
  {
   "cell_type": "code",
   "execution_count": null,
   "id": "0c190007-0271-4d44-84da-c4362b7ef91c",
   "metadata": {
    "tags": []
   },
   "outputs": [],
   "source": [
    "for sim in sim_list:\n",
    "    sim.analysis.plot_energy()"
   ]
  },
  {
   "cell_type": "code",
   "execution_count": null,
   "id": "84262ed3-8860-4327-b35a-2f76b34e1831",
   "metadata": {
    "tags": []
   },
   "outputs": [],
   "source": [
    "def function_factory(oat_analysis_method):\n",
    "    print(f\"\"\"    def {oat_analysis_method}(self, args='', join=False):\n",
    "        if args == '-h':\n",
    "            os.system('oat {oat_analysis_method} -h')\n",
    "            return None\n",
    "        def run_{oat_analysis_method}(self, args=''):\n",
    "            start_dir = os.getcwd()\n",
    "            os.chdir(self.sim.sim_dir)\n",
    "            os.system(f'oat {oat_analysis_method} {{self.sim.sim_files.traj}} {{args}}')\n",
    "            os.chdir(start_dir)\n",
    "        p = mp.Process(target=run_{oat_analysis_method}, args=(self,), kwargs={{'args':args}})\n",
    "        p.start()\n",
    "        if join == True:\n",
    "            p.join()\n",
    "            \"\"\")\n",
    "oat_functions = ['align',\n",
    "'anm_parameterize',\n",
    "'backbone_flexibility',\n",
    "'bond_analysis',\n",
    "'centroid',\n",
    "'clustering',\n",
    "'config',\n",
    "'contact_map',\n",
    "'db_to_force',\n",
    "'decimate',\n",
    "'deviations',\n",
    "'distance',\n",
    "'duplex_angle_plotter',\n",
    "'duplex_finder',\n",
    "'file_info',\n",
    "'forces2pairs',\n",
    "'generate_force',\n",
    "'mean',\n",
    "'minify',\n",
    "'multidimensional_scaling_mean',\n",
    "'output_bonds',\n",
    "'oxDNA_PDB',\n",
    "'pca',\n",
    "'persistence_length',\n",
    "'plot_energy',\n",
    "'subset_trajectory',\n",
    "'superimpose']\n",
    "\n",
    "for analysis in oat_functions:\n",
    "    function_factory(analysis)"
   ]
  },
  {
   "cell_type": "code",
   "execution_count": null,
   "id": "47869c01-c8d3-4b2b-84d2-48caaaee61de",
   "metadata": {
    "tags": []
   },
   "outputs": [],
   "source": [
    "for sim in sim_list:\n",
    "    sim.analysis.plot_energy()"
   ]
  },
  {
   "cell_type": "code",
   "execution_count": null,
   "id": "c821c748-a927-4e9c-91ed-96b7be37bc2c",
   "metadata": {
    "tags": []
   },
   "outputs": [],
   "source": [
    "n_replicas = [4, 8, 12, 16, 20, 24, 28, 32, 36, 40, 44]\n",
    "for reps in n_replicas:\n",
    "    sim_manager = SimulationManager()\n",
    "    \n",
    "    path = os.path.abspath('/scratch/mlsample/ipy_oxDNA/ipy_oxdna_examples')\n",
    "    file_dir = f'{path}/mold/skew_potential_final_system/3'\n",
    "    replicas = list(range(reps))\n",
    "    sim_dir_list = [f'{file_dir}/../best_bench/{reps}_{rep}' for rep in replicas]\n",
    "    \n",
    "    sim_list = [Simulation(file_dir, sim_dir) for sim_dir in sim_dir_list]\n",
    "    \n",
    "    sim_parameters = [{'verlet_skin':f'0.1', 'dt':f'0.002','steps':'1e6','print_energy_every': '5e4','print_conf_interval':'5e4'} for _ in replicas]\n",
    "    for sim_parameter, sim in zip(sim_parameters, sim_list):\n",
    "        sim.build(clean_build='force')\n",
    "        sim.input_file(sim_parameter)\n",
    "        sim.add_protein_par()\n",
    "        sim.add_force_file()\n",
    "        sim_manager.queue_sim(sim)\n",
    "    sim_manager.worker_manager(gpu_mem_block=False)"
   ]
  },
  {
   "cell_type": "code",
   "execution_count": null,
   "id": "3c443882-e1e5-4ee6-929c-60450eaa79a4",
   "metadata": {
    "tags": []
   },
   "outputs": [],
   "source": [
    "sim_manager.run(gpu_mem_block=False)"
   ]
  },
  {
   "cell_type": "code",
   "execution_count": null,
   "id": "843d4b68-51f3-41e6-96e8-a5572bfe70da",
   "metadata": {},
   "outputs": [],
   "source": [
    "sim_manager = SimulationManager()\n",
    "\n",
    "path = os.path.abspath('/scratch/mlsample/ipy_oxDNA/ipy_oxdna_examples')\n",
    "file_dir = f'{path}/mold/5_prot_mdanalysis'\n",
    "replicas = list(range(4))\n",
    "sim_dir_list = [f'{file_dir}/../_cont_{rep}' for rep in replicas]\n",
    "\n",
    "sim_list = [Simulation(file_dir, sim_dir) for sim_dir in sim_dir_list]\n",
    "\n",
    "sim_parameters = [{'external_forces_as_JSON':'false', 'external_forces_file':'../same_box_force.txt',\n",
    "                   'external_forces':'true', 'dt':f'0.002',\n",
    "                   'steps':'2e8','print_energy_every': '5e4','print_conf_interval':'5e4'} for _ in replicas]\n",
    "for sim_parameter, sim in zip(sim_parameters, sim_list):\n",
    "    sim.build(clean_build='force')\n",
    "    sim.input_file(sim_parameter)\n",
    "    sim.add_protein_par()\n",
    "    sim_manager.queue_sim(sim)"
   ]
  },
  {
   "cell_type": "code",
   "execution_count": null,
   "id": "53f7634e-856d-481c-a42a-5460377a374b",
   "metadata": {
    "tags": []
   },
   "outputs": [],
   "source": [
    "sim_manager.run(gpu_mem_block=False)"
   ]
  },
  {
   "cell_type": "code",
   "execution_count": null,
   "id": "155ad470-4f19-4c53-a49a-a23ebb4eefba",
   "metadata": {
    "tags": []
   },
   "outputs": [],
   "source": [
    "import time\n",
    "for sim in sim_list:\n",
    "    time.sleep(2.5)\n",
    "    sim.analysis.view_last()"
   ]
  },
  {
   "cell_type": "code",
   "execution_count": null,
   "id": "47505920-3803-4f54-9b7f-f8c1145c8fa8",
   "metadata": {},
   "outputs": [],
   "source": [
    "path = os.path.abspath('/scratch/mlsample/ipy_oxDNA/ipy_oxdna_examples')\n",
    "file_dir = f'{path}/synbody/bound'\n",
    "system = '3_bound_umbrella_test_1'\n",
    "\n",
    "# com_list = '3366,3367,3368,3369,3370,3371,3372,3373,3374,3375,3376,3377,3378,3379,3380,3381,3382,3383,3384,3385,3386,3387,3388,3389,3390,3391,3392,3393,3394,3395,3396,3397,3398,3399,3400,3401,3402,3403,3404,3405,3406,3407,3408,3409,3410,3411,3412,3413,3414,3415,3416,3417,3418,3419,3420,3603,3604,3605,3606,3607,3608,3609,3610,3611,3612,3613,3614,3615,3616,3531,3532,3533,3534,3535,3536,3537,3538,3539,3540,3541,3542,3543,3544,3421,3422,3423,3424,3425,3426,3427,3428,3429,3430,3431,3432,3433,3434,3435,3436,3437,3438,3439,3440,3441,3442,3443,3444,3445,3446,3447,3448,3449,3450,3451,3452,3453,3454,3455,3456,3457,3458,3459,3460,3461,3462,3463,3464,3465,3466,3467,3468,3469,3470,3471,3472,3473,3474,3475,3659,3660,3661,3662,3663,3664,3665,3666,3667,3668,3669,3670,3671,3672,3476,3477,3478,3479,3480,3481,3482,3483,3484,3485,3486,3487,3488,3489,3490,3491,3492,3493,3494,3495,3496,3497,3498,3499,3500,3501,3502,3503,3504,3505,3506,3507,3508,3509,3510,3511,3512,3513,3514,3515,3516,3517,3518,3519,3520,3521,3522,3523,3524,3525,3526,3527,3528,3529,3530'\n",
    "com_list = '3366,3367,3368,3369,3370,3371,3372,3373,3374,3375,3376,3377,3378,3379,3380,3381,3382,3383,3384,3385,3386,3387,3388,3389,3390,3391,3392,3393,3394,3395,3396,3397,3398,3399,3400,3401,3402,3403,3404,3405,3406,3407,3408,3409,3410,3411,3412,3413,3414,3415,3416,3417,3418,3419,3420,3421,3422,3423,3424,3425,3426,3427,3428,3429,3430,3431,3432,3433,3434,3435,3436,3437,3438,3439,3440,3441,3442,3443,3444,3445,3446,3447,3448,3449,3450,3451,3452,3453,3454,3455,3456,3457,3458,3459,3460,3461,3462,3463,3464,3465,3466,3467,3468,3469,3470,3471,3472,3473,3474,3475,3476,3477,3478,3479,3480,3481,3482,3483,3484,3485,3486,3487,3488,3489,3490,3491,3492,3493,3494,3495,3496,3497,3498,3499,3500,3501,3502,3503,3504,3505,3506,3507,3508,3509,3510,3511,3512,3513,3514,3515,3516,3517,3518,3519,3520,3521,3522,3523,3524,3525,3526,3527,3528,3529,3530'\n",
    "\n",
    "ref_1 = '1623,1432,1433,1434,1435,1436,1437,1438,1439,1440,1441,1442,1443,1444,1445,1446,1447,1448,1449,1450,1451,1452,1453,1454,1455,1456,1457,1458,1459,1460,1461,1462,1463,1464,1465,1466,1467,1468,1469,1470,1471,1472,1473,1474,1475,1476,1477,1478,1479,1480,1481,1482,1483,1484,1485,1486,1487,1488,1489,1490,1491,1492,1493,1494,1495,1496,1497,1498,1499,1500,1501,1502,1503,1504,1505,1506,1507,1508,1509,1510,1511,1512,1513,1514,1515,1516,1517,1518,1519,1520,1521,1522,1523,1524,1525,1526,1527,1528,1529,1530,1531,1532,1533,1534,1535,1536,1537,1538,1539,1540,1541,1542,1543,1544,1545,1546,1547,1548,1549,1550,1551,1552,1553,1554,1555,1556,1557,1558,1559,1560,1561,1562,1563,1564,1565,1566,1567,1568,1569,1570,1571,1572,1573,1574,1575,1576,1577,1578,1579,1580,1581,1582,1583,1584,1585,1586,1587,1588,1589,1590,1591,1592,1593,1594,1595,1596,1597,1598,1599,1600,1601,1602,1603,1604,1605,1606,1607,1608,1609,1610,1611,1612,1613,1614,1615,1616,1617,1618,1619,1620,1621,1622'\n",
    "ref_2 = '2744,2553,2554,2555,2556,2557,2558,2559,2560,2561,2562,2563,2564,2565,2566,2567,2568,2569,2570,2571,2572,2573,2574,2575,2576,2577,2578,2579,2580,2581,2582,2583,2584,2585,2586,2587,2588,2589,2590,2591,2592,2593,2594,2595,2596,2597,2598,2599,2600,2601,2602,2603,2604,2605,2606,2607,2608,2609,2610,2611,2612,2613,2614,2615,2616,2617,2618,2619,2620,2621,2622,2623,2624,2625,2626,2627,2628,2629,2630,2631,2632,2633,2634,2635,2636,2637,2638,2639,2640,2641,2642,2643,2644,2645,2646,2647,2648,2649,2650,2651,2652,2653,2654,2655,2656,2657,2658,2659,2660,2661,2662,2663,2664,2665,2666,2667,2668,2669,2670,2671,2672,2673,2674,2675,2676,2677,2678,2679,2680,2681,2682,2683,2684,2685,2686,2687,2688,2689,2690,2691,2692,2693,2694,2695,2696,2697,2698,2699,2700,2701,2702,2703,2704,2705,2706,2707,2708,2709,2710,2711,2712,2713,2714,2715,2716,2717,2718,2719,2720,2721,2722,2723,2724,2725,2726,2727,2728,2729,2730,2731,2732,2733,2734,2735,2736,2737,2738,2739,2740,2741,2742,2743'\n",
    "ref_3 = '500,309,310,311,312,313,314,315,316,317,318,319,320,321,322,323,324,325,326,327,328,329,330,331,332,333,334,335,336,337,338,339,340,341,342,343,344,345,346,347,348,349,350,351,352,353,354,355,356,357,358,359,360,361,362,363,364,365,366,367,368,369,370,371,372,373,374,375,376,377,378,379,380,381,382,383,384,385,386,387,388,389,390,391,392,393,394,395,396,397,398,399,400,401,402,403,404,405,406,407,408,409,410,411,412,413,414,415,416,417,418,419,420,421,422,423,424,425,426,427,428,429,430,431,432,433,434,435,436,437,438,439,440,441,442,443,444,445,446,447,448,449,450,451,452,453,454,455,456,457,458,459,460,461,462,463,464,465,466,467,468,469,470,471,472,473,474,475,476,477,478,479,480,481,482,483,484,485,486,487,488,489,490,491,492,493,494,495,496,497,498,499'\n",
    "ref_1_len=192\n",
    "\n",
    "ref_list = ref_1 + ',' + ref_2 + ',' + ref_3\n",
    "xmin = 0\n",
    "xmax = 20\n",
    "n_windows = 60\n",
    "\n",
    "stiff = 1\n",
    "\n",
    "equlibration_parameters = {'dt':'0.001','steps':'5e6','print_energy_every': '5e5',\n",
    "                           'print_conf_interval':'5e5'\n",
    "                          }\n",
    "\n",
    "production_parameters ={'dt':'0.001','steps':'2e6','print_energy_every': '5e4',\n",
    "                        'print_conf_interval':'5e4'\n",
    "                        }\n",
    "\n",
    "us = ComUmbrellaSampling(file_dir, system)\n",
    "simulation_manager = SimulationManager()"
   ]
  },
  {
   "cell_type": "code",
   "execution_count": null,
   "id": "2620c3e4-0827-45cd-a8e3-4ed243f3ad41",
   "metadata": {
    "tags": []
   },
   "outputs": [],
   "source": [
    "us.build_equlibration_runs(simulation_manager, n_windows, com_list, ref_list, stiff, xmin, xmax, equlibration_parameters,\n",
    "                           observable=True, sequence_dependant=False, print_every=1e3, name='com_distance.txt', protein=True, force_file=True)"
   ]
  },
  {
   "cell_type": "code",
   "execution_count": null,
   "id": "e874d5bb-1ec0-4933-aeff-510584c4c56c",
   "metadata": {
    "tags": []
   },
   "outputs": [],
   "source": [
    "simulation_manager.run()"
   ]
  },
  {
   "cell_type": "code",
   "execution_count": null,
   "id": "d5b5fc79-21be-4af9-be11-0d3024e35522",
   "metadata": {},
   "outputs": [],
   "source": [
    "us.build_production_runs(simulation_manager, n_windows, com_list, ref_list, stiff, xmin, xmax, production_parameters,\n",
    "                           observable=True, sequence_dependant=False, print_every=1e3, name='com_distance.txt', protein=True, force_file=True)"
   ]
  },
  {
   "cell_type": "code",
   "execution_count": null,
   "id": "ab6325d1-025d-4ef3-82ff-b7378b383252",
   "metadata": {
    "tags": []
   },
   "outputs": [],
   "source": [
    "simulation_manager.run()"
   ]
  },
  {
   "cell_type": "code",
   "execution_count": null,
   "id": "8101f548-bfaf-4905-9fac-1055bccd7fbb",
   "metadata": {
    "tags": []
   },
   "outputs": [],
   "source": [
    "us.equlibration_sims[15].analysis.view_last()\n",
    "    "
   ]
  },
  {
   "cell_type": "code",
   "execution_count": null,
   "id": "d5fc8d79-e198-4562-b82d-d545a5ae4ddf",
   "metadata": {
    "tags": []
   },
   "outputs": [],
   "source": [
    "us.com_distance_observable(com_list, ref_list)\n",
    "plt.figure(dpi=200)\n",
    "for idx in range(0,30,1):\n",
    "    us.analysis.view_observable('eq', idx, sliding_window=False)#, observable=us.observables_list[0], sliding_window=20)\n",
    "plt.legend(fontsize=4)\n",
    "# plt.ylim(0, 15)"
   ]
  },
  {
   "cell_type": "code",
   "execution_count": null,
   "id": "6ac137c1-689e-4f2e-a524-2fc182ee5122",
   "metadata": {
    "tags": []
   },
   "outputs": [],
   "source": [
    "for idx in range(0,48):\n",
    "    print(idx)\n",
    "    us.equlibration_sims[idx].sim_files.last_conf"
   ]
  },
  {
   "cell_type": "code",
   "execution_count": null,
   "id": "6a3a5730-70bc-494a-a4d3-68c74c783489",
   "metadata": {},
   "outputs": [],
   "source": [
    "us.analysis.view_conf('eq', 13)"
   ]
  },
  {
   "cell_type": "code",
   "execution_count": null,
   "id": "defef66e-3e6e-4f3d-b521-fff04e107d4b",
   "metadata": {},
   "outputs": [],
   "source": [
    "wham_dir = os.path.abspath('/scratch/mlsample/ipy_oxDNA/src/wham/wham')\n",
    "n_bins = '50'\n",
    "tol = '1e-7'\n",
    "n_boot = '30'\n",
    "us.wham_run(wham_dir, xmin, xmax, stiff, n_bins, tol, n_boot)"
   ]
  },
  {
   "cell_type": "code",
   "execution_count": null,
   "id": "f7c1b071-5b8a-4050-87bd-401cea9fab85",
   "metadata": {},
   "outputs": [],
   "source": [
    "us.plot_free()"
   ]
  },
  {
   "cell_type": "code",
   "execution_count": null,
   "id": "1667138b-a9d1-4961-ab5d-d0ed5157644a",
   "metadata": {},
   "outputs": [],
   "source": [
    "path = os.path.abspath('/scratch/mlsample/ipy_oxDNA/ipy_oxdna_examples')\n",
    "file_dir = f'{path}/duplex_melting'\n",
    "systems = ['us_melting_10', 'us_melting', 'us_melting_30','us_melting_40']\n",
    "\n",
    "us_list = [MeltingUmbrellaSampling(file_dir, system) for system in systems]"
   ]
  },
  {
   "cell_type": "code",
   "execution_count": null,
   "id": "a3e78e08-1c81-4bf2-b5ae-cebed436278b",
   "metadata": {},
   "outputs": [],
   "source": [
    "us_list[0].fig_ax()\n",
    "\n",
    "for us in us_list:\n",
    "    us.plot_free(ax=us_list[0].ax)\n",
    "plt.legend([f'{10 + 273}K', f'{20 + 273}K', f'{30 + 273}K', f'{40 + 273}K'])\n",
    "plt.title('8nt Duplex Melting Free Energy Profile')\n",
    "plt.xlabel('COM Distance (nm)')"
   ]
  },
  {
   "cell_type": "code",
   "execution_count": null,
   "id": "0e7b16e8-d483-42c8-a7f7-18300c4d0b03",
   "metadata": {},
   "outputs": [],
   "source": [
    "import pandas as pd\n",
    "import numpy as np"
   ]
  },
  {
   "cell_type": "code",
   "execution_count": null,
   "id": "7c8fa913-eac6-4945-becb-1d2a8b4446cc",
   "metadata": {},
   "outputs": [],
   "source": [
    "free = pd.read_csv(f'{us.system_dir}/production/com_dir/freefile', sep='\\t')"
   ]
  },
  {
   "cell_type": "code",
   "execution_count": null,
   "id": "4b489a85-e2e1-4b6a-a095-0cb5d2e42721",
   "metadata": {},
   "outputs": [],
   "source": [
    "free_vals = free.iloc[-95:].Free"
   ]
  },
  {
   "cell_type": "code",
   "execution_count": null,
   "id": "6bb07e1b-47d2-4077-9bdf-8999d66b17a0",
   "metadata": {},
   "outputs": [],
   "source": [
    "free_vals.iloc[1:]"
   ]
  },
  {
   "cell_type": "code",
   "execution_count": null,
   "id": "d6f3e104-271d-4eab-8b2b-484bab9eaf0c",
   "metadata": {
    "tags": []
   },
   "outputs": [],
   "source": [
    "H_vals = np.zeros(94)\n",
    "us.hb_list_observable(print_every=1e3)\n",
    "for idx, sim in enumerate(us.production_sims):\n",
    "    sim_dir = sim.sim_dir\n",
    "    file_name = us.observables_list[1]['output']['name']\n",
    "    df = pd.read_csv(f\"{sim_dir}/{file_name}\", header=None)\n",
    "    df = np.concatenate(np.array(df))\n",
    "    H, bins = np.histogram(df, density=False, bins=np.linspace(0, 8, 95))\n",
    "    H_vals += H"
   ]
  },
  {
   "cell_type": "code",
   "execution_count": null,
   "id": "2cde587c-5ca0-45cd-af38-ef5245b47b6f",
   "metadata": {},
   "outputs": [],
   "source": [
    "prob_H = H_vals / sum(H_vals)"
   ]
  },
  {
   "cell_type": "code",
   "execution_count": null,
   "id": "810126d7-f503-4116-8db3-a65e80d0e336",
   "metadata": {},
   "outputs": [],
   "source": [
    "plt.plot(bins[:-1], -np.log(prob_H))"
   ]
  },
  {
   "cell_type": "code",
   "execution_count": null,
   "id": "17f76af0-7840-4f48-b1d8-bcdc2f27c30d",
   "metadata": {},
   "outputs": [],
   "source": []
  },
  {
   "cell_type": "code",
   "execution_count": null,
   "id": "c2e081ee-ebd4-4a48-9f7b-dea2972c6f21",
   "metadata": {},
   "outputs": [],
   "source": [
    "file_name = us.observables_list[0]['output']['name']"
   ]
  }
 ],
 "metadata": {
  "kernelspec": {
   "display_name": "oxdna",
   "language": "python",
   "name": "oxdna"
  },
  "language_info": {
   "codemirror_mode": {
    "name": "ipython",
    "version": 3
   },
   "file_extension": ".py",
   "mimetype": "text/x-python",
   "name": "python",
   "nbconvert_exporter": "python",
   "pygments_lexer": "ipython3",
   "version": "3.10.9"
  }
 },
 "nbformat": 4,
 "nbformat_minor": 5
}
