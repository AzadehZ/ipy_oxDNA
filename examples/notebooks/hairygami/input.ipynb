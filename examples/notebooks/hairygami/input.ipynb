{
 "cells": [
  {
   "cell_type": "markdown",
   "id": "b3921e85-29c2-4cb1-9b75-6d529f041630",
   "metadata": {},
   "source": [
    "<font size='10'><h1 align=\"center\"><font color='blue'>iPy oxDNA Examples</font></h1>"
   ]
  },
  {
   "cell_type": "markdown",
   "id": "1e81dec7-5371-4bbd-a950-fb772418cb91",
   "metadata": {},
   "source": [
    "<center>\n",
    "<img src=\"oxDNA.png\">\n",
    "</center>"
   ]
  },
  {
   "cell_type": "markdown",
   "id": "1008a483-a062-443d-ae75-08cbc7905550",
   "metadata": {},
   "source": [
    "<font size='8'><a class=\"anchor\" id=\"3\"></a> <h2 align=\"center\"> <font color='black'>Test oxpy_anm</font></h2> \n"
   ]
  },
  {
   "cell_type": "code",
   "execution_count": null,
   "id": "d7bfbda8-c970-4a59-a18e-62c1cb28c1c1",
   "metadata": {},
   "outputs": [],
   "source": [
    "simulation_manager = SimulationManager() \n",
    "simulation_manager.start_nvidia_cuda_mps_control(pipe='temp')"
   ]
  },
  {
   "cell_type": "code",
   "execution_count": null,
   "id": "f629cb95-c1e5-4d18-8096-5f72f4525f5e",
   "metadata": {},
   "outputs": [],
   "source": [
    "from ipy_oxdna.umbrella_sampling import ComUmbrellaSampling, CustomObservableUmbrellaSampling\n",
    "from ipy_oxdna.oxdna_simulation import SimulationManager, Simulation, Observable, Force\n",
    "import os\n",
    "import matplotlib.pyplot as plt\n",
    "import queue"
   ]
  },
  {
   "cell_type": "markdown",
   "id": "4a89111b-2bc8-4e07-b12e-7ebe259a6dc7",
   "metadata": {},
   "source": [
    "<font size='8'><a class=\"anchor\" id=\"3\"></a> <h2 align=\"center\"> <font color='black'>Tests</font></h2> "
   ]
  },
  {
   "cell_type": "code",
   "execution_count": null,
   "id": "46fdd3c3-a841-4257-b631-2beedb35dc5e",
   "metadata": {},
   "outputs": [],
   "source": [
    "sim_manager = SimulationManager()\n",
    "\n",
    "path = os.path.abspath('/scratch/mlsample/ipy_oxDNA/ipy_oxdna_examples/input_files')\n",
    "\n",
    "systems = ['unrelaxed_test', 'relaxed_test']\n",
    "conditions = ['MD_CUDA', 'MD_CPU', 'MC_CPU']\n",
    "\n",
    "file_dir_list = sorted([f'{path}/{sys}' for sys in systems] * len(conditions))\n",
    "sim_dir_list =  sorted([f'{path}/{sys}/{condition}' for condition in conditions for sys in systems])\n",
    "\n",
    "\n",
    "sim_list = [Simulation(file_dir, sim_dir) for file_dir, sim_dir in zip(file_dir_list, sim_dir_list)]\n",
    "\n",
    "sim_parameters = [\n",
    "    {'backend_precision': 'float' ,'sim_type':'MC', 'delta_translation':'0.2', 'delta_rotation':'0.2','backend':'CPU', 'dt':f'0.002','steps':'1e6','print_energy_every': '1e4','print_conf_interval':'1e4', 'max_density_multiplier':'10'},\n",
    "    {'backend_precision': 'float','backend':'CPU','dt':f'0.002','steps':'1e6','print_energy_every': '1e4','print_conf_interval':'1e4', 'max_density_multiplier':'10'},\n",
    "    {'dt':f'0.002','steps':'1e6','print_energy_every': '1e4','print_conf_interval':'1e4', 'max_density_multiplier':'10'}\n",
    "] * len(systems)\n",
    "\n",
    "for sim, parameters in zip(sim_list, sim_parameters):\n",
    "    sim.build(clean_build='force')\n",
    "    sim.input_file(parameters)\n",
    "    sim_manager.queue_sim(sim)"
   ]
  },
  {
   "cell_type": "code",
   "execution_count": null,
   "id": "4b18fdbf-334a-46c8-829b-e547f8ed3567",
   "metadata": {
    "tags": []
   },
   "outputs": [],
   "source": [
    "sim_manager.run(gpu_mem_block=False, run_when_failed=True)"
   ]
  },
  {
   "cell_type": "code",
   "execution_count": null,
   "id": "924f82e8-0a5b-4601-b303-0ecb5c4a6ada",
   "metadata": {
    "tags": []
   },
   "outputs": [],
   "source": [
    "for sim in sim_list:\n",
    "    sim.analysis.view_last()"
   ]
  },
  {
   "cell_type": "code",
   "execution_count": null,
   "id": "05f46864-0431-4c0c-b149-e6cd2a7095c2",
   "metadata": {},
   "outputs": [],
   "source": [
    "sim_manager = SimulationManager()\n",
    "\n",
    "path = os.path.abspath('/scratch/mlsample/ipy_oxDNA/ipy_oxdna_examples')\n",
    "file_dir = f'{path}/input_files'\n",
    "replicas = list(range(1))\n",
    "sim_dir_list = [f'{file_dir}/test_2/' for rep in replicas]\n",
    "\n",
    "sim_list = [Simulation(file_dir, sim_dir) for sim_dir in sim_dir_list]\n",
    "\n",
    "sim_parameters = [{'sim_type':'MC' ,'delta_translation':'0.2', 'delta_rotation':'0.2','backend':'CPU', 'dt':f'0.003','steps':'1e6','print_energy_every': '1e4','print_conf_interval':'1e4', 'max_density_multiplier':'10'} for _ in replicas]\n",
    "for sim_parameter, sim in zip(sim_parameters, sim_list):\n",
    "    sim.build(clean_build='force')\n",
    "    sim.input_file(sim_parameter)\n",
    "    sim_manager.queue_sim(sim)"
   ]
  },
  {
   "cell_type": "code",
   "execution_count": null,
   "id": "c5835146-ac89-4b7b-98ee-84a65738e5a8",
   "metadata": {},
   "outputs": [],
   "source": [
    "sim_manager.run(gpu_mem_block=False)"
   ]
  },
  {
   "cell_type": "markdown",
   "id": "dcb794f4-79d2-4d4b-8d9f-26b46effa8ce",
   "metadata": {},
   "source": [
    "<font size='8'><a class=\"anchor\" id=\"3\"></a> <h2 align=\"center\"> <font color='black'>Protein Only</font></h2> \n"
   ]
  },
  {
   "cell_type": "code",
   "execution_count": null,
   "id": "9c7d70b1-1af2-4ea0-95c9-57f182ae6225",
   "metadata": {},
   "outputs": [],
   "source": [
    "sim_manager = SimulationManager()\n",
    "\n",
    "path = os.path.abspath('/scratch/mlsample/ipy_oxDNA/ipy_oxdna_examples')\n",
    "file_dir = f'{path}/square_block_lattice/protein/with_par'\n",
    "replicas = range(4)\n",
    "\n",
    "sim_dir_list = [f'{file_dir}/../equili/{rep}' for rep in replicas]\n",
    "\n",
    "sim_list = [Simulation(file_dir, sim_dir) for sim_dir in sim_dir_list]\n",
    "\n",
    "# sim_parameters = [{'dt':f'0.0002','steps':'4e6','print_energy_every': '5e4','print_conf_interval':'5e4'} for _ in replicas]\n",
    "# for sim_parameter, sim in zip(sim_parameters, sim_list):\n",
    "#     sim.build(clean_build='force')\n",
    "#     sim.input_file(sim_parameter)\n",
    "#     sim.add_protein_par()\n",
    "    sim_manager.queue_sim(sim)"
   ]
  },
  {
   "cell_type": "code",
   "execution_count": null,
   "id": "913255ba-142a-41da-b21d-0f1df2887499",
   "metadata": {
    "tags": []
   },
   "outputs": [],
   "source": [
    "sim_manager.run(gpu_mem_block=False)"
   ]
  },
  {
   "cell_type": "code",
   "execution_count": null,
   "id": "3fa680ba-8772-4d07-bdda-97e068c3a2d8",
   "metadata": {
    "tags": []
   },
   "outputs": [],
   "source": [
    "for sim in sim_list:\n",
    "    sim.analysis.plot_energy()"
   ]
  },
  {
   "cell_type": "code",
   "execution_count": null,
   "id": "74b22bec-586f-470c-a105-61179b8d89d7",
   "metadata": {},
   "outputs": [],
   "source": [
    "sim_manager = SimulationManager()\n",
    "\n",
    "path = os.path.abspath('/scratch/mlsample/ipy_oxDNA/ipy_oxdna_examples')\n",
    "file_dir = f'{path}/square_block_lattice/protein/equili/0'\n",
    "replicas = range(4)\n",
    "\n",
    "sim_dir_list = [f'{file_dir}/../..//equili_2/{rep}' for rep in replicas]\n",
    "\n",
    "sim_list = [Simulation(file_dir, sim_dir) for sim_dir in sim_dir_list]\n",
    "\n",
    "# sim_parameters = [{'dt':f'0.002','steps':'4e6','print_energy_every': '5e4','print_conf_interval':'5e4'} for _ in replicas]\n",
    "# for sim_parameter, sim in zip(sim_parameters, sim_list):\n",
    "#     sim.build(clean_build='force')\n",
    "#     sim.input_file(sim_parameter)\n",
    "#     sim.add_protein_par()\n",
    "#     sim_manager.queue_sim(sim)"
   ]
  },
  {
   "cell_type": "code",
   "execution_count": null,
   "id": "752a28e9-210f-47c2-876e-9a3d18db7346",
   "metadata": {
    "tags": []
   },
   "outputs": [],
   "source": [
    "sim_manager.run()"
   ]
  },
  {
   "cell_type": "code",
   "execution_count": null,
   "id": "9b2e1b71-af12-4aab-bab9-65546754d3f2",
   "metadata": {
    "tags": []
   },
   "outputs": [],
   "source": [
    "for sim in sim_list:\n",
    "    sim.analysis.plot_energy()"
   ]
  },
  {
   "cell_type": "markdown",
   "id": "bc40d5b3-54f5-44c6-84ca-0df7620e5800",
   "metadata": {},
   "source": [
    "<font size='8'><a class=\"anchor\" id=\"3\"></a> <h2 align=\"center\"> <font color='black'>DNA Lattice and Proteins</font></h2> "
   ]
  },
  {
   "cell_type": "code",
   "execution_count": null,
   "id": "52e1faf2-e240-47a6-a62c-906ee9d22f3a",
   "metadata": {
    "tags": []
   },
   "outputs": [],
   "source": [
    "sim_manager = SimulationManager()\n",
    "\n",
    "path = os.path.abspath('/scratch/mlsample/ipy_oxDNA/ipy_oxdna_examples')\n",
    "file_dir = f'{path}/square_block_lattice/dna_protein_lattice_skew/equili/0'\n",
    "replicas = range(28)\n",
    "\n",
    "sim_dir_list = [f'{file_dir}/../../prod/{rep}' for rep in replicas]\n",
    "\n",
    "sim_list = [Simulation(file_dir, sim_dir) for sim_dir in sim_dir_list]\n",
    "\n",
    "# sim_parameters = [{'dt':f'0.002','steps':'3.5e7','print_energy_every': '5e5','print_conf_interval':'5e5'} for _ in replicas]\n",
    "# for sim_parameter, sim in zip(sim_parameters, sim_list):\n",
    "#     sim.build(clean_build='force')\n",
    "#     sim.input_file(sim_parameter)\n",
    "#     sim.add_protein_par()\n",
    "#     sim.add_force_file()\n",
    "    # sim_manager.queue_sim(sim, continue_run=1e8)"
   ]
  },
  {
   "cell_type": "code",
   "execution_count": null,
   "id": "b2623b30-e2be-4e2b-a82a-bce24ec4a6f6",
   "metadata": {
    "tags": []
   },
   "outputs": [],
   "source": [
    "sim_manager.run(gpu_mem_block=True)"
   ]
  },
  {
   "cell_type": "code",
   "execution_count": null,
   "id": "07fcfe8e-e1fd-4bba-8a4d-4e70dc822c09",
   "metadata": {
    "tags": []
   },
   "outputs": [],
   "source": [
    "for sim in sim_list:\n",
    "    sim.analysis.plot_energy()"
   ]
  },
  {
   "cell_type": "code",
   "execution_count": null,
   "id": "09aa42ff-ced1-4eea-996f-70b3af3e26cc",
   "metadata": {
    "tags": []
   },
   "outputs": [],
   "source": [
    "for sim in sim_list[:3]:\n",
    "    sim.analysis.view_last()"
   ]
  },
  {
   "cell_type": "code",
   "execution_count": null,
   "id": "114e955a-c5f6-4e75-82f6-4735acc893a2",
   "metadata": {
    "tags": []
   },
   "outputs": [],
   "source": [
    "from time import sleep\n",
    "for sim in sim_list:\n",
    "    sim.oat.decimate(args='-p 1', join=False)\n",
    "    sleep(0.5)\n",
    "    "
   ]
  },
  {
   "cell_type": "markdown",
   "id": "52b6f105-5846-4ddd-87ba-2157f8494181",
   "metadata": {},
   "source": [
    "<font size='8'><a class=\"anchor\" id=\"3\"></a> <h2 align=\"center\"> <font color='black'>5nm and 7nm</font></h2> \n",
    "    \n",
    "    \n",
    "<font size='8'><a class=\"anchor\" id=\"3\"></a> <h2 align=\"center\"> <font color='black'>DNA and Protein Mutual Trap relax</font></h2> "
   ]
  },
  {
   "cell_type": "code",
   "execution_count": null,
   "id": "6f38189e-3668-41fc-8a24-4bf1e5733177",
   "metadata": {},
   "outputs": [],
   "source": [
    "sim_manager = SimulationManager()\n",
    "\n",
    "path = os.path.abspath('/scratch/mlsample/ipy_oxDNA/ipy_oxdna_examples/square_block_lattice')\n",
    "\n",
    "systems = ['5nm_mutual_trap', '7nm_mutual_trap']\n",
    "replicas = range(1)\n",
    "file_dir_list = [f'{path}/{sys}/relax_0' for sys in systems]\n",
    "sim_dir_list = [f'{file_dir}/../eq' for sys, file_dir in zip(systems, file_dir_list)]\n",
    "sim_rep_list = []\n",
    "for sys in sim_dir_list:\n",
    "    for rep in replicas:\n",
    "        sim_rep_list.append(f'{sys}_{rep}')\n",
    "q1 = queue.Queue()\n",
    "for sys in sim_rep_list:\n",
    "    q1.put(sys)\n",
    "sim_list = []\n",
    "\n",
    "for file_dir in file_dir_list:\n",
    "    for _ in range(len(replicas)):\n",
    "        sim_dir = q1.get()\n",
    "        sim_list.append(Simulation(file_dir, sim_dir))\n",
    "q2 = queue.Queue()\n",
    "for sim in sim_list:\n",
    "    q2.put(sim)\n",
    "sim_parameters = [{'dt':f'0.002', 'steps':'1e6','print_energy_every': '5e4','print_conf_interval':'5e4'} for sys in systems]\n",
    "for parameter in sim_parameters:\n",
    "    for _ in range(len(replicas)):\n",
    "        sim = q2.get()\n",
    "        sim.build(clean_build='force')\n",
    "        sim.input_file(parameter)\n",
    "        sim.add_protein_par()\n",
    "        sim.add_force_file()\n",
    "        sim_manager.queue_sim(sim)"
   ]
  },
  {
   "cell_type": "code",
   "execution_count": null,
   "id": "c0cb0fc2-8026-4cf0-bddc-180212fdbc62",
   "metadata": {},
   "outputs": [],
   "source": [
    "sim_manager.run(gpu_mem_block=False)"
   ]
  },
  {
   "cell_type": "code",
   "execution_count": null,
   "id": "aa46c26c-f5eb-4475-96a6-517f4484502d",
   "metadata": {
    "tags": []
   },
   "outputs": [],
   "source": [
    "for sim in sim_list:\n",
    "    sim.analysis.plot_energy()"
   ]
  },
  {
   "cell_type": "markdown",
   "id": "5f749ed1-f3af-440a-af10-50f60b25aa70",
   "metadata": {},
   "source": [
    "<font size='8'><a class=\"anchor\" id=\"3\"></a> <h2 align=\"center\"> <font color='black'>DNA and Protein Skew</font></h2> "
   ]
  },
  {
   "cell_type": "code",
   "execution_count": null,
   "id": "48b86412-ed92-4be3-992a-ab216edc62c5",
   "metadata": {},
   "outputs": [],
   "source": [
    "sim_manager = SimulationManager()\n",
    "\n",
    "path = os.path.abspath('/scratch/mlsample/ipy_oxDNA/ipy_oxdna_examples/square_block_lattice')\n",
    "\n",
    "systems = ['5nm_skew', '7nm_skew']\n",
    "replicas = range(20)\n",
    "file_dir_list = [f'{path}/{sys}/eq_0' for sys in systems]\n",
    "sim_dir_list = [f'{file_dir}/../{sys}_prod' for sys, file_dir in zip(systems, file_dir_list)]\n",
    "sim_rep_list = []\n",
    "for sys in sim_dir_list:\n",
    "    for rep in replicas:\n",
    "        sim_rep_list.append(f'{sys}_{rep}')\n",
    "q1 = queue.Queue()\n",
    "for sys in sim_rep_list:\n",
    "    q1.put(sys)\n",
    "sim_list = []\n",
    "\n",
    "for file_dir in file_dir_list:\n",
    "    for _ in range(len(replicas)):\n",
    "        sim_dir = q1.get()\n",
    "        sim_list.append(Simulation(file_dir, sim_dir))\n",
    "q2 = queue.Queue()\n",
    "for sim in sim_list:\n",
    "    q2.put(sim)\n",
    "sim_parameters = [{'dt':f'0.002', 'steps':'1e7','print_energy_every': '5e5','print_conf_interval':'5e5'} for sys in systems]\n",
    "for parameter in sim_parameters:\n",
    "    for _ in range(len(replicas)):\n",
    "        sim = q2.get()\n",
    "        sim.build(clean_build='force')\n",
    "        sim.input_file(parameter)\n",
    "        sim.add_protein_par()\n",
    "        sim.add_force_file()\n",
    "        sim_manager.queue_sim(sim)"
   ]
  },
  {
   "cell_type": "code",
   "execution_count": null,
   "id": "9b47ee52-b43d-49ae-b790-aa40f97dd8fe",
   "metadata": {
    "tags": []
   },
   "outputs": [],
   "source": [
    "sim_manager.run(gpu_mem_block=False)"
   ]
  },
  {
   "cell_type": "code",
   "execution_count": null,
   "id": "5efc1e33-98a7-40d7-9aaf-690d056f8c9d",
   "metadata": {
    "tags": []
   },
   "outputs": [],
   "source": [
    "for sim in sim_list:\n",
    "    sim.analysis.plot_energy()"
   ]
  },
  {
   "cell_type": "markdown",
   "id": "0977bdb0-cd68-45e4-90ce-207365c560df",
   "metadata": {},
   "source": [
    "<font size='8'><a class=\"anchor\" id=\"3\"></a> <h2 align=\"center\"> <font color='black'>DNA Lattice and Proteins Base Duplex Umbrella</font></h2> "
   ]
  },
  {
   "cell_type": "code",
   "execution_count": null,
   "id": "9e19de8d-dbc3-45c1-a5e9-2dee0a6d15b2",
   "metadata": {
    "tags": []
   },
   "outputs": [],
   "source": [
    "path = os.path.abspath('/scratch/mlsample/ipy_oxDNA/ipy_oxdna_examples/square_block_lattice')\n",
    "system_name = ['5nm_skew', '7nm_skew', 'dna_protein_lattice_skew']\n",
    "file_dirs = [f'{path}/{sys}' for sys in system_name] * 2\n",
    "systems = [f'5nm_skew_mid_mid_dna', '7nm_skew_mid_mid_dna', '10nm_skew_mid_mid_dna', '5nm_skew_mid_top_dna', '7nm_skew_mid_top_dna', '10nm_skew_mid_top_dna']\n",
    "\n",
    "com_lists = [\n",
    "    '9471,9472,9473,9474,9475,9476,9477,9478,9479,9480,22563,22562,22561,22560,22559,22558,22557,22556,22555,22554',\n",
    "    '10515,10516,10517,10518,10519,10520,10521,10522,10523,10524,22016,22015,22014,22013,22012,22011,22010,22009,22008,22007',\n",
    "    '9567,9568,9569,9570,9571,9572,9573,9574,9575,9576,22183,22182,22181,22180,22179,22178,22177,22176,22175,22174',\n",
    "    '9471,9472,9473,9474,9475,9476,9477,9478,9479,9480,22563,22562,22561,22560,22559,22558,22557,22556,22555,22554',    \n",
    "    '10515,10516,10517,10518,10519,10520,10521,10522,10523,10524,22016,22015,22014,22013,22012,22011,22010,22009,22008,22007',\n",
    "    '9567,9568,9569,9570,9571,9572,9573,9574,9575,9576,22183,22182,22181,22180,22179,22178,22177,22176,22175,22174',\n",
    "]\n",
    "    \n",
    "    \n",
    "    \n",
    "ref_lists = [\n",
    "    '9419,9420,9421,9422,9423,9424,9425,9426,9427,9428,22017,22016,22015,22014,22013,22011,22012,22010,22009,22008',\n",
    "    '9420,9421,9422,9423,9424,9425,9426,9427,9428,9429,22249,22248,22247,22246,22245,22244,22243,22242,22241,22240',\n",
    "    '11653,11654,11655,11656,11657,11658,11659,11660,11661,11662,22240,22239,22238,22237,22236,22235,22234,22233,22232,22231',    \n",
    "    '3858,10515,10516,10517,10518,10519,10520,10521,10522,10523,10524,22485,22484,22483,22482,22481,22480,22479,22478,22477,22476',    \n",
    "    '11653,11654,11655,11656,11657,11658,11659,11660,11661,11662,22094,22093,22092,22091,22090,22089,22088,22087,22086,22085',\n",
    "    '9419,9420,9421,9422,9423,9424,9425,9426,9427,9428,22354,22353,22352,22351,22350,22349,22348,22347,22346,22345'\n",
    "    \n",
    "]\n",
    "             \n",
    "\n",
    "stiff = 0.1\n",
    "xmin = 0\n",
    "xmax = 25\n",
    "n_windows = 23\n",
    "\n",
    "equlibration_parameters = {'dt':f'0.002', 'steps':'2e5','print_energy_every': '1e5','print_conf_interval':'1e5', 'fix_diffusion':'false'}\n",
    "production_parameters = {'dt':f'0.002', 'steps':'2e7','print_energy_every': '2e7','print_conf_interval':'2e7', 'fix_diffusion':'false'}\n",
    "\n",
    "us_list = [ComUmbrellaSampling(file_dir, sys) for file_dir, sys in zip(file_dirs,systems)]\n",
    "\n",
    "simulation_manager = SimulationManager()"
   ]
  },
  {
   "cell_type": "code",
   "execution_count": null,
   "id": "c13cb852-5357-4c0e-801e-24879b9ee997",
   "metadata": {},
   "outputs": [],
   "source": [
    "strings = '9567,9568,9569,9570,9571,9572,9573,9574,9575,9576,22183,22182,22181,22180,22179,22178,22177,22176,22175,22174'\n",
    "len(strings.split(','))"
   ]
  },
  {
   "cell_type": "code",
   "execution_count": null,
   "id": "7b32a134-33c2-4364-afa8-929f5579710d",
   "metadata": {},
   "outputs": [],
   "source": [
    "for us, com_list, ref_list in zip(us_list, com_lists, ref_lists):\n",
    "    us.build_equlibration_runs(simulation_manager, n_windows, com_list, ref_list, stiff, xmin, xmax, equlibration_parameters, print_every=1e3, observable=True, protein=True, force_file=True)\n"
   ]
  },
  {
   "cell_type": "code",
   "execution_count": null,
   "id": "5195e22e-e2d4-4548-a2f6-0d5618b3cef5",
   "metadata": {
    "tags": []
   },
   "outputs": [],
   "source": [
    "simulation_manager.run(gpu_mem_block=False)\n"
   ]
  },
  {
   "cell_type": "code",
   "execution_count": null,
   "id": "9d27fc67-9eb0-47a7-aef2-ddfc3cc9cbc0",
   "metadata": {},
   "outputs": [],
   "source": [
    "for us, com_list, ref_list in zip(us_list, com_lists, ref_lists):\n",
    "    us.build_production_runs(simulation_manager, n_windows, com_list, ref_list, stiff, xmin, xmax, production_parameters, observable=True, print_every=1e3, name='com_distance.txt', protein=True, force_file=True)\n"
   ]
  },
  {
   "cell_type": "code",
   "execution_count": null,
   "id": "273fbab1-7904-4fe6-839a-d60eee028361",
   "metadata": {
    "tags": []
   },
   "outputs": [],
   "source": [
    "simulation_manager.worker_manager(gpu_mem_block=False)\n"
   ]
  },
  {
   "cell_type": "code",
   "execution_count": null,
   "id": "1c02d60b-e426-4749-98db-d043d95de7e3",
   "metadata": {},
   "outputs": [],
   "source": [
    "wham_dir = os.path.abspath('/scratch/mlsample/ipy_oxDNA/wham/wham')\n",
    "n_bins = '200'\n",
    "tol = '1e-5'\n",
    "n_boot = '100'\n",
    "for us in us_list:\n",
    "    us.wham_run(wham_dir, xmin, xmax, stiff, n_bins, tol, n_boot)"
   ]
  },
  {
   "cell_type": "code",
   "execution_count": null,
   "id": "8a1519ba-5d1a-4b9d-9072-580b35dc9b7d",
   "metadata": {
    "tags": []
   },
   "outputs": [],
   "source": [
    "for com_list, ref_list, us in zip(com_lists, ref_lists, us_list):\n",
    "    us.com_distance_observable(com_list, ref_list)\n",
    "\n",
    "\n",
    "for us in us_list:\n",
    "    plt.figure(dpi=200)\n",
    "    for idx in range(0,23,1):\n",
    "        us.analysis.view_observable('prod', idx, sliding_window=10)#, observable=us.observables_list[0], sliding_window=20)\n",
    "    plt.legend([us.system], fontsize=7)"
   ]
  },
  {
   "cell_type": "code",
   "execution_count": null,
   "id": "b49bf0fc-4f72-4f5c-bef9-6f05f1219ef2",
   "metadata": {},
   "outputs": [],
   "source": [
    "with plt.style.context(['science', 'no-latex']): \n",
    "\n",
    "    ax = us_list[0].wham.plt_fig()\n",
    "    for us in [us_list[0],us_list[3], us_list[1], us_list[4], us_list[2], us_list[5]]:\n",
    "        us.wham.plot_probability(ax=ax)\n",
    "    \n",
    "    plt.legend(fontsize=6)"
   ]
  },
  {
   "cell_type": "code",
   "execution_count": null,
   "id": "f4528c43-5d9f-44a7-bca6-17b6df8b973e",
   "metadata": {
    "tags": []
   },
   "outputs": [],
   "source": [
    "with plt.style.context(['science', 'no-latex']): \n",
    "\n",
    "    ax = us_list[0].wham.plt_fig()\n",
    "    for us in [us_list[0],us_list[3], us_list[1], us_list[4], us_list[2], us_list[5]]:\n",
    "        us.plot_free(ax=ax)\n",
    "    \n",
    "    plt.legend(fontsize=6)"
   ]
  },
  {
   "cell_type": "code",
   "execution_count": null,
   "id": "09787b6b-b52a-47ae-8462-9c20d931a563",
   "metadata": {
    "tags": []
   },
   "outputs": [],
   "source": [
    "for us in us_list:\n",
    "    us.production_sims[21].analysis.view_last()"
   ]
  },
  {
   "cell_type": "markdown",
   "id": "9bcdbdfd-08ba-4694-930e-0f0d4909dc26",
   "metadata": {
    "tags": []
   },
   "source": [
    "<font size='8'><a class=\"anchor\" id=\"3\"></a> <h2 align=\"center\"> <font color='black'>Umbrella Sampling 5 and 7 nm Protein</font></h2> "
   ]
  },
  {
   "cell_type": "code",
   "execution_count": null,
   "id": "7cf3716d-f3ca-44ef-b2fb-9020dfd87463",
   "metadata": {
    "tags": []
   },
   "outputs": [],
   "source": [
    "path = os.path.abspath('/scratch/mlsample/ipy_oxDNA/ipy_oxdna_examples/square_block_lattice')\n",
    "system_name = ['5nm_skew', '7nm_skew']\n",
    "file_dirs = [f'{path}/{sys}' for sys in system_name] * 2\n",
    "systems = [f'5nm_skew_mid_mid_protein', '7nm_skew_mid_mid_protein', '5nm_skew_mid_top_protein', '7nm_skew_mid_top_protein'] \n",
    "\n",
    "com_lists = [\n",
    "    '1620,1621,1622,1623,1624,1625,1626,1627,1628,1629,1630,1631,1632,1633,1634,1635,1636,1637,1638,1639,1640,1641,1642,1643,1644,1645,1646,1647,1648,1649,1650,1651,1652,1653,1654,1655,1656,1657,1658,1659,1660,1661,1662,1663,1664,1665,1666,1667,1668,1669,1670,1671,1672,1673,1674,1675,1676,1677,1678,1679,1680,1681,1682,1683,1684,1685,1686,1687,1688,1689,1690,1691,1692,1693,1694,1695,1696,1697,1698,1699,1700,1701,1702,1703,1704,1705,1706,1707,1708,1709,1710,1711,1712,1713,1714,1715,1716,1717,1718,1719,1720,1721,1722,1723,1724,1725,1726,1727,1728,1729,1730,1731,1732,1733,1734,1735,1736,1737,1738,1739,1740,1741,1742,1743,1744,1745,1746,1747,1748,1749,1750,1751,1752,1753,1754,1755,1756,1757,1758,1759,1760,1761,1762,1763,1764,1765,1766,1767,1768,1769,1770,1771,1772,1773,1774,1775,1776,1777,1778,1779,1780,1781,1782,1783,1784,1785,1786,1787,1788,1789,1790,1791,1792,1793,1794,1795,1796,1797,1798,1799,1800,1801,1802,1803,1804,1805,1806,1807,1808,1809,1810,1811,1812,1813,1814,1815,1816,1817,1818,1819,1820,1821,1822,1823,1824,1825,1826,1827,1828,1829,1830,1831,1832,1833,1834,1835,1836,1837,1838,1839,1840,1841,1842,1843,1844,1845,1846,1847,1848,1849,1850,1851,1852,1853,1854,1855,1856,1857,1858,1859,1860,1861,1862,1863,1864,1865,1866,1867,1868,1869,1870,1871,1872,1873,1874,1875,1876,1877,1878,1879,1880,1881,1882,1883,1884,1885,1886,1887,1888,1889',\n",
    "    '1350,1351,1352,1353,1354,1355,1356,1357,1358,1359,1360,1361,1362,1363,1364,1365,1366,1367,1368,1369,1370,1371,1372,1373,1374,1375,1376,1377,1378,1379,1380,1381,1382,1383,1384,1385,1386,1387,1388,1389,1390,1391,1392,1393,1394,1395,1396,1397,1398,1399,1400,1401,1402,1403,1404,1405,1406,1407,1408,1409,1410,1411,1412,1413,1414,1415,1416,1417,1418,1419,1420,1421,1422,1423,1424,1425,1426,1427,1428,1429,1430,1431,1432,1433,1434,1435,1436,1437,1438,1439,1440,1441,1442,1443,1444,1445,1446,1447,1448,1449,1450,1451,1452,1453,1454,1455,1456,1457,1458,1459,1460,1461,1462,1463,1464,1465,1466,1467,1468,1469,1470,1471,1472,1473,1474,1475,1476,1477,1478,1479,1480,1481,1482,1483,1484,1485,1486,1487,1488,1489,1490,1491,1492,1493,1494,1495,1496,1497,1498,1499,1500,1501,1502,1503,1504,1505,1506,1507,1508,1509,1510,1511,1512,1513,1514,1515,1516,1517,1518,1519,1520,1521,1522,1523,1524,1525,1526,1527,1528,1529,1530,1531,1532,1533,1534,1535,1536,1537,1538,1539,1540,1541,1542,1543,1544,1545,1546,1547,1548,1549,1550,1551,1552,1553,1554,1555,1556,1557,1558,1559,1560,1561,1562,1563,1564,1565,1566,1567,1568,1569,1570,1571,1572,1573,1574,1575,1576,1577,1578,1579,1580,1581,1582,1583,1584,1585,1586,1587,1588,1589,1590,1591,1592,1593,1594,1595,1596,1597,1598,1599,1600,1601,1602,1603,1604,1605,1606,1607,1608,1609,1610,1611,1612,1613,1614,1615,1616,1617,1618,1619',\n",
    "    '1620,1621,1622,1623,1624,1625,1626,1627,1628,1629,1630,1631,1632,1633,1634,1635,1636,1637,1638,1639,1640,1641,1642,1643,1644,1645,1646,1647,1648,1649,1650,1651,1652,1653,1654,1655,1656,1657,1658,1659,1660,1661,1662,1663,1664,1665,1666,1667,1668,1669,1670,1671,1672,1673,1674,1675,1676,1677,1678,1679,1680,1681,1682,1683,1684,1685,1686,1687,1688,1689,1690,1691,1692,1693,1694,1695,1696,1697,1698,1699,1700,1701,1702,1703,1704,1705,1706,1707,1708,1709,1710,1711,1712,1713,1714,1715,1716,1717,1718,1719,1720,1721,1722,1723,1724,1725,1726,1727,1728,1729,1730,1731,1732,1733,1734,1735,1736,1737,1738,1739,1740,1741,1742,1743,1744,1745,1746,1747,1748,1749,1750,1751,1752,1753,1754,1755,1756,1757,1758,1759,1760,1761,1762,1763,1764,1765,1766,1767,1768,1769,1770,1771,1772,1773,1774,1775,1776,1777,1778,1779,1780,1781,1782,1783,1784,1785,1786,1787,1788,1789,1790,1791,1792,1793,1794,1795,1796,1797,1798,1799,1800,1801,1802,1803,1804,1805,1806,1807,1808,1809,1810,1811,1812,1813,1814,1815,1816,1817,1818,1819,1820,1821,1822,1823,1824,1825,1826,1827,1828,1829,1830,1831,1832,1833,1834,1835,1836,1837,1838,1839,1840,1841,1842,1843,1844,1845,1846,1847,1848,1849,1850,1851,1852,1853,1854,1855,1856,1857,1858,1859,1860,1861,1862,1863,1864,1865,1866,1867,1868,1869,1870,1871,1872,1873,1874,1875,1876,1877,1878,1879,1880,1881,1882,1883,1884,1885,1886,1887,1888,1889',\n",
    "    '1350,1351,1352,1353,1354,1355,1356,1357,1358,1359,1360,1361,1362,1363,1364,1365,1366,1367,1368,1369,1370,1371,1372,1373,1374,1375,1376,1377,1378,1379,1380,1381,1382,1383,1384,1385,1386,1387,1388,1389,1390,1391,1392,1393,1394,1395,1396,1397,1398,1399,1400,1401,1402,1403,1404,1405,1406,1407,1408,1409,1410,1411,1412,1413,1414,1415,1416,1417,1418,1419,1420,1421,1422,1423,1424,1425,1426,1427,1428,1429,1430,1431,1432,1433,1434,1435,1436,1437,1438,1439,1440,1441,1442,1443,1444,1445,1446,1447,1448,1449,1450,1451,1452,1453,1454,1455,1456,1457,1458,1459,1460,1461,1462,1463,1464,1465,1466,1467,1468,1469,1470,1471,1472,1473,1474,1475,1476,1477,1478,1479,1480,1481,1482,1483,1484,1485,1486,1487,1488,1489,1490,1491,1492,1493,1494,1495,1496,1497,1498,1499,1500,1501,1502,1503,1504,1505,1506,1507,1508,1509,1510,1511,1512,1513,1514,1515,1516,1517,1518,1519,1520,1521,1522,1523,1524,1525,1526,1527,1528,1529,1530,1531,1532,1533,1534,1535,1536,1537,1538,1539,1540,1541,1542,1543,1544,1545,1546,1547,1548,1549,1550,1551,1552,1553,1554,1555,1556,1557,1558,1559,1560,1561,1562,1563,1564,1565,1566,1567,1568,1569,1570,1571,1572,1573,1574,1575,1576,1577,1578,1579,1580,1581,1582,1583,1584,1585,1586,1587,1588,1589,1590,1591,1592,1593,1594,1595,1596,1597,1598,1599,1600,1601,1602,1603,1604,1605,1606,1607,1608,1609,1610,1611,1612,1613,1614,1615,1616,1617,1618,1619'\n",
    "]\n",
    "    \n",
    "    \n",
    "    \n",
    "ref_lists = [\n",
    "    '2565,2566,2567,2568,2569,2570,2571,2572,2573,2574,2575,2576,2577,2578,2579,2580,2581,2582,2583,2584,2585,2586,2587,2588,2589,2590,2591,2592,2593,2594,2595,2596,2597,2598,2599,2600,2601,2602,2603,2604,2605,2606,2607,2608,2609,2610,2611,2612,2613,2614,2615,2616,2617,2618,2619,2620,2621,2622,2623,2624,2625,2626,2627,2628,2629,2630,2631,2632,2633,2634,2635,2636,2637,2638,2639,2640,2641,2642,2643,2644,2645,2646,2647,2648,2649,2650,2651,2652,2653,2654,2655,2656,2657,2658,2659,2660,2661,2662,2663,2664,2665,2666,2667,2668,2669,2670,2671,2672,2673,2674,2675,2676,2677,2678,2679,2680,2681,2682,2683,2684,2685,2686,2687,2688,2689,2690,2691,2692,2693,2694,2695,2696,2697,2698,2699,2430,2431,2432,2433,2434,2435,2436,2437,2438,2439,2440,2441,2442,2443,2444,2445,2446,2447,2448,2449,2450,2451,2452,2453,2454,2455,2456,2457,2458,2459,2460,2461,2462,2463,2464,2465,2466,2467,2468,2469,2470,2471,2472,2473,2474,2475,2476,2477,2478,2479,2480,2481,2482,2483,2484,2485,2486,2487,2488,2489,2490,2491,2492,2493,2494,2495,2496,2497,2498,2499,2500,2501,2502,2503,2504,2505,2506,2507,2508,2509,2510,2511,2512,2513,2514,2515,2516,2517,2518,2519,2520,2521,2522,2523,2524,2525,2526,2527,2528,2529,2530,2531,2532,2533,2534,2535,2536,2537,2538,2539,2540,2541,2542,2543,2544,2545,2546,2547,2548,2549,2550,2551,2552,2553,2554,2555,2556,2557,2558,2559,2560,2561,2562,2563,2564',\n",
    "    '2430,2431,2432,2433,2434,2435,2436,2437,2438,2439,2440,2441,2442,2443,2444,2445,2446,2447,2448,2449,2450,2451,2452,2453,2454,2455,2456,2457,2458,2459,2460,2461,2462,2463,2464,2465,2466,2467,2468,2469,2470,2471,2472,2473,2474,2475,2476,2477,2478,2479,2480,2481,2482,2483,2484,2485,2486,2487,2488,2489,2490,2491,2492,2493,2494,2495,2496,2497,2498,2499,2500,2501,2502,2503,2504,2505,2506,2507,2508,2509,2510,2511,2512,2513,2514,2515,2516,2517,2518,2519,2520,2521,2522,2523,2524,2525,2526,2527,2528,2529,2530,2531,2532,2533,2534,2535,2536,2537,2538,2539,2540,2541,2542,2543,2544,2545,2546,2547,2548,2549,2550,2551,2552,2553,2554,2555,2556,2557,2558,2559,2560,2561,2562,2563,2564,2565,2566,2567,2568,2569,2570,2571,2572,2573,2574,2575,2576,2577,2578,2579,2580,2581,2582,2583,2584,2585,2586,2587,2588,2589,2590,2591,2592,2593,2594,2595,2596,2597,2598,2599,2600,2601,2602,2603,2604,2605,2606,2607,2608,2609,2610,2611,2612,2613,2614,2615,2616,2617,2618,2619,2620,2621,2622,2623,2624,2625,2626,2627,2628,2629,2630,2631,2632,2633,2634,2635,2636,2637,2638,2639,2640,2641,2642,2643,2644,2645,2646,2647,2648,2649,2650,2651,2652,2653,2654,2655,2656,2657,2658,2659,2660,2661,2662,2663,2664,2665,2666,2667,2668,2669,2670,2671,2672,2673,2674,2675,2676,2677,2678,2679,2680,2681,2682,2683,2684,2685,2686,2687,2688,2689,2690,2691,2692,2693,2694,2695,2696,2697,2698,2699',\n",
    "    '1485,1486,1487,1488,1489,1490,1491,1492,1493,1494,1495,1496,1497,1498,1499,1500,1501,1502,1503,1504,1505,1506,1507,1508,1509,1510,1511,1512,1513,1514,1515,1516,1517,1518,1519,1520,1521,1522,1523,1524,1525,1526,1527,1528,1529,1530,1531,1532,1533,1534,1535,1536,1537,1538,1539,1540,1541,1542,1543,1544,1545,1546,1547,1548,1549,1550,1551,1552,1553,1554,1555,1556,1557,1558,1559,1560,1561,1562,1563,1564,1565,1566,1567,1568,1569,1570,1571,1572,1573,1574,1575,1576,1577,1578,1579,1580,1581,1582,1583,1584,1585,1586,1587,1588,1589,1590,1591,1592,1593,1594,1595,1596,1597,1598,1599,1600,1601,1602,1603,1604,1605,1606,1607,1608,1609,1610,1611,1612,1613,1614,1615,1616,1617,1618,1619,1350,1351,1352,1353,1354,1355,1356,1357,1358,1359,1360,1361,1362,1363,1364,1365,1366,1367,1368,1369,1370,1371,1372,1373,1374,1375,1376,1377,1378,1379,1380,1381,1382,1383,1384,1385,1386,1387,1388,1389,1390,1391,1392,1393,1394,1395,1396,1397,1398,1399,1400,1401,1402,1403,1404,1405,1406,1407,1408,1409,1410,1411,1412,1413,1414,1415,1416,1417,1418,1419,1420,1421,1422,1423,1424,1425,1426,1427,1428,1429,1430,1431,1432,1433,1434,1435,1436,1437,1438,1439,1440,1441,1442,1443,1444,1445,1446,1447,1448,1449,1450,1451,1452,1453,1454,1455,1456,1457,1458,1459,1460,1461,1462,1463,1464,1465,1466,1467,1468,1469,1470,1471,1472,1473,1474,1475,1476,1477,1478,1479,1480,1481,1482,1483,1484',\n",
    "    '945,946,947,948,949,950,951,952,953,954,955,956,957,958,959,960,961,962,963,964,965,966,967,968,969,970,971,972,973,974,975,976,977,978,979,980,981,982,983,984,985,986,987,988,989,990,991,992,993,994,995,996,997,998,999,1000,1001,1002,1003,1004,1005,1006,1007,1008,1009,1010,1011,1012,1013,1014,1015,1016,1017,1018,1019,1020,1021,1022,1023,1024,1025,1026,1027,1028,1029,1030,1031,1032,1033,1034,1035,1036,1037,1038,1039,1040,1041,1042,1043,1044,1045,1046,1047,1048,1049,1050,1051,1052,1053,1054,1055,1056,1057,1058,1059,1060,1061,1062,1063,1064,1065,1066,1067,1068,1069,1070,1071,1072,1073,1074,1075,1076,1077,1078,1079,810,811,812,813,814,815,816,817,818,819,820,821,822,823,824,825,826,827,828,829,830,831,832,833,834,835,836,837,838,839,840,841,842,843,844,845,846,847,848,849,850,851,852,853,854,855,856,857,858,859,860,861,862,863,864,865,866,867,868,869,870,871,872,873,874,875,876,877,878,879,880,881,882,883,884,885,886,887,888,889,890,891,892,893,894,895,896,897,898,899,900,901,902,903,904,905,906,907,908,909,910,911,912,913,914,915,916,917,918,919,920,921,922,923,924,925,926,927,928,929,930,931,932,933,934,935,936,937,938,939,940,941,942,943,944'\n",
    "]\n",
    "             \n",
    "\n",
    "stiff = 0.1\n",
    "xmin = 1\n",
    "xmax = 30\n",
    "n_windows = 23\n",
    "\n",
    "equlibration_parameters = {'dt':f'0.002', 'steps':'1e4','print_energy_every': '1e4','print_conf_interval':'1e4', 'fix_diffusion':'false'}\n",
    "production_parameters = {'dt':f'0.002', 'steps':'1e4','print_energy_every': '1e4','print_conf_interval':'1e4', 'fix_diffusion':'false'}\n",
    "\n",
    "us_list = [ComUmbrellaSampling(file_dir, sys) for file_dir, sys in zip(file_dirs,systems)]\n",
    "\n",
    "simulation_manager = SimulationManager()"
   ]
  },
  {
   "cell_type": "code",
   "execution_count": null,
   "id": "c697512f-dc18-41ff-99e3-154fd8445000",
   "metadata": {},
   "outputs": [],
   "source": [
    "for us, com_list, ref_list in zip(us_list, com_lists, ref_lists):\n",
    "    us.build_equlibration_runs(simulation_manager, n_windows, com_list, ref_list, stiff, xmin, xmax, equlibration_parameters, print_every=1e3, observable=True, protein=True, force_file=True)"
   ]
  },
  {
   "cell_type": "code",
   "execution_count": null,
   "id": "ec973918-e43a-4e32-8092-44721791973c",
   "metadata": {
    "tags": []
   },
   "outputs": [],
   "source": [
    "simulation_manager.worker_manager(gpu_mem_block=False)"
   ]
  },
  {
   "cell_type": "code",
   "execution_count": null,
   "id": "139a8405-02aa-4cd4-bafc-aed20e1f4824",
   "metadata": {},
   "outputs": [],
   "source": [
    "for us, com_list, ref_list in zip(us_list, com_lists, ref_lists):\n",
    "    us.build_production_runs(simulation_manager, n_windows, com_list, ref_list, stiff, xmin, xmax, production_parameters, observable=True, print_every=1e3, name='com_distance.txt', protein=True, force_file=True, continue_run=5e5)"
   ]
  },
  {
   "cell_type": "code",
   "execution_count": null,
   "id": "6d7bdd4f-bae2-4b0b-a70b-38aa13909040",
   "metadata": {
    "tags": []
   },
   "outputs": [],
   "source": [
    "simulation_manager.run(gpu_mem_block=False)"
   ]
  },
  {
   "cell_type": "code",
   "execution_count": null,
   "id": "06932763-0f00-45b7-8212-adfe62e669d7",
   "metadata": {
    "tags": []
   },
   "outputs": [],
   "source": [
    "wham_dir = os.path.abspath('/scratch/mlsample/ipy_oxDNA/wham/wham')\n",
    "n_bins = '200'\n",
    "tol = '1e-5'\n",
    "n_boot = '1000'\n",
    "for us in us_list:\n",
    "    us.wham_run(wham_dir, xmin, xmax, stiff, n_bins, tol, n_boot)"
   ]
  },
  {
   "cell_type": "code",
   "execution_count": null,
   "id": "226e7cc1-51df-4268-b4b6-e0d303ba073d",
   "metadata": {
    "tags": []
   },
   "outputs": [],
   "source": [
    "us_list[0].production_sims[21].analysis.view_last()\n"
   ]
  },
  {
   "cell_type": "code",
   "execution_count": null,
   "id": "faeb4343-ae7b-45c0-9342-71f1b87fc93a",
   "metadata": {
    "tags": []
   },
   "outputs": [],
   "source": [
    "for com_list, ref_list, us in zip(com_lists, ref_lists, us_list):\n",
    "    us.com_distance_observable(com_list, ref_list)\n",
    "\n",
    "plt.figure(dpi=200)\n",
    "for idx in range(0,22,1):\n",
    "    us_list[2].analysis.view_observable('prod', idx, sliding_window=False)#, observable=us.observables_list[0], sliding_window=20)\n",
    "plt.legend(fontsize=4)"
   ]
  },
  {
   "cell_type": "code",
   "execution_count": null,
   "id": "ea752801-be7a-4f90-a2fe-d64f275100c1",
   "metadata": {
    "tags": []
   },
   "outputs": [],
   "source": [
    "with plt.style.context(['science', 'no-latex']):\n",
    "    plt.figure(dpi=1000)\n",
    "    plt.errorbar(us_list[2].free.loc[:, '#Coor'], us_list[2].free.loc[:, 'Prob'],\n",
    "             yerr=us_list[2].free.loc[:, '+/-.1'], capsize=2.5, capthick=1.2,\n",
    "             linewidth=1.5, errorevery=20,)\n",
    "    \n",
    "    plt.errorbar(us_list[3].free.loc[:, '#Coor'], us_list[3].free.loc[:, 'Prob'],\n",
    "             yerr=us_list[3].free.loc[:, '+/-.1'], capsize=2.5, capthick=1.2,\n",
    "             linewidth=1.5, errorevery=20)\n",
    "    plt.legend(fontsize=5)\n",
    "    # plt.ylim(-0.001, 0.075)\n",
    "    # plt.xlabel('Protein-protein distance (nm)')\n",
    "    # plt.ylabel('Probability')\n",
    "    # plt.xticks([0, 5, 10, 15, 20, 25, 30])"
   ]
  },
  {
   "cell_type": "code",
   "execution_count": null,
   "id": "bac79970-6de5-4091-9f24-0a8c1d05fabb",
   "metadata": {},
   "outputs": [],
   "source": [
    "ax = us_list[0].wham.plt_fig()\n",
    "for us in [us_list[0],us_list[2], us_list[1], us_list[3]]:\n",
    "    print(us.system)\n",
    "    us.plot_free(ax=ax)\n",
    "\n",
    "plt.legend(fontsize=6)"
   ]
  },
  {
   "cell_type": "code",
   "execution_count": null,
   "id": "874c00d7-c2c2-48e2-ad88-9df60a499b18",
   "metadata": {},
   "outputs": [],
   "source": [
    "ax = us_list[0].wham.plt_fig()\n",
    "for us in [us_list[0],us_list[2], us_list[1], us_list[3]]:\n",
    "    print(us.system)\n",
    "    us.wham.plot_probability(ax=ax)\n",
    "\n",
    "plt.legend(fontsize=6)"
   ]
  },
  {
   "cell_type": "markdown",
   "id": "d47e0d6c-8204-4126-b66c-d2b6b8e799c8",
   "metadata": {},
   "source": [
    "<font size='8'><a class=\"anchor\" id=\"3\"></a> <h2 align=\"center\"> <font color='black'>Umbrella Sampling</font></h2> "
   ]
  },
  {
   "cell_type": "code",
   "execution_count": null,
   "id": "47505920-3803-4f54-9b7f-f8c1145c8fa8",
   "metadata": {
    "tags": []
   },
   "outputs": [],
   "source": [
    "path = os.path.abspath('/scratch/mlsample/ipy_oxDNA/ipy_oxdna_examples')\n",
    "file_dir = f'{path}/square_block_lattice/dna_protein_lattice_skew/prod/0'\n",
    "system = './../../mid_mid_umbrella_20_01'\n",
    "\n",
    "com_list = '1755,1756,1757,1758,1759,1760,1761,1762,1763,1764,1765,1766,1767,1768,1769,1770,1771,1772,1773,1774,1775,1776,1777,1778,1779,1780,1781,1782,1783,1784,1785,1786,1787,1788,1789,1790,1791,1792,1793,1794,1795,1796,1797,1798,1799,1800,1801,1802,1803,1804,1805,1806,1807,1808,1809,1810,1811,1812,1813,1814,1815,1816,1817,1818,1819,1820,1821,1822,1823,1824,1825,1826,1827,1828,1829,1830,1831,1832,1833,1834,1835,1836,1837,1838,1839,1840,1841,1842,1843,1844,1845,1846,1847,1848,1849,1850,1851,1852,1853,1854,1855,1856,1857,1858,1859,1860,1861,1862,1863,1864,1865,1866,1867,1868,1869,1870,1871,1872,1873,1874,1875,1876,1877,1878,1879,1880,1881,1882,1883,1884,1885,1886,1887,1888,1889,1620,1621,1622,1623,1624,1625,1626,1627,1628,1629,1630,1631,1632,1633,1634,1635,1636,1637,1638,1639,1640,1641,1642,1643,1644,1645,1646,1647,1648,1649,1650,1651,1652,1653,1654,1655,1656,1657,1658,1659,1660,1661,1662,1663,1664,1665,1666,1667,1668,1669,1670,1671,1672,1673,1674,1675,1676,1677,1678,1679,1680,1681,1682,1683,1684,1685,1686,1687,1688,1689,1690,1691,1692,1693,1694,1695,1696,1697,1698,1699,1700,1701,1702,1703,1704,1705,1706,1707,1708,1709,1710,1711,1712,1713,1714,1715,1716,1717,1718,1719,1720,1721,1722,1723,1724,1725,1726,1727,1728,1729,1730,1731,1732,1733,1734,1735,1736,1737,1738,1739,1740,1741,1742,1743,1744,1745,1746,1747,1748,1749,1750,1751,1752,1753,1754'\n",
    "ref_list = '945,946,947,948,949,950,951,952,953,954,955,956,957,958,959,960,961,962,963,964,965,966,967,968,969,970,971,972,973,974,975,976,977,978,979,980,981,982,983,984,985,986,987,988,989,990,991,992,993,994,995,996,997,998,999,1000,1001,1002,1003,1004,1005,1006,1007,1008,1009,1010,1011,1012,1013,1014,1015,1016,1017,1018,1019,1020,1021,1022,1023,1024,1025,1026,1027,1028,1029,1030,1031,1032,1033,1034,1035,1036,1037,1038,1039,1040,1041,1042,1043,1044,1045,1046,1047,1048,1049,1050,1051,1052,1053,1054,1055,1056,1057,1058,1059,1060,1061,1062,1063,1064,1065,1066,1067,1068,1069,1070,1071,1072,1073,1074,1075,1076,1077,1078,1079,810,811,812,813,814,815,816,817,818,819,820,821,822,823,824,825,826,827,828,829,830,831,832,833,834,835,836,837,838,839,840,841,842,843,844,845,846,847,848,849,850,851,852,853,854,855,856,857,858,859,860,861,862,863,864,865,866,867,868,869,870,871,872,873,874,875,876,877,878,879,880,881,882,883,884,885,886,887,888,889,890,891,892,893,894,895,896,897,898,899,900,901,902,903,904,905,906,907,908,909,910,911,912,913,914,915,916,917,918,919,920,921,922,923,924,925,926,927,928,929,930,931,932,933,934,935,936,937,938,939,940,941,942,943,944'\n",
    "xmin = 0\n",
    "xmax = 40\n",
    "n_windows = 47\n",
    "\n",
    "stiff = 0.05\n",
    "\n",
    "equlibration_parameters = {'dt':'0.002','steps':'1e5','print_energy_every': '5e4',\n",
    "                           'print_conf_interval':'5e4', 'fix_diffusion':'false'\n",
    "                          }\n",
    "\n",
    "production_parameters ={'dt':'0.002','steps':'2e5','print_energy_every': '2e5',\n",
    "                        'print_conf_interval':'2e5', 'fix_diffusion':'false'\n",
    "                        }\n",
    "\n",
    "us = ComUmbrellaSampling(file_dir, system)\n",
    "simulation_manager = SimulationManager()"
   ]
  },
  {
   "cell_type": "code",
   "execution_count": null,
   "id": "f3c912b1-4b40-4ff5-8754-5287d02379a4",
   "metadata": {
    "tags": []
   },
   "outputs": [],
   "source": [
    "com_list = '1755,1756,1757,1758,1759,1760,1761,1762,1763,1764,1765,1766,1767,1768,1769,1770,1771,1772,1773,1774,1775,1776,1777,1778,1779,1780,1781,1782,1783,1784,1785,1786,1787,1788,1789,1790,1791,1792,1793,1794,1795,1796,1797,1798,1799,1800,1801,1802,1803,1804,1805,1806,1807,1808,1809,1810,1811,1812,1813,1814,1815,1816,1817,1818,1819,1820,1821,1822,1823,1824,1825,1826,1827,1828,1829,1830,1831,1832,1833,1834,1835,1836,1837,1838,1839,1840,1841,1842,1843,1844,1845,1846,1847,1848,1849,1850,1851,1852,1853,1854,1855,1856,1857,1858,1859,1860,1861,1862,1863,1864,1865,1866,1867,1868,1869,1870,1871,1872,1873,1874,1875,1876,1877,1878,1879,1880,1881,1882,1883,1884,1885,1886,1887,1888,1889,1620,1621,1622,1623,1624,1625,1626,1627,1628,1629,1630,1631,1632,1633,1634,1635,1636,1637,1638,1639,1640,1641,1642,1643,1644,1645,1646,1647,1648,1649,1650,1651,1652,1653,1654,1655,1656,1657,1658,1659,1660,1661,1662,1663,1664,1665,1666,1667,1668,1669,1670,1671,1672,1673,1674,1675,1676,1677,1678,1679,1680,1681,1682,1683,1684,1685,1686,1687,1688,1689,1690,1691,1692,1693,1694,1695,1696,1697,1698,1699,1700,1701,1702,1703,1704,1705,1706,1707,1708,1709,1710,1711,1712,1713,1714,1715,1716,1717,1718,1719,1720,1721,1722,1723,1724,1725,1726,1727,1728,1729,1730,1731,1732,1733,1734,1735,1736,1737,1738,1739,1740,1741,1742,1743,1744,1745,1746,1747,1748,1749,1750,1751,1752,1753,1754'\n",
    "ref_list = '945,946,947,948,949,950,951,952,953,954,955,956,957,958,959,960,961,962,963,964,965,966,967,968,969,970,971,972,973,974,975,976,977,978,979,980,981,982,983,984,985,986,987,988,989,990,991,992,993,994,995,996,997,998,999,1000,1001,1002,1003,1004,1005,1006,1007,1008,1009,1010,1011,1012,1013,1014,1015,1016,1017,1018,1019,1020,1021,1022,1023,1024,1025,1026,1027,1028,1029,1030,1031,1032,1033,1034,1035,1036,1037,1038,1039,1040,1041,1042,1043,1044,1045,1046,1047,1048,1049,1050,1051,1052,1053,1054,1055,1056,1057,1058,1059,1060,1061,1062,1063,1064,1065,1066,1067,1068,1069,1070,1071,1072,1073,1074,1075,1076,1077,1078,1079,810,811,812,813,814,815,816,817,818,819,820,821,822,823,824,825,826,827,828,829,830,831,832,833,834,835,836,837,838,839,840,841,842,843,844,845,846,847,848,849,850,851,852,853,854,855,856,857,858,859,860,861,862,863,864,865,866,867,868,869,870,871,872,873,874,875,876,877,878,879,880,881,882,883,884,885,886,887,888,889,890,891,892,893,894,895,896,897,898,899,900,901,902,903,904,905,906,907,908,909,910,911,912,913,914,915,916,917,918,919,920,921,922,923,924,925,926,927,928,929,930,931,932,933,934,935,936,937,938,939,940,941,942,943,944'\n",
    "xmin = 0\n",
    "xmax = 40\n",
    "n_windows = 47\n",
    "\n",
    "stiff = 0.05\n",
    "\n",
    "path = os.path.abspath('/scratch/mlsample/ipy_oxDNA/ipy_oxdna_examples')\n",
    "\n",
    "file_dir = f'{path}/square_block_lattice/dna_protein_lattice_skew/prod/0'\n",
    "system_1 = './../../mid_mid_umbrella_20_01'\n",
    "system_2 = './../../mid_top_umbrella_40_005'\n",
    "\n",
    "us_1 = ComUmbrellaSampling(file_dir, system_1)\n",
    "us_2 = ComUmbrellaSampling(file_dir, system_2)\n"
   ]
  },
  {
   "cell_type": "code",
   "execution_count": null,
   "id": "2620c3e4-0827-45cd-a8e3-4ed243f3ad41",
   "metadata": {
    "tags": []
   },
   "outputs": [],
   "source": [
    "us.build_equlibration_runs(simulation_manager, n_windows, com_list, ref_list, stiff, xmin, xmax, equlibration_parameters,\n",
    "                           observable=True, sequence_dependant=False, print_every=1e3, name='com_distance.txt', protein=True, force_file=True)"
   ]
  },
  {
   "cell_type": "code",
   "execution_count": null,
   "id": "e874d5bb-1ec0-4933-aeff-510584c4c56c",
   "metadata": {
    "tags": []
   },
   "outputs": [],
   "source": [
    "simulation_manager.run()"
   ]
  },
  {
   "cell_type": "code",
   "execution_count": null,
   "id": "d5b5fc79-21be-4af9-be11-0d3024e35522",
   "metadata": {},
   "outputs": [],
   "source": [
    "us.build_production_runs(simulation_manager, n_windows, com_list, ref_list, stiff, xmin, xmax, production_parameters,\n",
    "                           observable=True, sequence_dependant=False, print_every=1e3, name='com_distance.txt', protein=True, force_file=True)"
   ]
  },
  {
   "cell_type": "code",
   "execution_count": null,
   "id": "ab6325d1-025d-4ef3-82ff-b7378b383252",
   "metadata": {
    "tags": []
   },
   "outputs": [],
   "source": [
    "simulation_manager.run()"
   ]
  },
  {
   "cell_type": "code",
   "execution_count": null,
   "id": "8101f548-bfaf-4905-9fac-1055bccd7fbb",
   "metadata": {
    "tags": []
   },
   "outputs": [],
   "source": [
    "us.equlibration_sims[46].analysis.view_last()\n",
    "    "
   ]
  },
  {
   "cell_type": "code",
   "execution_count": null,
   "id": "d5fc8d79-e198-4562-b82d-d545a5ae4ddf",
   "metadata": {
    "tags": []
   },
   "outputs": [],
   "source": [
    "com_list = '1755,1756,1757,1758,1759,1760,1761,1762,1763,1764,1765,1766,1767,1768,1769,1770,1771,1772,1773,1774,1775,1776,1777,1778,1779,1780,1781,1782,1783,1784,1785,1786,1787,1788,1789,1790,1791,1792,1793,1794,1795,1796,1797,1798,1799,1800,1801,1802,1803,1804,1805,1806,1807,1808,1809,1810,1811,1812,1813,1814,1815,1816,1817,1818,1819,1820,1821,1822,1823,1824,1825,1826,1827,1828,1829,1830,1831,1832,1833,1834,1835,1836,1837,1838,1839,1840,1841,1842,1843,1844,1845,1846,1847,1848,1849,1850,1851,1852,1853,1854,1855,1856,1857,1858,1859,1860,1861,1862,1863,1864,1865,1866,1867,1868,1869,1870,1871,1872,1873,1874,1875,1876,1877,1878,1879,1880,1881,1882,1883,1884,1885,1886,1887,1888,1889,1620,1621,1622,1623,1624,1625,1626,1627,1628,1629,1630,1631,1632,1633,1634,1635,1636,1637,1638,1639,1640,1641,1642,1643,1644,1645,1646,1647,1648,1649,1650,1651,1652,1653,1654,1655,1656,1657,1658,1659,1660,1661,1662,1663,1664,1665,1666,1667,1668,1669,1670,1671,1672,1673,1674,1675,1676,1677,1678,1679,1680,1681,1682,1683,1684,1685,1686,1687,1688,1689,1690,1691,1692,1693,1694,1695,1696,1697,1698,1699,1700,1701,1702,1703,1704,1705,1706,1707,1708,1709,1710,1711,1712,1713,1714,1715,1716,1717,1718,1719,1720,1721,1722,1723,1724,1725,1726,1727,1728,1729,1730,1731,1732,1733,1734,1735,1736,1737,1738,1739,1740,1741,1742,1743,1744,1745,1746,1747,1748,1749,1750,1751,1752,1753,1754'\n",
    "ref_list = '945,946,947,948,949,950,951,952,953,954,955,956,957,958,959,960,961,962,963,964,965,966,967,968,969,970,971,972,973,974,975,976,977,978,979,980,981,982,983,984,985,986,987,988,989,990,991,992,993,994,995,996,997,998,999,1000,1001,1002,1003,1004,1005,1006,1007,1008,1009,1010,1011,1012,1013,1014,1015,1016,1017,1018,1019,1020,1021,1022,1023,1024,1025,1026,1027,1028,1029,1030,1031,1032,1033,1034,1035,1036,1037,1038,1039,1040,1041,1042,1043,1044,1045,1046,1047,1048,1049,1050,1051,1052,1053,1054,1055,1056,1057,1058,1059,1060,1061,1062,1063,1064,1065,1066,1067,1068,1069,1070,1071,1072,1073,1074,1075,1076,1077,1078,1079,810,811,812,813,814,815,816,817,818,819,820,821,822,823,824,825,826,827,828,829,830,831,832,833,834,835,836,837,838,839,840,841,842,843,844,845,846,847,848,849,850,851,852,853,854,855,856,857,858,859,860,861,862,863,864,865,866,867,868,869,870,871,872,873,874,875,876,877,878,879,880,881,882,883,884,885,886,887,888,889,890,891,892,893,894,895,896,897,898,899,900,901,902,903,904,905,906,907,908,909,910,911,912,913,914,915,916,917,918,919,920,921,922,923,924,925,926,927,928,929,930,931,932,933,934,935,936,937,938,939,940,941,942,943,944'\n",
    "\n",
    "\n",
    "us_1.com_distance_observable(com_list, ref_list)\n",
    "plt.figure(dpi=200)\n",
    "for idx in range(0,47,1):\n",
    "    us_1.analysis.view_observable('prod', idx, sliding_window=False)#, observable=us.observables_list[0], sliding_window=20)\n",
    "plt.legend(fontsize=4)\n",
    "# plt.ylim(0, 15)"
   ]
  },
  {
   "cell_type": "code",
   "execution_count": null,
   "id": "6ac137c1-689e-4f2e-a524-2fc182ee5122",
   "metadata": {
    "tags": []
   },
   "outputs": [],
   "source": [
    "for idx in range(0,48):\n",
    "    print(idx)\n",
    "    us.equlibration_sims[idx].sim_files.last_conf"
   ]
  },
  {
   "cell_type": "code",
   "execution_count": null,
   "id": "6a3a5730-70bc-494a-a4d3-68c74c783489",
   "metadata": {},
   "outputs": [],
   "source": [
    "us.analysis.view_conf('eq', 13)"
   ]
  },
  {
   "cell_type": "code",
   "execution_count": null,
   "id": "defef66e-3e6e-4f3d-b521-fff04e107d4b",
   "metadata": {
    "tags": []
   },
   "outputs": [],
   "source": [
    "wham_dir = os.path.abspath('/scratch/mlsample/ipy_oxDNA/src/wham/wham')\n",
    "n_bins = '50'\n",
    "tol = '1e-5'\n",
    "n_boot = '300'\n",
    "\n",
    "us_1.wham_run(wham_dir, xmin, xmax, stiff, n_bins, tol, n_boot)\n",
    "us_2.wham_run(wham_dir, xmin, xmax, stiff, n_bins, tol, n_boot)"
   ]
  },
  {
   "cell_type": "code",
   "execution_count": null,
   "id": "f7c1b071-5b8a-4050-87bd-401cea9fab85",
   "metadata": {},
   "outputs": [],
   "source": [
    "ax = us_1.wham.plt_fig()\n",
    "us_1.plot_free(ax=ax, label=f'Mid Mid COM Distance: {us_1.mean:.2f} +- {us_1.standard_error:.2f}')\n",
    "us_2.plot_free(ax=ax, label=f'Mid Top COM Distance: {us_2.mean:.2f} +- {us_2.standard_error:.2f}')\n",
    "\n",
    "plt.legend()"
   ]
  },
  {
   "cell_type": "code",
   "execution_count": null,
   "id": "e02b7bbc-b03e-4743-aac3-0ec1cd968ade",
   "metadata": {},
   "outputs": [],
   "source": [
    "coor = us_1.free['#Coor']\n",
    "free = us_1.free['Prob']"
   ]
  },
  {
   "cell_type": "code",
   "execution_count": null,
   "id": "ffeb8e8d-d978-402f-b7b7-acef5ea4c229",
   "metadata": {
    "tags": []
   },
   "outputs": [],
   "source": [
    "us_1.wham.plot_probability(fmt='')"
   ]
  },
  {
   "cell_type": "code",
   "execution_count": null,
   "id": "e3740c60-93d9-425e-bc07-ec3ff609ce8b",
   "metadata": {},
   "outputs": [],
   "source": [
    "pip install scienceplots"
   ]
  },
  {
   "cell_type": "code",
   "execution_count": null,
   "id": "c215b9e7-e17b-46f2-bfc3-a870952a934e",
   "metadata": {},
   "outputs": [],
   "source": [
    "import scienceplots\n"
   ]
  },
  {
   "cell_type": "code",
   "execution_count": null,
   "id": "845d90df-6061-4b50-b88f-02fe81945c16",
   "metadata": {},
   "outputs": [],
   "source": [
    "with plt.style.context(['science', 'no-latex']):\n",
    "    plt.figure(dpi=1000)\n",
    "    plt.errorbar(us_1.free.loc[:, '#Coor'], us_1.free.loc[:, 'Prob'],\n",
    "             yerr=us_1.free.loc[:, '+/-.1'], capsize=2.5, capthick=1.2,\n",
    "             linewidth=1.5, errorevery=2, label=f'Distance between two middle proteins: {us_1.mean:.2f} nm \\u00b1 {us_1.standard_error:.2f} nm')\n",
    "    \n",
    "    plt.errorbar(us_2.free.loc[:, '#Coor'], us_2.free.loc[:, 'Prob'],\n",
    "             yerr=us_2.free.loc[:, '+/-.1'], capsize=2.5, capthick=1.2,\n",
    "             linewidth=1.5, errorevery=2, label=f'Distance between middle and top proteins: {us_2.mean:.2f} nm \\u00b1 {us_2.standard_error:.2f} nm')\n",
    "    plt.legend(fontsize=5)\n",
    "    plt.ylim(-0.001, 0.075)\n",
    "    plt.xlabel('Protein-protein distance (nm)')\n",
    "    plt.ylabel('Probability')\n",
    "    plt.xticks([0, 5, 10, 15, 20, 25, 30])"
   ]
  },
  {
   "cell_type": "code",
   "execution_count": null,
   "id": "1b52363f-4819-43d7-adc8-ff1068258fb2",
   "metadata": {},
   "outputs": [],
   "source": [
    "plt.plot(coor, free)"
   ]
  },
  {
   "cell_type": "code",
   "execution_count": null,
   "id": "1667138b-a9d1-4961-ab5d-d0ed5157644a",
   "metadata": {},
   "outputs": [],
   "source": [
    "path = os.path.abspath('/scratch/mlsample/ipy_oxDNA/ipy_oxdna_examples')\n",
    "file_dir = f'{path}/duplex_melting'\n",
    "systems = ['us_melting_10', 'us_melting', 'us_melting_30','us_melting_40']\n",
    "\n",
    "us_list = [MeltingUmbrellaSampling(file_dir, system) for system in systems]"
   ]
  },
  {
   "cell_type": "code",
   "execution_count": null,
   "id": "a3e78e08-1c81-4bf2-b5ae-cebed436278b",
   "metadata": {},
   "outputs": [],
   "source": [
    "us_list[0].fig_ax()\n",
    "\n",
    "for us in us_list:\n",
    "    us.plot_free(ax=us_list[0].ax)\n",
    "plt.legend([f'{10 + 273}K', f'{20 + 273}K', f'{30 + 273}K', f'{40 + 273}K'])\n",
    "plt.title('8nt Duplex Melting Free Energy Profile')\n",
    "plt.xlabel('COM Distance (nm)')"
   ]
  },
  {
   "cell_type": "code",
   "execution_count": null,
   "id": "0e7b16e8-d483-42c8-a7f7-18300c4d0b03",
   "metadata": {},
   "outputs": [],
   "source": [
    "import pandas as pd\n",
    "import numpy as np"
   ]
  },
  {
   "cell_type": "code",
   "execution_count": null,
   "id": "7c8fa913-eac6-4945-becb-1d2a8b4446cc",
   "metadata": {},
   "outputs": [],
   "source": [
    "free = pd.read_csv(f'{us.system_dir}/production/com_dir/freefile', sep='\\t')"
   ]
  },
  {
   "cell_type": "code",
   "execution_count": null,
   "id": "4b489a85-e2e1-4b6a-a095-0cb5d2e42721",
   "metadata": {},
   "outputs": [],
   "source": [
    "free_vals = free.iloc[-95:].Free"
   ]
  },
  {
   "cell_type": "code",
   "execution_count": null,
   "id": "6bb07e1b-47d2-4077-9bdf-8999d66b17a0",
   "metadata": {},
   "outputs": [],
   "source": [
    "free_vals.iloc[1:]"
   ]
  },
  {
   "cell_type": "code",
   "execution_count": null,
   "id": "d6f3e104-271d-4eab-8b2b-484bab9eaf0c",
   "metadata": {
    "tags": []
   },
   "outputs": [],
   "source": [
    "H_vals = np.zeros(94)\n",
    "us.hb_list_observable(print_every=1e3)\n",
    "for idx, sim in enumerate(us.production_sims):\n",
    "    sim_dir = sim.sim_dir\n",
    "    file_name = us.observables_list[1]['output']['name']\n",
    "    df = pd.read_csv(f\"{sim_dir}/{file_name}\", header=None)\n",
    "    df = np.concatenate(np.array(df))\n",
    "    H, bins = np.histogram(df, density=False, bins=np.linspace(0, 8, 95))\n",
    "    H_vals += H"
   ]
  },
  {
   "cell_type": "code",
   "execution_count": null,
   "id": "2cde587c-5ca0-45cd-af38-ef5245b47b6f",
   "metadata": {},
   "outputs": [],
   "source": [
    "prob_H = H_vals / sum(H_vals)"
   ]
  },
  {
   "cell_type": "code",
   "execution_count": null,
   "id": "810126d7-f503-4116-8db3-a65e80d0e336",
   "metadata": {},
   "outputs": [],
   "source": [
    "plt.plot(bins[:-1], -np.log(prob_H))"
   ]
  },
  {
   "cell_type": "code",
   "execution_count": null,
   "id": "17f76af0-7840-4f48-b1d8-bcdc2f27c30d",
   "metadata": {},
   "outputs": [],
   "source": []
  },
  {
   "cell_type": "code",
   "execution_count": null,
   "id": "c2e081ee-ebd4-4a48-9f7b-dea2972c6f21",
   "metadata": {},
   "outputs": [],
   "source": [
    "file_name = us.observables_list[0]['output']['name']"
   ]
  }
 ],
 "metadata": {
  "kernelspec": {
   "display_name": "oxdna",
   "language": "python",
   "name": "oxdna"
  },
  "language_info": {
   "codemirror_mode": {
    "name": "ipython",
    "version": 3
   },
   "file_extension": ".py",
   "mimetype": "text/x-python",
   "name": "python",
   "nbconvert_exporter": "python",
   "pygments_lexer": "ipython3",
   "version": "3.10.9"
  }
 },
 "nbformat": 4,
 "nbformat_minor": 5
}
