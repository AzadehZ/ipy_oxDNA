{
 "cells": [
  {
   "cell_type": "markdown",
   "id": "b3921e85-29c2-4cb1-9b75-6d529f041630",
   "metadata": {},
   "source": [
    "<font size='10'><h1 align=\"center\"><font color='blue'>iPy oxDNA Examples</font></h1>"
   ]
  },
  {
   "cell_type": "markdown",
   "id": "1e81dec7-5371-4bbd-a950-fb772418cb91",
   "metadata": {},
   "source": [
    "<center>\n",
    "<img src=\"oxDNA.png\">\n",
    "</center>"
   ]
  },
  {
   "cell_type": "markdown",
   "id": "6675ab57-6f14-4bfc-8ffa-e05b8efc15a2",
   "metadata": {},
   "source": [
    "<font size='6'><a class=\"anchor\" id=\"3\"></a> <h2 align=\"center\"> <font color='black'>Hairygami</font></h2> \n"
   ]
  },
  {
   "cell_type": "code",
   "execution_count": null,
   "id": "b75f0f57-562f-4531-9584-8cd0fc3ed47f",
   "metadata": {},
   "outputs": [],
   "source": [
    "from ipy_oxdna.oxdna_simulation import SimulationManager, Simulation, GenerateReplicas, Force\n",
    "from ipy_oxdna.umbrella_sampling import ComUmbrellaSampling\n",
    "import os\n",
    "import matplotlib.pyplot as plt\n",
    "%load_ext autoreload\n",
    "%autoreload 2"
   ]
  },
  {
   "cell_type": "markdown",
   "id": "88d6a33d-83ee-4da5-a123-0fd81dae0c76",
   "metadata": {},
   "source": [
    "<font size='6'><a class=\"anchor\" id=\"3\"></a> <h2 align=\"center\"> <font color='black'>Inverted Strucutres</font></h2> \n"
   ]
  },
  {
   "cell_type": "code",
   "execution_count": null,
   "id": "84537f33-b1cf-4375-9144-497584527008",
   "metadata": {},
   "outputs": [],
   "source": [
    "sim_manager = SimulationManager()\n",
    "\n",
    "path = os.path.abspath('/scratch/mlsample/ipy_oxDNA/ipy_oxdna_examples/hairygami/inverted')\n",
    "\n",
    "systems = ['rro', 't9', 't20']\n",
    "\n",
    "file_dir_list = [f'{path}/{sys}/eq_relaxed_new_0' for sys in systems]\n",
    "sim_dir_list = [f'{file_dir}/../eq_relaxed_new_final' for sys, file_dir in zip(systems, file_dir_list)]\n",
    "\n",
    "n_replicas = 1\n",
    "replica_generator = GenerateReplicas()\n",
    "\n",
    "replica_generator.multisystem_replica(\n",
    "    systems,\n",
    "    n_replicas,\n",
    "    file_dir_list,\n",
    "    sim_dir_list\n",
    ")\n",
    "\n",
    "sim_list = replica_generator.sim_list\n",
    "queue_of_simulations = replica_generator.queue_of_sims\n",
    "\n",
    "com_lists = ['157,96,97,98,99,100,101,102,103,104,105,106,107,108,109,110,111,112,113,114,115,116,117,118,119,120,121,122,123,124,125,126,127,128,129,130,131,132,133,134,135,136,137,138,139,140,141,142,143,144,145,146,147,148,149,150,151,152,153,154,155,156,63,64,65,66,67,68,69,70,71,72,73,74,75,76,77,78,79,80,81,82,83,84,85,86,87,88,89,90,91,92,93,94,95,6830,6742,6743,6744,6745,6746,6747,6748,6749,6750,6751,6752,6753,6754,6755,6756,6757,6758,6759,6760,6761,6762,6763,6764,6765,6766,6767,6768,6769,6770,6771,6772,6773,6774,6775,6776,6777,6778,6779,6780,6781,6782,6783,6784,6785,6786,6787,6788,6789,6790,6791,6792,6793,6794,6795,6796,6797,6798,6799,6800,6801,6802,6803,6804,6805,6806,6807,6808,6809,6810,6811,6812,6813,6814,6815,6816,6817,6818,6819,6820,6821,6822,6823,6824,6825,6826,6827,6828,6829,6736,6737,6738,6739,6740,6741',\n",
    "             '6754,6788,6755,6756,6757,6758,6759,6760,6761,6762,6763,6764,6765,6766,6767,6768,6769,6770,6771,6772,6773,6774,6775,6776,6777,6778,6779,6780,6781,6782,6783,6784,6785,6786,6787,6825,6789,6790,6791,6792,6793,6794,6795,6796,6797,6798,6799,6800,6801,6802,6803,6804,6805,6806,6807,6808,6809,6810,6811,6812,6813,6814,6815,6816,6817,6818,6819,6820,6821,6822,6823,6824,6848,6826,6827,6828,6829,6830,6831,6832,6833,6834,6835,6836,6837,6838,6839,6840,6841,6842,6843,6844,6845,6846,6847,81,175,82,83,84,85,86,87,88,89,90,91,92,93,94,95,96,97,98,99,100,101,102,103,104,105,106,107,108,109,110,111,112,113,114,115,116,117,118,119,120,121,122,123,124,125,126,127,128,129,130,131,132,133,134,135,136,137,138,139,140,141,142,143,144,145,146,147,148,149,150,151,152,153,154,155,156,157,158,159,160,161,162,163,164,165,166,167,168,169,170,171,172,173,174',\n",
    "             '6776,6800,6777,6778,6779,6780,6781,6782,6783,6784,6785,6786,6787,6788,6789,6790,6791,6792,6793,6794,6795,6796,6797,6798,6799,6840,6801,6802,6803,6804,6805,6806,6807,6808,6809,6810,6811,6812,6813,6814,6815,6816,6817,6818,6819,6820,6821,6822,6823,6824,6825,6826,6827,6828,6829,6830,6831,6832,6833,6834,6835,6836,6837,6838,6839,6860,6841,6842,6843,6844,6845,6846,6847,6848,6849,6850,6851,6852,6853,6854,6855,6856,6857,6858,6859,6870,6861,6862,6863,6864,6865,6866,6867,6868,6869,103,188,104,105,106,107,108,109,110,111,112,113,114,115,116,117,118,119,120,121,122,123,124,125,126,127,128,129,130,131,132,133,134,135,136,137,138,139,140,141,142,143,144,145,146,147,148,149,150,151,152,153,154,155,156,157,158,159,160,161,162,163,164,165,166,167,168,169,170,171,172,173,174,175,176,177,178,179,180,181,182,183,184,185,186,187,197,189,190,191,192,193,194,195,196'\n",
    "            ]\n",
    "ref_lists = ['3541,3352,3353,3354,3355,3356,3357,3358,3359,3360,3361,3362,3363,3364,3365,3366,3367,3368,3369,3370,3371,3372,3373,3374,3375,3376,3377,3378,3379,3380,3381,3382,3383,3384,3385,3386,3387,3388,3389,3390,3391,3392,3393,3394,3395,3396,3397,3398,3399,3400,3401,3402,3403,3404,3405,3406,3407,3408,3409,3410,3411,3412,3413,3414,3415,3416,3417,3418,3419,3420,3421,3422,3423,3424,3425,3426,3427,3428,3429,3430,3431,3432,3433,3434,3435,3436,3437,3438,3439,3440,3441,3442,3443,3444,3445,3446,3447,3448,3449,3450,3451,3452,3453,3454,3455,3456,3457,3458,3459,3460,3461,3462,3463,3464,3465,3466,3467,3468,3469,3470,3471,3472,3473,3474,3475,3476,3477,3478,3479,3480,3481,3482,3483,3484,3485,3486,3487,3488,3489,3490,3491,3492,3493,3494,3495,3496,3497,3498,3499,3500,3501,3502,3503,3504,3505,3506,3507,3508,3509,3510,3511,3512,3513,3514,3515,3516,3517,3518,3519,3520,3521,3522,3523,3524,3525,3526,3527,3528,3529,3530,3531,3532,3533,3534,3535,3536,3537,3538,3539,3540',\n",
    "             '3559,3535,3536,3537,3538,3539,3540,3541,3542,3543,3544,3545,3546,3547,3548,3549,3550,3551,3552,3553,3554,3555,3556,3557,3558,3509,3510,3511,3512,3513,3514,3515,3516,3517,3518,3519,3520,3521,3522,3523,3524,3525,3526,3527,3528,3529,3530,3531,3532,3533,3534,3497,3498,3499,3500,3501,3502,3503,3504,3505,3506,3507,3508,3482,3483,3484,3485,3486,3487,3488,3489,3490,3491,3492,3493,3494,3495,3496,3470,3471,3472,3473,3474,3475,3476,3477,3478,3479,3480,3481,3449,3450,3451,3452,3453,3454,3455,3456,3457,3458,3459,3460,3461,3462,3463,3464,3465,3466,3467,3468,3469,3420,3421,3422,3423,3424,3425,3426,3427,3428,3429,3430,3431,3432,3433,3434,3435,3436,3437,3438,3439,3440,3441,3442,3443,3444,3445,3446,3447,3448,3370,3371,3372,3373,3374,3375,3376,3377,3378,3379,3380,3381,3382,3383,3384,3385,3386,3387,3388,3389,3390,3391,3392,3393,3394,3395,3396,3397,3398,3399,3400,3401,3402,3403,3404,3405,3406,3407,3408,3409,3410,3411,3412,3413,3414,3415,3416,3417,3418,3419',\n",
    "             '3581,3542,3543,3544,3545,3546,3547,3548,3549,3550,3551,3552,3553,3554,3555,3556,3557,3558,3559,3560,3561,3562,3563,3564,3565,3566,3567,3568,3569,3570,3571,3572,3573,3574,3575,3576,3577,3578,3579,3580,3519,3520,3521,3522,3523,3524,3525,3526,3527,3528,3529,3530,3531,3532,3533,3534,3535,3536,3537,3538,3539,3540,3541,3493,3494,3495,3496,3497,3498,3499,3500,3501,3502,3503,3504,3505,3506,3507,3508,3509,3510,3511,3512,3513,3514,3515,3516,3517,3518,3431,3432,3433,3434,3435,3436,3437,3438,3439,3440,3441,3442,3443,3444,3445,3446,3447,3448,3449,3450,3451,3452,3453,3454,3455,3456,3457,3458,3459,3460,3461,3462,3463,3464,3465,3466,3467,3468,3469,3470,3471,3472,3473,3474,3475,3476,3477,3478,3479,3480,3481,3482,3483,3484,3485,3486,3487,3488,3489,3490,3491,3492,3392,3393,3394,3395,3396,3397,3398,3399,3400,3401,3402,3403,3404,3405,3406,3407,3408,3409,3410,3411,3412,3413,3414,3415,3416,3417,3418,3419,3420,3421,3422,3423,3424,3425,3426,3427,3428,3429,3430'\n",
    "            ]\n",
    "\n",
    "center_of_mass_force_1 = [\n",
    "    Force.com_force(com_list=com_list, ref_list=ref_list, stiff=1, r0=35) for com_list, ref_list in zip(com_lists, ref_lists)]\n",
    "center_of_mass_force_2 = [\n",
    "    Force.com_force(com_list=ref_list, ref_list=com_list, stiff=1, r0=35) for com_list, ref_list in zip(com_lists, ref_lists)]\n",
    "\n",
    "sim_parameters = [{'dt':f'0.003', 'steps':'1e8','print_energy_every': '1e5','print_conf_interval':'1e5'} for sys in systems]"
   ]
  },
  {
   "cell_type": "code",
   "execution_count": null,
   "id": "eb21658f-6567-42f5-a6bf-6323c541067e",
   "metadata": {},
   "outputs": [],
   "source": [
    "for parameter, com_force_1, com_force_2 in zip(sim_parameters, center_of_mass_force_1, center_of_mass_force_2):\n",
    "    for _ in range(n_replicas):\n",
    "        sim = queue_of_simulations.get()\n",
    "        sim.build(clean_build='force')\n",
    "        sim.add_force(com_force_1)\n",
    "        sim.add_force(com_force_2)\n",
    "        # sim.add_force_file()\n",
    "        sim.input_file(parameter)\n",
    "        sim_manager.queue_sim(sim, continue_run=False)"
   ]
  },
  {
   "cell_type": "code",
   "execution_count": null,
   "id": "ca74a8a9-b0ea-4dfb-b473-9c536c26036c",
   "metadata": {},
   "outputs": [],
   "source": [
    "sim_manager.run(gpu_mem_block=False)"
   ]
  },
  {
   "cell_type": "code",
   "execution_count": null,
   "id": "6ae6b31c-6f2c-4aad-83bf-a7123d9df848",
   "metadata": {
    "tags": []
   },
   "outputs": [],
   "source": [
    "for sim in sim_list:\n",
    "    sim.analysis.view_last()"
   ]
  },
  {
   "cell_type": "markdown",
   "id": "b211c673-5a2a-4803-b9e0-ca22a616849b",
   "metadata": {},
   "source": [
    "<font size='6'><a class=\"anchor\" id=\"3\"></a> <h2 align=\"center\"> <font color='black'>Inverted Umbrella</font></h2> \n"
   ]
  },
  {
   "cell_type": "code",
   "execution_count": null,
   "id": "444998d8-2dea-46b3-98ac-500b3f89ca8d",
   "metadata": {},
   "outputs": [],
   "source": [
    "sim_manager = SimulationManager()\n",
    "\n",
    "path = os.path.abspath('/scratch/matthew/ipy_oxDNA/ipy_oxdna_examples/hairygami/inverted_umbrella')\n",
    "\n",
    "systems = ['rro', 't9', 't20']\n",
    "\n",
    "file_dirs = [f'{path}/{sys}' for sys in systems]\n",
    "\n",
    "condition = ['rro_high_k', 't9_high_k', 't20_high_k']\n",
    "\n",
    "com_lists = ['157,96,97,98,99,100,101,102,103,104,105,106,107,108,109,110,111,112,113,114,115,116,117,118,119,120,121,122,123,124,125,126,127,128,129,130,131,132,133,134,135,136,137,138,139,140,141,142,143,144,145,146,147,148,149,150,151,152,153,154,155,156,63,64,65,66,67,68,69,70,71,72,73,74,75,76,77,78,79,80,81,82,83,84,85,86,87,88,89,90,91,92,93,94,95,6830,6742,6743,6744,6745,6746,6747,6748,6749,6750,6751,6752,6753,6754,6755,6756,6757,6758,6759,6760,6761,6762,6763,6764,6765,6766,6767,6768,6769,6770,6771,6772,6773,6774,6775,6776,6777,6778,6779,6780,6781,6782,6783,6784,6785,6786,6787,6788,6789,6790,6791,6792,6793,6794,6795,6796,6797,6798,6799,6800,6801,6802,6803,6804,6805,6806,6807,6808,6809,6810,6811,6812,6813,6814,6815,6816,6817,6818,6819,6820,6821,6822,6823,6824,6825,6826,6827,6828,6829,6736,6737,6738,6739,6740,6741',\n",
    "             '6754,6788,6755,6756,6757,6758,6759,6760,6761,6762,6763,6764,6765,6766,6767,6768,6769,6770,6771,6772,6773,6774,6775,6776,6777,6778,6779,6780,6781,6782,6783,6784,6785,6786,6787,6825,6789,6790,6791,6792,6793,6794,6795,6796,6797,6798,6799,6800,6801,6802,6803,6804,6805,6806,6807,6808,6809,6810,6811,6812,6813,6814,6815,6816,6817,6818,6819,6820,6821,6822,6823,6824,6848,6826,6827,6828,6829,6830,6831,6832,6833,6834,6835,6836,6837,6838,6839,6840,6841,6842,6843,6844,6845,6846,6847,81,175,82,83,84,85,86,87,88,89,90,91,92,93,94,95,96,97,98,99,100,101,102,103,104,105,106,107,108,109,110,111,112,113,114,115,116,117,118,119,120,121,122,123,124,125,126,127,128,129,130,131,132,133,134,135,136,137,138,139,140,141,142,143,144,145,146,147,148,149,150,151,152,153,154,155,156,157,158,159,160,161,162,163,164,165,166,167,168,169,170,171,172,173,174',\n",
    "             '6776,6800,6777,6778,6779,6780,6781,6782,6783,6784,6785,6786,6787,6788,6789,6790,6791,6792,6793,6794,6795,6796,6797,6798,6799,6840,6801,6802,6803,6804,6805,6806,6807,6808,6809,6810,6811,6812,6813,6814,6815,6816,6817,6818,6819,6820,6821,6822,6823,6824,6825,6826,6827,6828,6829,6830,6831,6832,6833,6834,6835,6836,6837,6838,6839,6860,6841,6842,6843,6844,6845,6846,6847,6848,6849,6850,6851,6852,6853,6854,6855,6856,6857,6858,6859,6870,6861,6862,6863,6864,6865,6866,6867,6868,6869,103,188,104,105,106,107,108,109,110,111,112,113,114,115,116,117,118,119,120,121,122,123,124,125,126,127,128,129,130,131,132,133,134,135,136,137,138,139,140,141,142,143,144,145,146,147,148,149,150,151,152,153,154,155,156,157,158,159,160,161,162,163,164,165,166,167,168,169,170,171,172,173,174,175,176,177,178,179,180,181,182,183,184,185,186,187,197,189,190,191,192,193,194,195,196'\n",
    "            ]\n",
    "ref_lists = ['3541,3352,3353,3354,3355,3356,3357,3358,3359,3360,3361,3362,3363,3364,3365,3366,3367,3368,3369,3370,3371,3372,3373,3374,3375,3376,3377,3378,3379,3380,3381,3382,3383,3384,3385,3386,3387,3388,3389,3390,3391,3392,3393,3394,3395,3396,3397,3398,3399,3400,3401,3402,3403,3404,3405,3406,3407,3408,3409,3410,3411,3412,3413,3414,3415,3416,3417,3418,3419,3420,3421,3422,3423,3424,3425,3426,3427,3428,3429,3430,3431,3432,3433,3434,3435,3436,3437,3438,3439,3440,3441,3442,3443,3444,3445,3446,3447,3448,3449,3450,3451,3452,3453,3454,3455,3456,3457,3458,3459,3460,3461,3462,3463,3464,3465,3466,3467,3468,3469,3470,3471,3472,3473,3474,3475,3476,3477,3478,3479,3480,3481,3482,3483,3484,3485,3486,3487,3488,3489,3490,3491,3492,3493,3494,3495,3496,3497,3498,3499,3500,3501,3502,3503,3504,3505,3506,3507,3508,3509,3510,3511,3512,3513,3514,3515,3516,3517,3518,3519,3520,3521,3522,3523,3524,3525,3526,3527,3528,3529,3530,3531,3532,3533,3534,3535,3536,3537,3538,3539,3540',\n",
    "             '3559,3535,3536,3537,3538,3539,3540,3541,3542,3543,3544,3545,3546,3547,3548,3549,3550,3551,3552,3553,3554,3555,3556,3557,3558,3509,3510,3511,3512,3513,3514,3515,3516,3517,3518,3519,3520,3521,3522,3523,3524,3525,3526,3527,3528,3529,3530,3531,3532,3533,3534,3497,3498,3499,3500,3501,3502,3503,3504,3505,3506,3507,3508,3482,3483,3484,3485,3486,3487,3488,3489,3490,3491,3492,3493,3494,3495,3496,3470,3471,3472,3473,3474,3475,3476,3477,3478,3479,3480,3481,3449,3450,3451,3452,3453,3454,3455,3456,3457,3458,3459,3460,3461,3462,3463,3464,3465,3466,3467,3468,3469,3420,3421,3422,3423,3424,3425,3426,3427,3428,3429,3430,3431,3432,3433,3434,3435,3436,3437,3438,3439,3440,3441,3442,3443,3444,3445,3446,3447,3448,3370,3371,3372,3373,3374,3375,3376,3377,3378,3379,3380,3381,3382,3383,3384,3385,3386,3387,3388,3389,3390,3391,3392,3393,3394,3395,3396,3397,3398,3399,3400,3401,3402,3403,3404,3405,3406,3407,3408,3409,3410,3411,3412,3413,3414,3415,3416,3417,3418,3419',\n",
    "             '3581,3542,3543,3544,3545,3546,3547,3548,3549,3550,3551,3552,3553,3554,3555,3556,3557,3558,3559,3560,3561,3562,3563,3564,3565,3566,3567,3568,3569,3570,3571,3572,3573,3574,3575,3576,3577,3578,3579,3580,3519,3520,3521,3522,3523,3524,3525,3526,3527,3528,3529,3530,3531,3532,3533,3534,3535,3536,3537,3538,3539,3540,3541,3493,3494,3495,3496,3497,3498,3499,3500,3501,3502,3503,3504,3505,3506,3507,3508,3509,3510,3511,3512,3513,3514,3515,3516,3517,3518,3431,3432,3433,3434,3435,3436,3437,3438,3439,3440,3441,3442,3443,3444,3445,3446,3447,3448,3449,3450,3451,3452,3453,3454,3455,3456,3457,3458,3459,3460,3461,3462,3463,3464,3465,3466,3467,3468,3469,3470,3471,3472,3473,3474,3475,3476,3477,3478,3479,3480,3481,3482,3483,3484,3485,3486,3487,3488,3489,3490,3491,3492,3392,3393,3394,3395,3396,3397,3398,3399,3400,3401,3402,3403,3404,3405,3406,3407,3408,3409,3410,3411,3412,3413,3414,3415,3416,3417,3418,3419,3420,3421,3422,3423,3424,3425,3426,3427,3428,3429,3430'\n",
    "            ]\n",
    "             \n",
    "stiff = 2\n",
    "xmin = 0\n",
    "xmax = 72.787\n",
    "n_windows = 100\n",
    "steps = 2e5\n",
    "starting_r0 = 35\n",
    "\n",
    "\n",
    "pre_equlibration_parameters = {'dt':f'0.003','steps':'2e5','print_energy_every': '1e6', 'print_conf_interval':'1e6','fix_diffusion': 'false'}\n",
    "equlibration_parameters = {'dt':f'0.003', 'steps':'2e5','print_energy_every': '2e5','print_conf_interval':'1e7', 'fix_diffusion':'false'}\n",
    "production_parameters = {'dt':f'0.003', 'steps':'2e7','print_energy_every': '1e7','print_conf_interval':'1e7', 'fix_diffusion':'false'}\n",
    "\n",
    "us_list = [ComUmbrellaSampling(file_dir, sys, clean_build='force') for file_dir, sys in zip(file_dirs,condition)]\n",
    "\n",
    "simulation_manager = SimulationManager()\n"
   ]
  },
  {
   "cell_type": "code",
   "execution_count": null,
   "id": "6e8bd92a-ef29-43fb-ab23-9b834eb4687a",
   "metadata": {
    "scrolled": true
   },
   "outputs": [],
   "source": [
    "us_list[1].copy_last_conf_from_eq_to_prod()"
   ]
  },
  {
   "cell_type": "code",
   "execution_count": null,
   "id": "0e0982b9-b4c8-476e-893b-7f81b810ef78",
   "metadata": {},
   "outputs": [],
   "source": [
    "for us, com_list, ref_list in zip(us_list[1:2], com_lists[1:2], ref_lists[1:2]):\n",
    "    print(us.system)\n",
    "    us.build_pre_equlibration_runs(simulation_manager, n_windows, com_list, ref_list,\n",
    "                               stiff, xmin, xmax, pre_equlibration_parameters, starting_r0, steps,\n",
    "                               print_every=1e3, observable=True, protein=None,\n",
    "                               force_file=None, continue_run=False)"
   ]
  },
  {
   "cell_type": "code",
   "execution_count": null,
   "id": "d7264125-ea09-40ef-98ca-dfcdedbf3d89",
   "metadata": {
    "scrolled": true
   },
   "outputs": [],
   "source": [
    "simulation_manager.worker_manager(gpu_mem_block=False)"
   ]
  },
  {
   "cell_type": "code",
   "execution_count": null,
   "id": "16ef961b-b474-4c7e-8fb7-887a2d93c94a",
   "metadata": {
    "tags": []
   },
   "outputs": [],
   "source": [
    "for us, com_list, ref_list in zip(us_list[1:2], com_lists[1:2], ref_lists[1:2]):\n",
    "    us.build_equlibration_runs(simulation_manager, n_windows, com_list, ref_list, stiff, xmin, xmax, equlibration_parameters,\n",
    "                               print_every=1e2, observable=True, protein=None, force_file=None, continue_run=False)"
   ]
  },
  {
   "cell_type": "code",
   "execution_count": null,
   "id": "128453c2-7b8d-48b2-97cf-7e23d41804f3",
   "metadata": {
    "scrolled": true,
    "tags": []
   },
   "outputs": [],
   "source": [
    "simulation_manager.run(gpu_mem_block=False)"
   ]
  },
  {
   "cell_type": "code",
   "execution_count": null,
   "id": "76f8ec1e-9aea-428b-b11f-7dda05df5b81",
   "metadata": {},
   "outputs": [],
   "source": [
    "for us, com_list, ref_list in zip(us_list[1:2], com_lists[1:2], ref_lists[1:2]):\n",
    "    us.build_production_runs(simulation_manager, n_windows, com_list, ref_list, stiff, xmin, xmax, production_parameters,\n",
    "                             observable=True, print_every=1e2, protein=None, force_file=None, continue_run=2e7)"
   ]
  },
  {
   "cell_type": "code",
   "execution_count": null,
   "id": "33e8dd06-68c5-4d89-9c96-2cd515175787",
   "metadata": {
    "scrolled": true
   },
   "outputs": [],
   "source": [
    "simulation_manager.run(gpu_mem_block=False)"
   ]
  },
  {
   "cell_type": "code",
   "execution_count": null,
   "id": "efea1dbf-2975-4af3-992d-6c357de715d2",
   "metadata": {},
   "outputs": [],
   "source": [
    "simulation_manager.sim_queue.qsize()"
   ]
  },
  {
   "cell_type": "code",
   "execution_count": null,
   "id": "85953e6b-d2d7-4b4e-bd86-6d41baf95b08",
   "metadata": {},
   "outputs": [],
   "source": [
    "simulation_manager = SimulationManager()\n",
    "for sim in us_list[1].production_sims[:51]:\n",
    "    simulation_manager.queue_sim(sim)"
   ]
  },
  {
   "cell_type": "code",
   "execution_count": null,
   "id": "152cc064-e9ac-4a95-a147-2d385a2aeffe",
   "metadata": {
    "collapsed": true,
    "jupyter": {
     "outputs_hidden": true
    }
   },
   "outputs": [],
   "source": [
    "wham_dir = os.path.abspath('/scratch/matthew/ipy_oxDNA/src/wham/wham')\n",
    "n_bins = '200'\n",
    "tol = '1e-5'\n",
    "n_boot = '10'\n",
    "for us in us_list[1:2]:\n",
    "    us.wham_run(wham_dir, xmin, xmax, stiff, n_bins, tol, n_boot)"
   ]
  },
  {
   "cell_type": "code",
   "execution_count": null,
   "id": "9e67ba48-63b0-463a-a16b-80f3414af551",
   "metadata": {},
   "outputs": [],
   "source": [
    "for idx in range(50,5):\n",
    "    us_list[2].equlibration_sims[idx].analysis.view_last()\n",
    "plt.show()"
   ]
  },
  {
   "cell_type": "code",
   "execution_count": null,
   "id": "afd5f97e-6eca-4769-a952-f7178f1861f6",
   "metadata": {
    "scrolled": true
   },
   "outputs": [],
   "source": [
    "for us in us_list[2:]:\n",
    "    for idx in range(70, 100, 1):\n",
    "        us.analysis.view_conf('prod', idx)"
   ]
  },
  {
   "cell_type": "code",
   "execution_count": null,
   "id": "308ed363-c03b-46bb-9800-0be326a3b073",
   "metadata": {},
   "outputs": [],
   "source": [
    "us_list[1].com_distance_observable(com_lists[1], ref_lists[1])\n",
    "for idx in rangemake ins(0,100,1):\n",
    "    us_list[1].analysis.view_observable('prod', idx, sliding_window=False)"
   ]
  },
  {
   "cell_type": "code",
   "execution_count": null,
   "id": "6a98e6c1-dc2d-4a39-9dfb-d525f4c5bd27",
   "metadata": {
    "tags": []
   },
   "outputs": [],
   "source": [
    "for com_list, ref_list, us in zip(com_lists, ref_lists, us_list):\n",
    "    us.com_distance_observable(com_list, ref_list)\n",
    "\n",
    "\n",
    "for us in us_list[1:2]:\n",
    "    plt.figure(dpi=200)\n",
    "    for idx in range(0,100,1):\n",
    "        us.analysis.view_observable('prod', idx, sliding_window=False)#, observable=us.observables_list[0], sliding_window=20)\n",
    "    plt.legend([us.system], fontsize=7)\n",
    "plt.show()"
   ]
  },
  {
   "cell_type": "code",
   "execution_count": null,
   "id": "73742a5b-ab35-485d-8b7c-2b049a825fce",
   "metadata": {},
   "outputs": [],
   "source": [
    "with plt.style.context(['science', 'no-latex', 'bright']): \n",
    "\n",
    "    ax = us_list[0].wham.plt_fig()\n",
    "    for us in us_list[1:2]:\n",
    "        us.plot_free(ax=ax)\n",
    "    \n",
    "    for us in us_list_temp[1:2]:\n",
    "        us.plot_free(ax=ax)\n",
    "    plt.legend(fontsize=6)\n",
    "    # plt.legend(['5 nm two central:         5.49  nm', '5 nm central and top:   6.84  nm', '7 nm two central:         8.21  nm', '7 nm central and top:   8.83  nm', '10 nm two central:       13.44 nm', '10 nm central and top: 13.65 nm'], fontsize=6)\n",
    "plt.ylim(-0.2, 10)\n",
    "plt.xlabel('Center of mass distance (nm)')\n",
    "plt.show()"
   ]
  },
  {
   "cell_type": "code",
   "execution_count": null,
   "id": "93b5a95b-9404-446e-b67b-95030df8babb",
   "metadata": {},
   "outputs": [],
   "source": [
    "n_data = 50000\n",
    "\n",
    "n_chunks = 2\n",
    "data_added_per_iteration = 3\n",
    "\n",
    "wham_dir = os.path.abspath('/scratch/matthew/ipy_oxDNA/src/wham/wham')\n",
    "n_bins = '200'\n",
    "tol = '1e-5'\n",
    "n_boot = '0'\n",
    "stiff = 2\n",
    "xmin = 0\n",
    "xmax = 72.787\n",
    "n_windows = 100\n",
    "\n",
    "\n",
    "for us in us_list[1:2]:\n",
    "    us.wham.get_n_data_per_com_file()\n",
    "    us.convergence_analysis(n_chunks, data_added_per_iteration, wham_dir, xmin, xmax, stiff, n_bins, tol, n_boot)"
   ]
  },
  {
   "cell_type": "code",
   "execution_count": null,
   "id": "e46b5b19-c4ef-4ec5-9c3e-9babb281aef2",
   "metadata": {
    "collapsed": true,
    "jupyter": {
     "outputs_hidden": true
    }
   },
   "outputs": [],
   "source": [
    "for us in us_list_temp[1:2]:\n",
    "    us.wham.plot_truncated_free_energy()\n",
    "    plt.legend()\n",
    "    plt.title(us.system)\n",
    "    us.wham.plot_chunks_free_energy()\n",
    "    plt.legend()\n",
    "    plt.title(us.system)\n",
    "    plt.show()"
   ]
  },
  {
   "cell_type": "code",
   "execution_count": null,
   "id": "674283aa-7916-42d4-b910-f95f02d3cc80",
   "metadata": {},
   "outputs": [],
   "source": [
    "import numpy as np\n",
    "for us in us_list:\n",
    "    linspace = np.linspace(0, 29, 5, dtype=int)\n",
    "    for idx in linspace:\n",
    "        print(idx)\n",
    "        us.analysis.view_conf('eq', idx)"
   ]
  },
  {
   "cell_type": "markdown",
   "id": "1c23cc9d-7b87-466e-88a0-dd718460a829",
   "metadata": {},
   "source": [
    "<font size='6'><a class=\"anchor\" id=\"3\"></a> <h2 align=\"center\"> <font color='black'>Trimer</font></h2> \n",
    "\n"
   ]
  },
  {
   "cell_type": "code",
   "execution_count": null,
   "id": "f548b4f1-d6ed-4416-9474-d8981973bc22",
   "metadata": {},
   "outputs": [],
   "source": [
    "sim_manager = SimulationManager()\n",
    "\n",
    "path = os.path.abspath('/scratch/mlsample/ipy_oxDNA/ipy_oxdna_examples/hairygami/')\n",
    "\n",
    "systems = ['trimer_relaxed_2']\n",
    "\n",
    "file_dir_list = [f'{path}/{sys}/eq_0' for sys in systems]\n",
    "sim_dir_list = [f'{file_dir}/../prod/prod' for sys, file_dir in zip(systems, file_dir_list)]\n",
    "\n",
    "n_replicas = 16\n",
    "replica_generator = GenerateReplicas()\n",
    "\n",
    "replica_generator.multisystem_replica(\n",
    "    systems,\n",
    "    n_replicas,\n",
    "    file_dir_list,\n",
    "    sim_dir_list\n",
    ")\n",
    "\n",
    "sim_list = replica_generator.sim_list\n",
    "queue_of_simulations = replica_generator.queue_of_sims\n",
    "\n",
    "\n",
    "sim_parameters = [{'dt':f'0.003', 'steps':'1e9','print_energy_every': '5e5','print_conf_interval':'5e5'} for sys in systems]\n",
    "for parameter in sim_parameters:\n",
    "    for _ in range(n_replicas):\n",
    "        sim = queue_of_simulations.get()\n",
    "        # sim.build(clean_build='force')\n",
    "        # sim.input_file(parameter)\n",
    "        sim_manager.queue_sim(sim, continue_run=1e9)"
   ]
  },
  {
   "cell_type": "code",
   "execution_count": null,
   "id": "9bfb29d4-1370-4c37-b4dd-8460ee7104da",
   "metadata": {
    "tags": []
   },
   "outputs": [],
   "source": [
    "sim_manager.run(gpu_mem_block=False)\n"
   ]
  },
  {
   "cell_type": "code",
   "execution_count": null,
   "id": "fe4c23e8-a702-4f05-b613-c3941990c32e",
   "metadata": {},
   "outputs": [],
   "source": [
    "replica_generator.concat_all_system_traj()"
   ]
  },
  {
   "cell_type": "code",
   "execution_count": null,
   "id": "2c305722-8563-4ead-99bf-9de8287ba745",
   "metadata": {},
   "outputs": [],
   "source": [
    "cont_cat_sim = Simulation(replica_generator.concat_file_dirs[0], replica_generator.concat_sim_dirs[0])"
   ]
  },
  {
   "cell_type": "code",
   "execution_count": null,
   "id": "55f3093b-6849-41c3-8313-da06f1098179",
   "metadata": {},
   "outputs": [],
   "source": [
    "cont_cat_sim.analysis.get_conf_count()"
   ]
  },
  {
   "cell_type": "code",
   "execution_count": null,
   "id": "38c789d5-86fc-45c5-94fc-d82ddc804823",
   "metadata": {
    "tags": []
   },
   "outputs": [],
   "source": [
    "cont_cat_sim.oat.mean(args='-p 10')"
   ]
  },
  {
   "cell_type": "code",
   "execution_count": null,
   "id": "8b4c6314-f12c-43b1-959a-ddd832ce0461",
   "metadata": {
    "tags": []
   },
   "outputs": [],
   "source": [
    "cont_cat_sim.oat.deviations(args='-p 10')"
   ]
  },
  {
   "cell_type": "code",
   "execution_count": null,
   "id": "b46e7c67-5c7f-4c26-ba1b-557d6b6d7137",
   "metadata": {
    "tags": []
   },
   "outputs": [],
   "source": [
    "for sim in sim_list:\n",
    "    sim.analysis.plot_energy()"
   ]
  },
  {
   "cell_type": "markdown",
   "id": "a662462b-f7e3-425d-a7c8-a2cf16a3786d",
   "metadata": {},
   "source": [
    "<font size='6'><a class=\"anchor\" id=\"3\"></a> <h2 align=\"center\"> <font color='black'>Umbrella Sampling</font></h2> \n",
    "\n"
   ]
  },
  {
   "cell_type": "code",
   "execution_count": null,
   "id": "0b1f401f-d969-4963-88f2-a66fa6c54320",
   "metadata": {},
   "outputs": [],
   "source": [
    "path = os.path.abspath('/scratch/mlsample/ipy_oxDNA/ipy_oxdna_examples/hairygami/run_umbrella')\n",
    "systems = ['with_hair_with_lock']\n",
    "file_dirs = [f'{path}/{sys}' for sys in systems]\n",
    "\n",
    "\n",
    "com_lists = [\n",
    "    '3259,3498,3260,3261,3262,3263,3264,3265,3266,3267,3268,3269,3270,3271,3272,3273,3274,3275,3276,3277,3278,3279,3280,3281,3282,3283,3284,3285,3286,3287,3288,3289,3290,3291,3292,3293,3294,3295,3296,3297,3298,3299,3300,3301,3302,3303,3304,3305,3306,3307,3308,3309,3310,3311,3312,3313,3314,3315,3316,3317,3318,3319,3320,3321,3322,3323,3324,3325,3326,3327,3328,3329,3330,3331,3332,3333,3334,3335,3336,3337,3338,3339,3340,3341,3342,3343,3344,3345,3346,3347,3348,3349,3350,3351,3352,3353,3354,3355,3356,3357,3358,3359,3360,3361,3362,3363,3364,3365,3366,3367,3368,3369,3370,3371,3372,3373,3374,3375,3376,3377,3378,3379,3380,3381,3382,3383,3384,3385,3386,3387,3388,3389,3390,3391,3392,3393,3394,3395,3396,3397,3398,3399,3400,3401,3402,3403,3404,3405,3406,3407,3408,3409,3410,3411,3412,3413,3414,3415,3416,3417,3418,3419,3420,3421,3422,3423,3424,3425,3426,3427,3428,3429,3430,3431,3432,3433,3434,3435,3436,3437,3438,3439,3440,3441,3442,3443,3444,3445,3446,3447,3448,3449,3450,3451,3452,3453,3454,3455,3456,3457,3458,3459,3460,3461,3462,3463,3464,3465,3466,3467,3468,3469,3470,3471,3472,3473,3474,3475,3476,3477,3478,3479,3480,3481,3482,3483,3484,3485,3486,3487,3488,3489,3490,3491,3492,3493,3494,3495,3496,3497,3507,3499,3500,3501,3502,3503,3504,3505,3506'\n",
    "]\n",
    "\n",
    "ref_lists = [\n",
    "    '83,95,84,85,86,87,88,89,90,91,92,93,94,104,96,97,98,99,100,101,102,103,111,105,106,107,108,109,110,117,112,113,114,115,116,121,118,119,120,124,122,123,41,42,43,44,45,46,47,48,49,50,51,52,53,54,55,56,57,58,59,60,61,62,63,64,65,66,67,68,69,70,71,72,73,74,75,76,77,78,79,80,81,82,21,22,23,24,25,26,27,28,29,30,31,32,33,34,35,36,37,38,39,40,15,16,17,18,19,20,0,1,2,3,4,5,6,7,8,9,10,11,12,13,14,6767,6643,6644,6645,6646,6647,6648,6649,6650,6651,6652,6653,6654,6655,6656,6657,6658,6659,6660,6661,6662,6663,6664,6665,6666,6667,6668,6669,6670,6671,6672,6673,6674,6675,6676,6677,6678,6679,6680,6681,6682,6683,6684,6685,6686,6687,6688,6689,6690,6691,6692,6693,6694,6695,6696,6697,6698,6699,6700,6701,6702,6703,6704,6705,6706,6707,6708,6709,6710,6711,6712,6713,6714,6715,6716,6717,6718,6719,6720,6721,6722,6723,6724,6725,6726,6727,6728,6729,6730,6731,6732,6733,6734,6735,6736,6737,6738,6739,6740,6741,6742,6743,6744,6745,6746,6747,6748,6749,6750,6751,6752,6753,6754,6755,6756,6757,6758,6759,6760,6761,6762,6763,6764,6765,6766'\n",
    "]\n",
    "\n",
    "\n",
    "stiff = 0.05\n",
    "xmin = 0\n",
    "xmax = 72.787\n",
    "n_windows = 60\n",
    "\n",
    "equlibration_parameters = {'dt':f'0.003', 'steps':'1e6','print_energy_every': '1e4','print_conf_interval':'1e5', 'fix_diffusion':'false'}\n",
    "production_parameters = {'dt':f'0.003', 'steps':'1e6','print_energy_every': '1e4','print_conf_interval':'1e5', 'fix_diffusion':'false'}\n",
    "\n",
    "us_list = [ComUmbrellaSampling(file_dir, sys) for file_dir, sys in zip(file_dirs,systems)]\n",
    "\n",
    "simulation_manager = SimulationManager()"
   ]
  },
  {
   "cell_type": "code",
   "execution_count": null,
   "id": "0a6d431e-3424-40d2-a016-e54b33485914",
   "metadata": {},
   "outputs": [],
   "source": [
    "for us, com_list, ref_list in zip(us_list, com_lists, ref_lists):\n",
    "    us.build_equlibration_runs(simulation_manager, n_windows, com_list, ref_list, stiff, xmin, xmax, equlibration_parameters, print_every=1e3, observable=True, protein=None, force_file=None)"
   ]
  },
  {
   "cell_type": "code",
   "execution_count": null,
   "id": "85120d03-95f2-4dfc-bdbb-4178d9c805d9",
   "metadata": {
    "tags": []
   },
   "outputs": [],
   "source": [
    "simulation_manager.run(gpu_mem_block=False)\n"
   ]
  },
  {
   "cell_type": "code",
   "execution_count": null,
   "id": "f9bda4d7-ea44-4201-8c7d-555c44d64162",
   "metadata": {},
   "outputs": [],
   "source": [
    "for us, com_list, ref_list in zip(us_list, com_lists, ref_lists):\n",
    "    us.build_production_runs(simulation_manager, n_windows, com_list, ref_list, stiff, xmin, xmax, production_parameters, observable=True, print_every=1e3, name='com_distance.txt', continue_run=1e6,protein=None, force_file=None)\n"
   ]
  },
  {
   "cell_type": "code",
   "execution_count": null,
   "id": "17b4f839-6bf0-4d86-982b-9febbf052f05",
   "metadata": {},
   "outputs": [],
   "source": [
    "simulation_manager.run(gpu_mem_block=False)\n"
   ]
  },
  {
   "cell_type": "code",
   "execution_count": null,
   "id": "a467a314-062c-4145-9796-e6f5addad391",
   "metadata": {
    "tags": []
   },
   "outputs": [],
   "source": [
    "for com_list, ref_list, us in zip(com_lists, ref_lists, us_list):\n",
    "    us.com_distance_observable(com_list, ref_list)\n",
    "\n",
    "\n",
    "for us in us_list:\n",
    "    plt.figure(dpi=200)\n",
    "    for idx in range(0,60,1):\n",
    "        us.analysis.view_observable('eq', idx, sliding_window=False)#, observable=us.observables_list[0], sliding_window=20)\n",
    "    plt.legend([us.system], fontsize=7)"
   ]
  },
  {
   "cell_type": "code",
   "execution_count": null,
   "id": "747bd86f-c31a-46e4-a936-a42fa7cedd69",
   "metadata": {
    "tags": []
   },
   "outputs": [],
   "source": [
    "for us in us_list:\n",
    "    for idx in range(0,60,5):\n",
    "        print(idx)\n",
    "        us.analysis.view_conf('eq', idx)"
   ]
  },
  {
   "cell_type": "markdown",
   "id": "ef671733-106f-46e0-bc8e-b92b4b582a47",
   "metadata": {},
   "source": [
    "<font size='6'><a class=\"anchor\" id=\"3\"></a> <h2 align=\"center\"> <font color='black'>Experimental strucutres</font></h2> \n",
    "\n",
    "<font size='6'><a class=\"anchor\" id=\"3\"></a> <h2 align=\"center\"> <font color='black'>equlibration</font></h2> "
   ]
  },
  {
   "cell_type": "code",
   "execution_count": null,
   "id": "d4fc1f3a-62fe-4021-8078-c1b3266efac4",
   "metadata": {},
   "outputs": [],
   "source": [
    "sim_manager = SimulationManager()\n",
    "\n",
    "path = os.path.abspath('/workspace/ipy_oxDNA/ipy_oxdna_examples/hairygami/experimental_structures_relaxed')\n",
    "\n",
    "systems = sorted(os.listdir(path))\n",
    "\n",
    "file_dir_list = [f'{path}/{sys}' for sys in systems]\n",
    "sim_dir_list = [f'{file_dir}/eq_cgdna' for sys, file_dir in zip(systems, file_dir_list)]\n",
    "\n",
    "n_replicas = 1\n",
    "replica_generator = GenerateReplicas()\n",
    "\n",
    "replica_generator.multisystem_replica(\n",
    "    systems,\n",
    "    n_replicas,\n",
    "    file_dir_list,\n",
    "    sim_dir_list\n",
    ")\n",
    "\n",
    "sim_list = replica_generator.sim_list\n",
    "queue_of_simulations = replica_generator.queue_of_sims\n",
    "\n",
    "\n",
    "sim_parameters = [{'backend':'CPU', 'dt':f'0.003', 'steps':'1e7','print_energy_every': '5e4','print_conf_interval':'5e4'} for sys in systems]\n",
    "for parameter in sim_parameters:\n",
    "    for _ in range(n_replicas):\n",
    "        sim = queue_of_simulations.get()\n",
    "        sim.build(clean_build='force')\n",
    "        sim.input_file(parameter)\n",
    "        sim_manager.queue_sim(sim)"
   ]
  },
  {
   "cell_type": "code",
   "execution_count": null,
   "id": "b5049f99-02b4-4c50-8689-04b7dcd3c762",
   "metadata": {
    "tags": []
   },
   "outputs": [],
   "source": [
    "sim_manager.run(gpu_mem_block=False)"
   ]
  },
  {
   "cell_type": "code",
   "execution_count": null,
   "id": "e2f9752f-9cd6-44e4-b8ac-3ab2b25ca55f",
   "metadata": {
    "tags": []
   },
   "outputs": [],
   "source": [
    "for sim in sim_list:\n",
    "    print(sim.analysis.current_step())"
   ]
  },
  {
   "cell_type": "markdown",
   "id": "48a71906-07c0-469c-9a27-3f5545d2cd99",
   "metadata": {},
   "source": [
    "<font size='6'><a class=\"anchor\" id=\"3\"></a> <h2 align=\"center\"> <font color='black'>Production</font></h2> \n"
   ]
  },
  {
   "cell_type": "code",
   "execution_count": null,
   "id": "72841810-7c90-4a23-920d-319e6cb3baec",
   "metadata": {},
   "outputs": [],
   "source": [
    "sim_manager = SimulationManager()\n",
    "\n",
    "path = os.path.abspath('/workspace/ipy_oxDNA/ipy_oxdna_examples/hairygami/experimental_structures_relaxed')\n",
    "\n",
    "systems = sorted(os.listdir(path))\n",
    "\n",
    "file_dir_list = [f'{path}/{sys}/eq_0' for sys in systems]\n",
    "sim_dir_list = [f'{file_dir}/../prod_cgdna' for sys, file_dir in zip(systems, file_dir_list)]\n",
    "\n",
    "n_replicas = 1\n",
    "replica_generator = GenerateReplicas()\n",
    "\n",
    "replica_generator.multisystem_replica(\n",
    "    systems,\n",
    "    n_replicas,\n",
    "    file_dir_list,\n",
    "    sim_dir_list\n",
    ")\n",
    "\n",
    "sim_list = replica_generator.sim_list\n",
    "queue_of_simulations = replica_generator.queue_of_sims\n",
    "\n",
    "\n",
    "sim_parameters = [{'backend':'CPU', 'dt':f'0.003', 'steps':'1e6','print_energy_every': '1e2','print_conf_interval':'1e2'} for sys in systems]\n",
    "for parameter in sim_parameters:\n",
    "    for _ in range(n_replicas):\n",
    "        sim = queue_of_simulations.get()\n",
    "        sim.build(clean_build='force')\n",
    "        sim.input_file(parameter)\n",
    "#         sim_manager.queue_sim(sim,)"
   ]
  },
  {
   "cell_type": "code",
   "execution_count": null,
   "id": "b60bba0a-edda-4f13-a8e5-4315cd038068",
   "metadata": {},
   "outputs": [],
   "source": [
    "for sim in sim_list:\n",
    "    sim.oxpy_run.run()"
   ]
  },
  {
   "cell_type": "code",
   "execution_count": null,
   "id": "ef427ac3-2a4c-4140-8126-b6ec66995555",
   "metadata": {
    "tags": []
   },
   "outputs": [],
   "source": [
    "sim_manager.run(gpu_mem_block=False)"
   ]
  },
  {
   "cell_type": "code",
   "execution_count": null,
   "id": "ac3bdff7-0a17-49c7-ae6d-c224b2cd8d03",
   "metadata": {
    "tags": []
   },
   "outputs": [],
   "source": [
    "for sim in sim_list:\n",
    "    sim.analysis.view_last()"
   ]
  },
  {
   "cell_type": "markdown",
   "id": "1008a483-a062-443d-ae75-08cbc7905550",
   "metadata": {},
   "source": [
    "<font size='6'><a class=\"anchor\" id=\"3\"></a> <h2 align=\"center\"> <font color='black'>Umbrella Sampling</font></h2> \n",
    "\n",
    "<font size='3'><font color='black'>Utilizing the ComUmbrellaSampling class, we can automatically run 1D umbrella sampling simulations with a COM order parameter.</font>"
   ]
  },
  {
   "cell_type": "code",
   "execution_count": null,
   "id": "d7bfbda8-c970-4a59-a18e-62c1cb28c1c1",
   "metadata": {},
   "outputs": [],
   "source": [
    "simulation_manager = SimulationManager() \n",
    "simulation_manager.start_nvidia_cuda_mps_control(pipe='temp')"
   ]
  },
  {
   "cell_type": "code",
   "execution_count": null,
   "id": "f629cb95-c1e5-4d18-8096-5f72f4525f5e",
   "metadata": {},
   "outputs": [],
   "source": [
    "from umbrella_sampling import ComUmbrellaSampling, CustomObservableUmbrellaSampling\n",
    "from oxdna_simulation import SimulationManager, Simulation, Observable, Force\n",
    "import os\n",
    "import matplotlib.pyplot as plt"
   ]
  },
  {
   "cell_type": "code",
   "execution_count": null,
   "id": "94888365-eead-4222-b00f-4d4689f33728",
   "metadata": {},
   "outputs": [],
   "source": [
    "path = os.path.abspath('/scratch/mlsample/ipy_oxDNA/ipy_oxdna_examples/hairygami/experimental_structures_relaxed')\n",
    "systems = ['with_hair_with_lock']\n",
    "file_dirs = [f'{path}/{sys}' for sys in systems]\n",
    "\n",
    "\n",
    "com_lists = [\n",
    "    '3259,3498,3260,3261,3262,3263,3264,3265,3266,3267,3268,3269,3270,3271,3272,3273,3274,3275,3276,3277,3278,3279,3280,3281,3282,3283,3284,3285,3286,3287,3288,3289,3290,3291,3292,3293,3294,3295,3296,3297,3298,3299,3300,3301,3302,3303,3304,3305,3306,3307,3308,3309,3310,3311,3312,3313,3314,3315,3316,3317,3318,3319,3320,3321,3322,3323,3324,3325,3326,3327,3328,3329,3330,3331,3332,3333,3334,3335,3336,3337,3338,3339,3340,3341,3342,3343,3344,3345,3346,3347,3348,3349,3350,3351,3352,3353,3354,3355,3356,3357,3358,3359,3360,3361,3362,3363,3364,3365,3366,3367,3368,3369,3370,3371,3372,3373,3374,3375,3376,3377,3378,3379,3380,3381,3382,3383,3384,3385,3386,3387,3388,3389,3390,3391,3392,3393,3394,3395,3396,3397,3398,3399,3400,3401,3402,3403,3404,3405,3406,3407,3408,3409,3410,3411,3412,3413,3414,3415,3416,3417,3418,3419,3420,3421,3422,3423,3424,3425,3426,3427,3428,3429,3430,3431,3432,3433,3434,3435,3436,3437,3438,3439,3440,3441,3442,3443,3444,3445,3446,3447,3448,3449,3450,3451,3452,3453,3454,3455,3456,3457,3458,3459,3460,3461,3462,3463,3464,3465,3466,3467,3468,3469,3470,3471,3472,3473,3474,3475,3476,3477,3478,3479,3480,3481,3482,3483,3484,3485,3486,3487,3488,3489,3490,3491,3492,3493,3494,3495,3496,3497,3507,3499,3500,3501,3502,3503,3504,3505,3506'\n",
    "]\n",
    "\n",
    "ref_lists = [\n",
    "    '83,95,84,85,86,87,88,89,90,91,92,93,94,104,96,97,98,99,100,101,102,103,111,105,106,107,108,109,110,117,112,113,114,115,116,121,118,119,120,124,122,123,41,42,43,44,45,46,47,48,49,50,51,52,53,54,55,56,57,58,59,60,61,62,63,64,65,66,67,68,69,70,71,72,73,74,75,76,77,78,79,80,81,82,21,22,23,24,25,26,27,28,29,30,31,32,33,34,35,36,37,38,39,40,15,16,17,18,19,20,0,1,2,3,4,5,6,7,8,9,10,11,12,13,14,6767,6643,6644,6645,6646,6647,6648,6649,6650,6651,6652,6653,6654,6655,6656,6657,6658,6659,6660,6661,6662,6663,6664,6665,6666,6667,6668,6669,6670,6671,6672,6673,6674,6675,6676,6677,6678,6679,6680,6681,6682,6683,6684,6685,6686,6687,6688,6689,6690,6691,6692,6693,6694,6695,6696,6697,6698,6699,6700,6701,6702,6703,6704,6705,6706,6707,6708,6709,6710,6711,6712,6713,6714,6715,6716,6717,6718,6719,6720,6721,6722,6723,6724,6725,6726,6727,6728,6729,6730,6731,6732,6733,6734,6735,6736,6737,6738,6739,6740,6741,6742,6743,6744,6745,6746,6747,6748,6749,6750,6751,6752,6753,6754,6755,6756,6757,6758,6759,6760,6761,6762,6763,6764,6765,6766'\n",
    "]\n",
    "\n",
    "\n",
    "stiff = 0.35\n",
    "xmin = 0\n",
    "xmax = 72.787\n",
    "n_windows = 60\n",
    "\n",
    "equlibration_parameters = {'dt':f'0.003', 'steps':'1e6','print_energy_every': '1e4','print_conf_interval':'1e5', 'fix_diffusion':'false'}\n",
    "production_parameters = {'dt':f'0.003', 'steps':'1e6','print_energy_every': '1e4','print_conf_interval':'1e5', 'fix_diffusion':'false'}\n",
    "\n",
    "us_list = [ComUmbrellaSampling(file_dir, sys) for file_dir, sys in zip(file_dirs,systems)]\n",
    "\n",
    "simulation_manager = SimulationManager()"
   ]
  },
  {
   "cell_type": "code",
   "execution_count": null,
   "id": "ec06a769-d46c-46d9-9407-36c42dd5a3d0",
   "metadata": {},
   "outputs": [],
   "source": [
    "for us, com_list, ref_list in zip(us_list, com_lists, ref_lists):\n",
    "    us.build_equlibration_runs(simulation_manager, n_windows, com_list, ref_list, stiff, xmin, xmax, equlibration_parameters, print_every=1e3, observable=True, protein=None, force_file=None)"
   ]
  },
  {
   "cell_type": "code",
   "execution_count": null,
   "id": "fe7f5857-80e3-417f-92f3-fcfcdbb2e080",
   "metadata": {
    "tags": []
   },
   "outputs": [],
   "source": [
    "simulation_manager.run(gpu_mem_block=False)\n"
   ]
  },
  {
   "cell_type": "code",
   "execution_count": null,
   "id": "e0bed573-d17a-4ec9-aa24-1af9751137f6",
   "metadata": {},
   "outputs": [],
   "source": [
    "for us, com_list, ref_list in zip(us_list, com_lists, ref_lists):\n",
    "    us.build_production_runs(simulation_manager, n_windows, com_list, ref_list, stiff, xmin, xmax, production_parameters, observable=True, print_every=1e3, name='com_distance.txt', continue_run=1e6,protein=None, force_file=None)\n"
   ]
  },
  {
   "cell_type": "code",
   "execution_count": null,
   "id": "4beb0469-c95d-4920-b478-8750558f9116",
   "metadata": {
    "tags": []
   },
   "outputs": [],
   "source": [
    "simulation_manager.run(gpu_mem_block=False)\n"
   ]
  },
  {
   "cell_type": "code",
   "execution_count": null,
   "id": "e9180588-803d-4cc6-a93a-11d04a42cc21",
   "metadata": {
    "tags": []
   },
   "outputs": [],
   "source": [
    "for com_list, ref_list, us in zip(com_lists, ref_lists, us_list):\n",
    "    us.com_distance_observable(com_list, ref_list)\n",
    "\n",
    "\n",
    "for us in us_list:\n",
    "    plt.figure(dpi=200)\n",
    "    for idx in range(0,60,1):\n",
    "        us.analysis.view_observable('eq', idx, sliding_window=False)#, observable=us.observables_list[0], sliding_window=20)\n",
    "    plt.legend([us.system], fontsize=7)"
   ]
  },
  {
   "cell_type": "code",
   "execution_count": null,
   "id": "b35e9696-963a-4386-a4b4-ad4e2ffc497a",
   "metadata": {
    "tags": []
   },
   "outputs": [],
   "source": [
    "for us in us_list:\n",
    "    for idx in range(0,60,5):\n",
    "        print(idx)\n",
    "        us.analysis.view_conf('eq', idx)"
   ]
  },
  {
   "cell_type": "code",
   "execution_count": null,
   "id": "de91bdf0-25f1-4655-a247-7735e5effd19",
   "metadata": {},
   "outputs": [],
   "source": [
    "wham_dir = os.path.abspath('/scratch/mlsample/ipy_oxDNA/wham/wham')\n",
    "n_bins = '25'\n",
    "tol = '1e-5'\n",
    "n_boot = '100'\n",
    "for us in us_list:\n",
    "    us.wham_run(wham_dir, xmin, xmax, stiff, n_bins, tol, n_boot)"
   ]
  },
  {
   "cell_type": "code",
   "execution_count": null,
   "id": "5231fe7b-69bf-44b0-981c-865a97a34ced",
   "metadata": {},
   "outputs": [],
   "source": [
    "us_list[0].plot_free()"
   ]
  }
 ],
 "metadata": {
  "kernelspec": {
   "display_name": "oxDNA3.3",
   "language": "python",
   "name": "oxdna3.3"
  },
  "language_info": {
   "codemirror_mode": {
    "name": "ipython",
    "version": 3
   },
   "file_extension": ".py",
   "mimetype": "text/x-python",
   "name": "python",
   "nbconvert_exporter": "python",
   "pygments_lexer": "ipython3",
   "version": "3.10.8"
  }
 },
 "nbformat": 4,
 "nbformat_minor": 5
}
