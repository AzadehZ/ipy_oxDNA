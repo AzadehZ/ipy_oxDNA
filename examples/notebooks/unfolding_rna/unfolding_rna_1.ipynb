{
 "cells": [
  {
   "cell_type": "markdown",
   "id": "b3921e85-29c2-4cb1-9b75-6d529f041630",
   "metadata": {},
   "source": [
    "<font size='10'><h1 align=\"center\"><font color='blue'>iPy oxDNA Examples</font></h1>"
   ]
  },
  {
   "cell_type": "markdown",
   "id": "1e81dec7-5371-4bbd-a950-fb772418cb91",
   "metadata": {},
   "source": [
    "<center>\n",
    "<img src=\"../../../oxDNA.png\">\n",
    "</center>"
   ]
  },
  {
   "cell_type": "markdown",
   "id": "ef671733-106f-46e0-bc8e-b92b4b582a47",
   "metadata": {},
   "source": [
    "<font size='8'><a class=\"anchor\" id=\"3\"></a> <h2 align=\"center\"> <font color='black'>Unfolding RNA</font></h2> \n",
    "\n"
   ]
  },
  {
   "cell_type": "code",
   "execution_count": null,
   "id": "b75f0f57-562f-4531-9584-8cd0fc3ed47f",
   "metadata": {},
   "outputs": [],
   "source": [
    "from ipy_oxdna.oxdna_simulation import SimulationManager, Simulation, GenerateReplicas, Force\n",
    "import os\n",
    "import matplotlib.pyplot as plt\n",
    "%load_ext autoreload\n",
    "%autoreload 2"
   ]
  },
  {
   "cell_type": "code",
   "execution_count": null,
   "id": "d4fc1f3a-62fe-4021-8078-c1b3266efac4",
   "metadata": {
    "tags": []
   },
   "outputs": [],
   "source": [
    "sim_manager = SimulationManager()\n",
    "\n",
    "path = os.path.abspath('/scratch/mlsample/ipy_oxDNA/ipy_oxdna_examples/unfolding_rna/')\n",
    "systems = ['unfolding_hybrid/init_relax_and_eq', 'unfolding_square/init_relax_and_eq']\n",
    "\n",
    "file_dir_list = [f'{path}/{sys}' for sys in systems]\n",
    "sim_dir_list = [f'{file_dir}/0_new_relax' for sys, file_dir in zip(systems, file_dir_list)]\n",
    "\n",
    "n_replicas = 1\n",
    "replica_generator = GenerateReplicas()\n",
    "\n",
    "replica_generator.multisystem_replica(\n",
    "    systems,\n",
    "    n_replicas,\n",
    "    file_dir_list,\n",
    "    sim_dir_list\n",
    ")\n",
    "\n",
    "sim_list = replica_generator.sim_list\n",
    "queue_of_simulations = replica_generator.queue_of_sims\n",
    "\n",
    "sim_parameters = [{'max_backbone_force':'10' ,'interaction_type':'DRH' ,'backend':'CPU', 'ensemble':'NVT', 'sim_type':f'MC', 'delta_translation':'0.22', 'delta_rotation':'0.22',  'steps':'1e5','print_energy_every': '1e3','print_conf_interval':'1e3',} for sys in systems]\n",
    "\n",
    "# for parameter in sim_parameters:\n",
    "#     for _ in range(n_replicas):\n",
    "#         sim = queue_of_simulations.get()\n",
    "#         sim.build(clean_build='force')\n",
    "#         sim.input_file(parameter)\n",
    "#         # for force in force_list:\n",
    "#         #     sim.add_force(force)\n",
    "#         sim.add_force_file()\n",
    "#         sim.sequence_dependant()\n",
    "#         sim_manager.queue_sim(sim)"
   ]
  },
  {
   "cell_type": "code",
   "execution_count": null,
   "id": "b5049f99-02b4-4c50-8689-04b7dcd3c762",
   "metadata": {
    "collapsed": true,
    "jupyter": {
     "outputs_hidden": true
    },
    "tags": []
   },
   "outputs": [],
   "source": [
    "sim_manager.run(cpu_run=True ,gpu_mem_block=False)"
   ]
  },
  {
   "cell_type": "code",
   "execution_count": null,
   "id": "5b192caf-f8a5-44af-8451-a4c8accaabab",
   "metadata": {
    "collapsed": true,
    "jupyter": {
     "outputs_hidden": true
    },
    "tags": []
   },
   "outputs": [],
   "source": [
    "for sim in sim_list:\n",
    "    sim.analysis.view_last()"
   ]
  },
  {
   "cell_type": "code",
   "execution_count": null,
   "id": "d51a0a94-5df8-48da-88bf-ded525cafba5",
   "metadata": {},
   "outputs": [],
   "source": [
    "sim_manager = SimulationManager()\n",
    "\n",
    "path = os.path.abspath('/scratch/mlsample/ipy_oxDNA/ipy_oxdna_examples/unfolding_rna/')\n",
    "systems = ['unfolding_hybrid/init_relax_and_eq', 'unfolding_square/init_relax_and_eq']\n",
    "\n",
    "file_dir_list = [f'{path}/{sys}/0_new_relax_0' for sys in systems]\n",
    "sim_dir_list = [f'{file_dir}/../1_new_relax' for sys, file_dir in zip(systems, file_dir_list)]\n",
    "\n",
    "n_replicas = 1\n",
    "replica_generator = GenerateReplicas()\n",
    "\n",
    "replica_generator.multisystem_replica(\n",
    "    systems,\n",
    "    n_replicas,\n",
    "    file_dir_list,\n",
    "    sim_dir_list\n",
    ")\n",
    "\n",
    "sim_list = replica_generator.sim_list\n",
    "queue_of_simulations = replica_generator.queue_of_sims\n",
    "\n",
    "sim_parameters = [{'mismatch_repulsion': '1', 'max_backbone_force':'50' ,'interaction_type':'DRH' ,'backend':'CPU', 'ensemble':'NVT', 'sim_type':f'MC', 'delta_translation':'0.22', 'delta_rotation':'0.22',  'steps':'1e5','print_energy_every': '1e3','print_conf_interval':'1e3',} for sys in systems]\n",
    "\n",
    "\n",
    "# for parameter in sim_parameters:\n",
    "#     for _ in range(n_replicas):\n",
    "#         sim = queue_of_simulations.get()\n",
    "#         sim.build(clean_build='force')\n",
    "#         sim.input_file(parameter)\n",
    "#         # for force in force_list:\n",
    "#         #     sim.add_force(force)\n",
    "#         sim.add_force_file()\n",
    "#         sim.sequence_dependant()\n",
    "#         sim_manager.queue_sim(sim)"
   ]
  },
  {
   "cell_type": "code",
   "execution_count": null,
   "id": "99656a7f-f6ca-4c6a-877d-a096fe97d384",
   "metadata": {
    "collapsed": true,
    "jupyter": {
     "outputs_hidden": true
    },
    "tags": []
   },
   "outputs": [],
   "source": [
    "sim_manager.run(cpu_run=True ,gpu_mem_block=False)"
   ]
  },
  {
   "cell_type": "code",
   "execution_count": null,
   "id": "5b949c72-accf-4c37-a361-8138ac597b7b",
   "metadata": {
    "collapsed": true,
    "jupyter": {
     "outputs_hidden": true
    },
    "tags": []
   },
   "outputs": [],
   "source": [
    "for sim in sim_list:\n",
    "    sim.analysis.view_last()"
   ]
  },
  {
   "cell_type": "code",
   "execution_count": null,
   "id": "e2f9752f-9cd6-44e4-b8ac-3ab2b25ca55f",
   "metadata": {
    "collapsed": true,
    "jupyter": {
     "outputs_hidden": true
    },
    "tags": []
   },
   "outputs": [],
   "source": [
    "for sim in sim_list:\n",
    "    print(sim.analysis.current_step())"
   ]
  },
  {
   "cell_type": "code",
   "execution_count": null,
   "id": "12b5f93c-42ab-4d1a-a361-e15c5f4f5b6f",
   "metadata": {
    "tags": []
   },
   "outputs": [],
   "source": [
    "sim_manager = SimulationManager()\n",
    "\n",
    "path = os.path.abspath('/scratch/mlsample/ipy_oxDNA/ipy_oxdna_examples/unfolding_rna/')\n",
    "systems = ['unfolding_hybrid/init_relax_and_eq', 'unfolding_square/init_relax_and_eq']\n",
    "\n",
    "file_dir_list = [f'{path}/{sys}/1_new_relax_0' for sys in systems]\n",
    "sim_dir_list = [f'{file_dir}/../2_new_relax' for sys, file_dir in zip(systems, file_dir_list)]\n",
    "\n",
    "n_replicas = 1\n",
    "replica_generator = GenerateReplicas()\n",
    "\n",
    "replica_generator.multisystem_replica(\n",
    "    systems,\n",
    "    n_replicas,\n",
    "    file_dir_list,\n",
    "    sim_dir_list\n",
    ")\n",
    "\n",
    "sim_list = replica_generator.sim_list\n",
    "queue_of_simulations = replica_generator.queue_of_sims\n",
    "\n",
    "sim_parameters = [{'mismatch_repulsion': '1', 'max_backbone_force':'250', 'interaction_type':'DRH' ,'backend':'CPU', 'ensemble':'NVT', 'sim_type':f'MC', 'delta_translation':'0.22', 'delta_rotation':'0.22',  'steps':'1e5','print_energy_every': '2e3','print_conf_interval':'2e3',} for sys in systems]\n",
    "\n",
    "# for parameter in sim_parameters:\n",
    "#     for _ in range(n_replicas):\n",
    "#         sim = queue_of_simulations.get()\n",
    "#         sim.build(clean_build='force')\n",
    "#         sim.input_file(parameter)\n",
    "#         # for force in force_list:\n",
    "#         #     sim.add_force(force)\n",
    "#         sim.add_force_file()\n",
    "#         sim.sequence_dependant()\n",
    "#         sim_manager.queue_sim(sim)"
   ]
  },
  {
   "cell_type": "code",
   "execution_count": null,
   "id": "6243279b-2620-4821-9389-20042c1fcb6b",
   "metadata": {
    "collapsed": true,
    "jupyter": {
     "outputs_hidden": true
    },
    "tags": []
   },
   "outputs": [],
   "source": [
    "sim_manager.run(cpu_run=True ,gpu_mem_block=False)"
   ]
  },
  {
   "cell_type": "code",
   "execution_count": null,
   "id": "5ed81953-af65-4554-958f-236649fe561c",
   "metadata": {
    "collapsed": true,
    "jupyter": {
     "outputs_hidden": true
    },
    "tags": []
   },
   "outputs": [],
   "source": [
    "for sim in sim_list:\n",
    "    sim.analysis.view_last()"
   ]
  },
  {
   "cell_type": "code",
   "execution_count": null,
   "id": "5dc674ab-ba79-4998-937e-3bb266ced4b6",
   "metadata": {
    "tags": []
   },
   "outputs": [],
   "source": [
    "sim_manager = SimulationManager()\n",
    "\n",
    "path = os.path.abspath('/scratch/mlsample/ipy_oxDNA/ipy_oxdna_examples/unfolding_rna/')\n",
    "systems = ['unfolding_hybrid/init_relax_and_eq', 'unfolding_square/init_relax_and_eq']\n",
    "\n",
    "file_dir_list = [f'{path}/{sys}/2_new_relax_0' for sys in systems]\n",
    "sim_dir_list = [f'{file_dir}/../3_new_relax' for sys, file_dir in zip(systems, file_dir_list)]\n",
    "\n",
    "n_replicas = 1\n",
    "replica_generator = GenerateReplicas()\n",
    "\n",
    "replica_generator.multisystem_replica(\n",
    "    systems,\n",
    "    n_replicas,\n",
    "    file_dir_list,\n",
    "    sim_dir_list\n",
    ")\n",
    "\n",
    "sim_list = replica_generator.sim_list\n",
    "queue_of_simulations = replica_generator.queue_of_sims\n",
    "\n",
    "sim_parameters = [{'maxclust':'10' ,'mismatch_repulsion': '1', 'max_backbone_force_far':'10', \n",
    "                   'max_backbone_force':'250', 'interaction_type':'DRH' ,'backend':'CPU', 'ensemble':'NVT',\n",
    "                   'sim_type':f'VMMC', 'delta_translation':'0.22', 'delta_rotation':'0.22',\n",
    "                   'steps':'1e5','print_energy_every': '2e2','print_conf_interval':'2e2'} for sys in systems]\n",
    "\n",
    "# for parameter in sim_parameters:\n",
    "#     for _ in range(n_replicas):\n",
    "#         sim = queue_of_simulations.get()\n",
    "#         sim.build(clean_build='force')\n",
    "#         sim.input_file(parameter)\n",
    "#         # for force in force_list:\n",
    "#         #     sim.add_force(force)\n",
    "#         sim.add_force_file()\n",
    "#         sim.sequence_dependant()\n",
    "#         sim_manager.queue_sim(sim)"
   ]
  },
  {
   "cell_type": "code",
   "execution_count": null,
   "id": "4ddcd705-4fe2-4c53-a1ad-6fa5e566ad13",
   "metadata": {
    "collapsed": true,
    "jupyter": {
     "outputs_hidden": true
    },
    "tags": []
   },
   "outputs": [],
   "source": [
    "sim_manager.run(cpu_run=True ,gpu_mem_block=False)"
   ]
  },
  {
   "cell_type": "code",
   "execution_count": null,
   "id": "59c09f5a-f11d-47ed-bc99-8358e4a5bc9f",
   "metadata": {
    "collapsed": true,
    "jupyter": {
     "outputs_hidden": true
    },
    "tags": []
   },
   "outputs": [],
   "source": [
    "for sim in sim_list:\n",
    "    sim.analysis.view_last()"
   ]
  },
  {
   "cell_type": "code",
   "execution_count": null,
   "id": "50c6dea5-4779-434b-bf1b-02785942c697",
   "metadata": {
    "tags": []
   },
   "outputs": [],
   "source": [
    "sim_manager = SimulationManager()\n",
    "\n",
    "path = os.path.abspath('/scratch/mlsample/ipy_oxDNA/ipy_oxdna_examples/unfolding_rna/')\n",
    "systems = ['unfolding_hybrid/init_relax_and_eq', 'unfolding_square/init_relax_and_eq']\n",
    "\n",
    "file_dir_list = [f'{path}/{sys}/3_new_relax_0' for sys in systems]\n",
    "sim_dir_list = [f'{file_dir}/../4_new_relax' for sys, file_dir in zip(systems, file_dir_list)]\n",
    "\n",
    "n_replicas = 1\n",
    "replica_generator = GenerateReplicas()\n",
    "\n",
    "replica_generator.multisystem_replica(\n",
    "    systems,\n",
    "    n_replicas,\n",
    "    file_dir_list,\n",
    "    sim_dir_list\n",
    ")\n",
    "\n",
    "sim_list = replica_generator.sim_list\n",
    "queue_of_simulations = replica_generator.queue_of_sims\n",
    "\n",
    "sim_parameters = [{'maxclust':'10' ,'mismatch_repulsion': '1', 'max_backbone_force_far':'50', \n",
    "                   'max_backbone_force':'250', 'interaction_type':'DRH' ,'backend':'CPU', 'ensemble':'NVT',\n",
    "                   'sim_type':f'VMMC', 'delta_translation':'0.22', 'delta_rotation':'0.22',\n",
    "                   'steps':'1e5','print_energy_every': '2e2','print_conf_interval':'2e2'} for sys in systems]\n",
    "\n",
    "# for parameter in sim_parameters:\n",
    "#     for _ in range(n_replicas):\n",
    "#         sim = queue_of_simulations.get()\n",
    "#         sim.build(clean_build='force')\n",
    "#         sim.input_file(parameter)\n",
    "#         # for force in force_list:\n",
    "#         #     sim.add_force(force)\n",
    "#         sim.add_force_file()\n",
    "#         sim.sequence_dependant()\n",
    "#         sim_manager.queue_sim(sim)"
   ]
  },
  {
   "cell_type": "code",
   "execution_count": null,
   "id": "b7029723-043a-403c-83b8-2b28f0e16273",
   "metadata": {
    "collapsed": true,
    "jupyter": {
     "outputs_hidden": true
    },
    "tags": []
   },
   "outputs": [],
   "source": [
    "sim_manager.run(cpu_run=True ,gpu_mem_block=False)"
   ]
  },
  {
   "cell_type": "code",
   "execution_count": null,
   "id": "79452e87-2e24-4820-9e7d-0b7c84fa1440",
   "metadata": {
    "collapsed": true,
    "jupyter": {
     "outputs_hidden": true
    },
    "tags": []
   },
   "outputs": [],
   "source": [
    "for sim in sim_list:\n",
    "    sim.analysis.view_last()"
   ]
  },
  {
   "cell_type": "code",
   "execution_count": null,
   "id": "ade95c58-9e7e-47d3-86fc-ac84ae1d72c3",
   "metadata": {
    "tags": []
   },
   "outputs": [],
   "source": [
    "sim_manager = SimulationManager()\n",
    "\n",
    "path = os.path.abspath('/scratch/mlsample/ipy_oxDNA/ipy_oxdna_examples/unfolding_rna/')\n",
    "systems = ['unfolding_hybrid/init_relax_and_eq', 'unfolding_square/init_relax_and_eq']\n",
    "\n",
    "file_dir_list = [f'{path}/{sys}/4_new_relax_0' for sys in systems]\n",
    "sim_dir_list = [f'{file_dir}/../5_new_relax' for sys, file_dir in zip(systems, file_dir_list)]\n",
    "\n",
    "n_replicas = 1\n",
    "replica_generator = GenerateReplicas()\n",
    "\n",
    "replica_generator.multisystem_replica(\n",
    "    systems,\n",
    "    n_replicas,\n",
    "    file_dir_list,\n",
    "    sim_dir_list\n",
    ")\n",
    "\n",
    "sim_list = replica_generator.sim_list\n",
    "queue_of_simulations = replica_generator.queue_of_sims\n",
    "\n",
    "sim_parameters = [{'maxclust':'10' ,'mismatch_repulsion': '1', 'max_backbone_force_far':'250', \n",
    "                   'max_backbone_force':'250', 'interaction_type':'DRH' ,'backend':'CPU', 'ensemble':'NVT',\n",
    "                   'sim_type':f'VMMC', 'delta_translation':'0.22', 'delta_rotation':'0.22',\n",
    "                   'steps':'1e5','print_energy_every': '2e2','print_conf_interval':'2e2'} for sys in systems]\n",
    "\n",
    "# for parameter in sim_parameters:\n",
    "#     for _ in range(n_replicas):\n",
    "#         sim = queue_of_simulations.get()\n",
    "#         sim.build(clean_build='force')\n",
    "#         sim.input_file(parameter)\n",
    "#         # for force in force_list:\n",
    "#         #     sim.add_force(force)\n",
    "#         sim.add_force_file()\n",
    "#         sim.sequence_dependant()\n",
    "#         sim_manager.queue_sim(sim)"
   ]
  },
  {
   "cell_type": "code",
   "execution_count": null,
   "id": "6d781071-8045-485d-b497-fbd6ece77a53",
   "metadata": {
    "collapsed": true,
    "jupyter": {
     "outputs_hidden": true
    },
    "tags": []
   },
   "outputs": [],
   "source": [
    "sim_manager.run(cpu_run=True ,gpu_mem_block=False)"
   ]
  },
  {
   "cell_type": "code",
   "execution_count": null,
   "id": "88720ddc-9437-42eb-8038-213e6f92bc84",
   "metadata": {
    "collapsed": true,
    "jupyter": {
     "outputs_hidden": true
    },
    "tags": []
   },
   "outputs": [],
   "source": [
    "for sim in sim_list:\n",
    "    sim.analysis.view_last()"
   ]
  },
  {
   "cell_type": "code",
   "execution_count": null,
   "id": "ff49d497-f6f8-494e-966f-598e994c9aa5",
   "metadata": {
    "tags": []
   },
   "outputs": [],
   "source": [
    "sim_manager = SimulationManager()\n",
    "\n",
    "path = os.path.abspath('/scratch/mlsample/ipy_oxDNA/ipy_oxdna_examples/unfolding_rna/')\n",
    "systems = ['unfolding_hybrid/init_relax_and_eq', 'unfolding_square/init_relax_and_eq']\n",
    "\n",
    "file_dir_list = [f'{path}/{sys}/5_new_relax_0' for sys in systems]\n",
    "sim_dir_list = [f'{file_dir}/../6_new_relax' for sys, file_dir in zip(systems, file_dir_list)]\n",
    "\n",
    "n_replicas = 1\n",
    "replica_generator = GenerateReplicas()\n",
    "\n",
    "replica_generator.multisystem_replica(\n",
    "    systems,\n",
    "    n_replicas,\n",
    "    file_dir_list,\n",
    "    sim_dir_list\n",
    ")\n",
    "\n",
    "sim_list = replica_generator.sim_list\n",
    "queue_of_simulations = replica_generator.queue_of_sims\n",
    "\n",
    "sim_parameters = [{'maxclust':'10' ,'mismatch_repulsion': '1', 'max_backbone_force_far':'2500', \n",
    "                   'max_backbone_force':'2500', 'interaction_type':'DRH' ,'backend':'CPU', 'ensemble':'NVT',\n",
    "                   'sim_type':f'VMMC', 'delta_translation':'0.22', 'delta_rotation':'0.22',\n",
    "                   'steps':'1e5','print_energy_every': '2e2','print_conf_interval':'2e2'} for sys in systems]\n",
    "\n",
    "# for parameter in sim_parameters:\n",
    "#     for _ in range(n_replicas):\n",
    "#         sim = queue_of_simulations.get()\n",
    "#         sim.build(clean_build='force')\n",
    "#         sim.input_file(parameter)\n",
    "#         # for force in force_list:\n",
    "#         #     sim.add_force(force)\n",
    "#         sim.add_force_file()\n",
    "#         sim.sequence_dependant()\n",
    "#         sim_manager.queue_sim(sim)"
   ]
  },
  {
   "cell_type": "code",
   "execution_count": null,
   "id": "8dc7fa5b-54bb-42a1-8ac6-7460a56e753d",
   "metadata": {
    "collapsed": true,
    "jupyter": {
     "outputs_hidden": true
    },
    "tags": []
   },
   "outputs": [],
   "source": [
    "sim_manager.run(cpu_run=True ,gpu_mem_block=False)"
   ]
  },
  {
   "cell_type": "code",
   "execution_count": null,
   "id": "a8225eee-2477-4f60-b2b9-103ef587dbec",
   "metadata": {
    "collapsed": true,
    "jupyter": {
     "outputs_hidden": true
    },
    "tags": []
   },
   "outputs": [],
   "source": [
    "for sim in sim_list:\n",
    "    sim.analysis.view_last()"
   ]
  },
  {
   "cell_type": "code",
   "execution_count": null,
   "id": "c032455f-5a59-49ed-ac82-6aa59fad8dee",
   "metadata": {
    "tags": []
   },
   "outputs": [],
   "source": [
    "sim_manager = SimulationManager()\n",
    "\n",
    "path = os.path.abspath('/scratch/mlsample/ipy_oxDNA/ipy_oxdna_examples/unfolding_rna/')\n",
    "systems = ['unfolding_hybrid/init_relax_and_eq', 'unfolding_square/init_relax_and_eq']\n",
    "\n",
    "file_dir_list = [f'{path}/{sys}/6_new_relax_0' for sys in systems]\n",
    "sim_dir_list = [f'{file_dir}/../7_new_relax' for sys, file_dir in zip(systems, file_dir_list)]\n",
    "\n",
    "n_replicas = 1\n",
    "replica_generator = GenerateReplicas()\n",
    "\n",
    "replica_generator.multisystem_replica(\n",
    "    systems,\n",
    "    n_replicas,\n",
    "    file_dir_list,\n",
    "    sim_dir_list\n",
    ")\n",
    "\n",
    "sim_list = replica_generator.sim_list\n",
    "queue_of_simulations = replica_generator.queue_of_sims\n",
    "\n",
    "sim_parameters = [{'maxclust':'10' ,'mismatch_repulsion': '1', 'interaction_type':'DRH', 'backend':'CPU',\n",
    "                   'ensemble':'NVT', 'sim_type':f'VMMC', 'delta_translation':'0.22', 'delta_rotation':'0.22',\n",
    "                   'steps':'1e5','print_energy_every': '2e2','print_conf_interval':'2e2'} for sys in systems]\n",
    "\n",
    "for parameter in sim_parameters:\n",
    "    for _ in range(n_replicas):\n",
    "        sim = queue_of_simulations.get()\n",
    "        sim.build(clean_build='force')\n",
    "        sim.input_file(parameter)\n",
    "        # for force in force_list:\n",
    "        #     sim.add_force(force)\n",
    "        sim.add_force_file()\n",
    "        sim.sequence_dependant()\n",
    "        sim_manager.queue_sim(sim)"
   ]
  },
  {
   "cell_type": "code",
   "execution_count": null,
   "id": "444ce7b0-6ccd-47e9-970e-ccc26dece682",
   "metadata": {
    "collapsed": true,
    "jupyter": {
     "outputs_hidden": true
    },
    "tags": []
   },
   "outputs": [],
   "source": [
    "sim_manager.run(cpu_run=True ,gpu_mem_block=False)"
   ]
  },
  {
   "cell_type": "code",
   "execution_count": null,
   "id": "d57d2755-3e0c-4086-8074-9375fad29683",
   "metadata": {
    "collapsed": true,
    "jupyter": {
     "outputs_hidden": true
    },
    "tags": []
   },
   "outputs": [],
   "source": [
    "for sim in sim_list:\n",
    "    sim.analysis.view_last()"
   ]
  },
  {
   "cell_type": "code",
   "execution_count": null,
   "id": "cebaf48b-4d4d-4db7-aa5d-f6063cb5608c",
   "metadata": {
    "tags": []
   },
   "outputs": [],
   "source": [
    "sim_manager = SimulationManager()\n",
    "\n",
    "path = os.path.abspath('/scratch/mlsample/ipy_oxDNA/ipy_oxdna_examples/unfolding_rna/')\n",
    "systems = ['unfolding_hybrid/init_relax_and_eq', 'unfolding_square/init_relax_and_eq']\n",
    "\n",
    "file_dir_list = [f'{path}/{sys}/7_new_relax_0' for sys in systems]\n",
    "sim_dir_list = [f'{file_dir}/../8_new_relax' for sys, file_dir in zip(systems, file_dir_list)]\n",
    "\n",
    "n_replicas = 1\n",
    "replica_generator = GenerateReplicas()\n",
    "\n",
    "replica_generator.multisystem_replica(\n",
    "    systems,\n",
    "    n_replicas,\n",
    "    file_dir_list,\n",
    "    sim_dir_list\n",
    ")\n",
    "\n",
    "sim_list = replica_generator.sim_list\n",
    "queue_of_simulations = replica_generator.queue_of_sims\n",
    "\n",
    "sim_parameters = [{'mismatch_repulsion': '1', 'interaction_type':'DRH', 'backend':'CPU',\n",
    "                   'sim_type':f'MD', 'steps':'1e5','print_energy_every': '2e2','print_conf_interval':'2e2'} for sys in systems]\n",
    "\n",
    "for parameter in sim_parameters:\n",
    "    for _ in range(n_replicas):\n",
    "        sim = queue_of_simulations.get()\n",
    "        sim.build(clean_build='force')\n",
    "        sim.input_file(parameter)\n",
    "        # for force in force_list:\n",
    "        #     sim.add_force(force)\n",
    "        sim.add_force_file()\n",
    "        sim.sequence_dependant()\n",
    "        sim_manager.queue_sim(sim)"
   ]
  },
  {
   "cell_type": "code",
   "execution_count": null,
   "id": "c64ce000-9416-448b-ae0a-7357af5bca80",
   "metadata": {
    "collapsed": true,
    "jupyter": {
     "outputs_hidden": true
    },
    "tags": []
   },
   "outputs": [],
   "source": [
    "sim_manager.run(cpu_run=True ,gpu_mem_block=False)"
   ]
  },
  {
   "cell_type": "code",
   "execution_count": null,
   "id": "e44f6500-4dde-4ce6-b4fc-88e7b63ac1e2",
   "metadata": {
    "collapsed": true,
    "jupyter": {
     "outputs_hidden": true
    },
    "tags": []
   },
   "outputs": [],
   "source": [
    "for sim in sim_list:\n",
    "    sim.analysis.plot_energy()"
   ]
  },
  {
   "cell_type": "code",
   "execution_count": null,
   "id": "772d26d3-a14e-4f97-9abc-4195e5b76436",
   "metadata": {
    "tags": []
   },
   "outputs": [],
   "source": [
    "sim_manager = SimulationManager()\n",
    "\n",
    "path = os.path.abspath('/scratch/mlsample/ipy_oxDNA/ipy_oxdna_examples/unfolding_rna/')\n",
    "systems = ['unfolding_hybrid/init_relax_and_eq', 'unfolding_square/init_relax_and_eq']\n",
    "\n",
    "file_dir_list = [f'{path}/{sys}/8_new_relax_0' for sys in systems]\n",
    "sim_dir_list = [f'{file_dir}/../9_new_relax' for sys, file_dir in zip(systems, file_dir_list)]\n",
    "\n",
    "n_replicas = 1\n",
    "replica_generator = GenerateReplicas()\n",
    "\n",
    "replica_generator.multisystem_replica(\n",
    "    systems,\n",
    "    n_replicas,\n",
    "    file_dir_list,\n",
    "    sim_dir_list\n",
    ")\n",
    "\n",
    "sim_list = replica_generator.sim_list\n",
    "queue_of_simulations = replica_generator.queue_of_sims\n",
    "\n",
    "sim_parameters = [{'mismatch_repulsion': '1', 'interaction_type':'DRH', 'backend':'CPU',\n",
    "                   'sim_type':f'MD', 'steps':'1e7','print_energy_every': '1e4','print_conf_interval':'1e4'} for sys in systems]\n",
    "\n",
    "# for parameter in sim_parameters:\n",
    "#     for _ in range(n_replicas):\n",
    "#         sim = queue_of_simulations.get()\n",
    "#         sim.build(clean_build='force')\n",
    "#         sim.input_file(parameter)\n",
    "#         # for force in force_list:\n",
    "#         #     sim.add_force(force)\n",
    "#         sim.add_force_file()\n",
    "#         sim.sequence_dependant()\n",
    "#         sim_manager.queue_sim(sim)"
   ]
  },
  {
   "cell_type": "code",
   "execution_count": null,
   "id": "56aeebb5-f2f2-41d0-a255-b8675fd1f4d5",
   "metadata": {
    "collapsed": true,
    "jupyter": {
     "outputs_hidden": true
    },
    "tags": []
   },
   "outputs": [],
   "source": [
    "sim_manager.run(cpu_run=True ,gpu_mem_block=False)"
   ]
  },
  {
   "cell_type": "code",
   "execution_count": null,
   "id": "32594422-e5ee-42f6-bf2b-d821eede0110",
   "metadata": {
    "tags": []
   },
   "outputs": [],
   "source": [
    "for sim in sim_list:\n",
    "    sim.analysis.plot_energy()"
   ]
  },
  {
   "cell_type": "code",
   "execution_count": null,
   "id": "41c886ec-4e04-405a-acf3-5d75ad4960cd",
   "metadata": {
    "tags": []
   },
   "outputs": [],
   "source": [
    "sim_manager = SimulationManager()\n",
    "\n",
    "path = os.path.abspath('/scratch/mlsample/ipy_oxDNA/ipy_oxdna_examples/unfolding_rna/')\n",
    "systems = ['unfolding_hybrid/init_relax_and_eq', 'unfolding_square/init_relax_and_eq']\n",
    "\n",
    "file_dir_list = [f'{path}/{sys}/9_new_relax_0' for sys in systems]\n",
    "sim_dir_list = [f'{file_dir}/../10_new_relax' for sys, file_dir in zip(systems, file_dir_list)]\n",
    "\n",
    "n_replicas = 1\n",
    "replica_generator = GenerateReplicas()\n",
    "\n",
    "replica_generator.multisystem_replica(\n",
    "    systems,\n",
    "    n_replicas,\n",
    "    file_dir_list,\n",
    "    sim_dir_list\n",
    ")\n",
    "\n",
    "sim_list = replica_generator.sim_list\n",
    "queue_of_simulations = replica_generator.queue_of_sims\n",
    "\n",
    "sim_parameters = [{'mismatch_repulsion': '1', 'interaction_type':'DRH', 'backend':'CPU',\n",
    "                   'sim_type':f'MD', 'steps':'1e7','print_energy_every': '1e4','print_conf_interval':'1e4'} for sys in systems]\n",
    "\n",
    "for parameter in sim_parameters:\n",
    "    for _ in range(n_replicas):\n",
    "        sim = queue_of_simulations.get()\n",
    "        sim.build(clean_build='force')\n",
    "        sim.input_file(parameter)\n",
    "        # for force in force_list:\n",
    "        #     sim.add_force(force)\n",
    "        sim.add_force_file()\n",
    "        sim.sequence_dependant()\n",
    "        sim_manager.queue_sim(sim)"
   ]
  },
  {
   "cell_type": "code",
   "execution_count": null,
   "id": "754c443b-4db8-4df3-9fd7-d6bb3fb38cce",
   "metadata": {
    "collapsed": true,
    "jupyter": {
     "outputs_hidden": true
    },
    "tags": []
   },
   "outputs": [],
   "source": [
    "sim_manager.run(cpu_run=True ,gpu_mem_block=False)"
   ]
  },
  {
   "cell_type": "code",
   "execution_count": null,
   "id": "8b93b526-7e71-4ba9-8061-9a868baae69c",
   "metadata": {
    "tags": []
   },
   "outputs": [],
   "source": [
    "for sim in sim_list:\n",
    "    sim.analysis.plot_energy()"
   ]
  },
  {
   "cell_type": "markdown",
   "id": "1abd55f1-0612-4303-97a6-b1fc6b80b60e",
   "metadata": {
    "tags": []
   },
   "source": [
    "<font size='8'><a class=\"anchor\" id=\"3\"></a> <h2 align=\"center\"> <font color='black'>Production</font></h2> \n"
   ]
  },
  {
   "cell_type": "code",
   "execution_count": null,
   "id": "567bc16b-6ddc-4fd5-9281-8800e899ff4f",
   "metadata": {
    "tags": []
   },
   "outputs": [],
   "source": [
    "sim_manager = SimulationManager()\n",
    "\n",
    "path = os.path.abspath('/scratch/mlsample/ipy_oxDNA/ipy_oxdna_examples/unfolding_rna/')\n",
    "systems = ['unfolding_hybrid/production', 'unfolding_square/production']\n",
    "\n",
    "file_dir_list = [f'{path}/{sys}/' for sys in systems]\n",
    "sim_dir_list = [f'{file_dir}/prod' for sys, file_dir in zip(systems, file_dir_list)]\n",
    "\n",
    "n_replicas = 50\n",
    "replica_generator = GenerateReplicas()\n",
    "\n",
    "replica_generator.multisystem_replica(\n",
    "    systems,\n",
    "    n_replicas,\n",
    "    file_dir_list,\n",
    "    sim_dir_list\n",
    ")\n",
    "\n",
    "sim_list = replica_generator.sim_list\n",
    "queue_of_simulations = replica_generator.queue_of_sims\n",
    "\n",
    "sim_parameters = [{'mismatch_repulsion': '1', 'interaction_type':'DRH',\n",
    "                   'backend':'CPU', 'sim_type':'MD', 'steps':'1e9',\n",
    "                   'print_energy_every': '1e4','print_conf_interval':'1e4'} for sys in systems]\n",
    "\n",
    "# for parameter in sim_parameters:\n",
    "#     for _ in range(n_replicas):\n",
    "#         sim = queue_of_simulations.get()\n",
    "#         sim.build(clean_build='force')\n",
    "#         sim.input_file(parameter)\n",
    "#         sim.add_force_file()\n",
    "#         sim.sequence_dependant()\n",
    "#         sim_manager.queue_sim(sim)"
   ]
  },
  {
   "cell_type": "code",
   "execution_count": null,
   "id": "01da800f-ede6-46b2-ae6f-4109ee7344cc",
   "metadata": {
    "tags": []
   },
   "outputs": [],
   "source": [
    "sim_manager.run(cpu_run=True, gpu_mem_block=False, run_when_failed=True)"
   ]
  },
  {
   "cell_type": "code",
   "execution_count": null,
   "id": "bad0576e-84bb-45fd-9975-76eff3f6394f",
   "metadata": {
    "tags": []
   },
   "outputs": [],
   "source": [
    "failed = []\n",
    "worked = []\n",
    "for sim in sim_list:\n",
    "    try:\n",
    "        conf_count = sim.analysis.get_conf_count()\n",
    "        if conf_count > 100:\n",
    "            worked.append(sim)\n",
    "        else:\n",
    "            failed.append(sim)\n",
    "    except:\n",
    "        failed.append(sim)\n"
   ]
  },
  {
   "cell_type": "code",
   "execution_count": null,
   "id": "3444bb35-db5b-4dd8-95bd-685558a37af2",
   "metadata": {
    "tags": []
   },
   "outputs": [],
   "source": [
    "worked_dir[0].split('/')[-4]"
   ]
  },
  {
   "cell_type": "code",
   "execution_count": null,
   "id": "7abaf327-4550-45b6-bd73-6eb0ec699994",
   "metadata": {
    "tags": []
   },
   "outputs": [],
   "source": [
    "failed[0].sim_dir"
   ]
  },
  {
   "cell_type": "code",
   "execution_count": null,
   "id": "ace7c679-a69a-4ee1-95e3-f66e95a2cbb9",
   "metadata": {
    "collapsed": true,
    "jupyter": {
     "outputs_hidden": true
    },
    "tags": []
   },
   "outputs": [],
   "source": [
    "import shutil\n",
    "\n",
    "sim_list_sim_dir = [sim.sim_dir for sim in worked if sim.sim_dir.split('/')[-4] == 'unfolding_hybrid']\n",
    "sim_list_file_dir = [sim.sim_dir for sim in worked if sim.sim_dir.split('/')[-4] == 'unfolding_hybrid']\n",
    "concat_dir = 'concat_dir'\n",
    "concat_dir = os.path.abspath(os.path.join(sim_list_file_dir[0], concat_dir))\n",
    "if not os.path.exists(concat_dir):\n",
    "    os.mkdir(concat_dir)\n",
    "    \n",
    "with open(f'{concat_dir}/trajectory.dat', 'wb') as outfile:\n",
    "    for f in sim_list_sim_dir:\n",
    "        with open(f'{f}/trajectory.dat', 'rb') as infile:\n",
    "            outfile.write(infile.read())\n",
    "shutil.copyfile(worked[0].sim_files.top, concat_dir+'/concat.top')"
   ]
  },
  {
   "cell_type": "code",
   "execution_count": null,
   "id": "ce963aee-280c-430c-bdf6-9d0c93cb9191",
   "metadata": {
    "collapsed": true,
    "jupyter": {
     "outputs_hidden": true
    },
    "tags": []
   },
   "outputs": [],
   "source": [
    "import shutil\n",
    "\n",
    "system_specific_sim_list = [sim for sim in worked if sim.sim_dir.split('/')[-4] == 'unfolding_square']\n",
    "sim_list_sim_dir = [sim.sim_dir for sim in worked if sim.sim_dir.split('/')[-4] == 'unfolding_square']\n",
    "sim_list_file_dir = [sim.sim_dir for sim in worked if sim.sim_dir.split('/')[-4] == 'unfolding_square']\n",
    "concat_dir = 'concat_dir'\n",
    "concat_dir = os.path.abspath(os.path.join(sim_list_file_dir[0], concat_dir))\n",
    "if not os.path.exists(concat_dir):\n",
    "    os.mkdir(concat_dir)\n",
    "    \n",
    "with open(f'{concat_dir}/trajectory.dat', 'wb') as outfile:\n",
    "    for f in sim_list_sim_dir:\n",
    "        with open(f'{f}/trajectory.dat', 'rb') as infile:\n",
    "            outfile.write(infile.read())\n",
    "shutil.copyfile(system_specific_sim_list[0].sim_files.top, concat_dir+'/concat.top')"
   ]
  },
  {
   "cell_type": "code",
   "execution_count": null,
   "id": "6c8e63d9-5b4d-4f70-944b-367bfe106da4",
   "metadata": {
    "tags": []
   },
   "outputs": [],
   "source": [
    "len(sim_list_sim_dir)"
   ]
  },
  {
   "cell_type": "code",
   "execution_count": null,
   "id": "d183f331-de89-4433-9b0e-e9c29e97c603",
   "metadata": {
    "collapsed": true,
    "jupyter": {
     "outputs_hidden": true
    },
    "tags": []
   },
   "outputs": [],
   "source": [
    "for sim in sim_list:\n",
    "    sim.analysis.plot_energy()"
   ]
  },
  {
   "cell_type": "code",
   "execution_count": null,
   "id": "4a9de60a-aee9-4ed9-9af4-9663709b108f",
   "metadata": {
    "collapsed": true,
    "jupyter": {
     "outputs_hidden": true
    },
    "tags": []
   },
   "outputs": [],
   "source": [
    "for sim in sim_list:\n",
    "    sim.oat.deviations(args='-p 40 -i baseListFile.txt', join=True)"
   ]
  },
  {
   "cell_type": "code",
   "execution_count": null,
   "id": "ac3bdff7-0a17-49c7-ae6d-c224b2cd8d03",
   "metadata": {
    "collapsed": true,
    "jupyter": {
     "outputs_hidden": true
    },
    "tags": []
   },
   "outputs": [],
   "source": [
    "for sim in sim_list:\n",
    "    print(sim.analysis.get_conf_count())"
   ]
  },
  {
   "cell_type": "code",
   "execution_count": null,
   "id": "ef202587-7994-456e-8804-1be932d1bdda",
   "metadata": {},
   "outputs": [],
   "source": [
    "print(sim_list[0].file_dir)"
   ]
  },
  {
   "cell_type": "code",
   "execution_count": null,
   "id": "3adc11c6-1b2e-4553-9495-058ef6af6437",
   "metadata": {
    "collapsed": true,
    "jupyter": {
     "outputs_hidden": true
    },
    "tags": []
   },
   "outputs": [],
   "source": [
    "for sim in sim_list:\n",
    "    print(sim.sim_files.traj)"
   ]
  },
  {
   "cell_type": "code",
   "execution_count": null,
   "id": "5e08c017-48f7-4c2e-b236-eb7dcf3a3659",
   "metadata": {},
   "outputs": [],
   "source": [
    "def rm_trash(sim):\n",
    "    os.chdir(sim.sim_dir)\n",
    "    if os.path.exists('dna_trajectory.dat'):\n",
    "        os.remove('dna_trajectory.dat')\n",
    "    if os.path.exists('dna_trajectory.top'):\n",
    "        os.remove('dna_trajectory.top')\n",
    "    if os.path.exists('dna_trajectory.dat.pyidx'):\n",
    "        os.remove('dna_trajectory.dat.pyidx') \n",
    "        \n",
    "    if os.path.exists('trajectory.dat.pyidx'):\n",
    "        os.remove('trajectory.dat.pyidx')  \n",
    "    return None"
   ]
  },
  {
   "cell_type": "code",
   "execution_count": null,
   "id": "de5116b6-885d-442c-8335-fb5cd5f7e507",
   "metadata": {},
   "outputs": [],
   "source": [
    "for sim in sim_list:\n",
    "    rm_trash(sim)"
   ]
  },
  {
   "cell_type": "code",
   "execution_count": null,
   "id": "5097043d-02f4-4fc3-8d71-1593f0801e45",
   "metadata": {
    "tags": []
   },
   "outputs": [],
   "source": [
    "for sim in sim_list:\n",
    "    rm_trash(sim)\n",
    "    sim.oat.subset_trajectory(args=' -i baseListFile.txt dna_trajectory')"
   ]
  },
  {
   "cell_type": "code",
   "execution_count": null,
   "id": "4f19dd5b-cb95-4a5c-a00c-f17ad5512e3a",
   "metadata": {
    "tags": []
   },
   "outputs": [],
   "source": [
    "for sim in sim_list:\n",
    "    sim.oat.mean(traj='dna_trajectory.dat')\n"
   ]
  },
  {
   "cell_type": "code",
   "execution_count": null,
   "id": "6c09ac2e-e0d2-46c0-9acc-8cc2ba0d5bd0",
   "metadata": {
    "tags": []
   },
   "outputs": [],
   "source": [
    "for sim in sim_list:\n",
    "    sim.oat.conformational_entropy(traj='dna_trajectory.dat')\n",
    "    # print(f'{sim.sim_dir.split(\"/\")[-4]}: {sim.sim_dir.split(\"/\")[-1]}')"
   ]
  },
  {
   "cell_type": "code",
   "execution_count": null,
   "id": "af8497f6-2cf1-475b-a9e5-28033b42ed54",
   "metadata": {
    "tags": []
   },
   "outputs": [],
   "source": [
    "import json as js\n",
    "conf_en = {}\n",
    "for sim in sim_list:\n",
    "        conformational_entropy_file = f'{sim.sim_dir}/conformational_entropy.json'\n",
    "        with open(conformational_entropy_file, 'r') as f:\n",
    "            data = js.load(f)\n",
    "            conf_en[f\"{sim.sim_dir.split('/')[-4]}_{sim.sim_dir.split('_')[-1]}\"] = data\n",
    "conf_en"
   ]
  },
  {
   "cell_type": "code",
   "execution_count": null,
   "id": "c32ac233-96ec-43e6-b6d4-b14a2d49c634",
   "metadata": {
    "tags": []
   },
   "outputs": [],
   "source": [
    "conf_en_systems = {sys:[] for sys in systems}\n",
    "\n",
    "for sys in systems:\n",
    "    for key in conf_en:\n",
    "        if sys in key[:-2]:\n",
    "            conf_en_systems[sys].append(conf_en[key])\n",
    "    "
   ]
  },
  {
   "cell_type": "code",
   "execution_count": null,
   "id": "93a5031a-c980-4593-88c1-484c0addf546",
   "metadata": {},
   "outputs": [],
   "source": [
    "import numpy as np"
   ]
  },
  {
   "cell_type": "code",
   "execution_count": null,
   "id": "f10628a1-ae36-4bbe-9017-25cf899260b9",
   "metadata": {},
   "outputs": [],
   "source": [
    "conf_en_mean = {sys:np.mean(value) for sys, value in conf_en_systems.items()}\n",
    "conf_en_std = {sys:np.std(value) for sys, value in conf_en_systems.items()}\n",
    "\n",
    "conf_en_diff = {sys:value - conf_en_mean['unbound'] for sys, value in conf_en_mean.items()}\n",
    "conf_en_std"
   ]
  },
  {
   "cell_type": "code",
   "execution_count": null,
   "id": "1103fbef-235e-4238-94b7-0fb05ce78d89",
   "metadata": {},
   "outputs": [],
   "source": [
    "conf_en_diff"
   ]
  },
  {
   "cell_type": "code",
   "execution_count": null,
   "id": "24e600c4-46ff-41fa-b8c4-110f5c75c1d6",
   "metadata": {},
   "outputs": [],
   "source": [
    "conf_en_mean"
   ]
  },
  {
   "cell_type": "code",
   "execution_count": null,
   "id": "d47b8754-c994-471f-9f7e-b457965f9b59",
   "metadata": {},
   "outputs": [],
   "source": [
    "replica_generator.concat_all_system_traj()"
   ]
  },
  {
   "cell_type": "code",
   "execution_count": null,
   "id": "9a5f3c30-6db2-40bf-8ab0-af2b0cb67404",
   "metadata": {},
   "outputs": [],
   "source": [
    "sim_manager = SimulationManager()\n",
    "\n",
    "path = os.path.abspath('/scratch/mlsample/ipy_oxDNA/ipy_oxdna_examples/synbody/conformational_entropy')\n",
    "\n",
    "systems = sorted(os.listdir(path))\n",
    "systems = [item for item in systems if not item.startswith('.')]\n",
    "\n",
    "file_dir_list = replica_generator.concat_file_dirs\n",
    "sim_dir_list = replica_generator.concat_sim_dirs\n",
    "\n",
    "concat_sim_list = [Simulation(file_dir, sim_dir) for file_dir, sim_dir in zip(file_dir_list, sim_dir_list)]\n"
   ]
  },
  {
   "cell_type": "code",
   "execution_count": null,
   "id": "3cebcd0a-f234-437d-a9c8-e43549f7baee",
   "metadata": {
    "tags": []
   },
   "outputs": [],
   "source": [
    "for sim in concat_sim_list:\n",
    "    print(sim.sim_dir)"
   ]
  },
  {
   "cell_type": "code",
   "execution_count": null,
   "id": "1a3ebce6-cad9-4ffc-8d64-31fe525dfebc",
   "metadata": {
    "tags": []
   },
   "outputs": [],
   "source": [
    "for sim in concat_sim_list:\n",
    "    print(sim.analysis.get_conf_count())"
   ]
  },
  {
   "cell_type": "code",
   "execution_count": null,
   "id": "e36c4198-a385-4494-af77-e8b13a3798ab",
   "metadata": {
    "tags": []
   },
   "outputs": [],
   "source": [
    "for sim in concat_sim_list:\n",
    "    rm_trash(sim)\n",
    "    sim.oat.subset_trajectory(args=' -i ../../prod_0/baseListFile.txt dna_trajectory -p 6')"
   ]
  },
  {
   "cell_type": "code",
   "execution_count": null,
   "id": "3aaceb7a-d65f-47fb-8fbf-9476535fe23d",
   "metadata": {
    "tags": []
   },
   "outputs": [],
   "source": [
    "for sim in concat_sim_list:\n",
    "    sim.oat.mean(args='-p 6', traj='dna_trajectory.dat')"
   ]
  },
  {
   "cell_type": "code",
   "execution_count": null,
   "id": "27435209-397c-4367-abbf-27c3f7e4921e",
   "metadata": {
    "tags": []
   },
   "outputs": [],
   "source": [
    "for sim in concat_sim_list:\n",
    "    sim.oat.conformational_entropy(args='-p 6', traj='dna_trajectory.dat')"
   ]
  },
  {
   "cell_type": "code",
   "execution_count": null,
   "id": "516bca81-f15e-4c92-a9f1-53ddd24f5917",
   "metadata": {},
   "outputs": [],
   "source": [
    "'$\\Delta S_{conf} (kJ\\ mol^{-1}\\ K^{-1}$)'"
   ]
  },
  {
   "cell_type": "code",
   "execution_count": null,
   "id": "c545e115-2ea7-4ce6-9274-e5c1cdbb3fe2",
   "metadata": {},
   "outputs": [],
   "source": [
    "concat_sim_list"
   ]
  },
  {
   "cell_type": "code",
   "execution_count": null,
   "id": "9bde663a-f251-4d9f-bacf-88b2d3fa564d",
   "metadata": {},
   "outputs": [],
   "source": [
    "import json as js\n",
    "conf_en = {}\n",
    "for sim in concat_sim_list:\n",
    "        conformational_entropy_file = f'{sim.sim_dir}/conformational_entropy.json'\n",
    "        with open(conformational_entropy_file, 'r') as f:\n",
    "            data = js.load(f)\n",
    "            conf_en[f\"{sim.sim_dir.split('/')[-3]}_{sim.sim_dir.split('_')[-1]}\"] = data\n",
    "conf_en"
   ]
  },
  {
   "cell_type": "code",
   "execution_count": null,
   "id": "09e5e3a8-85c4-4e40-acda-13b04d5ee7b0",
   "metadata": {},
   "outputs": [],
   "source": [
    "diff = {sys: value - conf_en['unbound_dir'] for sys, value in conf_en.items()}\n",
    "diff"
   ]
  },
  {
   "cell_type": "markdown",
   "id": "7a736509-0492-4184-9834-7f7d02537ca8",
   "metadata": {},
   "source": [
    "<font size='6'><a class=\"anchor\" id=\"3\"></a> <h2 align=\"center\"> <font color='black'>Movies</font></h2> \n"
   ]
  },
  {
   "cell_type": "code",
   "execution_count": null,
   "id": "2a10593d-7221-4c37-9242-bc96b4906b35",
   "metadata": {},
   "outputs": [],
   "source": [
    "sim_manager = SimulationManager()\n",
    "\n",
    "path = os.path.abspath('/scratch/mlsample/ipy_oxDNA/ipy_oxdna_examples/synbody/conformational_entropy')\n",
    "\n",
    "systems = sorted(os.listdir(path))\n",
    "systems = [item for item in systems if not item.startswith('.')]\n",
    "\n",
    "file_dir_list = [f'{path}/{sys}/eq_0' for sys in systems]\n",
    "sim_dir_list = [f'{file_dir}/../movie_5e3' for sys, file_dir in zip(systems, file_dir_list)]\n",
    "\n",
    "n_replicas = 1\n",
    "replica_generator = GenerateReplicas()\n",
    "\n",
    "replica_generator.multisystem_replica(\n",
    "    systems,\n",
    "    n_replicas,\n",
    "    file_dir_list,\n",
    "    sim_dir_list\n",
    ")\n",
    "\n",
    "sim_list = replica_generator.sim_list\n",
    "queue_of_simulations = replica_generator.queue_of_sims\n",
    "\n",
    "\n",
    "# sim_parameters = [{'dt':f'0.002', 'steps':'1e7','print_energy_every': '2e3','print_conf_interval':'2e3'} for sys in systems]\n",
    "# for parameter in sim_parameters:\n",
    "#     for _ in range(n_replicas):\n",
    "#         sim = queue_of_simulations.get()\n",
    "#         sim.build(clean_build='force')\n",
    "#         sim.input_file(parameter)\n",
    "#         sim.add_protein_par()\n",
    "#         sim.add_force_file()\n",
    "#         sim_manager.queue_sim(sim)#, continue_run=1e8)"
   ]
  },
  {
   "cell_type": "code",
   "execution_count": null,
   "id": "e47c0f24-0bfb-4fbd-bde4-dc50f31883b4",
   "metadata": {
    "collapsed": true,
    "jupyter": {
     "outputs_hidden": true
    },
    "tags": []
   },
   "outputs": [],
   "source": [
    "sim_manager.run(gpu_mem_block=False)"
   ]
  },
  {
   "cell_type": "code",
   "execution_count": null,
   "id": "572d36f7-3a2f-46a0-a69f-d4644b63801b",
   "metadata": {
    "collapsed": true,
    "jupyter": {
     "outputs_hidden": true
    },
    "tags": []
   },
   "outputs": [],
   "source": [
    "for sim in sim_list:\n",
    "    sim.analysis.plot_energy()"
   ]
  },
  {
   "cell_type": "code",
   "execution_count": null,
   "id": "f7ddaca4-6e53-4f37-9db9-267f7e1989be",
   "metadata": {},
   "outputs": [],
   "source": [
    "for sim in sim_list:\n",
    "    os.remove(f'{sim.sim_dir}/trajectory.dat')"
   ]
  },
  {
   "cell_type": "code",
   "execution_count": null,
   "id": "7f61a89a-9488-4acc-a0a1-c4437ef1f427",
   "metadata": {
    "collapsed": true,
    "jupyter": {
     "outputs_hidden": true
    },
    "tags": []
   },
   "outputs": [],
   "source": [
    "for sim in sim_list:\n",
    "    sim.oat.align(args='-p 2')"
   ]
  },
  {
   "cell_type": "markdown",
   "id": "1008a483-a062-443d-ae75-08cbc7905550",
   "metadata": {},
   "source": [
    "<font size='6'><a class=\"anchor\" id=\"3\"></a> <h2 align=\"center\"> <font color='black'>Umbrella Sampling</font></h2> \n",
    "\n",
    "<font size='3'><font color='black'>Utilizing the ComUmbrellaSampling class, we can automatically run 1D umbrella sampling simulations with a COM order parameter.</font>"
   ]
  },
  {
   "cell_type": "code",
   "execution_count": null,
   "id": "d7bfbda8-c970-4a59-a18e-62c1cb28c1c1",
   "metadata": {},
   "outputs": [],
   "source": [
    "simulation_manager = SimulationManager() \n",
    "simulation_manager.start_nvidia_cuda_mps_control(pipe='temp')"
   ]
  },
  {
   "cell_type": "code",
   "execution_count": null,
   "id": "f629cb95-c1e5-4d18-8096-5f72f4525f5e",
   "metadata": {},
   "outputs": [],
   "source": [
    "from umbrella_sampling import ComUmbrellaSampling, CustomObservableUmbrellaSampling\n",
    "from oxdna_simulation import SimulationManager, Simulation, Observable, Force\n",
    "import os\n",
    "import matplotlib.pyplot as plt"
   ]
  },
  {
   "cell_type": "code",
   "execution_count": null,
   "id": "46fdd3c3-a841-4257-b631-2beedb35dc5e",
   "metadata": {},
   "outputs": [],
   "source": [
    "sim_manager = SimulationManager()\n",
    "\n",
    "path = os.path.abspath('/scratch/mlsample/ipy_oxDNA/ipy_oxdna_examples')\n",
    "file_dir = f'{path}/synbody/fully_connected'\n",
    "dts = ['0.002']\n",
    "sim_dir_list = [f'{file_dir}/dt_{idx}_{dt}' for idx, dt in zip(range(len(dts)), dts)]\n",
    "\n",
    "sim_list = [Simulation(file_dir, sim_dir) for sim_dir in sim_dir_list]\n",
    "\n",
    "sim_parameters = [{'dt':dt, 'steps':'1e9','print_energy_every': '5e3','print_conf_interval':'5e3'} for dt in dts]\n",
    "for sim_parameter, sim in zip(sim_parameters, sim_list):\n",
    "    sim.build(clean_build='force')\n",
    "    sim.add_protein_par()\n",
    "    sim.add_force_file()\n",
    "    sim.input_file(sim_parameter)\n",
    "    sim.oxpy_run.run()"
   ]
  },
  {
   "cell_type": "code",
   "execution_count": null,
   "id": "1e6f425a-3834-473e-b650-dc231f95a826",
   "metadata": {
    "tags": []
   },
   "outputs": [],
   "source": [
    "sim_manager.run()"
   ]
  },
  {
   "cell_type": "code",
   "execution_count": null,
   "id": "924f82e8-0a5b-4601-b303-0ecb5c4a6ada",
   "metadata": {
    "tags": []
   },
   "outputs": [],
   "source": [
    "import time\n",
    "for sim in sim_list:\n",
    "    sim.analysis.plot_energy()"
   ]
  },
  {
   "cell_type": "code",
   "execution_count": null,
   "id": "47505920-3803-4f54-9b7f-f8c1145c8fa8",
   "metadata": {},
   "outputs": [],
   "source": [
    "path = os.path.abspath('/scratch/mlsample/ipy_oxDNA/ipy_oxdna_examples')\n",
    "file_dir = f'{path}/synbody/3_bound/d_8_k_1'\n",
    "system = 'umbrella_test_d_8_k_1'\n",
    "\n",
    "# com_list = '3366,3367,3368,3369,3370,3371,3372,3373,3374,3375,3376,3377,3378,3379,3380,3381,3382,3383,3384,3385,3386,3387,3388,3389,3390,3391,3392,3393,3394,3395,3396,3397,3398,3399,3400,3401,3402,3403,3404,3405,3406,3407,3408,3409,3410,3411,3412,3413,3414,3415,3416,3417,3418,3419,3420,3603,3604,3605,3606,3607,3608,3609,3610,3611,3612,3613,3614,3615,3616,3531,3532,3533,3534,3535,3536,3537,3538,3539,3540,3541,3542,3543,3544,3421,3422,3423,3424,3425,3426,3427,3428,3429,3430,3431,3432,3433,3434,3435,3436,3437,3438,3439,3440,3441,3442,3443,3444,3445,3446,3447,3448,3449,3450,3451,3452,3453,3454,3455,3456,3457,3458,3459,3460,3461,3462,3463,3464,3465,3466,3467,3468,3469,3470,3471,3472,3473,3474,3475,3659,3660,3661,3662,3663,3664,3665,3666,3667,3668,3669,3670,3671,3672,3476,3477,3478,3479,3480,3481,3482,3483,3484,3485,3486,3487,3488,3489,3490,3491,3492,3493,3494,3495,3496,3497,3498,3499,3500,3501,3502,3503,3504,3505,3506,3507,3508,3509,3510,3511,3512,3513,3514,3515,3516,3517,3518,3519,3520,3521,3522,3523,3524,3525,3526,3527,3528,3529,3530'\n",
    "com_list = '3366,3367,3368,3369,3370,3371,3372,3373,3374,3375,3376,3377,3378,3379,3380,3381,3382,3383,3384,3385,3386,3387,3388,3389,3390,3391,3392,3393,3394,3395,3396,3397,3398,3399,3400,3401,3402,3403,3404,3405,3406,3407,3408,3409,3410,3411,3412,3413,3414,3415,3416,3417,3418,3419,3420,3421,3422,3423,3424,3425,3426,3427,3428,3429,3430,3431,3432,3433,3434,3435,3436,3437,3438,3439,3440,3441,3442,3443,3444,3445,3446,3447,3448,3449,3450,3451,3452,3453,3454,3455,3456,3457,3458,3459,3460,3461,3462,3463,3464,3465,3466,3467,3468,3469,3470,3471,3472,3473,3474,3475,3476,3477,3478,3479,3480,3481,3482,3483,3484,3485,3486,3487,3488,3489,3490,3491,3492,3493,3494,3495,3496,3497,3498,3499,3500,3501,3502,3503,3504,3505,3506,3507,3508,3509,3510,3511,3512,3513,3514,3515,3516,3517,3518,3519,3520,3521,3522,3523,3524,3525,3526,3527,3528,3529,3530'\n",
    "\n",
    "ref_1 = '1623,1432,1433,1434,1435,1436,1437,1438,1439,1440,1441,1442,1443,1444,1445,1446,1447,1448,1449,1450,1451,1452,1453,1454,1455,1456,1457,1458,1459,1460,1461,1462,1463,1464,1465,1466,1467,1468,1469,1470,1471,1472,1473,1474,1475,1476,1477,1478,1479,1480,1481,1482,1483,1484,1485,1486,1487,1488,1489,1490,1491,1492,1493,1494,1495,1496,1497,1498,1499,1500,1501,1502,1503,1504,1505,1506,1507,1508,1509,1510,1511,1512,1513,1514,1515,1516,1517,1518,1519,1520,1521,1522,1523,1524,1525,1526,1527,1528,1529,1530,1531,1532,1533,1534,1535,1536,1537,1538,1539,1540,1541,1542,1543,1544,1545,1546,1547,1548,1549,1550,1551,1552,1553,1554,1555,1556,1557,1558,1559,1560,1561,1562,1563,1564,1565,1566,1567,1568,1569,1570,1571,1572,1573,1574,1575,1576,1577,1578,1579,1580,1581,1582,1583,1584,1585,1586,1587,1588,1589,1590,1591,1592,1593,1594,1595,1596,1597,1598,1599,1600,1601,1602,1603,1604,1605,1606,1607,1608,1609,1610,1611,1612,1613,1614,1615,1616,1617,1618,1619,1620,1621,1622'\n",
    "ref_2 = '2744,2553,2554,2555,2556,2557,2558,2559,2560,2561,2562,2563,2564,2565,2566,2567,2568,2569,2570,2571,2572,2573,2574,2575,2576,2577,2578,2579,2580,2581,2582,2583,2584,2585,2586,2587,2588,2589,2590,2591,2592,2593,2594,2595,2596,2597,2598,2599,2600,2601,2602,2603,2604,2605,2606,2607,2608,2609,2610,2611,2612,2613,2614,2615,2616,2617,2618,2619,2620,2621,2622,2623,2624,2625,2626,2627,2628,2629,2630,2631,2632,2633,2634,2635,2636,2637,2638,2639,2640,2641,2642,2643,2644,2645,2646,2647,2648,2649,2650,2651,2652,2653,2654,2655,2656,2657,2658,2659,2660,2661,2662,2663,2664,2665,2666,2667,2668,2669,2670,2671,2672,2673,2674,2675,2676,2677,2678,2679,2680,2681,2682,2683,2684,2685,2686,2687,2688,2689,2690,2691,2692,2693,2694,2695,2696,2697,2698,2699,2700,2701,2702,2703,2704,2705,2706,2707,2708,2709,2710,2711,2712,2713,2714,2715,2716,2717,2718,2719,2720,2721,2722,2723,2724,2725,2726,2727,2728,2729,2730,2731,2732,2733,2734,2735,2736,2737,2738,2739,2740,2741,2742,2743'\n",
    "ref_3 = '500,309,310,311,312,313,314,315,316,317,318,319,320,321,322,323,324,325,326,327,328,329,330,331,332,333,334,335,336,337,338,339,340,341,342,343,344,345,346,347,348,349,350,351,352,353,354,355,356,357,358,359,360,361,362,363,364,365,366,367,368,369,370,371,372,373,374,375,376,377,378,379,380,381,382,383,384,385,386,387,388,389,390,391,392,393,394,395,396,397,398,399,400,401,402,403,404,405,406,407,408,409,410,411,412,413,414,415,416,417,418,419,420,421,422,423,424,425,426,427,428,429,430,431,432,433,434,435,436,437,438,439,440,441,442,443,444,445,446,447,448,449,450,451,452,453,454,455,456,457,458,459,460,461,462,463,464,465,466,467,468,469,470,471,472,473,474,475,476,477,478,479,480,481,482,483,484,485,486,487,488,489,490,491,492,493,494,495,496,497,498,499'\n",
    "ref_1_len=192\n",
    "\n",
    "ref_list = ref_1 + ',' + ref_2 + ',' + ref_3\n",
    "xmin = 0\n",
    "xmax = 20\n",
    "n_windows = 100\n",
    "\n",
    "stiff = 1\n",
    "\n",
    "equlibration_parameters = {'dt':'0.002','steps':'1e5','print_energy_every': '1e5',\n",
    "                           'print_conf_interval':'1e5'\n",
    "                          }\n",
    "\n",
    "production_parameters ={'dt':'0.002','steps':'2e6','print_energy_every': '2e6',\n",
    "                        'print_conf_interval':'2e6'\n",
    "                        }\n",
    "\n",
    "us = ComUmbrellaSampling(file_dir, system)\n",
    "simulation_manager = SimulationManager()"
   ]
  },
  {
   "cell_type": "code",
   "execution_count": null,
   "id": "2620c3e4-0827-45cd-a8e3-4ed243f3ad41",
   "metadata": {
    "tags": []
   },
   "outputs": [],
   "source": [
    "us.build_equlibration_runs(simulation_manager, n_windows, com_list, ref_list, stiff, xmin, xmax, equlibration_parameters,\n",
    "                           observable=True, sequence_dependant=False, print_every=1e3, name='com_distance.txt', protein=True, force_file=True)"
   ]
  },
  {
   "cell_type": "code",
   "execution_count": null,
   "id": "e874d5bb-1ec0-4933-aeff-510584c4c56c",
   "metadata": {
    "tags": []
   },
   "outputs": [],
   "source": [
    "simulation_manager.run()"
   ]
  },
  {
   "cell_type": "code",
   "execution_count": null,
   "id": "d5b5fc79-21be-4af9-be11-0d3024e35522",
   "metadata": {},
   "outputs": [],
   "source": [
    "us.build_production_runs(simulation_manager, n_windows, com_list, ref_list, stiff, xmin, xmax, production_parameters,\n",
    "                           observable=True, sequence_dependant=False, print_every=1e3, name='com_distance.txt', protein=True, force_file=True)"
   ]
  },
  {
   "cell_type": "code",
   "execution_count": null,
   "id": "ab6325d1-025d-4ef3-82ff-b7378b383252",
   "metadata": {
    "tags": []
   },
   "outputs": [],
   "source": [
    "simulation_manager.run()"
   ]
  },
  {
   "cell_type": "code",
   "execution_count": null,
   "id": "8101f548-bfaf-4905-9fac-1055bccd7fbb",
   "metadata": {
    "tags": []
   },
   "outputs": [],
   "source": [
    "import time\n",
    "for idx in range(0,100,10):\n",
    "    time.sleep(1)\n",
    "    us.equlibration_sims[idx].analysis.view_last()\n",
    "    "
   ]
  },
  {
   "cell_type": "code",
   "execution_count": null,
   "id": "d5fc8d79-e198-4562-b82d-d545a5ae4ddf",
   "metadata": {
    "tags": []
   },
   "outputs": [],
   "source": [
    "us.com_distance_observable(com_list, ref_list)\n",
    "plt.figure(dpi=200)\n",
    "for idx in range(0,100,1):\n",
    "    us.analysis.view_observable('prod', idx, sliding_window=100)#, observable=us.observables_list[0], sliding_window=20)\n",
    "plt.legend(fontsize=4)\n",
    "# plt.ylim(0, 15)"
   ]
  },
  {
   "cell_type": "code",
   "execution_count": null,
   "id": "6ac137c1-689e-4f2e-a524-2fc182ee5122",
   "metadata": {
    "tags": []
   },
   "outputs": [],
   "source": [
    "for idx in range(0,48):\n",
    "    print(idx)\n",
    "    us.equlibration_sims[idx].sim_files.last_conf"
   ]
  },
  {
   "cell_type": "code",
   "execution_count": null,
   "id": "6a3a5730-70bc-494a-a4d3-68c74c783489",
   "metadata": {},
   "outputs": [],
   "source": [
    "us.analysis.view_conf('eq', 13)"
   ]
  },
  {
   "cell_type": "code",
   "execution_count": null,
   "id": "defef66e-3e6e-4f3d-b521-fff04e107d4b",
   "metadata": {},
   "outputs": [],
   "source": [
    "wham_dir = os.path.abspath('/scratch/mlsample/ipy_oxDNA/src/wham/wham')\n",
    "n_bins = '200'\n",
    "tol = '1e-7'\n",
    "n_boot = '30'\n",
    "us.wham_run(wham_dir, xmin, xmax, stiff, n_bins, tol, n_boot)"
   ]
  },
  {
   "cell_type": "code",
   "execution_count": null,
   "id": "f7c1b071-5b8a-4050-87bd-401cea9fab85",
   "metadata": {},
   "outputs": [],
   "source": [
    "us.plot_free()"
   ]
  },
  {
   "cell_type": "code",
   "execution_count": null,
   "id": "1667138b-a9d1-4961-ab5d-d0ed5157644a",
   "metadata": {},
   "outputs": [],
   "source": [
    "path = os.path.abspath('/scratch/mlsample/ipy_oxDNA/ipy_oxdna_examples')\n",
    "file_dir = f'{path}/duplex_melting'\n",
    "systems = ['us_melting_10', 'us_melting', 'us_melting_30','us_melting_40']\n",
    "\n",
    "us_list = [MeltingUmbrellaSampling(file_dir, system) for system in systems]"
   ]
  },
  {
   "cell_type": "code",
   "execution_count": null,
   "id": "a3e78e08-1c81-4bf2-b5ae-cebed436278b",
   "metadata": {},
   "outputs": [],
   "source": [
    "us_list[0].fig_ax()\n",
    "\n",
    "for us in us_list:\n",
    "    us.plot_free(ax=us_list[0].ax)\n",
    "plt.legend([f'{10 + 273}K', f'{20 + 273}K', f'{30 + 273}K', f'{40 + 273}K'])\n",
    "plt.title('8nt Duplex Melting Free Energy Profile')\n",
    "plt.xlabel('COM Distance (nm)')"
   ]
  },
  {
   "cell_type": "code",
   "execution_count": null,
   "id": "0e7b16e8-d483-42c8-a7f7-18300c4d0b03",
   "metadata": {},
   "outputs": [],
   "source": [
    "import pandas as pd\n",
    "import numpy as np"
   ]
  },
  {
   "cell_type": "code",
   "execution_count": null,
   "id": "7c8fa913-eac6-4945-becb-1d2a8b4446cc",
   "metadata": {},
   "outputs": [],
   "source": [
    "free = pd.read_csv(f'{us.system_dir}/production/com_dir/freefile', sep='\\t')"
   ]
  },
  {
   "cell_type": "code",
   "execution_count": null,
   "id": "4b489a85-e2e1-4b6a-a095-0cb5d2e42721",
   "metadata": {},
   "outputs": [],
   "source": [
    "free_vals = free.iloc[-95:].Free"
   ]
  },
  {
   "cell_type": "code",
   "execution_count": null,
   "id": "6bb07e1b-47d2-4077-9bdf-8999d66b17a0",
   "metadata": {},
   "outputs": [],
   "source": [
    "free_vals.iloc[1:]"
   ]
  },
  {
   "cell_type": "code",
   "execution_count": null,
   "id": "d6f3e104-271d-4eab-8b2b-484bab9eaf0c",
   "metadata": {
    "tags": []
   },
   "outputs": [],
   "source": [
    "H_vals = np.zeros(94)\n",
    "us.hb_list_observable(print_every=1e3)\n",
    "for idx, sim in enumerate(us.production_sims):\n",
    "    sim_dir = sim.sim_dir\n",
    "    file_name = us.observables_list[1]['output']['name']\n",
    "    df = pd.read_csv(f\"{sim_dir}/{file_name}\", header=None)\n",
    "    df = np.concatenate(np.array(df))\n",
    "    H, bins = np.histogram(df, density=False, bins=np.linspace(0, 8, 95))\n",
    "    H_vals += H"
   ]
  },
  {
   "cell_type": "code",
   "execution_count": null,
   "id": "2cde587c-5ca0-45cd-af38-ef5245b47b6f",
   "metadata": {},
   "outputs": [],
   "source": [
    "prob_H = H_vals / sum(H_vals)"
   ]
  },
  {
   "cell_type": "code",
   "execution_count": null,
   "id": "810126d7-f503-4116-8db3-a65e80d0e336",
   "metadata": {},
   "outputs": [],
   "source": [
    "plt.plot(bins[:-1], -np.log(prob_H))"
   ]
  },
  {
   "cell_type": "code",
   "execution_count": null,
   "id": "17f76af0-7840-4f48-b1d8-bcdc2f27c30d",
   "metadata": {},
   "outputs": [],
   "source": []
  },
  {
   "cell_type": "code",
   "execution_count": null,
   "id": "c2e081ee-ebd4-4a48-9f7b-dea2972c6f21",
   "metadata": {},
   "outputs": [],
   "source": [
    "file_name = us.observables_list[0]['output']['name']"
   ]
  }
 ],
 "metadata": {
  "kernelspec": {
   "display_name": "oxDNA3.3",
   "language": "python",
   "name": "python3"
  },
  "language_info": {
   "codemirror_mode": {
    "name": "ipython",
    "version": 3
   },
   "file_extension": ".py",
   "mimetype": "text/x-python",
   "name": "python",
   "nbconvert_exporter": "python",
   "pygments_lexer": "ipython3",
   "version": "3.10.8"
  }
 },
 "nbformat": 4,
 "nbformat_minor": 5
}
