{
 "cells": [
  {
   "cell_type": "markdown",
   "id": "b3921e85-29c2-4cb1-9b75-6d529f041630",
   "metadata": {},
   "source": [
    "<font size='10'><h1 align=\"center\"><font color='blue'>iPy oxDNA Examples<br />  Nanotube</font></h1>"
   ]
  },
  {
   "cell_type": "markdown",
   "id": "1e81dec7-5371-4bbd-a950-fb772418cb91",
   "metadata": {},
   "source": [
    "<center>\n",
    "<img src=\"oxDNA.png\">\n",
    "</center>"
   ]
  },
  {
   "cell_type": "code",
   "execution_count": null,
   "id": "e4fc506a-a756-4020-88be-e82f987677ee",
   "metadata": {},
   "outputs": [],
   "source": [
    "from oxdna_simulation import Simulation, SimulationManager, Force, Observable#, ComPositionObservable\n",
    "import os\n",
    "import oxpy"
   ]
  },
  {
   "cell_type": "code",
   "execution_count": null,
   "id": "0431a989-fccf-493b-9f49-ba8707939af5",
   "metadata": {
    "tags": []
   },
   "outputs": [],
   "source": [
    "sim_manager = SimulationManager()\n",
    "\n",
    "path = os.path.abspath('/scratch/mlsample/ipy_oxDNA/ipy_oxdna_examples/nanotube/in_out')\n",
    "conditions = ['180', '340', '446', '514', '617']\n",
    "systems = ['in', 'out']\n",
    "file_temp = []\n",
    "for cond in conditions:\n",
    "    for sys in systems:\n",
    "        file_temp.append(f'{path}/{cond}/{sys}/equlibration')\n",
    "# file_dir_list = [[f'{path}/{cond}/{sys}' for sys in systems] for cond in conditions]\n",
    "sim_dir_list = [f'{file_dir}/../equlibration_2' for file_dir in file_temp]\n",
    "sim_list = [Simulation(file_dir, sim_dir) for sim_dir, file_dir in zip(sim_dir_list, file_temp)]\n",
    "\n",
    "\n",
    "com_list = '3566,3774,3567,3568,3569,3570,3571,3572,3573,3574,3575,3576,3577,3578,3579,3580,3581,3582,3583,3584,3585,3586,3587,3588,3589,3590,3591,3592,3593,3594,3595,3596,3597,3598,3599,3600,3601,3602,3603,3604,3605,3606,3607,3608,3609,3610,3611,3612,3613,3614,3615,3616,3617,3618,3619,3620,3621,3622,3623,3624,3625,3626,3627,3628,3629,3630,3631,3632,3633,3634,3635,3636,3637,3638,3639,3640,3641,3642,3643,3644,3645,3646,3647,3648,3649,3650,3651,3652,3653,3654,3655,3656,3657,3658,3659,3660,3661,3662,3663,3664,3665,3666,3667,3668,3669,3670,3671,3672,3673,3674,3675,3676,3677,3678,3679,3680,3681,3682,3683,3684,3685,3686,3687,3688,3689,3690,3691,3692,3693,3694,3695,3696,3697,3698,3699,3700,3701,3702,3703,3704,3705,3706,3707,3708,3709,3710,3711,3712,3713,3714,3715,3716,3717,3718,3719,3720,3721,3722,3723,3724,3725,3726,3727,3728,3729,3730,3731,3732,3733,3734,3735,3736,3737,3738,3739,3740,3741,3742,3743,3744,3745,3746,3747,3748,3749,3750,3751,3752,3753,3754,3755,3756,3757,3758,3759,3760,3761,3762,3763,3764,3765,3766,3767,3768,3769,3770,3771,3772,3773'\n",
    "                        \n",
    "ref_list = '7163,6966,6967,6968,6969,6970,6971,6972,6973,6974,6975,6976,6977,6978,6979,6980,6981,6982,6983,6984,6985,6986,6987,6988,6989,6990,6991,6992,6993,6994,6995,6996,6997,6998,6999,7000,7001,7002,7003,7004,7005,7006,7007,7008,7009,7010,7011,7012,7013,7014,7015,7016,7017,7018,7019,7020,7021,7022,7023,7024,7025,7026,7027,7028,7029,7030,7031,7032,7033,7034,7035,7036,7037,7038,7039,7040,7041,7042,7043,7044,7045,7046,7047,7048,7049,7050,7051,7052,7053,7054,7055,7056,7057,7058,7059,7060,7061,7062,7063,7064,7065,7066,7067,7068,7069,7070,7071,7072,7073,7074,7075,7076,7077,7078,7079,7080,7081,7082,7083,7084,7085,7086,7087,7088,7089,7090,7091,7092,7093,7094,7095,7096,7097,7098,7099,7100,7101,7102,7103,7104,7105,7106,7107,7108,7109,7110,7111,7112,7113,7114,7115,7116,7117,7118,7119,7120,7121,7122,7123,7124,7125,7126,7127,7128,7129,7130,7131,7132,7133,7134,7135,7136,7137,7138,7139,7140,7141,7142,7143,7144,7145,7146,7147,7148,7149,7150,7151,7152,7153,7154,7155,7156,7157,7158,7159,7160,7161,7162,7164,7165,7166,7167,7168,7169,7170,7171,7172,7173,7174'\n",
    "\n",
    "staples = '11735,11736,11737,11738,11739,11740,11741,11742,11743,11744,11745,11746,11747,11748,11749,11750,11751,11752,11753,11754,11755,11756,11757,11758,11759,11760,11761,11762,11763,11764,11765,11766,12249,12250,12251,12252,12253,12254,12255,12256,12257,12258,12259,12260,12261,12262,12263,12264,12265,12266,12267,12268,12269,12270,12271,12272,12273,12274,12275,12276,12277,12278,12635,12640,12641,12642,12643,12644,12645,12646,12647,12648,12649,12650,12651,12652,12653,12654,12655,12656,12657,12658,12659,12660,12661,12662,12663,12664,12665,12666,12667,12668,12669,12670,12671,12672,12690,12691,12692,12693,12694,12695,12696,12697,12698,12699,12700,12701,12702,12703,12704,12705,12706,12707,12708,12709,12710,12711,12712,12713,12714,12715,12716,12717,12718,12719,12720,13162,13163,13164,13165,13166,13167,13168,13169,13170,13171,13172,13173,13174,13175,13176,13177,13178,13179,13180,13181,13182,13183,13184,13185,13186,13187,13188,13189,13190,13191,13192,13561,13562,13563,13564,13565,13566,13567,13568,13569,13570,13571,13572,13573,13574,13575,13576,13577,13578,13579,13580,13581,13582,13583,13584,13585,13586,13587,13588,13589,13590,13591,13592,14075,14076,14077,14078,14079,14080,14081,14082,14083,14084,14085,14086,14087,14088,14089,14090,14091,14092,14093,14094,14095,14096,14097,14098,14099,14100,14101,14102,14103,14104'\n",
    "\n",
    "overhangs = '11718,11719,11720,11721,11722,11723,11724,11725,11726,11727,11728,11729,11730,11731,11732,11733,11734,12232,12233,12234,12235,12236,12237,12238,12239,12240,12241,12242,12243,12244,12245,12246,12247,12248,12623,12624,12625,12626,12627,12628,12629,12630,12631,12632,12633,12634,12636,12637,12638,12639,12673,12674,12675,12676,12677,12678,12679,12680,12681,12682,12683,12684,12685,12686,12687,12688,12689,13145,13146,13147,13148,13149,13150,13151,13152,13153,13154,13155,13156,13157,13158,13159,13160,13161,13544,13545,13546,13547,13548,13549,13550,13551,13552,13553,13554,13555,13556,13557,13558,13559,13560,14058,14059,14060,14061,14062,14063,14064,14065,14066,14067,14068,14069,14070,14071,14072,14073,14074'\n",
    "\n",
    "\n",
    "\n",
    "point_a = '2043,2058,2044,2045,2046,2047,2048,2049,2050,2051,2052,2053,2054,2055,2056,2057'\n",
    "point_b = '1409,1393,1394,1395,1396,1397,1398,1399,1400,1401,1402,1403,1404,1405,1406,1407,1408'\n",
    "point_c = com_list + ',' + ref_list\n",
    "point_p = '12689,12673,12674,12675,12676,12677,12678,12679,12680,12681,12682,12683,12684,12685,12686,12687,12688'\n",
    "\n",
    "\n",
    "particle_indexes = [com_list, ref_list, staples, overhangs, point_a, point_b, point_c, point_p]            \n",
    "\n",
    "cms_observable = [{'idx':particle_indexes, 'name':'cms_positions.txt', 'print_every':int(5e3)}]\n",
    "\n",
    "f = Force()\n",
    "com_force_1 = f.com_force(\n",
    "    com_list=com_list,                        \n",
    "    ref_list=ref_list,                        \n",
    "    stiff='0.2',                        \n",
    "    r0='30',                         \n",
    "    PBC='1',                         \n",
    "    rate='0'\n",
    ")\n",
    "com_force_2 = f.com_force(\n",
    "    com_list=ref_list,                        \n",
    "    ref_list=com_list,                        \n",
    "    stiff='0.2',                        \n",
    "    r0='30',                         \n",
    "    PBC='1',                         \n",
    "    rate='0'\n",
    ")\n",
    "\n",
    "obs = Observable()\n",
    "com_distance = obs.distance(\n",
    "    particle_1=com_list,\n",
    "    particle_2=ref_list,\n",
    "    print_every='5e3',\n",
    "    name='com_distance.txt',\n",
    "    PBC='1'\n",
    ")\n",
    "\n",
    "sim_parameters = {'steps':'2e7', 'T':'20C', 'print_energy_every': '1e6', 'print_conf_interval':'2e6'}\n",
    "for sim in sim_list:\n",
    "    sim.build(clean_build=False)\n",
    "    sim.add_force(com_force_1)\n",
    "    sim.add_force(com_force_2)\n",
    "    sim.add_observable(com_distance)\n",
    "    sim.oxpy_run.cms_obs(particle_indexes, name='cms_positions.txt', print_every=int(5e3))\n",
    "    sim.input_file(sim_parameters)\n",
    "    # sim.oxpy_run.run(subprocess=True)\n",
    "    sim_manager.queue_sim(sim)\n",
    "sim_manager.run()"
   ]
  },
  {
   "cell_type": "code",
   "execution_count": null,
   "id": "26c52bba-5b7a-45de-8238-9e825cc44cde",
   "metadata": {
    "tags": []
   },
   "outputs": [],
   "source": [
    "import time\n",
    "for sim in sim_list:\n",
    "    sim.analysis.view_last()\n",
    "    time.sleep(2)"
   ]
  },
  {
   "cell_type": "code",
   "execution_count": null,
   "id": "6154a770-d9d5-49a6-ae06-2123c773f1a3",
   "metadata": {
    "tags": []
   },
   "outputs": [],
   "source": [
    "import time\n",
    "import matplotlib.pyplot as plt\n",
    "plt.figure(figsize=(15,3)) \n",
    "for sim in sim_list:\n",
    "    sim.analysis.view_cms_obs(72, 5e3, fig=True)\n",
    "    time.sleep(0.01)"
   ]
  },
  {
   "cell_type": "code",
   "execution_count": null,
   "id": "398a3eb3-cb24-4a7b-819b-584c3db78369",
   "metadata": {},
   "outputs": [],
   "source": [
    "from umbrella_sampling import CustomObservableUmbrellaSampling\n",
    "from oxdna_simulation import SimulationManager\n",
    "import os"
   ]
  },
  {
   "cell_type": "code",
   "execution_count": null,
   "id": "15c8dd3f-def1-49eb-a97b-33d878630888",
   "metadata": {
    "tags": []
   },
   "outputs": [],
   "source": [
    "path = os.path.abspath('/scratch/mlsample/ipy_oxDNA/ipy_oxdna_examples/nanotube/in_out')\n",
    "conditions = ['180', '340', '446', '514', '617']\n",
    "system_name = ['in', 'out']\n",
    "file_dirs = []\n",
    "for cond in conditions:\n",
    "    for sys in system_name:\n",
    "        file_dirs.append(f'{path}/{cond}/{sys}/equlibration_2')\n",
    "# file_dirs = [f'{path}/{sys}' for sys in system_name]\n",
    "systems = [f'umbrella_1' for _ in range(len(file_dirs))]\n",
    "\n",
    "com_list = '3566,3774,3567,3568,3569,3570,3571,3572,3573,3574,3575,3576,3577,3578,3579,3580,3581,3582,3583,3584,3585,3586,3587,3588,3589,3590,3591,3592,3593,3594,3595,3596,3597,3598,3599,3600,3601,3602,3603,3604,3605,3606,3607,3608,3609,3610,3611,3612,3613,3614,3615,3616,3617,3618,3619,3620,3621,3622,3623,3624,3625,3626,3627,3628,3629,3630,3631,3632,3633,3634,3635,3636,3637,3638,3639,3640,3641,3642,3643,3644,3645,3646,3647,3648,3649,3650,3651,3652,3653,3654,3655,3656,3657,3658,3659,3660,3661,3662,3663,3664,3665,3666,3667,3668,3669,3670,3671,3672,3673,3674,3675,3676,3677,3678,3679,3680,3681,3682,3683,3684,3685,3686,3687,3688,3689,3690,3691,3692,3693,3694,3695,3696,3697,3698,3699,3700,3701,3702,3703,3704,3705,3706,3707,3708,3709,3710,3711,3712,3713,3714,3715,3716,3717,3718,3719,3720,3721,3722,3723,3724,3725,3726,3727,3728,3729,3730,3731,3732,3733,3734,3735,3736,3737,3738,3739,3740,3741,3742,3743,3744,3745,3746,3747,3748,3749,3750,3751,3752,3753,3754,3755,3756,3757,3758,3759,3760,3761,3762,3763,3764,3765,3766,3767,3768,3769,3770,3771,3772,3773'\n",
    "ref_list = '7163,6966,6967,6968,6969,6970,6971,6972,6973,6974,6975,6976,6977,6978,6979,6980,6981,6982,6983,6984,6985,6986,6987,6988,6989,6990,6991,6992,6993,6994,6995,6996,6997,6998,6999,7000,7001,7002,7003,7004,7005,7006,7007,7008,7009,7010,7011,7012,7013,7014,7015,7016,7017,7018,7019,7020,7021,7022,7023,7024,7025,7026,7027,7028,7029,7030,7031,7032,7033,7034,7035,7036,7037,7038,7039,7040,7041,7042,7043,7044,7045,7046,7047,7048,7049,7050,7051,7052,7053,7054,7055,7056,7057,7058,7059,7060,7061,7062,7063,7064,7065,7066,7067,7068,7069,7070,7071,7072,7073,7074,7075,7076,7077,7078,7079,7080,7081,7082,7083,7084,7085,7086,7087,7088,7089,7090,7091,7092,7093,7094,7095,7096,7097,7098,7099,7100,7101,7102,7103,7104,7105,7106,7107,7108,7109,7110,7111,7112,7113,7114,7115,7116,7117,7118,7119,7120,7121,7122,7123,7124,7125,7126,7127,7128,7129,7130,7131,7132,7133,7134,7135,7136,7137,7138,7139,7140,7141,7142,7143,7144,7145,7146,7147,7148,7149,7150,7151,7152,7153,7154,7155,7156,7157,7158,7159,7160,7161,7162,7164,7165,7166,7167,7168,7169,7170,7171,7172,7173,7174'\n",
    "ref_com = '3566,3774,3567,3568,3569,3570,3571,3572,3573,3574,3575,3576,3577,3578,3579,3580,3581,3582,3583,3584,3585,3586,3587,3588,3589,3590,3591,3592,3593,3594,3595,3596,3597,3598,3599,3600,3601,3602,3603,3604,3605,3606,3607,3608,3609,3610,3611,3612,3613,3614,3615,3616,3617,3618,3619,3620,3621,3622,3623,3624,3625,3626,3627,3628,3629,3630,3631,3632,3633,3634,3635,3636,3637,3638,3639,3640,3641,3642,3643,3644,3645,3646,3647,3648,3649,3650,3651,3652,3653,3654,3655,3656,3657,3658,3659,3660,3661,3662,3663,3664,3665,3666,3667,3668,3669,3670,3671,3672,3673,3674,3675,3676,3677,3678,3679,3680,3681,3682,3683,3684,3685,3686,3687,3688,3689,3690,3691,3692,3693,3694,3695,3696,3697,3698,3699,3700,3701,3702,3703,3704,3705,3706,3707,3708,3709,3710,3711,3712,3713,3714,3715,3716,3717,3718,3719,3720,3721,3722,3723,3724,3725,3726,3727,3728,3729,3730,3731,3732,3733,3734,3735,3736,3737,3738,3739,3740,3741,3742,3743,3744,3745,3746,3747,3748,3749,3750,3751,3752,3753,3754,3755,3756,3757,3758,3759,3760,3761,3762,3763,3764,3765,3766,3767,3768,3769,3770,3771,3772,3773, 7163,6966,6967,6968,6969,6970,6971,6972,6973,6974,6975,6976,6977,6978,6979,6980,6981,6982,6983,6984,6985,6986,6987,6988,6989,6990,6991,6992,6993,6994,6995,6996,6997,6998,6999,7000,7001,7002,7003,7004,7005,7006,7007,7008,7009,7010,7011,7012,7013,7014,7015,7016,7017,7018,7019,7020,7021,7022,7023,7024,7025,7026,7027,7028,7029,7030,7031,7032,7033,7034,7035,7036,7037,7038,7039,7040,7041,7042,7043,7044,7045,7046,7047,7048,7049,7050,7051,7052,7053,7054,7055,7056,7057,7058,7059,7060,7061,7062,7063,7064,7065,7066,7067,7068,7069,7070,7071,7072,7073,7074,7075,7076,7077,7078,7079,7080,7081,7082,7083,7084,7085,7086,7087,7088,7089,7090,7091,7092,7093,7094,7095,7096,7097,7098,7099,7100,7101,7102,7103,7104,7105,7106,7107,7108,7109,7110,7111,7112,7113,7114,7115,7116,7117,7118,7119,7120,7121,7122,7123,7124,7125,7126,7127,7128,7129,7130,7131,7132,7133,7134,7135,7136,7137,7138,7139,7140,7141,7142,7143,7144,7145,7146,7147,7148,7149,7150,7151,7152,7153,7154,7155,7156,7157,7158,7159,7160,7161,7162,7164,7165,7166,7167,7168,7169,7170,7171,7172,7173,7174'\n",
    "staples = '11735,11736,11737,11738,11739,11740,11741,11742,11743,11744,11745,11746,11747,11748,11749,11750,11751,11752,11753,11754,11755,11756,11757,11758,11759,11760,11761,11762,11763,11764,11765,11766,12249,12250,12251,12252,12253,12254,12255,12256,12257,12258,12259,12260,12261,12262,12263,12264,12265,12266,12267,12268,12269,12270,12271,12272,12273,12274,12275,12276,12277,12278,12635,12640,12641,12642,12643,12644,12645,12646,12647,12648,12649,12650,12651,12652,12653,12654,12655,12656,12657,12658,12659,12660,12661,12662,12663,12664,12665,12666,12667,12668,12669,12670,12671,12672,12690,12691,12692,12693,12694,12695,12696,12697,12698,12699,12700,12701,12702,12703,12704,12705,12706,12707,12708,12709,12710,12711,12712,12713,12714,12715,12716,12717,12718,12719,12720,13162,13163,13164,13165,13166,13167,13168,13169,13170,13171,13172,13173,13174,13175,13176,13177,13178,13179,13180,13181,13182,13183,13184,13185,13186,13187,13188,13189,13190,13191,13192,13561,13562,13563,13564,13565,13566,13567,13568,13569,13570,13571,13572,13573,13574,13575,13576,13577,13578,13579,13580,13581,13582,13583,13584,13585,13586,13587,13588,13589,13590,13591,13592,14075,14076,14077,14078,14079,14080,14081,14082,14083,14084,14085,14086,14087,14088,14089,14090,14091,14092,14093,14094,14095,14096,14097,14098,14099,14100,14101,14102,14103,14104'\n",
    "overhangs = '11718,11719,11720,11721,11722,11723,11724,11725,11726,11727,11728,11729,11730,11731,11732,11733,11734,12232,12233,12234,12235,12236,12237,12238,12239,12240,12241,12242,12243,12244,12245,12246,12247,12248,12623,12624,12625,12626,12627,12628,12629,12630,12631,12632,12633,12634,12636,12637,12638,12639,12673,12674,12675,12676,12677,12678,12679,12680,12681,12682,12683,12684,12685,12686,12687,12688,12689,13145,13146,13147,13148,13149,13150,13151,13152,13153,13154,13155,13156,13157,13158,13159,13160,13161,13544,13545,13546,13547,13548,13549,13550,13551,13552,13553,13554,13555,13556,13557,13558,13559,13560,14058,14059,14060,14061,14062,14063,14064,14065,14066,14067,14068,14069,14070,14071,14072,14073,14074'\n",
    "\n",
    "# staples = '12690,12691,12692,12693,12694,12695,12696,12697,12698,12699,12700,12701,12702,12703,12704,12705,12706,12707,12708,12709,12710,12711,12712,12713,12714,12715,12716,12717,12718,12719,12720,12641,12642,12643,12644,12645,12646,12647,12648,12649,12650,12651,12652,12653,12654,12655,12656,12657,12658,12659,12660,12661,12662,12663,12664,12665,12666,12667,12668,12669,12670,12671,12672,12640'\n",
    "# overhangs = '12673,12688,12674,12675,12676,12677,12678,12679,12680,12681,12682,12683,12684,12685,12686,12687,13551,13552,13553,13554,13549,13548,13555,13547,13546,13556,13557,13558,13545,13559,13544,13560,13550,12631,12630,12629,12628,12632,12633,12627,12634,12636,12635,12637,12638,12639,12626,12625,12624,12623'\n",
    "\n",
    "plane_a = '12249,12250,12251,12252,12253,12254,12255,12256,12257,12258,12259,12260,12261,12262,12263,12264,12265,12266,12267,12268,12269,12270,12271,12272,12273,12274,12275,12276,12277,12278'\n",
    "plane_b = '14076,14077,14078,14079,14080,14081,14082,14083,14084,14085,14086,14087,14088,14089,14090,14091,14092,14093,14094,14095,14096,14097,14098,14099,14100,14101,14102,14103,14104'\n",
    "plance_c = '12641,12642,12643,12644,12645,12646,12647,12648,12649,12650,12651,12652,12653,12654,12655,12656,12657,12658,12659,12660,12661,12662,12663,12664,12665,12666,12667,12668,12669,12670,12671,12672,12640'\n",
    "\n",
    "\n",
    "point_a = '2043,2058,2044,2045,2046,2047,2048,2049,2050,2051,2052,2053,2054,2055,2056,2057'\n",
    "point_b = '1409,1393,1394,1395,1396,1397,1398,1399,1400,1401,1402,1403,1404,1405,1406,1407,1408'\n",
    "point_c = com_list + ',' + ref_list\n",
    "point_p = '12689,12673,12674,12675,12676,12677,12678,12679,12680,12681,12682,12683,12684,12685,12686,12687,12688'\n",
    "\n",
    "point_alpha = '5931,5930,5929,5928,5927,5926,5925,5922,5921,5920,5919,5667,5666,5665,5664,5663,5662,5661,5660,5659,5658,5657,5656,5655,5654,5653,5652,5651,5650,5649,5648,5647,5646,5645,5644,5643,5642,5641,5640,5639,5638,5637,5636,5635,5386,5385,5384,5383,5382,5381,5380,5379,5378,5377,5376,5375,5374,5373,5372,5371,5370,5369,5368,5367,5366,5365,5364,5363,5362,5361,5360,5359,5358,5357,5356,5355,5354,5353,5108,5107,5106,5105,5104,5103,5102,5101,5100,5099,5098,5097,5096,5095,5094,5093,5092,5091,5090,5089,5088,5087,5086,5085,5084,5083,5082,5081,5080,5079,5078,5077,5076,5075,5074,5073,5072,5071,4824,4823,4822,4821,4820,4816,4815,4814,4813,4812,4811,2380,2379,2378,2086,2085,2084,2083,2082,2081,2080,2079,2078,2077,2076,2075,2074,2073,2072,2071,2070,2069,2068,2067,2066,2065,2064,2063,2062,2061,2060,2059,2058,2057,2056,2055,2054,2053,2052,2051,2050,2049,2048,2047,2046,2045,2044,2043,2042,2041,2040,2039,2038,2037,2036,2035,2034,2033,2032,1763,1762,1761,1760,1759,1758,1757,1756,1755,1754,1753,1752,1751,1750,1749,1748,1747,1746,1745,1744,1743,1742,1741,1740,1739,1738,1737,1736,1735,1734,1733,1732,1731,1730,1729,1728,1727,1726,1725,1724,1723,1722,1721,1720,1719,1718,1717,1716,1715,1714,1713,1712,1711,1710,1709,1708,1707,1706,1705,1704,1703,1438,1437,1436,1435,1434,1433,1432,1431,1430,1429,1428,1427,1426,1425,1424,1423,1422,1421,1420,1419,1418,1417,1416,1415,1414,1413,1412,1411,1410,1409,1408,1407,1406,1405,1404,1403,1402,1401,1400,1399,1398,1397,1396,1395,1394,1393,1392,1391,1390,1389,1388,1387,1386,1385,1384,1383,1382,1381,1380,1116,1115,1114,1113,1112,1111,1110,1109,1108,1104,1103,1102,1101,1100,1099,1098,1097,1096,1094,1093,1092,1091,1090,1089,1088,1087,1086,10383,10382,10840,10839,10838,10837,10831,10830,10829,10828,10827,10826,10825,10863,10862,10861,10860,10859,10858,10857,10856,10855,10854,10853,10852,10851,10850,10849,10848,10847,11298,11297,11296,11295,11294,11293,11366,11365,11364,11363,11362,11361,11766,11765,11764,11763,11762,11761,11760,11759,11758,11757,11756,11755,11754,11753,11752,11751,11750,11749,11748,11747,11746,11745,11744,11743,11742,11741,11740,11739,11738,11737,11736,11735,11734,11733,11732,11731,11730,11729,11728,11727,11726,11725,11724,11723,11722,11721,11720,11719,11718,11815,11814,11813,11812,11811,11810,11809,11808,11807,11806,11805,11804,11803,11802,11801,11800,11799,11798,11797,11796,11795,11794,11793,11792,11791,11790,11789,11788,11787,11786,11785,11784,11783,11782,11781,11780,11779,11778,11777,11776,11775,11774,11773,11772,11771,11770,11769,11768,11767,12211,12210,12196,12278,12277,12276,12275,12274,12273,12272,12266,12265,12264,12263,12262,12261,12260,12259,12258,12257,12256,12255,12254,12253,12252,12251,12250,12249,12248,12247,12246,12245,12244,12243,12242,12241,12240,12239,12238,12237,12236,12235,12234,12233,12232,12672,12671,12670,12669,12668,12667,12666,12665,12664,12663,12662,12661,12660,12659,12658,12657,12656,12655,12654,12653,12652,12651,12650,12649,12648,12647,12646,12645,12644,12643,12642,12641,12640,12639,12638,12637,12636,12635,12634,12633,12632,12631,12630,12629,12628,12627,12626,12625,12624,12623,12720,12719,12718,12717,12716,12715,12714,12713,12712,12711,12710,12709,12708,12707,12706,12705,12704,12703,12702,12701,12700,12699,12698,12697,12696,12695,12694,12693,12692,12691,12690,12689,12688,12687,12686,12685,12684,12683,12682,12681,12680,12679,12678,12677,12676,12675,12674,12673,13192,13191,13190,13189,13188,13187,13186,13185,13184,13183,13182,13181,13180,13179,13178,13177,13176,13175,13174,13173,13172,13171,13170,13169,13168,13167,13166,13165,13164,13163,13162,13161,13160,13159,13158,13157,13156,13154,13153,13152,13151,13150,13149,13148,13147,13146,13145,13592,13591,13590,13589,13588,13587,13586,13585,13584,13583,13582,13581,13580,13579,13578,13577,13576,13575,13574,13573,13572,13571,13570,13569,13568,13567,13566,13565,13564,13563,13562,13561,13560,13559,13558,13557,13556,13555,13554,13553,13552,13551,13550,13549,13548,13547,13546,13545,13544,13641,13640,13639,13638,13637,13636,13635,13634,13633,13632,13631,13630,13629,13628,13627,13626,13625,13624,13623,13622,13621,13620,13619,13618,13617,13616,13615,13614,13613,13612,13611,13610,13609,13608,13607,13606,13605,13604,13599,14104,14103,14102,14101,14100,14099,14098,14097,14096,14095,14094,14093,14092,14091,14090,14089,14088,14087,14086,14085,14084,14083,14082,14081,14080,14079,14078,14077,14076,14075,14074,14073,14072,14071,14070,14069,14066,14065,14064,14063,14062,14061,14060,14059,14058,14472,14471,14470,14469,14468,14467,14466,14465,14463,14462,14461,14460,14459,14544,14543,14542,14541,14540,14539,14538,14537,14536,14534,14533,14532,14531,14530,14529,14528,14527,14526,14508,14507,14506,14505,14504,14503,14502,14501,14500,14995,14994,14993,14992,14991,14990,14989,14988,14987,14986,14985,14977,14976'\n",
    "\n",
    "# point_check = '\n",
    "particle_indexes = [com_list, ref_list, staples, overhangs,\n",
    "                    point_a, point_b, point_c, point_p,\n",
    "                    plane_a, plane_b, plance_c, ref_com,\n",
    "                    point_alpha\n",
    "                   ]            \n",
    "\n",
    "# particle_indexes = [com_list, ref_list, staples, overhangs, ref_com, plane_a, plane_b, plance_c]            \n",
    "cms_observable = [{'idx':particle_indexes, 'name':'cms_positions.txt', 'print_every':int(5e3)}]\n",
    "\n",
    "stiff = 0.2\n",
    "xmin = 0\n",
    "xmax = 72.787 \n",
    "n_windows = 46\n",
    "\n",
    "equlibration_parameters = {'steps':'5e4', 'print_energy_every': '5e4', 'print_conf_interval':'5e4'}\n",
    "production_parameters = {'steps':'1e4', 'print_energy_every': '1e4', 'print_conf_interval':'1e4'}\n",
    "\n",
    "us_list = [CustomObservableUmbrellaSampling(file_dir, sys) for file_dir, sys in zip(file_dirs,systems)]\n",
    "\n",
    "\n",
    "simulation_manager = SimulationManager()\n",
    "\n",
    "wham_dir = os.path.abspath('/scratch/mlsample/ipy_oxDNA/wham/wham')\n",
    "n_bins = '200'\n",
    "tol = '1e-5'\n",
    "n_boot = '3'\n",
    "umbrella_stiff = '0.2'\n",
    "\n",
    "\n",
    "us_list[0].wham.run_wham(us_list[1] ,wham_dir, xmin, xmax, umbrella_stiff, n_bins, tol, n_boot)\n",
    "us_list[2].wham.run_wham(us_list[3] ,wham_dir, xmin, xmax, umbrella_stiff, n_bins, tol, n_boot)\n",
    "us_list[4].wham.run_wham(us_list[5] ,wham_dir, xmin, xmax, umbrella_stiff, n_bins, tol, n_boot)\n",
    "us_list[6].wham.run_wham(us_list[7] ,wham_dir, xmin, xmax, umbrella_stiff, n_bins, tol, n_boot)\n",
    "us_list[8].wham.run_wham(us_list[9] ,wham_dir, xmin, xmax, umbrella_stiff, n_bins, tol, n_boot)"
   ]
  },
  {
   "cell_type": "code",
   "execution_count": null,
   "id": "12436bb9-75f4-4737-8aa0-c5985568184a",
   "metadata": {
    "tags": []
   },
   "outputs": [],
   "source": [
    "file_dirs"
   ]
  },
  {
   "cell_type": "code",
   "execution_count": null,
   "id": "65d93d97-4f63-4573-84b7-4143c73448ed",
   "metadata": {
    "tags": []
   },
   "outputs": [],
   "source": [
    "[us.system_dir for us in us_list]"
   ]
  },
  {
   "cell_type": "code",
   "execution_count": null,
   "id": "25ef3b94-38c0-47c5-bedb-5ec98790fbaf",
   "metadata": {
    "tags": []
   },
   "outputs": [],
   "source": [
    "us_list[8].wham.to_si(200)\n",
    "us_list[8].wham.w_mean()\n",
    "us_list[8].wham.bootstrap_w_mean_error()\n",
    "\n",
    "us_list[8].plot_free()"
   ]
  },
  {
   "cell_type": "code",
   "execution_count": null,
   "id": "6aaf8023-67ca-4db2-9edb-290cf2506b1e",
   "metadata": {
    "tags": []
   },
   "outputs": [],
   "source": [
    "for us in us_list:\n",
    "    us.build_equlibration_runs(simulation_manager, n_windows, com_list, ref_list, stiff,\n",
    "                               xmin, xmax, equlibration_parameters, cms_observable,\n",
    "                               observable=True, print_every=5e3, continue_run=False)\n",
    "simulation_manager.worker_manager()\n",
    "\n",
    "for us in us_list:\n",
    "    us.build_production_runs(simulation_manager, n_windows, com_list, ref_list, stiff,\n",
    "                             xmin, xmax, production_parameters,cms_observable,\n",
    "                             observable=True, print_every=5e3, name='com_distance.txt',\n",
    "                             continue_run=False)\n",
    "simulation_manager.worker_manager()"
   ]
  },
  {
   "cell_type": "code",
   "execution_count": null,
   "id": "6576c291-109e-427b-8d2b-21935b7704a6",
   "metadata": {
    "tags": []
   },
   "outputs": [],
   "source": [
    "# us_list[2].com_distance_observable(com_list, ref_list)\n",
    "import matplotlib.pyplot as plt\n",
    "plt.figure(dpi=200)\n",
    "for idx in range(0,23,1):\n",
    "    us_list[0].analysis.hist_cms('eq', idx, 72, 5e3, bins=8, fig=False)\n",
    "for idx in range(0,23,1):\n",
    "    us_list[1].analysis.hist_cms('eq', idx, 72, 5e3, bins=8, fig=False)"
   ]
  },
  {
   "cell_type": "code",
   "execution_count": null,
   "id": "e601ed22-c29a-4de4-a1f5-d1cfa6815b39",
   "metadata": {
    "tags": []
   },
   "outputs": [],
   "source": [
    "import time\n",
    "for sim in us_list[1].production_sims[::2]:\n",
    "    sim.analysis.view_last()\n",
    "    time.sleep(2)"
   ]
  },
  {
   "cell_type": "code",
   "execution_count": null,
   "id": "5f5ca86a-eb8b-427a-822b-bfbce29d7efb",
   "metadata": {},
   "outputs": [],
   "source": [
    "import matplotlib.pyplot as plt\n",
    "plt.figure(dpi=200)\n",
    "for idx in range(0,46,1):\n",
    "    us_list[3].analysis.view_cms('prod', idx,72, 5e3, sliding_window=False, fig=False)\n",
    "for idx in range(0,46,1):\n",
    "    us_list[4].analysis.view_cms('prod', idx, 72, 5e3, sliding_window=False, fig=False)\n",
    "# plt.legend([i for i in range(0,46,1)], fontsize=3)"
   ]
  },
  {
   "cell_type": "code",
   "execution_count": null,
   "id": "61d73a8c-3636-4071-8b80-c880dc5196b2",
   "metadata": {
    "tags": []
   },
   "outputs": [],
   "source": [
    "import matplotlib.pyplot as plt\n",
    "plt.figure(dpi=200)\n",
    "for idx in range(0,23,1):\n",
    "    us_list[0].analysis.view_cms('prod', idx,73, 5e3, sliding_window=False, fig=False)\n",
    "for idx in range(0,23,1):\n",
    "    us_list[1].analysis.view_cms('prod', idx, 73, 5e3, sliding_window=False, fig=False)\n",
    "# plt.legend([i for i in range(0,46,1)], fontsize=3)"
   ]
  },
  {
   "cell_type": "code",
   "execution_count": null,
   "id": "7ee13c2f-9443-4cfb-b60b-d7ed6c21252c",
   "metadata": {
    "tags": []
   },
   "outputs": [],
   "source": [
    "for us in us_list:\n",
    "    us.build_production_runs(simulation_manager, n_windows, com_list, ref_list, stiff,\n",
    "                             xmin, xmax, production_parameters,cms_observable,\n",
    "                             observable=True, print_every=5e3, name='com_distance.txt',\n",
    "                             continue_run=False)\n",
    "simulation_manager.run()"
   ]
  },
  {
   "cell_type": "code",
   "execution_count": null,
   "id": "159d82d0-8aae-4b4e-9986-58774b15de7c",
   "metadata": {},
   "outputs": [],
   "source": [
    "wham_dir = os.path.abspath('/scratch/mlsample/ipy_oxDNA/wham/wham')\n",
    "n_bins = '200'\n",
    "tol = '1e-5'\n",
    "n_boot = '30'\n",
    "umbrella_stiff = '0.2'\n",
    "us_list[0].wham.run_wham(us_list[1] ,wham_dir, xmin, xmax, umbrella_stiff, n_bins, tol, n_boot)\n",
    "# for us in [us_list[0]]:\n",
    "#     us.wham_run(wham_dir, xmin, xmax, stiff, n_bins, tol, n_boot)"
   ]
  },
  {
   "cell_type": "code",
   "execution_count": null,
   "id": "269d4ee0-6ae5-4a0e-806a-69ea0df60fdc",
   "metadata": {},
   "outputs": [],
   "source": [
    "us_list[0].fig_ax()\n",
    "import matplotlib.pyplot as plt\n",
    "for us in us_list:\n",
    "    us.plot_free(ax=us_list[0].ax)\n",
    "# plt.legend([f'{10 + 273}K', f'{20 + 273}K', f'{30 + 273}K', f'{40 + 273}K'])\n",
    "# plt.title('8nt Duplex Melting Free Energy Profile')\n",
    "plt.legend()"
   ]
  },
  {
   "cell_type": "code",
   "execution_count": null,
   "id": "ec17483c-eb2d-40f3-a07b-8dae9768e33a",
   "metadata": {
    "tags": []
   },
   "outputs": [],
   "source": [
    "import numpy as np\n",
    "def process_pos_file(pos_file:str , key_names:list) -> dict:\n",
    "    cms_dict = {}\n",
    "    with open(pos_file, 'r') as f:\n",
    "        pos = f.readlines()\n",
    "        pos = [line.strip().split(' ') for line in pos]\n",
    "        for idx,string in enumerate(key_names):\n",
    "            cms = np.transpose(pos)[idx]\n",
    "            cms = [np.array(line.split(','), dtype=np.float64) for line in cms]\n",
    "            cms_dict[string] = np.array(cms)\n",
    "    return cms_dict\n",
    "\n",
    "def point_in_triangle(a, b, c, p):\n",
    "    u = b - a\n",
    "    v = c - a\n",
    "    n = np.cross(u,v)\n",
    "    w = p - a\n",
    "    gamma = abs(np.dot(np.cross(u,w), n)) / np.dot(n,n)\n",
    "    beta = abs(np.dot(np.cross(w,v), n)) / np.dot(n,n)\n",
    "    alpha = 1 - gamma - beta\n",
    "    return ((0 <= alpha) and (alpha <= 1) and (0 <= beta)  and (beta  <= 1) and (0 <= gamma) and (gamma <= 1))\n",
    "\n",
    "def up_down(com_dist_file:str, pos_file:str, key_names:str) -> list:\n",
    "    \n",
    "    with open(com_dist_file, 'r') as f:\n",
    "        com_dist = f.readlines()\n",
    "    com_dist = [line.strip() for line in com_dist]\n",
    "    com_dist = list(map(float, com_dist)) \n",
    "    cms_list = process_pos_file(pos_file, key_names)\n",
    "    up_or_down = [point_in_triangle(a, b, c, p) for (a,b,c,p) in zip(cms_list['a'],cms_list['b'],cms_list['c'],cms_list['p'])]\n",
    "    com_dist = [-state if direction == 0 else state for state, direction in zip(com_dist, up_or_down)]\n",
    "    com_dist = [72.787 - state if state > 0 else -72.787 - state for state in com_dist]\n",
    "    return com_dist\n",
    "\n",
    "com_dist_file = os.path.join(sim_list[0].sim_dir, 'com_distance.txt')\n",
    "pos_file = os.path.join(sim_list[0].sim_dir,'file.txt')\n",
    "\n",
    "com_dist_file1 = os.path.join(sim_list[1].sim_dir, 'com_distance.txt')\n",
    "pos_file1 = os.path.join(sim_list[1].sim_dir,'file.txt')\n",
    "\n",
    "key_names = ['a', 'b', 'c', 'p']\n",
    "\n",
    "in_sys = up_down(com_dist_file, pos_file, key_names)\n",
    "out_sys = up_down(com_dist_file1, pos_file1, key_names)\n",
    "\n",
    "\n",
    "import pandas as pd\n",
    "# conf_interval = float(observable['output']['print_every'])\n",
    "sliding_window = 10\n",
    "df = pd.DataFrame(in_sys, header=None)\n",
    "if sliding_window is not False:\n",
    "    df = df.rolling(window=sliding_window).sum().dropna().div(sliding_window)\n",
    "df = np.concatenate(np.array(df))\n",
    "sim_conf_times = np.linspace(0, conf_interval * len(df), num=len(df))\n",
    "if fig is True:\n",
    "    plt.figure(figsize=(15,3)) \n",
    "plt.xlabel('steps')\n",
    "plt.ylabel(f'{os.path.splitext(file_name)[0]} (sim units)')\n",
    "plt.plot(sim_conf_times, df, label=self.sim.sim_dir.split(\"/\")[-1])\n",
    "\n",
    "print(out_sys)\n",
    "print(in_sys)"
   ]
  },
  {
   "cell_type": "code",
   "execution_count": null,
   "id": "9b488e85-e6a8-45c4-b39c-02faa97541e8",
   "metadata": {
    "tags": []
   },
   "outputs": [],
   "source": [
    "import numpy as np\n",
    "def process_pos_file(pos_file:str , key_names:list) -> dict:\n",
    "    cms_dict = {}\n",
    "    with open(pos_file, 'r') as f:\n",
    "        pos = f.readlines()\n",
    "        pos = [line.strip().split(' ') for line in pos]\n",
    "        for idx,string in enumerate(key_names):\n",
    "            cms = np.transpose(pos)[idx]\n",
    "            cms = [np.array(line.split(','), dtype=np.float64) for line in cms]\n",
    "            cms_dict[string] = np.array(cms)\n",
    "    return cms_dict\n",
    "            \n",
    "pos_file_1 = os.path.join(sim_list[0].sim_dir,'file.txt')\n",
    "pos_file_2 = os.path.join(sim_list[1].sim_dir,'file.txt')\n",
    "\n",
    "key_names = ['a', 'b', 'c', 'p']\n",
    "\n",
    "cms_in = process_pos_file(pos_file_1, key_names)\n",
    "cms_out = process_pos_file(pos_file_2, key_names)"
   ]
  },
  {
   "cell_type": "code",
   "execution_count": null,
   "id": "4b220b72-94cc-48a0-ae23-ab7b5df8df74",
   "metadata": {
    "tags": []
   },
   "outputs": [],
   "source": [
    "def point_in_triangle(a,b,c,p):\n",
    "    u = b - a\n",
    "    v = c - a\n",
    "    n = np.cross(u,v)\n",
    "    w = p - a\n",
    "    gamma = abs(np.dot(np.cross(u,w), n)) / np.dot(n,n)\n",
    "    beta = abs(np.dot(np.cross(w,v), n)) / np.dot(n,n)\n",
    "    alpha = 1 - gamma - beta\n",
    "    return ((0 <= alpha) and (alpha <= 1) and (0 <= beta)  and (beta  <= 1) and (0 <= gamma) and (gamma <= 1))\n",
    "\n",
    "over_under_1 = [point_in_triangle(a, b, c, p) for (a,b,c,p) in zip(cms_in['a'],cms_in['b'],cms_in['c'],cms_in['p'])]\n",
    "over_under_2 = [point_in_triangle(a, b, c, p) for (a,b,c,p) in zip(cms_out['a'],cms_out['b'],cms_out['c'],cms_out['p'])]\n",
    "over_under_2"
   ]
  },
  {
   "cell_type": "code",
   "execution_count": null,
   "id": "7648c884-fa8f-4c0c-8c49-cce9363ad84f",
   "metadata": {},
   "outputs": [],
   "source": [
    "def point_in_triangle(a,b,c,p):\n",
    "    u = b - a\n",
    "    v = c - a\n",
    "    n = np.cross(u,v)\n",
    "    w = p - a\n",
    "    gamma = abs(np.dot(np.cross(u,w), n)) / np.dot(n,n)\n",
    "    beta = abs(np.dot(np.cross(w,v), n)) / np.dot(n,n)\n",
    "    alpha = 1 - gamma - beta\n",
    "    return ((0 <= alpha) and (alpha <= 1) and (0 <= beta)  and (beta  <= 1) and (0 <= gamma) and (gamma <= 1))\n",
    "\n",
    "over_under_1 = [point_in_triangle(a, b, c, p) for (a,b,c,p) in zip(cms_in['a'],cms_in['b'],cms_in['c'],cms_in['p'])]\n",
    "over_under_2 = [point_in_triangle(a, b, c, p) for (a,b,c,p) in zip(cms_out['a'],cms_out['b'],cms_out['c'],cms_out['p'])]\n",
    "over_under_2"
   ]
  },
  {
   "cell_type": "code",
   "execution_count": null,
   "id": "595ec9e2-7b2a-4576-82c1-cb7f00e194e5",
   "metadata": {
    "tags": []
   },
   "outputs": [],
   "source": [
    "def solve_equation(a,b,c,p):\n",
    "    b = b - a\n",
    "    c = c - a\n",
    "    n = np.cross(b,c)\n",
    "    \n",
    "    coefficents = np.array([[b[0], c[0], n[0]], [b[1], c[1], n[1]], [b[2], c[2], n[2]]])\n",
    "    solve = np.array([[p[0]], [p[1]], [p[2]]])\n",
    "    solved = np.linalg.solve(coefficents, solve)\n",
    "    return solved\n",
    "\n",
    "# one = [solve_equation(a, b, c, p) for (a,b,c,p) in zip(cms_in['a'],cms_in['b'],cms_in['c'],cms_in['p'])]\n",
    "over_under_2 = [solve_equation(a, b, c, p) for (a,b,c,p) in zip(cms_out['a'],cms_out['b'],cms_out['c'],cms_out['p'])]\n",
    "over_under_2"
   ]
  },
  {
   "cell_type": "code",
   "execution_count": null,
   "id": "b528b480-6a5c-4bc2-9f8e-dc512d786a4e",
   "metadata": {
    "tags": []
   },
   "outputs": [],
   "source": [
    "def point_over_triangle(a, b, c, p):\n",
    "    ba = b - a\n",
    "    cb = c - b\n",
    "    ac = a - c\n",
    "#     ca = c - a\n",
    "#     pa = p - a\n",
    "#     cb = c - b\n",
    "#     pb = p - b\n",
    "#     ac = a - c\n",
    "#     pc = p - c\n",
    "    \n",
    "#     n = np.cross(ba, ca)\n",
    "#     n1 = np.cross(ba, pa)\n",
    "#     n2 = np.cross(cb, pb)\n",
    "#     n3 = np.cross(ac, pc)\n",
    "    \n",
    "#     return (np.dot(n1, n) >= 0) or (np.dot(n2, n) >= 0) or (np.dot(n3, n) >= 0)\n",
    "    n = np.cross(ac, ba)\n",
    "    \n",
    "    px = p - a\n",
    "    nx = np.cross(ba, px)\n",
    "    if (np.dot(nx, n) < 0):\n",
    "        return 0\n",
    "    \n",
    "    px = p - b\n",
    "    nx = np.cross(cb, px)\n",
    "    if (np.dot(nx, n) < 0):\n",
    "        return 0\n",
    "    \n",
    "    px = p - c\n",
    "    nx = np.cross(ac, px)\n",
    "    if (np.dot(nx, n) < 0):\n",
    "        return 0  \n",
    "    return 1\n",
    "\n",
    "over_under_1 = [point_over_triangle(a, b, p, c) for (a,b,c,p) in zip(cms_in['a'],cms_in['b'],cms_in['c'],cms_in['p'])]\n",
    "over_under_2 = [point_over_triangle(a, b, p, c) for (a,b,c,p) in zip(cms_out['a'],cms_out['b'],cms_out['c'],cms_out['p'])]\n",
    "print(over_under_1)\n",
    "print(over_under_2)"
   ]
  },
  {
   "cell_type": "code",
   "execution_count": null,
   "id": "0a63ce8c-caec-43ec-ba5f-ab8815a5c0f2",
   "metadata": {},
   "outputs": [],
   "source": [
    "pip install shapely"
   ]
  },
  {
   "cell_type": "code",
   "execution_count": null,
   "id": "61f25e9b-c1e6-4991-aeef-25ebbf100d06",
   "metadata": {},
   "outputs": [],
   "source": [
    "from shapely.geometry import Polygon, Point\n",
    "\n",
    "def is_inside_prism(p1, p2, p3, point):\n",
    "    # get the vectors of the prism\n",
    "    v1 = [p2[i]-p1[i] for i in range(3)]\n",
    "    v2 = [p3[i]-p1[i] for i in range(3)]\n",
    "    # get the normal vector of the prism\n",
    "    normal = [v1[1]*v2[2]-v1[2]*v2[1], v1[2]*v2[0]-v1[0]*v2[2], v1[0]*v2[1]-v1[1]*v2[0]]\n",
    "    # create a polygon from the prism\n",
    "    polygon = Polygon([p1, p2, p3])\n",
    "    # create a point from the input point\n",
    "    point = Point(point)\n",
    "    # check if the point is inside the polygon and the prism\n",
    "    return polygon.contains(point) and sum([normal[i]*(point[i]-p1[i]) for i in range(3)]) < 0\n",
    "\n",
    "# example usage\n",
    "p1 = [0, 0, 0]\n",
    "p2 = [1, 0, 0]\n",
    "p3 = [0, 1, 0]\n",
    "point = [0.5, 0.5, 0.5]\n",
    "print(is_inside_prism(p1, p2, p3, point))  # True"
   ]
  },
  {
   "cell_type": "code",
   "execution_count": null,
   "id": "28fecdf4-5513-4466-9361-750bfb05bb7b",
   "metadata": {},
   "outputs": [],
   "source": [
    "def sign(p1, p2, p3):\n",
    "    return (p1[0] - p3[0]) * (p2[1] - p3[1]) - (p2[0] - p3[0]) * (p1[1] - p3[1])\n",
    "\n",
    "def point_in_triangle(pt, v1, v2, v3):\n",
    "    b1 = sign(pt, v1, v2) < 0.0\n",
    "    b2 = sign(pt, v2, v3) < 0.0\n",
    "    b3 = sign(pt, v3, v1) < 0.0\n",
    "\n",
    "    return ((b1 == b2) and (b2 == b3))\n",
    "\n",
    "# Example usage\n",
    "v1 = [0, 0, 0]\n",
    "v2 = [0, 1, 0]\n",
    "v3 = [1, 0, 0]\n",
    "pt = [0.5, 0.5, 0.0]\n",
    "print(point_in_triangle(pt, v1, v2, v3))"
   ]
  },
  {
   "cell_type": "code",
   "execution_count": null,
   "id": "1b004685-2cb6-454b-bb32-8f096c78dec1",
   "metadata": {},
   "outputs": [],
   "source": [
    "import numpy as np\n",
    "with open(os.path.join(sim_dir_list[0],'file.txt'), 'r') as f:\n",
    "    pos = f.readlines()\n",
    "\n",
    "with open(os.path.join(sim_dir_list[0], 'com_distance.txt'), 'r') as f:\n",
    "    com_dist = f.readlines()\n",
    "com_dist = [line.strip() for line in com_dist]\n",
    "\n",
    "\n",
    "\n",
    "\n",
    "pos = [line.strip().split(' ') for line in pos]\n",
    "com_cms = np.transpose(pos)[0]\n",
    "com_cms = [np.array(line.split(','), dtype=np.float64) for line in com_cms]\n",
    "\n",
    "ref_cms = np.transpose(pos)[1]\n",
    "ref_cms = [np.array(line.split(','), dtype=np.float64) for line in ref_cms]\n",
    "\n",
    "ref_cms = np.transpose(pos)[1]\n",
    "ref_cms = [np.array(line.split(','), dtype=np.float64) for line in ref_cms]\n",
    "\n",
    "\n",
    "dist = [np.linalg.norm(a - b) for a,b in zip(com_cms, ref_cms)]\n",
    "\n",
    "print(dist)\n",
    "print(com_dist)"
   ]
  },
  {
   "cell_type": "code",
   "execution_count": null,
   "id": "8ea3aa4c-6cfd-4268-a27e-ac5e04fbdefd",
   "metadata": {
    "tags": []
   },
   "outputs": [],
   "source": [
    "print(locals())"
   ]
  },
  {
   "cell_type": "code",
   "execution_count": null,
   "id": "32bd969c-8eb0-4849-82e5-9f9103c3128d",
   "metadata": {
    "tags": []
   },
   "outputs": [],
   "source": [
    "dir('string')"
   ]
  },
  {
   "cell_type": "code",
   "execution_count": null,
   "id": "ddace0fa-e62b-4c63-aa7b-cf86e9008276",
   "metadata": {
    "tags": []
   },
   "outputs": [],
   "source": [
    "import numpy as np\n",
    "with open(os.path.join(sim_dir_list[0],'ref_pos.txt'), 'r') as f:\n",
    "    ref_pos = f.readlines()\n",
    "with open(os.path.join(sim_dir_list[0], 'cms_pos.txt'), 'r') as f:\n",
    "    cms_pos = f.readlines()\n",
    "with open(os.path.join(sim_dir_list[0], 'com_distance.txt'), 'r') as f:\n",
    "    com_dist = f.readlines()\n",
    "    \n",
    "ref_pos = [np.array(line.strip().split(), dtype=np.float64) for line in ref_pos]\n",
    "cms_pos = [np.array(line.strip().split(), dtype=np.float64) for line in cms_pos]\n",
    "distance = [np.linalg.norm(a - b) for a,b in zip(ref_pos, cms_pos)]\n",
    "\n",
    "com_dist = [float(string.strip()) for string in com_dist]\n",
    "print(com_dist)\n",
    "print(distance)"
   ]
  },
  {
   "cell_type": "code",
   "execution_count": null,
   "id": "74cd2da2-4a09-4720-8c4b-9e0669356b5d",
   "metadata": {},
   "outputs": [],
   "source": [
    "?? oxpy.observables.BaseObservable"
   ]
  },
  {
   "cell_type": "code",
   "execution_count": null,
   "id": "661d4972-bfe6-432e-9fb9-c6fc94b389fe",
   "metadata": {},
   "outputs": [],
   "source": [
    "os.chdir('/scratch/mlsample/ipy_oxDNA/ipy_oxdna_examples/nanotube/180_strands_in/180_strands_in_sys_example')"
   ]
  },
  {
   "cell_type": "code",
   "execution_count": null,
   "id": "9e3e2818-c05b-45a5-8f14-9e1b9011c7a9",
   "metadata": {
    "tags": []
   },
   "outputs": [],
   "source": [
    "import oxpy\n",
    "\n",
    "class MyObs(oxpy.observables.BaseObservable):\n",
    "    def get_output_string(self, curr_step):\n",
    "        return 'here'\n",
    "\n",
    "with oxpy.Context():\n",
    "    my_input = oxpy.InputFile()\n",
    "    my_input.init_from_filename(\"input\")    \n",
    "    manager = oxpy.OxpyManager(my_input)\n",
    "    my_obs = MyObs()\n",
    "    print(my_obs)\n",
    "    manager.add_output(\"my_obs_output.dat\", print_every=100, observables=[my_obs, ])\n",
    "    manager.run(1000)\n",
    "# custom_observables = {'my_obs_output_file.dat':{'print_every':'1e3', 'observables':[MyObs(), ]}}"
   ]
  },
  {
   "cell_type": "code",
   "execution_count": null,
   "id": "01fa4da9-5deb-440f-a641-4042cf1f7c0d",
   "metadata": {
    "tags": []
   },
   "outputs": [],
   "source": [
    "import oxpy\n",
    "\n",
    "class MyObs(oxpy.observables.BaseObservable):\n",
    "    def get_output_string(self, curr_step):\n",
    "        # take the position of the last particle\n",
    "        # pos = self.config_info.particles()[-1].pos\n",
    "        # use it to build the output string\n",
    "        return 'here'\n",
    "custom_observables = {'my_obs_output_file.dat':{'print_every':'1e3', 'observables':['MyObs()',]}}\n",
    "\n",
    "# sim_manager.run(custom_observables=custom_observables)"
   ]
  },
  {
   "cell_type": "code",
   "execution_count": null,
   "id": "34bca14e-d4df-4369-a39a-4e8561bbf79d",
   "metadata": {
    "tags": []
   },
   "outputs": [],
   "source": [
    "ref_list.split(',')"
   ]
  },
  {
   "cell_type": "code",
   "execution_count": null,
   "id": "65c92924-c863-4c7e-83e2-0e5323b0788a",
   "metadata": {},
   "outputs": [],
   "source": [
    "# def cms_observables(self, particle_indexes):\n",
    "#     class ComPositionObservable(oxpy.observables.BaseObservable):\n",
    "#         def get_output_string(self, curr_step):\n",
    "#             # take the position of the last particle\n",
    "#             pos = [self.config_info.particles()[int(idx)].pos for idx in particle_indexes.split(',')]\n",
    "#             x = 0\n",
    "#             y = 0\n",
    "#             z = 0\n",
    "#             for p in pos:\n",
    "#                 x += p[0]\n",
    "#                 y += p[1]\n",
    "#                 z += p[2]\n",
    "#             x /= len(pos)\n",
    "#             y /= len(pos)\n",
    "#             z /= len(pos)\n",
    "#             return f'{x},{y},{z}'\n",
    "#     return ComPositionObservable\n",
    "\n",
    "# observables = ['self.cms_observables(com_list)()', 'self.cms_observables(ref_list)()']\n",
    "# custom_observables = {'particle_cms.txt':{'print_every':'1e3', 'observables':observables}}"
   ]
  },
  {
   "cell_type": "code",
   "execution_count": null,
   "id": "45f9e34e-935e-4db2-aca1-4834ffdf43eb",
   "metadata": {
    "tags": []
   },
   "outputs": [],
   "source": [
    "os.chdir('/scratch/mlsample/ipy_oxDNA/ipy_oxdna_examples/nanotube/180/180_sys_example/')\n",
    "\n",
    "import oxpy\n",
    "\n",
    "class MyObs(oxpy.observables.BaseObservable):\n",
    "    def get_output_string(self, curr_step):\n",
    "        y_list = [1,3]\n",
    "        print(self.config_info.particles().pos[1])\n",
    "        return 'here'\n",
    "    \n",
    "    \n",
    "with oxpy.Context():\n",
    "    my_input = oxpy.InputFile()\n",
    "    my_input.init_from_filename(\"input\")    \n",
    "    manager = oxpy.OxpyManager(my_input)\n",
    "    my_obs = MyObs()\n",
    "    manager.add_output(\"my_obs_output.dat\", print_every=100, observables=[my_obs, ])\n",
    "    manager.run(100)\n"
   ]
  },
  {
   "cell_type": "code",
   "execution_count": null,
   "id": "4a978aaf-f5b4-4442-bca0-36575634fcf3",
   "metadata": {
    "jupyter": {
     "source_hidden": true
    },
    "tags": []
   },
   "outputs": [],
   "source": [
    "def cms_observables(particle_indexes):\n",
    "    class ComPositionObservable(oxpy.observables.BaseObservable):\n",
    "        def get_output_string(self, curr_step):\n",
    "            # take the position of the last particle\n",
    "            pos = [self.config_info.particles()[int(idx)].pos for idx in particle_indexes.split(',')]\n",
    "            x = 0\n",
    "            y = 0\n",
    "            z = 0\n",
    "            for p in pos:\n",
    "                x += p[0]\n",
    "                y += p[1]\n",
    "                z += p[2]\n",
    "            x /= len(pos)\n",
    "            y /= len(pos)\n",
    "            z /= len(pos)\n",
    "            return f'{x},{y},{z}'\n",
    "    return ComPositionObservable\n",
    "# observables = ['cms_observables(com_list)()', 'cms_observables(ref_list)()']\n",
    "# custom_observables = {'my_obs_output_file.dat':{'print_every':'1e3', 'observables':observables}}\n",
    "with oxpy.Context():\n",
    "    my_input = oxpy.InputFile()\n",
    "    my_input.init_from_filename(\"input\")    \n",
    "    manager = oxpy.OxpyManager(my_input)\n",
    "    # for key, value in custom_observables.items():\n",
    "    #     my_obs = [eval(obs_str) for obs_str in value['observables']]\n",
    "    #     print(my_obs)\n",
    "        # manager.add_output(\"my_obs_output.dat\", print_every=100, observables=my_obs)\n",
    "    manager.run(1000)"
   ]
  },
  {
   "cell_type": "code",
   "execution_count": null,
   "id": "49ca2db6-6dee-41a2-a43d-d6088ffd1810",
   "metadata": {
    "jupyter": {
     "source_hidden": true
    },
    "tags": []
   },
   "outputs": [],
   "source": [
    "import oxpy\n",
    "class MyObs(oxpy.observables.BaseObservable):\n",
    "    def get_output_string(self, curr_step):\n",
    "        # take the position of the last particle\n",
    "        pos = self.config_info.particles()[-1].pos\n",
    "        # use it to build the output string\n",
    "        return \"%lf %lf %lf\" % (pos[0], pos[1], pos[2])\n",
    "\n",
    "class ComPositionObservable(oxpy.observables.BaseObservable):\n",
    "    def get_output_string(self, curr_step):\n",
    "        # take the position of the last particle\n",
    "        pos = [self.config_info.particles()[int(idx)].pos for idx in ref_list.split(',')]\n",
    "        x = 0\n",
    "        y = 0\n",
    "        z = 0\n",
    "        for p in pos:\n",
    "            x += p[0]\n",
    "            y += p[1]\n",
    "            z += p[2]\n",
    "        x /= len(pos)\n",
    "        y /= len(pos)\n",
    "        z /= len(pos)\n",
    "        return f'{x} {y} {z}'\n",
    "    \n",
    "custom_observables = {'my_obs_output_file.dat':{'print_every':'1e3', 'observables':['ComPositionObservable()',]}}\n",
    "with oxpy.Context():\n",
    "    my_input = oxpy.InputFile()\n",
    "    my_input.init_from_filename(\"input\")    \n",
    "    manager = oxpy.OxpyManager(my_input)\n",
    "    for key, value in custom_observables.items():\n",
    "        my_obs = [eval(obs_str) for obs_str in value['observables']]\n",
    "        print(my_obs)\n",
    "        manager.add_output(\"my_obs_output.dat\", print_every=100, observables=my_obs)\n",
    "    manager.run(1000)\n"
   ]
  },
  {
   "cell_type": "code",
   "execution_count": null,
   "id": "f2c494bd-b6d2-4527-b686-eba8c31d7368",
   "metadata": {
    "jupyter": {
     "source_hidden": true
    },
    "tags": []
   },
   "outputs": [],
   "source": [
    "with oxpy.Context():\n",
    "    my_input = oxpy.InputFile()\n",
    "    my_input.init_from_filename(\"input\")    \n",
    "    manager = oxpy.OxpyManager(my_input)\n",
    "    for key, value in custom_observables.items():\n",
    "        my_obs = [eval(observable_string) for observable_string in value['observables']]\n",
    "        manager.add_output(key, print_every=value['print_every'], observables=my_obs)\n",
    "    # manager.run(100000)"
   ]
  },
  {
   "cell_type": "code",
   "execution_count": null,
   "id": "b3a99fb3-d64c-4948-8101-be6e1837fc85",
   "metadata": {
    "tags": []
   },
   "outputs": [],
   "source": [
    "from time import sleep\n",
    "for sim in sim_list:\n",
    "    sim.analysis.view_last()\n",
    "    sleep(0.5)"
   ]
  },
  {
   "cell_type": "markdown",
   "id": "5e9cb2af-ee2e-4b66-a1ce-d61bd181a595",
   "metadata": {},
   "source": [
    "<font size='6'><a class=\"anchor\" id=\"4\"></a> <h2 align=\"center\"> <font color='black'>Multiple Umbrella Sampling Systems</font></h2> \n",
    "\n",
    "<font size='3'><font color='black'>Utilizing the ComUmbrellaSampling class, we can automatically run 1D umbrella sampling simulations with a COM order parameter.</font>"
   ]
  },
  {
   "cell_type": "code",
   "execution_count": null,
   "id": "e805119d-4354-48ff-893c-96c9a73e6d76",
   "metadata": {},
   "outputs": [],
   "source": [
    "simulation_manager = SimulationManager()\n",
    "simulation_manager.restart_nvidia_cuda_mps_control()"
   ]
  },
  {
   "cell_type": "code",
   "execution_count": null,
   "id": "bfb021d1-d697-498c-91bb-85f4af58bf92",
   "metadata": {},
   "outputs": [],
   "source": [
    "from umbrella_sampling import ComUmbrellaSampling\n",
    "from oxdna_simulation import SimulationManager\n",
    "import os"
   ]
  },
  {
   "cell_type": "code",
   "execution_count": null,
   "id": "01d29058-3b15-4e07-8d15-f4e88df8780d",
   "metadata": {},
   "outputs": [],
   "source": [
    "path = os.path.abspath('../ipy_oxdna_examples/nanotube/no_hangs')\n",
    "system_name = ['180', '340', '446', '514', '617']\n",
    "file_dirs = [f'{path}/{sys}' for sys in system_name]\n",
    "systems = [f'{sys}_umbrella' for sys in system_name]\n",
    "\n",
    "com_list = '3566,3774,3567,3568,3569,3570,3571,3572,3573,3574,3575,3576,3577,3578,3579,3580,3581,3582,3583,3584,3585,3586,3587,3588,3589,3590,3591,3592,3593,3594,3595,3596,3597,3598,3599,3600,3601,3602,3603,3604,3605,3606,3607,3608,3609,3610,3611,3612,3613,3614,3615,3616,3617,3618,3619,3620,3621,3622,3623,3624,3625,3626,3627,3628,3629,3630,3631,3632,3633,3634,3635,3636,3637,3638,3639,3640,3641,3642,3643,3644,3645,3646,3647,3648,3649,3650,3651,3652,3653,3654,3655,3656,3657,3658,3659,3660,3661,3662,3663,3664,3665,3666,3667,3668,3669,3670,3671,3672,3673,3674,3675,3676,3677,3678,3679,3680,3681,3682,3683,3684,3685,3686,3687,3688,3689,3690,3691,3692,3693,3694,3695,3696,3697,3698,3699,3700,3701,3702,3703,3704,3705,3706,3707,3708,3709,3710,3711,3712,3713,3714,3715,3716,3717,3718,3719,3720,3721,3722,3723,3724,3725,3726,3727,3728,3729,3730,3731,3732,3733,3734,3735,3736,3737,3738,3739,3740,3741,3742,3743,3744,3745,3746,3747,3748,3749,3750,3751,3752,3753,3754,3755,3756,3757,3758,3759,3760,3761,3762,3763,3764,3765,3766,3767,3768,3769,3770,3771,3772,3773'\n",
    "                        \n",
    "ref_list = '7163,6966,6967,6968,6969,6970,6971,6972,6973,6974,6975,6976,6977,6978,6979,6980,6981,6982,6983,6984,6985,6986,6987,6988,6989,6990,6991,6992,6993,6994,6995,6996,6997,6998,6999,7000,7001,7002,7003,7004,7005,7006,7007,7008,7009,7010,7011,7012,7013,7014,7015,7016,7017,7018,7019,7020,7021,7022,7023,7024,7025,7026,7027,7028,7029,7030,7031,7032,7033,7034,7035,7036,7037,7038,7039,7040,7041,7042,7043,7044,7045,7046,7047,7048,7049,7050,7051,7052,7053,7054,7055,7056,7057,7058,7059,7060,7061,7062,7063,7064,7065,7066,7067,7068,7069,7070,7071,7072,7073,7074,7075,7076,7077,7078,7079,7080,7081,7082,7083,7084,7085,7086,7087,7088,7089,7090,7091,7092,7093,7094,7095,7096,7097,7098,7099,7100,7101,7102,7103,7104,7105,7106,7107,7108,7109,7110,7111,7112,7113,7114,7115,7116,7117,7118,7119,7120,7121,7122,7123,7124,7125,7126,7127,7128,7129,7130,7131,7132,7133,7134,7135,7136,7137,7138,7139,7140,7141,7142,7143,7144,7145,7146,7147,7148,7149,7150,7151,7152,7153,7154,7155,7156,7157,7158,7159,7160,7161,7162,7164,7165,7166,7167,7168,7169,7170,7171,7172,7173,7174'\n",
    "            \n",
    "            \n",
    "\n",
    "stiff = 0.2\n",
    "xmin = 0\n",
    "xmax = 72.787\n",
    "n_windows = 47\n",
    "\n",
    "equlibration_parameters = {'steps':'1e7', 'print_energy_every': '1e7', 'print_conf_interval':'1e7'}\n",
    "production_parameters = {'steps':'2e7', 'print_energy_every': '2e7', 'print_conf_interval':'2e7'}\n",
    "\n",
    "us_list = [ComUmbrellaSampling(file_dir, sys) for file_dir, sys in zip(file_dirs,systems)]\n",
    "\n",
    "simulation_manager = SimulationManager()"
   ]
  },
  {
   "cell_type": "code",
   "execution_count": null,
   "id": "7696f209-52cb-40ae-ab9d-a80f104cd7fe",
   "metadata": {
    "tags": []
   },
   "outputs": [],
   "source": [
    "path = os.path.abspath('../ipy_oxdna_examples/nanotube')\n",
    "system_name = ['180', '340', '446', '514', '617']\n",
    "file_dirs = [f'{path}/{sys}' for sys in system_name]\n",
    "systems = [f'{sys}_umbrella' for sys in system_name]\n",
    "\n",
    "com_list = '3566,3774,3567,3568,3569,3570,3571,3572,3573,3574,3575,3576,3577,3578,3579,3580,3581,3582,3583,3584,3585,3586,3587,3588,3589,3590,3591,3592,3593,3594,3595,3596,3597,3598,3599,3600,3601,3602,3603,3604,3605,3606,3607,3608,3609,3610,3611,3612,3613,3614,3615,3616,3617,3618,3619,3620,3621,3622,3623,3624,3625,3626,3627,3628,3629,3630,3631,3632,3633,3634,3635,3636,3637,3638,3639,3640,3641,3642,3643,3644,3645,3646,3647,3648,3649,3650,3651,3652,3653,3654,3655,3656,3657,3658,3659,3660,3661,3662,3663,3664,3665,3666,3667,3668,3669,3670,3671,3672,3673,3674,3675,3676,3677,3678,3679,3680,3681,3682,3683,3684,3685,3686,3687,3688,3689,3690,3691,3692,3693,3694,3695,3696,3697,3698,3699,3700,3701,3702,3703,3704,3705,3706,3707,3708,3709,3710,3711,3712,3713,3714,3715,3716,3717,3718,3719,3720,3721,3722,3723,3724,3725,3726,3727,3728,3729,3730,3731,3732,3733,3734,3735,3736,3737,3738,3739,3740,3741,3742,3743,3744,3745,3746,3747,3748,3749,3750,3751,3752,3753,3754,3755,3756,3757,3758,3759,3760,3761,3762,3763,3764,3765,3766,3767,3768,3769,3770,3771,3772,3773'\n",
    "                        \n",
    "ref_list = '7163,6966,6967,6968,6969,6970,6971,6972,6973,6974,6975,6976,6977,6978,6979,6980,6981,6982,6983,6984,6985,6986,6987,6988,6989,6990,6991,6992,6993,6994,6995,6996,6997,6998,6999,7000,7001,7002,7003,7004,7005,7006,7007,7008,7009,7010,7011,7012,7013,7014,7015,7016,7017,7018,7019,7020,7021,7022,7023,7024,7025,7026,7027,7028,7029,7030,7031,7032,7033,7034,7035,7036,7037,7038,7039,7040,7041,7042,7043,7044,7045,7046,7047,7048,7049,7050,7051,7052,7053,7054,7055,7056,7057,7058,7059,7060,7061,7062,7063,7064,7065,7066,7067,7068,7069,7070,7071,7072,7073,7074,7075,7076,7077,7078,7079,7080,7081,7082,7083,7084,7085,7086,7087,7088,7089,7090,7091,7092,7093,7094,7095,7096,7097,7098,7099,7100,7101,7102,7103,7104,7105,7106,7107,7108,7109,7110,7111,7112,7113,7114,7115,7116,7117,7118,7119,7120,7121,7122,7123,7124,7125,7126,7127,7128,7129,7130,7131,7132,7133,7134,7135,7136,7137,7138,7139,7140,7141,7142,7143,7144,7145,7146,7147,7148,7149,7150,7151,7152,7153,7154,7155,7156,7157,7158,7159,7160,7161,7162,7164,7165,7166,7167,7168,7169,7170,7171,7172,7173,7174'\n",
    "            \n",
    "            \n",
    "\n",
    "stiff = 0.2\n",
    "xmin = 0\n",
    "xmax = 72.787\n",
    "n_windows = 47\n",
    "\n",
    "equlibration_parameters = {'steps':'1e7', 'print_energy_every': '1e7', 'print_conf_interval':'1e7'}\n",
    "production_parameters = {'steps':'2e7', 'print_energy_every': '2e7', 'print_conf_interval':'2e7'}\n",
    "\n",
    "us_list_1 = [ComUmbrellaSampling(file_dir, sys) for file_dir, sys in zip(file_dirs,systems)]\n",
    "\n",
    "simulation_manager = SimulationManager()"
   ]
  },
  {
   "cell_type": "code",
   "execution_count": null,
   "id": "0d6e5a76-1aa9-4000-b817-efe23e255602",
   "metadata": {},
   "outputs": [],
   "source": [
    "import matplotlib.pyplot as plt\n",
    "\n",
    "\n",
    "us_list[0].fig_ax()\n",
    "us_list_1[0].plot_free(ax=us_list[0].ax)\n",
    "us_list_1[1].plot_free(ax=us_list[0].ax)\n",
    "\n",
    "us_list[2].plot_free(ax=us_list[0].ax)\n",
    "us_list[3].plot_free( ax=us_list[0].ax)\n",
    "us_list[4].plot_free(ax=us_list[0].ax)\n",
    "\n",
    "plt.legend()"
   ]
  },
  {
   "cell_type": "code",
   "execution_count": null,
   "id": "f97bc87b-6905-4e77-8a12-464b884211ee",
   "metadata": {},
   "outputs": [],
   "source": [
    "import matplotlib.pyplot as plt\n",
    "\n",
    "\n",
    "us_list[0].fig_ax()\n",
    "us_list[0].plot_free(ax=us_list[0].ax, c='red', label='180')\n",
    "us_list[1].plot_free(ax=us_list[0].ax, c='blue', label='340' )\n",
    "\n",
    "us_list_1[2].plot_free(ax=us_list[0].ax, c='green', label='446')\n",
    "us_list_1[3].plot_free( ax=us_list[0].ax, c='teal', label='514')\n",
    "us_list_1[4].plot_free(ax=us_list[0].ax, c='orange', label='617')\n",
    "\n",
    "plt.legend(['180', '340', '446', '514', '617'], loc='upper center')\n",
    "\n",
    "# us_list_1[0].plot_free_mod(negative=True, ax=us_list[0].ax, c='red')\n",
    "# us_list_1[1].plot_free_mod(negative=True,ax=us_list[0].ax, c='blue')\n",
    "\n",
    "# us_list[2].plot_free_mod(negative=True,ax=us_list[0].ax, c='green')\n",
    "# us_list[3].plot_free_mod(negative=True, ax=us_list[0].ax, c='teal')\n",
    "# us_list[4].plot_free_mod(negative=True,ax=us_list[0].ax, c='orange')\n",
    "\n",
    "\n"
   ]
  },
  {
   "cell_type": "code",
   "execution_count": null,
   "id": "2cfe8fc6-b68a-440e-95d2-e3191c5327da",
   "metadata": {},
   "outputs": [],
   "source": [
    "us_list[0].fig_ax()\n",
    "import matplotlib.pyplot as plt\n",
    "for us in us_list:\n",
    "    us.plot_free(ax=us_list[0].ax)\n",
    "# plt.legend([f'{10 + 273}K', f'{20 + 273}K', f'{30 + 273}K', f'{40 + 273}K'])\n",
    "# plt.title('8nt Duplex Melting Free Energy Profile')\n",
    "plt.legend()\n",
    "# plt.ylim(-2, 100)"
   ]
  },
  {
   "cell_type": "code",
   "execution_count": null,
   "id": "85629b3b-6fda-4d8d-9e5a-955db599899d",
   "metadata": {
    "tags": []
   },
   "outputs": [],
   "source": [
    "path = os.path.abspath('/scratch/mlsample/ipy_oxDNA/ipy_oxdna_examples/nanotube/in_out')\n",
    "conditions = ['180', '340', '446', '514', '617']\n",
    "system_name = ['in', 'out']\n",
    "file_dirs = []\n",
    "for cond in conditions:\n",
    "    for sys in system_name:\n",
    "        file_dirs.append(f'{path}/{cond}/{sys}/equlibration_2')\n",
    "# file_dirs = [f'{path}/{sys}' for sys in system_name]\n",
    "systems = [f'umbrella_1' for _ in range(len(file_dirs))]\n",
    "\n",
    "com_list = '3566,3774,3567,3568,3569,3570,3571,3572,3573,3574,3575,3576,3577,3578,3579,3580,3581,3582,3583,3584,3585,3586,3587,3588,3589,3590,3591,3592,3593,3594,3595,3596,3597,3598,3599,3600,3601,3602,3603,3604,3605,3606,3607,3608,3609,3610,3611,3612,3613,3614,3615,3616,3617,3618,3619,3620,3621,3622,3623,3624,3625,3626,3627,3628,3629,3630,3631,3632,3633,3634,3635,3636,3637,3638,3639,3640,3641,3642,3643,3644,3645,3646,3647,3648,3649,3650,3651,3652,3653,3654,3655,3656,3657,3658,3659,3660,3661,3662,3663,3664,3665,3666,3667,3668,3669,3670,3671,3672,3673,3674,3675,3676,3677,3678,3679,3680,3681,3682,3683,3684,3685,3686,3687,3688,3689,3690,3691,3692,3693,3694,3695,3696,3697,3698,3699,3700,3701,3702,3703,3704,3705,3706,3707,3708,3709,3710,3711,3712,3713,3714,3715,3716,3717,3718,3719,3720,3721,3722,3723,3724,3725,3726,3727,3728,3729,3730,3731,3732,3733,3734,3735,3736,3737,3738,3739,3740,3741,3742,3743,3744,3745,3746,3747,3748,3749,3750,3751,3752,3753,3754,3755,3756,3757,3758,3759,3760,3761,3762,3763,3764,3765,3766,3767,3768,3769,3770,3771,3772,3773'\n",
    "ref_list = '7163,6966,6967,6968,6969,6970,6971,6972,6973,6974,6975,6976,6977,6978,6979,6980,6981,6982,6983,6984,6985,6986,6987,6988,6989,6990,6991,6992,6993,6994,6995,6996,6997,6998,6999,7000,7001,7002,7003,7004,7005,7006,7007,7008,7009,7010,7011,7012,7013,7014,7015,7016,7017,7018,7019,7020,7021,7022,7023,7024,7025,7026,7027,7028,7029,7030,7031,7032,7033,7034,7035,7036,7037,7038,7039,7040,7041,7042,7043,7044,7045,7046,7047,7048,7049,7050,7051,7052,7053,7054,7055,7056,7057,7058,7059,7060,7061,7062,7063,7064,7065,7066,7067,7068,7069,7070,7071,7072,7073,7074,7075,7076,7077,7078,7079,7080,7081,7082,7083,7084,7085,7086,7087,7088,7089,7090,7091,7092,7093,7094,7095,7096,7097,7098,7099,7100,7101,7102,7103,7104,7105,7106,7107,7108,7109,7110,7111,7112,7113,7114,7115,7116,7117,7118,7119,7120,7121,7122,7123,7124,7125,7126,7127,7128,7129,7130,7131,7132,7133,7134,7135,7136,7137,7138,7139,7140,7141,7142,7143,7144,7145,7146,7147,7148,7149,7150,7151,7152,7153,7154,7155,7156,7157,7158,7159,7160,7161,7162,7164,7165,7166,7167,7168,7169,7170,7171,7172,7173,7174'\n",
    "ref_com = '3566,3774,3567,3568,3569,3570,3571,3572,3573,3574,3575,3576,3577,3578,3579,3580,3581,3582,3583,3584,3585,3586,3587,3588,3589,3590,3591,3592,3593,3594,3595,3596,3597,3598,3599,3600,3601,3602,3603,3604,3605,3606,3607,3608,3609,3610,3611,3612,3613,3614,3615,3616,3617,3618,3619,3620,3621,3622,3623,3624,3625,3626,3627,3628,3629,3630,3631,3632,3633,3634,3635,3636,3637,3638,3639,3640,3641,3642,3643,3644,3645,3646,3647,3648,3649,3650,3651,3652,3653,3654,3655,3656,3657,3658,3659,3660,3661,3662,3663,3664,3665,3666,3667,3668,3669,3670,3671,3672,3673,3674,3675,3676,3677,3678,3679,3680,3681,3682,3683,3684,3685,3686,3687,3688,3689,3690,3691,3692,3693,3694,3695,3696,3697,3698,3699,3700,3701,3702,3703,3704,3705,3706,3707,3708,3709,3710,3711,3712,3713,3714,3715,3716,3717,3718,3719,3720,3721,3722,3723,3724,3725,3726,3727,3728,3729,3730,3731,3732,3733,3734,3735,3736,3737,3738,3739,3740,3741,3742,3743,3744,3745,3746,3747,3748,3749,3750,3751,3752,3753,3754,3755,3756,3757,3758,3759,3760,3761,3762,3763,3764,3765,3766,3767,3768,3769,3770,3771,3772,3773, 7163,6966,6967,6968,6969,6970,6971,6972,6973,6974,6975,6976,6977,6978,6979,6980,6981,6982,6983,6984,6985,6986,6987,6988,6989,6990,6991,6992,6993,6994,6995,6996,6997,6998,6999,7000,7001,7002,7003,7004,7005,7006,7007,7008,7009,7010,7011,7012,7013,7014,7015,7016,7017,7018,7019,7020,7021,7022,7023,7024,7025,7026,7027,7028,7029,7030,7031,7032,7033,7034,7035,7036,7037,7038,7039,7040,7041,7042,7043,7044,7045,7046,7047,7048,7049,7050,7051,7052,7053,7054,7055,7056,7057,7058,7059,7060,7061,7062,7063,7064,7065,7066,7067,7068,7069,7070,7071,7072,7073,7074,7075,7076,7077,7078,7079,7080,7081,7082,7083,7084,7085,7086,7087,7088,7089,7090,7091,7092,7093,7094,7095,7096,7097,7098,7099,7100,7101,7102,7103,7104,7105,7106,7107,7108,7109,7110,7111,7112,7113,7114,7115,7116,7117,7118,7119,7120,7121,7122,7123,7124,7125,7126,7127,7128,7129,7130,7131,7132,7133,7134,7135,7136,7137,7138,7139,7140,7141,7142,7143,7144,7145,7146,7147,7148,7149,7150,7151,7152,7153,7154,7155,7156,7157,7158,7159,7160,7161,7162,7164,7165,7166,7167,7168,7169,7170,7171,7172,7173,7174'\n",
    "staples = '11735,11736,11737,11738,11739,11740,11741,11742,11743,11744,11745,11746,11747,11748,11749,11750,11751,11752,11753,11754,11755,11756,11757,11758,11759,11760,11761,11762,11763,11764,11765,11766,12249,12250,12251,12252,12253,12254,12255,12256,12257,12258,12259,12260,12261,12262,12263,12264,12265,12266,12267,12268,12269,12270,12271,12272,12273,12274,12275,12276,12277,12278,12635,12640,12641,12642,12643,12644,12645,12646,12647,12648,12649,12650,12651,12652,12653,12654,12655,12656,12657,12658,12659,12660,12661,12662,12663,12664,12665,12666,12667,12668,12669,12670,12671,12672,12690,12691,12692,12693,12694,12695,12696,12697,12698,12699,12700,12701,12702,12703,12704,12705,12706,12707,12708,12709,12710,12711,12712,12713,12714,12715,12716,12717,12718,12719,12720,13162,13163,13164,13165,13166,13167,13168,13169,13170,13171,13172,13173,13174,13175,13176,13177,13178,13179,13180,13181,13182,13183,13184,13185,13186,13187,13188,13189,13190,13191,13192,13561,13562,13563,13564,13565,13566,13567,13568,13569,13570,13571,13572,13573,13574,13575,13576,13577,13578,13579,13580,13581,13582,13583,13584,13585,13586,13587,13588,13589,13590,13591,13592,14075,14076,14077,14078,14079,14080,14081,14082,14083,14084,14085,14086,14087,14088,14089,14090,14091,14092,14093,14094,14095,14096,14097,14098,14099,14100,14101,14102,14103,14104'\n",
    "overhangs = '11718,11719,11720,11721,11722,11723,11724,11725,11726,11727,11728,11729,11730,11731,11732,11733,11734,12232,12233,12234,12235,12236,12237,12238,12239,12240,12241,12242,12243,12244,12245,12246,12247,12248,12623,12624,12625,12626,12627,12628,12629,12630,12631,12632,12633,12634,12636,12637,12638,12639,12673,12674,12675,12676,12677,12678,12679,12680,12681,12682,12683,12684,12685,12686,12687,12688,12689,13145,13146,13147,13148,13149,13150,13151,13152,13153,13154,13155,13156,13157,13158,13159,13160,13161,13544,13545,13546,13547,13548,13549,13550,13551,13552,13553,13554,13555,13556,13557,13558,13559,13560,14058,14059,14060,14061,14062,14063,14064,14065,14066,14067,14068,14069,14070,14071,14072,14073,14074'\n",
    "\n",
    "# staples = '12690,12691,12692,12693,12694,12695,12696,12697,12698,12699,12700,12701,12702,12703,12704,12705,12706,12707,12708,12709,12710,12711,12712,12713,12714,12715,12716,12717,12718,12719,12720,12641,12642,12643,12644,12645,12646,12647,12648,12649,12650,12651,12652,12653,12654,12655,12656,12657,12658,12659,12660,12661,12662,12663,12664,12665,12666,12667,12668,12669,12670,12671,12672,12640'\n",
    "# overhangs = '12673,12688,12674,12675,12676,12677,12678,12679,12680,12681,12682,12683,12684,12685,12686,12687,13551,13552,13553,13554,13549,13548,13555,13547,13546,13556,13557,13558,13545,13559,13544,13560,13550,12631,12630,12629,12628,12632,12633,12627,12634,12636,12635,12637,12638,12639,12626,12625,12624,12623'\n",
    "\n",
    "plane_a = '12249,12250,12251,12252,12253,12254,12255,12256,12257,12258,12259,12260,12261,12262,12263,12264,12265,12266,12267,12268,12269,12270,12271,12272,12273,12274,12275,12276,12277,12278'\n",
    "plane_b = '14076,14077,14078,14079,14080,14081,14082,14083,14084,14085,14086,14087,14088,14089,14090,14091,14092,14093,14094,14095,14096,14097,14098,14099,14100,14101,14102,14103,14104'\n",
    "plance_c = '12641,12642,12643,12644,12645,12646,12647,12648,12649,12650,12651,12652,12653,12654,12655,12656,12657,12658,12659,12660,12661,12662,12663,12664,12665,12666,12667,12668,12669,12670,12671,12672,12640'\n",
    "\n",
    "\n",
    "point_a = '2043,2058,2044,2045,2046,2047,2048,2049,2050,2051,2052,2053,2054,2055,2056,2057'\n",
    "point_b = '1409,1393,1394,1395,1396,1397,1398,1399,1400,1401,1402,1403,1404,1405,1406,1407,1408'\n",
    "point_c = com_list + ',' + ref_list\n",
    "point_p = '12689,12673,12674,12675,12676,12677,12678,12679,12680,12681,12682,12683,12684,12685,12686,12687,12688'\n",
    "\n",
    "point_alpha = '5931,5930,5929,5928,5927,5926,5925,5922,5921,5920,5919,5667,5666,5665,5664,5663,5662,5661,5660,5659,5658,5657,5656,5655,5654,5653,5652,5651,5650,5649,5648,5647,5646,5645,5644,5643,5642,5641,5640,5639,5638,5637,5636,5635,5386,5385,5384,5383,5382,5381,5380,5379,5378,5377,5376,5375,5374,5373,5372,5371,5370,5369,5368,5367,5366,5365,5364,5363,5362,5361,5360,5359,5358,5357,5356,5355,5354,5353,5108,5107,5106,5105,5104,5103,5102,5101,5100,5099,5098,5097,5096,5095,5094,5093,5092,5091,5090,5089,5088,5087,5086,5085,5084,5083,5082,5081,5080,5079,5078,5077,5076,5075,5074,5073,5072,5071,4824,4823,4822,4821,4820,4816,4815,4814,4813,4812,4811,2380,2379,2378,2086,2085,2084,2083,2082,2081,2080,2079,2078,2077,2076,2075,2074,2073,2072,2071,2070,2069,2068,2067,2066,2065,2064,2063,2062,2061,2060,2059,2058,2057,2056,2055,2054,2053,2052,2051,2050,2049,2048,2047,2046,2045,2044,2043,2042,2041,2040,2039,2038,2037,2036,2035,2034,2033,2032,1763,1762,1761,1760,1759,1758,1757,1756,1755,1754,1753,1752,1751,1750,1749,1748,1747,1746,1745,1744,1743,1742,1741,1740,1739,1738,1737,1736,1735,1734,1733,1732,1731,1730,1729,1728,1727,1726,1725,1724,1723,1722,1721,1720,1719,1718,1717,1716,1715,1714,1713,1712,1711,1710,1709,1708,1707,1706,1705,1704,1703,1438,1437,1436,1435,1434,1433,1432,1431,1430,1429,1428,1427,1426,1425,1424,1423,1422,1421,1420,1419,1418,1417,1416,1415,1414,1413,1412,1411,1410,1409,1408,1407,1406,1405,1404,1403,1402,1401,1400,1399,1398,1397,1396,1395,1394,1393,1392,1391,1390,1389,1388,1387,1386,1385,1384,1383,1382,1381,1380,1116,1115,1114,1113,1112,1111,1110,1109,1108,1104,1103,1102,1101,1100,1099,1098,1097,1096,1094,1093,1092,1091,1090,1089,1088,1087,1086,10383,10382,10840,10839,10838,10837,10831,10830,10829,10828,10827,10826,10825,10863,10862,10861,10860,10859,10858,10857,10856,10855,10854,10853,10852,10851,10850,10849,10848,10847,11298,11297,11296,11295,11294,11293,11366,11365,11364,11363,11362,11361,11766,11765,11764,11763,11762,11761,11760,11759,11758,11757,11756,11755,11754,11753,11752,11751,11750,11749,11748,11747,11746,11745,11744,11743,11742,11741,11740,11739,11738,11737,11736,11735,11734,11733,11732,11731,11730,11729,11728,11727,11726,11725,11724,11723,11722,11721,11720,11719,11718,11815,11814,11813,11812,11811,11810,11809,11808,11807,11806,11805,11804,11803,11802,11801,11800,11799,11798,11797,11796,11795,11794,11793,11792,11791,11790,11789,11788,11787,11786,11785,11784,11783,11782,11781,11780,11779,11778,11777,11776,11775,11774,11773,11772,11771,11770,11769,11768,11767,12211,12210,12196,12278,12277,12276,12275,12274,12273,12272,12266,12265,12264,12263,12262,12261,12260,12259,12258,12257,12256,12255,12254,12253,12252,12251,12250,12249,12248,12247,12246,12245,12244,12243,12242,12241,12240,12239,12238,12237,12236,12235,12234,12233,12232,12672,12671,12670,12669,12668,12667,12666,12665,12664,12663,12662,12661,12660,12659,12658,12657,12656,12655,12654,12653,12652,12651,12650,12649,12648,12647,12646,12645,12644,12643,12642,12641,12640,12639,12638,12637,12636,12635,12634,12633,12632,12631,12630,12629,12628,12627,12626,12625,12624,12623,12720,12719,12718,12717,12716,12715,12714,12713,12712,12711,12710,12709,12708,12707,12706,12705,12704,12703,12702,12701,12700,12699,12698,12697,12696,12695,12694,12693,12692,12691,12690,12689,12688,12687,12686,12685,12684,12683,12682,12681,12680,12679,12678,12677,12676,12675,12674,12673,13192,13191,13190,13189,13188,13187,13186,13185,13184,13183,13182,13181,13180,13179,13178,13177,13176,13175,13174,13173,13172,13171,13170,13169,13168,13167,13166,13165,13164,13163,13162,13161,13160,13159,13158,13157,13156,13154,13153,13152,13151,13150,13149,13148,13147,13146,13145,13592,13591,13590,13589,13588,13587,13586,13585,13584,13583,13582,13581,13580,13579,13578,13577,13576,13575,13574,13573,13572,13571,13570,13569,13568,13567,13566,13565,13564,13563,13562,13561,13560,13559,13558,13557,13556,13555,13554,13553,13552,13551,13550,13549,13548,13547,13546,13545,13544,13641,13640,13639,13638,13637,13636,13635,13634,13633,13632,13631,13630,13629,13628,13627,13626,13625,13624,13623,13622,13621,13620,13619,13618,13617,13616,13615,13614,13613,13612,13611,13610,13609,13608,13607,13606,13605,13604,13599,14104,14103,14102,14101,14100,14099,14098,14097,14096,14095,14094,14093,14092,14091,14090,14089,14088,14087,14086,14085,14084,14083,14082,14081,14080,14079,14078,14077,14076,14075,14074,14073,14072,14071,14070,14069,14066,14065,14064,14063,14062,14061,14060,14059,14058,14472,14471,14470,14469,14468,14467,14466,14465,14463,14462,14461,14460,14459,14544,14543,14542,14541,14540,14539,14538,14537,14536,14534,14533,14532,14531,14530,14529,14528,14527,14526,14508,14507,14506,14505,14504,14503,14502,14501,14500,14995,14994,14993,14992,14991,14990,14989,14988,14987,14986,14985,14977,14976'\n",
    "\n",
    "# point_check = '\n",
    "particle_indexes = [com_list, ref_list, staples, overhangs,\n",
    "                    point_a, point_b, point_c, point_p,\n",
    "                    plane_a, plane_b, plance_c, ref_com,\n",
    "                    point_alpha\n",
    "                   ]            \n",
    "\n",
    "# particle_indexes = [com_list, ref_list, staples, overhangs, ref_com, plane_a, plane_b, plance_c]            \n",
    "cms_observable = [{'idx':particle_indexes, 'name':'cms_positions.txt', 'print_every':int(5e3)}]\n",
    "\n",
    "stiff = 0.2\n",
    "xmin = 0\n",
    "xmax = 72.787 \n",
    "n_windows = 46\n",
    "\n",
    "equlibration_parameters = {'steps':'5e4', 'print_energy_every': '5e4', 'print_conf_interval':'5e4'}\n",
    "production_parameters = {'steps':'1e4', 'print_energy_every': '1e4', 'print_conf_interval':'1e4'}\n",
    "\n",
    "us_list = [ComUmbrellaSampling(file_dir, sys) for file_dir, sys in zip(file_dirs,systems)]\n",
    "\n",
    "\n",
    "simulation_manager = SimulationManager()\n",
    "\n",
    "wham_dir = os.path.abspath('/scratch/mlsample/ipy_oxDNA/wham/wham')\n",
    "n_bins = '200'\n",
    "tol = '1e-5'\n",
    "n_boot = '3'\n",
    "umbrella_stiff = '0.2'"
   ]
  },
  {
   "cell_type": "code",
   "execution_count": null,
   "id": "293db090-97a7-477e-9a04-196de48341c9",
   "metadata": {
    "tags": []
   },
   "outputs": [],
   "source": [
    "us_list[1].com_distance_observable(com_list, ref_list)\n",
    "import matplotlib.pyplot as plt\n",
    "import time\n",
    "plt.figure(dpi=200)\n",
    "for idx in range(0,47,6):\n",
    "    us_list[0].equlibration_sims[idx].analysis.view_last()\n",
    "    time.sleep(2)"
   ]
  },
  {
   "cell_type": "code",
   "execution_count": null,
   "id": "a976f32f-add7-40ba-8d89-4a79bd8d1e8b",
   "metadata": {
    "tags": []
   },
   "outputs": [],
   "source": [
    "us_list[4].com_distance_observable(com_list, ref_list)\n",
    "import matplotlib.pyplot as plt\n",
    "plt.figure(dpi=200)\n",
    "for idx in range(0,47,1):\n",
    "    us_list[4].analysis.view_observable('prod', idx)\n"
   ]
  },
  {
   "cell_type": "code",
   "execution_count": null,
   "id": "7017d055-c291-4474-8112-d2b72f64cf83",
   "metadata": {
    "tags": []
   },
   "outputs": [],
   "source": [
    "for us in us_list:\n",
    "    us.build_equlibration_runs(simulation_manager, n_windows, com_list, ref_list, stiff, xmin, xmax, equlibration_parameters, observable=False)\n",
    "simulation_manager.run()"
   ]
  },
  {
   "cell_type": "code",
   "execution_count": null,
   "id": "1125d9f0-c080-4972-8401-07ae183c6bf9",
   "metadata": {
    "tags": []
   },
   "outputs": [],
   "source": [
    "for us in us_list:\n",
    "    us.build_production_runs(simulation_manager, n_windows, com_list, ref_list, stiff, xmin, xmax, production_parameters, observable=True, print_every=1e3, name='com_distance.txt')\n",
    "simulation_manager.run()"
   ]
  },
  {
   "cell_type": "code",
   "execution_count": null,
   "id": "4b829940-2196-490b-a760-b49f0e5e7f04",
   "metadata": {
    "tags": []
   },
   "outputs": [],
   "source": [
    "wham_dir = os.path.abspath('/scratch/mlsample/ipy_oxDNA/wham/wham')\n",
    "n_bins = '200'\n",
    "tol = '1e-5'\n",
    "n_boot = '30'\n",
    "for us in us_list:\n",
    "    us.wham_run(wham_dir, xmin, xmax, stiff, n_bins, tol, n_boot)"
   ]
  },
  {
   "cell_type": "code",
   "execution_count": null,
   "id": "442b8b42-1c2b-4ba8-afff-fac0e047f593",
   "metadata": {},
   "outputs": [],
   "source": [
    "us_list_1[0].fig_ax()\n",
    "import matplotlib.pyplot as plt\n",
    "for us in us_list_1:\n",
    "    us.plot_free(ax=us_list_1[0].ax)\n",
    "# plt.legend([f'{10 + 273}K', f'{20 + 273}K', f'{30 + 273}K', f'{40 + 273}K'])\n",
    "# plt.title('8nt Duplex Melting Free Energy Profile')\n",
    "plt.legend()\n",
    "# plt.ylim(-2, 100)"
   ]
  }
 ],
 "metadata": {
  "kernelspec": {
   "display_name": "oxdna",
   "language": "python",
   "name": "oxdna"
  },
  "language_info": {
   "codemirror_mode": {
    "name": "ipython",
    "version": 3
   },
   "file_extension": ".py",
   "mimetype": "text/x-python",
   "name": "python",
   "nbconvert_exporter": "python",
   "pygments_lexer": "ipython3",
   "version": "3.10.9"
  }
 },
 "nbformat": 4,
 "nbformat_minor": 5
}
