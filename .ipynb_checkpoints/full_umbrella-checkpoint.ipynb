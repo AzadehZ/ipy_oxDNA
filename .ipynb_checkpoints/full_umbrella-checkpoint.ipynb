{
 "cells": [
  {
   "cell_type": "code",
   "execution_count": 1,
   "metadata": {
    "pycharm": {
     "name": "#%%\n"
    }
   },
   "outputs": [],
   "source": [
    "from oxDNA_analysis_tools.UTILS.oxview import from_path\n",
    "import oxpy\n",
    "from oxdna_json_utils import input_json\n",
    "from simulation_interfaces import *\n",
    "from forces import Force\n",
    "from production_files import write_production, get_windows_per_gpu, run_production_slurm_files\n",
    "from analysis import wham_analysis\n",
    "from sim_macros import *\n",
    "from copy import deepcopy"
   ]
  },
  {
   "cell_type": "code",
   "execution_count": 2,
   "metadata": {},
   "outputs": [],
   "source": [
    "path = '/expanse/lustre/scratch/msamp/temp_project/double/umbrella'\n",
    "systems = ['double_basic', 'double_t9', 'double_t20']"
   ]
  },
  {
   "cell_type": "code",
   "execution_count": null,
   "metadata": {},
   "outputs": [
    {
     "name": "stdout",
     "output_type": "stream",
     "text": [
      "Running /expanse/lustre/scratch/msamp/temp_project/double/umbrella/double_t20/double_t20_eq\n",
      "Running /expanse/lustre/scratch/msamp/temp_project/double/umbrella/double_t20/double_t20_r0_eq\n",
      "Running /expanse/lustre/scratch/msamp/temp_project/double/umbrella/double_t20/double_t20_pull\n"
     ]
    }
   ],
   "source": [
    "system = 'double_t20'\n",
    "p1 = get_op_string(6910, 7046)\n",
    "p2 = get_op_string(3471, 3607)\n",
    "\n",
    "input_json_dict = input_json()\n",
    "input_json_dict['T'] = '20C'\n",
    "input_json_dict['steps'] = '1e5'\n",
    "input_json_dict['dt'] = '0.005'\n",
    "input_json_dict[\"use_average_seq\"] = \"false\"\n",
    "input_json_dict[\"seq_dep_file\"] = 'oxDNA2_sequence_dependent_parameters.txt'\n",
    "input_json_dict['print_conf_interval'] = '50000'\n",
    "input_json_dict['print_energy_every'] = '50000'\n",
    "input_json_dict['max_io'] = '10'\n",
    "input_umbrella = deepcopy(input_json_dict)\n",
    "\n",
    "com_force_params = Force.com_force(\n",
    "    p1=p2,\n",
    "    p2=p2,\n",
    "    k='0.2',\n",
    "    r0='0',\n",
    "    pbc='0',\n",
    "    rate='0'\n",
    ")\n",
    "all_forces = [com_force_params]\n",
    "steps_per_conf = 1e4\n",
    "xmin = 0\n",
    "xmax = 68\n",
    "n_windows = 100\n",
    "n_gpus = 20\n",
    "run_file = f'{path}/{system}/run.sh'\n",
    "prepare_umbrella_sampling(path, system, p1, p2, input_umbrella, all_forces, steps_per_conf, xmin, xmax, n_windows, n_gpus, run_file)"
   ]
  }
 ],
 "metadata": {
  "kernelspec": {
   "display_name": "Python 3",
   "language": "python",
   "name": "python3"
  },
  "language_info": {
   "codemirror_mode": {
    "name": "ipython",
    "version": 3
   },
   "file_extension": ".py",
   "mimetype": "text/x-python",
   "name": "python",
   "nbconvert_exporter": "python",
   "pygments_lexer": "ipython3",
   "version": "3.8.5"
  }
 },
 "nbformat": 4,
 "nbformat_minor": 4
}
