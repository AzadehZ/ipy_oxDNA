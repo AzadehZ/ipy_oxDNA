{
 "cells": [
  {
   "cell_type": "code",
   "execution_count": 39,
   "id": "bd4b29cc-073a-4a70-a003-10d334421bb6",
   "metadata": {},
   "outputs": [],
   "source": [
    "import torch\n",
    "import torch.nn as nn\n",
    "import torchvision\n",
    "import torchvision.transforms as transforms\n",
    "import matplotlib.pyplot as plt\n",
    "import sys\n",
    "import os\n",
    "import torch.nn.functional as F\n",
    "from torch.utils.data import Dataset, DataLoader\n",
    "import numpy as np\n",
    "import pandas as pd"
   ]
  },
  {
   "cell_type": "code",
   "execution_count": 40,
   "id": "3880e6a3-aec5-46d9-9872-0437a2b28495",
   "metadata": {},
   "outputs": [],
   "source": [
    "device = torch.device('cuda' if torch.cuda.is_available() else 'cpu')\n"
   ]
  },
  {
   "cell_type": "code",
   "execution_count": 41,
   "id": "4d8707df-a4e7-4390-bd0f-a8b51a8bfbe1",
   "metadata": {},
   "outputs": [],
   "source": [
    "#hyper params\n",
    "input_size = 1 # 28x28\n",
    "hidden_size = 3\n",
    "num_classes = 10\n",
    "num_epochs = 10\n",
    "batch_size = 100\n",
    "learning_rate = 0.001"
   ]
  },
  {
   "cell_type": "code",
   "execution_count": 50,
   "id": "0577456a-c917-40f5-8e72-b57a8924dc8b",
   "metadata": {},
   "outputs": [
    {
     "ename": "SyntaxError",
     "evalue": "'[' was never closed (731245894.py, line 18)",
     "output_type": "error",
     "traceback": [
      "\u001b[0;36m  Cell \u001b[0;32mIn[50], line 18\u001b[0;36m\u001b[0m\n\u001b[0;31m    window_paths = [\u001b[0m\n\u001b[0m                   ^\u001b[0m\n\u001b[0;31mSyntaxError\u001b[0m\u001b[0;31m:\u001b[0m '[' was never closed\n"
     ]
    }
   ],
   "source": [
    "class COMDataset(Dataset):\n",
    "    def __init__(self, production_dir):\n",
    "        self.prodiction_dir = production_dir\n",
    "        self.com_dir = os.path.join(production_dir, 'com_dir')\n",
    "        self.com_list = []\n",
    "        self.com_files = os.listdir(com_dir)\n",
    "        self.com_files = [f for f in os.listdir(com_dir) if f.endswith('.txt')]\n",
    "        self.com_files.sort(key=self.sort_coms)\n",
    "        for window, file in enumerate(self.com_files):\n",
    "            self.com_list.append(pd.read_csv(os.path.join(self.com_dir, file), header=None, names=[window], usecols=[0]))\n",
    "        self.com_list = np.array(self.com_list)\n",
    "        for idxs in range(len(self.com_list)):\n",
    "            for i in range(len(self.com_list[idxs])):\n",
    "                self.com_list[idxs][i][0] = np.float64(self.com_list[idxs][i][0][9:].strip()) \n",
    "        self.com_list = self.com_list.squeeze()\n",
    "        \n",
    "        n_windows = len(self.com_files)\n",
    "        window_paths = [os.path.join(self.prodiction_dir\n",
    "    \n",
    "    def sort_coms(self, file):\n",
    "        # Method to sort com files by window number\n",
    "        var = int(file.split('_')[-1].split('.')[0])\n",
    "        return var\n",
    "    \n",
    "    def __getitem__(self, index):\n",
    "        sample = self.x[index], self.y[index]\n",
    "        if self.transform:\n",
    "            sample = self.transform(sample)\n",
    "        return sample\n",
    "    \n",
    "    def __len__(self):\n",
    "        return self.n_samples\n",
    "production_dir = '/scratch/mlsample/ipy_oxDNA/ipy_oxdna_examples/duplex_melting/us_melting/production/'\n",
    "data = COMDataset(com_dir)"
   ]
  },
  {
   "cell_type": "code",
   "execution_count": 49,
   "id": "a77217f6-2234-4a0e-91eb-b987ef78beee",
   "metadata": {},
   "outputs": [
    {
     "data": {
      "text/plain": [
       "'/scratch/mlsample/ipy_oxDNA/ipy_oxdna_examples/duplex_melting/us_melting/production/'"
      ]
     },
     "execution_count": 49,
     "metadata": {},
     "output_type": "execute_result"
    }
   ],
   "source": [
    "com_dir = '/scratch/mlsample/ipy_oxDNA/ipy_oxdna_examples/duplex_melting/us_melting/production/com_dir/'\n",
    "com_dir[:-8]"
   ]
  }
 ],
 "metadata": {
  "kernelspec": {
   "display_name": "pytorch",
   "language": "python",
   "name": "pytorch"
  },
  "language_info": {
   "codemirror_mode": {
    "name": "ipython",
    "version": 3
   },
   "file_extension": ".py",
   "mimetype": "text/x-python",
   "name": "python",
   "nbconvert_exporter": "python",
   "pygments_lexer": "ipython3",
   "version": "3.11.0"
  }
 },
 "nbformat": 4,
 "nbformat_minor": 5
}
