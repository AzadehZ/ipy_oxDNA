{
 "cells": [
  {
   "cell_type": "markdown",
   "id": "b3921e85-29c2-4cb1-9b75-6d529f041630",
   "metadata": {},
   "source": [
    "<font size='10'><h1 align=\"center\"><font color='blue'>iPy oxDNA Examples<br />  Nanotube</font></h1>"
   ]
  },
  {
   "cell_type": "markdown",
   "id": "1e81dec7-5371-4bbd-a950-fb772418cb91",
   "metadata": {},
   "source": [
    "<center>\n",
    "<img src=\"oxDNA.png\">\n",
    "</center>"
   ]
  },
  {
   "cell_type": "code",
   "execution_count": null,
   "id": "e4fc506a-a756-4020-88be-e82f987677ee",
   "metadata": {},
   "outputs": [],
   "source": [
    "from oxdna_simulation import Simulation, SimulationManager, Force, Observable#, ComPositionObservable\n",
    "import os\n",
    "import oxpy"
   ]
  },
  {
   "cell_type": "code",
   "execution_count": null,
   "id": "0431a989-fccf-493b-9f49-ba8707939af5",
   "metadata": {
    "tags": []
   },
   "outputs": [],
   "source": [
    "sim_manager = SimulationManager()\n",
    "\n",
    "\n",
    "path = os.path.abspath('//scratch/mlsample/ipy_oxDNA/ipy_oxdna_examples/104')\n",
    "systems = ['180', '340', '446', '514', '617']\n",
    "\n",
    "file_dir_list = [f'{path}/{sys}' for sys in systems]\n",
    "sim_dir_list = [f'{file_dir}/{sys}_equlibration' for sys, file_dir in zip(systems, file_dir_list)]\n",
    "sim_list = [Simulation(file_dir, sim_dir) for sim_dir, file_dir in zip(sim_dir_list, file_dir_list)]\n",
    "\n",
    "\n",
    "\n",
    "com_list = '3566,3774,3567,3568,3569,3570,3571,3572,3573,3574,3575,3576,3577,3578,3579,3580,3581,3582,3583,3584,3585,3586,3587,3588,3589,3590,3591,3592,3593,3594,3595,3596,3597,3598,3599,3600,3601,3602,3603,3604,3605,3606,3607,3608,3609,3610,3611,3612,3613,3614,3615,3616,3617,3618,3619,3620,3621,3622,3623,3624,3625,3626,3627,3628,3629,3630,3631,3632,3633,3634,3635,3636,3637,3638,3639,3640,3641,3642,3643,3644,3645,3646,3647,3648,3649,3650,3651,3652,3653,3654,3655,3656,3657,3658,3659,3660,3661,3662,3663,3664,3665,3666,3667,3668,3669,3670,3671,3672,3673,3674,3675,3676,3677,3678,3679,3680,3681,3682,3683,3684,3685,3686,3687,3688,3689,3690,3691,3692,3693,3694,3695,3696,3697,3698,3699,3700,3701,3702,3703,3704,3705,3706,3707,3708,3709,3710,3711,3712,3713,3714,3715,3716,3717,3718,3719,3720,3721,3722,3723,3724,3725,3726,3727,3728,3729,3730,3731,3732,3733,3734,3735,3736,3737,3738,3739,3740,3741,3742,3743,3744,3745,3746,3747,3748,3749,3750,3751,3752,3753,3754,3755,3756,3757,3758,3759,3760,3761,3762,3763,3764,3765,3766,3767,3768,3769,3770,3771,3772,3773'\n",
    "                        \n",
    "ref_list = '7163,6966,6967,6968,6969,6970,6971,6972,6973,6974,6975,6976,6977,6978,6979,6980,6981,6982,6983,6984,6985,6986,6987,6988,6989,6990,6991,6992,6993,6994,6995,6996,6997,6998,6999,7000,7001,7002,7003,7004,7005,7006,7007,7008,7009,7010,7011,7012,7013,7014,7015,7016,7017,7018,7019,7020,7021,7022,7023,7024,7025,7026,7027,7028,7029,7030,7031,7032,7033,7034,7035,7036,7037,7038,7039,7040,7041,7042,7043,7044,7045,7046,7047,7048,7049,7050,7051,7052,7053,7054,7055,7056,7057,7058,7059,7060,7061,7062,7063,7064,7065,7066,7067,7068,7069,7070,7071,7072,7073,7074,7075,7076,7077,7078,7079,7080,7081,7082,7083,7084,7085,7086,7087,7088,7089,7090,7091,7092,7093,7094,7095,7096,7097,7098,7099,7100,7101,7102,7103,7104,7105,7106,7107,7108,7109,7110,7111,7112,7113,7114,7115,7116,7117,7118,7119,7120,7121,7122,7123,7124,7125,7126,7127,7128,7129,7130,7131,7132,7133,7134,7135,7136,7137,7138,7139,7140,7141,7142,7143,7144,7145,7146,7147,7148,7149,7150,7151,7152,7153,7154,7155,7156,7157,7158,7159,7160,7161,7162,7164,7165,7166,7167,7168,7169,7170,7171,7172,7173,7174'\n",
    "\n",
    "\n",
    "f = Force()\n",
    "com_force_1 = f.com_force(\n",
    "    com_list=com_list,                        \n",
    "    ref_list=ref_list,                        \n",
    "    stiff='0.2',                        \n",
    "    r0='30',                         \n",
    "    PBC='1',                         \n",
    "    rate='0'\n",
    ")\n",
    "com_force_2 = f.com_force(\n",
    "    com_list=ref_list,                        \n",
    "    ref_list=com_list,                        \n",
    "    stiff='0.2',                        \n",
    "    r0='30',                         \n",
    "    PBC='1',                         \n",
    "    rate='0'\n",
    ")\n",
    "\n",
    "obs = Observable()\n",
    "com_distance = obs.distance(\n",
    "    particle_1=com_list,\n",
    "    particle_2=ref_list,\n",
    "    print_every='5e3',\n",
    "    name='com_distance.txt',\n",
    "    PBC='1'\n",
    ")\n",
    "\n",
    "sim_parameters = {'steps':'1e6', 'T':'20C', 'print_energy_every': '5e5', 'print_conf_interval':'5e5'}\n",
    "for sim in sim_list:\n",
    "    sim.build(clean_build='force')\n",
    "    sim.add_force(com_force_1)\n",
    "    sim.add_force(com_force_2)\n",
    "    sim.add_observable(com_distance)\n",
    "    sim.input_file(sim_parameters)\n",
    "    sim_manager.queue_sim(sim)"
   ]
  },
  {
   "cell_type": "code",
   "execution_count": null,
   "id": "8106071d-70e0-4d9e-bc7e-6f3dd1c83f85",
   "metadata": {},
   "outputs": [],
   "source": [
    "sim_manager.run()"
   ]
  },
  {
   "cell_type": "code",
   "execution_count": null,
   "id": "26c52bba-5b7a-45de-8238-9e825cc44cde",
   "metadata": {
    "tags": []
   },
   "outputs": [],
   "source": [
    "import time\n",
    "for sim in sim_list:\n",
    "    sim.analysis.view_last()\n",
    "    time.sleep(2)"
   ]
  },
  {
   "cell_type": "code",
   "execution_count": null,
   "id": "6154a770-d9d5-49a6-ae06-2123c773f1a3",
   "metadata": {
    "tags": []
   },
   "outputs": [],
   "source": [
    "import time\n",
    "import matplotlib.pyplot as plt\n",
    "plt.figure(figsize=(15,3)) \n",
    "for sim in sim_list:\n",
    "    sim.analysis.plot_observable(com_distance)\n",
    "    time.sleep(0.01)"
   ]
  },
  {
   "cell_type": "markdown",
   "id": "5e9cb2af-ee2e-4b66-a1ce-d61bd181a595",
   "metadata": {},
   "source": [
    "<font size='6'><a class=\"anchor\" id=\"4\"></a> <h2 align=\"center\"> <font color='black'>Multiple Umbrella Sampling Systems</font></h2> \n",
    "\n",
    "<font size='3'><font color='black'>Utilizing the ComUmbrellaSampling class, we can automatically run 1D umbrella sampling simulations with a COM order parameter.</font>"
   ]
  },
  {
   "cell_type": "code",
   "execution_count": null,
   "id": "e805119d-4354-48ff-893c-96c9a73e6d76",
   "metadata": {},
   "outputs": [],
   "source": [
    "simulation_manager = SimulationManager()\n",
    "simulation_manager.restart_nvidia_cuda_mps_control()"
   ]
  },
  {
   "cell_type": "code",
   "execution_count": null,
   "id": "bfb021d1-d697-498c-91bb-85f4af58bf92",
   "metadata": {},
   "outputs": [],
   "source": [
    "from umbrella_sampling import ComUmbrellaSampling\n",
    "from oxdna_simulation import SimulationManager\n",
    "import os"
   ]
  },
  {
   "cell_type": "code",
   "execution_count": null,
   "id": "7696f209-52cb-40ae-ab9d-a80f104cd7fe",
   "metadata": {
    "tags": []
   },
   "outputs": [],
   "source": [
    "path = os.path.abspath('//scratch/mlsample/ipy_oxDNA/ipy_oxdna_examples/104')\n",
    "system_name = ['180']#,'340', '446', '514', '617']\n",
    "file_dirs = [f'{path}/{sys}' for sys in system_name]\n",
    "systems = [f'{sys}_umbrella' for sys in system_name]\n",
    "\n",
    "com_list = '3566,3774,3567,3568,3569,3570,3571,3572,3573,3574,3575,3576,3577,3578,3579,3580,3581,3582,3583,3584,3585,3586,3587,3588,3589,3590,3591,3592,3593,3594,3595,3596,3597,3598,3599,3600,3601,3602,3603,3604,3605,3606,3607,3608,3609,3610,3611,3612,3613,3614,3615,3616,3617,3618,3619,3620,3621,3622,3623,3624,3625,3626,3627,3628,3629,3630,3631,3632,3633,3634,3635,3636,3637,3638,3639,3640,3641,3642,3643,3644,3645,3646,3647,3648,3649,3650,3651,3652,3653,3654,3655,3656,3657,3658,3659,3660,3661,3662,3663,3664,3665,3666,3667,3668,3669,3670,3671,3672,3673,3674,3675,3676,3677,3678,3679,3680,3681,3682,3683,3684,3685,3686,3687,3688,3689,3690,3691,3692,3693,3694,3695,3696,3697,3698,3699,3700,3701,3702,3703,3704,3705,3706,3707,3708,3709,3710,3711,3712,3713,3714,3715,3716,3717,3718,3719,3720,3721,3722,3723,3724,3725,3726,3727,3728,3729,3730,3731,3732,3733,3734,3735,3736,3737,3738,3739,3740,3741,3742,3743,3744,3745,3746,3747,3748,3749,3750,3751,3752,3753,3754,3755,3756,3757,3758,3759,3760,3761,3762,3763,3764,3765,3766,3767,3768,3769,3770,3771,3772,3773'\n",
    "                        \n",
    "ref_list = '7163,6966,6967,6968,6969,6970,6971,6972,6973,6974,6975,6976,6977,6978,6979,6980,6981,6982,6983,6984,6985,6986,6987,6988,6989,6990,6991,6992,6993,6994,6995,6996,6997,6998,6999,7000,7001,7002,7003,7004,7005,7006,7007,7008,7009,7010,7011,7012,7013,7014,7015,7016,7017,7018,7019,7020,7021,7022,7023,7024,7025,7026,7027,7028,7029,7030,7031,7032,7033,7034,7035,7036,7037,7038,7039,7040,7041,7042,7043,7044,7045,7046,7047,7048,7049,7050,7051,7052,7053,7054,7055,7056,7057,7058,7059,7060,7061,7062,7063,7064,7065,7066,7067,7068,7069,7070,7071,7072,7073,7074,7075,7076,7077,7078,7079,7080,7081,7082,7083,7084,7085,7086,7087,7088,7089,7090,7091,7092,7093,7094,7095,7096,7097,7098,7099,7100,7101,7102,7103,7104,7105,7106,7107,7108,7109,7110,7111,7112,7113,7114,7115,7116,7117,7118,7119,7120,7121,7122,7123,7124,7125,7126,7127,7128,7129,7130,7131,7132,7133,7134,7135,7136,7137,7138,7139,7140,7141,7142,7143,7144,7145,7146,7147,7148,7149,7150,7151,7152,7153,7154,7155,7156,7157,7158,7159,7160,7161,7162,7164,7165,7166,7167,7168,7169,7170,7171,7172,7173,7174'\n",
    "            \n",
    "            \n",
    "\n",
    "stiff = 0.2\n",
    "xmin = 0\n",
    "xmax = 72.787\n",
    "n_windows = 47\n",
    "\n",
    "equlibration_parameters = {'steps':'1e7', 'print_energy_every': '1e7', 'print_conf_interval':'1e7'}\n",
    "production_parameters = {'steps':'2e7', 'print_energy_every': '2e7', 'print_conf_interval':'2e7'}\n",
    "\n",
    "us_list = [ComUmbrellaSampling(file_dir, sys) for file_dir, sys in zip(file_dirs,systems)]\n",
    "\n",
    "simulation_manager = SimulationManager()"
   ]
  },
  {
   "cell_type": "code",
   "execution_count": null,
   "id": "7017d055-c291-4474-8112-d2b72f64cf83",
   "metadata": {
    "tags": []
   },
   "outputs": [],
   "source": [
    "for us in us_list:\n",
    "    us.build_equlibration_runs(simulation_manager, n_windows, com_list, ref_list, stiff, xmin, xmax, equlibration_parameters, observable=False)\n",
    "simulation_manager.run()"
   ]
  },
  {
   "cell_type": "code",
   "execution_count": null,
   "id": "1125d9f0-c080-4972-8401-07ae183c6bf9",
   "metadata": {
    "tags": []
   },
   "outputs": [],
   "source": [
    "for us in us_list:\n",
    "    us.build_production_runs(simulation_manager, n_windows, com_list, ref_list, stiff, xmin, xmax, production_parameters, observable=True, print_every=1e3, name='com_distance.txt')\n",
    "simulation_manager.run()"
   ]
  },
  {
   "cell_type": "code",
   "execution_count": null,
   "id": "4b829940-2196-490b-a760-b49f0e5e7f04",
   "metadata": {
    "tags": []
   },
   "outputs": [],
   "source": [
    "wham_dir = os.path.abspath('/scratch/mlsample/ipy_oxDNA/src/wham/wham')\n",
    "n_bins = '200'\n",
    "tol = '1e-5'\n",
    "n_boot = '30'\n",
    "for us in [us_list[0]]:\n",
    "    us.wham_run(wham_dir, xmin, xmax, stiff, n_bins, tol, n_boot)"
   ]
  },
  {
   "cell_type": "code",
   "execution_count": null,
   "id": "a976f32f-add7-40ba-8d89-4a79bd8d1e8b",
   "metadata": {
    "tags": []
   },
   "outputs": [],
   "source": [
    "import matplotlib.pyplot as plt\n",
    "us_list[4].com_distance_observable(com_list, ref_list)\n",
    "plt.figure(dpi=200)\n",
    "for idx in range(0,47,1):\n",
    "    us_list[4].analysis.view_observable('prod', idx)\n"
   ]
  },
  {
   "cell_type": "code",
   "execution_count": null,
   "id": "442b8b42-1c2b-4ba8-afff-fac0e047f593",
   "metadata": {},
   "outputs": [],
   "source": [
    "import matplotlib.pyplot as plt\n",
    "for us in us_list:\n",
    "    us.plot_free()\n",
    "# plt.legend([f'{10 + 273}K', f'{20 + 273}K', f'{30 + 273}K', f'{40 + 273}K'])\n",
    "# plt.title('8nt Duplex Melting Free Energy Profile')\n",
    "plt.legend()"
   ]
  }
 ],
 "metadata": {
  "kernelspec": {
   "display_name": "Python 3 (ipykernel)",
   "language": "python",
   "name": "python3"
  },
  "language_info": {
   "codemirror_mode": {
    "name": "ipython",
    "version": 3
   },
   "file_extension": ".py",
   "mimetype": "text/x-python",
   "name": "python",
   "nbconvert_exporter": "python",
   "pygments_lexer": "ipython3",
   "version": "3.10.9"
  }
 },
 "nbformat": 4,
 "nbformat_minor": 5
}
