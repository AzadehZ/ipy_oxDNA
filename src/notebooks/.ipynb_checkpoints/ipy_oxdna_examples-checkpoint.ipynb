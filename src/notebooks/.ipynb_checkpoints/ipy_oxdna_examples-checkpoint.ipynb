{
 "cells": [
  {
   "cell_type": "markdown",
   "id": "b3921e85-29c2-4cb1-9b75-6d529f041630",
   "metadata": {},
   "source": [
    "<font size='10'><h1 align=\"center\"><font color='blue'>iPy oxDNA Examples</font></h1>"
   ]
  },
  {
   "cell_type": "markdown",
   "id": "1e81dec7-5371-4bbd-a950-fb772418cb91",
   "metadata": {},
   "source": [
    "<center>\n",
    "<img src=\"oxDNA.png\">\n",
    "</center>"
   ]
  },
  {
   "cell_type": "markdown",
   "id": "47ba7526-8339-410a-aaca-67895415232c",
   "metadata": {
    "tags": []
   },
   "source": [
    "# <font color='black'>Table of contents<font><a class='anchor' id='top'></a>\n",
    "- [Build and Run a oxDNA Simulation](#1)\n",
    "- [Run Multiple Simulations in Parallel](#2)\n",
    "- [Umbrella Sampling](#3)"
   ]
  },
  {
   "cell_type": "markdown",
   "id": "4490d34a-a376-4eed-9071-4bc63db0c335",
   "metadata": {
    "tags": []
   },
   "source": [
    "<font size='6'><a class=\"anchor\" id=\"1\"></a> <h2 align=\"center\"> <font color='black'>Build and Run an oxDNA Simulation.</font></h2> \n",
    "\n",
    "<font size='3'><font color='black'>The Simulation class acts as an interface to an oxDNA simulation. </font>\n"
   ]
  },
  {
   "cell_type": "markdown",
   "id": "1c6707d4-712d-4883-a86e-764609b563aa",
   "metadata": {},
   "source": [
    "<font size='3'><font color='black'>It takes the path to a directory containing inital dat and top files (file_dir) and the directory you want to run the simulation in (sim_dir) as its only arguments. </font>"
   ]
  },
  {
   "cell_type": "code",
   "execution_count": null,
   "id": "03f5aa81-e6a5-4c7f-a128-49ab01b2b700",
   "metadata": {
    "tags": []
   },
   "outputs": [],
   "source": [
    "path = os.path.abspath('../ipy_oxdna_examples')\n",
    "file_dir = f'{path}/rro'\n",
    "sim_dir = f'{file_dir}/single_rro_sim_1'\n",
    "\n",
    "sim = Simulation(file_dir, sim_dir)"
   ]
  },
  {
   "cell_type": "markdown",
   "id": "a1469624-7dc5-41fc-b47f-eb95af6b2bea",
   "metadata": {},
   "source": [
    "<font size='3'><font color='black'>We can easily build a simulation that meets the minimum requirments to run a simulation using the build method.</font>"
   ]
  },
  {
   "cell_type": "code",
   "execution_count": null,
   "id": "66e0a3a2-8cfe-4166-abe7-28e05eaa000f",
   "metadata": {},
   "outputs": [],
   "source": [
    "sim.build(clean_build='force')"
   ]
  },
  {
   "cell_type": "markdown",
   "id": "03491bea-211b-45f6-a504-b0f0d77756aa",
   "metadata": {},
   "source": [
    "<font size='3'><font color='black'>And then begin the simulation in a child subprocess using the oxpy_run.run method.</font>"
   ]
  },
  {
   "cell_type": "code",
   "execution_count": null,
   "id": "315d5f7c-9bcf-49bd-8e28-fd0cedec622b",
   "metadata": {},
   "outputs": [],
   "source": [
    "sim.oxpy_run.run()"
   ]
  },
  {
   "cell_type": "markdown",
   "id": "a0477b08-50c5-478a-8186-f7220b80bf6b",
   "metadata": {},
   "source": [
    "<font size='3'><font color='black'> This will run an oxDNA simulation using default parameters for 1 billion steps at 20C.</font>"
   ]
  },
  {
   "cell_type": "markdown",
   "id": "21dd1aa1-51b1-42db-b00c-0c5bba77031a",
   "metadata": {},
   "source": [
    "<div class=\"alert alert-block alert-info\">\n",
    "<b>Note:</b> We can terminate a simulation using the oxpy_run.process.terminate method.\n",
    "</div>"
   ]
  },
  {
   "cell_type": "code",
   "execution_count": null,
   "id": "9185a356-5535-444f-834b-a606cebf38b8",
   "metadata": {
    "tags": []
   },
   "outputs": [],
   "source": [
    "sim.oxpy_run.process.terminate()"
   ]
  },
  {
   "cell_type": "markdown",
   "id": "11384c38-b571-456c-b167-76442b807d76",
   "metadata": {},
   "source": [
    "<font size='3'><font color='black'> To run a simulation with modified input parameters use the input_file file method</font>"
   ]
  },
  {
   "cell_type": "code",
   "execution_count": null,
   "id": "117603ec-50e2-4bdd-b18e-672785535375",
   "metadata": {},
   "outputs": [],
   "source": [
    "#use a dictornary as the argument to input file\n",
    "sim.input_file({'time_scale':\"multiple\", 'steps':'1e4', 'T':'30C', 'print_energy_every': '1e4',\n",
    "                'print_conf_interval':'1e4'})"
   ]
  },
  {
   "cell_type": "markdown",
   "id": "4789d2eb-431f-4b17-8d45-a5154002deab",
   "metadata": {},
   "source": [
    "[All oxDNA input parameters can be found in the documentation here.](https://lorenzo-rovigatti.github.io/oxDNA/input.html)\n",
    "\n",
    "<div class=\"alert alert-block alert-info\">\n",
    "<b>Note:</b> The smaller the print_conf_interval the slower the simulation will run.\n",
    "</div>\n",
    "\n",
    "<font size='3'><font color='black'> Rerun with modifed parameters.</font>\n",
    "    \n",
    "<div class=\"alert alert-block alert-danger\">  \n",
    "<b>Warning:</b> Rerunning by default will overwrite all previous output simulation files  \n",
    "</div>"
   ]
  },
  {
   "cell_type": "code",
   "execution_count": null,
   "id": "b1fc66b6-5778-41ec-af5d-64c721fd33f8",
   "metadata": {},
   "outputs": [],
   "source": [
    "sim.oxpy_run.run(subprocess=False)"
   ]
  },
  {
   "cell_type": "markdown",
   "id": "5897110e-38b2-42ba-87bb-5a2568f90dfc",
   "metadata": {},
   "source": [
    "<font size='3'><font color='black'>We can check in with our simulation while it runs using the analysis module.</font>"
   ]
  },
  {
   "cell_type": "code",
   "execution_count": null,
   "id": "6ce8a8a1-874a-40e2-be4e-ee42c7a44ea6",
   "metadata": {
    "tags": []
   },
   "outputs": [],
   "source": [
    "#A red line will be placed at the indicated number of steps in the input file\n",
    "sim.analysis.plot_energy()"
   ]
  },
  {
   "cell_type": "code",
   "execution_count": null,
   "id": "b9ad4cf6-47c8-43d8-a487-1619e0614dda",
   "metadata": {
    "tags": []
   },
   "outputs": [],
   "source": [
    "sim.analysis.view_last()"
   ]
  },
  {
   "cell_type": "markdown",
   "id": "462cf8ad-e787-426a-8043-d5989af7338a",
   "metadata": {},
   "source": [
    "<font size='3'><font color='black'>To continue a previously run simulation for more steps without overriding previous files for a set amount of steps:</font>"
   ]
  },
  {
   "cell_type": "code",
   "execution_count": null,
   "id": "06e57c93-2649-4185-b433-96932be0afe7",
   "metadata": {
    "tags": []
   },
   "outputs": [],
   "source": [
    "sim.oxpy_run.process.terminate()"
   ]
  },
  {
   "cell_type": "code",
   "execution_count": null,
   "id": "1cd314e4-d9b2-4080-927c-5322edf32c77",
   "metadata": {},
   "outputs": [],
   "source": [
    "#sim = Simulation(file_dir, sim_dir)\n",
    "sim.oxpy_run.run(continue_run=1e5)"
   ]
  },
  {
   "cell_type": "markdown",
   "id": "446b7542-ae27-4d5e-a2b6-f315268a079a",
   "metadata": {},
   "source": [
    "<font size='3'><font color='black'>To add external forces or observables we can use the Force and Observable class with the add_force and add_observable methods.sim.oxpy_run.process.terminate()</font>"
   ]
  },
  {
   "cell_type": "code",
   "execution_count": null,
   "id": "95af46c6-1b14-4a01-9611-253755a77221",
   "metadata": {},
   "outputs": [],
   "source": [
    "sim.oxpy_run.process.terminate()"
   ]
  },
  {
   "cell_type": "code",
   "execution_count": null,
   "id": "44ace2b7-0165-4c98-bcf7-3252a982cd73",
   "metadata": {},
   "outputs": [],
   "source": [
    "from oxdna_simulation import Force, Observable\n",
    "#The external forces will pull on the long edges of our rectangle to a distance of 30 sim untis.\n",
    "com_list = '63,157,64,65,66,67,68,69,70,71,72,73,74,75,76,77,78,79,80,81,82,83,84,85,86,87,88,89,90,91,92,93,94,95,96,97,98,99,100,101,102,103,104,105,106,107,108,109,110,111,112,113,114,115,116,117,118,119,120,121,122,123,124,125,126,127,128,129,130,131,132,133,134,135,136,137,138,139,140,141,142,143,144,145,146,147,148,149,150,151,152,153,154,155,156,6830,6736,6737,6738,6739,6740,6741,6742,6743,6744,6745,6746,6747,6748,6749,6750,6751,6752,6753,6754,6755,6756,6757,6758,6759,6760,6761,6762,6763,6764,6765,6766,6767,6768,6769,6770,6771,6772,6773,6774,6775,6776,6777,6778,6779,6780,6781,6782,6783,6784,6785,6786,6787,6788,6789,6790,6791,6792,6793,6794,6795,6796,6797,6798,6799,6800,6801,6802,6803,6804,6805,6806,6807,6808,6809,6810,6811,6812,6813,6814,6815,6816,6817,6818,6819,6820,6821,6822,6823,6824,6825,6826,6827,6828,6829'\n",
    "ref_list = '3455,3510,3456,3457,3458,3459,3460,3461,3462,3463,3464,3465,3466,3467,3468,3469,3470,3471,3472,3473,3474,3475,3476,3477,3478,3479,3480,3481,3482,3483,3484,3485,3486,3487,3488,3489,3490,3491,3492,3493,3494,3495,3496,3497,3498,3499,3500,3501,3502,3503,3504,3505,3506,3507,3508,3509,3447,3448,3449,3450,3451,3452,3453,3454,3541,3511,3512,3513,3514,3515,3516,3517,3518,3519,3520,3521,3522,3523,3524,3525,3526,3527,3528,3529,3530,3531,3532,3533,3534,3535,3536,3537,3538,3539,3540,3352,3353,3354,3355,3356,3357,3358,3359,3360,3361,3362,3363,3364,3365,3366,3367,3368,3369,3370,3371,3372,3373,3374,3375,3376,3377,3378,3379,3380,3381,3382,3383,3384,3385,3386,3387,3388,3389,3390,3391,3392,3393,3394,3395,3396,3397,3398,3399,3400,3401,3402,3403,3404,3405,3406,3407,3408,3409,3410,3411,3412,3413,3414,3415,3416,3417,3418,3419,3420,3421,3422,3423,3424,3425,3426,3427,3428,3429,3430,3431,3432,3433,3434,3435,3436,3437,3438,3439,3440,3441,3442,3443,3444,3445,3446'\n",
    "\n",
    "f = Force()\n",
    "com_force_1 = f.com_force(\n",
    "    com_list=com_list,                        \n",
    "    ref_list=ref_list,                        \n",
    "    stiff='0.2',                        \n",
    "    r0='30',                         \n",
    "    PBC='1',                         \n",
    "    rate='0'\n",
    ")\n",
    "com_force_2 = f.com_force(\n",
    "    com_list=ref_list,                        \n",
    "    ref_list=com_list,                        \n",
    "    stiff='0.2',                        \n",
    "    r0='30',                         \n",
    "    PBC='1',                         \n",
    "    rate='0'\n",
    ")\n",
    "\n",
    "#The observable will save the distance between the center of mass of\n",
    "#the com_list and ref_list to a file named com_distance.txt every 1e5 steps.\n",
    "obs = Observable()\n",
    "com_distance = obs.distance(\n",
    "    particle_1=com_list,\n",
    "    particle_2=ref_list,\n",
    "    print_every='1e4',\n",
    "    name='com_distance.txt',\n",
    "    PBC='1'\n",
    ")\n",
    "\n",
    "sim.build(clean_build=True)\n",
    "sim.add_force(com_force_1)\n",
    "sim.add_force(com_force_2)\n",
    "sim.add_observable(com_distance)"
   ]
  },
  {
   "cell_type": "code",
   "execution_count": null,
   "id": "a06d6c5f-e2d5-4d2b-a13d-5a975fcb3d21",
   "metadata": {
    "tags": []
   },
   "outputs": [],
   "source": [
    "sim.input_file({'steps':'1e7', 'print_conf_interval':'5e5'})\n",
    "sim.oxpy_run.run()"
   ]
  },
  {
   "cell_type": "code",
   "execution_count": null,
   "id": "1cbb94cb-efac-47b7-a2be-32640cbd7eb4",
   "metadata": {
    "tags": []
   },
   "outputs": [],
   "source": [
    "sim.analysis.plot_observable(com_distance)"
   ]
  },
  {
   "cell_type": "code",
   "execution_count": null,
   "id": "4e87fe50-7384-4471-bf13-38d8d6a947a6",
   "metadata": {},
   "outputs": [],
   "source": [
    "sim.analysis.view_last()"
   ]
  },
  {
   "cell_type": "code",
   "execution_count": null,
   "id": "b7214d8a-d085-431b-b0b5-16653d41d797",
   "metadata": {},
   "outputs": [],
   "source": [
    "sim.oxpy_run.process.terminate()"
   ]
  },
  {
   "cell_type": "markdown",
   "id": "7f55f687-2252-46ee-90ce-80c81cb29f0d",
   "metadata": {},
   "source": [
    "<font size='6'><a class=\"anchor\" id=\"2\"></a> <h2 align=\"center\"> <font color='black'>Run Multiple Simulations in Parallel.</font></h2> \n",
    "\n",
    "<font size='3'><font color='black'>The SimulationManager class enable us to queue multiple simulations to be run in parallel. The simulation manager takes advantage of the nvidia-cuda-mps-server daemon to run multiple oxDNA simulation per GPU.</font>\n",
    "    \n",
    "<font size='3'><font color='black'>Each simulation will occupy a CPU core and a certain amount of GPU memory. You can run #cores - 1 simulations in parallel, unless GPU memory is near full. Simulation processes will be allocated to the GPU with the most avalible memory until all GPU memory is near full or #cores - 1 are being run. Once a simulation has finished, additional queued simulations will be allocated to be run. You can queue as many simulations as you desire.</font>"
   ]
  },
  {
   "cell_type": "code",
   "execution_count": null,
   "id": "e4fc506a-a756-4020-88be-e82f987677ee",
   "metadata": {},
   "outputs": [],
   "source": [
    "from oxdna_simulation import Simulation, SimulationManager\n",
    "import os"
   ]
  },
  {
   "cell_type": "markdown",
   "id": "12d7a392-2f52-490d-8d26-730e62be0833",
   "metadata": {},
   "source": [
    "<font size='3'><font color='black'>You can run multiple replicas of a single system with diffrent parameters. (i.e. temperatures)</font>"
   ]
  },
  {
   "cell_type": "code",
   "execution_count": null,
   "id": "a3a66ad2-2dd7-4685-a4f0-6a78fb167d08",
   "metadata": {},
   "outputs": [],
   "source": [
    "sim_manager = SimulationManager()\n",
    "#sim_manager.restart_nvidia_cuda_mps_control() \n",
    "# kwargs: pipe='$SLURM_TASK_PID'\n",
    "# If  env var $SLURM_TASK_PID does not exist, any string will do.\n",
    "# This will create files in /tmp/mps-pipe_{pipe} and /tmp/mps-log_{pipe}\n",
    "# which will manage cuda job allocations\n",
    "\n",
    "path = os.path.abspath('../ipy_oxdna_examples')\n",
    "file_dir = f'{path}/rro'\n",
    "temperatures = ['20C', '25C', '30C']\n",
    "sim_dir_list = [f'{file_dir}/rro_{temp}' for temp in temperatures]\n",
    "\n",
    "sim_list = [Simulation(file_dir, sim_dir) for sim_dir in sim_dir_list]\n",
    "\n",
    "sim_parameters = [{'T':temp, 'steps':'1e7'} for temp in temperatures]\n",
    "for sim_parameters, sim in zip(sim_parameters, sim_list):\n",
    "    sim.build(clean_build='force')\n",
    "    sim.input_file(sim_parameters)\n",
    "    sim_manager.queue_sim(sim)"
   ]
  },
  {
   "cell_type": "code",
   "execution_count": null,
   "id": "d1facfb0-5a03-4ea2-a212-454ef718e55d",
   "metadata": {
    "tags": []
   },
   "outputs": [],
   "source": [
    "sim_manager.run()"
   ]
  },
  {
   "cell_type": "code",
   "execution_count": null,
   "id": "b3a99fb3-d64c-4948-8101-be6e1837fc85",
   "metadata": {
    "tags": []
   },
   "outputs": [],
   "source": [
    "for sim in sim_list:\n",
    "    sim.analysis.view_last()"
   ]
  },
  {
   "cell_type": "code",
   "execution_count": null,
   "id": "a9b6bca9-2872-485b-bb62-1370dd98d819",
   "metadata": {
    "tags": []
   },
   "outputs": [],
   "source": [
    "#currently does not work\n",
    "sim_manager.terminate_all()"
   ]
  },
  {
   "cell_type": "markdown",
   "id": "5f61d257-ab6c-4871-8e19-13f3bae70a2d",
   "metadata": {},
   "source": [
    "<font size='3'><font color='black'>Alternatively you can run multiple diffrent systems in parallel.</font>"
   ]
  },
  {
   "cell_type": "code",
   "execution_count": null,
   "id": "0431a989-fccf-493b-9f49-ba8707939af5",
   "metadata": {},
   "outputs": [],
   "source": [
    "sim_manager = SimulationManager()\n",
    "\n",
    "path = os.path.abspath('../ipy_oxdna_examples')\n",
    "systems = ['180', '340', '446', '514', '617']\n",
    "\n",
    "file_dir_list = [f'{path}/{sys}' for sys in systems]\n",
    "sim_dir_list = [f'{file_dir}/{sys}_sys_example' for sys, file_dir in zip(systems, file_dir_list)]\n",
    "sim_list = [Simulation(file_dir, sim_dir) for sim_dir, file_dir in zip(sim_dir_list, file_dir_list)]\n",
    "\n",
    "sim_parameters = {'steps':'1e5', 'T':'20C', 'print_energy_every': '5e4', 'print_conf_interval':'5e4'}\n",
    "for sim in sim_list:\n",
    "    sim.build(clean_build='force')\n",
    "    sim.input_file(sim_parameters)\n",
    "    sim_manager.queue_sim(sim)"
   ]
  },
  {
   "cell_type": "code",
   "execution_count": null,
   "id": "01fa4da9-5deb-440f-a641-4042cf1f7c0d",
   "metadata": {
    "tags": []
   },
   "outputs": [],
   "source": [
    "sim_manager.run(gpu_mem_block=False)"
   ]
  },
  {
   "cell_type": "markdown",
   "id": "1008a483-a062-443d-ae75-08cbc7905550",
   "metadata": {},
   "source": [
    "<font size='6'><a class=\"anchor\" id=\"3\"></a> <h2 align=\"center\"> <font color='black'>Umbrella Sampling</font></h2> \n",
    "\n",
    "<font size='3'><font color='black'>Utilizing the ComUmbrellaSampling class, we can automatically run 1D umbrella sampling simulations with a COM order parameter.</font>"
   ]
  },
  {
   "cell_type": "code",
   "execution_count": null,
   "id": "f629cb95-c1e5-4d18-8096-5f72f4525f5e",
   "metadata": {},
   "outputs": [],
   "source": [
    "from umbrella_sampling import ComUmbrellaSampling\n",
    "from oxdna_simulation import SimulationManager\n",
    "import os"
   ]
  },
  {
   "cell_type": "code",
   "execution_count": null,
   "id": "46e07e6c-7fef-4434-8d8e-ffd192df4e2b",
   "metadata": {},
   "outputs": [],
   "source": [
    "path = os.path.abspath('../ipy_oxdna_examples')\n",
    "file_dir = f'{path}/rro'\n",
    "system = 'rro_umbrella'\n",
    "\n",
    "com_list = '63,157,64,65,66,67,68,69,70,71,72,73,74,75,76,77,78,79,80,81,82,83,84,85,86,87,88,89,90,91,92,93,94,95,96,97,98,99,100,101,102,103,104,105,106,107,108,109,110,111,112,113,114,115,116,117,118,119,120,121,122,123,124,125,126,127,128,129,130,131,132,133,134,135,136,137,138,139,140,141,142,143,144,145,146,147,148,149,150,151,152,153,154,155,156,6830,6736,6737,6738,6739,6740,6741,6742,6743,6744,6745,6746,6747,6748,6749,6750,6751,6752,6753,6754,6755,6756,6757,6758,6759,6760,6761,6762,6763,6764,6765,6766,6767,6768,6769,6770,6771,6772,6773,6774,6775,6776,6777,6778,6779,6780,6781,6782,6783,6784,6785,6786,6787,6788,6789,6790,6791,6792,6793,6794,6795,6796,6797,6798,6799,6800,6801,6802,6803,6804,6805,6806,6807,6808,6809,6810,6811,6812,6813,6814,6815,6816,6817,6818,6819,6820,6821,6822,6823,6824,6825,6826,6827,6828,6829'\n",
    "ref_list = '3455,3510,3456,3457,3458,3459,3460,3461,3462,3463,3464,3465,3466,3467,3468,3469,3470,3471,3472,3473,3474,3475,3476,3477,3478,3479,3480,3481,3482,3483,3484,3485,3486,3487,3488,3489,3490,3491,3492,3493,3494,3495,3496,3497,3498,3499,3500,3501,3502,3503,3504,3505,3506,3507,3508,3509,3447,3448,3449,3450,3451,3452,3453,3454,3541,3511,3512,3513,3514,3515,3516,3517,3518,3519,3520,3521,3522,3523,3524,3525,3526,3527,3528,3529,3530,3531,3532,3533,3534,3535,3536,3537,3538,3539,3540,3352,3353,3354,3355,3356,3357,3358,3359,3360,3361,3362,3363,3364,3365,3366,3367,3368,3369,3370,3371,3372,3373,3374,3375,3376,3377,3378,3379,3380,3381,3382,3383,3384,3385,3386,3387,3388,3389,3390,3391,3392,3393,3394,3395,3396,3397,3398,3399,3400,3401,3402,3403,3404,3405,3406,3407,3408,3409,3410,3411,3412,3413,3414,3415,3416,3417,3418,3419,3420,3421,3422,3423,3424,3425,3426,3427,3428,3429,3430,3431,3432,3433,3434,3435,3436,3437,3438,3439,3440,3441,3442,3443,3444,3445,3446'\n",
    "xmin = 0\n",
    "xmax = 72.787\n",
    "n_windows = 100\n",
    "\n",
    "stiff = 0.2\n",
    "\n",
    "\n",
    "equlibration_parameters = {'steps':'1e7', 'T':'20C', 'print_energy_every': '1e6', 'print_conf_interval':'1e7'}\n",
    "production_parameters = {'steps':'2e7', 'T':'20C', 'print_energy_every': '2e7', 'print_conf_interval':'2e7'}\n",
    "\n",
    "us = ComUmbrellaSampling(file_dir, system)\n",
    "simulation_manager = SimulationManager()"
   ]
  },
  {
   "cell_type": "code",
   "execution_count": null,
   "id": "7b4a5157-0419-4fa0-a4e4-1d8f9cddba91",
   "metadata": {
    "tags": []
   },
   "outputs": [],
   "source": [
    "us.build_equlibration_runs(simulation_manager, n_windows, com_list, ref_list, stiff, xmin, xmax, equlibration_parameters, observable=False)"
   ]
  },
  {
   "cell_type": "code",
   "execution_count": null,
   "id": "1786a4bf-47c2-4def-8ffd-e647da569fe1",
   "metadata": {
    "tags": []
   },
   "outputs": [],
   "source": [
    "simulation_manager.run()"
   ]
  },
  {
   "cell_type": "code",
   "execution_count": null,
   "id": "a1baff80-8ddb-4995-bf95-52dd860dc7ae",
   "metadata": {},
   "outputs": [],
   "source": [
    "us.build_production_runs(simulation_manager, n_windows, com_list, ref_list, stiff, xmin, xmax, production_parameters, observable=True, print_every=1e4, name='com_distance.txt')\n",
    "simulation_manager.run()"
   ]
  },
  {
   "cell_type": "code",
   "execution_count": null,
   "id": "6c725ba3-7eae-4bcb-bac6-a7a0bc899699",
   "metadata": {
    "tags": []
   },
   "outputs": [],
   "source": [
    "wham_dir = os.path.abspath('../wham/wham')\n",
    "n_bins = '200'\n",
    "tol = '1e-5'\n",
    "n_boot = '30'\n",
    "us.wham_run(wham_dir, xmin, xmax, stiff, n_bins, tol, n_boot)"
   ]
  },
  {
   "cell_type": "code",
   "execution_count": null,
   "id": "cc26c618-deb9-40c7-87fb-eb8b86ca8efe",
   "metadata": {},
   "outputs": [],
   "source": [
    "us.plot_free()"
   ]
  },
  {
   "cell_type": "markdown",
   "id": "5e9cb2af-ee2e-4b66-a1ce-d61bd181a595",
   "metadata": {},
   "source": [
    "<font size='6'><a class=\"anchor\" id=\"4\"></a> <h2 align=\"center\"> <font color='black'>Multiple Umbrella Sampling Systems</font></h2> \n",
    "\n",
    "<font size='3'><font color='black'>Utilizing the ComUmbrellaSampling class, we can automatically run 1D umbrella sampling simulations with a COM order parameter.</font>"
   ]
  },
  {
   "cell_type": "code",
   "execution_count": null,
   "id": "e805119d-4354-48ff-893c-96c9a73e6d76",
   "metadata": {},
   "outputs": [],
   "source": [
    "simulation_manager = SimulationManager()\n",
    "simulation_manager.restart_nvidia_cuda_mps_control()"
   ]
  },
  {
   "cell_type": "code",
   "execution_count": null,
   "id": "bfb021d1-d697-498c-91bb-85f4af58bf92",
   "metadata": {},
   "outputs": [],
   "source": [
    "from umbrella_sampling import ComUmbrellaSampling\n",
    "from oxdna_simulation import SimulationManager\n",
    "import os"
   ]
  },
  {
   "cell_type": "code",
   "execution_count": null,
   "id": "7696f209-52cb-40ae-ab9d-a80f104cd7fe",
   "metadata": {},
   "outputs": [],
   "source": [
    "path = os.path.abspath('../ipy_oxdna_examples')\n",
    "system_name = ['rro', 't9', 't20']\n",
    "file_dirs = [f'{path}/{sys}' for sys in system_name]\n",
    "systems = [f'{sys}_umbrella' for sys in system_name]\n",
    "\n",
    "coms_list = ['63,157,64,65,66,67,68,69,70,71,72,73,74,75,76,77,78,79,80,81,82,83,84,85,86,87,88,89,90,91,92,93,94,95,96,97,98,99,100,101,102,103,104,105,106,107,108,109,110,111,112,113,114,115,116,117,118,119,120,121,122,123,124,125,126,127,128,129,130,131,132,133,134,135,136,137,138,139,140,141,142,143,144,145,146,147,148,149,150,151,152,153,154,155,156,6830,6736,6737,6738,6739,6740,6741,6742,6743,6744,6745,6746,6747,6748,6749,6750,6751,6752,6753,6754,6755,6756,6757,6758,6759,6760,6761,6762,6763,6764,6765,6766,6767,6768,6769,6770,6771,6772,6773,6774,6775,6776,6777,6778,6779,6780,6781,6782,6783,6784,6785,6786,6787,6788,6789,6790,6791,6792,6793,6794,6795,6796,6797,6798,6799,6800,6801,6802,6803,6804,6805,6806,6807,6808,6809,6810,6811,6812,6813,6814,6815,6816,6817,6818,6819,6820,6821,6822,6823,6824,6825,6826,6827,6828,6829',\n",
    "            '175,81,82,83,84,85,86,87,88,89,90,91,92,93,94,95,96,97,98,99,100,101,102,103,104,105,106,107,108,109,110,111,112,113,114,115,116,117,118,119,120,121,122,123,124,125,126,127,128,129,130,131,132,133,134,135,136,137,138,139,140,141,142,143,144,145,146,147,148,149,150,151,152,153,154,155,156,157,158,159,160,161,162,163,164,165,166,167,168,169,170,171,172,173,174,6847,6754,6755,6756,6757,6758,6759,6760,6761,6762,6763,6764,6765,6766,6767,6768,6769,6770,6771,6772,6773,6774,6775,6776,6777,6778,6779,6780,6781,6782,6783,6784,6785,6786,6787,6788,6789,6790,6791,6792,6793,6794,6795,6796,6797,6798,6799,6800,6801,6802,6803,6804,6805,6806,6807,6808,6809,6810,6811,6812,6813,6814,6815,6816,6817,6818,6819,6820,6821,6822,6823,6824,6825,6826,6827,6828,6829,6830,6831,6832,6833,6834,6835,6836,6837,6838,6839,6840,6841,6842,6843,6844,6845,6846,6753',\n",
    "            '103,197,104,105,106,107,108,109,110,111,112,113,114,115,116,117,118,119,120,121,122,123,124,125,126,127,128,129,130,131,132,133,134,135,136,137,138,139,140,141,142,143,144,145,146,147,148,149,150,151,152,153,154,155,156,157,158,159,160,161,162,163,164,165,166,167,168,169,170,171,172,173,174,175,176,177,178,179,180,181,182,183,184,185,186,187,188,189,190,191,192,193,194,195,196,6870,6776,6777,6778,6779,6780,6781,6782,6783,6784,6785,6786,6787,6788,6789,6790,6791,6792,6793,6794,6795,6796,6797,6798,6799,6800,6801,6802,6803,6804,6805,6806,6807,6808,6809,6810,6811,6812,6813,6814,6815,6816,6817,6818,6819,6820,6821,6822,6823,6824,6825,6826,6827,6828,6829,6830,6831,6832,6833,6834,6835,6836,6837,6838,6839,6840,6841,6842,6843,6844,6845,6846,6847,6848,6849,6850,6851,6852,6853,6854,6855,6856,6857,6858,6859,6860,6861,6862,6863,6864,6865,6866,6867,6868,6869'\n",
    "           ]\n",
    "            \n",
    "refs_list = ['3455,3510,3456,3457,3458,3459,3460,3461,3462,3463,3464,3465,3466,3467,3468,3469,3470,3471,3472,3473,3474,3475,3476,3477,3478,3479,3480,3481,3482,3483,3484,3485,3486,3487,3488,3489,3490,3491,3492,3493,3494,3495,3496,3497,3498,3499,3500,3501,3502,3503,3504,3505,3506,3507,3508,3509,3447,3448,3449,3450,3451,3452,3453,3454,3541,3511,3512,3513,3514,3515,3516,3517,3518,3519,3520,3521,3522,3523,3524,3525,3526,3527,3528,3529,3530,3531,3532,3533,3534,3535,3536,3537,3538,3539,3540,3352,3353,3354,3355,3356,3357,3358,3359,3360,3361,3362,3363,3364,3365,3366,3367,3368,3369,3370,3371,3372,3373,3374,3375,3376,3377,3378,3379,3380,3381,3382,3383,3384,3385,3386,3387,3388,3389,3390,3391,3392,3393,3394,3395,3396,3397,3398,3399,3400,3401,3402,3403,3404,3405,3406,3407,3408,3409,3410,3411,3412,3413,3414,3415,3416,3417,3418,3419,3420,3421,3422,3423,3424,3425,3426,3427,3428,3429,3430,3431,3432,3433,3434,3435,3436,3437,3438,3439,3440,3441,3442,3443,3444,3445,3446',\n",
    "            '3472,3370,3371,3372,3373,3374,3375,3376,3377,3378,3379,3380,3381,3382,3383,3384,3385,3386,3387,3388,3389,3390,3391,3392,3393,3394,3395,3396,3397,3398,3399,3400,3401,3402,3403,3404,3405,3406,3407,3408,3409,3410,3411,3412,3413,3414,3415,3416,3417,3418,3419,3420,3421,3422,3423,3424,3425,3426,3427,3428,3429,3430,3431,3432,3433,3434,3435,3436,3437,3438,3439,3440,3441,3442,3443,3444,3445,3446,3447,3448,3449,3450,3451,3452,3453,3454,3455,3456,3457,3458,3459,3460,3461,3462,3463,3464,3465,3466,3467,3468,3469,3470,3471,3473,3557,3474,3475,3476,3477,3478,3479,3480,3481,3482,3483,3484,3485,3486,3487,3488,3489,3490,3491,3492,3493,3494,3495,3496,3497,3498,3499,3500,3501,3502,3503,3504,3505,3506,3507,3508,3509,3510,3511,3512,3513,3514,3515,3516,3517,3518,3519,3520,3521,3522,3523,3524,3525,3526,3527,3528,3529,3530,3531,3532,3533,3534,3535,3536,3537,3538,3539,3540,3541,3542,3543,3544,3545,3546,3547,3548,3549,3550,3551,3552,3553,3554,3555,3556,3558,3559',\n",
    "            '3392,3580,3393,3394,3395,3396,3397,3398,3399,3400,3401,3402,3403,3404,3405,3406,3407,3408,3409,3410,3411,3412,3413,3414,3415,3416,3417,3418,3419,3420,3421,3422,3423,3424,3425,3426,3427,3428,3429,3430,3431,3432,3433,3434,3435,3436,3437,3438,3439,3440,3441,3442,3443,3444,3445,3446,3447,3448,3449,3450,3451,3452,3453,3454,3455,3456,3457,3458,3459,3460,3461,3462,3463,3464,3465,3466,3467,3468,3469,3470,3471,3472,3473,3474,3475,3476,3477,3478,3479,3480,3481,3482,3483,3484,3485,3486,3487,3488,3489,3490,3491,3492,3493,3494,3495,3496,3497,3498,3499,3500,3501,3502,3503,3504,3505,3506,3507,3508,3509,3510,3511,3512,3513,3514,3515,3516,3517,3518,3519,3520,3521,3522,3523,3524,3525,3526,3527,3528,3529,3530,3531,3532,3533,3534,3535,3536,3537,3538,3539,3540,3541,3542,3543,3544,3545,3546,3547,3548,3549,3550,3551,3552,3553,3554,3555,3556,3557,3558,3559,3560,3561,3562,3563,3564,3565,3566,3567,3568,3569,3570,3571,3572,3573,3574,3575,3576,3577,3578,3579,3581'\n",
    "           ]\n",
    "            \n",
    "\n",
    "stiff = 0.2\n",
    "xmin = 0\n",
    "xmax = 72.787\n",
    "n_windows = 100\n",
    "\n",
    "equlibration_parameters = {'steps':'1e7', 'print_energy_every': '1e6', 'print_conf_interval':'1e7'}\n",
    "production_parameters = {'steps':'2e7', 'print_energy_every': '2e7', 'print_conf_interval':'2e7'}\n",
    "\n",
    "us_list = [ComUmbrellaSampling(file_dir, sys) for file_dir, system in zip(file_dirs,systems)]\n",
    "\n",
    "simulation_manager = SimulationManager()"
   ]
  },
  {
   "cell_type": "code",
   "execution_count": null,
   "id": "7017d055-c291-4474-8112-d2b72f64cf83",
   "metadata": {},
   "outputs": [],
   "source": [
    "for us in us_list:\n",
    "    us.build_equlibration_runs(simulation_manager, windows, com_list, ref_list, stiff, xmin, xmax, equlibration_parameters, observable=False)\n",
    "simulation_manager.run()\n",
    "\n",
    "for us in us_list:\n",
    "    us.build_production_runs(simulation_manager, windows, com_list, ref_list, stiff, xmin, xmax, production_parameters, observable=True, print_every=1e4, name='com_distance.txt')\n",
    "simulation_manager.run()"
   ]
  }
 ],
 "metadata": {
  "kernelspec": {
   "display_name": "oxdna",
   "language": "python",
   "name": "oxdna"
  },
  "language_info": {
   "codemirror_mode": {
    "name": "ipython",
    "version": 3
   },
   "file_extension": ".py",
   "mimetype": "text/x-python",
   "name": "python",
   "nbconvert_exporter": "python",
   "pygments_lexer": "ipython3",
   "version": "3.10.9"
  }
 },
 "nbformat": 4,
 "nbformat_minor": 5
}
