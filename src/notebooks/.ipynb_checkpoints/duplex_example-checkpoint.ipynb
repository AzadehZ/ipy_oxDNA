{
 "cells": [
  {
   "cell_type": "markdown",
   "id": "b3921e85-29c2-4cb1-9b75-6d529f041630",
   "metadata": {},
   "source": [
    "<font size='10'><h1 align=\"center\"><font color='blue'>iPy oxDNA Examples</font></h1>"
   ]
  },
  {
   "cell_type": "markdown",
   "id": "1e81dec7-5371-4bbd-a950-fb772418cb91",
   "metadata": {},
   "source": [
    "<center>\n",
    "<img src=\"oxDNA.png\">\n",
    "</center>"
   ]
  },
  {
   "cell_type": "markdown",
   "id": "1008a483-a062-443d-ae75-08cbc7905550",
   "metadata": {},
   "source": [
    "<font size='6'><a class=\"anchor\" id=\"3\"></a> <h2 align=\"center\"> <font color='black'>Umbrella Sampling</font></h2> \n",
    "\n",
    "<font size='3'><font color='black'>Utilizing the ComUmbrellaSampling class, we can automatically run 1D umbrella sampling simulations with a COM order parameter.</font>"
   ]
  },
  {
   "cell_type": "code",
   "execution_count": null,
   "id": "f629cb95-c1e5-4d18-8096-5f72f4525f5e",
   "metadata": {},
   "outputs": [],
   "source": [
    "from umbrella_sampling import ComUmbrellaSampling, MeltingUmbrellaSampling\n",
    "from oxdna_simulation import SimulationManager, Simulation, Observable\n",
    "import os\n",
    "import matplotlib.pyplot as plt"
   ]
  },
  {
   "cell_type": "code",
   "execution_count": null,
   "id": "d7bfbda8-c970-4a59-a18e-62c1cb28c1c1",
   "metadata": {},
   "outputs": [],
   "source": [
    "simulation_manager = SimulationManager() \n",
    "simulation_manager.start_nvidia_cuda_mps_control(pipe='temp')"
   ]
  },
  {
   "cell_type": "code",
   "execution_count": null,
   "id": "eb335b0d-2be0-4dc0-ab75-2090e65b657b",
   "metadata": {},
   "outputs": [],
   "source": [
    "path = os.path.abspath('/scratch/mlsample/ipy_oxDNA/ipy_oxdna_examples')\n",
    "file_dir = f'{path}/duplex_melting'\n",
    "sim_dir = f'{file_dir}/unbiased'\n",
    "\n",
    "sim = Simulation(file_dir, sim_dir)"
   ]
  },
  {
   "cell_type": "code",
   "execution_count": null,
   "id": "cdb4b816-1290-40cd-a0e5-9c2637cdd5e8",
   "metadata": {},
   "outputs": [],
   "source": [
    "sim.build(clean_build='force')\n",
    "sim.input_file({'steps':'1e7','print_energy_every': '1e6', 'print_conf_interval':'1e6', \"CUDA_list\": \"no\", 'use_edge': 'false'})\n",
    "sim.oxpy_run.run(subprocess=True)"
   ]
  },
  {
   "cell_type": "code",
   "execution_count": null,
   "id": "02c53134-6edf-4027-a442-384b3fc6928a",
   "metadata": {
    "tags": []
   },
   "outputs": [],
   "source": [
    "sim.analysis.plot_energy()\n",
    "sim.analysis.view_init()"
   ]
  },
  {
   "cell_type": "code",
   "execution_count": null,
   "id": "47505920-3803-4f54-9b7f-f8c1145c8fa8",
   "metadata": {},
   "outputs": [],
   "source": [
    "path = os.path.abspath('/scratch/mlsample/ipy_oxDNA/ipy_oxdna_examples')\n",
    "file_dir = f'{path}/duplex_melting'\n",
    "system = 'us_melting'\n",
    "\n",
    "com_list = '8,9,10,11,12,13,14,15'\n",
    "ref_list = '0,1,2,3,4,5,6,7'\n",
    "xmin = 0\n",
    "xmax = 8\n",
    "n_windows = 95\n",
    "\n",
    "stiff = 0.8\n",
    "\n",
    "equlibration_parameters = {'steps':'1e6','print_energy_every': '5e6',\n",
    "                           'print_conf_interval':'5e6', \"CUDA_list\": \"no\",\n",
    "                           'use_edge': 'false', 'refresh_vel': '1',\n",
    "                           'fix_diffusion': '0', 'fix_diffusion_every': '1000'\n",
    "                          }\n",
    "\n",
    "production_parameters ={'steps':'1e7','print_energy_every': '2e7',\n",
    "                        'print_conf_interval':'2e7', \"CUDA_list\": \"no\",\n",
    "                        'use_edge': 'false', 'refresh_vel': '1',\n",
    "                        'fix_diffusion': '0', 'fix_diffusion_every': '1000'\n",
    "                        }\n",
    "\n",
    "us = MeltingUmbrellaSampling(file_dir, system)\n",
    "simulation_manager = SimulationManager()"
   ]
  },
  {
   "cell_type": "code",
   "execution_count": null,
   "id": "2620c3e4-0827-45cd-a8e3-4ed243f3ad41",
   "metadata": {
    "tags": []
   },
   "outputs": [],
   "source": [
    "us.build_equlibration_runs(simulation_manager, n_windows, com_list, ref_list, stiff, xmin, xmax, equlibration_parameters,\n",
    "                           observable=True, sequence_dependant=True, print_every=1e3, name='com_distance.txt')"
   ]
  },
  {
   "cell_type": "code",
   "execution_count": null,
   "id": "e874d5bb-1ec0-4933-aeff-510584c4c56c",
   "metadata": {
    "tags": []
   },
   "outputs": [],
   "source": [
    "simulation_manager.run()"
   ]
  },
  {
   "cell_type": "code",
   "execution_count": null,
   "id": "d5b5fc79-21be-4af9-be11-0d3024e35522",
   "metadata": {},
   "outputs": [],
   "source": [
    "us.build_production_runs(simulation_manager, n_windows, com_list, ref_list, stiff, xmin, xmax, production_parameters,\n",
    "                           observable=True, sequence_dependant=True, print_every=1e3, name='com_distance.txt')"
   ]
  },
  {
   "cell_type": "code",
   "execution_count": null,
   "id": "ab6325d1-025d-4ef3-82ff-b7378b383252",
   "metadata": {
    "tags": []
   },
   "outputs": [],
   "source": [
    "simulation_manager.run()"
   ]
  },
  {
   "cell_type": "code",
   "execution_count": null,
   "id": "8101f548-bfaf-4905-9fac-1055bccd7fbb",
   "metadata": {
    "tags": []
   },
   "outputs": [],
   "source": [
    "us.analysis.view_conf('eq', 46)"
   ]
  },
  {
   "cell_type": "code",
   "execution_count": null,
   "id": "d5fc8d79-e198-4562-b82d-d545a5ae4ddf",
   "metadata": {
    "tags": []
   },
   "outputs": [],
   "source": [
    "us.com_distance_observable(com_list, ref_list)\n",
    "us.hb_list_observable(print_every=1e3)\n",
    "plt.figure(dpi=200)\n",
    "for idx in range(93,95,1):\n",
    "    us.analysis.hist_observable('prod', idx, observable=us.observables_list[0], bins=200)#, sliding_window=5)\n",
    "# plt.legend(fontsize=4)"
   ]
  },
  {
   "cell_type": "code",
   "execution_count": null,
   "id": "6ac137c1-689e-4f2e-a524-2fc182ee5122",
   "metadata": {
    "tags": []
   },
   "outputs": [],
   "source": [
    "for idx in range(0,48):\n",
    "    print(idx)\n",
    "    us.equlibration_sims[idx].sim_files.last_conf"
   ]
  },
  {
   "cell_type": "code",
   "execution_count": null,
   "id": "6a3a5730-70bc-494a-a4d3-68c74c783489",
   "metadata": {},
   "outputs": [],
   "source": [
    "us.analysis.view_conf('eq', 13)"
   ]
  },
  {
   "cell_type": "code",
   "execution_count": null,
   "id": "defef66e-3e6e-4f3d-b521-fff04e107d4b",
   "metadata": {},
   "outputs": [],
   "source": [
    "wham_dir = os.path.abspath('/scratch/mlsample/ipy_oxDNA/wham/wham')\n",
    "n_bins = '200'\n",
    "tol = '1e-7'\n",
    "n_boot = '30'\n",
    "us.wham_run(wham_dir, xmin, xmax, stiff, n_bins, tol, n_boot)"
   ]
  },
  {
   "cell_type": "code",
   "execution_count": null,
   "id": "f7c1b071-5b8a-4050-87bd-401cea9fab85",
   "metadata": {},
   "outputs": [],
   "source": [
    "us.plot_free()"
   ]
  },
  {
   "cell_type": "code",
   "execution_count": null,
   "id": "1667138b-a9d1-4961-ab5d-d0ed5157644a",
   "metadata": {},
   "outputs": [],
   "source": [
    "path = os.path.abspath('/scratch/mlsample/ipy_oxDNA/ipy_oxdna_examples')\n",
    "file_dir = f'{path}/duplex_melting'\n",
    "systems = ['us_melting_10', 'us_melting', 'us_melting_30','us_melting_40']\n",
    "\n",
    "us_list = [MeltingUmbrellaSampling(file_dir, system) for system in systems]"
   ]
  },
  {
   "cell_type": "code",
   "execution_count": null,
   "id": "a3e78e08-1c81-4bf2-b5ae-cebed436278b",
   "metadata": {},
   "outputs": [],
   "source": [
    "us_list[0].fig_ax()\n",
    "\n",
    "for us in us_list:\n",
    "    us.plot_free(ax=us_list[0].ax)\n",
    "plt.legend([f'{10 + 273}K', f'{20 + 273}K', f'{30 + 273}K', f'{40 + 273}K'])\n",
    "plt.title('8nt Duplex Melting Free Energy Profile')\n",
    "plt.xlabel('COM Distance (nm)')"
   ]
  },
  {
   "cell_type": "code",
   "execution_count": null,
   "id": "0e7b16e8-d483-42c8-a7f7-18300c4d0b03",
   "metadata": {},
   "outputs": [],
   "source": [
    "import pandas as pd\n",
    "import numpy as np"
   ]
  },
  {
   "cell_type": "code",
   "execution_count": null,
   "id": "7c8fa913-eac6-4945-becb-1d2a8b4446cc",
   "metadata": {},
   "outputs": [],
   "source": [
    "free = pd.read_csv(f'{us.system_dir}/production/com_dir/freefile', sep='\\t')"
   ]
  },
  {
   "cell_type": "code",
   "execution_count": null,
   "id": "4b489a85-e2e1-4b6a-a095-0cb5d2e42721",
   "metadata": {},
   "outputs": [],
   "source": [
    "free_vals = free.iloc[-95:].Free"
   ]
  },
  {
   "cell_type": "code",
   "execution_count": null,
   "id": "6bb07e1b-47d2-4077-9bdf-8999d66b17a0",
   "metadata": {},
   "outputs": [],
   "source": [
    "free_vals.iloc[1:]"
   ]
  },
  {
   "cell_type": "code",
   "execution_count": null,
   "id": "d6f3e104-271d-4eab-8b2b-484bab9eaf0c",
   "metadata": {
    "tags": []
   },
   "outputs": [],
   "source": [
    "H_vals = np.zeros(94)\n",
    "us.hb_list_observable(print_every=1e3)\n",
    "for idx, sim in enumerate(us.production_sims):\n",
    "    sim_dir = sim.sim_dir\n",
    "    file_name = us.observables_list[1]['output']['name']\n",
    "    df = pd.read_csv(f\"{sim_dir}/{file_name}\", header=None)\n",
    "    df = np.concatenate(np.array(df))\n",
    "    H, bins = np.histogram(df, density=False, bins=np.linspace(0, 8, 95))\n",
    "    H_vals += H"
   ]
  },
  {
   "cell_type": "code",
   "execution_count": null,
   "id": "2cde587c-5ca0-45cd-af38-ef5245b47b6f",
   "metadata": {},
   "outputs": [],
   "source": [
    "prob_H = H_vals / sum(H_vals)"
   ]
  },
  {
   "cell_type": "code",
   "execution_count": null,
   "id": "810126d7-f503-4116-8db3-a65e80d0e336",
   "metadata": {},
   "outputs": [],
   "source": [
    "plt.plot(bins[:-1], -np.log(prob_H))"
   ]
  },
  {
   "cell_type": "code",
   "execution_count": null,
   "id": "17f76af0-7840-4f48-b1d8-bcdc2f27c30d",
   "metadata": {},
   "outputs": [],
   "source": []
  },
  {
   "cell_type": "code",
   "execution_count": null,
   "id": "c2e081ee-ebd4-4a48-9f7b-dea2972c6f21",
   "metadata": {},
   "outputs": [],
   "source": [
    "file_name = us.observables_list[0]['output']['name']"
   ]
  }
 ],
 "metadata": {
  "kernelspec": {
   "display_name": "oxdna",
   "language": "python",
   "name": "oxdna"
  },
  "language_info": {
   "codemirror_mode": {
    "name": "ipython",
    "version": 3
   },
   "file_extension": ".py",
   "mimetype": "text/x-python",
   "name": "python",
   "nbconvert_exporter": "python",
   "pygments_lexer": "ipython3",
   "version": "3.10.9"
  }
 },
 "nbformat": 4,
 "nbformat_minor": 5
}
