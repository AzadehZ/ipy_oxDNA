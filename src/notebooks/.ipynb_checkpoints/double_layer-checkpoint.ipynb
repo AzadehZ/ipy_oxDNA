{
 "cells": [
  {
   "cell_type": "markdown",
   "id": "b3921e85-29c2-4cb1-9b75-6d529f041630",
   "metadata": {},
   "source": [
    "<font size='10'><h1 align=\"center\"><font color='blue'>iPy oxDNA Examples</font></h1>"
   ]
  },
  {
   "cell_type": "markdown",
   "id": "1e81dec7-5371-4bbd-a950-fb772418cb91",
   "metadata": {},
   "source": [
    "<center>\n",
    "<img src=\"oxDNA.png\">\n",
    "</center>"
   ]
  },
  {
   "cell_type": "markdown",
   "id": "47ba7526-8339-410a-aaca-67895415232c",
   "metadata": {
    "tags": []
   },
   "source": [
    "# <font color='black'>Table of contents<font><a class='anchor' id='top'></a>\n",
    "- [Build and Run a oxDNA Simulation](#1)\n",
    "- [Run Multiple Simulations in Parallel](#2)\n",
    "- [Umbrella Sampling](#3)"
   ]
  },
  {
   "cell_type": "markdown",
   "id": "1008a483-a062-443d-ae75-08cbc7905550",
   "metadata": {},
   "source": [
    "<font size='6'><a class=\"anchor\" id=\"3\"></a> <h2 align=\"center\"> <font color='black'>Umbrella Sampling</font></h2> \n",
    "\n",
    "<font size='3'><font color='black'>Utilizing the ComUmbrellaSampling class, we can automatically run 1D umbrella sampling simulations with a COM order parameter.</font>"
   ]
  },
  {
   "cell_type": "code",
   "execution_count": null,
   "id": "f629cb95-c1e5-4d18-8096-5f72f4525f5e",
   "metadata": {},
   "outputs": [],
   "source": [
    "from umbrella_sampling import ComUmbrellaSampling\n",
    "from oxdna_simulation import SimulationManager, Simulation\n",
    "import os"
   ]
  },
  {
   "cell_type": "code",
   "execution_count": null,
   "id": "834590ea-b85b-4633-8670-95ce744890e8",
   "metadata": {},
   "outputs": [],
   "source": [
    "simulation_manager = SimulationManager()\n",
    "simulation_manager.restart_nvidia_cuda_mps_control()"
   ]
  },
  {
   "cell_type": "code",
   "execution_count": null,
   "id": "0695744b-d30b-46de-a38a-1977fd9e47ca",
   "metadata": {},
   "outputs": [],
   "source": [
    "path = os.path.abspath('../ipy_oxdna_examples')\n",
    "file_dir = f'{path}/double_layer'\n",
    "sim_dir = f'{file_dir}/unbiased_equlibration'\n",
    "\n",
    "sim = Simulation(file_dir, sim_dir)\n",
    "sim.build(clean_build='force')\n",
    "sim.input_file({'steps':'1e7'})\n",
    "sim.oxpy_run.run()\n"
   ]
  },
  {
   "cell_type": "code",
   "execution_count": null,
   "id": "b013dda1-9776-4f78-b3ea-8349663bd8e6",
   "metadata": {},
   "outputs": [],
   "source": [
    "sim.oxpy_run.process.terminate()"
   ]
  },
  {
   "cell_type": "code",
   "execution_count": null,
   "id": "46e07e6c-7fef-4434-8d8e-ffd192df4e2b",
   "metadata": {
    "tags": []
   },
   "outputs": [],
   "source": [
    "path = os.path.abspath('../ipy_oxdna_examples')\n",
    "file_dir = f'{path}/double_layer'\n",
    "system = 'umbrella_final'\n",
    "\n",
    "com_list = '3473,3474,3475,3476,3477,3478,3479,3480,3481,3482,3483,3484,3485,3486,3487,3488,3489,3490,3491,3492,3493,3494,3495,3496,3497,3498,3499,3500,3501,3502,3503,3504,3505,3506,3507,3508,3509,3510,3511,3512,3513,3514,3515,3516,3517,3518,3519,3520,3521,3522,3523,3524,3525,3526,3527,3528,3529,3530,3531,3532,3533,3534,3535,3536,3537,3538,3539,3540,3541,3542,3543,3544,3545,3546,3547,3548,3549,3550,3551,3552,3553,3554,3555,3556,3557,3558,3559,3560,3561,3562,3563,3564,3565,3566,3567,3568,3569,3570,3571,3572,3573,3574,3575,3576,3577,3578,3579,3580,3581,3582,3583,3584,3585,3586,3587,3588,3589,3590,3591,3592,3593,3594,3595,3596,3597,3598,3599,3600,3601,3602,3603,3604'\n",
    "ref_list = '6913,6914,6915,6916,6917,6918,6919,6920,6921,6922,6923,6924,6925,6926,6927,6928,6929,6930,6931,6932,6933,6934,6935,6936,6937,6938,6939,6940,6941,6942,6943,6944,6945,6946,6947,6948,6949,6950,6951,6952,6953,6954,6955,6956,6957,6958,6959,6960,6961,6962,6963,6964,6965,6966,6967,6968,6969,6970,6971,6972,6973,6974,6975,6976,6977,6978,6979,6980,6981,6982,6983,6984,6985,6986,6987,6988,6989,6990,6991,6992,6993,6994,6995,6996,6997,6998,6999,7000,7001,7002,7003,7004,7005,7006,7007,7008,7009,7010,7011,7012,7013,7014,7015,7016,7017,7018,7019,7020,7021,7022,7023,7024,7025,7026,7027,7028,7029,7030,7031,7032,7033,7034,7035,7036,7037,7038,7039,7040,7041,7042,7043,7044'\n",
    "\n",
    "xmin = 0\n",
    "xmax = 72.787\n",
    "n_windows = 100\n",
    "\n",
    "stiff = 0.2\n",
    "\n",
    "\n",
    "equlibration_parameters = {'steps':'1e7', 'T':'20C', 'print_energy_every': '1e7', 'print_conf_interval':'1e7', 'max_density_multiplier':'1.5'}\n",
    "production_parameters = {'steps':'2e7', 'T':'20C', 'print_energy_every': '2e7', 'print_conf_interval':'2e7', 'max_density_multiplier':'1.5'}\n",
    "\n",
    "us = ComUmbrellaSampling(file_dir, system)\n",
    "simulation_manager = SimulationManager()"
   ]
  },
  {
   "cell_type": "code",
   "execution_count": null,
   "id": "3d8ae377-4162-4113-97df-68691ed3419b",
   "metadata": {
    "tags": []
   },
   "outputs": [],
   "source": [
    "us.analysis.view_conf('prod', 40)"
   ]
  },
  {
   "cell_type": "code",
   "execution_count": null,
   "id": "7b4a5157-0419-4fa0-a4e4-1d8f9cddba91",
   "metadata": {
    "tags": []
   },
   "outputs": [],
   "source": [
    "us.build_equlibration_runs(simulation_manager, n_windows, com_list, ref_list, stiff, xmin, xmax, equlibration_parameters, observable=False, print_every=1e4, continue_run=False)"
   ]
  },
  {
   "cell_type": "code",
   "execution_count": null,
   "id": "2d5abb8a-3263-40e8-a212-f72630750bb6",
   "metadata": {
    "tags": []
   },
   "outputs": [],
   "source": [
    "simulation_manager.run()"
   ]
  },
  {
   "cell_type": "code",
   "execution_count": null,
   "id": "3c36bcc7-f09b-4e57-9ec5-f52ef30584d7",
   "metadata": {
    "tags": []
   },
   "outputs": [],
   "source": [
    "us.build_production_runs(simulation_manager, n_windows, com_list, ref_list, stiff, xmin, xmax, production_parameters, observable=True, print_every=1e4, name='com_distance.txt')"
   ]
  },
  {
   "cell_type": "code",
   "execution_count": null,
   "id": "d6f3e104-271d-4eab-8b2b-484bab9eaf0c",
   "metadata": {
    "tags": []
   },
   "outputs": [],
   "source": [
    "simulation_manager.run()"
   ]
  },
  {
   "cell_type": "code",
   "execution_count": null,
   "id": "6c725ba3-7eae-4bcb-bac6-a7a0bc899699",
   "metadata": {
    "tags": []
   },
   "outputs": [],
   "source": [
    "wham_dir = os.path.abspath('../wham/wham')\n",
    "n_bins = '200'\n",
    "tol = '1e-5'\n",
    "n_boot = '30'\n",
    "us.wham_run(wham_dir, xmin, xmax, stiff, n_bins, tol, n_boot)"
   ]
  },
  {
   "cell_type": "code",
   "execution_count": null,
   "id": "0b26e94d-6ee4-45d9-a3bb-51a64661c5a0",
   "metadata": {},
   "outputs": [],
   "source": [
    "import matplotlib.pyplot as plt\n",
    "us.plot_free()\n",
    "plt.ylim(-0.5, 25)"
   ]
  },
  {
   "cell_type": "markdown",
   "id": "5e9cb2af-ee2e-4b66-a1ce-d61bd181a595",
   "metadata": {},
   "source": [
    "<font size='6'><a class=\"anchor\" id=\"4\"></a> <h2 align=\"center\"> <font color='black'>Multiple Umbrella Sampling Systems</font></h2> \n",
    "\n",
    "<font size='3'><font color='black'>Utilizing the ComUmbrellaSampling class, we can automatically run 1D umbrella sampling simulations with a COM order parameter.</font>"
   ]
  },
  {
   "cell_type": "code",
   "execution_count": null,
   "id": "e805119d-4354-48ff-893c-96c9a73e6d76",
   "metadata": {},
   "outputs": [],
   "source": [
    "simulation_manager = SimulationManager()\n",
    "simulation_manager.restart_nvidia_cuda_mps_control()\n",
    "del simulation_manager"
   ]
  },
  {
   "cell_type": "code",
   "execution_count": null,
   "id": "bfb021d1-d697-498c-91bb-85f4af58bf92",
   "metadata": {},
   "outputs": [],
   "source": [
    "from umbrella_sampling import ComUmbrellaSampling\n",
    "from oxdna_simulation import SimulationManager\n",
    "import os"
   ]
  },
  {
   "cell_type": "code",
   "execution_count": null,
   "id": "7696f209-52cb-40ae-ab9d-a80f104cd7fe",
   "metadata": {},
   "outputs": [],
   "source": [
    "path = os.path.abspath('../ipy_oxdna_examples')\n",
    "file_dir = f'{path}/rro'\n",
    "systems = [f'den_bench_{n_cpus}' for n_cpus in [1, 2, 5, 10, 15, 20, 30, 40]]\n",
    "\n",
    "com_list = '63,157,64,65,66,67,68,69,70,71,72,73,74,75,76,77,78,79,80,81,82,83,84,85,86,87,88,89,90,91,92,93,94,95,96,97,98,99,100,101,102,103,104,105,106,107,108,109,110,111,112,113,114,115,116,117,118,119,120,121,122,123,124,125,126,127,128,129,130,131,132,133,134,135,136,137,138,139,140,141,142,143,144,145,146,147,148,149,150,151,152,153,154,155,156,6830,6736,6737,6738,6739,6740,6741,6742,6743,6744,6745,6746,6747,6748,6749,6750,6751,6752,6753,6754,6755,6756,6757,6758,6759,6760,6761,6762,6763,6764,6765,6766,6767,6768,6769,6770,6771,6772,6773,6774,6775,6776,6777,6778,6779,6780,6781,6782,6783,6784,6785,6786,6787,6788,6789,6790,6791,6792,6793,6794,6795,6796,6797,6798,6799,6800,6801,6802,6803,6804,6805,6806,6807,6808,6809,6810,6811,6812,6813,6814,6815,6816,6817,6818,6819,6820,6821,6822,6823,6824,6825,6826,6827,6828,6829'\n",
    "ref_list = '3455,3510,3456,3457,3458,3459,3460,3461,3462,3463,3464,3465,3466,3467,3468,3469,3470,3471,3472,3473,3474,3475,3476,3477,3478,3479,3480,3481,3482,3483,3484,3485,3486,3487,3488,3489,3490,3491,3492,3493,3494,3495,3496,3497,3498,3499,3500,3501,3502,3503,3504,3505,3506,3507,3508,3509,3447,3448,3449,3450,3451,3452,3453,3454,3541,3511,3512,3513,3514,3515,3516,3517,3518,3519,3520,3521,3522,3523,3524,3525,3526,3527,3528,3529,3530,3531,3532,3533,3534,3535,3536,3537,3538,3539,3540,3352,3353,3354,3355,3356,3357,3358,3359,3360,3361,3362,3363,3364,3365,3366,3367,3368,3369,3370,3371,3372,3373,3374,3375,3376,3377,3378,3379,3380,3381,3382,3383,3384,3385,3386,3387,3388,3389,3390,3391,3392,3393,3394,3395,3396,3397,3398,3399,3400,3401,3402,3403,3404,3405,3406,3407,3408,3409,3410,3411,3412,3413,3414,3415,3416,3417,3418,3419,3420,3421,3422,3423,3424,3425,3426,3427,3428,3429,3430,3431,3432,3433,3434,3435,3436,3437,3438,3439,3440,3441,3442,3443,3444,3445,3446'\n",
    "\n",
    "stiff = 0.2\n",
    "xmin = 0\n",
    "xmax = 72.787\n",
    "n_windows = [n_cpus for n_cpus in [1, 2, 5, 10, 15, 20, 30, 40]]\n",
    "\n",
    "equlibration_parameters = {'steps':'2e5', 'print_energy_every': '2e5', 'print_conf_interval':'2e5', 'max_density_multiplier':'2'}\n",
    "production_parameters = {'steps':'2e5', 'print_energy_every': '2e5', 'print_conf_interval':'2e5'}\n",
    "\n",
    "us_list = [ComUmbrellaSampling(file_dir, system) for system in systems]\n",
    "\n",
    "simulation_managers = [SimulationManager(n_processes=n_cpus) for n_cpus in [1, 2, 5, 10, 15, 20, 30, 40]]"
   ]
  },
  {
   "cell_type": "code",
   "execution_count": null,
   "id": "7017d055-c291-4474-8112-d2b72f64cf83",
   "metadata": {},
   "outputs": [],
   "source": [
    "for us, simulation_manager, windows in zip(us_list, simulation_managers, n_windows):\n",
    "    us.build_equlibration_runs(simulation_manager, windows, com_list, ref_list, stiff, xmin, xmax, equlibration_parameters, observable=False, print_every=1e4, name='com_distance.txt')"
   ]
  },
  {
   "cell_type": "code",
   "execution_count": null,
   "id": "01561269-5db4-4110-821a-18c6b7baaad9",
   "metadata": {
    "tags": []
   },
   "outputs": [],
   "source": [
    "for simulation_manager in simulation_managers:\n",
    "    simulation_manager.worker_manager(gpu_mem_block=False)"
   ]
  },
  {
   "cell_type": "code",
   "execution_count": null,
   "id": "22f3e1e1-9100-42af-95a0-01fa9a6cdab4",
   "metadata": {},
   "outputs": [],
   "source": [
    "for us, simulation_manager, windows in zip(us_list, simulation_managers, n_windows):\n",
    "    us.build_production_runs(simulation_manager, windows, com_list, ref_list, stiff, xmin, xmax, equlibration_parameters, observable=True, print_every=1e4, name='com_distance.txt')"
   ]
  },
  {
   "cell_type": "code",
   "execution_count": null,
   "id": "7514ce9b-ab6d-4809-87d2-d2ce981e8c8d",
   "metadata": {},
   "outputs": [],
   "source": [
    "for simulation_manager in simulation_managers:\n",
    "    simulation_manager.worker_manager(gpu_mem_block=False)"
   ]
  }
 ],
 "metadata": {
  "kernelspec": {
   "display_name": "oxdna",
   "language": "python",
   "name": "oxdna"
  },
  "language_info": {
   "codemirror_mode": {
    "name": "ipython",
    "version": 3
   },
   "file_extension": ".py",
   "mimetype": "text/x-python",
   "name": "python",
   "nbconvert_exporter": "python",
   "pygments_lexer": "ipython3",
   "version": "3.10.9"
  }
 },
 "nbformat": 4,
 "nbformat_minor": 5
}
