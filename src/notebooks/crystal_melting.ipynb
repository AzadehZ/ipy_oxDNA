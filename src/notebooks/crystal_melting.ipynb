{
 "cells": [
  {
   "cell_type": "markdown",
   "id": "b3921e85-29c2-4cb1-9b75-6d529f041630",
   "metadata": {},
   "source": [
    "<font size='10'><h1 align=\"center\"><font color='blue'>iPy oxDNA Examples</font></h1>"
   ]
  },
  {
   "cell_type": "markdown",
   "id": "1e81dec7-5371-4bbd-a950-fb772418cb91",
   "metadata": {},
   "source": [
    "<center>\n",
    "<img src=\"oxDNA.png\">\n",
    "</center>"
   ]
  },
  {
   "cell_type": "markdown",
   "id": "1008a483-a062-443d-ae75-08cbc7905550",
   "metadata": {},
   "source": [
    "<font size='6'><a class=\"anchor\" id=\"3\"></a> <h2 align=\"center\"> <font color='black'>Umbrella Sampling</font></h2> \n",
    "\n",
    "<font size='3'><font color='black'>Utilizing the ComUmbrellaSampling class, we can automatically run 1D umbrella sampling simulations with a COM order parameter.</font>"
   ]
  },
  {
   "cell_type": "code",
   "execution_count": null,
   "id": "f629cb95-c1e5-4d18-8096-5f72f4525f5e",
   "metadata": {},
   "outputs": [],
   "source": [
    "from umbrella_sampling import ComUmbrellaSampling, MeltingUmbrellaSampling\n",
    "from oxdna_simulation import SimulationManager, Simulation, Observable\n",
    "import os\n",
    "import matplotlib.pyplot as plt"
   ]
  },
  {
   "cell_type": "code",
   "execution_count": null,
   "id": "d7bfbda8-c970-4a59-a18e-62c1cb28c1c1",
   "metadata": {},
   "outputs": [],
   "source": [
    "simulation_manager = SimulationManager() \n",
    "simulation_manager.start_nvidia_cuda_mps_control(pipe='temp')"
   ]
  },
  {
   "cell_type": "code",
   "execution_count": null,
   "id": "eb335b0d-2be0-4dc0-ab75-2090e65b657b",
   "metadata": {},
   "outputs": [],
   "source": [
    "path = os.path.abspath('/scratch/mlsample/ipy_oxDNA/ipy_oxdna_examples')\n",
    "file_dir = f'{path}/ico_melting_centered'\n",
    "sim_dir = f'{file_dir}/unbiased'\n",
    "\n",
    "sim = Simulation(file_dir, sim_dir)"
   ]
  },
  {
   "cell_type": "code",
   "execution_count": null,
   "id": "cdb4b816-1290-40cd-a0e5-9c2637cdd5e8",
   "metadata": {},
   "outputs": [],
   "source": [
    "sim.build(clean_build='force')\n",
    "sim.input_file({'steps':'1e5','print_energy_every': '2e4', 'print_conf_interval':'2e4'})\n",
    "sim.sequence_dependant()\n",
    "sim.oxpy_run.run(subprocess=False)"
   ]
  },
  {
   "cell_type": "code",
   "execution_count": null,
   "id": "02c53134-6edf-4027-a442-384b3fc6928a",
   "metadata": {
    "tags": []
   },
   "outputs": [],
   "source": [
    "sim.analysis.plot_energy()\n",
    "sim.analysis.view_last()"
   ]
  },
  {
   "cell_type": "code",
   "execution_count": null,
   "id": "47505920-3803-4f54-9b7f-f8c1145c8fa8",
   "metadata": {},
   "outputs": [],
   "source": [
    "path = os.path.abspath('/scratch/mlsample/ipy_oxDNA/ipy_oxdna_examples')\n",
    "file_dir = f'{path}/ico_melting_centered'\n",
    "system = 'us_xmax_10_16'\n",
    "\n",
    "com_list = '4240,4232,4233,4234,4235,4236,4237,4238,4239'\n",
    "ref_list = '12298,12290,12291,12292,12293,12294,12295,12296,12297'\n",
    "xmin = 0\n",
    "xmax = 10\n",
    "n_windows = 95\n",
    "\n",
    "stiff = 0.8\n",
    "\n",
    "equlibration_parameters = {'steps':'1e7','print_energy_every': '1e7',\n",
    "                           'print_conf_interval':'1e7', \n",
    "                           'fix_diffusion': '0', 'fix_diffusion_every': '1000'\n",
    "                          }\n",
    "\n",
    "production_parameters ={'steps':'5e7', 'print_energy_every': '5e7',\n",
    "                        'print_conf_interval':'5e7',\n",
    "                        'fix_diffusion': '0', 'fix_diffusion_every': '1000'\n",
    "                       }\n",
    "\n",
    "us = MeltingUmbrellaSampling(file_dir, system)\n",
    "simulation_manager = SimulationManager()"
   ]
  },
  {
   "cell_type": "code",
   "execution_count": null,
   "id": "2620c3e4-0827-45cd-a8e3-4ed243f3ad41",
   "metadata": {
    "tags": []
   },
   "outputs": [],
   "source": [
    "us.build_equlibration_runs(simulation_manager, n_windows, com_list, ref_list, stiff, xmin, xmax, equlibration_parameters,\n",
    "                           observable=True, sequence_dependant=True, print_every=1e3)"
   ]
  },
  {
   "cell_type": "code",
   "execution_count": null,
   "id": "e874d5bb-1ec0-4933-aeff-510584c4c56c",
   "metadata": {
    "tags": []
   },
   "outputs": [],
   "source": [
    "simulation_manager.run()"
   ]
  },
  {
   "cell_type": "code",
   "execution_count": null,
   "id": "d5b5fc79-21be-4af9-be11-0d3024e35522",
   "metadata": {},
   "outputs": [],
   "source": [
    "us.build_production_runs(simulation_manager, n_windows, com_list, ref_list, stiff, xmin, xmax, production_parameters,\n",
    "                         observable=True, sequence_dependant=True, print_every=1e3)"
   ]
  },
  {
   "cell_type": "code",
   "execution_count": null,
   "id": "ab6325d1-025d-4ef3-82ff-b7378b383252",
   "metadata": {
    "tags": []
   },
   "outputs": [],
   "source": [
    "simulation_manager.run()"
   ]
  },
  {
   "cell_type": "code",
   "execution_count": null,
   "id": "44973548-8a25-40e9-8a43-a8c5c41d2d37",
   "metadata": {
    "tags": []
   },
   "outputs": [],
   "source": [
    "us.equlibration_sims[4].analysis.view_traj()"
   ]
  },
  {
   "cell_type": "code",
   "execution_count": null,
   "id": "8101f548-bfaf-4905-9fac-1055bccd7fbb",
   "metadata": {
    "tags": []
   },
   "outputs": [],
   "source": [
    "us.analysis.view_conf('eq', 13)"
   ]
  },
  {
   "cell_type": "code",
   "execution_count": null,
   "id": "321bbc03-b33a-406d-b04e-9654f0752987",
   "metadata": {},
   "outputs": [],
   "source": [
    "us.com_distance_observable(com_list, ref_list)\n",
    "us.hb_list_observable(print_every=1e3)\n",
    "plt.figure(dpi=200)\n",
    "for idx in range(0,95,1):\n",
    "    us.analysis.view_observable('prod', idx, observable=us.observables_list[1], sliding_window=5)\n",
    "# plt.legend(fontsize=4)"
   ]
  },
  {
   "cell_type": "code",
   "execution_count": null,
   "id": "d5fc8d79-e198-4562-b82d-d545a5ae4ddf",
   "metadata": {
    "tags": []
   },
   "outputs": [],
   "source": [
    "us.com_distance_observable(com_list, ref_list)\n",
    "us.hb_list_observable(print_every=1e3)\n",
    "plt.figure(dpi=200)\n",
    "for idx in range(0,95,1):\n",
    "    us.analysis.view_observable('prod', idx, observable=us.observables_list[0], sliding_window=10)\n",
    "# plt.legend(fontsize=4)"
   ]
  },
  {
   "cell_type": "code",
   "execution_count": null,
   "id": "b63013bc-747a-4f62-a7a6-7bea2c3070e1",
   "metadata": {},
   "outputs": [],
   "source": [
    "path = os.path.abspath('/scratch/mlsample/ipy_oxDNA/ipy_oxdna_examples')\n",
    "file_dir = f'{path}/ico_melting_centered'\n",
    "system = 'us_xmax_10_16'\n",
    "us_16 = MeltingUmbrellaSampling(file_dir, system)\n"
   ]
  },
  {
   "cell_type": "code",
   "execution_count": null,
   "id": "75c6e1e9-39e1-4036-ae23-f5d0441fec4e",
   "metadata": {},
   "outputs": [],
   "source": [
    "us.com_distance_observable(com_list, ref_list)\n",
    "us.hb_list_observable(print_every=1e3)\n",
    "plt.figure(dpi=200)\n",
    "for idx in range(0,46,1):\n",
    "    us_16.analysis.view_observable('prod', idx, observable=us.observables_list[0], sliding_window=10)\n",
    "# plt.legend(fontsize=4)"
   ]
  },
  {
   "cell_type": "code",
   "execution_count": null,
   "id": "6ac137c1-689e-4f2e-a524-2fc182ee5122",
   "metadata": {
    "tags": []
   },
   "outputs": [],
   "source": [
    "for idx in range(0,48):\n",
    "    print(idx)\n",
    "    us.equlibration_sims[idx].sim_files.last_conf"
   ]
  },
  {
   "cell_type": "code",
   "execution_count": null,
   "id": "6a3a5730-70bc-494a-a4d3-68c74c783489",
   "metadata": {},
   "outputs": [],
   "source": [
    "us.analysis.view_conf('eq', 13)"
   ]
  },
  {
   "cell_type": "code",
   "execution_count": null,
   "id": "defef66e-3e6e-4f3d-b521-fff04e107d4b",
   "metadata": {},
   "outputs": [],
   "source": [
    "wham_dir = os.path.abspath('/scratch/mlsample/ipy_oxDNA/wham/wham')\n",
    "n_bins = '200'\n",
    "tol = '1e-7'\n",
    "n_boot = '30'\n",
    "us.wham_run(wham_dir, xmin, xmax, stiff, n_bins, tol, n_boot)"
   ]
  },
  {
   "cell_type": "code",
   "execution_count": null,
   "id": "f7c1b071-5b8a-4050-87bd-401cea9fab85",
   "metadata": {},
   "outputs": [],
   "source": [
    "us.plot_free()"
   ]
  },
  {
   "cell_type": "code",
   "execution_count": null,
   "id": "1667138b-a9d1-4961-ab5d-d0ed5157644a",
   "metadata": {},
   "outputs": [],
   "source": [
    "path = os.path.abspath('/scratch/mlsample/ipy_oxDNA/ipy_oxdna_examples')\n",
    "file_dir = f'{path}/ico_melting_centered'\n",
    "systems = ['us_xmax_10_test', 'us_xmax_10_16']\n",
    "\n",
    "us_list = [MeltingUmbrellaSampling(file_dir, system) for system in systems]"
   ]
  },
  {
   "cell_type": "code",
   "execution_count": null,
   "id": "704bc2e7-f943-40fc-969c-1b3fe277680f",
   "metadata": {
    "tags": []
   },
   "outputs": [],
   "source": [
    "for i in range(0, 95, 30):\n",
    "    us_list[1].analysis.view_conf('prod', i)"
   ]
  },
  {
   "cell_type": "code",
   "execution_count": null,
   "id": "61679970-8dad-4ec8-80a1-e4a051601fee",
   "metadata": {},
   "outputs": [],
   "source": [
    "us_list[0].fig_ax()\n",
    "\n",
    "for us in us_list:\n",
    "    us.plot_free(ax=us_list[0].ax)\n",
    "# plt.legend([f'{10 + 273}K', f'{20 + 273}K', f'{30 + 273}K', f'{40 + 273}K'])\n",
    "# plt.title('8nt Duplex Melting Free Energy Profile')\n",
    "plt.xlabel('COM Distance (nm)')"
   ]
  },
  {
   "cell_type": "code",
   "execution_count": null,
   "id": "9b51ceae-4bfb-4142-9f4b-9cb86677b214",
   "metadata": {},
   "outputs": [],
   "source": [
    "path = os.path.abspath('/scratch/mlsample/ipy_oxDNA/ipy_oxdna_examples')\n",
    "file_dir = f'{path}/ico_melting'\n",
    "\n",
    "threads = [64, 32, 500, 1000]\n",
    "sim_dir_list = [f'{file_dir}/unbiased_{thread}' for thread in threads]\n",
    "\n",
    "sim_list = [Simulation(file_dir, sim_dir) for sim_dir in sim_dir_list]\n",
    "simulation_manager = SimulationManager() "
   ]
  },
  {
   "cell_type": "code",
   "execution_count": null,
   "id": "2f49cd96-4ed8-4adc-b81e-2153176276d3",
   "metadata": {},
   "outputs": [],
   "source": [
    "for sim, thread in zip(sim_list, threads):\n",
    "    sim.build(clean_build='force')\n",
    "    sim.input_file({'steps':'5e5','print_energy_every': '5e5', 'print_conf_interval':'5e5', 'threads_per_block': f'{thread}'})\n",
    "    simulation_manager.queue_sim(sim)\n",
    "    #sim.sequence_dependant()\n",
    "    #sim.oxpy_run.run(subprocess=True)\n",
    "simulation_manager.run()"
   ]
  },
  {
   "cell_type": "code",
   "execution_count": null,
   "id": "e5704c97-e8d0-432e-b799-896bfa37e6b8",
   "metadata": {},
   "outputs": [],
   "source": [
    "simulation_manager.run()"
   ]
  },
  {
   "cell_type": "code",
   "execution_count": null,
   "id": "a1283b85-df41-4e66-9c35-5a63ec00190a",
   "metadata": {},
   "outputs": [],
   "source": [
    "sim.analysis.plot_energy()\n",
    "sim.analysis.view_last()"
   ]
  }
 ],
 "metadata": {
  "kernelspec": {
   "display_name": "oxdna",
   "language": "python",
   "name": "oxdna"
  },
  "language_info": {
   "codemirror_mode": {
    "name": "ipython",
    "version": 3
   },
   "file_extension": ".py",
   "mimetype": "text/x-python",
   "name": "python",
   "nbconvert_exporter": "python",
   "pygments_lexer": "ipython3",
   "version": "3.10.9"
  }
 },
 "nbformat": 4,
 "nbformat_minor": 5
}
