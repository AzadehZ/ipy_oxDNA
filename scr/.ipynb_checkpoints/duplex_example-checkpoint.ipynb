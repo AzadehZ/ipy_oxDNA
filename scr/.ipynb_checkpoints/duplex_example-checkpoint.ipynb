{
 "cells": [
  {
   "cell_type": "markdown",
   "id": "b3921e85-29c2-4cb1-9b75-6d529f041630",
   "metadata": {},
   "source": [
    "<font size='10'><h1 align=\"center\"><font color='blue'>iPy oxDNA Examples</font></h1>"
   ]
  },
  {
   "cell_type": "markdown",
   "id": "1e81dec7-5371-4bbd-a950-fb772418cb91",
   "metadata": {},
   "source": [
    "<center>\n",
    "<img src=\"oxDNA.png\">\n",
    "</center>"
   ]
  },
  {
   "cell_type": "markdown",
   "id": "1008a483-a062-443d-ae75-08cbc7905550",
   "metadata": {},
   "source": [
    "<font size='6'><a class=\"anchor\" id=\"3\"></a> <h2 align=\"center\"> <font color='black'>Umbrella Sampling</font></h2> \n",
    "\n",
    "<font size='3'><font color='black'>Utilizing the ComUmbrellaSampling class, we can automatically run 1D umbrella sampling simulations with a COM order parameter.</font>"
   ]
  },
  {
   "cell_type": "code",
   "execution_count": 1,
   "id": "f629cb95-c1e5-4d18-8096-5f72f4525f5e",
   "metadata": {},
   "outputs": [],
   "source": [
    "from umbrella_sampling import ComUmbrellaSampling\n",
    "from oxdna_simulation import SimulationManager\n",
    "import os\n",
    "import matplotlib.pyplot as plt"
   ]
  },
  {
   "cell_type": "code",
   "execution_count": 2,
   "id": "46e07e6c-7fef-4434-8d8e-ffd192df4e2b",
   "metadata": {},
   "outputs": [],
   "source": [
    "path = os.path.abspath('melting_example/')\n",
    "file_dir = f'{path}/duplex_8nt'\n",
    "system = 'us_k_1_min_0_max_4_1e3'\n",
    "\n",
    "com_list = '8,9,10,11,12,13,14,15'\n",
    "ref_list = '0,1,2,3,4,5,6,7'\n",
    "xmin = 0\n",
    "xmax = 4\n",
    "n_windows = 40\n",
    "\n",
    "stiff = 1\n",
    "\n",
    "\n",
    "equlibration_parameters = {'steps':'1e7', 'T':'20C', 'print_energy_every': '1e7',\n",
    "                           'print_conf_interval':'1e7', 'max_density_multiplier':'50'}\n",
    "\n",
    "production_parameters = {'steps':'1e8', 'T':'20C', 'print_energy_every': '1e8',\n",
    "                         'print_conf_interval':'1e8', 'max_density_multiplier':'50'}\n",
    "\n",
    "us = ComUmbrellaSampling(file_dir, system)\n",
    "simulation_manager = SimulationManager(n_processes=40)"
   ]
  },
  {
   "cell_type": "code",
   "execution_count": 5,
   "id": "7b4a5157-0419-4fa0-a4e4-1d8f9cddba91",
   "metadata": {
    "tags": []
   },
   "outputs": [],
   "source": [
    "us.build_equlibration_runs(simulation_manager, n_windows, com_list, ref_list, stiff, xmin, xmax, equlibration_parameters,\n",
    "                           observable=True, print_every=1e3, name='com_distance.txt', continue_run=True)"
   ]
  },
  {
   "cell_type": "code",
   "execution_count": 6,
   "id": "2d5abb8a-3263-40e8-a212-f72630750bb6",
   "metadata": {
    "collapsed": true,
    "jupyter": {
     "outputs_hidden": true
    },
    "tags": []
   },
   "outputs": [
    {
     "name": "stdout",
     "output_type": "stream",
     "text": [
      "spawning\n",
      "Running: 0\n"
     ]
    },
    {
     "name": "stderr",
     "output_type": "stream",
     "text": [
      "INFO: Aggregated I/O statistics (set debug=1 for file-wise information)\n",
      "\t  4.438 KB written to files\n",
      "\t 62.000  B written to stdout/stderr\n"
     ]
    },
    {
     "name": "stdout",
     "output_type": "stream",
     "text": [
      "Running: 1\n"
     ]
    },
    {
     "name": "stderr",
     "output_type": "stream",
     "text": [
      "INFO: Aggregated I/O statistics (set debug=1 for file-wise information)\n",
      "\t  4.424 KB written to files\n",
      "\t 62.000  B written to stdout/stderr\n"
     ]
    },
    {
     "name": "stdout",
     "output_type": "stream",
     "text": [
      "Running: 2\n"
     ]
    },
    {
     "name": "stderr",
     "output_type": "stream",
     "text": [
      "INFO: Aggregated I/O statistics (set debug=1 for file-wise information)\n",
      "\t  4.430 KB written to files\n",
      "\t 62.000  B written to stdout/stderr\n"
     ]
    },
    {
     "name": "stdout",
     "output_type": "stream",
     "text": [
      "Running: 3\n"
     ]
    },
    {
     "name": "stderr",
     "output_type": "stream",
     "text": [
      "INFO: Aggregated I/O statistics (set debug=1 for file-wise information)\n",
      "\t  4.432 KB written to files\n",
      "\t 62.000  B written to stdout/stderr\n"
     ]
    },
    {
     "name": "stdout",
     "output_type": "stream",
     "text": [
      "Running: 4\n"
     ]
    },
    {
     "name": "stderr",
     "output_type": "stream",
     "text": [
      "INFO: Aggregated I/O statistics (set debug=1 for file-wise information)\n",
      "\t  4.421 KB written to files\n",
      "\t 62.000  B written to stdout/stderr\n"
     ]
    },
    {
     "name": "stdout",
     "output_type": "stream",
     "text": [
      "Running: 5\n"
     ]
    },
    {
     "name": "stderr",
     "output_type": "stream",
     "text": [
      "INFO: Aggregated I/O statistics (set debug=1 for file-wise information)\n",
      "\t  4.435 KB written to files\n",
      "\t 62.000  B written to stdout/stderr\n"
     ]
    },
    {
     "name": "stdout",
     "output_type": "stream",
     "text": [
      "Running: 6\n"
     ]
    },
    {
     "name": "stderr",
     "output_type": "stream",
     "text": [
      "INFO: Aggregated I/O statistics (set debug=1 for file-wise information)\n",
      "\t  4.443 KB written to files\n",
      "\t 62.000  B written to stdout/stderr\n"
     ]
    },
    {
     "name": "stdout",
     "output_type": "stream",
     "text": [
      "Running: 7\n"
     ]
    },
    {
     "name": "stderr",
     "output_type": "stream",
     "text": [
      "INFO: Aggregated I/O statistics (set debug=1 for file-wise information)\n",
      "\t  4.426 KB written to files\n",
      "\t 62.000  B written to stdout/stderr\n"
     ]
    },
    {
     "name": "stdout",
     "output_type": "stream",
     "text": [
      "Running: 8\n"
     ]
    },
    {
     "name": "stderr",
     "output_type": "stream",
     "text": [
      "INFO: Aggregated I/O statistics (set debug=1 for file-wise information)\n",
      "\t  4.432 KB written to files\n",
      "\t 62.000  B written to stdout/stderr\n"
     ]
    },
    {
     "name": "stdout",
     "output_type": "stream",
     "text": [
      "Running: 9\n"
     ]
    },
    {
     "name": "stderr",
     "output_type": "stream",
     "text": [
      "INFO: Aggregated I/O statistics (set debug=1 for file-wise information)\n",
      "\t  4.426 KB written to files\n",
      "\t 62.000  B written to stdout/stderr\n"
     ]
    },
    {
     "name": "stdout",
     "output_type": "stream",
     "text": [
      "Running: 10\n"
     ]
    },
    {
     "name": "stderr",
     "output_type": "stream",
     "text": [
      "INFO: Aggregated I/O statistics (set debug=1 for file-wise information)\n",
      "\t  4.421 KB written to files\n",
      "\t 62.000  B written to stdout/stderr\n"
     ]
    },
    {
     "name": "stdout",
     "output_type": "stream",
     "text": [
      "Running: 11\n"
     ]
    },
    {
     "name": "stderr",
     "output_type": "stream",
     "text": [
      "INFO: Aggregated I/O statistics (set debug=1 for file-wise information)\n",
      "\t  4.410 KB written to files\n",
      "\t 62.000  B written to stdout/stderr\n"
     ]
    },
    {
     "name": "stdout",
     "output_type": "stream",
     "text": [
      "Running: 12\n"
     ]
    },
    {
     "name": "stderr",
     "output_type": "stream",
     "text": [
      "INFO: Aggregated I/O statistics (set debug=1 for file-wise information)\n",
      "\t  4.443 KB written to files\n",
      "\t 62.000  B written to stdout/stderr\n"
     ]
    },
    {
     "name": "stdout",
     "output_type": "stream",
     "text": [
      "Running: 13\n"
     ]
    },
    {
     "name": "stderr",
     "output_type": "stream",
     "text": [
      "INFO: Aggregated I/O statistics (set debug=1 for file-wise information)\n",
      "\t  4.444 KB written to files\n",
      "\t 62.000  B written to stdout/stderr\n"
     ]
    },
    {
     "name": "stdout",
     "output_type": "stream",
     "text": [
      "Running: 14\n"
     ]
    },
    {
     "name": "stderr",
     "output_type": "stream",
     "text": [
      "INFO: Aggregated I/O statistics (set debug=1 for file-wise information)\n",
      "\t  4.437 KB written to files\n",
      "\t 62.000  B written to stdout/stderr\n"
     ]
    },
    {
     "name": "stdout",
     "output_type": "stream",
     "text": [
      "Running: 15\n"
     ]
    },
    {
     "name": "stderr",
     "output_type": "stream",
     "text": [
      "INFO: Aggregated I/O statistics (set debug=1 for file-wise information)\n",
      "\t  4.426 KB written to files\n",
      "\t 62.000  B written to stdout/stderr\n"
     ]
    },
    {
     "name": "stdout",
     "output_type": "stream",
     "text": [
      "Running: 16\n"
     ]
    },
    {
     "name": "stderr",
     "output_type": "stream",
     "text": [
      "INFO: Aggregated I/O statistics (set debug=1 for file-wise information)\n",
      "\t  4.430 KB written to files\n",
      "\t 62.000  B written to stdout/stderr\n"
     ]
    },
    {
     "name": "stdout",
     "output_type": "stream",
     "text": [
      "Running: 17\n"
     ]
    },
    {
     "name": "stderr",
     "output_type": "stream",
     "text": [
      "INFO: Aggregated I/O statistics (set debug=1 for file-wise information)\n",
      "\t  4.422 KB written to files\n",
      "\t 62.000  B written to stdout/stderr\n"
     ]
    },
    {
     "name": "stdout",
     "output_type": "stream",
     "text": [
      "Running: 18\n"
     ]
    },
    {
     "name": "stderr",
     "output_type": "stream",
     "text": [
      "INFO: Aggregated I/O statistics (set debug=1 for file-wise information)\n",
      "\t  4.424 KB written to files\n",
      "\t 62.000  B written to stdout/stderr\n"
     ]
    },
    {
     "name": "stdout",
     "output_type": "stream",
     "text": [
      "Running: 19\n"
     ]
    },
    {
     "name": "stderr",
     "output_type": "stream",
     "text": [
      "INFO: Aggregated I/O statistics (set debug=1 for file-wise information)\n",
      "\t  4.419 KB written to files\n",
      "\t 62.000  B written to stdout/stderr\n"
     ]
    },
    {
     "name": "stdout",
     "output_type": "stream",
     "text": [
      "Running: 20\n"
     ]
    },
    {
     "name": "stderr",
     "output_type": "stream",
     "text": [
      "INFO: Aggregated I/O statistics (set debug=1 for file-wise information)\n",
      "\t  4.433 KB written to files\n",
      "\t 62.000  B written to stdout/stderr\n"
     ]
    },
    {
     "name": "stdout",
     "output_type": "stream",
     "text": [
      "Running: 21\n"
     ]
    },
    {
     "name": "stderr",
     "output_type": "stream",
     "text": [
      "INFO: Aggregated I/O statistics (set debug=1 for file-wise information)\n",
      "\t  4.427 KB written to files\n",
      "\t 62.000  B written to stdout/stderr\n"
     ]
    },
    {
     "name": "stdout",
     "output_type": "stream",
     "text": [
      "Running: 22\n"
     ]
    },
    {
     "name": "stderr",
     "output_type": "stream",
     "text": [
      "INFO: Aggregated I/O statistics (set debug=1 for file-wise information)\n",
      "\t  4.423 KB written to files\n",
      "\t 62.000  B written to stdout/stderr\n"
     ]
    },
    {
     "name": "stdout",
     "output_type": "stream",
     "text": [
      "Running: 23\n"
     ]
    },
    {
     "name": "stderr",
     "output_type": "stream",
     "text": [
      "INFO: Aggregated I/O statistics (set debug=1 for file-wise information)\n",
      "\t  4.426 KB written to files\n",
      "\t 62.000  B written to stdout/stderr\n"
     ]
    },
    {
     "name": "stdout",
     "output_type": "stream",
     "text": [
      "Running: 24\n"
     ]
    },
    {
     "name": "stderr",
     "output_type": "stream",
     "text": [
      "INFO: Aggregated I/O statistics (set debug=1 for file-wise information)\n",
      "\t  4.428 KB written to files\n",
      "\t 62.000  B written to stdout/stderr\n"
     ]
    },
    {
     "name": "stdout",
     "output_type": "stream",
     "text": [
      "Running: 25\n"
     ]
    },
    {
     "name": "stderr",
     "output_type": "stream",
     "text": [
      "INFO: Aggregated I/O statistics (set debug=1 for file-wise information)\n",
      "\t  4.424 KB written to files\n",
      "\t 62.000  B written to stdout/stderr\n"
     ]
    },
    {
     "name": "stdout",
     "output_type": "stream",
     "text": [
      "Running: 26\n"
     ]
    },
    {
     "name": "stderr",
     "output_type": "stream",
     "text": [
      "INFO: Aggregated I/O statistics (set debug=1 for file-wise information)\n",
      "\t  4.430 KB written to files\n",
      "\t 62.000  B written to stdout/stderr\n"
     ]
    },
    {
     "name": "stdout",
     "output_type": "stream",
     "text": [
      "Running: 27\n"
     ]
    },
    {
     "name": "stderr",
     "output_type": "stream",
     "text": [
      "INFO: Aggregated I/O statistics (set debug=1 for file-wise information)\n",
      "\t  4.431 KB written to files\n",
      "\t 62.000  B written to stdout/stderr\n"
     ]
    },
    {
     "name": "stdout",
     "output_type": "stream",
     "text": [
      "Running: 28\n"
     ]
    },
    {
     "name": "stderr",
     "output_type": "stream",
     "text": [
      "INFO: Aggregated I/O statistics (set debug=1 for file-wise information)\n",
      "\t  4.425 KB written to files\n",
      "\t 62.000  B written to stdout/stderr\n"
     ]
    },
    {
     "name": "stdout",
     "output_type": "stream",
     "text": [
      "Running: 29\n"
     ]
    },
    {
     "name": "stderr",
     "output_type": "stream",
     "text": [
      "INFO: Aggregated I/O statistics (set debug=1 for file-wise information)\n",
      "\t  4.418 KB written to files\n",
      "\t 62.000  B written to stdout/stderr\n"
     ]
    },
    {
     "name": "stdout",
     "output_type": "stream",
     "text": [
      "Running: 30\n"
     ]
    },
    {
     "name": "stderr",
     "output_type": "stream",
     "text": [
      "INFO: Aggregated I/O statistics (set debug=1 for file-wise information)\n",
      "\t  4.432 KB written to files\n",
      "\t 62.000  B written to stdout/stderr\n"
     ]
    },
    {
     "name": "stdout",
     "output_type": "stream",
     "text": [
      "Running: 31\n"
     ]
    },
    {
     "name": "stderr",
     "output_type": "stream",
     "text": [
      "INFO: Aggregated I/O statistics (set debug=1 for file-wise information)\n",
      "\t  4.427 KB written to files\n",
      "\t 62.000  B written to stdout/stderr\n"
     ]
    },
    {
     "name": "stdout",
     "output_type": "stream",
     "text": [
      "Running: 32\n"
     ]
    },
    {
     "name": "stderr",
     "output_type": "stream",
     "text": [
      "INFO: Aggregated I/O statistics (set debug=1 for file-wise information)\n",
      "\t  4.429 KB written to files\n",
      "\t 62.000  B written to stdout/stderr\n"
     ]
    },
    {
     "name": "stdout",
     "output_type": "stream",
     "text": [
      "Running: 33\n"
     ]
    },
    {
     "name": "stderr",
     "output_type": "stream",
     "text": [
      "INFO: Aggregated I/O statistics (set debug=1 for file-wise information)\n",
      "\t  4.419 KB written to files\n",
      "\t 62.000  B written to stdout/stderr\n"
     ]
    },
    {
     "name": "stdout",
     "output_type": "stream",
     "text": [
      "Running: 34\n"
     ]
    },
    {
     "name": "stderr",
     "output_type": "stream",
     "text": [
      "INFO: Aggregated I/O statistics (set debug=1 for file-wise information)\n",
      "\t  4.438 KB written to files\n",
      "\t 62.000  B written to stdout/stderr\n"
     ]
    },
    {
     "name": "stdout",
     "output_type": "stream",
     "text": [
      "Running: 35\n"
     ]
    },
    {
     "name": "stderr",
     "output_type": "stream",
     "text": [
      "INFO: Aggregated I/O statistics (set debug=1 for file-wise information)\n",
      "\t  4.430 KB written to files\n",
      "\t 62.000  B written to stdout/stderr\n"
     ]
    },
    {
     "name": "stdout",
     "output_type": "stream",
     "text": [
      "Running: 36\n"
     ]
    },
    {
     "name": "stderr",
     "output_type": "stream",
     "text": [
      "INFO: Aggregated I/O statistics (set debug=1 for file-wise information)\n",
      "\t  4.425 KB written to files\n",
      "\t 62.000  B written to stdout/stderr\n"
     ]
    },
    {
     "name": "stdout",
     "output_type": "stream",
     "text": [
      "Running: 37\n"
     ]
    },
    {
     "name": "stderr",
     "output_type": "stream",
     "text": [
      "INFO: Aggregated I/O statistics (set debug=1 for file-wise information)\n",
      "\t  4.444 KB written to files\n",
      "\t 62.000  B written to stdout/stderr\n"
     ]
    },
    {
     "name": "stdout",
     "output_type": "stream",
     "text": [
      "Running: 38\n"
     ]
    },
    {
     "name": "stderr",
     "output_type": "stream",
     "text": [
      "INFO: Aggregated I/O statistics (set debug=1 for file-wise information)\n",
      "\t  4.424 KB written to files\n",
      "\t 62.000  B written to stdout/stderr\n"
     ]
    },
    {
     "name": "stdout",
     "output_type": "stream",
     "text": [
      "Running: 39\n"
     ]
    },
    {
     "name": "stderr",
     "output_type": "stream",
     "text": [
      "INFO: Aggregated I/O statistics (set debug=1 for file-wise information)\n",
      "\t  4.427 KB written to files\n",
      "\t 62.000  B written to stdout/stderr\n"
     ]
    },
    {
     "name": "stdout",
     "output_type": "stream",
     "text": [
      "Run time: 432.412680442445\n",
      "Finished: /scratch/mlsample/ipy_oxDNA/scr/melting_example/duplex_8nt/us_k_1_min_0_max_4_1e3/equlibration/0\n"
     ]
    },
    {
     "name": "stderr",
     "output_type": "stream",
     "text": [
      "INFO: Lists updated 3976 times (every ~251.509054 steps)\n",
      "INFO: Aggregated I/O statistics (set debug=1 for file-wise information)\n",
      "\t 27.896 KB written to files\n",
      "\t124.000  B written to stdout/stderr\n",
      "\tFor a total of 0.000257 MB/s\n",
      "\n"
     ]
    },
    {
     "name": "stdout",
     "output_type": "stream",
     "text": [
      "Run time: 435.9561803182587\n",
      "Finished: /scratch/mlsample/ipy_oxDNA/scr/melting_example/duplex_8nt/us_k_1_min_0_max_4_1e3/equlibration/1\n",
      "Run time: 435.6664751349017\n",
      "Finished: /scratch/mlsample/ipy_oxDNA/scr/melting_example/duplex_8nt/us_k_1_min_0_max_4_1e3/equlibration/2\n"
     ]
    },
    {
     "name": "stderr",
     "output_type": "stream",
     "text": [
      "INFO: Lists updated 4225 times (every ~236.686391 steps)\n",
      "INFO: Aggregated I/O statistics (set debug=1 for file-wise information)\n",
      "\t 27.913 KB written to files\n",
      "\t124.000  B written to stdout/stderr\n",
      "\tFor a total of 0.000262 MB/s\n",
      "\n",
      "INFO: Lists updated 3009 times (every ~332.336324 steps)\n",
      "INFO: Aggregated I/O statistics (set debug=1 for file-wise information)\n",
      "\t 27.931 KB written to files\n",
      "\t124.000  B written to stdout/stderr\n",
      "\tFor a total of 0.000256 MB/s\n",
      "\n"
     ]
    },
    {
     "name": "stdout",
     "output_type": "stream",
     "text": [
      "Run time: 441.6772402105853\n",
      "Finished: /scratch/mlsample/ipy_oxDNA/scr/melting_example/duplex_8nt/us_k_1_min_0_max_4_1e3/equlibration/3\n"
     ]
    },
    {
     "name": "stderr",
     "output_type": "stream",
     "text": [
      "INFO: Lists updated 3568 times (every ~280.269058 steps)\n",
      "INFO: Aggregated I/O statistics (set debug=1 for file-wise information)\n",
      "\t 27.843 KB written to files\n",
      "\t124.000  B written to stdout/stderr\n",
      "\tFor a total of 0.000258 MB/s\n",
      "\n"
     ]
    },
    {
     "name": "stdout",
     "output_type": "stream",
     "text": [
      "Run time: 443.95517094712704\n",
      "Finished: /scratch/mlsample/ipy_oxDNA/scr/melting_example/duplex_8nt/us_k_1_min_0_max_4_1e3/equlibration/4\n"
     ]
    },
    {
     "name": "stderr",
     "output_type": "stream",
     "text": [
      "INFO: Lists updated 4141 times (every ~241.487563 steps)\n",
      "INFO: Aggregated I/O statistics (set debug=1 for file-wise information)\n",
      "\t 27.813 KB written to files\n",
      "\t124.000  B written to stdout/stderr\n",
      "\tFor a total of 0.000253 MB/s\n",
      "\n"
     ]
    },
    {
     "name": "stdout",
     "output_type": "stream",
     "text": [
      "Run time: 445.97162614483386\n",
      "Finished: /scratch/mlsample/ipy_oxDNA/scr/melting_example/duplex_8nt/us_k_1_min_0_max_4_1e3/equlibration/5\n"
     ]
    },
    {
     "name": "stderr",
     "output_type": "stream",
     "text": [
      "INFO: Lists updated 3664 times (every ~272.925764 steps)\n",
      "INFO: Aggregated I/O statistics (set debug=1 for file-wise information)\n",
      "\t 28.016 KB written to files\n",
      "\t124.000  B written to stdout/stderr\n",
      "\tFor a total of 0.000258 MB/s\n",
      "\n"
     ]
    },
    {
     "name": "stdout",
     "output_type": "stream",
     "text": [
      "Run time: 447.0518630184233\n",
      "Finished: /scratch/mlsample/ipy_oxDNA/scr/melting_example/duplex_8nt/us_k_1_min_0_max_4_1e3/equlibration/6\n"
     ]
    },
    {
     "name": "stderr",
     "output_type": "stream",
     "text": [
      "INFO: Lists updated 3817 times (every ~261.985853 steps)\n",
      "INFO: Aggregated I/O statistics (set debug=1 for file-wise information)\n",
      "\t 27.907 KB written to files\n",
      "\t124.000  B written to stdout/stderr\n",
      "\tFor a total of 0.000254 MB/s\n",
      "\n"
     ]
    },
    {
     "name": "stdout",
     "output_type": "stream",
     "text": [
      "Run time: 450.7136909952387\n",
      "Finished: /scratch/mlsample/ipy_oxDNA/scr/melting_example/duplex_8nt/us_k_1_min_0_max_4_1e3/equlibration/7\n"
     ]
    },
    {
     "name": "stderr",
     "output_type": "stream",
     "text": [
      "INFO: Lists updated 3025 times (every ~330.578512 steps)\n",
      "INFO: Aggregated I/O statistics (set debug=1 for file-wise information)\n",
      "\t 27.937 KB written to files\n",
      "\t124.000  B written to stdout/stderr\n",
      "\tFor a total of  0.00025 MB/s\n",
      "\n"
     ]
    },
    {
     "name": "stdout",
     "output_type": "stream",
     "text": [
      "Run time: 451.47543093841523\n",
      "Finished: /scratch/mlsample/ipy_oxDNA/scr/melting_example/duplex_8nt/us_k_1_min_0_max_4_1e3/equlibration/8\n"
     ]
    },
    {
     "name": "stderr",
     "output_type": "stream",
     "text": [
      "INFO: Lists updated 3549 times (every ~281.769513 steps)\n",
      "INFO: Aggregated I/O statistics (set debug=1 for file-wise information)\n",
      "\t 27.939 KB written to files\n",
      "\t124.000  B written to stdout/stderr\n",
      "\tFor a total of 0.000253 MB/s\n",
      "\n"
     ]
    },
    {
     "name": "stdout",
     "output_type": "stream",
     "text": [
      "Run time: 453.8393052890897\n",
      "Finished: /scratch/mlsample/ipy_oxDNA/scr/melting_example/duplex_8nt/us_k_1_min_0_max_4_1e3/equlibration/9\n"
     ]
    },
    {
     "name": "stderr",
     "output_type": "stream",
     "text": [
      "INFO: Lists updated 3367 times (every ~297.000297 steps)\n",
      "INFO: Aggregated I/O statistics (set debug=1 for file-wise information)\n",
      "\t 27.910 KB written to files\n",
      "\t124.000  B written to stdout/stderr\n",
      "\tFor a total of 0.000254 MB/s\n",
      "\n"
     ]
    },
    {
     "name": "stdout",
     "output_type": "stream",
     "text": [
      "Run time: 454.175770804286\n",
      "Finished: /scratch/mlsample/ipy_oxDNA/scr/melting_example/duplex_8nt/us_k_1_min_0_max_4_1e3/equlibration/10\n"
     ]
    },
    {
     "name": "stderr",
     "output_type": "stream",
     "text": [
      "INFO: Lists updated 3824 times (every ~261.506276 steps)\n",
      "INFO: Aggregated I/O statistics (set debug=1 for file-wise information)\n",
      "\t 27.878 KB written to files\n",
      "\t124.000  B written to stdout/stderr\n",
      "\tFor a total of 0.000248 MB/s\n",
      "\n"
     ]
    },
    {
     "name": "stdout",
     "output_type": "stream",
     "text": [
      "Run time: 455.7947064433247\n",
      "Finished: /scratch/mlsample/ipy_oxDNA/scr/melting_example/duplex_8nt/us_k_1_min_0_max_4_1e3/equlibration/11\n"
     ]
    },
    {
     "name": "stderr",
     "output_type": "stream",
     "text": [
      "INFO: Lists updated 2134 times (every ~468.603561 steps)\n",
      "INFO: Aggregated I/O statistics (set debug=1 for file-wise information)\n",
      "\t 27.916 KB written to files\n",
      "\t124.000  B written to stdout/stderr\n",
      "\tFor a total of 0.000246 MB/s\n",
      "\n"
     ]
    },
    {
     "name": "stdout",
     "output_type": "stream",
     "text": [
      "Run time: 456.18462508078665\n",
      "Finished: /scratch/mlsample/ipy_oxDNA/scr/melting_example/duplex_8nt/us_k_1_min_0_max_4_1e3/equlibration/12\n"
     ]
    },
    {
     "name": "stderr",
     "output_type": "stream",
     "text": [
      "INFO: Lists updated 3790 times (every ~263.852243 steps)\n",
      "INFO: Aggregated I/O statistics (set debug=1 for file-wise information)\n",
      "\t 27.957 KB written to files\n",
      "\t124.000  B written to stdout/stderr\n",
      "\tFor a total of 0.000249 MB/s\n",
      "\n"
     ]
    },
    {
     "name": "stdout",
     "output_type": "stream",
     "text": [
      "Run time: 457.6851761229336\n",
      "Finished: /scratch/mlsample/ipy_oxDNA/scr/melting_example/duplex_8nt/us_k_1_min_0_max_4_1e3/equlibration/14\n",
      "Run time: 458.10440274421126\n",
      "Finished: /scratch/mlsample/ipy_oxDNA/scr/melting_example/duplex_8nt/us_k_1_min_0_max_4_1e3/equlibration/13\n"
     ]
    },
    {
     "name": "stderr",
     "output_type": "stream",
     "text": [
      "INFO: Lists updated 3254 times (every ~307.314075 steps)\n",
      "INFO: Aggregated I/O statistics (set debug=1 for file-wise information)\n",
      "\t 27.837 KB written to files\n",
      "\t124.000  B written to stdout/stderr\n",
      "\tFor a total of 0.000246 MB/s\n",
      "\n",
      "INFO: Lists updated 3115 times (every ~321.027287 steps)\n",
      "INFO: Aggregated I/O statistics (set debug=1 for file-wise information)\n",
      "\t 27.882 KB written to files\n",
      "\t124.000  B written to stdout/stderr\n",
      "\tFor a total of 0.000253 MB/s\n",
      "\n"
     ]
    },
    {
     "name": "stdout",
     "output_type": "stream",
     "text": [
      "Run time: 458.87006388790905\n",
      "Finished: /scratch/mlsample/ipy_oxDNA/scr/melting_example/duplex_8nt/us_k_1_min_0_max_4_1e3/equlibration/15\n",
      "Run time: 458.558138567023\n",
      "Finished: /scratch/mlsample/ipy_oxDNA/scr/melting_example/duplex_8nt/us_k_1_min_0_max_4_1e3/equlibration/16\n"
     ]
    },
    {
     "name": "stderr",
     "output_type": "stream",
     "text": [
      "INFO: Lists updated 3839 times (every ~260.484501 steps)\n",
      "INFO: Aggregated I/O statistics (set debug=1 for file-wise information)\n",
      "\t 27.909 KB written to files\n",
      "\t124.000  B written to stdout/stderr\n",
      "\tFor a total of 0.000253 MB/s\n",
      "\n",
      "INFO: Lists updated 3734 times (every ~267.809320 steps)\n",
      "INFO: Aggregated I/O statistics (set debug=1 for file-wise information)\n",
      "\t 28.004 KB written to files\n",
      "\t124.000  B written to stdout/stderr\n",
      "\tFor a total of 0.000248 MB/s\n",
      "\n"
     ]
    },
    {
     "name": "stdout",
     "output_type": "stream",
     "text": [
      "Run time: 458.7542507611215\n",
      "Finished: /scratch/mlsample/ipy_oxDNA/scr/melting_example/duplex_8nt/us_k_1_min_0_max_4_1e3/equlibration/18\n"
     ]
    },
    {
     "name": "stderr",
     "output_type": "stream",
     "text": [
      "INFO: Lists updated 3625 times (every ~275.862069 steps)\n",
      "INFO: Aggregated I/O statistics (set debug=1 for file-wise information)\n",
      "\t 27.887 KB written to files\n",
      "\t124.000  B written to stdout/stderr\n",
      "\tFor a total of 0.000247 MB/s\n",
      "\n"
     ]
    },
    {
     "name": "stdout",
     "output_type": "stream",
     "text": [
      "Run time: 459.9593023993075\n",
      "Finished: /scratch/mlsample/ipy_oxDNA/scr/melting_example/duplex_8nt/us_k_1_min_0_max_4_1e3/equlibration/17\n"
     ]
    },
    {
     "name": "stderr",
     "output_type": "stream",
     "text": [
      "INFO: Lists updated 1917 times (every ~521.648409 steps)\n",
      "INFO: Aggregated I/O statistics (set debug=1 for file-wise information)\n",
      "\t 27.884 KB written to files\n",
      "\t124.000  B written to stdout/stderr\n",
      "\tFor a total of 0.000245 MB/s\n",
      "\n"
     ]
    },
    {
     "name": "stdout",
     "output_type": "stream",
     "text": [
      "Run time: 458.2169512035325\n",
      "Finished: /scratch/mlsample/ipy_oxDNA/scr/melting_example/duplex_8nt/us_k_1_min_0_max_4_1e3/equlibration/23\n",
      "Run time: 459.98194238357246\n",
      "Finished: /scratch/mlsample/ipy_oxDNA/scr/melting_example/duplex_8nt/us_k_1_min_0_max_4_1e3/equlibration/19\n"
     ]
    },
    {
     "name": "stderr",
     "output_type": "stream",
     "text": [
      "INFO: Lists updated 3563 times (every ~280.662363 steps)\n",
      "INFO: Aggregated I/O statistics (set debug=1 for file-wise information)\n",
      "\t 28.014 KB written to files\n",
      "\t124.000  B written to stdout/stderr\n",
      "\tFor a total of 0.000252 MB/s\n",
      "\n",
      "INFO: Lists updated 3456 times (every ~289.351852 steps)\n",
      "INFO: Aggregated I/O statistics (set debug=1 for file-wise information)\n",
      "\t 27.922 KB written to files\n",
      "\t124.000  B written to stdout/stderr\n",
      "\tFor a total of 0.000253 MB/s\n",
      "\n"
     ]
    },
    {
     "name": "stdout",
     "output_type": "stream",
     "text": [
      "Run time: 460.23885506298393\n",
      "Finished: /scratch/mlsample/ipy_oxDNA/scr/melting_example/duplex_8nt/us_k_1_min_0_max_4_1e3/equlibration/20\n"
     ]
    },
    {
     "name": "stderr",
     "output_type": "stream",
     "text": [
      "INFO: Lists updated 4069 times (every ~245.760629 steps)\n",
      "INFO: Aggregated I/O statistics (set debug=1 for file-wise information)\n",
      "\t 27.849 KB written to files\n",
      "\t124.000  B written to stdout/stderr\n",
      "\tFor a total of 0.000248 MB/s\n",
      "\n"
     ]
    },
    {
     "name": "stdout",
     "output_type": "stream",
     "text": [
      "Run time: 460.199863743037\n",
      "Finished: /scratch/mlsample/ipy_oxDNA/scr/melting_example/duplex_8nt/us_k_1_min_0_max_4_1e3/equlibration/21\n"
     ]
    },
    {
     "name": "stderr",
     "output_type": "stream",
     "text": [
      "INFO: Lists updated 3177 times (every ~314.762354 steps)\n",
      "INFO: Aggregated I/O statistics (set debug=1 for file-wise information)\n",
      "\t 27.893 KB written to files\n",
      "\t124.000  B written to stdout/stderr\n",
      "\tFor a total of 0.000245 MB/s\n",
      "\n"
     ]
    },
    {
     "name": "stdout",
     "output_type": "stream",
     "text": [
      "Run time: 459.8490487448871\n",
      "Finished: /scratch/mlsample/ipy_oxDNA/scr/melting_example/duplex_8nt/us_k_1_min_0_max_4_1e3/equlibration/24\n",
      "Run time: 459.0691350316629\n",
      "Finished: /scratch/mlsample/ipy_oxDNA/scr/melting_example/duplex_8nt/us_k_1_min_0_max_4_1e3/equlibration/26\n"
     ]
    },
    {
     "name": "stderr",
     "output_type": "stream",
     "text": [
      "INFO: Lists updated 1793 times (every ~557.724484 steps)\n",
      "INFO: Aggregated I/O statistics (set debug=1 for file-wise information)\n",
      "\t 27.942 KB written to files\n",
      "\t124.000  B written to stdout/stderr\n",
      "\tFor a total of 0.000247 MB/s\n",
      "\n",
      "INFO: Lists updated 3338 times (every ~299.580587 steps)\n",
      "INFO: Aggregated I/O statistics (set debug=1 for file-wise information)\n",
      "\t 27.919 KB written to files\n",
      "\t124.000  B written to stdout/stderr\n",
      "\tFor a total of 0.000247 MB/s\n",
      "\n"
     ]
    },
    {
     "name": "stdout",
     "output_type": "stream",
     "text": [
      "Run time: 459.6439081383869\n",
      "Finished: /scratch/mlsample/ipy_oxDNA/scr/melting_example/duplex_8nt/us_k_1_min_0_max_4_1e3/equlibration/25\n"
     ]
    },
    {
     "name": "stderr",
     "output_type": "stream",
     "text": [
      "INFO: Lists updated 3012 times (every ~332.005312 steps)\n",
      "INFO: Aggregated I/O statistics (set debug=1 for file-wise information)\n",
      "\t 27.937 KB written to files\n",
      "\t124.000  B written to stdout/stderr\n",
      "\tFor a total of 0.000251 MB/s\n",
      "\n"
     ]
    },
    {
     "name": "stdout",
     "output_type": "stream",
     "text": [
      "Run time: 461.16427703015506\n",
      "Finished: /scratch/mlsample/ipy_oxDNA/scr/melting_example/duplex_8nt/us_k_1_min_0_max_4_1e3/equlibration/22\n",
      "Run time: 458.68717048782855\n",
      "Finished: /scratch/mlsample/ipy_oxDNA/scr/melting_example/duplex_8nt/us_k_1_min_0_max_4_1e3/equlibration/28\n"
     ]
    },
    {
     "name": "stderr",
     "output_type": "stream",
     "text": [
      "INFO: Lists updated 3564 times (every ~280.583614 steps)\n",
      "INFO: Aggregated I/O statistics (set debug=1 for file-wise information)\n",
      "\t 27.945 KB written to files\n",
      "\t124.000  B written to stdout/stderr\n",
      "\tFor a total of 0.000249 MB/s\n",
      "\n",
      "INFO: Lists updated 3572 times (every ~279.955207 steps)\n",
      "INFO: Aggregated I/O statistics (set debug=1 for file-wise information)\n",
      "\t 27.893 KB written to files\n",
      "\t124.000  B written to stdout/stderr\n",
      "\tFor a total of 0.000252 MB/s\n",
      "\n"
     ]
    },
    {
     "name": "stdout",
     "output_type": "stream",
     "text": [
      "Run time: 457.98666743095964\n",
      "Finished: /scratch/mlsample/ipy_oxDNA/scr/melting_example/duplex_8nt/us_k_1_min_0_max_4_1e3/equlibration/30\n",
      "Run time: 459.4598373034969\n",
      "Finished: /scratch/mlsample/ipy_oxDNA/scr/melting_example/duplex_8nt/us_k_1_min_0_max_4_1e3/equlibration/27\n",
      "Run time: 458.6182589503005\n",
      "Finished: /scratch/mlsample/ipy_oxDNA/scr/melting_example/duplex_8nt/us_k_1_min_0_max_4_1e3/equlibration/29\n"
     ]
    },
    {
     "name": "stderr",
     "output_type": "stream",
     "text": [
      "INFO: Lists updated 3145 times (every ~317.965024 steps)\n",
      "INFO: Aggregated I/O statistics (set debug=1 for file-wise information)\n",
      "\t 28.001 KB written to files\n",
      "\t124.000  B written to stdout/stderr\n",
      "\tFor a total of 0.000249 MB/s\n",
      "\n",
      "INFO: Lists updated 3340 times (every ~299.401198 steps)\n",
      "INFO: Aggregated I/O statistics (set debug=1 for file-wise information)\n",
      "\t 27.919 KB written to files\n",
      "\t124.000  B written to stdout/stderr\n",
      "\tFor a total of 0.000254 MB/s\n",
      "\n",
      "INFO: Lists updated 3267 times (every ~306.091215 steps)\n",
      "INFO: Aggregated I/O statistics (set debug=1 for file-wise information)\n",
      "\t 27.846 KB written to files\n",
      "\t124.000  B written to stdout/stderr\n",
      "\tFor a total of 0.000247 MB/s\n",
      "\n"
     ]
    },
    {
     "name": "stdout",
     "output_type": "stream",
     "text": [
      "Run time: 456.36402579490095\n",
      "Finished: /scratch/mlsample/ipy_oxDNA/scr/melting_example/duplex_8nt/us_k_1_min_0_max_4_1e3/equlibration/34\n",
      "Run time: 457.82813635561615\n",
      "Finished: /scratch/mlsample/ipy_oxDNA/scr/melting_example/duplex_8nt/us_k_1_min_0_max_4_1e3/equlibration/31\n",
      "Run time: 455.07911783922464\n",
      "Finished: /scratch/mlsample/ipy_oxDNA/scr/melting_example/duplex_8nt/us_k_1_min_0_max_4_1e3/equlibration/37\n"
     ]
    },
    {
     "name": "stderr",
     "output_type": "stream",
     "text": [
      "INFO: Lists updated 1942 times (every ~514.933059 steps)\n",
      "INFO: Aggregated I/O statistics (set debug=1 for file-wise information)\n",
      "\t 27.939 KB written to files\n",
      "\t124.000  B written to stdout/stderr\n",
      "\tFor a total of 0.000251 MB/s\n",
      "\n",
      "INFO: Lists updated 3005 times (every ~332.778702 steps)\n",
      "INFO: Aggregated I/O statistics (set debug=1 for file-wise information)\n",
      "\t 27.866 KB written to files\n",
      "\t124.000  B written to stdout/stderr\n",
      "\tFor a total of 0.000247 MB/s\n",
      "\n",
      "INFO: Lists updated 1816 times (every ~550.660793 steps)\n",
      "INFO: Aggregated I/O statistics (set debug=1 for file-wise information)\n",
      "\t 27.915 KB written to files\n",
      "\t124.000  B written to stdout/stderr\n",
      "\tFor a total of 0.000255 MB/s\n",
      "\n"
     ]
    },
    {
     "name": "stdout",
     "output_type": "stream",
     "text": [
      "Run time: 457.16725821234286\n",
      "Finished: /scratch/mlsample/ipy_oxDNA/scr/melting_example/duplex_8nt/us_k_1_min_0_max_4_1e3/equlibration/33\n",
      "Run time: 454.7479124022648\n",
      "Finished: /scratch/mlsample/ipy_oxDNA/scr/melting_example/duplex_8nt/us_k_1_min_0_max_4_1e3/equlibration/38\n",
      "Run time: 455.78559448663145\n",
      "Finished: /scratch/mlsample/ipy_oxDNA/scr/melting_example/duplex_8nt/us_k_1_min_0_max_4_1e3/equlibration/36\n"
     ]
    },
    {
     "name": "stderr",
     "output_type": "stream",
     "text": [
      "INFO: Lists updated 3606 times (every ~277.315585 steps)\n",
      "INFO: Aggregated I/O statistics (set debug=1 for file-wise information)\n",
      "\t 27.819 KB written to files\n",
      "\t124.000  B written to stdout/stderr\n",
      "\tFor a total of 0.000247 MB/s\n",
      "\n",
      "INFO: Lists updated 2368 times (every ~422.297297 steps)\n",
      "INFO: Aggregated I/O statistics (set debug=1 for file-wise information)\n",
      "\t 27.872 KB written to files\n",
      "\t124.000  B written to stdout/stderr\n",
      "\tFor a total of 0.000251 MB/s\n",
      "\n",
      "INFO: Lists updated 3292 times (every ~303.766707 steps)\n",
      "INFO: Aggregated I/O statistics (set debug=1 for file-wise information)\n",
      "\t 27.867 KB written to files\n",
      "\t124.000  B written to stdout/stderr\n",
      "\tFor a total of 0.000252 MB/s\n",
      "\n"
     ]
    },
    {
     "name": "stdout",
     "output_type": "stream",
     "text": [
      "Run time: 456.3980984464288\n",
      "Finished: /scratch/mlsample/ipy_oxDNA/scr/melting_example/duplex_8nt/us_k_1_min_0_max_4_1e3/equlibration/35\n"
     ]
    },
    {
     "name": "stderr",
     "output_type": "stream",
     "text": [
      "INFO: Lists updated 1930 times (every ~518.134715 steps)\n",
      "INFO: Aggregated I/O statistics (set debug=1 for file-wise information)\n",
      "\t 27.896 KB written to files\n",
      "\t124.000  B written to stdout/stderr\n",
      "\tFor a total of 0.000247 MB/s\n",
      "\n"
     ]
    },
    {
     "name": "stdout",
     "output_type": "stream",
     "text": [
      "Run time: 454.6671099299565\n",
      "Finished: /scratch/mlsample/ipy_oxDNA/scr/melting_example/duplex_8nt/us_k_1_min_0_max_4_1e3/equlibration/39\n",
      "Run time: 458.28663730993867\n",
      "Finished: /scratch/mlsample/ipy_oxDNA/scr/melting_example/duplex_8nt/us_k_1_min_0_max_4_1e3/equlibration/32\n"
     ]
    },
    {
     "name": "stderr",
     "output_type": "stream",
     "text": [
      "INFO: Lists updated 2769 times (every ~361.141206 steps)\n",
      "INFO: Aggregated I/O statistics (set debug=1 for file-wise information)\n",
      "\t 27.937 KB written to files\n",
      "\t124.000  B written to stdout/stderr\n",
      "\tFor a total of 0.000255 MB/s\n",
      "\n",
      "INFO: Lists updated 3413 times (every ~292.997363 steps)\n",
      "INFO: Aggregated I/O statistics (set debug=1 for file-wise information)\n",
      "\t 27.825 KB written to files\n",
      "\t124.000  B written to stdout/stderr\n",
      "\tFor a total of 0.000247 MB/s\n",
      "\n"
     ]
    },
    {
     "name": "stdout",
     "output_type": "stream",
     "text": [
      "All queued simulations finished\n"
     ]
    }
   ],
   "source": [
    "simulation_manager.run()"
   ]
  },
  {
   "cell_type": "code",
   "execution_count": 5,
   "id": "82cc10a8-0442-4d1d-b0fd-ea4cc5ebd201",
   "metadata": {
    "tags": []
   },
   "outputs": [
    {
     "data": {
      "text/plain": [
       "<matplotlib.legend.Legend at 0x2b2e4be95d30>"
      ]
     },
     "execution_count": 5,
     "metadata": {},
     "output_type": "execute_result"
    },
    {
     "data": {
      "image/png": "[encoded data removed]",
      "text/plain": [
       "<Figure size 432x288 with 1 Axes>"
      ]
     },
     "metadata": {
      "needs_background": "light"
     },
     "output_type": "display_data"
    }
   ],
   "source": [
    "us.com_distance_observable(com_list, ref_list)\n",
    "#us.observables_list[0]\n",
    "plt.figure()\n",
    "for idx in [0, 9, 19, 29, 39]:\n",
    "    us.analysis.hist_observable('eq', idx, bins=15)\n",
    "plt.legend()"
   ]
  },
  {
   "cell_type": "code",
   "execution_count": 3,
   "id": "3c36bcc7-f09b-4e57-9ec5-f52ef30584d7",
   "metadata": {
    "tags": []
   },
   "outputs": [],
   "source": [
    "us.build_production_runs(simulation_manager, n_windows, com_list, ref_list, stiff, xmin, xmax, production_parameters, observable=True, print_every=1e4, name='com_distance.txt')"
   ]
  },
  {
   "cell_type": "code",
   "execution_count": 4,
   "id": "d6f3e104-271d-4eab-8b2b-484bab9eaf0c",
   "metadata": {
    "collapsed": true,
    "jupyter": {
     "outputs_hidden": true
    },
    "tags": []
   },
   "outputs": [
    {
     "name": "stdout",
     "output_type": "stream",
     "text": [
      "spawning\n",
      "Running: //scratch/matthew/automate/ipy_oxDNA/umbrella_sampling_example/rro/rro_umbrella_com_2/production/0\n"
     ]
    },
    {
     "name": "stderr",
     "output_type": "stream",
     "text": [
      "INFO: Aggregated I/O statistics (set debug=1 for file-wise information)\n",
      "\t  3.368 MB written to files\n",
      "\t 62.000  B written to stdout/stderr\n"
     ]
    },
    {
     "name": "stdout",
     "output_type": "stream",
     "text": [
      "Running: //scratch/matthew/automate/ipy_oxDNA/umbrella_sampling_example/rro/rro_umbrella_com_2/production/1\n"
     ]
    },
    {
     "name": "stderr",
     "output_type": "stream",
     "text": [
      "INFO: Aggregated I/O statistics (set debug=1 for file-wise information)\n",
      "\t  3.368 MB written to files\n",
      "\t 62.000  B written to stdout/stderr\n"
     ]
    },
    {
     "name": "stdout",
     "output_type": "stream",
     "text": [
      "Running: //scratch/matthew/automate/ipy_oxDNA/umbrella_sampling_example/rro/rro_umbrella_com_2/production/2\n"
     ]
    },
    {
     "name": "stderr",
     "output_type": "stream",
     "text": [
      "INFO: Aggregated I/O statistics (set debug=1 for file-wise information)\n",
      "\t  3.368 MB written to files\n",
      "\t 62.000  B written to stdout/stderr\n"
     ]
    },
    {
     "name": "stdout",
     "output_type": "stream",
     "text": [
      "Running: //scratch/matthew/automate/ipy_oxDNA/umbrella_sampling_example/rro/rro_umbrella_com_2/production/3\n"
     ]
    },
    {
     "name": "stderr",
     "output_type": "stream",
     "text": [
      "INFO: Aggregated I/O statistics (set debug=1 for file-wise information)\n",
      "\t  3.367 MB written to files\n",
      "\t 62.000  B written to stdout/stderr\n"
     ]
    },
    {
     "name": "stdout",
     "output_type": "stream",
     "text": [
      "Running: //scratch/matthew/automate/ipy_oxDNA/umbrella_sampling_example/rro/rro_umbrella_com_2/production/4\n"
     ]
    },
    {
     "name": "stderr",
     "output_type": "stream",
     "text": [
      "INFO: Aggregated I/O statistics (set debug=1 for file-wise information)\n",
      "\t  3.368 MB written to files\n",
      "\t 62.000  B written to stdout/stderr\n"
     ]
    },
    {
     "name": "stdout",
     "output_type": "stream",
     "text": [
      "Running: //scratch/matthew/automate/ipy_oxDNA/umbrella_sampling_example/rro/rro_umbrella_com_2/production/5\n"
     ]
    },
    {
     "name": "stderr",
     "output_type": "stream",
     "text": [
      "INFO: Aggregated I/O statistics (set debug=1 for file-wise information)\n",
      "\t  3.368 MB written to files\n",
      "\t 62.000  B written to stdout/stderr\n"
     ]
    },
    {
     "name": "stdout",
     "output_type": "stream",
     "text": [
      "Running: //scratch/matthew/automate/ipy_oxDNA/umbrella_sampling_example/rro/rro_umbrella_com_2/production/6\n"
     ]
    },
    {
     "name": "stderr",
     "output_type": "stream",
     "text": [
      "INFO: Aggregated I/O statistics (set debug=1 for file-wise information)\n",
      "\t  3.368 MB written to files\n",
      "\t 62.000  B written to stdout/stderr\n"
     ]
    },
    {
     "name": "stdout",
     "output_type": "stream",
     "text": [
      "Running: //scratch/matthew/automate/ipy_oxDNA/umbrella_sampling_example/rro/rro_umbrella_com_2/production/7\n"
     ]
    },
    {
     "name": "stderr",
     "output_type": "stream",
     "text": [
      "INFO: Aggregated I/O statistics (set debug=1 for file-wise information)\n",
      "\t  3.368 MB written to files\n",
      "\t 62.000  B written to stdout/stderr\n"
     ]
    },
    {
     "name": "stdout",
     "output_type": "stream",
     "text": [
      "Running: //scratch/matthew/automate/ipy_oxDNA/umbrella_sampling_example/rro/rro_umbrella_com_2/production/8\n"
     ]
    },
    {
     "name": "stderr",
     "output_type": "stream",
     "text": [
      "INFO: Aggregated I/O statistics (set debug=1 for file-wise information)\n",
      "\t  3.368 MB written to files\n",
      "\t 62.000  B written to stdout/stderr\n"
     ]
    },
    {
     "name": "stdout",
     "output_type": "stream",
     "text": [
      "Running: //scratch/matthew/automate/ipy_oxDNA/umbrella_sampling_example/rro/rro_umbrella_com_2/production/9\n"
     ]
    },
    {
     "name": "stderr",
     "output_type": "stream",
     "text": [
      "INFO: Aggregated I/O statistics (set debug=1 for file-wise information)\n",
      "\t  3.368 MB written to files\n",
      "\t 62.000  B written to stdout/stderr\n"
     ]
    },
    {
     "name": "stdout",
     "output_type": "stream",
     "text": [
      "Running: //scratch/matthew/automate/ipy_oxDNA/umbrella_sampling_example/rro/rro_umbrella_com_2/production/10\n"
     ]
    },
    {
     "name": "stderr",
     "output_type": "stream",
     "text": [
      "INFO: Aggregated I/O statistics (set debug=1 for file-wise information)\n",
      "\t  3.369 MB written to files\n",
      "\t 62.000  B written to stdout/stderr\n"
     ]
    },
    {
     "name": "stdout",
     "output_type": "stream",
     "text": [
      "Running: //scratch/matthew/automate/ipy_oxDNA/umbrella_sampling_example/rro/rro_umbrella_com_2/production/11\n"
     ]
    },
    {
     "name": "stderr",
     "output_type": "stream",
     "text": [
      "INFO: Aggregated I/O statistics (set debug=1 for file-wise information)\n",
      "\t  3.368 MB written to files\n",
      "\t 62.000  B written to stdout/stderr\n"
     ]
    },
    {
     "name": "stdout",
     "output_type": "stream",
     "text": [
      "Running: //scratch/matthew/automate/ipy_oxDNA/umbrella_sampling_example/rro/rro_umbrella_com_2/production/12\n"
     ]
    },
    {
     "name": "stderr",
     "output_type": "stream",
     "text": [
      "INFO: Aggregated I/O statistics (set debug=1 for file-wise information)\n",
      "\t  3.368 MB written to files\n",
      "\t 62.000  B written to stdout/stderr\n"
     ]
    },
    {
     "name": "stdout",
     "output_type": "stream",
     "text": [
      "Running: //scratch/matthew/automate/ipy_oxDNA/umbrella_sampling_example/rro/rro_umbrella_com_2/production/13\n"
     ]
    },
    {
     "name": "stderr",
     "output_type": "stream",
     "text": [
      "INFO: Aggregated I/O statistics (set debug=1 for file-wise information)\n",
      "\t  3.367 MB written to files\n",
      "\t 62.000  B written to stdout/stderr\n"
     ]
    },
    {
     "name": "stdout",
     "output_type": "stream",
     "text": [
      "Running: //scratch/matthew/automate/ipy_oxDNA/umbrella_sampling_example/rro/rro_umbrella_com_2/production/14\n"
     ]
    },
    {
     "name": "stderr",
     "output_type": "stream",
     "text": [
      "INFO: Aggregated I/O statistics (set debug=1 for file-wise information)\n",
      "\t  3.369 MB written to files\n",
      "\t 62.000  B written to stdout/stderr\n"
     ]
    },
    {
     "name": "stdout",
     "output_type": "stream",
     "text": [
      "Running: //scratch/matthew/automate/ipy_oxDNA/umbrella_sampling_example/rro/rro_umbrella_com_2/production/15\n"
     ]
    },
    {
     "name": "stderr",
     "output_type": "stream",
     "text": [
      "INFO: Aggregated I/O statistics (set debug=1 for file-wise information)\n",
      "\t  3.367 MB written to files\n",
      "\t 62.000  B written to stdout/stderr\n"
     ]
    },
    {
     "name": "stdout",
     "output_type": "stream",
     "text": [
      "Running: //scratch/matthew/automate/ipy_oxDNA/umbrella_sampling_example/rro/rro_umbrella_com_2/production/16\n"
     ]
    },
    {
     "name": "stderr",
     "output_type": "stream",
     "text": [
      "INFO: Aggregated I/O statistics (set debug=1 for file-wise information)\n",
      "\t  3.367 MB written to files\n",
      "\t 62.000  B written to stdout/stderr\n"
     ]
    },
    {
     "name": "stdout",
     "output_type": "stream",
     "text": [
      "Running: //scratch/matthew/automate/ipy_oxDNA/umbrella_sampling_example/rro/rro_umbrella_com_2/production/17\n"
     ]
    },
    {
     "name": "stderr",
     "output_type": "stream",
     "text": [
      "INFO: Aggregated I/O statistics (set debug=1 for file-wise information)\n",
      "\t  3.369 MB written to files\n",
      "\t 62.000  B written to stdout/stderr\n"
     ]
    },
    {
     "name": "stdout",
     "output_type": "stream",
     "text": [
      "Running: //scratch/matthew/automate/ipy_oxDNA/umbrella_sampling_example/rro/rro_umbrella_com_2/production/18\n"
     ]
    },
    {
     "name": "stderr",
     "output_type": "stream",
     "text": [
      "INFO: Aggregated I/O statistics (set debug=1 for file-wise information)\n",
      "\t  3.368 MB written to files\n",
      "\t 62.000  B written to stdout/stderr\n"
     ]
    },
    {
     "name": "stdout",
     "output_type": "stream",
     "text": [
      "Running: //scratch/matthew/automate/ipy_oxDNA/umbrella_sampling_example/rro/rro_umbrella_com_2/production/19\n"
     ]
    },
    {
     "name": "stderr",
     "output_type": "stream",
     "text": [
      "INFO: Aggregated I/O statistics (set debug=1 for file-wise information)\n",
      "\t  3.368 MB written to files\n",
      "\t 62.000  B written to stdout/stderr\n"
     ]
    },
    {
     "name": "stdout",
     "output_type": "stream",
     "text": [
      "Running: //scratch/matthew/automate/ipy_oxDNA/umbrella_sampling_example/rro/rro_umbrella_com_2/production/20\n"
     ]
    },
    {
     "name": "stderr",
     "output_type": "stream",
     "text": [
      "INFO: Aggregated I/O statistics (set debug=1 for file-wise information)\n",
      "\t  3.369 MB written to files\n",
      "\t 62.000  B written to stdout/stderr\n"
     ]
    },
    {
     "name": "stdout",
     "output_type": "stream",
     "text": [
      "Running: //scratch/matthew/automate/ipy_oxDNA/umbrella_sampling_example/rro/rro_umbrella_com_2/production/21\n"
     ]
    },
    {
     "name": "stderr",
     "output_type": "stream",
     "text": [
      "INFO: Aggregated I/O statistics (set debug=1 for file-wise information)\n",
      "\t  3.368 MB written to files\n",
      "\t 62.000  B written to stdout/stderr\n"
     ]
    },
    {
     "name": "stdout",
     "output_type": "stream",
     "text": [
      "Running: //scratch/matthew/automate/ipy_oxDNA/umbrella_sampling_example/rro/rro_umbrella_com_2/production/22\n"
     ]
    },
    {
     "name": "stderr",
     "output_type": "stream",
     "text": [
      "INFO: Aggregated I/O statistics (set debug=1 for file-wise information)\n",
      "\t  3.369 MB written to files\n",
      "\t 62.000  B written to stdout/stderr\n"
     ]
    },
    {
     "name": "stdout",
     "output_type": "stream",
     "text": [
      "Running: //scratch/matthew/automate/ipy_oxDNA/umbrella_sampling_example/rro/rro_umbrella_com_2/production/23\n"
     ]
    },
    {
     "name": "stderr",
     "output_type": "stream",
     "text": [
      "INFO: Aggregated I/O statistics (set debug=1 for file-wise information)\n",
      "\t  3.368 MB written to files\n",
      "\t 62.000  B written to stdout/stderr\n"
     ]
    },
    {
     "name": "stdout",
     "output_type": "stream",
     "text": [
      "Running: //scratch/matthew/automate/ipy_oxDNA/umbrella_sampling_example/rro/rro_umbrella_com_2/production/24\n"
     ]
    },
    {
     "name": "stderr",
     "output_type": "stream",
     "text": [
      "INFO: Aggregated I/O statistics (set debug=1 for file-wise information)\n",
      "\t  3.369 MB written to files\n",
      "\t 62.000  B written to stdout/stderr\n"
     ]
    },
    {
     "name": "stdout",
     "output_type": "stream",
     "text": [
      "Running: //scratch/matthew/automate/ipy_oxDNA/umbrella_sampling_example/rro/rro_umbrella_com_2/production/25\n"
     ]
    },
    {
     "name": "stderr",
     "output_type": "stream",
     "text": [
      "INFO: Aggregated I/O statistics (set debug=1 for file-wise information)\n",
      "\t  3.368 MB written to files\n",
      "\t 62.000  B written to stdout/stderr\n"
     ]
    },
    {
     "name": "stdout",
     "output_type": "stream",
     "text": [
      "Running: //scratch/matthew/automate/ipy_oxDNA/umbrella_sampling_example/rro/rro_umbrella_com_2/production/26\n"
     ]
    },
    {
     "name": "stderr",
     "output_type": "stream",
     "text": [
      "INFO: Aggregated I/O statistics (set debug=1 for file-wise information)\n",
      "\t  3.367 MB written to files\n",
      "\t 62.000  B written to stdout/stderr\n"
     ]
    },
    {
     "name": "stdout",
     "output_type": "stream",
     "text": [
      "Running: //scratch/matthew/automate/ipy_oxDNA/umbrella_sampling_example/rro/rro_umbrella_com_2/production/27\n"
     ]
    },
    {
     "name": "stderr",
     "output_type": "stream",
     "text": [
      "INFO: Aggregated I/O statistics (set debug=1 for file-wise information)\n",
      "\t  3.368 MB written to files\n",
      "\t 62.000  B written to stdout/stderr\n"
     ]
    },
    {
     "name": "stdout",
     "output_type": "stream",
     "text": [
      "Running: //scratch/matthew/automate/ipy_oxDNA/umbrella_sampling_example/rro/rro_umbrella_com_2/production/28\n"
     ]
    },
    {
     "name": "stderr",
     "output_type": "stream",
     "text": [
      "INFO: Aggregated I/O statistics (set debug=1 for file-wise information)\n",
      "\t  3.368 MB written to files\n",
      "\t 62.000  B written to stdout/stderr\n"
     ]
    },
    {
     "name": "stdout",
     "output_type": "stream",
     "text": [
      "Running: //scratch/matthew/automate/ipy_oxDNA/umbrella_sampling_example/rro/rro_umbrella_com_2/production/29\n"
     ]
    },
    {
     "name": "stderr",
     "output_type": "stream",
     "text": [
      "INFO: Aggregated I/O statistics (set debug=1 for file-wise information)\n",
      "\t  3.368 MB written to files\n",
      "\t 62.000  B written to stdout/stderr\n"
     ]
    },
    {
     "name": "stdout",
     "output_type": "stream",
     "text": [
      "Running: //scratch/matthew/automate/ipy_oxDNA/umbrella_sampling_example/rro/rro_umbrella_com_2/production/30\n"
     ]
    },
    {
     "name": "stderr",
     "output_type": "stream",
     "text": [
      "INFO: Aggregated I/O statistics (set debug=1 for file-wise information)\n",
      "\t  3.369 MB written to files\n",
      "\t 62.000  B written to stdout/stderr\n"
     ]
    },
    {
     "name": "stdout",
     "output_type": "stream",
     "text": [
      "Running: //scratch/matthew/automate/ipy_oxDNA/umbrella_sampling_example/rro/rro_umbrella_com_2/production/31\n"
     ]
    },
    {
     "name": "stderr",
     "output_type": "stream",
     "text": [
      "INFO: Aggregated I/O statistics (set debug=1 for file-wise information)\n",
      "\t  3.368 MB written to files\n",
      "\t 62.000  B written to stdout/stderr\n"
     ]
    },
    {
     "name": "stdout",
     "output_type": "stream",
     "text": [
      "Running: //scratch/matthew/automate/ipy_oxDNA/umbrella_sampling_example/rro/rro_umbrella_com_2/production/32\n"
     ]
    },
    {
     "name": "stderr",
     "output_type": "stream",
     "text": [
      "INFO: Aggregated I/O statistics (set debug=1 for file-wise information)\n",
      "\t  3.368 MB written to files\n",
      "\t 62.000  B written to stdout/stderr\n"
     ]
    },
    {
     "name": "stdout",
     "output_type": "stream",
     "text": [
      "Running: //scratch/matthew/automate/ipy_oxDNA/umbrella_sampling_example/rro/rro_umbrella_com_2/production/33\n"
     ]
    },
    {
     "name": "stderr",
     "output_type": "stream",
     "text": [
      "INFO: Aggregated I/O statistics (set debug=1 for file-wise information)\n",
      "\t  3.368 MB written to files\n",
      "\t 62.000  B written to stdout/stderr\n"
     ]
    },
    {
     "name": "stdout",
     "output_type": "stream",
     "text": [
      "Running: //scratch/matthew/automate/ipy_oxDNA/umbrella_sampling_example/rro/rro_umbrella_com_2/production/34\n"
     ]
    },
    {
     "name": "stderr",
     "output_type": "stream",
     "text": [
      "INFO: Aggregated I/O statistics (set debug=1 for file-wise information)\n",
      "\t  3.368 MB written to files\n",
      "\t 62.000  B written to stdout/stderr\n"
     ]
    },
    {
     "name": "stdout",
     "output_type": "stream",
     "text": [
      "Running: //scratch/matthew/automate/ipy_oxDNA/umbrella_sampling_example/rro/rro_umbrella_com_2/production/35\n"
     ]
    },
    {
     "name": "stderr",
     "output_type": "stream",
     "text": [
      "INFO: Aggregated I/O statistics (set debug=1 for file-wise information)\n",
      "\t  3.368 MB written to files\n",
      "\t 62.000  B written to stdout/stderr\n"
     ]
    },
    {
     "name": "stdout",
     "output_type": "stream",
     "text": [
      "Running: //scratch/matthew/automate/ipy_oxDNA/umbrella_sampling_example/rro/rro_umbrella_com_2/production/36\n"
     ]
    },
    {
     "name": "stderr",
     "output_type": "stream",
     "text": [
      "INFO: Aggregated I/O statistics (set debug=1 for file-wise information)\n",
      "\t  3.368 MB written to files\n",
      "\t 62.000  B written to stdout/stderr\n"
     ]
    },
    {
     "name": "stdout",
     "output_type": "stream",
     "text": [
      "Running: //scratch/matthew/automate/ipy_oxDNA/umbrella_sampling_example/rro/rro_umbrella_com_2/production/37\n"
     ]
    },
    {
     "name": "stderr",
     "output_type": "stream",
     "text": [
      "INFO: Aggregated I/O statistics (set debug=1 for file-wise information)\n",
      "\t  3.369 MB written to files\n",
      "\t 62.000  B written to stdout/stderr\n"
     ]
    },
    {
     "name": "stdout",
     "output_type": "stream",
     "text": [
      "Finished: //scratch/matthew/automate/ipy_oxDNA/umbrella_sampling_example/rro/rro_umbrella_com_2/production/1\n",
      "Simulation worker finished\n"
     ]
    },
    {
     "name": "stderr",
     "output_type": "stream",
     "text": [
      "INFO: Lists updated 4658 times (every ~214.684414 steps)\n",
      "INFO: Aggregated I/O statistics (set debug=1 for file-wise information)\n",
      "\t 10.108 MB written to files\n",
      "\t124.000  B written to stdout/stderr\n",
      "\tFor a total of   0.0212 MB/s\n",
      "\n"
     ]
    },
    {
     "name": "stdout",
     "output_type": "stream",
     "text": [
      "Running: //scratch/matthew/automate/ipy_oxDNA/umbrella_sampling_example/rro/rro_umbrella_com_2/production/38\n"
     ]
    },
    {
     "name": "stderr",
     "output_type": "stream",
     "text": [
      "INFO: Aggregated I/O statistics (set debug=1 for file-wise information)\n",
      "\t  3.368 MB written to files\n",
      "\t 62.000  B written to stdout/stderr\n"
     ]
    },
    {
     "name": "stdout",
     "output_type": "stream",
     "text": [
      "Finished: //scratch/matthew/automate/ipy_oxDNA/umbrella_sampling_example/rro/rro_umbrella_com_2/production/3\n",
      "Simulation worker finished\n"
     ]
    },
    {
     "name": "stderr",
     "output_type": "stream",
     "text": [
      "INFO: Lists updated 4679 times (every ~213.720881 steps)\n",
      "INFO: Aggregated I/O statistics (set debug=1 for file-wise information)\n",
      "\t 10.104 MB written to files\n",
      "\t124.000  B written to stdout/stderr\n",
      "\tFor a total of   0.0208 MB/s\n",
      "\n"
     ]
    },
    {
     "name": "stdout",
     "output_type": "stream",
     "text": [
      "Running: //scratch/matthew/automate/ipy_oxDNA/umbrella_sampling_example/rro/rro_umbrella_com_2/production/39\n"
     ]
    },
    {
     "name": "stderr",
     "output_type": "stream",
     "text": [
      "INFO: Aggregated I/O statistics (set debug=1 for file-wise information)\n",
      "\t  3.369 MB written to files\n",
      "\t 62.000  B written to stdout/stderr\n"
     ]
    },
    {
     "name": "stdout",
     "output_type": "stream",
     "text": [
      "Finished: //scratch/matthew/automate/ipy_oxDNA/umbrella_sampling_example/rro/rro_umbrella_com_2/production/4\n",
      "Simulation worker finished\n"
     ]
    },
    {
     "name": "stderr",
     "output_type": "stream",
     "text": [
      "INFO: Lists updated 4703 times (every ~212.630236 steps)\n",
      "INFO: Aggregated I/O statistics (set debug=1 for file-wise information)\n",
      "\t 10.104 MB written to files\n",
      "\t124.000  B written to stdout/stderr\n",
      "\tFor a total of   0.0206 MB/s\n",
      "\n"
     ]
    },
    {
     "name": "stdout",
     "output_type": "stream",
     "text": [
      "Running: //scratch/matthew/automate/ipy_oxDNA/umbrella_sampling_example/rro/rro_umbrella_com_2/production/40\n"
     ]
    },
    {
     "name": "stderr",
     "output_type": "stream",
     "text": [
      "INFO: Aggregated I/O statistics (set debug=1 for file-wise information)\n",
      "\t  3.368 MB written to files\n",
      "\t 62.000  B written to stdout/stderr\n"
     ]
    },
    {
     "name": "stdout",
     "output_type": "stream",
     "text": [
      "Finished: //scratch/matthew/automate/ipy_oxDNA/umbrella_sampling_example/rro/rro_umbrella_com_2/production/0\n",
      "Simulation worker finished\n"
     ]
    },
    {
     "name": "stderr",
     "output_type": "stream",
     "text": [
      "INFO: Lists updated 4659 times (every ~214.638334 steps)\n",
      "INFO: Aggregated I/O statistics (set debug=1 for file-wise information)\n",
      "\t 10.105 MB written to files\n",
      "\t124.000  B written to stdout/stderr\n",
      "\tFor a total of   0.0199 MB/s\n",
      "\n"
     ]
    },
    {
     "name": "stdout",
     "output_type": "stream",
     "text": [
      "Running: //scratch/matthew/automate/ipy_oxDNA/umbrella_sampling_example/rro/rro_umbrella_com_2/production/41\n"
     ]
    },
    {
     "name": "stderr",
     "output_type": "stream",
     "text": [
      "INFO: Aggregated I/O statistics (set debug=1 for file-wise information)\n",
      "\t  3.368 MB written to files\n",
      "\t 62.000  B written to stdout/stderr\n"
     ]
    },
    {
     "name": "stdout",
     "output_type": "stream",
     "text": [
      "Finished: //scratch/matthew/automate/ipy_oxDNA/umbrella_sampling_example/rro/rro_umbrella_com_2/production/2\n",
      "Simulation worker finished\n"
     ]
    },
    {
     "name": "stderr",
     "output_type": "stream",
     "text": [
      "INFO: Lists updated 4628 times (every ~216.076059 steps)\n",
      "INFO: Aggregated I/O statistics (set debug=1 for file-wise information)\n",
      "\t 10.104 MB written to files\n",
      "\t124.000  B written to stdout/stderr\n",
      "\tFor a total of   0.0196 MB/s\n",
      "\n"
     ]
    },
    {
     "name": "stdout",
     "output_type": "stream",
     "text": [
      "Finished: //scratch/matthew/automate/ipy_oxDNA/umbrella_sampling_example/rro/rro_umbrella_com_2/production/5\n",
      "Simulation worker finished\n"
     ]
    },
    {
     "name": "stderr",
     "output_type": "stream",
     "text": [
      "INFO: Lists updated 4653 times (every ~214.915109 steps)\n",
      "INFO: Aggregated I/O statistics (set debug=1 for file-wise information)\n",
      "\t 10.104 MB written to files\n",
      "\t124.000  B written to stdout/stderr\n",
      "\tFor a total of   0.0201 MB/s\n",
      "\n"
     ]
    },
    {
     "name": "stdout",
     "output_type": "stream",
     "text": [
      "Running: //scratch/matthew/automate/ipy_oxDNA/umbrella_sampling_example/rro/rro_umbrella_com_2/production/42\n"
     ]
    },
    {
     "name": "stderr",
     "output_type": "stream",
     "text": [
      "INFO: Aggregated I/O statistics (set debug=1 for file-wise information)\n",
      "\t  3.368 MB written to files\n",
      "\t 62.000  B written to stdout/stderr\n"
     ]
    },
    {
     "name": "stdout",
     "output_type": "stream",
     "text": [
      "Running: //scratch/matthew/automate/ipy_oxDNA/umbrella_sampling_example/rro/rro_umbrella_com_2/production/43\n"
     ]
    },
    {
     "name": "stderr",
     "output_type": "stream",
     "text": [
      "INFO: Aggregated I/O statistics (set debug=1 for file-wise information)\n",
      "\t  3.368 MB written to files\n",
      "\t 62.000  B written to stdout/stderr\n"
     ]
    },
    {
     "name": "stdout",
     "output_type": "stream",
     "text": [
      "Finished: //scratch/matthew/automate/ipy_oxDNA/umbrella_sampling_example/rro/rro_umbrella_com_2/production/9\n",
      "Simulation worker finished\n"
     ]
    },
    {
     "name": "stderr",
     "output_type": "stream",
     "text": [
      "INFO: Lists updated 4664 times (every ~214.408233 steps)\n",
      "INFO: Aggregated I/O statistics (set debug=1 for file-wise information)\n",
      "\t 10.104 MB written to files\n",
      "\t124.000  B written to stdout/stderr\n",
      "\tFor a total of   0.0197 MB/s\n",
      "\n"
     ]
    },
    {
     "name": "stdout",
     "output_type": "stream",
     "text": [
      "Running: //scratch/matthew/automate/ipy_oxDNA/umbrella_sampling_example/rro/rro_umbrella_com_2/production/44\n"
     ]
    },
    {
     "name": "stderr",
     "output_type": "stream",
     "text": [
      "INFO: Aggregated I/O statistics (set debug=1 for file-wise information)\n",
      "\t  3.367 MB written to files\n",
      "\t 62.000  B written to stdout/stderr\n"
     ]
    },
    {
     "name": "stdout",
     "output_type": "stream",
     "text": [
      "Finished: //scratch/matthew/automate/ipy_oxDNA/umbrella_sampling_example/rro/rro_umbrella_com_2/production/10\n",
      "Simulation worker finished\n"
     ]
    },
    {
     "name": "stderr",
     "output_type": "stream",
     "text": [
      "INFO: Lists updated 4663 times (every ~214.454214 steps)\n",
      "INFO: Aggregated I/O statistics (set debug=1 for file-wise information)\n",
      "\t 10.109 MB written to files\n",
      "\t124.000  B written to stdout/stderr\n",
      "\tFor a total of   0.0193 MB/s\n",
      "\n"
     ]
    },
    {
     "name": "stdout",
     "output_type": "stream",
     "text": [
      "Running: //scratch/matthew/automate/ipy_oxDNA/umbrella_sampling_example/rro/rro_umbrella_com_2/production/45\n"
     ]
    },
    {
     "name": "stderr",
     "output_type": "stream",
     "text": [
      "INFO: Aggregated I/O statistics (set debug=1 for file-wise information)\n",
      "\t  3.368 MB written to files\n",
      "\t 62.000  B written to stdout/stderr\n"
     ]
    },
    {
     "name": "stdout",
     "output_type": "stream",
     "text": [
      "Finished: //scratch/matthew/automate/ipy_oxDNA/umbrella_sampling_example/rro/rro_umbrella_com_2/production/6\n",
      "Simulation worker finished\n"
     ]
    },
    {
     "name": "stderr",
     "output_type": "stream",
     "text": [
      "INFO: Lists updated 4692 times (every ~213.128730 steps)\n",
      "INFO: Aggregated I/O statistics (set debug=1 for file-wise information)\n",
      "\t 10.108 MB written to files\n",
      "\t124.000  B written to stdout/stderr\n",
      "\tFor a total of   0.0187 MB/s\n",
      "\n"
     ]
    },
    {
     "name": "stdout",
     "output_type": "stream",
     "text": [
      "Running: //scratch/matthew/automate/ipy_oxDNA/umbrella_sampling_example/rro/rro_umbrella_com_2/production/46\n"
     ]
    },
    {
     "name": "stderr",
     "output_type": "stream",
     "text": [
      "INFO: Aggregated I/O statistics (set debug=1 for file-wise information)\n",
      "\t  3.368 MB written to files\n",
      "\t 62.000  B written to stdout/stderr\n"
     ]
    },
    {
     "name": "stdout",
     "output_type": "stream",
     "text": [
      "Finished: //scratch/matthew/automate/ipy_oxDNA/umbrella_sampling_example/rro/rro_umbrella_com_2/production/7\n",
      "Simulation worker finished\n"
     ]
    },
    {
     "name": "stderr",
     "output_type": "stream",
     "text": [
      "INFO: Lists updated 4661 times (every ~214.546235 steps)\n",
      "INFO: Aggregated I/O statistics (set debug=1 for file-wise information)\n",
      "\t 10.106 MB written to files\n",
      "\t124.000  B written to stdout/stderr\n",
      "\tFor a total of   0.0185 MB/s\n",
      "\n"
     ]
    },
    {
     "name": "stdout",
     "output_type": "stream",
     "text": [
      "Running: //scratch/matthew/automate/ipy_oxDNA/umbrella_sampling_example/rro/rro_umbrella_com_2/production/47\n"
     ]
    },
    {
     "name": "stderr",
     "output_type": "stream",
     "text": [
      "INFO: Aggregated I/O statistics (set debug=1 for file-wise information)\n",
      "\t  3.368 MB written to files\n",
      "\t 62.000  B written to stdout/stderr\n"
     ]
    },
    {
     "name": "stdout",
     "output_type": "stream",
     "text": [
      "Finished: //scratch/matthew/automate/ipy_oxDNA/umbrella_sampling_example/rro/rro_umbrella_com_2/production/14\n",
      "Simulation worker finished\n",
      "Finished: //scratch/matthew/automate/ipy_oxDNA/umbrella_sampling_example/rro/rro_umbrella_com_2/production/8\n",
      "Simulation worker finished\n"
     ]
    },
    {
     "name": "stderr",
     "output_type": "stream",
     "text": [
      "INFO: Lists updated 4617 times (every ~216.590860 steps)\n",
      "INFO: Aggregated I/O statistics (set debug=1 for file-wise information)\n",
      "\t 10.110 MB written to files\n",
      "\t124.000  B written to stdout/stderr\n",
      "\tFor a total of   0.0188 MB/s\n",
      "\n",
      "INFO: Lists updated 4645 times (every ~215.285253 steps)\n",
      "INFO: Aggregated I/O statistics (set debug=1 for file-wise information)\n",
      "\t 10.109 MB written to files\n",
      "\t124.000  B written to stdout/stderr\n",
      "\tFor a total of   0.0183 MB/s\n",
      "\n"
     ]
    },
    {
     "name": "stdout",
     "output_type": "stream",
     "text": [
      "Running: //scratch/matthew/automate/ipy_oxDNA/umbrella_sampling_example/rro/rro_umbrella_com_2/production/48\n"
     ]
    },
    {
     "name": "stderr",
     "output_type": "stream",
     "text": [
      "INFO: Aggregated I/O statistics (set debug=1 for file-wise information)\n",
      "\t  3.368 MB written to files\n",
      "\t 62.000  B written to stdout/stderr\n"
     ]
    },
    {
     "name": "stdout",
     "output_type": "stream",
     "text": [
      "Finished: //scratch/matthew/automate/ipy_oxDNA/umbrella_sampling_example/rro/rro_umbrella_com_2/production/15\n",
      "Simulation worker finished\n"
     ]
    },
    {
     "name": "stderr",
     "output_type": "stream",
     "text": [
      "INFO: Lists updated 4603 times (every ~217.249620 steps)\n",
      "INFO: Aggregated I/O statistics (set debug=1 for file-wise information)\n",
      "\t 10.106 MB written to files\n",
      "\t124.000  B written to stdout/stderr\n",
      "\tFor a total of   0.0188 MB/s\n",
      "\n"
     ]
    },
    {
     "name": "stdout",
     "output_type": "stream",
     "text": [
      "Running: //scratch/matthew/automate/ipy_oxDNA/umbrella_sampling_example/rro/rro_umbrella_com_2/production/49\n"
     ]
    },
    {
     "name": "stderr",
     "output_type": "stream",
     "text": [
      "INFO: Aggregated I/O statistics (set debug=1 for file-wise information)\n",
      "\t  3.368 MB written to files\n",
      "\t 62.000  B written to stdout/stderr\n"
     ]
    },
    {
     "name": "stdout",
     "output_type": "stream",
     "text": [
      "Finished: //scratch/matthew/automate/ipy_oxDNA/umbrella_sampling_example/rro/rro_umbrella_com_2/production/11\n",
      "Simulation worker finished\n"
     ]
    },
    {
     "name": "stderr",
     "output_type": "stream",
     "text": [
      "INFO: Lists updated 4679 times (every ~213.720881 steps)\n",
      "INFO: Aggregated I/O statistics (set debug=1 for file-wise information)\n",
      "\t 10.106 MB written to files\n",
      "\t124.000  B written to stdout/stderr\n",
      "\tFor a total of    0.018 MB/s\n",
      "\n"
     ]
    },
    {
     "name": "stdout",
     "output_type": "stream",
     "text": [
      "Running: //scratch/matthew/automate/ipy_oxDNA/umbrella_sampling_example/rro/rro_umbrella_com_2/production/50\n"
     ]
    },
    {
     "name": "stderr",
     "output_type": "stream",
     "text": [
      "INFO: Aggregated I/O statistics (set debug=1 for file-wise information)\n",
      "\t  3.368 MB written to files\n",
      "\t 62.000  B written to stdout/stderr\n"
     ]
    },
    {
     "name": "stdout",
     "output_type": "stream",
     "text": [
      "Finished: //scratch/matthew/automate/ipy_oxDNA/umbrella_sampling_example/rro/rro_umbrella_com_2/production/16\n",
      "Simulation worker finished\n"
     ]
    },
    {
     "name": "stderr",
     "output_type": "stream",
     "text": [
      "INFO: Lists updated 4640 times (every ~215.517241 steps)\n",
      "INFO: Aggregated I/O statistics (set debug=1 for file-wise information)\n",
      "\t 10.106 MB written to files\n",
      "\t124.000  B written to stdout/stderr\n",
      "\tFor a total of   0.0186 MB/s\n",
      "\n"
     ]
    },
    {
     "name": "stdout",
     "output_type": "stream",
     "text": [
      "Running: //scratch/matthew/automate/ipy_oxDNA/umbrella_sampling_example/rro/rro_umbrella_com_2/production/51\n"
     ]
    },
    {
     "name": "stderr",
     "output_type": "stream",
     "text": [
      "INFO: Aggregated I/O statistics (set debug=1 for file-wise information)\n",
      "\t  3.369 MB written to files\n",
      "\t 62.000  B written to stdout/stderr\n"
     ]
    },
    {
     "name": "stdout",
     "output_type": "stream",
     "text": [
      "Running: //scratch/matthew/automate/ipy_oxDNA/umbrella_sampling_example/rro/rro_umbrella_com_2/production/52\n"
     ]
    },
    {
     "name": "stderr",
     "output_type": "stream",
     "text": [
      "INFO: Aggregated I/O statistics (set debug=1 for file-wise information)\n",
      "\t  3.368 MB written to files\n",
      "\t 62.000  B written to stdout/stderr\n"
     ]
    },
    {
     "name": "stdout",
     "output_type": "stream",
     "text": [
      "Finished: //scratch/matthew/automate/ipy_oxDNA/umbrella_sampling_example/rro/rro_umbrella_com_2/production/17\n",
      "Simulation worker finished\n",
      "Finished: //scratch/matthew/automate/ipy_oxDNA/umbrella_sampling_example/rro/rro_umbrella_com_2/production/12\n",
      "Simulation worker finished\n"
     ]
    },
    {
     "name": "stderr",
     "output_type": "stream",
     "text": [
      "INFO: Lists updated 4647 times (every ~215.192597 steps)\n",
      "INFO: Aggregated I/O statistics (set debug=1 for file-wise information)\n",
      "\t 10.106 MB written to files\n",
      "\t124.000  B written to stdout/stderr\n",
      "\tFor a total of   0.0184 MB/s\n",
      "\n",
      "INFO: Lists updated 4632 times (every ~215.889465 steps)\n",
      "INFO: Aggregated I/O statistics (set debug=1 for file-wise information)\n",
      "\t 10.105 MB written to files\n",
      "\t124.000  B written to stdout/stderr\n",
      "\tFor a total of   0.0178 MB/s\n",
      "\n"
     ]
    },
    {
     "name": "stdout",
     "output_type": "stream",
     "text": [
      "Running: //scratch/matthew/automate/ipy_oxDNA/umbrella_sampling_example/rro/rro_umbrella_com_2/production/53\n"
     ]
    },
    {
     "name": "stderr",
     "output_type": "stream",
     "text": [
      "INFO: Aggregated I/O statistics (set debug=1 for file-wise information)\n",
      "\t  3.368 MB written to files\n",
      "\t 62.000  B written to stdout/stderr\n"
     ]
    },
    {
     "name": "stdout",
     "output_type": "stream",
     "text": [
      "Finished: //scratch/matthew/automate/ipy_oxDNA/umbrella_sampling_example/rro/rro_umbrella_com_2/production/13\n",
      "Simulation worker finished\n"
     ]
    },
    {
     "name": "stderr",
     "output_type": "stream",
     "text": [
      "INFO: Lists updated 4636 times (every ~215.703192 steps)\n",
      "INFO: Aggregated I/O statistics (set debug=1 for file-wise information)\n",
      "\t 10.101 MB written to files\n",
      "\t124.000  B written to stdout/stderr\n",
      "\tFor a total of   0.0177 MB/s\n",
      "\n"
     ]
    },
    {
     "name": "stdout",
     "output_type": "stream",
     "text": [
      "Running: //scratch/matthew/automate/ipy_oxDNA/umbrella_sampling_example/rro/rro_umbrella_com_2/production/54\n"
     ]
    },
    {
     "name": "stderr",
     "output_type": "stream",
     "text": [
      "INFO: Aggregated I/O statistics (set debug=1 for file-wise information)\n",
      "\t  3.369 MB written to files\n",
      "\t 62.000  B written to stdout/stderr\n"
     ]
    },
    {
     "name": "stdout",
     "output_type": "stream",
     "text": [
      "Running: //scratch/matthew/automate/ipy_oxDNA/umbrella_sampling_example/rro/rro_umbrella_com_2/production/55\n"
     ]
    },
    {
     "name": "stderr",
     "output_type": "stream",
     "text": [
      "INFO: Aggregated I/O statistics (set debug=1 for file-wise information)\n",
      "\t  3.369 MB written to files\n",
      "\t 62.000  B written to stdout/stderr\n"
     ]
    },
    {
     "name": "stdout",
     "output_type": "stream",
     "text": [
      "Finished: //scratch/matthew/automate/ipy_oxDNA/umbrella_sampling_example/rro/rro_umbrella_com_2/production/23\n",
      "Simulation worker finished\n"
     ]
    },
    {
     "name": "stderr",
     "output_type": "stream",
     "text": [
      "INFO: Lists updated 4629 times (every ~216.029380 steps)\n",
      "INFO: Aggregated I/O statistics (set debug=1 for file-wise information)\n",
      "\t 10.106 MB written to files\n",
      "\t124.000  B written to stdout/stderr\n",
      "\tFor a total of   0.0182 MB/s\n",
      "\n"
     ]
    },
    {
     "name": "stdout",
     "output_type": "stream",
     "text": [
      "Running: //scratch/matthew/automate/ipy_oxDNA/umbrella_sampling_example/rro/rro_umbrella_com_2/production/56\n"
     ]
    },
    {
     "name": "stderr",
     "output_type": "stream",
     "text": [
      "INFO: Aggregated I/O statistics (set debug=1 for file-wise information)\n",
      "\t  3.369 MB written to files\n",
      "\t 62.000  B written to stdout/stderr\n"
     ]
    },
    {
     "name": "stdout",
     "output_type": "stream",
     "text": [
      "Finished: //scratch/matthew/automate/ipy_oxDNA/umbrella_sampling_example/rro/rro_umbrella_com_2/production/21\n",
      "Simulation worker finished\n"
     ]
    },
    {
     "name": "stderr",
     "output_type": "stream",
     "text": [
      "INFO: Lists updated 4642 times (every ~215.424386 steps)\n",
      "INFO: Aggregated I/O statistics (set debug=1 for file-wise information)\n",
      "\t 10.105 MB written to files\n",
      "\t124.000  B written to stdout/stderr\n",
      "\tFor a total of    0.018 MB/s\n",
      "\n"
     ]
    },
    {
     "name": "stdout",
     "output_type": "stream",
     "text": [
      "Running: //scratch/matthew/automate/ipy_oxDNA/umbrella_sampling_example/rro/rro_umbrella_com_2/production/57\n"
     ]
    },
    {
     "name": "stderr",
     "output_type": "stream",
     "text": [
      "INFO: Aggregated I/O statistics (set debug=1 for file-wise information)\n",
      "\t  3.368 MB written to files\n",
      "\t 62.000  B written to stdout/stderr\n"
     ]
    },
    {
     "name": "stdout",
     "output_type": "stream",
     "text": [
      "Finished: //scratch/matthew/automate/ipy_oxDNA/umbrella_sampling_example/rro/rro_umbrella_com_2/production/24\n",
      "Simulation worker finished\n"
     ]
    },
    {
     "name": "stderr",
     "output_type": "stream",
     "text": [
      "INFO: Lists updated 4598 times (every ~217.485863 steps)\n",
      "INFO: Aggregated I/O statistics (set debug=1 for file-wise information)\n",
      "\t 10.107 MB written to files\n",
      "\t124.000  B written to stdout/stderr\n",
      "\tFor a total of   0.0182 MB/s\n",
      "\n"
     ]
    },
    {
     "name": "stdout",
     "output_type": "stream",
     "text": [
      "Running: //scratch/matthew/automate/ipy_oxDNA/umbrella_sampling_example/rro/rro_umbrella_com_2/production/58\n"
     ]
    },
    {
     "name": "stderr",
     "output_type": "stream",
     "text": [
      "INFO: Aggregated I/O statistics (set debug=1 for file-wise information)\n",
      "\t  3.370 MB written to files\n",
      "\t 62.000  B written to stdout/stderr\n"
     ]
    },
    {
     "name": "stdout",
     "output_type": "stream",
     "text": [
      "Finished: //scratch/matthew/automate/ipy_oxDNA/umbrella_sampling_example/rro/rro_umbrella_com_2/production/25\n",
      "Simulation worker finished\n"
     ]
    },
    {
     "name": "stderr",
     "output_type": "stream",
     "text": [
      "INFO: Lists updated 4651 times (every ~215.007525 steps)\n",
      "INFO: Aggregated I/O statistics (set debug=1 for file-wise information)\n",
      "\t 10.109 MB written to files\n",
      "\t124.000  B written to stdout/stderr\n",
      "\tFor a total of    0.018 MB/s\n",
      "\n"
     ]
    },
    {
     "name": "stdout",
     "output_type": "stream",
     "text": [
      "Finished: //scratch/matthew/automate/ipy_oxDNA/umbrella_sampling_example/rro/rro_umbrella_com_2/production/18\n",
      "Simulation worker finished\n"
     ]
    },
    {
     "name": "stderr",
     "output_type": "stream",
     "text": [
      "INFO: Lists updated 4615 times (every ~216.684724 steps)\n",
      "INFO: Aggregated I/O statistics (set debug=1 for file-wise information)\n",
      "\t 10.108 MB written to files\n",
      "\t124.000  B written to stdout/stderr\n",
      "\tFor a total of   0.0172 MB/s\n",
      "\n"
     ]
    },
    {
     "name": "stdout",
     "output_type": "stream",
     "text": [
      "Running: //scratch/matthew/automate/ipy_oxDNA/umbrella_sampling_example/rro/rro_umbrella_com_2/production/59\n"
     ]
    },
    {
     "name": "stderr",
     "output_type": "stream",
     "text": [
      "INFO: Aggregated I/O statistics (set debug=1 for file-wise information)\n",
      "\t  3.369 MB written to files\n",
      "\t 62.000  B written to stdout/stderr\n"
     ]
    },
    {
     "name": "stdout",
     "output_type": "stream",
     "text": [
      "Finished: //scratch/matthew/automate/ipy_oxDNA/umbrella_sampling_example/rro/rro_umbrella_com_2/production/19\n",
      "Simulation worker finished\n"
     ]
    },
    {
     "name": "stderr",
     "output_type": "stream",
     "text": [
      "INFO: Lists updated 4683 times (every ~213.538330 steps)\n",
      "INFO: Aggregated I/O statistics (set debug=1 for file-wise information)\n",
      "\t 10.107 MB written to files\n",
      "\t124.000  B written to stdout/stderr\n",
      "\tFor a total of   0.0171 MB/s\n",
      "\n"
     ]
    },
    {
     "name": "stdout",
     "output_type": "stream",
     "text": [
      "Running: //scratch/matthew/automate/ipy_oxDNA/umbrella_sampling_example/rro/rro_umbrella_com_2/production/60\n"
     ]
    },
    {
     "name": "stderr",
     "output_type": "stream",
     "text": [
      "INFO: Aggregated I/O statistics (set debug=1 for file-wise information)\n",
      "\t  3.367 MB written to files\n",
      "\t 62.000  B written to stdout/stderr\n"
     ]
    },
    {
     "name": "stdout",
     "output_type": "stream",
     "text": [
      "Running: //scratch/matthew/automate/ipy_oxDNA/umbrella_sampling_example/rro/rro_umbrella_com_2/production/61\n"
     ]
    },
    {
     "name": "stderr",
     "output_type": "stream",
     "text": [
      "INFO: Aggregated I/O statistics (set debug=1 for file-wise information)\n",
      "\t  3.370 MB written to files\n",
      "\t 62.000  B written to stdout/stderr\n"
     ]
    },
    {
     "name": "stdout",
     "output_type": "stream",
     "text": [
      "Finished: //scratch/matthew/automate/ipy_oxDNA/umbrella_sampling_example/rro/rro_umbrella_com_2/production/31\n",
      "Simulation worker finished\n"
     ]
    },
    {
     "name": "stderr",
     "output_type": "stream",
     "text": [
      "INFO: Lists updated 4651 times (every ~215.007525 steps)\n",
      "INFO: Aggregated I/O statistics (set debug=1 for file-wise information)\n",
      "\t 10.103 MB written to files\n",
      "\t124.000  B written to stdout/stderr\n",
      "\tFor a total of   0.0181 MB/s\n",
      "\n"
     ]
    },
    {
     "name": "stdout",
     "output_type": "stream",
     "text": [
      "Running: //scratch/matthew/automate/ipy_oxDNA/umbrella_sampling_example/rro/rro_umbrella_com_2/production/62\n"
     ]
    },
    {
     "name": "stderr",
     "output_type": "stream",
     "text": [
      "INFO: Aggregated I/O statistics (set debug=1 for file-wise information)\n",
      "\t  3.368 MB written to files\n",
      "\t 62.000  B written to stdout/stderr\n"
     ]
    },
    {
     "name": "stdout",
     "output_type": "stream",
     "text": [
      "Finished: //scratch/matthew/automate/ipy_oxDNA/umbrella_sampling_example/rro/rro_umbrella_com_2/production/30\n",
      "Simulation worker finished\n"
     ]
    },
    {
     "name": "stderr",
     "output_type": "stream",
     "text": [
      "INFO: Lists updated 4676 times (every ~213.857998 steps)\n",
      "INFO: Aggregated I/O statistics (set debug=1 for file-wise information)\n",
      "\t 10.108 MB written to files\n",
      "\t124.000  B written to stdout/stderr\n",
      "\tFor a total of   0.0179 MB/s\n",
      "\n"
     ]
    },
    {
     "name": "stdout",
     "output_type": "stream",
     "text": [
      "Finished: //scratch/matthew/automate/ipy_oxDNA/umbrella_sampling_example/rro/rro_umbrella_com_2/production/32\n",
      "Simulation worker finished\n"
     ]
    },
    {
     "name": "stderr",
     "output_type": "stream",
     "text": [
      "INFO: Lists updated 4579 times (every ~218.388294 steps)\n",
      "INFO: Aggregated I/O statistics (set debug=1 for file-wise information)\n",
      "\t 10.105 MB written to files\n",
      "\t124.000  B written to stdout/stderr\n",
      "\tFor a total of    0.018 MB/s\n",
      "\n"
     ]
    },
    {
     "name": "stdout",
     "output_type": "stream",
     "text": [
      "Running: //scratch/matthew/automate/ipy_oxDNA/umbrella_sampling_example/rro/rro_umbrella_com_2/production/63\n"
     ]
    },
    {
     "name": "stderr",
     "output_type": "stream",
     "text": [
      "INFO: Aggregated I/O statistics (set debug=1 for file-wise information)\n",
      "\t  3.368 MB written to files\n",
      "\t 62.000  B written to stdout/stderr\n"
     ]
    },
    {
     "name": "stdout",
     "output_type": "stream",
     "text": [
      "Running: //scratch/matthew/automate/ipy_oxDNA/umbrella_sampling_example/rro/rro_umbrella_com_2/production/64\n"
     ]
    },
    {
     "name": "stderr",
     "output_type": "stream",
     "text": [
      "INFO: Aggregated I/O statistics (set debug=1 for file-wise information)\n",
      "\t  3.368 MB written to files\n",
      "\t 62.000  B written to stdout/stderr\n"
     ]
    },
    {
     "name": "stdout",
     "output_type": "stream",
     "text": [
      "Finished: //scratch/matthew/automate/ipy_oxDNA/umbrella_sampling_example/rro/rro_umbrella_com_2/production/20\n",
      "Simulation worker finished\n",
      "Finished: //scratch/matthew/automate/ipy_oxDNA/umbrella_sampling_example/rro/rro_umbrella_com_2/production/22\n",
      "Simulation worker finished\n"
     ]
    },
    {
     "name": "stderr",
     "output_type": "stream",
     "text": [
      "INFO: Lists updated 4585 times (every ~218.102508 steps)\n",
      "INFO: Aggregated I/O statistics (set debug=1 for file-wise information)\n",
      "\t 10.106 MB written to files\n",
      "\t124.000  B written to stdout/stderr\n",
      "\tFor a total of    0.017 MB/s\n",
      "\n",
      "INFO: Lists updated 4671 times (every ~214.086919 steps)\n",
      "INFO: Aggregated I/O statistics (set debug=1 for file-wise information)\n",
      "\t 10.109 MB written to files\n",
      "\t124.000  B written to stdout/stderr\n",
      "\tFor a total of   0.0169 MB/s\n",
      "\n"
     ]
    },
    {
     "name": "stdout",
     "output_type": "stream",
     "text": [
      "Finished: //scratch/matthew/automate/ipy_oxDNA/umbrella_sampling_example/rro/rro_umbrella_com_2/production/33\n",
      "Simulation worker finished\n"
     ]
    },
    {
     "name": "stderr",
     "output_type": "stream",
     "text": [
      "INFO: Lists updated 4640 times (every ~215.517241 steps)\n",
      "INFO: Aggregated I/O statistics (set debug=1 for file-wise information)\n",
      "\t 10.105 MB written to files\n",
      "\t124.000  B written to stdout/stderr\n",
      "\tFor a total of   0.0178 MB/s\n",
      "\n"
     ]
    },
    {
     "name": "stdout",
     "output_type": "stream",
     "text": [
      "Running: //scratch/matthew/automate/ipy_oxDNA/umbrella_sampling_example/rro/rro_umbrella_com_2/production/65\n"
     ]
    },
    {
     "name": "stderr",
     "output_type": "stream",
     "text": [
      "INFO: Aggregated I/O statistics (set debug=1 for file-wise information)\n",
      "\t  3.369 MB written to files\n",
      "\t 62.000  B written to stdout/stderr\n"
     ]
    },
    {
     "name": "stdout",
     "output_type": "stream",
     "text": [
      "Running: //scratch/matthew/automate/ipy_oxDNA/umbrella_sampling_example/rro/rro_umbrella_com_2/production/66\n"
     ]
    },
    {
     "name": "stderr",
     "output_type": "stream",
     "text": [
      "INFO: Aggregated I/O statistics (set debug=1 for file-wise information)\n",
      "\t  3.368 MB written to files\n",
      "\t 62.000  B written to stdout/stderr\n"
     ]
    },
    {
     "name": "stdout",
     "output_type": "stream",
     "text": [
      "Running: //scratch/matthew/automate/ipy_oxDNA/umbrella_sampling_example/rro/rro_umbrella_com_2/production/67\n"
     ]
    },
    {
     "name": "stderr",
     "output_type": "stream",
     "text": [
      "INFO: Aggregated I/O statistics (set debug=1 for file-wise information)\n",
      "\t  3.368 MB written to files\n",
      "\t 62.000  B written to stdout/stderr\n"
     ]
    },
    {
     "name": "stdout",
     "output_type": "stream",
     "text": [
      "Finished: //scratch/matthew/automate/ipy_oxDNA/umbrella_sampling_example/rro/rro_umbrella_com_2/production/26\n",
      "Simulation worker finished\n"
     ]
    },
    {
     "name": "stderr",
     "output_type": "stream",
     "text": [
      "INFO: Lists updated 4600 times (every ~217.391304 steps)\n",
      "INFO: Aggregated I/O statistics (set debug=1 for file-wise information)\n",
      "\t 10.101 MB written to files\n",
      "\t124.000  B written to stdout/stderr\n",
      "\tFor a total of   0.0168 MB/s\n",
      "\n"
     ]
    },
    {
     "name": "stdout",
     "output_type": "stream",
     "text": [
      "Running: //scratch/matthew/automate/ipy_oxDNA/umbrella_sampling_example/rro/rro_umbrella_com_2/production/68\n"
     ]
    },
    {
     "name": "stderr",
     "output_type": "stream",
     "text": [
      "INFO: Aggregated I/O statistics (set debug=1 for file-wise information)\n",
      "\t  3.368 MB written to files\n",
      "\t 62.000  B written to stdout/stderr\n"
     ]
    },
    {
     "name": "stdout",
     "output_type": "stream",
     "text": [
      "Finished: //scratch/matthew/automate/ipy_oxDNA/umbrella_sampling_example/rro/rro_umbrella_com_2/production/27\n",
      "Simulation worker finished\n"
     ]
    },
    {
     "name": "stderr",
     "output_type": "stream",
     "text": [
      "INFO: Lists updated 4756 times (every ~210.260723 steps)\n",
      "INFO: Aggregated I/O statistics (set debug=1 for file-wise information)\n",
      "\t 10.108 MB written to files\n",
      "\t124.000  B written to stdout/stderr\n",
      "\tFor a total of   0.0168 MB/s\n",
      "\n"
     ]
    },
    {
     "name": "stdout",
     "output_type": "stream",
     "text": [
      "Running: //scratch/matthew/automate/ipy_oxDNA/umbrella_sampling_example/rro/rro_umbrella_com_2/production/69\n"
     ]
    },
    {
     "name": "stderr",
     "output_type": "stream",
     "text": [
      "INFO: Aggregated I/O statistics (set debug=1 for file-wise information)\n",
      "\t  3.368 MB written to files\n",
      "\t 62.000  B written to stdout/stderr\n"
     ]
    },
    {
     "name": "stdout",
     "output_type": "stream",
     "text": [
      "Finished: //scratch/matthew/automate/ipy_oxDNA/umbrella_sampling_example/rro/rro_umbrella_com_2/production/28\n",
      "Simulation worker finished\n"
     ]
    },
    {
     "name": "stderr",
     "output_type": "stream",
     "text": [
      "INFO: Lists updated 4624 times (every ~216.262976 steps)\n",
      "INFO: Aggregated I/O statistics (set debug=1 for file-wise information)\n",
      "\t 10.104 MB written to files\n",
      "\t124.000  B written to stdout/stderr\n",
      "\tFor a total of   0.0168 MB/s\n",
      "\n"
     ]
    },
    {
     "name": "stdout",
     "output_type": "stream",
     "text": [
      "Finished: //scratch/matthew/automate/ipy_oxDNA/umbrella_sampling_example/rro/rro_umbrella_com_2/production/29\n",
      "Simulation worker finished\n"
     ]
    },
    {
     "name": "stderr",
     "output_type": "stream",
     "text": [
      "INFO: Lists updated 4589 times (every ~217.912399 steps)\n",
      "INFO: Aggregated I/O statistics (set debug=1 for file-wise information)\n",
      "\t 10.107 MB written to files\n",
      "\t124.000  B written to stdout/stderr\n",
      "\tFor a total of   0.0168 MB/s\n",
      "\n"
     ]
    },
    {
     "name": "stdout",
     "output_type": "stream",
     "text": [
      "Running: //scratch/matthew/automate/ipy_oxDNA/umbrella_sampling_example/rro/rro_umbrella_com_2/production/70\n"
     ]
    },
    {
     "name": "stderr",
     "output_type": "stream",
     "text": [
      "INFO: Aggregated I/O statistics (set debug=1 for file-wise information)\n",
      "\t  3.368 MB written to files\n",
      "\t 62.000  B written to stdout/stderr\n"
     ]
    },
    {
     "name": "stdout",
     "output_type": "stream",
     "text": [
      "Running: //scratch/matthew/automate/ipy_oxDNA/umbrella_sampling_example/rro/rro_umbrella_com_2/production/71\n"
     ]
    },
    {
     "name": "stderr",
     "output_type": "stream",
     "text": [
      "INFO: Aggregated I/O statistics (set debug=1 for file-wise information)\n",
      "\t  3.369 MB written to files\n",
      "\t 62.000  B written to stdout/stderr\n"
     ]
    },
    {
     "name": "stdout",
     "output_type": "stream",
     "text": [
      "Finished: //scratch/matthew/automate/ipy_oxDNA/umbrella_sampling_example/rro/rro_umbrella_com_2/production/34\n",
      "Simulation worker finished\n"
     ]
    },
    {
     "name": "stderr",
     "output_type": "stream",
     "text": [
      "INFO: Lists updated 4719 times (every ~211.909303 steps)\n",
      "INFO: Aggregated I/O statistics (set debug=1 for file-wise information)\n",
      "\t 10.102 MB written to files\n",
      "\t124.000  B written to stdout/stderr\n",
      "\tFor a total of   0.0167 MB/s\n",
      "\n"
     ]
    },
    {
     "name": "stdout",
     "output_type": "stream",
     "text": [
      "Finished: //scratch/matthew/automate/ipy_oxDNA/umbrella_sampling_example/rro/rro_umbrella_com_2/production/36\n",
      "Simulation worker finished\n"
     ]
    },
    {
     "name": "stderr",
     "output_type": "stream",
     "text": [
      "INFO: Lists updated 4629 times (every ~216.029380 steps)\n",
      "INFO: Aggregated I/O statistics (set debug=1 for file-wise information)\n",
      "\t 10.103 MB written to files\n",
      "\t124.000  B written to stdout/stderr\n",
      "\tFor a total of   0.0168 MB/s\n",
      "\n"
     ]
    },
    {
     "name": "stdout",
     "output_type": "stream",
     "text": [
      "Finished: //scratch/matthew/automate/ipy_oxDNA/umbrella_sampling_example/rro/rro_umbrella_com_2/production/35\n",
      "Simulation worker finished\n"
     ]
    },
    {
     "name": "stderr",
     "output_type": "stream",
     "text": [
      "INFO: Lists updated 4710 times (every ~212.314225 steps)\n",
      "INFO: Aggregated I/O statistics (set debug=1 for file-wise information)\n",
      "\t 10.105 MB written to files\n",
      "\t124.000  B written to stdout/stderr\n",
      "\tFor a total of   0.0168 MB/s\n",
      "\n"
     ]
    },
    {
     "name": "stdout",
     "output_type": "stream",
     "text": [
      "Running: //scratch/matthew/automate/ipy_oxDNA/umbrella_sampling_example/rro/rro_umbrella_com_2/production/72\n"
     ]
    },
    {
     "name": "stderr",
     "output_type": "stream",
     "text": [
      "INFO: Aggregated I/O statistics (set debug=1 for file-wise information)\n",
      "\t  3.369 MB written to files\n",
      "\t 62.000  B written to stdout/stderr\n"
     ]
    },
    {
     "name": "stdout",
     "output_type": "stream",
     "text": [
      "Finished: //scratch/matthew/automate/ipy_oxDNA/umbrella_sampling_example/rro/rro_umbrella_com_2/production/37\n",
      "Simulation worker finished\n"
     ]
    },
    {
     "name": "stderr",
     "output_type": "stream",
     "text": [
      "INFO: Lists updated 4610 times (every ~216.919740 steps)\n",
      "INFO: Aggregated I/O statistics (set debug=1 for file-wise information)\n",
      "\t 10.107 MB written to files\n",
      "\t124.000  B written to stdout/stderr\n",
      "\tFor a total of   0.0168 MB/s\n",
      "\n"
     ]
    },
    {
     "name": "stdout",
     "output_type": "stream",
     "text": [
      "Running: //scratch/matthew/automate/ipy_oxDNA/umbrella_sampling_example/rro/rro_umbrella_com_2/production/73\n"
     ]
    },
    {
     "name": "stderr",
     "output_type": "stream",
     "text": [
      "INFO: Aggregated I/O statistics (set debug=1 for file-wise information)\n",
      "\t  3.369 MB written to files\n",
      "\t 62.000  B written to stdout/stderr\n"
     ]
    },
    {
     "name": "stdout",
     "output_type": "stream",
     "text": [
      "Running: //scratch/matthew/automate/ipy_oxDNA/umbrella_sampling_example/rro/rro_umbrella_com_2/production/74\n"
     ]
    },
    {
     "name": "stderr",
     "output_type": "stream",
     "text": [
      "INFO: Aggregated I/O statistics (set debug=1 for file-wise information)\n",
      "\t  3.369 MB written to files\n",
      "\t 62.000  B written to stdout/stderr\n"
     ]
    },
    {
     "name": "stdout",
     "output_type": "stream",
     "text": [
      "Running: //scratch/matthew/automate/ipy_oxDNA/umbrella_sampling_example/rro/rro_umbrella_com_2/production/75\n"
     ]
    },
    {
     "name": "stderr",
     "output_type": "stream",
     "text": [
      "INFO: Aggregated I/O statistics (set debug=1 for file-wise information)\n",
      "\t  3.368 MB written to files\n",
      "\t 62.000  B written to stdout/stderr\n"
     ]
    },
    {
     "name": "stdout",
     "output_type": "stream",
     "text": [
      "Finished: //scratch/matthew/automate/ipy_oxDNA/umbrella_sampling_example/rro/rro_umbrella_com_2/production/42\n",
      "Simulation worker finished\n"
     ]
    },
    {
     "name": "stderr",
     "output_type": "stream",
     "text": [
      "INFO: Lists updated 4621 times (every ~216.403376 steps)\n",
      "INFO: Aggregated I/O statistics (set debug=1 for file-wise information)\n",
      "\t 10.105 MB written to files\n",
      "\t124.000  B written to stdout/stderr\n",
      "\tFor a total of   0.0177 MB/s\n",
      "\n"
     ]
    },
    {
     "name": "stdout",
     "output_type": "stream",
     "text": [
      "Finished: //scratch/matthew/automate/ipy_oxDNA/umbrella_sampling_example/rro/rro_umbrella_com_2/production/38\n",
      "Simulation worker finished\n"
     ]
    },
    {
     "name": "stderr",
     "output_type": "stream",
     "text": [
      "INFO: Lists updated 4626 times (every ~216.169477 steps)\n",
      "INFO: Aggregated I/O statistics (set debug=1 for file-wise information)\n",
      "\t 10.106 MB written to files\n",
      "\t124.000  B written to stdout/stderr\n",
      "\tFor a total of   0.0166 MB/s\n",
      "\n"
     ]
    },
    {
     "name": "stdout",
     "output_type": "stream",
     "text": [
      "Running: //scratch/matthew/automate/ipy_oxDNA/umbrella_sampling_example/rro/rro_umbrella_com_2/production/76\n"
     ]
    },
    {
     "name": "stderr",
     "output_type": "stream",
     "text": [
      "INFO: Aggregated I/O statistics (set debug=1 for file-wise information)\n",
      "\t  3.369 MB written to files\n",
      "\t 62.000  B written to stdout/stderr\n"
     ]
    },
    {
     "name": "stdout",
     "output_type": "stream",
     "text": [
      "Finished: //scratch/matthew/automate/ipy_oxDNA/umbrella_sampling_example/rro/rro_umbrella_com_2/production/39\n",
      "Simulation worker finished\n"
     ]
    },
    {
     "name": "stderr",
     "output_type": "stream",
     "text": [
      "INFO: Lists updated 4778 times (every ~209.292591 steps)\n",
      "INFO: Aggregated I/O statistics (set debug=1 for file-wise information)\n",
      "\t 10.107 MB written to files\n",
      "\t124.000  B written to stdout/stderr\n",
      "\tFor a total of   0.0168 MB/s\n",
      "\n"
     ]
    },
    {
     "name": "stdout",
     "output_type": "stream",
     "text": [
      "Running: //scratch/matthew/automate/ipy_oxDNA/umbrella_sampling_example/rro/rro_umbrella_com_2/production/77\n"
     ]
    },
    {
     "name": "stderr",
     "output_type": "stream",
     "text": [
      "INFO: Aggregated I/O statistics (set debug=1 for file-wise information)\n",
      "\t  3.369 MB written to files\n",
      "\t 62.000  B written to stdout/stderr\n"
     ]
    },
    {
     "name": "stdout",
     "output_type": "stream",
     "text": [
      "Running: //scratch/matthew/automate/ipy_oxDNA/umbrella_sampling_example/rro/rro_umbrella_com_2/production/78\n"
     ]
    },
    {
     "name": "stderr",
     "output_type": "stream",
     "text": [
      "INFO: Aggregated I/O statistics (set debug=1 for file-wise information)\n",
      "\t  3.368 MB written to files\n",
      "\t 62.000  B written to stdout/stderr\n"
     ]
    },
    {
     "name": "stdout",
     "output_type": "stream",
     "text": [
      "Finished: //scratch/matthew/automate/ipy_oxDNA/umbrella_sampling_example/rro/rro_umbrella_com_2/production/40\n",
      "Simulation worker finished\n"
     ]
    },
    {
     "name": "stderr",
     "output_type": "stream",
     "text": [
      "INFO: Lists updated 4692 times (every ~213.128730 steps)\n",
      "INFO: Aggregated I/O statistics (set debug=1 for file-wise information)\n",
      "\t 10.105 MB written to files\n",
      "\t124.000  B written to stdout/stderr\n",
      "\tFor a total of   0.0167 MB/s\n",
      "\n"
     ]
    },
    {
     "name": "stdout",
     "output_type": "stream",
     "text": [
      "Running: //scratch/matthew/automate/ipy_oxDNA/umbrella_sampling_example/rro/rro_umbrella_com_2/production/79\n"
     ]
    },
    {
     "name": "stderr",
     "output_type": "stream",
     "text": [
      "INFO: Aggregated I/O statistics (set debug=1 for file-wise information)\n",
      "\t  3.369 MB written to files\n",
      "\t 62.000  B written to stdout/stderr\n"
     ]
    },
    {
     "name": "stdout",
     "output_type": "stream",
     "text": [
      "Finished: //scratch/matthew/automate/ipy_oxDNA/umbrella_sampling_example/rro/rro_umbrella_com_2/production/45\n",
      "Simulation worker finished\n"
     ]
    },
    {
     "name": "stderr",
     "output_type": "stream",
     "text": [
      "INFO: Lists updated 4559 times (every ~219.346348 steps)\n",
      "INFO: Aggregated I/O statistics (set debug=1 for file-wise information)\n",
      "\t 10.106 MB written to files\n",
      "\t124.000  B written to stdout/stderr\n",
      "\tFor a total of   0.0179 MB/s\n",
      "\n"
     ]
    },
    {
     "name": "stdout",
     "output_type": "stream",
     "text": [
      "Running: //scratch/matthew/automate/ipy_oxDNA/umbrella_sampling_example/rro/rro_umbrella_com_2/production/80\n"
     ]
    },
    {
     "name": "stderr",
     "output_type": "stream",
     "text": [
      "INFO: Aggregated I/O statistics (set debug=1 for file-wise information)\n",
      "\t  3.368 MB written to files\n",
      "\t 62.000  B written to stdout/stderr\n"
     ]
    },
    {
     "name": "stdout",
     "output_type": "stream",
     "text": [
      "Finished: //scratch/matthew/automate/ipy_oxDNA/umbrella_sampling_example/rro/rro_umbrella_com_2/production/41\n",
      "Simulation worker finished\n"
     ]
    },
    {
     "name": "stderr",
     "output_type": "stream",
     "text": [
      "INFO: Lists updated 4698 times (every ~212.856535 steps)\n",
      "INFO: Aggregated I/O statistics (set debug=1 for file-wise information)\n",
      "\t 10.106 MB written to files\n",
      "\t124.000  B written to stdout/stderr\n",
      "\tFor a total of   0.0165 MB/s\n",
      "\n"
     ]
    },
    {
     "name": "stdout",
     "output_type": "stream",
     "text": [
      "Running: //scratch/matthew/automate/ipy_oxDNA/umbrella_sampling_example/rro/rro_umbrella_com_2/production/81\n"
     ]
    },
    {
     "name": "stderr",
     "output_type": "stream",
     "text": [
      "INFO: Aggregated I/O statistics (set debug=1 for file-wise information)\n",
      "\t  3.368 MB written to files\n",
      "\t 62.000  B written to stdout/stderr\n"
     ]
    },
    {
     "name": "stdout",
     "output_type": "stream",
     "text": [
      "Finished: //scratch/matthew/automate/ipy_oxDNA/umbrella_sampling_example/rro/rro_umbrella_com_2/production/43\n",
      "Simulation worker finished\n"
     ]
    },
    {
     "name": "stderr",
     "output_type": "stream",
     "text": [
      "INFO: Lists updated 4685 times (every ~213.447172 steps)\n",
      "INFO: Aggregated I/O statistics (set debug=1 for file-wise information)\n",
      "\t 10.102 MB written to files\n",
      "\t124.000  B written to stdout/stderr\n",
      "\tFor a total of   0.0166 MB/s\n",
      "\n"
     ]
    },
    {
     "name": "stdout",
     "output_type": "stream",
     "text": [
      "Running: //scratch/matthew/automate/ipy_oxDNA/umbrella_sampling_example/rro/rro_umbrella_com_2/production/82\n"
     ]
    },
    {
     "name": "stderr",
     "output_type": "stream",
     "text": [
      "INFO: Aggregated I/O statistics (set debug=1 for file-wise information)\n",
      "\t  3.367 MB written to files\n",
      "\t 62.000  B written to stdout/stderr\n"
     ]
    },
    {
     "name": "stdout",
     "output_type": "stream",
     "text": [
      "Finished: //scratch/matthew/automate/ipy_oxDNA/umbrella_sampling_example/rro/rro_umbrella_com_2/production/48\n",
      "Simulation worker finished\n"
     ]
    },
    {
     "name": "stderr",
     "output_type": "stream",
     "text": [
      "INFO: Lists updated 4652 times (every ~214.961307 steps)\n",
      "INFO: Aggregated I/O statistics (set debug=1 for file-wise information)\n",
      "\t 10.107 MB written to files\n",
      "\t124.000  B written to stdout/stderr\n",
      "\tFor a total of   0.0177 MB/s\n",
      "\n"
     ]
    },
    {
     "name": "stdout",
     "output_type": "stream",
     "text": [
      "Finished: //scratch/matthew/automate/ipy_oxDNA/umbrella_sampling_example/rro/rro_umbrella_com_2/production/44\n",
      "Simulation worker finished\n",
      "Finished: //scratch/matthew/automate/ipy_oxDNA/umbrella_sampling_example/rro/rro_umbrella_com_2/production/49\n",
      "Simulation worker finished\n"
     ]
    },
    {
     "name": "stderr",
     "output_type": "stream",
     "text": [
      "INFO: Lists updated 4691 times (every ~213.174163 steps)\n",
      "INFO: Aggregated I/O statistics (set debug=1 for file-wise information)\n",
      "\t 10.106 MB written to files\n",
      "\t124.000  B written to stdout/stderr\n",
      "\tFor a total of   0.0167 MB/s\n",
      "\n",
      "INFO: Lists updated 4656 times (every ~214.776632 steps)\n",
      "INFO: Aggregated I/O statistics (set debug=1 for file-wise information)\n",
      "\t 10.107 MB written to files\n",
      "\t124.000  B written to stdout/stderr\n",
      "\tFor a total of   0.0177 MB/s\n",
      "\n"
     ]
    },
    {
     "name": "stdout",
     "output_type": "stream",
     "text": [
      "Running: //scratch/matthew/automate/ipy_oxDNA/umbrella_sampling_example/rro/rro_umbrella_com_2/production/83\n"
     ]
    },
    {
     "name": "stderr",
     "output_type": "stream",
     "text": [
      "INFO: Aggregated I/O statistics (set debug=1 for file-wise information)\n",
      "\t  3.369 MB written to files\n",
      "\t 62.000  B written to stdout/stderr\n"
     ]
    },
    {
     "name": "stdout",
     "output_type": "stream",
     "text": [
      "Finished: //scratch/matthew/automate/ipy_oxDNA/umbrella_sampling_example/rro/rro_umbrella_com_2/production/51\n",
      "Simulation worker finished\n"
     ]
    },
    {
     "name": "stderr",
     "output_type": "stream",
     "text": [
      "INFO: Lists updated 4630 times (every ~215.982721 steps)\n",
      "INFO: Aggregated I/O statistics (set debug=1 for file-wise information)\n",
      "\t 10.110 MB written to files\n",
      "\t124.000  B written to stdout/stderr\n",
      "\tFor a total of   0.0179 MB/s\n",
      "\n"
     ]
    },
    {
     "name": "stdout",
     "output_type": "stream",
     "text": [
      "Running: //scratch/matthew/automate/ipy_oxDNA/umbrella_sampling_example/rro/rro_umbrella_com_2/production/84\n"
     ]
    },
    {
     "name": "stderr",
     "output_type": "stream",
     "text": [
      "INFO: Aggregated I/O statistics (set debug=1 for file-wise information)\n",
      "\t  3.369 MB written to files\n",
      "\t 62.000  B written to stdout/stderr\n"
     ]
    },
    {
     "name": "stdout",
     "output_type": "stream",
     "text": [
      "Running: //scratch/matthew/automate/ipy_oxDNA/umbrella_sampling_example/rro/rro_umbrella_com_2/production/85\n"
     ]
    },
    {
     "name": "stderr",
     "output_type": "stream",
     "text": [
      "INFO: Aggregated I/O statistics (set debug=1 for file-wise information)\n",
      "\t  3.368 MB written to files\n",
      "\t 62.000  B written to stdout/stderr\n"
     ]
    },
    {
     "name": "stdout",
     "output_type": "stream",
     "text": [
      "Running: //scratch/matthew/automate/ipy_oxDNA/umbrella_sampling_example/rro/rro_umbrella_com_2/production/86\n"
     ]
    },
    {
     "name": "stderr",
     "output_type": "stream",
     "text": [
      "INFO: Aggregated I/O statistics (set debug=1 for file-wise information)\n",
      "\t  3.369 MB written to files\n",
      "\t 62.000  B written to stdout/stderr\n"
     ]
    },
    {
     "name": "stdout",
     "output_type": "stream",
     "text": [
      "Finished: //scratch/matthew/automate/ipy_oxDNA/umbrella_sampling_example/rro/rro_umbrella_com_2/production/46\n",
      "Simulation worker finished\n"
     ]
    },
    {
     "name": "stderr",
     "output_type": "stream",
     "text": [
      "INFO: Lists updated 4709 times (every ~212.359312 steps)\n",
      "INFO: Aggregated I/O statistics (set debug=1 for file-wise information)\n",
      "\t 10.106 MB written to files\n",
      "\t124.000  B written to stdout/stderr\n",
      "\tFor a total of   0.0166 MB/s\n",
      "\n"
     ]
    },
    {
     "name": "stdout",
     "output_type": "stream",
     "text": [
      "Finished: //scratch/matthew/automate/ipy_oxDNA/umbrella_sampling_example/rro/rro_umbrella_com_2/production/47\n",
      "Simulation worker finished\n"
     ]
    },
    {
     "name": "stderr",
     "output_type": "stream",
     "text": [
      "INFO: Lists updated 4655 times (every ~214.822771 steps)\n",
      "INFO: Aggregated I/O statistics (set debug=1 for file-wise information)\n",
      "\t 10.107 MB written to files\n",
      "\t124.000  B written to stdout/stderr\n",
      "\tFor a total of   0.0167 MB/s\n",
      "\n"
     ]
    },
    {
     "name": "stdout",
     "output_type": "stream",
     "text": [
      "Finished: //scratch/matthew/automate/ipy_oxDNA/umbrella_sampling_example/rro/rro_umbrella_com_2/production/53\n",
      "Simulation worker finished\n"
     ]
    },
    {
     "name": "stderr",
     "output_type": "stream",
     "text": [
      "INFO: Lists updated 4669 times (every ~214.178625 steps)\n",
      "INFO: Aggregated I/O statistics (set debug=1 for file-wise information)\n",
      "\t 10.108 MB written to files\n",
      "\t124.000  B written to stdout/stderr\n",
      "\tFor a total of   0.0178 MB/s\n",
      "\n"
     ]
    },
    {
     "name": "stdout",
     "output_type": "stream",
     "text": [
      "Running: //scratch/matthew/automate/ipy_oxDNA/umbrella_sampling_example/rro/rro_umbrella_com_2/production/87\n"
     ]
    },
    {
     "name": "stderr",
     "output_type": "stream",
     "text": [
      "INFO: Aggregated I/O statistics (set debug=1 for file-wise information)\n",
      "\t  3.367 MB written to files\n",
      "\t 62.000  B written to stdout/stderr\n"
     ]
    },
    {
     "name": "stdout",
     "output_type": "stream",
     "text": [
      "Finished: //scratch/matthew/automate/ipy_oxDNA/umbrella_sampling_example/rro/rro_umbrella_com_2/production/54\n"
     ]
    },
    {
     "name": "stderr",
     "output_type": "stream",
     "text": [
      "INFO: Lists updated 4601 times (every ~217.344056 steps)\n"
     ]
    },
    {
     "name": "stdout",
     "output_type": "stream",
     "text": [
      "Simulation worker finished\n"
     ]
    },
    {
     "name": "stderr",
     "output_type": "stream",
     "text": [
      "INFO: Aggregated I/O statistics (set debug=1 for file-wise information)\n",
      "\t 10.108 MB written to files\n",
      "\t124.000  B written to stdout/stderr\n",
      "\tFor a total of   0.0178 MB/s\n",
      "\n"
     ]
    },
    {
     "name": "stdout",
     "output_type": "stream",
     "text": [
      "Running: //scratch/matthew/automate/ipy_oxDNA/umbrella_sampling_example/rro/rro_umbrella_com_2/production/88\n"
     ]
    },
    {
     "name": "stderr",
     "output_type": "stream",
     "text": [
      "INFO: Aggregated I/O statistics (set debug=1 for file-wise information)\n",
      "\t  3.368 MB written to files\n",
      "\t 62.000  B written to stdout/stderr\n"
     ]
    },
    {
     "name": "stdout",
     "output_type": "stream",
     "text": [
      "Finished: //scratch/matthew/automate/ipy_oxDNA/umbrella_sampling_example/rro/rro_umbrella_com_2/production/55\n",
      "Simulation worker finished\n"
     ]
    },
    {
     "name": "stderr",
     "output_type": "stream",
     "text": [
      "INFO: Lists updated 4611 times (every ~216.872696 steps)\n",
      "INFO: Aggregated I/O statistics (set debug=1 for file-wise information)\n",
      "\t 10.106 MB written to files\n",
      "\t124.000  B written to stdout/stderr\n",
      "\tFor a total of   0.0178 MB/s\n",
      "\n"
     ]
    },
    {
     "name": "stdout",
     "output_type": "stream",
     "text": [
      "Running: //scratch/matthew/automate/ipy_oxDNA/umbrella_sampling_example/rro/rro_umbrella_com_2/production/89\n"
     ]
    },
    {
     "name": "stderr",
     "output_type": "stream",
     "text": [
      "INFO: Aggregated I/O statistics (set debug=1 for file-wise information)\n",
      "\t  3.369 MB written to files\n",
      "\t 62.000  B written to stdout/stderr\n"
     ]
    },
    {
     "name": "stdout",
     "output_type": "stream",
     "text": [
      "Running: //scratch/matthew/automate/ipy_oxDNA/umbrella_sampling_example/rro/rro_umbrella_com_2/production/90\n"
     ]
    },
    {
     "name": "stderr",
     "output_type": "stream",
     "text": [
      "INFO: Aggregated I/O statistics (set debug=1 for file-wise information)\n",
      "\t  3.368 MB written to files\n",
      "\t 62.000  B written to stdout/stderr\n"
     ]
    },
    {
     "name": "stdout",
     "output_type": "stream",
     "text": [
      "Running: //scratch/matthew/automate/ipy_oxDNA/umbrella_sampling_example/rro/rro_umbrella_com_2/production/91\n"
     ]
    },
    {
     "name": "stderr",
     "output_type": "stream",
     "text": [
      "INFO: Aggregated I/O statistics (set debug=1 for file-wise information)\n",
      "\t  3.368 MB written to files\n",
      "\t 62.000  B written to stdout/stderr\n"
     ]
    },
    {
     "name": "stdout",
     "output_type": "stream",
     "text": [
      "Finished: //scratch/matthew/automate/ipy_oxDNA/umbrella_sampling_example/rro/rro_umbrella_com_2/production/50\n",
      "Simulation worker finished\n"
     ]
    },
    {
     "name": "stderr",
     "output_type": "stream",
     "text": [
      "INFO: Lists updated 4659 times (every ~214.638334 steps)\n",
      "INFO: Aggregated I/O statistics (set debug=1 for file-wise information)\n",
      "\t 10.104 MB written to files\n",
      "\t124.000  B written to stdout/stderr\n",
      "\tFor a total of   0.0166 MB/s\n",
      "\n"
     ]
    },
    {
     "name": "stdout",
     "output_type": "stream",
     "text": [
      "Finished: //scratch/matthew/automate/ipy_oxDNA/umbrella_sampling_example/rro/rro_umbrella_com_2/production/52\n",
      "Simulation worker finished\n"
     ]
    },
    {
     "name": "stderr",
     "output_type": "stream",
     "text": [
      "INFO: Lists updated 4644 times (every ~215.331611 steps)\n",
      "INFO: Aggregated I/O statistics (set debug=1 for file-wise information)\n",
      "\t 10.107 MB written to files\n",
      "\t124.000  B written to stdout/stderr\n",
      "\tFor a total of   0.0167 MB/s\n",
      "\n"
     ]
    },
    {
     "name": "stdout",
     "output_type": "stream",
     "text": [
      "Running: //scratch/matthew/automate/ipy_oxDNA/umbrella_sampling_example/rro/rro_umbrella_com_2/production/92\n"
     ]
    },
    {
     "name": "stderr",
     "output_type": "stream",
     "text": [
      "INFO: Aggregated I/O statistics (set debug=1 for file-wise information)\n",
      "\t  3.368 MB written to files\n",
      "\t 62.000  B written to stdout/stderr\n"
     ]
    },
    {
     "name": "stdout",
     "output_type": "stream",
     "text": [
      "Running: //scratch/matthew/automate/ipy_oxDNA/umbrella_sampling_example/rro/rro_umbrella_com_2/production/93\n"
     ]
    },
    {
     "name": "stderr",
     "output_type": "stream",
     "text": [
      "INFO: Aggregated I/O statistics (set debug=1 for file-wise information)\n",
      "\t  3.369 MB written to files\n",
      "\t 62.000  B written to stdout/stderr\n"
     ]
    },
    {
     "name": "stdout",
     "output_type": "stream",
     "text": [
      "Finished: //scratch/matthew/automate/ipy_oxDNA/umbrella_sampling_example/rro/rro_umbrella_com_2/production/62\n",
      "Simulation worker finished\n"
     ]
    },
    {
     "name": "stderr",
     "output_type": "stream",
     "text": [
      "INFO: Lists updated 4634 times (every ~215.796288 steps)\n",
      "INFO: Aggregated I/O statistics (set debug=1 for file-wise information)\n",
      "\t 10.108 MB written to files\n",
      "\t124.000  B written to stdout/stderr\n",
      "\tFor a total of   0.0177 MB/s\n",
      "\n"
     ]
    },
    {
     "name": "stdout",
     "output_type": "stream",
     "text": [
      "Running: //scratch/matthew/automate/ipy_oxDNA/umbrella_sampling_example/rro/rro_umbrella_com_2/production/94\n"
     ]
    },
    {
     "name": "stderr",
     "output_type": "stream",
     "text": [
      "INFO: Aggregated I/O statistics (set debug=1 for file-wise information)\n",
      "\t  3.368 MB written to files\n",
      "\t 62.000  B written to stdout/stderr\n"
     ]
    },
    {
     "name": "stdout",
     "output_type": "stream",
     "text": [
      "Finished: //scratch/matthew/automate/ipy_oxDNA/umbrella_sampling_example/rro/rro_umbrella_com_2/production/56\n",
      "Simulation worker finished\n"
     ]
    },
    {
     "name": "stderr",
     "output_type": "stream",
     "text": [
      "INFO: Lists updated 4642 times (every ~215.424386 steps)\n",
      "INFO: Aggregated I/O statistics (set debug=1 for file-wise information)\n",
      "\t 10.109 MB written to files\n",
      "\t124.000  B written to stdout/stderr\n",
      "\tFor a total of   0.0168 MB/s\n",
      "\n"
     ]
    },
    {
     "name": "stdout",
     "output_type": "stream",
     "text": [
      "Running: //scratch/matthew/automate/ipy_oxDNA/umbrella_sampling_example/rro/rro_umbrella_com_2/production/95\n"
     ]
    },
    {
     "name": "stderr",
     "output_type": "stream",
     "text": [
      "INFO: Aggregated I/O statistics (set debug=1 for file-wise information)\n",
      "\t  3.369 MB written to files\n",
      "\t 62.000  B written to stdout/stderr\n"
     ]
    },
    {
     "name": "stdout",
     "output_type": "stream",
     "text": [
      "Finished: //scratch/matthew/automate/ipy_oxDNA/umbrella_sampling_example/rro/rro_umbrella_com_2/production/57\n"
     ]
    },
    {
     "name": "stderr",
     "output_type": "stream",
     "text": [
      "INFO: Lists updated 4692 times (every ~213.128730 steps)\n"
     ]
    },
    {
     "name": "stdout",
     "output_type": "stream",
     "text": [
      "Simulation worker finished\n"
     ]
    },
    {
     "name": "stderr",
     "output_type": "stream",
     "text": [
      "INFO: Aggregated I/O statistics (set debug=1 for file-wise information)\n",
      "\t 10.105 MB written to files\n",
      "\t124.000  B written to stdout/stderr\n",
      "\tFor a total of   0.0166 MB/s\n",
      "\n"
     ]
    },
    {
     "name": "stdout",
     "output_type": "stream",
     "text": [
      "Finished: //scratch/matthew/automate/ipy_oxDNA/umbrella_sampling_example/rro/rro_umbrella_com_2/production/65\n",
      "Simulation worker finished\n"
     ]
    },
    {
     "name": "stderr",
     "output_type": "stream",
     "text": [
      "INFO: Lists updated 4670 times (every ~214.132762 steps)\n",
      "INFO: Aggregated I/O statistics (set debug=1 for file-wise information)\n",
      "\t 10.107 MB written to files\n",
      "\t124.000  B written to stdout/stderr\n",
      "\tFor a total of   0.0177 MB/s\n",
      "\n",
      "INFO: Aggregated I/O statistics (set debug=1 for file-wise information)\n",
      "\t  3.369 MB written to files\n",
      "\t 62.000  B written to stdout/stderr\n"
     ]
    },
    {
     "name": "stdout",
     "output_type": "stream",
     "text": [
      "Running: //scratch/matthew/automate/ipy_oxDNA/umbrella_sampling_example/rro/rro_umbrella_com_2/production/96\n",
      "Finished: //scratch/matthew/automate/ipy_oxDNA/umbrella_sampling_example/rro/rro_umbrella_com_2/production/58\n",
      "Simulation worker finished\n"
     ]
    },
    {
     "name": "stderr",
     "output_type": "stream",
     "text": [
      "INFO: Lists updated 4668 times (every ~214.224507 steps)\n",
      "INFO: Aggregated I/O statistics (set debug=1 for file-wise information)\n",
      "\t 10.114 MB written to files\n",
      "\t124.000  B written to stdout/stderr\n",
      "\tFor a total of   0.0166 MB/s\n",
      "\n"
     ]
    },
    {
     "name": "stdout",
     "output_type": "stream",
     "text": [
      "Finished: //scratch/matthew/automate/ipy_oxDNA/umbrella_sampling_example/rro/rro_umbrella_com_2/production/59\n",
      "Simulation worker finished\n"
     ]
    },
    {
     "name": "stderr",
     "output_type": "stream",
     "text": [
      "INFO: Lists updated 4619 times (every ~216.497077 steps)\n",
      "INFO: Aggregated I/O statistics (set debug=1 for file-wise information)\n",
      "\t 10.110 MB written to files\n",
      "\t124.000  B written to stdout/stderr\n",
      "\tFor a total of   0.0167 MB/s\n",
      "\n"
     ]
    },
    {
     "name": "stdout",
     "output_type": "stream",
     "text": [
      "Finished: //scratch/matthew/automate/ipy_oxDNA/umbrella_sampling_example/rro/rro_umbrella_com_2/production/60\n",
      "Simulation worker finished\n"
     ]
    },
    {
     "name": "stderr",
     "output_type": "stream",
     "text": [
      "INFO: Lists updated 4628 times (every ~216.076059 steps)\n",
      "INFO: Aggregated I/O statistics (set debug=1 for file-wise information)\n",
      "\t 10.103 MB written to files\n",
      "\t124.000  B written to stdout/stderr\n",
      "\tFor a total of   0.0167 MB/s\n",
      "\n"
     ]
    },
    {
     "name": "stdout",
     "output_type": "stream",
     "text": [
      "Running: //scratch/matthew/automate/ipy_oxDNA/umbrella_sampling_example/rro/rro_umbrella_com_2/production/97\n"
     ]
    },
    {
     "name": "stderr",
     "output_type": "stream",
     "text": [
      "INFO: Aggregated I/O statistics (set debug=1 for file-wise information)\n",
      "\t  3.370 MB written to files\n",
      "\t 62.000  B written to stdout/stderr\n"
     ]
    },
    {
     "name": "stdout",
     "output_type": "stream",
     "text": [
      "Running: //scratch/matthew/automate/ipy_oxDNA/umbrella_sampling_example/rro/rro_umbrella_com_2/production/98\n"
     ]
    },
    {
     "name": "stderr",
     "output_type": "stream",
     "text": [
      "INFO: Aggregated I/O statistics (set debug=1 for file-wise information)\n",
      "\t  3.370 MB written to files\n",
      "\t 62.000  B written to stdout/stderr\n"
     ]
    },
    {
     "name": "stdout",
     "output_type": "stream",
     "text": [
      "Finished: //scratch/matthew/automate/ipy_oxDNA/umbrella_sampling_example/rro/rro_umbrella_com_2/production/68\n",
      "Simulation worker finished\n"
     ]
    },
    {
     "name": "stderr",
     "output_type": "stream",
     "text": [
      "INFO: Lists updated 4646 times (every ~215.238915 steps)\n",
      "INFO: Aggregated I/O statistics (set debug=1 for file-wise information)\n",
      "\t 10.108 MB written to files\n",
      "\t124.000  B written to stdout/stderr\n",
      "\tFor a total of   0.0177 MB/s\n",
      "\n"
     ]
    },
    {
     "name": "stdout",
     "output_type": "stream",
     "text": [
      "Running: //scratch/matthew/automate/ipy_oxDNA/umbrella_sampling_example/rro/rro_umbrella_com_2/production/99\n"
     ]
    },
    {
     "name": "stderr",
     "output_type": "stream",
     "text": [
      "INFO: Aggregated I/O statistics (set debug=1 for file-wise information)\n",
      "\t  3.368 MB written to files\n",
      "\t 62.000  B written to stdout/stderr\n"
     ]
    },
    {
     "name": "stdout",
     "output_type": "stream",
     "text": [
      "Finished: //scratch/matthew/automate/ipy_oxDNA/umbrella_sampling_example/rro/rro_umbrella_com_2/production/61\n",
      "Simulation worker finished\n"
     ]
    },
    {
     "name": "stderr",
     "output_type": "stream",
     "text": [
      "INFO: Lists updated 4702 times (every ~212.675457 steps)\n",
      "INFO: Aggregated I/O statistics (set debug=1 for file-wise information)\n",
      "\t 10.110 MB written to files\n",
      "\t124.000  B written to stdout/stderr\n",
      "\tFor a total of   0.0166 MB/s\n",
      "\n"
     ]
    },
    {
     "name": "stdout",
     "output_type": "stream",
     "text": [
      "Finished: //scratch/matthew/automate/ipy_oxDNA/umbrella_sampling_example/rro/rro_umbrella_com_2/production/69\n",
      "Simulation worker finished\n"
     ]
    },
    {
     "name": "stderr",
     "output_type": "stream",
     "text": [
      "INFO: Lists updated 4620 times (every ~216.450216 steps)\n",
      "INFO: Aggregated I/O statistics (set debug=1 for file-wise information)\n",
      "\t 10.107 MB written to files\n",
      "\t124.000  B written to stdout/stderr\n",
      "\tFor a total of   0.0177 MB/s\n",
      "\n"
     ]
    },
    {
     "name": "stdout",
     "output_type": "stream",
     "text": [
      "Finished: //scratch/matthew/automate/ipy_oxDNA/umbrella_sampling_example/rro/rro_umbrella_com_2/production/64\n",
      "Simulation worker finished\n"
     ]
    },
    {
     "name": "stderr",
     "output_type": "stream",
     "text": [
      "INFO: Lists updated 4611 times (every ~216.872696 steps)\n",
      "INFO: Aggregated I/O statistics (set debug=1 for file-wise information)\n",
      "\t 10.107 MB written to files\n",
      "\t124.000  B written to stdout/stderr\n",
      "\tFor a total of   0.0168 MB/s\n",
      "\n"
     ]
    },
    {
     "name": "stdout",
     "output_type": "stream",
     "text": [
      "Finished: //scratch/matthew/automate/ipy_oxDNA/umbrella_sampling_example/rro/rro_umbrella_com_2/production/63\n",
      "Simulation worker finished\n"
     ]
    },
    {
     "name": "stderr",
     "output_type": "stream",
     "text": [
      "INFO: Lists updated 4688 times (every ~213.310580 steps)\n",
      "INFO: Aggregated I/O statistics (set debug=1 for file-wise information)\n",
      "\t 10.107 MB written to files\n",
      "\t124.000  B written to stdout/stderr\n",
      "\tFor a total of   0.0168 MB/s\n",
      "\n"
     ]
    },
    {
     "name": "stdout",
     "output_type": "stream",
     "text": [
      "Finished: //scratch/matthew/automate/ipy_oxDNA/umbrella_sampling_example/rro/rro_umbrella_com_2/production/70\n",
      "Simulation worker finished\n"
     ]
    },
    {
     "name": "stderr",
     "output_type": "stream",
     "text": [
      "INFO: Lists updated 4637 times (every ~215.656675 steps)\n",
      "INFO: Aggregated I/O statistics (set debug=1 for file-wise information)\n",
      "\t 10.104 MB written to files\n",
      "\t124.000  B written to stdout/stderr\n",
      "\tFor a total of   0.0178 MB/s\n",
      "\n"
     ]
    },
    {
     "name": "stdout",
     "output_type": "stream",
     "text": [
      "Finished: //scratch/matthew/automate/ipy_oxDNA/umbrella_sampling_example/rro/rro_umbrella_com_2/production/71\n",
      "Simulation worker finished\n"
     ]
    },
    {
     "name": "stderr",
     "output_type": "stream",
     "text": [
      "INFO: Lists updated 4647 times (every ~215.192597 steps)\n",
      "INFO: Aggregated I/O statistics (set debug=1 for file-wise information)\n",
      "\t 10.108 MB written to files\n",
      "\t124.000  B written to stdout/stderr\n",
      "\tFor a total of   0.0178 MB/s\n",
      "\n"
     ]
    },
    {
     "name": "stdout",
     "output_type": "stream",
     "text": [
      "Finished: //scratch/matthew/automate/ipy_oxDNA/umbrella_sampling_example/rro/rro_umbrella_com_2/production/73\n",
      "Simulation worker finished\n",
      "Finished: //scratch/matthew/automate/ipy_oxDNA/umbrella_sampling_example/rro/rro_umbrella_com_2/production/72\n",
      "Simulation worker finished\n"
     ]
    },
    {
     "name": "stderr",
     "output_type": "stream",
     "text": [
      "INFO: Lists updated 4543 times (every ~220.118864 steps)\n",
      "INFO: Aggregated I/O statistics (set debug=1 for file-wise information)\n",
      "\t 10.107 MB written to files\n",
      "\t124.000  B written to stdout/stderr\n",
      "\tFor a total of   0.0178 MB/s\n",
      "\n",
      "INFO: Lists updated 4637 times (every ~215.656675 steps)\n",
      "INFO: Aggregated I/O statistics (set debug=1 for file-wise information)\n",
      "\t 10.107 MB written to files\n",
      "\t124.000  B written to stdout/stderr\n",
      "\tFor a total of   0.0178 MB/s\n",
      "\n"
     ]
    },
    {
     "name": "stdout",
     "output_type": "stream",
     "text": [
      "Finished: //scratch/matthew/automate/ipy_oxDNA/umbrella_sampling_example/rro/rro_umbrella_com_2/production/66\n",
      "Simulation worker finished\n"
     ]
    },
    {
     "name": "stderr",
     "output_type": "stream",
     "text": [
      "INFO: Lists updated 4716 times (every ~212.044105 steps)\n",
      "INFO: Aggregated I/O statistics (set debug=1 for file-wise information)\n",
      "\t 10.106 MB written to files\n",
      "\t124.000  B written to stdout/stderr\n",
      "\tFor a total of   0.0167 MB/s\n",
      "\n"
     ]
    },
    {
     "name": "stdout",
     "output_type": "stream",
     "text": [
      "Finished: //scratch/matthew/automate/ipy_oxDNA/umbrella_sampling_example/rro/rro_umbrella_com_2/production/67\n",
      "Simulation worker finished\n"
     ]
    },
    {
     "name": "stderr",
     "output_type": "stream",
     "text": [
      "INFO: Lists updated 4648 times (every ~215.146299 steps)\n",
      "INFO: Aggregated I/O statistics (set debug=1 for file-wise information)\n",
      "\t 10.105 MB written to files\n",
      "\t124.000  B written to stdout/stderr\n",
      "\tFor a total of   0.0167 MB/s\n",
      "\n"
     ]
    },
    {
     "name": "stdout",
     "output_type": "stream",
     "text": [
      "Finished: //scratch/matthew/automate/ipy_oxDNA/umbrella_sampling_example/rro/rro_umbrella_com_2/production/74\n",
      "Simulation worker finished\n"
     ]
    },
    {
     "name": "stderr",
     "output_type": "stream",
     "text": [
      "INFO: Lists updated 4663 times (every ~214.454214 steps)\n",
      "INFO: Aggregated I/O statistics (set debug=1 for file-wise information)\n",
      "\t 10.111 MB written to files\n",
      "\t124.000  B written to stdout/stderr\n",
      "\tFor a total of   0.0178 MB/s\n",
      "\n"
     ]
    },
    {
     "name": "stdout",
     "output_type": "stream",
     "text": [
      "Finished: //scratch/matthew/automate/ipy_oxDNA/umbrella_sampling_example/rro/rro_umbrella_com_2/production/75\n",
      "Simulation worker finished\n"
     ]
    },
    {
     "name": "stderr",
     "output_type": "stream",
     "text": [
      "INFO: Lists updated 4603 times (every ~217.249620 steps)\n",
      "INFO: Aggregated I/O statistics (set debug=1 for file-wise information)\n",
      "\t 10.109 MB written to files\n",
      "\t124.000  B written to stdout/stderr\n",
      "\tFor a total of   0.0179 MB/s\n",
      "\n"
     ]
    },
    {
     "name": "stdout",
     "output_type": "stream",
     "text": [
      "Finished: //scratch/matthew/automate/ipy_oxDNA/umbrella_sampling_example/rro/rro_umbrella_com_2/production/77\n",
      "Simulation worker finished\n"
     ]
    },
    {
     "name": "stderr",
     "output_type": "stream",
     "text": [
      "INFO: Lists updated 4589 times (every ~217.912399 steps)\n",
      "INFO: Aggregated I/O statistics (set debug=1 for file-wise information)\n",
      "\t 10.106 MB written to files\n",
      "\t124.000  B written to stdout/stderr\n",
      "\tFor a total of   0.0243 MB/s\n",
      "\n"
     ]
    },
    {
     "name": "stdout",
     "output_type": "stream",
     "text": [
      "Finished: //scratch/matthew/automate/ipy_oxDNA/umbrella_sampling_example/rro/rro_umbrella_com_2/production/76\n",
      "Simulation worker finished\n"
     ]
    },
    {
     "name": "stderr",
     "output_type": "stream",
     "text": [
      "INFO: Lists updated 4668 times (every ~214.224507 steps)\n",
      "INFO: Aggregated I/O statistics (set debug=1 for file-wise information)\n",
      "\t 10.108 MB written to files\n",
      "\t124.000  B written to stdout/stderr\n",
      "\tFor a total of   0.0242 MB/s\n",
      "\n"
     ]
    },
    {
     "name": "stdout",
     "output_type": "stream",
     "text": [
      "Finished: //scratch/matthew/automate/ipy_oxDNA/umbrella_sampling_example/rro/rro_umbrella_com_2/production/84\n",
      "Simulation worker finished\n"
     ]
    },
    {
     "name": "stderr",
     "output_type": "stream",
     "text": [
      "INFO: Lists updated 4642 times (every ~215.424386 steps)\n",
      "INFO: Aggregated I/O statistics (set debug=1 for file-wise information)\n",
      "\t 10.107 MB written to files\n",
      "\t124.000  B written to stdout/stderr\n",
      "\tFor a total of   0.0262 MB/s\n",
      "\n"
     ]
    },
    {
     "name": "stdout",
     "output_type": "stream",
     "text": [
      "Finished: //scratch/matthew/automate/ipy_oxDNA/umbrella_sampling_example/rro/rro_umbrella_com_2/production/80\n",
      "Simulation worker finished\n"
     ]
    },
    {
     "name": "stderr",
     "output_type": "stream",
     "text": [
      "INFO: Lists updated 4697 times (every ~212.901852 steps)\n",
      "INFO: Aggregated I/O statistics (set debug=1 for file-wise information)\n",
      "\t 10.107 MB written to files\n",
      "\t124.000  B written to stdout/stderr\n",
      "\tFor a total of   0.0245 MB/s\n",
      "\n"
     ]
    },
    {
     "name": "stdout",
     "output_type": "stream",
     "text": [
      "Finished: //scratch/matthew/automate/ipy_oxDNA/umbrella_sampling_example/rro/rro_umbrella_com_2/production/87\n",
      "Simulation worker finished\n"
     ]
    },
    {
     "name": "stderr",
     "output_type": "stream",
     "text": [
      "INFO: Lists updated 4667 times (every ~214.270409 steps)\n",
      "INFO: Aggregated I/O statistics (set debug=1 for file-wise information)\n",
      "\t 10.107 MB written to files\n",
      "\t124.000  B written to stdout/stderr\n",
      "\tFor a total of   0.0269 MB/s\n",
      "\n"
     ]
    },
    {
     "name": "stdout",
     "output_type": "stream",
     "text": [
      "Finished: //scratch/matthew/automate/ipy_oxDNA/umbrella_sampling_example/rro/rro_umbrella_com_2/production/81\n",
      "Simulation worker finished\n"
     ]
    },
    {
     "name": "stderr",
     "output_type": "stream",
     "text": [
      "INFO: Lists updated 4652 times (every ~214.961307 steps)\n",
      "INFO: Aggregated I/O statistics (set debug=1 for file-wise information)\n",
      "\t 10.105 MB written to files\n",
      "\t124.000  B written to stdout/stderr\n",
      "\tFor a total of   0.0248 MB/s\n",
      "\n"
     ]
    },
    {
     "name": "stdout",
     "output_type": "stream",
     "text": [
      "Finished: //scratch/matthew/automate/ipy_oxDNA/umbrella_sampling_example/rro/rro_umbrella_com_2/production/91\n",
      "Simulation worker finished\n"
     ]
    },
    {
     "name": "stderr",
     "output_type": "stream",
     "text": [
      "INFO: Lists updated 4608 times (every ~217.013889 steps)\n",
      "INFO: Aggregated I/O statistics (set debug=1 for file-wise information)\n",
      "\t 10.103 MB written to files\n",
      "\t124.000  B written to stdout/stderr\n",
      "\tFor a total of   0.0282 MB/s\n",
      "\n"
     ]
    },
    {
     "name": "stdout",
     "output_type": "stream",
     "text": [
      "Finished: //scratch/matthew/automate/ipy_oxDNA/umbrella_sampling_example/rro/rro_umbrella_com_2/production/88\n",
      "Simulation worker finished\n"
     ]
    },
    {
     "name": "stderr",
     "output_type": "stream",
     "text": [
      "INFO: Lists updated 4721 times (every ~211.819530 steps)\n",
      "INFO: Aggregated I/O statistics (set debug=1 for file-wise information)\n",
      "\t 10.105 MB written to files\n",
      "\t124.000  B written to stdout/stderr\n",
      "\tFor a total of   0.0268 MB/s\n",
      "\n"
     ]
    },
    {
     "name": "stdout",
     "output_type": "stream",
     "text": [
      "Finished: //scratch/matthew/automate/ipy_oxDNA/umbrella_sampling_example/rro/rro_umbrella_com_2/production/78\n",
      "Simulation worker finished\n"
     ]
    },
    {
     "name": "stderr",
     "output_type": "stream",
     "text": [
      "INFO: Lists updated 4646 times (every ~215.238915 steps)\n",
      "INFO: Aggregated I/O statistics (set debug=1 for file-wise information)\n",
      "\t 10.105 MB written to files\n",
      "\t124.000  B written to stdout/stderr\n",
      "\tFor a total of   0.0224 MB/s\n",
      "\n"
     ]
    },
    {
     "name": "stdout",
     "output_type": "stream",
     "text": [
      "Finished: //scratch/matthew/automate/ipy_oxDNA/umbrella_sampling_example/rro/rro_umbrella_com_2/production/90\n",
      "Simulation worker finished\n"
     ]
    },
    {
     "name": "stderr",
     "output_type": "stream",
     "text": [
      "INFO: Lists updated 4671 times (every ~214.086919 steps)\n",
      "INFO: Aggregated I/O statistics (set debug=1 for file-wise information)\n",
      "\t 10.109 MB written to files\n",
      "\t124.000  B written to stdout/stderr\n",
      "\tFor a total of   0.0269 MB/s\n",
      "\n"
     ]
    },
    {
     "name": "stdout",
     "output_type": "stream",
     "text": [
      "Finished: //scratch/matthew/automate/ipy_oxDNA/umbrella_sampling_example/rro/rro_umbrella_com_2/production/89\n",
      "Simulation worker finished\n"
     ]
    },
    {
     "name": "stderr",
     "output_type": "stream",
     "text": [
      "INFO: Lists updated 4674 times (every ~213.949508 steps)\n",
      "INFO: Aggregated I/O statistics (set debug=1 for file-wise information)\n",
      "\t 10.111 MB written to files\n",
      "\t124.000  B written to stdout/stderr\n",
      "\tFor a total of   0.0268 MB/s\n",
      "\n"
     ]
    },
    {
     "name": "stdout",
     "output_type": "stream",
     "text": [
      "Finished: //scratch/matthew/automate/ipy_oxDNA/umbrella_sampling_example/rro/rro_umbrella_com_2/production/82\n",
      "Simulation worker finished\n"
     ]
    },
    {
     "name": "stderr",
     "output_type": "stream",
     "text": [
      "INFO: Lists updated 4633 times (every ~215.842866 steps)\n",
      "INFO: Aggregated I/O statistics (set debug=1 for file-wise information)\n",
      "\t 10.107 MB written to files\n",
      "\t124.000  B written to stdout/stderr\n",
      "\tFor a total of   0.0229 MB/s\n",
      "\n"
     ]
    },
    {
     "name": "stdout",
     "output_type": "stream",
     "text": [
      "Finished: //scratch/matthew/automate/ipy_oxDNA/umbrella_sampling_example/rro/rro_umbrella_com_2/production/83\n",
      "Simulation worker finished\n"
     ]
    },
    {
     "name": "stderr",
     "output_type": "stream",
     "text": [
      "INFO: Lists updated 4630 times (every ~215.982721 steps)\n",
      "INFO: Aggregated I/O statistics (set debug=1 for file-wise information)\n",
      "\t 10.111 MB written to files\n",
      "\t124.000  B written to stdout/stderr\n",
      "\tFor a total of   0.0232 MB/s\n",
      "\n"
     ]
    },
    {
     "name": "stdout",
     "output_type": "stream",
     "text": [
      "Finished: //scratch/matthew/automate/ipy_oxDNA/umbrella_sampling_example/rro/rro_umbrella_com_2/production/92\n",
      "Simulation worker finished\n"
     ]
    },
    {
     "name": "stderr",
     "output_type": "stream",
     "text": [
      "INFO: Lists updated 4552 times (every ~219.683656 steps)\n",
      "INFO: Aggregated I/O statistics (set debug=1 for file-wise information)\n",
      "\t 10.107 MB written to files\n",
      "\t124.000  B written to stdout/stderr\n",
      "\tFor a total of   0.0248 MB/s\n",
      "\n"
     ]
    },
    {
     "name": "stdout",
     "output_type": "stream",
     "text": [
      "Finished: //scratch/matthew/automate/ipy_oxDNA/umbrella_sampling_example/rro/rro_umbrella_com_2/production/94\n",
      "Simulation worker finished\n"
     ]
    },
    {
     "name": "stderr",
     "output_type": "stream",
     "text": [
      "INFO: Lists updated 4572 times (every ~218.722660 steps)\n",
      "INFO: Aggregated I/O statistics (set debug=1 for file-wise information)\n",
      "\t 10.102 MB written to files\n",
      "\t124.000  B written to stdout/stderr\n",
      "\tFor a total of    0.026 MB/s\n",
      "\n"
     ]
    },
    {
     "name": "stdout",
     "output_type": "stream",
     "text": [
      "Finished: //scratch/matthew/automate/ipy_oxDNA/umbrella_sampling_example/rro/rro_umbrella_com_2/production/97\n",
      "Simulation worker finished\n"
     ]
    },
    {
     "name": "stderr",
     "output_type": "stream",
     "text": [
      "INFO: Lists updated 4588 times (every ~217.959895 steps)\n",
      "INFO: Aggregated I/O statistics (set debug=1 for file-wise information)\n",
      "\t 10.111 MB written to files\n",
      "\t124.000  B written to stdout/stderr\n",
      "\tFor a total of   0.0271 MB/s\n",
      "\n"
     ]
    },
    {
     "name": "stdout",
     "output_type": "stream",
     "text": [
      "Finished: //scratch/matthew/automate/ipy_oxDNA/umbrella_sampling_example/rro/rro_umbrella_com_2/production/79\n",
      "Simulation worker finished\n"
     ]
    },
    {
     "name": "stderr",
     "output_type": "stream",
     "text": [
      "INFO: Lists updated 4555 times (every ~219.538968 steps)\n",
      "INFO: Aggregated I/O statistics (set debug=1 for file-wise information)\n",
      "\t 10.108 MB written to files\n",
      "\t124.000  B written to stdout/stderr\n",
      "\tFor a total of   0.0192 MB/s\n",
      "\n"
     ]
    },
    {
     "name": "stdout",
     "output_type": "stream",
     "text": [
      "Finished: //scratch/matthew/automate/ipy_oxDNA/umbrella_sampling_example/rro/rro_umbrella_com_2/production/85\n",
      "Simulation worker finished\n"
     ]
    },
    {
     "name": "stderr",
     "output_type": "stream",
     "text": [
      "INFO: Lists updated 4639 times (every ~215.563699 steps)\n",
      "INFO: Aggregated I/O statistics (set debug=1 for file-wise information)\n",
      "\t 10.105 MB written to files\n",
      "\t124.000  B written to stdout/stderr\n",
      "\tFor a total of   0.0194 MB/s\n",
      "\n"
     ]
    },
    {
     "name": "stdout",
     "output_type": "stream",
     "text": [
      "Finished: //scratch/matthew/automate/ipy_oxDNA/umbrella_sampling_example/rro/rro_umbrella_com_2/production/86\n",
      "Simulation worker finished\n"
     ]
    },
    {
     "name": "stderr",
     "output_type": "stream",
     "text": [
      "INFO: Lists updated 4703 times (every ~212.630236 steps)\n",
      "INFO: Aggregated I/O statistics (set debug=1 for file-wise information)\n",
      "\t 10.105 MB written to files\n",
      "\t124.000  B written to stdout/stderr\n",
      "\tFor a total of   0.0194 MB/s\n",
      "\n"
     ]
    },
    {
     "name": "stdout",
     "output_type": "stream",
     "text": [
      "Finished: //scratch/matthew/automate/ipy_oxDNA/umbrella_sampling_example/rro/rro_umbrella_com_2/production/93\n",
      "Simulation worker finished\n"
     ]
    },
    {
     "name": "stderr",
     "output_type": "stream",
     "text": [
      "INFO: Lists updated 4685 times (every ~213.447172 steps)\n",
      "INFO: Aggregated I/O statistics (set debug=1 for file-wise information)\n",
      "\t 10.106 MB written to files\n",
      "\t124.000  B written to stdout/stderr\n",
      "\tFor a total of   0.0199 MB/s\n",
      "\n"
     ]
    },
    {
     "name": "stdout",
     "output_type": "stream",
     "text": [
      "Finished: //scratch/matthew/automate/ipy_oxDNA/umbrella_sampling_example/rro/rro_umbrella_com_2/production/95\n",
      "Simulation worker finished\n"
     ]
    },
    {
     "name": "stderr",
     "output_type": "stream",
     "text": [
      "INFO: Lists updated 4578 times (every ~218.435998 steps)\n",
      "INFO: Aggregated I/O statistics (set debug=1 for file-wise information)\n",
      "\t 10.108 MB written to files\n",
      "\t124.000  B written to stdout/stderr\n",
      "\tFor a total of   0.0205 MB/s\n",
      "\n"
     ]
    },
    {
     "name": "stdout",
     "output_type": "stream",
     "text": [
      "Finished: //scratch/matthew/automate/ipy_oxDNA/umbrella_sampling_example/rro/rro_umbrella_com_2/production/96\n",
      "Simulation worker finished\n"
     ]
    },
    {
     "name": "stderr",
     "output_type": "stream",
     "text": [
      "INFO: Lists updated 4643 times (every ~215.377988 steps)\n",
      "INFO: Aggregated I/O statistics (set debug=1 for file-wise information)\n",
      "\t 10.106 MB written to files\n",
      "\t124.000  B written to stdout/stderr\n",
      "\tFor a total of   0.0208 MB/s\n",
      "\n"
     ]
    },
    {
     "name": "stdout",
     "output_type": "stream",
     "text": [
      "Finished: //scratch/matthew/automate/ipy_oxDNA/umbrella_sampling_example/rro/rro_umbrella_com_2/production/98\n",
      "Simulation worker finished\n"
     ]
    },
    {
     "name": "stderr",
     "output_type": "stream",
     "text": [
      "INFO: Lists updated 4610 times (every ~216.919740 steps)\n",
      "INFO: Aggregated I/O statistics (set debug=1 for file-wise information)\n",
      "\t 10.111 MB written to files\n",
      "\t124.000  B written to stdout/stderr\n",
      "\tFor a total of    0.021 MB/s\n",
      "\n"
     ]
    },
    {
     "name": "stdout",
     "output_type": "stream",
     "text": [
      "Finished: //scratch/matthew/automate/ipy_oxDNA/umbrella_sampling_example/rro/rro_umbrella_com_2/production/99\n",
      "Simulation worker finished\n"
     ]
    },
    {
     "name": "stderr",
     "output_type": "stream",
     "text": [
      "INFO: Lists updated 4629 times (every ~216.029380 steps)\n",
      "INFO: Aggregated I/O statistics (set debug=1 for file-wise information)\n",
      "\t 10.106 MB written to files\n",
      "\t124.000  B written to stdout/stderr\n",
      "\tFor a total of   0.0211 MB/s\n",
      "\n"
     ]
    },
    {
     "name": "stdout",
     "output_type": "stream",
     "text": [
      "All queued simulations finished\n"
     ]
    }
   ],
   "source": [
    "simulation_manager.run()"
   ]
  },
  {
   "cell_type": "code",
   "execution_count": 10,
   "id": "6c725ba3-7eae-4bcb-bac6-a7a0bc899699",
   "metadata": {
    "tags": []
   },
   "outputs": [
    {
     "name": "stdout",
     "output_type": "stream",
     "text": [
      "Running WHAM analysis...\n",
      "WHAM analysis completed\n"
     ]
    }
   ],
   "source": [
    "wham_dir = '//scratch/matthew/automate/ipy_oxDNA/rewrite/wham/wham/'\n",
    "n_bins = '200'\n",
    "tol = '1e-5'\n",
    "n_boot = '30'\n",
    "us.wham_job(wham_dir, xmin, xmax, stiff, n_bins, tol, n_boot)"
   ]
  },
  {
   "cell_type": "code",
   "execution_count": 11,
   "id": "cc26c618-deb9-40c7-87fb-eb8b86ca8efe",
   "metadata": {},
   "outputs": [
    {
     "data": {
      "image/png": "[encoded data removed]",
      "text/plain": [
       "<Figure size 1100x900 with 1 Axes>"
      ]
     },
     "metadata": {},
     "output_type": "display_data"
    }
   ],
   "source": [
    "us.plot_free()"
   ]
  },
  {
   "cell_type": "code",
   "execution_count": null,
   "id": "b6349f4b-b7ff-4fc5-89a4-3c4edc7b201c",
   "metadata": {},
   "outputs": [],
   "source": []
  },
  {
   "cell_type": "code",
   "execution_count": 1,
   "id": "04e2b49c-3752-496d-9257-350c8497cfa1",
   "metadata": {},
   "outputs": [
    {
     "ename": "FileNotFoundError",
     "evalue": "[Errno 2] No such file or directory: 'mprofile_20230127194259.dat'",
     "output_type": "error",
     "traceback": [
      "\u001b[0;31m---------------------------------------------------------------------------\u001b[0m",
      "\u001b[0;31mFileNotFoundError\u001b[0m                         Traceback (most recent call last)",
      "Input \u001b[0;32mIn [1]\u001b[0m, in \u001b[0;36m<cell line: 5>\u001b[0;34m()\u001b[0m\n\u001b[1;32m      2\u001b[0m \u001b[38;5;28;01mimport\u001b[39;00m \u001b[38;5;21;01mpandas\u001b[39;00m \u001b[38;5;28;01mas\u001b[39;00m \u001b[38;5;21;01mpd\u001b[39;00m\n\u001b[1;32m      3\u001b[0m \u001b[38;5;28;01mimport\u001b[39;00m \u001b[38;5;21;01mnumpy\u001b[39;00m \u001b[38;5;28;01mas\u001b[39;00m \u001b[38;5;21;01mnp\u001b[39;00m\n\u001b[0;32m----> 5\u001b[0m \u001b[38;5;28;01mwith\u001b[39;00m \u001b[38;5;28;43mopen\u001b[39;49m\u001b[43m(\u001b[49m\u001b[38;5;124;43m'\u001b[39;49m\u001b[38;5;124;43mmprofile_20230127194259.dat\u001b[39;49m\u001b[38;5;124;43m'\u001b[39;49m\u001b[43m,\u001b[49m\u001b[43m \u001b[49m\u001b[38;5;124;43m'\u001b[39;49m\u001b[38;5;124;43mr\u001b[39;49m\u001b[38;5;124;43m'\u001b[39;49m\u001b[43m)\u001b[49m \u001b[38;5;28;01mas\u001b[39;00m f:\n\u001b[1;32m      6\u001b[0m     lines \u001b[38;5;241m=\u001b[39m f\u001b[38;5;241m.\u001b[39mreadlines()\n\u001b[1;32m      8\u001b[0m lines \u001b[38;5;241m=\u001b[39m lines[\u001b[38;5;241m1\u001b[39m:]    \n",
      "\u001b[0;31mFileNotFoundError\u001b[0m: [Errno 2] No such file or directory: 'mprofile_20230127194259.dat'"
     ]
    }
   ],
   "source": [
    "import matplotlib.pyplot as plt\n",
    "import pandas as pd\n",
    "import numpy as np\n",
    "\n",
    "with open('mprofile_20230127194259.dat', 'r') as f:\n",
    "    lines = f.readlines()\n",
    "\n",
    "lines = lines[1:]    \n",
    "lines_mem = [l.lstrip('MEM ').strip('\\n').split() for l in lines if l.startswith('MEM')]\n",
    "lines_chld = [l.lstrip('CHLD').strip('\\n').split() for l in lines if l.startswith('CHLD')]\n",
    "\n",
    "lines_mem = list(map(list, zip(*lines_mem)))\n",
    "lines_chld = list(map(list, zip(*lines_chld)))\n",
    "\n",
    "plt.figure(dpi=300)\n",
    "plt.plot(np.array(lines_chld[0], dtype=np.float32), np.array(lines_chld[1], dtype=np.float32))\n",
    "#print(lines_mem[0])\n",
    "\n",
    "\n"
   ]
  },
  {
   "cell_type": "markdown",
   "id": "5e9cb2af-ee2e-4b66-a1ce-d61bd181a595",
   "metadata": {},
   "source": [
    "<font size='6'><a class=\"anchor\" id=\"4\"></a> <h2 align=\"center\"> <font color='black'>Multiple Umbrella Sampling Systems</font></h2> \n",
    "\n",
    "<font size='3'><font color='black'>Utilizing the ComUmbrellaSampling class, we can automatically run 1D umbrella sampling simulations with a COM order parameter.</font>"
   ]
  },
  {
   "cell_type": "code",
   "execution_count": 9,
   "id": "e805119d-4354-48ff-893c-96c9a73e6d76",
   "metadata": {},
   "outputs": [],
   "source": [
    "simulation_manager = SimulationManager()\n",
    "simulation_manager.restart_nvidia_cuda_mps_control()"
   ]
  },
  {
   "cell_type": "code",
   "execution_count": 8,
   "id": "bfb021d1-d697-498c-91bb-85f4af58bf92",
   "metadata": {},
   "outputs": [],
   "source": [
    "from umbrella_sampling import ComUmbrellaSampling\n",
    "from oxdna_simulation import SimulationManager\n",
    "import os\n",
    "import multiprocessing as mp\n",
    "#%load_ext memory_profiler\n"
   ]
  },
  {
   "cell_type": "code",
   "execution_count": 10,
   "id": "7696f209-52cb-40ae-ab9d-a80f104cd7fe",
   "metadata": {},
   "outputs": [],
   "source": [
    "#mp.set_start_method('spawn')\n",
    "path = os.path.abspath('../ipy_oxdna_examples')\n",
    "file_dir = f'{path}/rro'\n",
    "system = [f'rro_umbrella_benchmarking_{sys}' for sys in range(5)]\n",
    "\n",
    "com_list = '63,157,64,65,66,67,68,69,70,71,72,73,74,75,76,77,78,79,80,81,82,83,84,85,86,87,88,89,90,91,92,93,94,95,96,97,98,99,100,101,102,103,104,105,106,107,108,109,110,111,112,113,114,115,116,117,118,119,120,121,122,123,124,125,126,127,128,129,130,131,132,133,134,135,136,137,138,139,140,141,142,143,144,145,146,147,148,149,150,151,152,153,154,155,156,6830,6736,6737,6738,6739,6740,6741,6742,6743,6744,6745,6746,6747,6748,6749,6750,6751,6752,6753,6754,6755,6756,6757,6758,6759,6760,6761,6762,6763,6764,6765,6766,6767,6768,6769,6770,6771,6772,6773,6774,6775,6776,6777,6778,6779,6780,6781,6782,6783,6784,6785,6786,6787,6788,6789,6790,6791,6792,6793,6794,6795,6796,6797,6798,6799,6800,6801,6802,6803,6804,6805,6806,6807,6808,6809,6810,6811,6812,6813,6814,6815,6816,6817,6818,6819,6820,6821,6822,6823,6824,6825,6826,6827,6828,6829'\n",
    "ref_list = '3455,3510,3456,3457,3458,3459,3460,3461,3462,3463,3464,3465,3466,3467,3468,3469,3470,3471,3472,3473,3474,3475,3476,3477,3478,3479,3480,3481,3482,3483,3484,3485,3486,3487,3488,3489,3490,3491,3492,3493,3494,3495,3496,3497,3498,3499,3500,3501,3502,3503,3504,3505,3506,3507,3508,3509,3447,3448,3449,3450,3451,3452,3453,3454,3541,3511,3512,3513,3514,3515,3516,3517,3518,3519,3520,3521,3522,3523,3524,3525,3526,3527,3528,3529,3530,3531,3532,3533,3534,3535,3536,3537,3538,3539,3540,3352,3353,3354,3355,3356,3357,3358,3359,3360,3361,3362,3363,3364,3365,3366,3367,3368,3369,3370,3371,3372,3373,3374,3375,3376,3377,3378,3379,3380,3381,3382,3383,3384,3385,3386,3387,3388,3389,3390,3391,3392,3393,3394,3395,3396,3397,3398,3399,3400,3401,3402,3403,3404,3405,3406,3407,3408,3409,3410,3411,3412,3413,3414,3415,3416,3417,3418,3419,3420,3421,3422,3423,3424,3425,3426,3427,3428,3429,3430,3431,3432,3433,3434,3435,3436,3437,3438,3439,3440,3441,3442,3443,3444,3445,3446'\n",
    "\n",
    "stiff = 0.2\n",
    "xmin = 0\n",
    "xmax = 72.787\n",
    "n_windows = 100\n",
    "\n",
    "equlibration_parameters = [{'steps':'8e5', 'print_energy_every': '8e5', 'print_conf_interval':'8e5', 'max_density_multiplier':'2'},\n",
    "                           {'steps':'3e5',  'print_energy_every': '3e5', 'print_conf_interval':'3e5','fix_diffusion':'0'}\n",
    "                          ]\n",
    "production_parameters = [{'steps':'1e6', 'print_energy_every': '1e6', 'print_conf_interval':'1e6'} for _ in range(3)]\n",
    "\n",
    "\n",
    "us_0 = ComUmbrellaSampling(file_dir, system[0])\n",
    "# us_1 = ComUmbrellaSampling(file_dir, system[1])\n",
    "# us_2 = ComUmbrellaSampling(file_dir, system[2])\n",
    "# us_3 = ComUmbrellaSampling(file_dir, system[3])\n",
    "# us_4 = ComUmbrellaSampling(file_dir, system[4])\n",
    "#us_6 = ComUmbrellaSampling(file_dir, system[5])\n",
    "\n",
    "\n",
    "\n",
    "simulation_manager = SimulationManager()"
   ]
  },
  {
   "cell_type": "code",
   "execution_count": 11,
   "id": "7017d055-c291-4474-8112-d2b72f64cf83",
   "metadata": {},
   "outputs": [],
   "source": [
    "us_0.build_equlibration_runs(simulation_manager, n_windows, com_list, ref_list, stiff, xmin, xmax, equlibration_parameters[0], observable=True, print_every=1e4, name='com_distance.txt')\n",
    "# us_1.build_equlibration_runs(simulation_manager, n_windows, com_list, ref_list, stiff, xmin, xmax, equlibration_parameters[0], observable=False, print_every=1e4, name='com_distance.txt')\n",
    "# us_2.build_equlibration_runs(simulation_manager, n_windows, com_list, ref_list, stiff, xmin, xmax, equlibration_parameters[1], observable=True, print_every=1e4, name='com_distance.txt')\n",
    "# us_3.build_equlibration_runs(simulation_manager, n_windows, com_list, ref_list, stiff, xmin, xmax, equlibration_parameters[1], observable=False, print_every=1e4, name='com_distance.txt')\n",
    "# us_4.build_equlibration_runs(simulation_manager, n_windows, com_list, ref_list, stiff, xmin, xmax, equlibration_parameters[0], observable=True, print_every=1e3, name='com_distance.txt')\n",
    "# #us_5.build_equlibration_runs(simulation_manager, n_windows, com_list, ref_list, stiff, xmin, xmax, equlibration_parameters[0], observable=True, print_every=1e4, name='com_distance.txt')\n"
   ]
  },
  {
   "cell_type": "code",
   "execution_count": 12,
   "id": "01561269-5db4-4110-821a-18c6b7baaad9",
   "metadata": {
    "tags": []
   },
   "outputs": [
    {
     "name": "stdout",
     "output_type": "stream",
     "text": [
      "Running: 0\n"
     ]
    },
    {
     "name": "stderr",
     "output_type": "stream",
     "text": [
      "INFO: Aggregated I/O statistics (set debug=1 for file-wise information)\n",
      "\t  3.369 MB written to files\n",
      "\t 62.000  B written to stdout/stderr\n"
     ]
    },
    {
     "name": "stdout",
     "output_type": "stream",
     "text": [
      "Running: 1\n"
     ]
    },
    {
     "name": "stderr",
     "output_type": "stream",
     "text": [
      "INFO: Aggregated I/O statistics (set debug=1 for file-wise information)\n",
      "\t  3.368 MB written to files\n",
      "\t 62.000  B written to stdout/stderr\n"
     ]
    },
    {
     "name": "stdout",
     "output_type": "stream",
     "text": [
      "Running: 2\n"
     ]
    },
    {
     "name": "stderr",
     "output_type": "stream",
     "text": [
      "INFO: Aggregated I/O statistics (set debug=1 for file-wise information)\n",
      "\t  3.369 MB written to files\n",
      "\t 62.000  B written to stdout/stderr\n"
     ]
    },
    {
     "name": "stdout",
     "output_type": "stream",
     "text": [
      "Running: 3\n"
     ]
    },
    {
     "name": "stderr",
     "output_type": "stream",
     "text": [
      "INFO: Aggregated I/O statistics (set debug=1 for file-wise information)\n",
      "\t  3.368 MB written to files\n",
      "\t 62.000  B written to stdout/stderr\n"
     ]
    },
    {
     "name": "stdout",
     "output_type": "stream",
     "text": [
      "Running: 4\n"
     ]
    },
    {
     "name": "stderr",
     "output_type": "stream",
     "text": [
      "INFO: Aggregated I/O statistics (set debug=1 for file-wise information)\n",
      "\t  3.369 MB written to files\n",
      "\t 62.000  B written to stdout/stderr\n"
     ]
    },
    {
     "name": "stdout",
     "output_type": "stream",
     "text": [
      "Running: 5\n"
     ]
    },
    {
     "name": "stderr",
     "output_type": "stream",
     "text": [
      "INFO: Aggregated I/O statistics (set debug=1 for file-wise information)\n",
      "\t  3.368 MB written to files\n",
      "\t 62.000  B written to stdout/stderr\n"
     ]
    },
    {
     "name": "stdout",
     "output_type": "stream",
     "text": [
      "Running: 6\n"
     ]
    },
    {
     "name": "stderr",
     "output_type": "stream",
     "text": [
      "INFO: Aggregated I/O statistics (set debug=1 for file-wise information)\n",
      "\t  3.369 MB written to files\n",
      "\t 62.000  B written to stdout/stderr\n"
     ]
    },
    {
     "name": "stdout",
     "output_type": "stream",
     "text": [
      "Running: 7\n"
     ]
    },
    {
     "name": "stderr",
     "output_type": "stream",
     "text": [
      "INFO: Aggregated I/O statistics (set debug=1 for file-wise information)\n",
      "\t  3.369 MB written to files\n",
      "\t 62.000  B written to stdout/stderr\n"
     ]
    },
    {
     "name": "stdout",
     "output_type": "stream",
     "text": [
      "Running: 8\n"
     ]
    },
    {
     "name": "stderr",
     "output_type": "stream",
     "text": [
      "INFO: Aggregated I/O statistics (set debug=1 for file-wise information)\n",
      "\t  3.368 MB written to files\n",
      "\t 62.000  B written to stdout/stderr\n"
     ]
    },
    {
     "name": "stdout",
     "output_type": "stream",
     "text": [
      "Running: 9\n"
     ]
    },
    {
     "name": "stderr",
     "output_type": "stream",
     "text": [
      "INFO: Aggregated I/O statistics (set debug=1 for file-wise information)\n",
      "\t  3.369 MB written to files\n",
      "\t 62.000  B written to stdout/stderr\n"
     ]
    },
    {
     "name": "stdout",
     "output_type": "stream",
     "text": [
      "Running: 10\n"
     ]
    },
    {
     "name": "stderr",
     "output_type": "stream",
     "text": [
      "INFO: Aggregated I/O statistics (set debug=1 for file-wise information)\n",
      "\t  3.369 MB written to files\n",
      "\t 62.000  B written to stdout/stderr\n"
     ]
    },
    {
     "name": "stdout",
     "output_type": "stream",
     "text": [
      "Running: 11\n"
     ]
    },
    {
     "name": "stderr",
     "output_type": "stream",
     "text": [
      "INFO: Aggregated I/O statistics (set debug=1 for file-wise information)\n",
      "\t  3.369 MB written to files\n",
      "\t 62.000  B written to stdout/stderr\n"
     ]
    },
    {
     "name": "stdout",
     "output_type": "stream",
     "text": [
      "Running: 12\n"
     ]
    },
    {
     "name": "stderr",
     "output_type": "stream",
     "text": [
      "INFO: Aggregated I/O statistics (set debug=1 for file-wise information)\n",
      "\t  3.368 MB written to files\n",
      "\t 62.000  B written to stdout/stderr\n"
     ]
    },
    {
     "name": "stdout",
     "output_type": "stream",
     "text": [
      "Running: 13\n"
     ]
    },
    {
     "name": "stderr",
     "output_type": "stream",
     "text": [
      "INFO: Aggregated I/O statistics (set debug=1 for file-wise information)\n",
      "\t  3.369 MB written to files\n",
      "\t 62.000  B written to stdout/stderr\n"
     ]
    },
    {
     "name": "stdout",
     "output_type": "stream",
     "text": [
      "Running: 14\n"
     ]
    },
    {
     "name": "stderr",
     "output_type": "stream",
     "text": [
      "INFO: Aggregated I/O statistics (set debug=1 for file-wise information)\n",
      "\t  3.369 MB written to files\n",
      "\t 62.000  B written to stdout/stderr\n"
     ]
    },
    {
     "name": "stdout",
     "output_type": "stream",
     "text": [
      "Running: 15\n"
     ]
    },
    {
     "name": "stderr",
     "output_type": "stream",
     "text": [
      "INFO: Aggregated I/O statistics (set debug=1 for file-wise information)\n",
      "\t  3.368 MB written to files\n",
      "\t 62.000  B written to stdout/stderr\n"
     ]
    },
    {
     "name": "stdout",
     "output_type": "stream",
     "text": [
      "Running: 16\n"
     ]
    },
    {
     "name": "stderr",
     "output_type": "stream",
     "text": [
      "INFO: Aggregated I/O statistics (set debug=1 for file-wise information)\n",
      "\t  3.369 MB written to files\n",
      "\t 62.000  B written to stdout/stderr\n"
     ]
    },
    {
     "name": "stdout",
     "output_type": "stream",
     "text": [
      "Running: 17\n"
     ]
    },
    {
     "name": "stderr",
     "output_type": "stream",
     "text": [
      "INFO: Aggregated I/O statistics (set debug=1 for file-wise information)\n",
      "\t  3.369 MB written to files\n",
      "\t 62.000  B written to stdout/stderr\n"
     ]
    },
    {
     "name": "stdout",
     "output_type": "stream",
     "text": [
      "Running: 18\n"
     ]
    },
    {
     "name": "stderr",
     "output_type": "stream",
     "text": [
      "INFO: Aggregated I/O statistics (set debug=1 for file-wise information)\n",
      "\t  3.368 MB written to files\n",
      "\t 62.000  B written to stdout/stderr\n"
     ]
    },
    {
     "name": "stdout",
     "output_type": "stream",
     "text": [
      "Running: 19\n"
     ]
    },
    {
     "name": "stderr",
     "output_type": "stream",
     "text": [
      "INFO: Aggregated I/O statistics (set debug=1 for file-wise information)\n",
      "\t  3.368 MB written to files\n",
      "\t 62.000  B written to stdout/stderr\n"
     ]
    },
    {
     "name": "stdout",
     "output_type": "stream",
     "text": [
      "Running: 20\n"
     ]
    },
    {
     "name": "stderr",
     "output_type": "stream",
     "text": [
      "INFO: Aggregated I/O statistics (set debug=1 for file-wise information)\n",
      "\t  3.368 MB written to files\n",
      "\t 62.000  B written to stdout/stderr\n"
     ]
    },
    {
     "name": "stdout",
     "output_type": "stream",
     "text": [
      "Running: 21\n"
     ]
    },
    {
     "name": "stderr",
     "output_type": "stream",
     "text": [
      "INFO: Aggregated I/O statistics (set debug=1 for file-wise information)\n",
      "\t  3.369 MB written to files\n",
      "\t 62.000  B written to stdout/stderr\n"
     ]
    },
    {
     "name": "stdout",
     "output_type": "stream",
     "text": [
      "Running: 22\n"
     ]
    },
    {
     "name": "stderr",
     "output_type": "stream",
     "text": [
      "INFO: Aggregated I/O statistics (set debug=1 for file-wise information)\n",
      "\t  3.368 MB written to files\n",
      "\t 62.000  B written to stdout/stderr\n"
     ]
    },
    {
     "name": "stdout",
     "output_type": "stream",
     "text": [
      "Running: 23\n"
     ]
    },
    {
     "name": "stderr",
     "output_type": "stream",
     "text": [
      "INFO: Aggregated I/O statistics (set debug=1 for file-wise information)\n",
      "\t  3.369 MB written to files\n",
      "\t 62.000  B written to stdout/stderr\n"
     ]
    },
    {
     "name": "stdout",
     "output_type": "stream",
     "text": [
      "Running: 24\n"
     ]
    },
    {
     "name": "stderr",
     "output_type": "stream",
     "text": [
      "INFO: Aggregated I/O statistics (set debug=1 for file-wise information)\n",
      "\t  3.369 MB written to files\n",
      "\t 62.000  B written to stdout/stderr\n"
     ]
    },
    {
     "name": "stdout",
     "output_type": "stream",
     "text": [
      "Running: 25\n"
     ]
    },
    {
     "name": "stderr",
     "output_type": "stream",
     "text": [
      "INFO: Aggregated I/O statistics (set debug=1 for file-wise information)\n",
      "\t  3.369 MB written to files\n",
      "\t 62.000  B written to stdout/stderr\n",
      "INFO: Aggregated I/O statistics (set debug=1 for file-wise information)\n",
      "\t  3.369 MB written to files\n",
      "\t 62.000  B written to stdout/stderr\n"
     ]
    },
    {
     "name": "stdout",
     "output_type": "stream",
     "text": [
      "Running: 26\n",
      "Running: 27\n"
     ]
    },
    {
     "name": "stderr",
     "output_type": "stream",
     "text": [
      "INFO: Aggregated I/O statistics (set debug=1 for file-wise information)\n",
      "\t  3.369 MB written to files\n",
      "\t 62.000  B written to stdout/stderr\n"
     ]
    },
    {
     "name": "stdout",
     "output_type": "stream",
     "text": [
      "Running: 28\n"
     ]
    },
    {
     "name": "stderr",
     "output_type": "stream",
     "text": [
      "INFO: Aggregated I/O statistics (set debug=1 for file-wise information)\n",
      "\t  3.369 MB written to files\n",
      "\t 62.000  B written to stdout/stderr\n"
     ]
    },
    {
     "ename": "OSError",
     "evalue": "[Errno 12] Cannot allocate memory",
     "output_type": "error",
     "traceback": [
      "\u001b[0;31m---------------------------------------------------------------------------\u001b[0m",
      "\u001b[0;31mOSError\u001b[0m                                   Traceback (most recent call last)",
      "Input \u001b[0;32mIn [12]\u001b[0m, in \u001b[0;36m<cell line: 1>\u001b[0;34m()\u001b[0m\n\u001b[0;32m----> 1\u001b[0m \u001b[43msimulation_manager\u001b[49m\u001b[38;5;241;43m.\u001b[39;49m\u001b[43mworker_manager\u001b[49m\u001b[43m(\u001b[49m\u001b[43m)\u001b[49m\n",
      "File \u001b[0;32m/scratch/mlsample/ipy_oxDNA/scr/oxdna_simulation.py:405\u001b[0m, in \u001b[0;36mSimulationManager.worker_manager\u001b[0;34m(self)\u001b[0m\n\u001b[1;32m    403\u001b[0m sim\u001b[38;5;241m.\u001b[39minput_file({\u001b[38;5;124m'\u001b[39m\u001b[38;5;124mCUDA_device\u001b[39m\u001b[38;5;124m'\u001b[39m: \u001b[38;5;28mstr\u001b[39m(gpu_idx)})\n\u001b[1;32m    404\u001b[0m p \u001b[38;5;241m=\u001b[39m mp\u001b[38;5;241m.\u001b[39mProcess(target\u001b[38;5;241m=\u001b[39m\u001b[38;5;28mself\u001b[39m\u001b[38;5;241m.\u001b[39mworker_job, args\u001b[38;5;241m=\u001b[39m(sim, gpu_idx))\n\u001b[0;32m--> 405\u001b[0m \u001b[43mp\u001b[49m\u001b[38;5;241;43m.\u001b[39;49m\u001b[43mstart\u001b[49m\u001b[43m(\u001b[49m\u001b[43m)\u001b[49m\n\u001b[1;32m    406\u001b[0m \u001b[38;5;28mself\u001b[39m\u001b[38;5;241m.\u001b[39mworker_process_list\u001b[38;5;241m.\u001b[39mappend(p)\n\u001b[1;32m    407\u001b[0m sim_mem \u001b[38;5;241m=\u001b[39m \u001b[38;5;28mself\u001b[39m\u001b[38;5;241m.\u001b[39mgpu_memory_queue\u001b[38;5;241m.\u001b[39mget()\n",
      "File \u001b[0;32m/packages/7x/jupyter/2022-04-15/lib/python3.9/multiprocessing/process.py:121\u001b[0m, in \u001b[0;36mBaseProcess.start\u001b[0;34m(self)\u001b[0m\n\u001b[1;32m    118\u001b[0m \u001b[38;5;28;01massert\u001b[39;00m \u001b[38;5;129;01mnot\u001b[39;00m _current_process\u001b[38;5;241m.\u001b[39m_config\u001b[38;5;241m.\u001b[39mget(\u001b[38;5;124m'\u001b[39m\u001b[38;5;124mdaemon\u001b[39m\u001b[38;5;124m'\u001b[39m), \\\n\u001b[1;32m    119\u001b[0m        \u001b[38;5;124m'\u001b[39m\u001b[38;5;124mdaemonic processes are not allowed to have children\u001b[39m\u001b[38;5;124m'\u001b[39m\n\u001b[1;32m    120\u001b[0m _cleanup()\n\u001b[0;32m--> 121\u001b[0m \u001b[38;5;28mself\u001b[39m\u001b[38;5;241m.\u001b[39m_popen \u001b[38;5;241m=\u001b[39m \u001b[38;5;28;43mself\u001b[39;49m\u001b[38;5;241;43m.\u001b[39;49m\u001b[43m_Popen\u001b[49m\u001b[43m(\u001b[49m\u001b[38;5;28;43mself\u001b[39;49m\u001b[43m)\u001b[49m\n\u001b[1;32m    122\u001b[0m \u001b[38;5;28mself\u001b[39m\u001b[38;5;241m.\u001b[39m_sentinel \u001b[38;5;241m=\u001b[39m \u001b[38;5;28mself\u001b[39m\u001b[38;5;241m.\u001b[39m_popen\u001b[38;5;241m.\u001b[39msentinel\n\u001b[1;32m    123\u001b[0m \u001b[38;5;66;03m# Avoid a refcycle if the target function holds an indirect\u001b[39;00m\n\u001b[1;32m    124\u001b[0m \u001b[38;5;66;03m# reference to the process object (see bpo-30775)\u001b[39;00m\n",
      "File \u001b[0;32m/packages/7x/jupyter/2022-04-15/lib/python3.9/multiprocessing/context.py:224\u001b[0m, in \u001b[0;36mProcess._Popen\u001b[0;34m(process_obj)\u001b[0m\n\u001b[1;32m    222\u001b[0m \u001b[38;5;129m@staticmethod\u001b[39m\n\u001b[1;32m    223\u001b[0m \u001b[38;5;28;01mdef\u001b[39;00m \u001b[38;5;21m_Popen\u001b[39m(process_obj):\n\u001b[0;32m--> 224\u001b[0m     \u001b[38;5;28;01mreturn\u001b[39;00m \u001b[43m_default_context\u001b[49m\u001b[38;5;241;43m.\u001b[39;49m\u001b[43mget_context\u001b[49m\u001b[43m(\u001b[49m\u001b[43m)\u001b[49m\u001b[38;5;241;43m.\u001b[39;49m\u001b[43mProcess\u001b[49m\u001b[38;5;241;43m.\u001b[39;49m\u001b[43m_Popen\u001b[49m\u001b[43m(\u001b[49m\u001b[43mprocess_obj\u001b[49m\u001b[43m)\u001b[49m\n",
      "File \u001b[0;32m/packages/7x/jupyter/2022-04-15/lib/python3.9/multiprocessing/context.py:277\u001b[0m, in \u001b[0;36mForkProcess._Popen\u001b[0;34m(process_obj)\u001b[0m\n\u001b[1;32m    274\u001b[0m \u001b[38;5;129m@staticmethod\u001b[39m\n\u001b[1;32m    275\u001b[0m \u001b[38;5;28;01mdef\u001b[39;00m \u001b[38;5;21m_Popen\u001b[39m(process_obj):\n\u001b[1;32m    276\u001b[0m     \u001b[38;5;28;01mfrom\u001b[39;00m \u001b[38;5;21;01m.\u001b[39;00m\u001b[38;5;21;01mpopen_fork\u001b[39;00m \u001b[38;5;28;01mimport\u001b[39;00m Popen\n\u001b[0;32m--> 277\u001b[0m     \u001b[38;5;28;01mreturn\u001b[39;00m \u001b[43mPopen\u001b[49m\u001b[43m(\u001b[49m\u001b[43mprocess_obj\u001b[49m\u001b[43m)\u001b[49m\n",
      "File \u001b[0;32m/packages/7x/jupyter/2022-04-15/lib/python3.9/multiprocessing/popen_fork.py:19\u001b[0m, in \u001b[0;36mPopen.__init__\u001b[0;34m(self, process_obj)\u001b[0m\n\u001b[1;32m     17\u001b[0m \u001b[38;5;28mself\u001b[39m\u001b[38;5;241m.\u001b[39mreturncode \u001b[38;5;241m=\u001b[39m \u001b[38;5;28;01mNone\u001b[39;00m\n\u001b[1;32m     18\u001b[0m \u001b[38;5;28mself\u001b[39m\u001b[38;5;241m.\u001b[39mfinalizer \u001b[38;5;241m=\u001b[39m \u001b[38;5;28;01mNone\u001b[39;00m\n\u001b[0;32m---> 19\u001b[0m \u001b[38;5;28;43mself\u001b[39;49m\u001b[38;5;241;43m.\u001b[39;49m\u001b[43m_launch\u001b[49m\u001b[43m(\u001b[49m\u001b[43mprocess_obj\u001b[49m\u001b[43m)\u001b[49m\n",
      "File \u001b[0;32m/packages/7x/jupyter/2022-04-15/lib/python3.9/multiprocessing/popen_fork.py:66\u001b[0m, in \u001b[0;36mPopen._launch\u001b[0;34m(self, process_obj)\u001b[0m\n\u001b[1;32m     64\u001b[0m parent_r, child_w \u001b[38;5;241m=\u001b[39m os\u001b[38;5;241m.\u001b[39mpipe()\n\u001b[1;32m     65\u001b[0m child_r, parent_w \u001b[38;5;241m=\u001b[39m os\u001b[38;5;241m.\u001b[39mpipe()\n\u001b[0;32m---> 66\u001b[0m \u001b[38;5;28mself\u001b[39m\u001b[38;5;241m.\u001b[39mpid \u001b[38;5;241m=\u001b[39m \u001b[43mos\u001b[49m\u001b[38;5;241;43m.\u001b[39;49m\u001b[43mfork\u001b[49m\u001b[43m(\u001b[49m\u001b[43m)\u001b[49m\n\u001b[1;32m     67\u001b[0m \u001b[38;5;28;01mif\u001b[39;00m \u001b[38;5;28mself\u001b[39m\u001b[38;5;241m.\u001b[39mpid \u001b[38;5;241m==\u001b[39m \u001b[38;5;241m0\u001b[39m:\n\u001b[1;32m     68\u001b[0m     \u001b[38;5;28;01mtry\u001b[39;00m:\n",
      "\u001b[0;31mOSError\u001b[0m: [Errno 12] Cannot allocate memory"
     ]
    }
   ],
   "source": [
    "simulation_manager.worker_manager()"
   ]
  },
  {
   "cell_type": "code",
   "execution_count": 9,
   "id": "1449ee9b-629d-415f-b783-501636aaccfe",
   "metadata": {},
   "outputs": [
    {
     "name": "stdout",
     "output_type": "stream",
     "text": [
      "None\n"
     ]
    }
   ],
   "source": [
    "print(simulation_manager.manager_process.terminate())"
   ]
  },
  {
   "cell_type": "code",
   "execution_count": 8,
   "id": "9391fe96-a704-4f97-8a93-2aa14429963b",
   "metadata": {},
   "outputs": [
    {
     "name": "stdout",
     "output_type": "stream",
     "text": [
      "(-1, -1)\n",
      "(-1, -1)\n"
     ]
    }
   ],
   "source": [
    "import resource\n",
    "print(resource.getrlimit(resource.RLIMIT_DATA)) # => (soft_lim, hard_lim))\n",
    "print(resource.getrlimit(resource.RLIMIT_AS))"
   ]
  },
  {
   "cell_type": "code",
   "execution_count": 2,
   "id": "f007f239-b4a9-4451-b5cb-212f7aee7d18",
   "metadata": {},
   "outputs": [
    {
     "name": "stdout",
     "output_type": "stream",
     "text": [
      "107108\n"
     ]
    }
   ],
   "source": [
    "import psutil\n",
    "\n",
    "for proc in psutil.process_iter():\n",
    "    if 'jupyter-lab' in proc.name():\n",
    "        print(proc.pid)"
   ]
  },
  {
   "cell_type": "code",
   "execution_count": 3,
   "id": "affa8ffa-7f44-4983-bf8c-8d79fb16dc7d",
   "metadata": {},
   "outputs": [
    {
     "name": "stdout",
     "output_type": "stream",
     "text": [
      "Defaulting to user installation because normal site-packages is not writeable\n",
      "Collecting pympler\n",
      "  Downloading Pympler-1.0.1-py3-none-any.whl (164 kB)\n",
      "\u001b[K     |████████████████████████████████| 164 kB 3.5 MB/s eta 0:00:01\n",
      "\u001b[?25hInstalling collected packages: pympler\n",
      "Successfully installed pympler-1.0.1\n",
      "Note: you may need to restart the kernel to use updated packages.\n"
     ]
    }
   ],
   "source": [
    "pip install pympler"
   ]
  },
  {
   "cell_type": "code",
   "execution_count": 21,
   "id": "e845a2f3-f063-4f46-a505-db267a90caf6",
   "metadata": {},
   "outputs": [
    {
     "name": "stdout",
     "output_type": "stream",
     "text": [
      "32768 131072\n"
     ]
    }
   ],
   "source": [
    "soft, hard = resource.getrlimit(resource.RLIMIT_NOFILE)\n",
    "print(soft, hard)"
   ]
  },
  {
   "cell_type": "code",
   "execution_count": 1,
   "id": "cccb4724-c13f-46a7-a188-10814ff5a99c",
   "metadata": {},
   "outputs": [
    {
     "name": "stdout",
     "output_type": "stream",
     "text": [
      "0\n",
      "0\n"
     ]
    }
   ],
   "source": [
    "from resource import *\n",
    "import time\n",
    "\n",
    "# a non CPU-bound task\n",
    "time.sleep(3)\n",
    "print(getrusage(RUSAGE_SELF))\n",
    "\n",
    "# a CPU-bound task\n",
    "for i in range(10 ** 8):\n",
    "   _ = 1 + 1\n",
    "print(getrusage(RUSAGE_SELF))"
   ]
  },
  {
   "cell_type": "code",
   "execution_count": 8,
   "id": "14bb1925-ad61-40b3-b6d7-e226c05749ed",
   "metadata": {},
   "outputs": [
    {
     "name": "stdout",
     "output_type": "stream",
     "text": [
      "['16130 MiB', '16130 MiB', '16130 MiB', '16130 MiB']\n"
     ]
    },
    {
     "data": {
      "text/plain": [
       "(16130, 16130)"
      ]
     },
     "execution_count": 8,
     "metadata": {},
     "output_type": "execute_result"
    }
   ],
   "source": [
    "import subprocess as sp\n",
    "import numpy as np\n",
    "def gpu_resources():\n",
    "    output_to_list = lambda x: x.decode('ascii').split('\\n')[:-1]\n",
    "    ACCEPTABLE_AVAILABLE_MEMORY = 1024\n",
    "    COMMAND = \"nvidia-smi --query-gpu=memory.free --format=csv\"\n",
    "    try:\n",
    "        memory_free_info = output_to_list(sp.check_output(COMMAND,stderr=sp.STDOUT, shell=True))[1:]\n",
    "    except sp.CalledProcessError as e:\n",
    "        raise RuntimeError(\"command '{}' return with error (code {}): {}\".format(e.cmd, e.returncode, e.output))\n",
    "    print(memory_free_info)\n",
    "    avalible_memory = [int(x.split()[0]) for i, x in enumerate(memory_free_info)]\n",
    "    # print(memory_use_values)\n",
    "    gpu_most_aval_mem_free = max(avalible_memory)\n",
    "    gpu_most_aval_mem_free_idx = avalible_memory.index(gpu_most_aval_mem_free)\n",
    "    return np.round(gpu_most_aval_mem_free, 2), gpu_most_aval_mem_free\n",
    "gpu_resources()"
   ]
  },
  {
   "cell_type": "code",
   "execution_count": 13,
   "id": "919fa267-d55d-4618-a887-8dd66dfb13ca",
   "metadata": {},
   "outputs": [
    {
     "ename": "IndexError",
     "evalue": "index -1 is out of bounds for axis 0 with size 0",
     "output_type": "error",
     "traceback": [
      "\u001b[0;31m---------------------------------------------------------------------------\u001b[0m",
      "\u001b[0;31mIndexError\u001b[0m                                Traceback (most recent call last)",
      "Input \u001b[0;32mIn [13]\u001b[0m, in \u001b[0;36m<cell line: 1>\u001b[0;34m()\u001b[0m\n\u001b[0;32m----> 1\u001b[0m \u001b[43mus_0\u001b[49m\u001b[38;5;241;43m.\u001b[39;49m\u001b[43mequlibration_sims\u001b[49m\u001b[43m[\u001b[49m\u001b[38;5;241;43m27\u001b[39;49m\u001b[43m]\u001b[49m\u001b[38;5;241;43m.\u001b[39;49m\u001b[43manalysis\u001b[49m\u001b[38;5;241;43m.\u001b[39;49m\u001b[43mview_last\u001b[49m\u001b[43m(\u001b[49m\u001b[43m)\u001b[49m\n",
      "File \u001b[0;32m/scratch/mlsample/ipy_oxDNA/scr/oxdna_simulation.py:596\u001b[0m, in \u001b[0;36mAnalysis.view_last\u001b[0;34m(self)\u001b[0m\n\u001b[1;32m    594\u001b[0m \u001b[38;5;28;01mdef\u001b[39;00m \u001b[38;5;21mview_last\u001b[39m(\u001b[38;5;28mself\u001b[39m):\n\u001b[1;32m    595\u001b[0m     \u001b[38;5;124;03m\"\"\" Interactivly view last oxDNA conf in jupyter notebook.\"\"\"\u001b[39;00m\n\u001b[0;32m--> 596\u001b[0m     (ti,di), conf \u001b[38;5;241m=\u001b[39m \u001b[38;5;28;43mself\u001b[39;49m\u001b[38;5;241;43m.\u001b[39;49m\u001b[43mget_last_conf\u001b[49m\u001b[43m(\u001b[49m\u001b[43m)\u001b[49m\n\u001b[1;32m    597\u001b[0m     oxdna_conf(ti, conf)\n",
      "File \u001b[0;32m/scratch/mlsample/ipy_oxDNA/scr/oxdna_simulation.py:585\u001b[0m, in \u001b[0;36mAnalysis.get_last_conf\u001b[0;34m(self)\u001b[0m\n\u001b[1;32m    583\u001b[0m \u001b[38;5;124;03m\"\"\" Returns last topology and dat file paths, as well as x,y,z info of the conf.\"\"\"\u001b[39;00m\n\u001b[1;32m    584\u001b[0m \u001b[38;5;28mself\u001b[39m\u001b[38;5;241m.\u001b[39msim_files\u001b[38;5;241m.\u001b[39mparse_current_files()\n\u001b[0;32m--> 585\u001b[0m ti, di \u001b[38;5;241m=\u001b[39m \u001b[43mdescribe\u001b[49m\u001b[43m(\u001b[49m\u001b[38;5;28;43mself\u001b[39;49m\u001b[38;5;241;43m.\u001b[39;49m\u001b[43msim_files\u001b[49m\u001b[38;5;241;43m.\u001b[39;49m\u001b[43mtop\u001b[49m\u001b[43m,\u001b[49m\n\u001b[1;32m    586\u001b[0m \u001b[43m                  \u001b[49m\u001b[38;5;28;43mself\u001b[39;49m\u001b[38;5;241;43m.\u001b[39;49m\u001b[43msim_files\u001b[49m\u001b[38;5;241;43m.\u001b[39;49m\u001b[43mlast_conf\u001b[49m\u001b[43m)\u001b[49m\n\u001b[1;32m    587\u001b[0m \u001b[38;5;28;01mreturn\u001b[39;00m (ti,di), get_confs(ti, di, \u001b[38;5;241m0\u001b[39m,\u001b[38;5;241m1\u001b[39m)[\u001b[38;5;241m0\u001b[39m]\n",
      "File \u001b[0;32m~/.local/lib/python3.9/site-packages/oxDNA_analysis_tools/UTILS/RyeReader.py:221\u001b[0m, in \u001b[0;36mdescribe\u001b[0;34m(top, traj)\u001b[0m\n\u001b[1;32m    219\u001b[0m     \u001b[38;5;28;01mreturn\u001b[39;00m (get_top_info_from_traj(traj), get_traj_info(traj))\n\u001b[1;32m    220\u001b[0m \u001b[38;5;28;01melse\u001b[39;00m:\n\u001b[0;32m--> 221\u001b[0m     \u001b[38;5;28;01mreturn\u001b[39;00m (get_top_info(top), \u001b[43mget_traj_info\u001b[49m\u001b[43m(\u001b[49m\u001b[43mtraj\u001b[49m\u001b[43m)\u001b[49m)\n",
      "File \u001b[0;32m~/.local/lib/python3.9/site-packages/oxDNA_analysis_tools/UTILS/RyeReader.py:178\u001b[0m, in \u001b[0;36mget_traj_info\u001b[0;34m(traj)\u001b[0m\n\u001b[1;32m    176\u001b[0m \u001b[38;5;66;03m#if idxs is None: # handle case when we have no indexes provided\u001b[39;00m\n\u001b[1;32m    177\u001b[0m \u001b[38;5;28;01mif\u001b[39;00m \u001b[38;5;129;01mnot\u001b[39;00m(exists(traj\u001b[38;5;241m+\u001b[39m\u001b[38;5;124m\"\u001b[39m\u001b[38;5;124m.pyidx\u001b[39m\u001b[38;5;124m\"\u001b[39m)):\n\u001b[0;32m--> 178\u001b[0m     idxs \u001b[38;5;241m=\u001b[39m \u001b[43m_index\u001b[49m\u001b[43m(\u001b[49m\u001b[43mtraj\u001b[49m\u001b[43m)\u001b[49m \u001b[38;5;66;03m# no index created yet\u001b[39;00m\n\u001b[1;32m    179\u001b[0m     \u001b[38;5;28;01mwith\u001b[39;00m \u001b[38;5;28mopen\u001b[39m(traj\u001b[38;5;241m+\u001b[39m\u001b[38;5;124m\"\u001b[39m\u001b[38;5;124m.pyidx\u001b[39m\u001b[38;5;124m\"\u001b[39m,\u001b[38;5;124m\"\u001b[39m\u001b[38;5;124mwb\u001b[39m\u001b[38;5;124m\"\u001b[39m) \u001b[38;5;28;01mas\u001b[39;00m file:\n\u001b[1;32m    180\u001b[0m         file\u001b[38;5;241m.\u001b[39mwrite(pickle\u001b[38;5;241m.\u001b[39mdumps(idxs)) \u001b[38;5;66;03m# save it\u001b[39;00m\n",
      "File \u001b[0;32m~/.local/lib/python3.9/site-packages/oxDNA_analysis_tools/UTILS/RyeReader.py:91\u001b[0m, in \u001b[0;36m_index\u001b[0;34m(traj_file)\u001b[0m\n\u001b[1;32m     88\u001b[0m idxs \u001b[38;5;241m=\u001b[39m [ConfInfo(conf_starts[i], conf_starts[i\u001b[38;5;241m+\u001b[39m\u001b[38;5;241m1\u001b[39m] \u001b[38;5;241m-\u001b[39m conf_starts[i],i) \n\u001b[1;32m     89\u001b[0m                                         \u001b[38;5;28;01mfor\u001b[39;00m i \u001b[38;5;129;01min\u001b[39;00m \u001b[38;5;28mrange\u001b[39m(\u001b[38;5;28mlen\u001b[39m(conf_starts)\u001b[38;5;241m-\u001b[39m\u001b[38;5;241m1\u001b[39m)]\n\u001b[1;32m     90\u001b[0m \u001b[38;5;66;03m#handle last offset\u001b[39;00m\n\u001b[0;32m---> 91\u001b[0m idxs\u001b[38;5;241m.\u001b[39mappend(ConfInfo(\u001b[43mconf_starts\u001b[49m\u001b[43m[\u001b[49m\u001b[38;5;241;43m-\u001b[39;49m\u001b[38;5;241;43m1\u001b[39;49m\u001b[43m]\u001b[49m, fsize \u001b[38;5;241m-\u001b[39m conf_starts[\u001b[38;5;241m-\u001b[39m\u001b[38;5;241m1\u001b[39m], \u001b[38;5;28mlen\u001b[39m(conf_starts)\u001b[38;5;241m-\u001b[39m\u001b[38;5;241m1\u001b[39m))\n\u001b[1;32m     92\u001b[0m \u001b[38;5;28;01mreturn\u001b[39;00m idxs\n",
      "\u001b[0;31mIndexError\u001b[0m: index -1 is out of bounds for axis 0 with size 0"
     ]
    }
   ],
   "source": [
    "us_0.equlibration_sims[27].analysis.view_last()"
   ]
  },
  {
   "cell_type": "code",
   "execution_count": null,
   "id": "e689f774-2fb8-4111-acb0-d387556a44c2",
   "metadata": {},
   "outputs": [],
   "source": [
    "#Nucleotide indexes used to represent first component of your order parameter\n",
    "#comma separated list of indexes can be obtained using the selection function on oxView\n",
    "com_list = ['63,157,64,65,66,67,68,69,70,71,72,73,74,75,76,77,78,79,80,81,82,83,84,85,86,87,88,89,90,91,92,93,94,95,96,97,98,99,100,101,102,103,104,105,106,107,108,109,110,111,112,113,114,115,116,117,118,119,120,121,122,123,124,125,126,127,128,129,130,131,132,133,134,135,136,137,138,139,140,141,142,143,144,145,146,147,148,149,150,151,152,153,154,155,156,6830,6736,6737,6738,6739,6740,6741,6742,6743,6744,6745,6746,6747,6748,6749,6750,6751,6752,6753,6754,6755,6756,6757,6758,6759,6760,6761,6762,6763,6764,6765,6766,6767,6768,6769,6770,6771,6772,6773,6774,6775,6776,6777,6778,6779,6780,6781,6782,6783,6784,6785,6786,6787,6788,6789,6790,6791,6792,6793,6794,6795,6796,6797,6798,6799,6800,6801,6802,6803,6804,6805,6806,6807,6808,6809,6810,6811,6812,6813,6814,6815,6816,6817,6818,6819,6820,6821,6822,6823,6824,6825,6826,6827,6828,6829',\n",
    "            '175,81,82,83,84,85,86,87,88,89,90,91,92,93,94,95,96,97,98,99,100,101,102,103,104,105,106,107,108,109,110,111,112,113,114,115,116,117,118,119,120,121,122,123,124,125,126,127,128,129,130,131,132,133,134,135,136,137,138,139,140,141,142,143,144,145,146,147,148,149,150,151,152,153,154,155,156,157,158,159,160,161,162,163,164,165,166,167,168,169,170,171,172,173,174,6847,6754,6755,6756,6757,6758,6759,6760,6761,6762,6763,6764,6765,6766,6767,6768,6769,6770,6771,6772,6773,6774,6775,6776,6777,6778,6779,6780,6781,6782,6783,6784,6785,6786,6787,6788,6789,6790,6791,6792,6793,6794,6795,6796,6797,6798,6799,6800,6801,6802,6803,6804,6805,6806,6807,6808,6809,6810,6811,6812,6813,6814,6815,6816,6817,6818,6819,6820,6821,6822,6823,6824,6825,6826,6827,6828,6829,6830,6831,6832,6833,6834,6835,6836,6837,6838,6839,6840,6841,6842,6843,6844,6845,6846,6753',\n",
    "            '103,197,104,105,106,107,108,109,110,111,112,113,114,115,116,117,118,119,120,121,122,123,124,125,126,127,128,129,130,131,132,133,134,135,136,137,138,139,140,141,142,143,144,145,146,147,148,149,150,151,152,153,154,155,156,157,158,159,160,161,162,163,164,165,166,167,168,169,170,171,172,173,174,175,176,177,178,179,180,181,182,183,184,185,186,187,188,189,190,191,192,193,194,195,196,6870,6776,6777,6778,6779,6780,6781,6782,6783,6784,6785,6786,6787,6788,6789,6790,6791,6792,6793,6794,6795,6796,6797,6798,6799,6800,6801,6802,6803,6804,6805,6806,6807,6808,6809,6810,6811,6812,6813,6814,6815,6816,6817,6818,6819,6820,6821,6822,6823,6824,6825,6826,6827,6828,6829,6830,6831,6832,6833,6834,6835,6836,6837,6838,6839,6840,6841,6842,6843,6844,6845,6846,6847,6848,6849,6850,6851,6852,6853,6854,6855,6856,6857,6858,6859,6860,6861,6862,6863,6864,6865,6866,6867,6868,6869'\n",
    "           ]\n",
    "#Nucleotide indexes used to represent second component of your order parameter\n",
    "ref_list = ['3455,3510,3456,3457,3458,3459,3460,3461,3462,3463,3464,3465,3466,3467,3468,3469,3470,3471,3472,3473,3474,3475,3476,3477,3478,3479,3480,3481,3482,3483,3484,3485,3486,3487,3488,3489,3490,3491,3492,3493,3494,3495,3496,3497,3498,3499,3500,3501,3502,3503,3504,3505,3506,3507,3508,3509,3447,3448,3449,3450,3451,3452,3453,3454,3541,3511,3512,3513,3514,3515,3516,3517,3518,3519,3520,3521,3522,3523,3524,3525,3526,3527,3528,3529,3530,3531,3532,3533,3534,3535,3536,3537,3538,3539,3540,3352,3353,3354,3355,3356,3357,3358,3359,3360,3361,3362,3363,3364,3365,3366,3367,3368,3369,3370,3371,3372,3373,3374,3375,3376,3377,3378,3379,3380,3381,3382,3383,3384,3385,3386,3387,3388,3389,3390,3391,3392,3393,3394,3395,3396,3397,3398,3399,3400,3401,3402,3403,3404,3405,3406,3407,3408,3409,3410,3411,3412,3413,3414,3415,3416,3417,3418,3419,3420,3421,3422,3423,3424,3425,3426,3427,3428,3429,3430,3431,3432,3433,3434,3435,3436,3437,3438,3439,3440,3441,3442,3443,3444,3445,3446',\n",
    "            '3472,3370,3371,3372,3373,3374,3375,3376,3377,3378,3379,3380,3381,3382,3383,3384,3385,3386,3387,3388,3389,3390,3391,3392,3393,3394,3395,3396,3397,3398,3399,3400,3401,3402,3403,3404,3405,3406,3407,3408,3409,3410,3411,3412,3413,3414,3415,3416,3417,3418,3419,3420,3421,3422,3423,3424,3425,3426,3427,3428,3429,3430,3431,3432,3433,3434,3435,3436,3437,3438,3439,3440,3441,3442,3443,3444,3445,3446,3447,3448,3449,3450,3451,3452,3453,3454,3455,3456,3457,3458,3459,3460,3461,3462,3463,3464,3465,3466,3467,3468,3469,3470,3471,3473,3557,3474,3475,3476,3477,3478,3479,3480,3481,3482,3483,3484,3485,3486,3487,3488,3489,3490,3491,3492,3493,3494,3495,3496,3497,3498,3499,3500,3501,3502,3503,3504,3505,3506,3507,3508,3509,3510,3511,3512,3513,3514,3515,3516,3517,3518,3519,3520,3521,3522,3523,3524,3525,3526,3527,3528,3529,3530,3531,3532,3533,3534,3535,3536,3537,3538,3539,3540,3541,3542,3543,3544,3545,3546,3547,3548,3549,3550,3551,3552,3553,3554,3555,3556,3558,3559',\n",
    "            '3392,3580,3393,3394,3395,3396,3397,3398,3399,3400,3401,3402,3403,3404,3405,3406,3407,3408,3409,3410,3411,3412,3413,3414,3415,3416,3417,3418,3419,3420,3421,3422,3423,3424,3425,3426,3427,3428,3429,3430,3431,3432,3433,3434,3435,3436,3437,3438,3439,3440,3441,3442,3443,3444,3445,3446,3447,3448,3449,3450,3451,3452,3453,3454,3455,3456,3457,3458,3459,3460,3461,3462,3463,3464,3465,3466,3467,3468,3469,3470,3471,3472,3473,3474,3475,3476,3477,3478,3479,3480,3481,3482,3483,3484,3485,3486,3487,3488,3489,3490,3491,3492,3493,3494,3495,3496,3497,3498,3499,3500,3501,3502,3503,3504,3505,3506,3507,3508,3509,3510,3511,3512,3513,3514,3515,3516,3517,3518,3519,3520,3521,3522,3523,3524,3525,3526,3527,3528,3529,3530,3531,3532,3533,3534,3535,3536,3537,3538,3539,3540,3541,3542,3543,3544,3545,3546,3547,3548,3549,3550,3551,3552,3553,3554,3555,3556,3557,3558,3559,3560,3561,3562,3563,3564,3565,3566,3567,3568,3569,3570,3571,3572,3573,3574,3575,3576,3577,3578,3579,3581'\n",
    "           ]\n",
    "\n",
    "stiff = [0.2, 0.2, 0.2]\n",
    "xmin = [0, 0, 0]\n",
    "xmax = [72, 72, 72]\n",
    "n_windows = [100, 100, 100]\n",
    "equlibration_parameters = [{'steps':'2e4'}, {'steps':'2e4'}, {'steps':'2e4'}]\n",
    "\n",
    "path = '//scratch/matthew/automate/ipy_oxDNA/umbrella_sampling_example'\n",
    "file_dir = [f'{path}/rro', f'{path}/t9', f'{path}/t20']\n",
    "system = ['rro_umbrella' 't9_umbrella', 't20_umbrella']\n",
    "\n",
    "umbrella_objects = {}\n",
    "for files, sys in zip(file_dir, system):\n",
    "    umbrella_objects[sys] = BaseUmbrellaSampling(files, sys)"
   ]
  },
  {
   "cell_type": "code",
   "execution_count": 9,
   "id": "3d46b77d-0f53-471f-b45c-001658457aca",
   "metadata": {
    "tags": []
   },
   "outputs": [
    {
     "data": {
      "text/plain": [
       "[16130, 16130, 16130, 16130]"
      ]
     },
     "execution_count": 9,
     "metadata": {},
     "output_type": "execute_result"
    }
   ],
   "source": [
    "import subprocess as sp\n",
    "\n",
    "def get_gpu_memory():\n",
    "    output_to_list = lambda x: x.decode('ascii').split('\\n')[:-1]\n",
    "    ACCEPTABLE_AVAILABLE_MEMORY = 1024\n",
    "    COMMAND = \"nvidia-smi --query-gpu=memory.free --format=csv\"\n",
    "    try:\n",
    "        memory_use_info = output_to_list(sp.check_output(COMMAND.split(),stderr=sp.STDOUT))[1:]\n",
    "    except sp.CalledProcessError as e:\n",
    "        raise RuntimeError(\"command '{}' return with error (code {}): {}\".format(e.cmd, e.returncode, e.output))\n",
    "    memory_use_values = [int(x.split()[0]) for i, x in enumerate(memory_use_info)]\n",
    "    # print(memory_use_values)\n",
    "    return memory_use_values\n",
    "get_gpu_memory()"
   ]
  },
  {
   "cell_type": "code",
   "execution_count": 5,
   "id": "30292066-8200-4cc9-a63c-028fdc6245fb",
   "metadata": {},
   "outputs": [],
   "source": [
    "import nvsmi"
   ]
  },
  {
   "cell_type": "code",
   "execution_count": 8,
   "id": "a85f7170-5f16-4a0a-bd26-b6b4d870a2dc",
   "metadata": {},
   "outputs": [
    {
     "ename": "NameError",
     "evalue": "name 'nvsmi' is not defined",
     "output_type": "error",
     "traceback": [
      "\u001b[0;31m---------------------------------------------------------------------------\u001b[0m",
      "\u001b[0;31mNameError\u001b[0m                                 Traceback (most recent call last)",
      "Input \u001b[0;32mIn [8]\u001b[0m, in \u001b[0;36m<cell line: 6>\u001b[0;34m()\u001b[0m\n\u001b[1;32m      4\u001b[0m     gpu_most_aval_mem_free_idx \u001b[38;5;241m=\u001b[39m gpus_mem_free\u001b[38;5;241m.\u001b[39mindex(gpu_most_aval_mem_free)\n\u001b[1;32m      5\u001b[0m     \u001b[38;5;28;01mreturn\u001b[39;00m gpu_most_aval_mem_free, gpu_most_aval_mem_free_idx\n\u001b[0;32m----> 6\u001b[0m \u001b[43mgpu_resources\u001b[49m\u001b[43m(\u001b[49m\u001b[43m)\u001b[49m\n",
      "Input \u001b[0;32mIn [8]\u001b[0m, in \u001b[0;36mgpu_resources\u001b[0;34m()\u001b[0m\n\u001b[1;32m      1\u001b[0m \u001b[38;5;28;01mdef\u001b[39;00m \u001b[38;5;21mgpu_resources\u001b[39m():\n\u001b[0;32m----> 2\u001b[0m     gpus_mem_free \u001b[38;5;241m=\u001b[39m [gpu\u001b[38;5;241m.\u001b[39mmem_free \u001b[38;5;28;01mfor\u001b[39;00m gpu \u001b[38;5;129;01min\u001b[39;00m \u001b[43mnvsmi\u001b[49m\u001b[38;5;241m.\u001b[39mget_gpus()]\n\u001b[1;32m      3\u001b[0m     gpu_most_aval_mem_free \u001b[38;5;241m=\u001b[39m \u001b[38;5;28mmax\u001b[39m(gpus_mem_free)\n\u001b[1;32m      4\u001b[0m     gpu_most_aval_mem_free_idx \u001b[38;5;241m=\u001b[39m gpus_mem_free\u001b[38;5;241m.\u001b[39mindex(gpu_most_aval_mem_free)\n",
      "\u001b[0;31mNameError\u001b[0m: name 'nvsmi' is not defined"
     ]
    }
   ],
   "source": [
    "def gpu_resources():\n",
    "    gpus_mem_free = [gpu.mem_free for gpu in nvsmi.get_gpus()]\n",
    "    gpu_most_aval_mem_free = max(gpus_mem_free)\n",
    "    gpu_most_aval_mem_free_idx = gpus_mem_free.index(gpu_most_aval_mem_free)\n",
    "    return gpu_most_aval_mem_free, gpu_most_aval_mem_free_idx\n",
    "gpu_resources()"
   ]
  },
  {
   "cell_type": "code",
   "execution_count": 14,
   "id": "135e5c6d-2d3d-4f16-ba62-fcb18dad3cbe",
   "metadata": {},
   "outputs": [
    {
     "data": {
      "text/plain": [
       "81039.0"
      ]
     },
     "execution_count": 14,
     "metadata": {},
     "output_type": "execute_result"
    }
   ],
   "source": [
    "gpus[0].mem_free"
   ]
  },
  {
   "cell_type": "code",
   "execution_count": 7,
   "id": "f5515e5a-d803-4105-bce7-1cbaf99b2eb8",
   "metadata": {},
   "outputs": [
    {
     "data": {
      "text/plain": [
       "(64174.31, 1)"
      ]
     },
     "execution_count": 7,
     "metadata": {},
     "output_type": "execute_result"
    }
   ],
   "source": [
    "import nvidia_smi\n",
    "import numpy as np\n",
    "\n",
    "def _bytes_to_megabytes(byte):\n",
    "    return byte/1048576\n",
    "\n",
    "def gpu_resources():\n",
    "    \"\"\" Method to probe the number and current avalible memory of gpus.\"\"\"\n",
    "    avalible_memory = []\n",
    "    nvidia_smi.nvmlInit()\n",
    "    NUMBER_OF_GPU = nvidia_smi.nvmlDeviceGetCount()\n",
    "    for i in range(NUMBER_OF_GPU):\n",
    "        handle = nvidia_smi.nvmlDeviceGetHandleByIndex(i)\n",
    "        info = nvidia_smi.nvmlDeviceGetMemoryInfo(handle)\n",
    "        avalible_memory.append(_bytes_to_megabytes(info.total) -  _bytes_to_megabytes(info.used))\n",
    "    gpu_most_aval_mem_free = max(avalible_memory)\n",
    "    gpu_most_aval_mem_free_idx = avalible_memory.index(gpu_most_aval_mem_free)\n",
    "    return np.round(gpu_most_aval_mem_free, 2), gpu_most_aval_mem_free_idx\n",
    "gpu_resources()\n",
    "\n"
   ]
  },
  {
   "cell_type": "code",
   "execution_count": null,
   "id": "cec398f0-3a74-489b-aba1-189867b7cf9b",
   "metadata": {},
   "outputs": [],
   "source": []
  },
  {
   "cell_type": "code",
   "execution_count": 15,
   "id": "cbbfdc1d-71ce-4b26-85a9-5b021fb507e2",
   "metadata": {
    "collapsed": true,
    "jupyter": {
     "outputs_hidden": true
    },
    "tags": []
   },
   "outputs": [
    {
     "ename": "OSError",
     "evalue": "[Errno 12] Cannot allocate memory",
     "output_type": "error",
     "traceback": [
      "\u001b[0;31m---------------------------------------------------------------------------\u001b[0m",
      "\u001b[0;31mOSError\u001b[0m                                   Traceback (most recent call last)",
      "Input \u001b[0;32mIn [15]\u001b[0m, in \u001b[0;36m<cell line: 17>\u001b[0;34m()\u001b[0m\n\u001b[1;32m     14\u001b[0m     gpu_most_aval_mem_free_idx \u001b[38;5;241m=\u001b[39m avalible_memory\u001b[38;5;241m.\u001b[39mindex(gpu_most_aval_mem_free)\n\u001b[1;32m     15\u001b[0m     \u001b[38;5;28;01mreturn\u001b[39;00m np\u001b[38;5;241m.\u001b[39mround(gpu_most_aval_mem_free, \u001b[38;5;241m2\u001b[39m), gpu_most_aval_mem_free\n\u001b[0;32m---> 17\u001b[0m \u001b[43mgpu_resources\u001b[49m\u001b[43m(\u001b[49m\u001b[43m)\u001b[49m\n",
      "Input \u001b[0;32mIn [15]\u001b[0m, in \u001b[0;36mgpu_resources\u001b[0;34m()\u001b[0m\n\u001b[1;32m      6\u001b[0m COMMAND \u001b[38;5;241m=\u001b[39m \u001b[38;5;124m\"\u001b[39m\u001b[38;5;124mnvidia-smi --query-gpu=memory.free --format=csv\u001b[39m\u001b[38;5;124m\"\u001b[39m\n\u001b[1;32m      7\u001b[0m \u001b[38;5;28;01mtry\u001b[39;00m:\n\u001b[0;32m----> 8\u001b[0m     memory_free_info \u001b[38;5;241m=\u001b[39m output_to_list(\u001b[43msp\u001b[49m\u001b[38;5;241;43m.\u001b[39;49m\u001b[43mcheck_output\u001b[49m\u001b[43m(\u001b[49m\u001b[43mCOMMAND\u001b[49m\u001b[38;5;241;43m.\u001b[39;49m\u001b[43msplit\u001b[49m\u001b[43m(\u001b[49m\u001b[43m)\u001b[49m\u001b[43m,\u001b[49m\u001b[43mstderr\u001b[49m\u001b[38;5;241;43m=\u001b[39;49m\u001b[43msp\u001b[49m\u001b[38;5;241;43m.\u001b[39;49m\u001b[43mSTDOUT\u001b[49m\u001b[43m)\u001b[49m)[\u001b[38;5;241m1\u001b[39m:]\n\u001b[1;32m      9\u001b[0m \u001b[38;5;28;01mexcept\u001b[39;00m sp\u001b[38;5;241m.\u001b[39mCalledProcessError \u001b[38;5;28;01mas\u001b[39;00m e:\n\u001b[1;32m     10\u001b[0m     \u001b[38;5;28;01mraise\u001b[39;00m \u001b[38;5;167;01mRuntimeError\u001b[39;00m(\u001b[38;5;124m\"\u001b[39m\u001b[38;5;124mcommand \u001b[39m\u001b[38;5;124m'\u001b[39m\u001b[38;5;132;01m{}\u001b[39;00m\u001b[38;5;124m'\u001b[39m\u001b[38;5;124m return with error (code \u001b[39m\u001b[38;5;132;01m{}\u001b[39;00m\u001b[38;5;124m): \u001b[39m\u001b[38;5;132;01m{}\u001b[39;00m\u001b[38;5;124m\"\u001b[39m\u001b[38;5;241m.\u001b[39mformat(e\u001b[38;5;241m.\u001b[39mcmd, e\u001b[38;5;241m.\u001b[39mreturncode, e\u001b[38;5;241m.\u001b[39moutput))\n",
      "File \u001b[0;32m/packages/7x/jupyter/2022-04-15/lib/python3.9/subprocess.py:424\u001b[0m, in \u001b[0;36mcheck_output\u001b[0;34m(timeout, *popenargs, **kwargs)\u001b[0m\n\u001b[1;32m    421\u001b[0m         empty \u001b[38;5;241m=\u001b[39m \u001b[38;5;124mb\u001b[39m\u001b[38;5;124m'\u001b[39m\u001b[38;5;124m'\u001b[39m\n\u001b[1;32m    422\u001b[0m     kwargs[\u001b[38;5;124m'\u001b[39m\u001b[38;5;124minput\u001b[39m\u001b[38;5;124m'\u001b[39m] \u001b[38;5;241m=\u001b[39m empty\n\u001b[0;32m--> 424\u001b[0m \u001b[38;5;28;01mreturn\u001b[39;00m \u001b[43mrun\u001b[49m\u001b[43m(\u001b[49m\u001b[38;5;241;43m*\u001b[39;49m\u001b[43mpopenargs\u001b[49m\u001b[43m,\u001b[49m\u001b[43m \u001b[49m\u001b[43mstdout\u001b[49m\u001b[38;5;241;43m=\u001b[39;49m\u001b[43mPIPE\u001b[49m\u001b[43m,\u001b[49m\u001b[43m \u001b[49m\u001b[43mtimeout\u001b[49m\u001b[38;5;241;43m=\u001b[39;49m\u001b[43mtimeout\u001b[49m\u001b[43m,\u001b[49m\u001b[43m \u001b[49m\u001b[43mcheck\u001b[49m\u001b[38;5;241;43m=\u001b[39;49m\u001b[38;5;28;43;01mTrue\u001b[39;49;00m\u001b[43m,\u001b[49m\n\u001b[1;32m    425\u001b[0m \u001b[43m           \u001b[49m\u001b[38;5;241;43m*\u001b[39;49m\u001b[38;5;241;43m*\u001b[39;49m\u001b[43mkwargs\u001b[49m\u001b[43m)\u001b[49m\u001b[38;5;241m.\u001b[39mstdout\n",
      "File \u001b[0;32m/packages/7x/jupyter/2022-04-15/lib/python3.9/subprocess.py:505\u001b[0m, in \u001b[0;36mrun\u001b[0;34m(input, capture_output, timeout, check, *popenargs, **kwargs)\u001b[0m\n\u001b[1;32m    502\u001b[0m     kwargs[\u001b[38;5;124m'\u001b[39m\u001b[38;5;124mstdout\u001b[39m\u001b[38;5;124m'\u001b[39m] \u001b[38;5;241m=\u001b[39m PIPE\n\u001b[1;32m    503\u001b[0m     kwargs[\u001b[38;5;124m'\u001b[39m\u001b[38;5;124mstderr\u001b[39m\u001b[38;5;124m'\u001b[39m] \u001b[38;5;241m=\u001b[39m PIPE\n\u001b[0;32m--> 505\u001b[0m \u001b[38;5;28;01mwith\u001b[39;00m \u001b[43mPopen\u001b[49m\u001b[43m(\u001b[49m\u001b[38;5;241;43m*\u001b[39;49m\u001b[43mpopenargs\u001b[49m\u001b[43m,\u001b[49m\u001b[43m \u001b[49m\u001b[38;5;241;43m*\u001b[39;49m\u001b[38;5;241;43m*\u001b[39;49m\u001b[43mkwargs\u001b[49m\u001b[43m)\u001b[49m \u001b[38;5;28;01mas\u001b[39;00m process:\n\u001b[1;32m    506\u001b[0m     \u001b[38;5;28;01mtry\u001b[39;00m:\n\u001b[1;32m    507\u001b[0m         stdout, stderr \u001b[38;5;241m=\u001b[39m process\u001b[38;5;241m.\u001b[39mcommunicate(\u001b[38;5;28minput\u001b[39m, timeout\u001b[38;5;241m=\u001b[39mtimeout)\n",
      "File \u001b[0;32m/packages/7x/jupyter/2022-04-15/lib/python3.9/subprocess.py:951\u001b[0m, in \u001b[0;36mPopen.__init__\u001b[0;34m(self, args, bufsize, executable, stdin, stdout, stderr, preexec_fn, close_fds, shell, cwd, env, universal_newlines, startupinfo, creationflags, restore_signals, start_new_session, pass_fds, user, group, extra_groups, encoding, errors, text, umask)\u001b[0m\n\u001b[1;32m    947\u001b[0m         \u001b[38;5;28;01mif\u001b[39;00m \u001b[38;5;28mself\u001b[39m\u001b[38;5;241m.\u001b[39mtext_mode:\n\u001b[1;32m    948\u001b[0m             \u001b[38;5;28mself\u001b[39m\u001b[38;5;241m.\u001b[39mstderr \u001b[38;5;241m=\u001b[39m io\u001b[38;5;241m.\u001b[39mTextIOWrapper(\u001b[38;5;28mself\u001b[39m\u001b[38;5;241m.\u001b[39mstderr,\n\u001b[1;32m    949\u001b[0m                     encoding\u001b[38;5;241m=\u001b[39mencoding, errors\u001b[38;5;241m=\u001b[39merrors)\n\u001b[0;32m--> 951\u001b[0m     \u001b[38;5;28;43mself\u001b[39;49m\u001b[38;5;241;43m.\u001b[39;49m\u001b[43m_execute_child\u001b[49m\u001b[43m(\u001b[49m\u001b[43margs\u001b[49m\u001b[43m,\u001b[49m\u001b[43m \u001b[49m\u001b[43mexecutable\u001b[49m\u001b[43m,\u001b[49m\u001b[43m \u001b[49m\u001b[43mpreexec_fn\u001b[49m\u001b[43m,\u001b[49m\u001b[43m \u001b[49m\u001b[43mclose_fds\u001b[49m\u001b[43m,\u001b[49m\n\u001b[1;32m    952\u001b[0m \u001b[43m                        \u001b[49m\u001b[43mpass_fds\u001b[49m\u001b[43m,\u001b[49m\u001b[43m \u001b[49m\u001b[43mcwd\u001b[49m\u001b[43m,\u001b[49m\u001b[43m \u001b[49m\u001b[43menv\u001b[49m\u001b[43m,\u001b[49m\n\u001b[1;32m    953\u001b[0m \u001b[43m                        \u001b[49m\u001b[43mstartupinfo\u001b[49m\u001b[43m,\u001b[49m\u001b[43m \u001b[49m\u001b[43mcreationflags\u001b[49m\u001b[43m,\u001b[49m\u001b[43m \u001b[49m\u001b[43mshell\u001b[49m\u001b[43m,\u001b[49m\n\u001b[1;32m    954\u001b[0m \u001b[43m                        \u001b[49m\u001b[43mp2cread\u001b[49m\u001b[43m,\u001b[49m\u001b[43m \u001b[49m\u001b[43mp2cwrite\u001b[49m\u001b[43m,\u001b[49m\n\u001b[1;32m    955\u001b[0m \u001b[43m                        \u001b[49m\u001b[43mc2pread\u001b[49m\u001b[43m,\u001b[49m\u001b[43m \u001b[49m\u001b[43mc2pwrite\u001b[49m\u001b[43m,\u001b[49m\n\u001b[1;32m    956\u001b[0m \u001b[43m                        \u001b[49m\u001b[43merrread\u001b[49m\u001b[43m,\u001b[49m\u001b[43m \u001b[49m\u001b[43merrwrite\u001b[49m\u001b[43m,\u001b[49m\n\u001b[1;32m    957\u001b[0m \u001b[43m                        \u001b[49m\u001b[43mrestore_signals\u001b[49m\u001b[43m,\u001b[49m\n\u001b[1;32m    958\u001b[0m \u001b[43m                        \u001b[49m\u001b[43mgid\u001b[49m\u001b[43m,\u001b[49m\u001b[43m \u001b[49m\u001b[43mgids\u001b[49m\u001b[43m,\u001b[49m\u001b[43m \u001b[49m\u001b[43muid\u001b[49m\u001b[43m,\u001b[49m\u001b[43m \u001b[49m\u001b[43mumask\u001b[49m\u001b[43m,\u001b[49m\n\u001b[1;32m    959\u001b[0m \u001b[43m                        \u001b[49m\u001b[43mstart_new_session\u001b[49m\u001b[43m)\u001b[49m\n\u001b[1;32m    960\u001b[0m \u001b[38;5;28;01mexcept\u001b[39;00m:\n\u001b[1;32m    961\u001b[0m     \u001b[38;5;66;03m# Cleanup if the child failed starting.\u001b[39;00m\n\u001b[1;32m    962\u001b[0m     \u001b[38;5;28;01mfor\u001b[39;00m f \u001b[38;5;129;01min\u001b[39;00m \u001b[38;5;28mfilter\u001b[39m(\u001b[38;5;28;01mNone\u001b[39;00m, (\u001b[38;5;28mself\u001b[39m\u001b[38;5;241m.\u001b[39mstdin, \u001b[38;5;28mself\u001b[39m\u001b[38;5;241m.\u001b[39mstdout, \u001b[38;5;28mself\u001b[39m\u001b[38;5;241m.\u001b[39mstderr)):\n",
      "File \u001b[0;32m/packages/7x/jupyter/2022-04-15/lib/python3.9/subprocess.py:1754\u001b[0m, in \u001b[0;36mPopen._execute_child\u001b[0;34m(self, args, executable, preexec_fn, close_fds, pass_fds, cwd, env, startupinfo, creationflags, shell, p2cread, p2cwrite, c2pread, c2pwrite, errread, errwrite, restore_signals, gid, gids, uid, umask, start_new_session)\u001b[0m\n\u001b[1;32m   1752\u001b[0m     fds_to_keep \u001b[38;5;241m=\u001b[39m \u001b[38;5;28mset\u001b[39m(pass_fds)\n\u001b[1;32m   1753\u001b[0m     fds_to_keep\u001b[38;5;241m.\u001b[39madd(errpipe_write)\n\u001b[0;32m-> 1754\u001b[0m     \u001b[38;5;28mself\u001b[39m\u001b[38;5;241m.\u001b[39mpid \u001b[38;5;241m=\u001b[39m \u001b[43m_posixsubprocess\u001b[49m\u001b[38;5;241;43m.\u001b[39;49m\u001b[43mfork_exec\u001b[49m\u001b[43m(\u001b[49m\n\u001b[1;32m   1755\u001b[0m \u001b[43m            \u001b[49m\u001b[43margs\u001b[49m\u001b[43m,\u001b[49m\u001b[43m \u001b[49m\u001b[43mexecutable_list\u001b[49m\u001b[43m,\u001b[49m\n\u001b[1;32m   1756\u001b[0m \u001b[43m            \u001b[49m\u001b[43mclose_fds\u001b[49m\u001b[43m,\u001b[49m\u001b[43m \u001b[49m\u001b[38;5;28;43mtuple\u001b[39;49m\u001b[43m(\u001b[49m\u001b[38;5;28;43msorted\u001b[39;49m\u001b[43m(\u001b[49m\u001b[38;5;28;43mmap\u001b[39;49m\u001b[43m(\u001b[49m\u001b[38;5;28;43mint\u001b[39;49m\u001b[43m,\u001b[49m\u001b[43m \u001b[49m\u001b[43mfds_to_keep\u001b[49m\u001b[43m)\u001b[49m\u001b[43m)\u001b[49m\u001b[43m)\u001b[49m\u001b[43m,\u001b[49m\n\u001b[1;32m   1757\u001b[0m \u001b[43m            \u001b[49m\u001b[43mcwd\u001b[49m\u001b[43m,\u001b[49m\u001b[43m \u001b[49m\u001b[43menv_list\u001b[49m\u001b[43m,\u001b[49m\n\u001b[1;32m   1758\u001b[0m \u001b[43m            \u001b[49m\u001b[43mp2cread\u001b[49m\u001b[43m,\u001b[49m\u001b[43m \u001b[49m\u001b[43mp2cwrite\u001b[49m\u001b[43m,\u001b[49m\u001b[43m \u001b[49m\u001b[43mc2pread\u001b[49m\u001b[43m,\u001b[49m\u001b[43m \u001b[49m\u001b[43mc2pwrite\u001b[49m\u001b[43m,\u001b[49m\n\u001b[1;32m   1759\u001b[0m \u001b[43m            \u001b[49m\u001b[43merrread\u001b[49m\u001b[43m,\u001b[49m\u001b[43m \u001b[49m\u001b[43merrwrite\u001b[49m\u001b[43m,\u001b[49m\n\u001b[1;32m   1760\u001b[0m \u001b[43m            \u001b[49m\u001b[43merrpipe_read\u001b[49m\u001b[43m,\u001b[49m\u001b[43m \u001b[49m\u001b[43merrpipe_write\u001b[49m\u001b[43m,\u001b[49m\n\u001b[1;32m   1761\u001b[0m \u001b[43m            \u001b[49m\u001b[43mrestore_signals\u001b[49m\u001b[43m,\u001b[49m\u001b[43m \u001b[49m\u001b[43mstart_new_session\u001b[49m\u001b[43m,\u001b[49m\n\u001b[1;32m   1762\u001b[0m \u001b[43m            \u001b[49m\u001b[43mgid\u001b[49m\u001b[43m,\u001b[49m\u001b[43m \u001b[49m\u001b[43mgids\u001b[49m\u001b[43m,\u001b[49m\u001b[43m \u001b[49m\u001b[43muid\u001b[49m\u001b[43m,\u001b[49m\u001b[43m \u001b[49m\u001b[43mumask\u001b[49m\u001b[43m,\u001b[49m\n\u001b[1;32m   1763\u001b[0m \u001b[43m            \u001b[49m\u001b[43mpreexec_fn\u001b[49m\u001b[43m)\u001b[49m\n\u001b[1;32m   1764\u001b[0m     \u001b[38;5;28mself\u001b[39m\u001b[38;5;241m.\u001b[39m_child_created \u001b[38;5;241m=\u001b[39m \u001b[38;5;28;01mTrue\u001b[39;00m\n\u001b[1;32m   1765\u001b[0m \u001b[38;5;28;01mfinally\u001b[39;00m:\n\u001b[1;32m   1766\u001b[0m     \u001b[38;5;66;03m# be sure the FD is closed no matter what\u001b[39;00m\n",
      "\u001b[0;31mOSError\u001b[0m: [Errno 12] Cannot allocate memory"
     ]
    }
   ],
   "source": [
    "import subprocess as sp\n",
    "import gc\n",
    "def gpu_resources():\n",
    "    output_to_list = lambda x: x.decode('ascii').split('\\n')[:-1]\n",
    "    ACCEPTABLE_AVAILABLE_MEMORY = 1024\n",
    "    COMMAND = \"nvidia-smi --query-gpu=memory.free --format=csv\"\n",
    "    try:\n",
    "        memory_free_info = output_to_list(sp.check_output(COMMAND.split(),stderr=sp.STDOUT))[1:]\n",
    "    except sp.CalledProcessError as e:\n",
    "        raise RuntimeError(\"command '{}' return with error (code {}): {}\".format(e.cmd, e.returncode, e.output))\n",
    "    avalible_memory = [int(x.split()[0]) for i, x in enumerate(memory_free_info)]\n",
    "    # print(memory_use_values)\n",
    "    gpu_most_aval_mem_free = max(avalible_memory)\n",
    "    gpu_most_aval_mem_free_idx = avalible_memory.index(gpu_most_aval_mem_free)\n",
    "    return np.round(gpu_most_aval_mem_free, 2), gpu_most_aval_mem_free\n",
    "\n",
    "gpu_resources()"
   ]
  },
  {
   "cell_type": "code",
   "execution_count": 17,
   "id": "984d38a3-6747-4393-b6a8-3531d974f603",
   "metadata": {},
   "outputs": [
    {
     "ename": "RuntimeError",
     "evalue": "context has already been set",
     "output_type": "error",
     "traceback": [
      "\u001b[0;31m---------------------------------------------------------------------------\u001b[0m",
      "\u001b[0;31mRuntimeError\u001b[0m                              Traceback (most recent call last)",
      "Input \u001b[0;32mIn [17]\u001b[0m, in \u001b[0;36m<cell line: 2>\u001b[0;34m()\u001b[0m\n\u001b[1;32m      1\u001b[0m \u001b[38;5;28;01mimport\u001b[39;00m \u001b[38;5;21;01mmultiprocessing\u001b[39;00m \u001b[38;5;28;01mas\u001b[39;00m \u001b[38;5;21;01mmp\u001b[39;00m\n\u001b[0;32m----> 2\u001b[0m \u001b[43mmp\u001b[49m\u001b[38;5;241;43m.\u001b[39;49m\u001b[43mset_start_method\u001b[49m\u001b[43m(\u001b[49m\u001b[38;5;124;43m'\u001b[39;49m\u001b[38;5;124;43mspawn\u001b[39;49m\u001b[38;5;124;43m'\u001b[39;49m\u001b[43m)\u001b[49m\n\u001b[1;32m      3\u001b[0m p \u001b[38;5;241m=\u001b[39m mp\u001b[38;5;241m.\u001b[39mProcess(target\u001b[38;5;241m=\u001b[39mgpu_resources, args\u001b[38;5;241m=\u001b[39m())\n\u001b[1;32m      4\u001b[0m p\u001b[38;5;241m.\u001b[39mstart()\n",
      "File \u001b[0;32m/packages/7x/jupyter/2022-04-15/lib/python3.9/multiprocessing/context.py:243\u001b[0m, in \u001b[0;36mDefaultContext.set_start_method\u001b[0;34m(self, method, force)\u001b[0m\n\u001b[1;32m    241\u001b[0m \u001b[38;5;28;01mdef\u001b[39;00m \u001b[38;5;21mset_start_method\u001b[39m(\u001b[38;5;28mself\u001b[39m, method, force\u001b[38;5;241m=\u001b[39m\u001b[38;5;28;01mFalse\u001b[39;00m):\n\u001b[1;32m    242\u001b[0m     \u001b[38;5;28;01mif\u001b[39;00m \u001b[38;5;28mself\u001b[39m\u001b[38;5;241m.\u001b[39m_actual_context \u001b[38;5;129;01mis\u001b[39;00m \u001b[38;5;129;01mnot\u001b[39;00m \u001b[38;5;28;01mNone\u001b[39;00m \u001b[38;5;129;01mand\u001b[39;00m \u001b[38;5;129;01mnot\u001b[39;00m force:\n\u001b[0;32m--> 243\u001b[0m         \u001b[38;5;28;01mraise\u001b[39;00m \u001b[38;5;167;01mRuntimeError\u001b[39;00m(\u001b[38;5;124m'\u001b[39m\u001b[38;5;124mcontext has already been set\u001b[39m\u001b[38;5;124m'\u001b[39m)\n\u001b[1;32m    244\u001b[0m     \u001b[38;5;28;01mif\u001b[39;00m method \u001b[38;5;129;01mis\u001b[39;00m \u001b[38;5;28;01mNone\u001b[39;00m \u001b[38;5;129;01mand\u001b[39;00m force:\n\u001b[1;32m    245\u001b[0m         \u001b[38;5;28mself\u001b[39m\u001b[38;5;241m.\u001b[39m_actual_context \u001b[38;5;241m=\u001b[39m \u001b[38;5;28;01mNone\u001b[39;00m\n",
      "\u001b[0;31mRuntimeError\u001b[0m: context has already been set"
     ]
    }
   ],
   "source": [
    "import multiprocessing as mp\n",
    "mp.set_start_method('spawn')\n",
    "p = mp.Process(target=gpu_resources, args=())\n",
    "p.start()"
   ]
  },
  {
   "cell_type": "code",
   "execution_count": 12,
   "id": "8e6f7019-d183-414a-951d-da70d9ec004c",
   "metadata": {},
   "outputs": [
    {
     "name": "stdout",
     "output_type": "stream",
     "text": [
      "-1\n"
     ]
    }
   ],
   "source": [
    "import os\n",
    "import multiprocessing as mp\n",
    "\n",
    "COMMAND = \"nvidia-smi --query-gpu=memory.free --format=csv\"\n",
    "x = os.system(COMMAND)\n",
    "\n",
    "print(x)"
   ]
  },
  {
   "cell_type": "code",
   "execution_count": 13,
   "id": "c59129b1-9dd1-4437-9ec4-154e5d07eae4",
   "metadata": {
    "collapsed": true,
    "jupyter": {
     "outputs_hidden": true
    },
    "tags": []
   },
   "outputs": [
    {
     "ename": "OSError",
     "evalue": "[Errno 12] Cannot allocate memory",
     "output_type": "error",
     "traceback": [
      "\u001b[0;31m---------------------------------------------------------------------------\u001b[0m",
      "\u001b[0;31mOSError\u001b[0m                                   Traceback (most recent call last)",
      "Input \u001b[0;32mIn [13]\u001b[0m, in \u001b[0;36m<cell line: 1>\u001b[0;34m()\u001b[0m\n\u001b[0;32m----> 1\u001b[0m \u001b[43mget_ipython\u001b[49m\u001b[43m(\u001b[49m\u001b[43m)\u001b[49m\u001b[38;5;241;43m.\u001b[39;49m\u001b[43msystem\u001b[49m\u001b[43m(\u001b[49m\u001b[38;5;124;43m'\u001b[39;49m\u001b[38;5;124;43mnvidia-smi\u001b[39;49m\u001b[38;5;124;43m'\u001b[39;49m\u001b[43m)\u001b[49m\n",
      "File \u001b[0;32m/packages/7x/jupyter/2022-04-15/lib/python3.9/site-packages/ipykernel/zmqshell.py:633\u001b[0m, in \u001b[0;36mZMQInteractiveShell.system_piped\u001b[0;34m(self, cmd)\u001b[0m\n\u001b[1;32m    631\u001b[0m         \u001b[38;5;28mself\u001b[39m\u001b[38;5;241m.\u001b[39muser_ns[\u001b[38;5;124m\"\u001b[39m\u001b[38;5;124m_exit_code\u001b[39m\u001b[38;5;124m\"\u001b[39m] \u001b[38;5;241m=\u001b[39m system(cmd)\n\u001b[1;32m    632\u001b[0m \u001b[38;5;28;01melse\u001b[39;00m:\n\u001b[0;32m--> 633\u001b[0m     \u001b[38;5;28mself\u001b[39m\u001b[38;5;241m.\u001b[39muser_ns[\u001b[38;5;124m\"\u001b[39m\u001b[38;5;124m_exit_code\u001b[39m\u001b[38;5;124m\"\u001b[39m] \u001b[38;5;241m=\u001b[39m \u001b[43msystem\u001b[49m\u001b[43m(\u001b[49m\u001b[38;5;28;43mself\u001b[39;49m\u001b[38;5;241;43m.\u001b[39;49m\u001b[43mvar_expand\u001b[49m\u001b[43m(\u001b[49m\u001b[43mcmd\u001b[49m\u001b[43m,\u001b[49m\u001b[43m \u001b[49m\u001b[43mdepth\u001b[49m\u001b[38;5;241;43m=\u001b[39;49m\u001b[38;5;241;43m1\u001b[39;49m\u001b[43m)\u001b[49m\u001b[43m)\u001b[49m\n",
      "File \u001b[0;32m/packages/7x/jupyter/2022-04-15/lib/python3.9/site-packages/IPython/utils/_process_posix.py:148\u001b[0m, in \u001b[0;36mProcessHandler.system\u001b[0;34m(self, cmd)\u001b[0m\n\u001b[1;32m    146\u001b[0m     child \u001b[38;5;241m=\u001b[39m pexpect\u001b[38;5;241m.\u001b[39mspawnb(\u001b[38;5;28mself\u001b[39m\u001b[38;5;241m.\u001b[39msh, args\u001b[38;5;241m=\u001b[39m[\u001b[38;5;124m'\u001b[39m\u001b[38;5;124m-c\u001b[39m\u001b[38;5;124m'\u001b[39m, cmd]) \u001b[38;5;66;03m# Pexpect-U\u001b[39;00m\n\u001b[1;32m    147\u001b[0m \u001b[38;5;28;01melse\u001b[39;00m:\n\u001b[0;32m--> 148\u001b[0m     child \u001b[38;5;241m=\u001b[39m \u001b[43mpexpect\u001b[49m\u001b[38;5;241;43m.\u001b[39;49m\u001b[43mspawn\u001b[49m\u001b[43m(\u001b[49m\u001b[38;5;28;43mself\u001b[39;49m\u001b[38;5;241;43m.\u001b[39;49m\u001b[43msh\u001b[49m\u001b[43m,\u001b[49m\u001b[43m \u001b[49m\u001b[43margs\u001b[49m\u001b[38;5;241;43m=\u001b[39;49m\u001b[43m[\u001b[49m\u001b[38;5;124;43m'\u001b[39;49m\u001b[38;5;124;43m-c\u001b[39;49m\u001b[38;5;124;43m'\u001b[39;49m\u001b[43m,\u001b[49m\u001b[43m \u001b[49m\u001b[43mcmd\u001b[49m\u001b[43m]\u001b[49m\u001b[43m)\u001b[49m  \u001b[38;5;66;03m# Vanilla Pexpect\u001b[39;00m\n\u001b[1;32m    149\u001b[0m flush \u001b[38;5;241m=\u001b[39m sys\u001b[38;5;241m.\u001b[39mstdout\u001b[38;5;241m.\u001b[39mflush\n\u001b[1;32m    150\u001b[0m \u001b[38;5;28;01mwhile\u001b[39;00m \u001b[38;5;28;01mTrue\u001b[39;00m:\n\u001b[1;32m    151\u001b[0m     \u001b[38;5;66;03m# res is the index of the pattern that caused the match, so we\u001b[39;00m\n\u001b[1;32m    152\u001b[0m     \u001b[38;5;66;03m# know whether we've finished (if we matched EOF) or not\u001b[39;00m\n",
      "File \u001b[0;32m/packages/7x/jupyter/2022-04-15/lib/python3.9/site-packages/pexpect/pty_spawn.py:205\u001b[0m, in \u001b[0;36mspawn.__init__\u001b[0;34m(self, command, args, timeout, maxread, searchwindowsize, logfile, cwd, env, ignore_sighup, echo, preexec_fn, encoding, codec_errors, dimensions, use_poll)\u001b[0m\n\u001b[1;32m    203\u001b[0m     \u001b[38;5;28mself\u001b[39m\u001b[38;5;241m.\u001b[39mname \u001b[38;5;241m=\u001b[39m \u001b[38;5;124m'\u001b[39m\u001b[38;5;124m<pexpect factory incomplete>\u001b[39m\u001b[38;5;124m'\u001b[39m\n\u001b[1;32m    204\u001b[0m \u001b[38;5;28;01melse\u001b[39;00m:\n\u001b[0;32m--> 205\u001b[0m     \u001b[38;5;28;43mself\u001b[39;49m\u001b[38;5;241;43m.\u001b[39;49m\u001b[43m_spawn\u001b[49m\u001b[43m(\u001b[49m\u001b[43mcommand\u001b[49m\u001b[43m,\u001b[49m\u001b[43m \u001b[49m\u001b[43margs\u001b[49m\u001b[43m,\u001b[49m\u001b[43m \u001b[49m\u001b[43mpreexec_fn\u001b[49m\u001b[43m,\u001b[49m\u001b[43m \u001b[49m\u001b[43mdimensions\u001b[49m\u001b[43m)\u001b[49m\n\u001b[1;32m    206\u001b[0m \u001b[38;5;28mself\u001b[39m\u001b[38;5;241m.\u001b[39muse_poll \u001b[38;5;241m=\u001b[39m use_poll\n",
      "File \u001b[0;32m/packages/7x/jupyter/2022-04-15/lib/python3.9/site-packages/pexpect/pty_spawn.py:303\u001b[0m, in \u001b[0;36mspawn._spawn\u001b[0;34m(self, command, args, preexec_fn, dimensions)\u001b[0m\n\u001b[1;32m    298\u001b[0m \u001b[38;5;28;01mif\u001b[39;00m \u001b[38;5;28mself\u001b[39m\u001b[38;5;241m.\u001b[39mencoding \u001b[38;5;129;01mis\u001b[39;00m \u001b[38;5;129;01mnot\u001b[39;00m \u001b[38;5;28;01mNone\u001b[39;00m:\n\u001b[1;32m    299\u001b[0m     \u001b[38;5;66;03m# Encode command line using the specified encoding\u001b[39;00m\n\u001b[1;32m    300\u001b[0m     \u001b[38;5;28mself\u001b[39m\u001b[38;5;241m.\u001b[39margs \u001b[38;5;241m=\u001b[39m [a \u001b[38;5;28;01mif\u001b[39;00m \u001b[38;5;28misinstance\u001b[39m(a, \u001b[38;5;28mbytes\u001b[39m) \u001b[38;5;28;01melse\u001b[39;00m a\u001b[38;5;241m.\u001b[39mencode(\u001b[38;5;28mself\u001b[39m\u001b[38;5;241m.\u001b[39mencoding)\n\u001b[1;32m    301\u001b[0m                  \u001b[38;5;28;01mfor\u001b[39;00m a \u001b[38;5;129;01min\u001b[39;00m \u001b[38;5;28mself\u001b[39m\u001b[38;5;241m.\u001b[39margs]\n\u001b[0;32m--> 303\u001b[0m \u001b[38;5;28mself\u001b[39m\u001b[38;5;241m.\u001b[39mptyproc \u001b[38;5;241m=\u001b[39m \u001b[38;5;28;43mself\u001b[39;49m\u001b[38;5;241;43m.\u001b[39;49m\u001b[43m_spawnpty\u001b[49m\u001b[43m(\u001b[49m\u001b[38;5;28;43mself\u001b[39;49m\u001b[38;5;241;43m.\u001b[39;49m\u001b[43margs\u001b[49m\u001b[43m,\u001b[49m\u001b[43m \u001b[49m\u001b[43menv\u001b[49m\u001b[38;5;241;43m=\u001b[39;49m\u001b[38;5;28;43mself\u001b[39;49m\u001b[38;5;241;43m.\u001b[39;49m\u001b[43menv\u001b[49m\u001b[43m,\u001b[49m\n\u001b[1;32m    304\u001b[0m \u001b[43m                             \u001b[49m\u001b[43mcwd\u001b[49m\u001b[38;5;241;43m=\u001b[39;49m\u001b[38;5;28;43mself\u001b[39;49m\u001b[38;5;241;43m.\u001b[39;49m\u001b[43mcwd\u001b[49m\u001b[43m,\u001b[49m\u001b[43m \u001b[49m\u001b[38;5;241;43m*\u001b[39;49m\u001b[38;5;241;43m*\u001b[39;49m\u001b[43mkwargs\u001b[49m\u001b[43m)\u001b[49m\n\u001b[1;32m    306\u001b[0m \u001b[38;5;28mself\u001b[39m\u001b[38;5;241m.\u001b[39mpid \u001b[38;5;241m=\u001b[39m \u001b[38;5;28mself\u001b[39m\u001b[38;5;241m.\u001b[39mptyproc\u001b[38;5;241m.\u001b[39mpid\n\u001b[1;32m    307\u001b[0m \u001b[38;5;28mself\u001b[39m\u001b[38;5;241m.\u001b[39mchild_fd \u001b[38;5;241m=\u001b[39m \u001b[38;5;28mself\u001b[39m\u001b[38;5;241m.\u001b[39mptyproc\u001b[38;5;241m.\u001b[39mfd\n",
      "File \u001b[0;32m/packages/7x/jupyter/2022-04-15/lib/python3.9/site-packages/pexpect/pty_spawn.py:315\u001b[0m, in \u001b[0;36mspawn._spawnpty\u001b[0;34m(self, args, **kwargs)\u001b[0m\n\u001b[1;32m    313\u001b[0m \u001b[38;5;28;01mdef\u001b[39;00m \u001b[38;5;21m_spawnpty\u001b[39m(\u001b[38;5;28mself\u001b[39m, args, \u001b[38;5;241m*\u001b[39m\u001b[38;5;241m*\u001b[39mkwargs):\n\u001b[1;32m    314\u001b[0m     \u001b[38;5;124;03m'''Spawn a pty and return an instance of PtyProcess.'''\u001b[39;00m\n\u001b[0;32m--> 315\u001b[0m     \u001b[38;5;28;01mreturn\u001b[39;00m \u001b[43mptyprocess\u001b[49m\u001b[38;5;241;43m.\u001b[39;49m\u001b[43mPtyProcess\u001b[49m\u001b[38;5;241;43m.\u001b[39;49m\u001b[43mspawn\u001b[49m\u001b[43m(\u001b[49m\u001b[43margs\u001b[49m\u001b[43m,\u001b[49m\u001b[43m \u001b[49m\u001b[38;5;241;43m*\u001b[39;49m\u001b[38;5;241;43m*\u001b[39;49m\u001b[43mkwargs\u001b[49m\u001b[43m)\u001b[49m\n",
      "File \u001b[0;32m/packages/7x/jupyter/2022-04-15/lib/python3.9/site-packages/ptyprocess/ptyprocess.py:230\u001b[0m, in \u001b[0;36mPtyProcess.spawn\u001b[0;34m(cls, argv, cwd, env, echo, preexec_fn, dimensions, pass_fds)\u001b[0m\n\u001b[1;32m    227\u001b[0m exec_err_pipe_read, exec_err_pipe_write \u001b[38;5;241m=\u001b[39m os\u001b[38;5;241m.\u001b[39mpipe()\n\u001b[1;32m    229\u001b[0m \u001b[38;5;28;01mif\u001b[39;00m use_native_pty_fork:\n\u001b[0;32m--> 230\u001b[0m     pid, fd \u001b[38;5;241m=\u001b[39m \u001b[43mpty\u001b[49m\u001b[38;5;241;43m.\u001b[39;49m\u001b[43mfork\u001b[49m\u001b[43m(\u001b[49m\u001b[43m)\u001b[49m\n\u001b[1;32m    231\u001b[0m \u001b[38;5;28;01melse\u001b[39;00m:\n\u001b[1;32m    232\u001b[0m     \u001b[38;5;66;03m# Use internal fork_pty, for Solaris\u001b[39;00m\n\u001b[1;32m    233\u001b[0m     pid, fd \u001b[38;5;241m=\u001b[39m _fork_pty\u001b[38;5;241m.\u001b[39mfork_pty()\n",
      "File \u001b[0;32m/packages/7x/jupyter/2022-04-15/lib/python3.9/pty.py:98\u001b[0m, in \u001b[0;36mfork\u001b[0;34m()\u001b[0m\n\u001b[1;32m     95\u001b[0m     \u001b[38;5;28;01mreturn\u001b[39;00m pid, fd\n\u001b[1;32m     97\u001b[0m master_fd, slave_fd \u001b[38;5;241m=\u001b[39m openpty()\n\u001b[0;32m---> 98\u001b[0m pid \u001b[38;5;241m=\u001b[39m \u001b[43mos\u001b[49m\u001b[38;5;241;43m.\u001b[39;49m\u001b[43mfork\u001b[49m\u001b[43m(\u001b[49m\u001b[43m)\u001b[49m\n\u001b[1;32m     99\u001b[0m \u001b[38;5;28;01mif\u001b[39;00m pid \u001b[38;5;241m==\u001b[39m CHILD:\n\u001b[1;32m    100\u001b[0m     \u001b[38;5;66;03m# Establish a new session.\u001b[39;00m\n\u001b[1;32m    101\u001b[0m     os\u001b[38;5;241m.\u001b[39msetsid()\n",
      "\u001b[0;31mOSError\u001b[0m: [Errno 12] Cannot allocate memory"
     ]
    }
   ],
   "source": [
    "!nvidia-smi"
   ]
  },
  {
   "cell_type": "code",
   "execution_count": 14,
   "id": "8d94e1b2-027e-41b1-aa6e-7b23e36b57a6",
   "metadata": {},
   "outputs": [
    {
     "ename": "OSError",
     "evalue": "[Errno 12] Cannot allocate memory",
     "output_type": "error",
     "traceback": [
      "\u001b[0;31m---------------------------------------------------------------------------\u001b[0m",
      "\u001b[0;31mOSError\u001b[0m                                   Traceback (most recent call last)",
      "Input \u001b[0;32mIn [14]\u001b[0m, in \u001b[0;36m<cell line: 1>\u001b[0;34m()\u001b[0m\n\u001b[0;32m----> 1\u001b[0m \u001b[43mget_ipython\u001b[49m\u001b[43m(\u001b[49m\u001b[43m)\u001b[49m\u001b[38;5;241;43m.\u001b[39;49m\u001b[43msystem\u001b[49m\u001b[43m(\u001b[49m\u001b[38;5;124;43m'\u001b[39;49m\u001b[38;5;124;43mswapon -s\u001b[39;49m\u001b[38;5;124;43m'\u001b[39;49m\u001b[43m)\u001b[49m\n",
      "File \u001b[0;32m/packages/7x/jupyter/2022-04-15/lib/python3.9/site-packages/ipykernel/zmqshell.py:633\u001b[0m, in \u001b[0;36mZMQInteractiveShell.system_piped\u001b[0;34m(self, cmd)\u001b[0m\n\u001b[1;32m    631\u001b[0m         \u001b[38;5;28mself\u001b[39m\u001b[38;5;241m.\u001b[39muser_ns[\u001b[38;5;124m\"\u001b[39m\u001b[38;5;124m_exit_code\u001b[39m\u001b[38;5;124m\"\u001b[39m] \u001b[38;5;241m=\u001b[39m system(cmd)\n\u001b[1;32m    632\u001b[0m \u001b[38;5;28;01melse\u001b[39;00m:\n\u001b[0;32m--> 633\u001b[0m     \u001b[38;5;28mself\u001b[39m\u001b[38;5;241m.\u001b[39muser_ns[\u001b[38;5;124m\"\u001b[39m\u001b[38;5;124m_exit_code\u001b[39m\u001b[38;5;124m\"\u001b[39m] \u001b[38;5;241m=\u001b[39m \u001b[43msystem\u001b[49m\u001b[43m(\u001b[49m\u001b[38;5;28;43mself\u001b[39;49m\u001b[38;5;241;43m.\u001b[39;49m\u001b[43mvar_expand\u001b[49m\u001b[43m(\u001b[49m\u001b[43mcmd\u001b[49m\u001b[43m,\u001b[49m\u001b[43m \u001b[49m\u001b[43mdepth\u001b[49m\u001b[38;5;241;43m=\u001b[39;49m\u001b[38;5;241;43m1\u001b[39;49m\u001b[43m)\u001b[49m\u001b[43m)\u001b[49m\n",
      "File \u001b[0;32m/packages/7x/jupyter/2022-04-15/lib/python3.9/site-packages/IPython/utils/_process_posix.py:148\u001b[0m, in \u001b[0;36mProcessHandler.system\u001b[0;34m(self, cmd)\u001b[0m\n\u001b[1;32m    146\u001b[0m     child \u001b[38;5;241m=\u001b[39m pexpect\u001b[38;5;241m.\u001b[39mspawnb(\u001b[38;5;28mself\u001b[39m\u001b[38;5;241m.\u001b[39msh, args\u001b[38;5;241m=\u001b[39m[\u001b[38;5;124m'\u001b[39m\u001b[38;5;124m-c\u001b[39m\u001b[38;5;124m'\u001b[39m, cmd]) \u001b[38;5;66;03m# Pexpect-U\u001b[39;00m\n\u001b[1;32m    147\u001b[0m \u001b[38;5;28;01melse\u001b[39;00m:\n\u001b[0;32m--> 148\u001b[0m     child \u001b[38;5;241m=\u001b[39m \u001b[43mpexpect\u001b[49m\u001b[38;5;241;43m.\u001b[39;49m\u001b[43mspawn\u001b[49m\u001b[43m(\u001b[49m\u001b[38;5;28;43mself\u001b[39;49m\u001b[38;5;241;43m.\u001b[39;49m\u001b[43msh\u001b[49m\u001b[43m,\u001b[49m\u001b[43m \u001b[49m\u001b[43margs\u001b[49m\u001b[38;5;241;43m=\u001b[39;49m\u001b[43m[\u001b[49m\u001b[38;5;124;43m'\u001b[39;49m\u001b[38;5;124;43m-c\u001b[39;49m\u001b[38;5;124;43m'\u001b[39;49m\u001b[43m,\u001b[49m\u001b[43m \u001b[49m\u001b[43mcmd\u001b[49m\u001b[43m]\u001b[49m\u001b[43m)\u001b[49m  \u001b[38;5;66;03m# Vanilla Pexpect\u001b[39;00m\n\u001b[1;32m    149\u001b[0m flush \u001b[38;5;241m=\u001b[39m sys\u001b[38;5;241m.\u001b[39mstdout\u001b[38;5;241m.\u001b[39mflush\n\u001b[1;32m    150\u001b[0m \u001b[38;5;28;01mwhile\u001b[39;00m \u001b[38;5;28;01mTrue\u001b[39;00m:\n\u001b[1;32m    151\u001b[0m     \u001b[38;5;66;03m# res is the index of the pattern that caused the match, so we\u001b[39;00m\n\u001b[1;32m    152\u001b[0m     \u001b[38;5;66;03m# know whether we've finished (if we matched EOF) or not\u001b[39;00m\n",
      "File \u001b[0;32m/packages/7x/jupyter/2022-04-15/lib/python3.9/site-packages/pexpect/pty_spawn.py:205\u001b[0m, in \u001b[0;36mspawn.__init__\u001b[0;34m(self, command, args, timeout, maxread, searchwindowsize, logfile, cwd, env, ignore_sighup, echo, preexec_fn, encoding, codec_errors, dimensions, use_poll)\u001b[0m\n\u001b[1;32m    203\u001b[0m     \u001b[38;5;28mself\u001b[39m\u001b[38;5;241m.\u001b[39mname \u001b[38;5;241m=\u001b[39m \u001b[38;5;124m'\u001b[39m\u001b[38;5;124m<pexpect factory incomplete>\u001b[39m\u001b[38;5;124m'\u001b[39m\n\u001b[1;32m    204\u001b[0m \u001b[38;5;28;01melse\u001b[39;00m:\n\u001b[0;32m--> 205\u001b[0m     \u001b[38;5;28;43mself\u001b[39;49m\u001b[38;5;241;43m.\u001b[39;49m\u001b[43m_spawn\u001b[49m\u001b[43m(\u001b[49m\u001b[43mcommand\u001b[49m\u001b[43m,\u001b[49m\u001b[43m \u001b[49m\u001b[43margs\u001b[49m\u001b[43m,\u001b[49m\u001b[43m \u001b[49m\u001b[43mpreexec_fn\u001b[49m\u001b[43m,\u001b[49m\u001b[43m \u001b[49m\u001b[43mdimensions\u001b[49m\u001b[43m)\u001b[49m\n\u001b[1;32m    206\u001b[0m \u001b[38;5;28mself\u001b[39m\u001b[38;5;241m.\u001b[39muse_poll \u001b[38;5;241m=\u001b[39m use_poll\n",
      "File \u001b[0;32m/packages/7x/jupyter/2022-04-15/lib/python3.9/site-packages/pexpect/pty_spawn.py:303\u001b[0m, in \u001b[0;36mspawn._spawn\u001b[0;34m(self, command, args, preexec_fn, dimensions)\u001b[0m\n\u001b[1;32m    298\u001b[0m \u001b[38;5;28;01mif\u001b[39;00m \u001b[38;5;28mself\u001b[39m\u001b[38;5;241m.\u001b[39mencoding \u001b[38;5;129;01mis\u001b[39;00m \u001b[38;5;129;01mnot\u001b[39;00m \u001b[38;5;28;01mNone\u001b[39;00m:\n\u001b[1;32m    299\u001b[0m     \u001b[38;5;66;03m# Encode command line using the specified encoding\u001b[39;00m\n\u001b[1;32m    300\u001b[0m     \u001b[38;5;28mself\u001b[39m\u001b[38;5;241m.\u001b[39margs \u001b[38;5;241m=\u001b[39m [a \u001b[38;5;28;01mif\u001b[39;00m \u001b[38;5;28misinstance\u001b[39m(a, \u001b[38;5;28mbytes\u001b[39m) \u001b[38;5;28;01melse\u001b[39;00m a\u001b[38;5;241m.\u001b[39mencode(\u001b[38;5;28mself\u001b[39m\u001b[38;5;241m.\u001b[39mencoding)\n\u001b[1;32m    301\u001b[0m                  \u001b[38;5;28;01mfor\u001b[39;00m a \u001b[38;5;129;01min\u001b[39;00m \u001b[38;5;28mself\u001b[39m\u001b[38;5;241m.\u001b[39margs]\n\u001b[0;32m--> 303\u001b[0m \u001b[38;5;28mself\u001b[39m\u001b[38;5;241m.\u001b[39mptyproc \u001b[38;5;241m=\u001b[39m \u001b[38;5;28;43mself\u001b[39;49m\u001b[38;5;241;43m.\u001b[39;49m\u001b[43m_spawnpty\u001b[49m\u001b[43m(\u001b[49m\u001b[38;5;28;43mself\u001b[39;49m\u001b[38;5;241;43m.\u001b[39;49m\u001b[43margs\u001b[49m\u001b[43m,\u001b[49m\u001b[43m \u001b[49m\u001b[43menv\u001b[49m\u001b[38;5;241;43m=\u001b[39;49m\u001b[38;5;28;43mself\u001b[39;49m\u001b[38;5;241;43m.\u001b[39;49m\u001b[43menv\u001b[49m\u001b[43m,\u001b[49m\n\u001b[1;32m    304\u001b[0m \u001b[43m                             \u001b[49m\u001b[43mcwd\u001b[49m\u001b[38;5;241;43m=\u001b[39;49m\u001b[38;5;28;43mself\u001b[39;49m\u001b[38;5;241;43m.\u001b[39;49m\u001b[43mcwd\u001b[49m\u001b[43m,\u001b[49m\u001b[43m \u001b[49m\u001b[38;5;241;43m*\u001b[39;49m\u001b[38;5;241;43m*\u001b[39;49m\u001b[43mkwargs\u001b[49m\u001b[43m)\u001b[49m\n\u001b[1;32m    306\u001b[0m \u001b[38;5;28mself\u001b[39m\u001b[38;5;241m.\u001b[39mpid \u001b[38;5;241m=\u001b[39m \u001b[38;5;28mself\u001b[39m\u001b[38;5;241m.\u001b[39mptyproc\u001b[38;5;241m.\u001b[39mpid\n\u001b[1;32m    307\u001b[0m \u001b[38;5;28mself\u001b[39m\u001b[38;5;241m.\u001b[39mchild_fd \u001b[38;5;241m=\u001b[39m \u001b[38;5;28mself\u001b[39m\u001b[38;5;241m.\u001b[39mptyproc\u001b[38;5;241m.\u001b[39mfd\n",
      "File \u001b[0;32m/packages/7x/jupyter/2022-04-15/lib/python3.9/site-packages/pexpect/pty_spawn.py:315\u001b[0m, in \u001b[0;36mspawn._spawnpty\u001b[0;34m(self, args, **kwargs)\u001b[0m\n\u001b[1;32m    313\u001b[0m \u001b[38;5;28;01mdef\u001b[39;00m \u001b[38;5;21m_spawnpty\u001b[39m(\u001b[38;5;28mself\u001b[39m, args, \u001b[38;5;241m*\u001b[39m\u001b[38;5;241m*\u001b[39mkwargs):\n\u001b[1;32m    314\u001b[0m     \u001b[38;5;124;03m'''Spawn a pty and return an instance of PtyProcess.'''\u001b[39;00m\n\u001b[0;32m--> 315\u001b[0m     \u001b[38;5;28;01mreturn\u001b[39;00m \u001b[43mptyprocess\u001b[49m\u001b[38;5;241;43m.\u001b[39;49m\u001b[43mPtyProcess\u001b[49m\u001b[38;5;241;43m.\u001b[39;49m\u001b[43mspawn\u001b[49m\u001b[43m(\u001b[49m\u001b[43margs\u001b[49m\u001b[43m,\u001b[49m\u001b[43m \u001b[49m\u001b[38;5;241;43m*\u001b[39;49m\u001b[38;5;241;43m*\u001b[39;49m\u001b[43mkwargs\u001b[49m\u001b[43m)\u001b[49m\n",
      "File \u001b[0;32m/packages/7x/jupyter/2022-04-15/lib/python3.9/site-packages/ptyprocess/ptyprocess.py:230\u001b[0m, in \u001b[0;36mPtyProcess.spawn\u001b[0;34m(cls, argv, cwd, env, echo, preexec_fn, dimensions, pass_fds)\u001b[0m\n\u001b[1;32m    227\u001b[0m exec_err_pipe_read, exec_err_pipe_write \u001b[38;5;241m=\u001b[39m os\u001b[38;5;241m.\u001b[39mpipe()\n\u001b[1;32m    229\u001b[0m \u001b[38;5;28;01mif\u001b[39;00m use_native_pty_fork:\n\u001b[0;32m--> 230\u001b[0m     pid, fd \u001b[38;5;241m=\u001b[39m \u001b[43mpty\u001b[49m\u001b[38;5;241;43m.\u001b[39;49m\u001b[43mfork\u001b[49m\u001b[43m(\u001b[49m\u001b[43m)\u001b[49m\n\u001b[1;32m    231\u001b[0m \u001b[38;5;28;01melse\u001b[39;00m:\n\u001b[1;32m    232\u001b[0m     \u001b[38;5;66;03m# Use internal fork_pty, for Solaris\u001b[39;00m\n\u001b[1;32m    233\u001b[0m     pid, fd \u001b[38;5;241m=\u001b[39m _fork_pty\u001b[38;5;241m.\u001b[39mfork_pty()\n",
      "File \u001b[0;32m/packages/7x/jupyter/2022-04-15/lib/python3.9/pty.py:98\u001b[0m, in \u001b[0;36mfork\u001b[0;34m()\u001b[0m\n\u001b[1;32m     95\u001b[0m     \u001b[38;5;28;01mreturn\u001b[39;00m pid, fd\n\u001b[1;32m     97\u001b[0m master_fd, slave_fd \u001b[38;5;241m=\u001b[39m openpty()\n\u001b[0;32m---> 98\u001b[0m pid \u001b[38;5;241m=\u001b[39m \u001b[43mos\u001b[49m\u001b[38;5;241;43m.\u001b[39;49m\u001b[43mfork\u001b[49m\u001b[43m(\u001b[49m\u001b[43m)\u001b[49m\n\u001b[1;32m     99\u001b[0m \u001b[38;5;28;01mif\u001b[39;00m pid \u001b[38;5;241m==\u001b[39m CHILD:\n\u001b[1;32m    100\u001b[0m     \u001b[38;5;66;03m# Establish a new session.\u001b[39;00m\n\u001b[1;32m    101\u001b[0m     os\u001b[38;5;241m.\u001b[39msetsid()\n",
      "\u001b[0;31mOSError\u001b[0m: [Errno 12] Cannot allocate memory"
     ]
    }
   ],
   "source": [
    "!swapon -s"
   ]
  }
 ],
 "metadata": {
  "kernelspec": {
   "display_name": "Python 3 (ipykernel)",
   "language": "python",
   "name": "python3"
  },
  "language_info": {
   "codemirror_mode": {
    "name": "ipython",
    "version": 3
   },
   "file_extension": ".py",
   "mimetype": "text/x-python",
   "name": "python",
   "nbconvert_exporter": "python",
   "pygments_lexer": "ipython3",
   "version": "3.9.12"
  }
 },
 "nbformat": 4,
 "nbformat_minor": 5
}
