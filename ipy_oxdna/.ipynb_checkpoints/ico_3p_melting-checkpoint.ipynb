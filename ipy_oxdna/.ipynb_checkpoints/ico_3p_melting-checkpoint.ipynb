{
 "cells": [
  {
   "cell_type": "markdown",
   "id": "66b04adc-3b0a-4594-af25-f9a6741b5250",
   "metadata": {},
   "source": [
    "<font size='10'><h1 align=\"center\"><font color='blue'>iPy oxDNA Examples</font></h1>"
   ]
  },
  {
   "cell_type": "markdown",
   "id": "f73ab128-0835-4ab3-a462-7b4f290cf9f6",
   "metadata": {},
   "source": [
    "<center>\n",
    "<img src=\"oxDNA.png\">\n",
    "</center>"
   ]
  },
  {
   "cell_type": "markdown",
   "id": "40ec180e-1429-41d0-b13c-25eca753ef84",
   "metadata": {},
   "source": [
    "<font size='10'><a class=\"anchor\" id=\"3\"></a> <h2 align=\"center\"> <font color='black'>Duplex Melting</font></h2> "
   ]
  },
  {
   "cell_type": "code",
   "execution_count": 3,
   "id": "01fe6b5c-b5b7-4a10-bcf2-856e875ca717",
   "metadata": {},
   "outputs": [
    {
     "name": "stdout",
     "output_type": "stream",
     "text": [
      "The autoreload extension is already loaded. To reload it, use:\n",
      "  %reload_ext autoreload\n"
     ]
    }
   ],
   "source": [
    "from umbrella_sampling import ComUmbrellaSampling, MeltingUmbrellaSampling\n",
    "from oxdna_simulation import SimulationManager, Simulation, Observable\n",
    "from wham_analysis import collect_coms\n",
    "import os\n",
    "import matplotlib.pyplot as plt\n",
    "from vmmc import *\n",
    "from collections import Counter\n",
    "from parameter_search import * \n",
    "import numpy as np\n",
    "from skopt import Optimizer\n",
    "from skopt.space import Categorical, Space\n",
    "from scipy.special import logsumexp\n",
    "from copy import deepcopy\n",
    "from numba import jit\n",
    "%load_ext autoreload\n",
    "%autoreload 2\n",
    "%matplotlib inline"
   ]
  },
  {
   "cell_type": "code",
   "execution_count": 8,
   "id": "b85f4d6a-d69f-48c5-a002-2d9ee673fa2b",
   "metadata": {},
   "outputs": [],
   "source": [
    "path = os.path.abspath('/scratch/matthew/ipy_oxDNA/ipy_oxdna_examples/ico_3p/')\n",
    "\n",
    "system_name = 'inital_umbrella'\n",
    "\n",
    "conditions = ['k5_xmax30_nwin40_50C']\n",
    "\n",
    "systems = [f'{condition}' for condition in conditions]\n",
    "\n",
    "file_dirs = [f'{path}/{system_name}' for _ in range(len(systems))]\n",
    "\n",
    "\n",
    "monomer_1_patch_1 = '11674,11666,11667,11668,11669,11670,11671,11672,11673'\n",
    "monomer_1_patch_2 = '12945,12953,12946,12947,12948,12949,12950,12951,12952'\n",
    "monomer_1_patch_3 = '13320,13328,13321,13322,13323,13324,13325,13326,13327'\n",
    "\n",
    "monomer_2_patch_1 = '6655,6663,6656,6657,6658,6659,6660,6661,6662'\n",
    "monomer_2_patch_2 = '6358,6350,6351,6352,6353,6354,6355,6356,6357'\n",
    "monomer_2_patch_3 = '5752,5744,5745,5746,5747,5748,5749,5750,5751'\n",
    "\n",
    "monomer_1 = f'{monomer_1_patch_1},{monomer_1_patch_2},{monomer_1_patch_3}'\n",
    "monomer_2 = f'{monomer_2_patch_1},{monomer_2_patch_2},{monomer_2_patch_3}'\n",
    "\n",
    "\n",
    "xmin = 0\n",
    "xmax = 30\n",
    "n_windows = 40\n",
    "starting_r0 = 1\n",
    "steps = 1e6\n",
    "stiff = 5\n",
    "print_every = 1e4\n",
    "name = 'all_observable.txt'\n",
    "\n",
    "\n",
    "pre_equlibration_parameters_list = [{'steps':'1e6','print_energy_every': f'{print_every}',\n",
    "                           'print_conf_interval':'1e5', 'refresh_vel': '1',\n",
    "                           'fix_diffusion': '0', 'fix_diffusion_every': '1001','T':f'50C'}\n",
    "                            for _ in conditions]\n",
    "\n",
    "equlibration_parameters_list = [{'steps':'4e6','print_energy_every': f'{print_every}',\n",
    "                           'print_conf_interval':'1e6', 'refresh_vel': '1',\n",
    "                           'fix_diffusion': '0', 'fix_diffusion_every': '1001','T':f'50C'}\n",
    "                            for _ in conditions]\n",
    "\n",
    "production_parameters_list = [{'steps':'2e7','print_energy_every': f'{print_every}',\n",
    "                           'print_conf_interval':'1e7', 'refresh_vel': '1',\n",
    "                           'fix_diffusion': '0', 'fix_diffusion_every': '1001','T':f'50C'}\n",
    "                            for _ in conditions]\n",
    "\n",
    "us_list = [MeltingUmbrellaSampling(file_dir, sys, clean_build='force') for file_dir, sys in zip(file_dirs,systems)]\n",
    "\n",
    "simulation_manager = SimulationManager()"
   ]
  },
  {
   "cell_type": "code",
   "execution_count": 9,
   "id": "3ab004d7-3867-47ad-aabd-9cb89348137a",
   "metadata": {},
   "outputs": [
    {
     "name": "stdout",
     "output_type": "stream",
     "text": [
      "k5_xmax30_nwin40_50C\n"
     ]
    }
   ],
   "source": [
    "for us, pre_equlibration_parameters in zip(us_list, pre_equlibration_parameters_list):\n",
    "    print(us.system)\n",
    "    us.build_pre_equlibration_runs(simulation_manager, n_windows, monomer_1, monomer_2,\n",
    "                               stiff, xmin, xmax, pre_equlibration_parameters, starting_r0, steps,\n",
    "                               print_every=print_every, observable=True, protein=None,\n",
    "                               force_file=None, continue_run=False, name=name)"
   ]
  },
  {
   "cell_type": "code",
   "execution_count": 10,
   "id": "ba88115a-b28d-4a59-95b3-24c932b923df",
   "metadata": {
    "scrolled": true,
    "tags": []
   },
   "outputs": [
    {
     "name": "stdout",
     "output_type": "stream",
     "text": [
      "spawning\n",
      "Running: 0\n",
      "Running: 1\n",
      "Running: 2\n",
      "Running: 3\n",
      "Running: 4\n",
      "Running: 5\n",
      "Running: 6\n",
      "Running: 7\n",
      "Running: 8\n",
      "Running: 9\n",
      "Running: 10\n",
      "Running: 11\n",
      "Running: 12\n",
      "Running: 13\n",
      "Running: 14\n",
      "Running: 15\n",
      "Running: 16\n",
      "Running: 17\n",
      "Running: 18\n",
      "Running: 19\n",
      "Running: 20\n",
      "Running: 21\n",
      "Running: 22\n",
      "Running: 23\n",
      "Running: 24\n",
      "Running: 25\n",
      "Running: 26\n",
      "Running: 27\n",
      "Running: 28\n",
      "Running: 29\n",
      "Running: 30\n",
      "Running: 31\n",
      "Running: 32\n",
      "Running: 33\n",
      "Running: 34\n",
      "Running: 35\n",
      "Running: 36\n",
      "Running: 37\n",
      "Running: 38\n",
      "Running: 39\n"
     ]
    }
   ],
   "source": [
    "simulation_manager.run(gpu_mem_block=False)"
   ]
  },
  {
   "cell_type": "code",
   "execution_count": null,
   "id": "a4a242ce-69a9-46b9-b270-988e1d088d3c",
   "metadata": {
    "execution": {
     "iopub.execute_input": "2023-10-30T01:24:01.796731Z",
     "iopub.status.busy": "2023-10-30T01:24:01.795776Z",
     "iopub.status.idle": "2023-10-30T01:24:31.058523Z",
     "shell.execute_reply": "2023-10-30T01:24:31.057936Z",
     "shell.execute_reply.started": "2023-10-30T01:24:01.796709Z"
    }
   },
   "outputs": [],
   "source": [
    "for us, equlibration_parameters in zip(us_list, equlibration_parameters_list):\n",
    "    print(us.system)\n",
    "    us.build_equlibration_runs(simulation_manager, n_windows, monomer_1, monomer_2,\n",
    "                               stiff, xmin, xmax, equlibration_parameters, print_every=print_every,\n",
    "                               observable=True, protein=None, force_file=None, continue_run=False, name=name)"
   ]
  },
  {
   "cell_type": "code",
   "execution_count": null,
   "id": "8662cb23-9f54-4575-abe3-fe315b7190fa",
   "metadata": {
    "collapsed": true,
    "execution": {
     "iopub.execute_input": "2023-10-30T01:24:31.059895Z",
     "iopub.status.busy": "2023-10-30T01:24:31.059739Z",
     "iopub.status.idle": "2023-10-30T01:29:01.323143Z",
     "shell.execute_reply": "2023-10-30T01:29:01.322342Z",
     "shell.execute_reply.started": "2023-10-30T01:24:31.059881Z"
    },
    "jupyter": {
     "outputs_hidden": true
    },
    "scrolled": true,
    "tags": []
   },
   "outputs": [],
   "source": [
    "simulation_manager.run(gpu_mem_block=False)"
   ]
  },
  {
   "cell_type": "code",
   "execution_count": null,
   "id": "21995ab4-f14b-4710-a242-0464103fca50",
   "metadata": {
    "execution": {
     "iopub.execute_input": "2023-10-30T01:48:08.567089Z",
     "iopub.status.busy": "2023-10-30T01:48:08.566539Z",
     "iopub.status.idle": "2023-10-30T01:48:31.873202Z",
     "shell.execute_reply": "2023-10-30T01:48:31.872523Z",
     "shell.execute_reply.started": "2023-10-30T01:48:08.567071Z"
    }
   },
   "outputs": [],
   "source": [
    "for us, production_parameters, stiff in zip(us_list, production_parameters_list, k_value_list):\n",
    "    print(us.system)\n",
    "    us.build_production_runs(simulation_manager, n_windows, com_list, ref_list,\n",
    "                             stiff, xmin, xmax, production_parameters,\n",
    "                             observable=True, print_every=print_every ,protein=None,\n",
    "                             force_file=None, continue_run=False, name=name)"
   ]
  },
  {
   "cell_type": "code",
   "execution_count": null,
   "id": "f335f406-33ec-442b-a1f6-e59b17140f02",
   "metadata": {
    "collapsed": true,
    "execution": {
     "iopub.execute_input": "2023-10-30T01:48:32.603631Z",
     "iopub.status.busy": "2023-10-30T01:48:32.603256Z",
     "iopub.status.idle": "2023-10-30T01:48:32.643201Z",
     "shell.execute_reply": "2023-10-30T01:48:32.642166Z",
     "shell.execute_reply.started": "2023-10-30T01:48:32.603616Z"
    },
    "jupyter": {
     "outputs_hidden": true
    },
    "scrolled": true,
    "tags": []
   },
   "outputs": [],
   "source": [
    "simulation_manager.run(cpu_run=True, gpu_mem_block=False)"
   ]
  },
  {
   "cell_type": "code",
   "execution_count": null,
   "id": "b637091a",
   "metadata": {},
   "outputs": [],
   "source": [
    "wham_dir = os.path.abspath('/scratch/matthew/ipy_oxDNA/src/wham/wham')\n",
    "n_bins = '200'\n",
    "tol = '1e-12'\n",
    "n_boot = '0'\n",
    "com_list = '8,9,10,11,12,13,14,15'\n",
    "ref_list = '0,1,2,3,4,5,6,7'\n",
    "xmin = 0\n",
    "xmax = 15\n",
    "n_windows = 50\n",
    "starting_r0 = 1\n",
    "steps = 1e6\n",
    "stiff=5\n",
    "for us in us_list:\n",
    "    us.wham_run(wham_dir, xmin, xmax, stiff, n_bins, tol, n_boot)"
   ]
  },
  {
   "cell_type": "code",
   "execution_count": null,
   "id": "62fe9e7d-1139-47e4-bc80-7429bf8466a8",
   "metadata": {
    "collapsed": true,
    "jupyter": {
     "outputs_hidden": true
    },
    "tags": []
   },
   "outputs": [],
   "source": [
    "for us in us_list:\n",
    "    us.com_distance_observable(monomer_1, monomer_2)\n",
    "\n",
    "\n",
    "for us in us_list:\n",
    "    plt.figure(dpi=200)\n",
    "    for idx in range(0,40,1):\n",
    "        us.analysis.view_observable('eq', idx, observable=us.observables_list[0], sliding_window=False)\n",
    "    # plt.legend([us.system], fontsize=7)"
   ]
  },
  {
   "cell_type": "code",
   "execution_count": null,
   "id": "fe3b612f",
   "metadata": {},
   "outputs": [],
   "source": [
    "for us in us_list:\n",
    "    for idx in range(30, n_windows):\n",
    "        us.analysis.view_conf('eq', idx)"
   ]
  },
  {
   "cell_type": "code",
   "execution_count": null,
   "id": "cecfd936-1dad-4582-8978-b0acae01aa3c",
   "metadata": {
    "execution": {
     "iopub.execute_input": "2023-10-30T18:32:57.842151Z",
     "iopub.status.busy": "2023-10-30T18:32:57.841861Z",
     "iopub.status.idle": "2023-10-30T18:34:15.798096Z",
     "shell.execute_reply": "2023-10-30T18:34:15.797576Z",
     "shell.execute_reply.started": "2023-10-30T18:32:57.842135Z"
    }
   },
   "outputs": [],
   "source": [
    "max_hb = 8\n",
    "temp_range = np.array([25, 30, 35, 40, 45, 50, 52, 55, 60, 65, 70])   \n",
    "us_list[0].temperature_interpolation(max_hb, temp_range, reread_files=False)"
   ]
  },
  {
   "cell_type": "code",
   "execution_count": null,
   "id": "4f08580f",
   "metadata": {},
   "outputs": [],
   "source": [
    "temp_range = np.array([25, 30, 35, 40, 45, 50, 52, 55, 60, 65, 70])   \n",
    "n_bins = 200\n",
    "free, F_i_temps, f_i_temps_over_time = us_list[0].wham_temperature_interpolation(temp_range, n_bins)"
   ]
  },
  {
   "cell_type": "code",
   "execution_count": 14,
   "id": "e06182b8-fccc-4d60-876e-35a751407426",
   "metadata": {},
   "outputs": [
    {
     "data": {
      "text/plain": [
       "'all_obserables.txt'"
      ]
     },
     "execution_count": 14,
     "metadata": {},
     "output_type": "execute_result"
    }
   ],
   "source": [
    "us.observables_list[0]['output']['name']"
   ]
  }
 ],
 "metadata": {
  "kernelspec": {
   "display_name": "oxDNA3.3",
   "language": "python",
   "name": "oxdna3.3"
  },
  "language_info": {
   "codemirror_mode": {
    "name": "ipython",
    "version": 3
   },
   "file_extension": ".py",
   "mimetype": "text/x-python",
   "name": "python",
   "nbconvert_exporter": "python",
   "pygments_lexer": "ipython3",
   "version": "3.10.8"
  }
 },
 "nbformat": 4,
 "nbformat_minor": 5
}
