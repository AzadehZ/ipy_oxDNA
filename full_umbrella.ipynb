{
 "cells": [
  {
   "cell_type": "code",
   "execution_count": 1,
   "metadata": {
    "collapsed": true,
    "pycharm": {
     "name": "#%%\n"
    }
   },
   "outputs": [],
   "source": [
    "from oxDNA_analysis_tools.UTILS.oxview import from_path\n",
    "import oxpy\n",
    "from oxdna_json_utils import input_json\n",
    "from simulation_interfaces import *\n",
    "from forces import Force\n",
    "from production_files import write_production, get_windows_per_gpu, run_production_slurm_files\n",
    "from analysis import wham_analysis\n",
    "from sim_macros import *\n",
    "from copy import deepcopy"
   ]
  },
  {
   "cell_type": "code",
   "execution_count": 2,
   "metadata": {
    "collapsed": false,
    "pycharm": {
     "name": "#%%\n"
    }
   },
   "outputs": [
    {
     "name": "stderr",
     "output_type": "stream",
     "text": [
      "\n",
      "Please cite these publications for any work that uses the oxDNA simulation package\n",
      "\t\t- for the code:\n",
      "\t\t\t* P. Šulc et al., J. Chem. Phys. 137, 135101 (2012)\n",
      "\t\t\t* L. Rovigatti et al., J. Comput. Chem. 36, 1 (2015)\n",
      "\t\t- for the oxDNA model:\n",
      "\t\t\t* T. E. Ouldridge et al., J. Chem. Phys, 134, 085101 (2011)\n",
      "\t\t- for the oxDNA2 model:\n",
      "\t\t\t* B. E. K. Snodin et al., J. Chem. Phys. 142, 234901 (2015)\n",
      "\t\t- for the oxRNA model:\n",
      "\t\t\t* P. Šulc et al., J. Chem. Phys. 140, 235102 (2014)\n"
     ]
    },
    {
     "name": "stdout",
     "output_type": "stream",
     "text": [
      "Running //scratch/matthew/melting_sims/umbrella/sim_macros/1p_systems/1p_k10_max7/1p_k10_max7_eq\n"
     ]
    },
    {
     "name": "stderr",
     "output_type": "stream",
     "text": [
      "INFO: seeding the RNG with -1067157213\n",
      "INFO: Initializing backend \n",
      "INFO: Simulation type: MD\n",
      "INFO: CUDA backend precision: mixed\n",
      "INFO: The generator will try to take into account bonded interactions by choosing distances between bonded neighbours no larger than 2.000000\n",
      "INFO: Using 'oxDNA2_sequence_dependent_parameters.txt' as the input for sequence-dependent values\n",
      "INFO: Converting temperature from Celsius (25.000000 C°) to simulation units (0.099383)\n",
      "INFO: Running Debye-Huckel at salt concentration =  1\n",
      "INFO: Using different widths for major and minor grooves\n",
      "INFO: Temperature change detected (new temperature: 25.00 C, 298.15 K), re-initialising the DNA interaction\n",
      "DEBUG: Debye-Huckel parameters: Q=0.054300, lambda_0=0.361646, lambda=0.360529, r_high=1.081586, cutoff=2.585176\n",
      "DEBUG: Debye-Huckel parameters: debye_huckel_RC=1.622379e+00, debye_huckel_B=8.546594e-03\n",
      "INFO: The Debye length at this temperature and salt concentration is 0.360529\n",
      "INFO: Setting the maximum IO limit to 5 MB/s\n",
      "INFO: CUDA device not specified\n",
      "INFO: The generator will try to take into account bonded interactions by choosing distances between bonded neighbours no larger than 2.000000\n",
      "INFO: Using 'oxDNA2_sequence_dependent_parameters.txt' as the input for sequence-dependent values\n",
      "INFO: pid: 2456243\n",
      "DEBUG: Debye-Huckel parameters: Q=0.054300, lambda_0=0.361646, lambda=0.360529, r_high=1.081586, cutoff=2.585176\n",
      "DEBUG: Debye-Huckel parameters: debye_huckel_RC=1.622379e+00, debye_huckel_B=8.546594e-03\n",
      "INFO: The Debye length at this temperature and salt concentration is 0.360529\n",
      "INFO: (Cells.cpp) N_cells_side: 4, 4, 4; rcut=2.98518, IS_MC: 0\n",
      "INFO: N: 18, N molecules: 2\n",
      "INFO: Using randomly distributed velocities\n",
      "INFO: Initial kinetic energy: 4.786776\n",
      "INFO: Choosing device automatically\n",
      "cudaGetDeviceCount FAILED, CUDA Driver and Runtime CUDA Driver and Runtime version may be mismatched, exiting.\n",
      "\n",
      "Please cite these publications for any work that uses the oxDNA simulation package\n",
      "\t\t- for the code:\n",
      "\t\t\t* P. Šulc et al., J. Chem. Phys. 137, 135101 (2012)\n",
      "\t\t\t* L. Rovigatti et al., J. Comput. Chem. 36, 1 (2015)\n",
      "\t\t- for the oxDNA model:\n",
      "\t\t\t* T. E. Ouldridge et al., J. Chem. Phys, 134, 085101 (2011)\n",
      "\t\t- for the oxDNA2 model:\n",
      "\t\t\t* B. E. K. Snodin et al., J. Chem. Phys. 142, 234901 (2015)\n",
      "\t\t- for the oxRNA model:\n",
      "\t\t\t* P. Šulc et al., J. Chem. Phys. 140, 235102 (2014)\n"
     ]
    },
    {
     "name": "stdout",
     "output_type": "stream",
     "text": [
      "Running //scratch/matthew/melting_sims/umbrella/sim_macros/1p_systems/1p_k10_max7/1p_k10_max7_r0_eq\n"
     ]
    },
    {
     "name": "stderr",
     "output_type": "stream",
     "text": [
      "INFO: seeding the RNG with -197723073\n",
      "INFO: Initializing backend \n",
      "INFO: Simulation type: MD\n",
      "INFO: CUDA backend precision: mixed\n",
      "INFO: The generator will try to take into account bonded interactions by choosing distances between bonded neighbours no larger than 2.000000\n",
      "INFO: Using 'oxDNA2_sequence_dependent_parameters.txt' as the input for sequence-dependent values\n",
      "INFO: Converting temperature from Celsius (25.000000 C°) to simulation units (0.099383)\n",
      "INFO: Running Debye-Huckel at salt concentration =  1\n",
      "INFO: Using different widths for major and minor grooves\n",
      "INFO: Temperature change detected (new temperature: 25.00 C, 298.15 K), re-initialising the DNA interaction\n",
      "DEBUG: Debye-Huckel parameters: Q=0.054300, lambda_0=0.361646, lambda=0.360529, r_high=1.081586, cutoff=2.585176\n",
      "DEBUG: Debye-Huckel parameters: debye_huckel_RC=1.622379e+00, debye_huckel_B=8.546594e-03\n",
      "INFO: The Debye length at this temperature and salt concentration is 0.360529\n",
      "INFO: Setting the maximum IO limit to 5 MB/s\n",
      "INFO: CUDA device not specified\n",
      "INFO: The generator will try to take into account bonded interactions by choosing distances between bonded neighbours no larger than 2.000000\n",
      "INFO: Using 'oxDNA2_sequence_dependent_parameters.txt' as the input for sequence-dependent values\n",
      "INFO: pid: 2456244\n",
      "DEBUG: Debye-Huckel parameters: Q=0.054300, lambda_0=0.361646, lambda=0.360529, r_high=1.081586, cutoff=2.585176\n",
      "DEBUG: Debye-Huckel parameters: debye_huckel_RC=1.622379e+00, debye_huckel_B=8.546594e-03\n",
      "INFO: The Debye length at this temperature and salt concentration is 0.360529\n",
      "INFO: Parsing JSON force file forces.json\n",
      "INFO: Adding a COM force of stiffness = 10.000000, r0 = 0.000000, rate = 0.000000 on particle 0\n",
      "INFO: Adding a COM force of stiffness = 10.000000, r0 = 0.000000, rate = 0.000000 on particle 1\n",
      "INFO: Adding a COM force of stiffness = 10.000000, r0 = 0.000000, rate = 0.000000 on particle 2\n",
      "INFO: Adding a COM force of stiffness = 10.000000, r0 = 0.000000, rate = 0.000000 on particle 3\n",
      "INFO: Adding a COM force of stiffness = 10.000000, r0 = 0.000000, rate = 0.000000 on particle 4\n",
      "INFO: Adding a COM force of stiffness = 10.000000, r0 = 0.000000, rate = 0.000000 on particle 5\n",
      "INFO: Adding a COM force of stiffness = 10.000000, r0 = 0.000000, rate = 0.000000 on particle 6\n",
      "INFO: Adding a COM force of stiffness = 10.000000, r0 = 0.000000, rate = 0.000000 on particle 7\n",
      "INFO: Adding a COM force of stiffness = 10.000000, r0 = 0.000000, rate = 0.000000 on particle 8\n",
      "INFO: Adding a COM force of stiffness = 10.000000, r0 = 0.000000, rate = 0.000000 on particle 9\n",
      "INFO: Adding a COM force of stiffness = 10.000000, r0 = 0.000000, rate = 0.000000 on particle 10\n",
      "INFO: Adding a COM force of stiffness = 10.000000, r0 = 0.000000, rate = 0.000000 on particle 11\n",
      "INFO: Adding a COM force of stiffness = 10.000000, r0 = 0.000000, rate = 0.000000 on particle 12\n",
      "INFO: Adding a COM force of stiffness = 10.000000, r0 = 0.000000, rate = 0.000000 on particle 13\n",
      "INFO: Adding a COM force of stiffness = 10.000000, r0 = 0.000000, rate = 0.000000 on particle 14\n",
      "INFO: Adding a COM force of stiffness = 10.000000, r0 = 0.000000, rate = 0.000000 on particle 15\n",
      "INFO: Adding a COM force of stiffness = 10.000000, r0 = 0.000000, rate = 0.000000 on particle 16\n",
      "INFO: Adding a COM force of stiffness = 10.000000, r0 = 0.000000, rate = 0.000000 on particle 17\n",
      "INFO:    Force file parsed\n",
      "INFO: (Cells.cpp) N_cells_side: 4, 4, 4; rcut=2.98518, IS_MC: 0\n",
      "INFO: N: 18, N molecules: 2\n",
      "INFO: Using randomly distributed velocities\n",
      "INFO: Initial kinetic energy: 6.606376\n",
      "INFO: Choosing device automatically\n",
      "cudaGetDeviceCount FAILED, CUDA Driver and Runtime CUDA Driver and Runtime version may be mismatched, exiting.\n",
      "\n",
      "Please cite these publications for any work that uses the oxDNA simulation package\n",
      "\t\t- for the code:\n",
      "\t\t\t* P. Šulc et al., J. Chem. Phys. 137, 135101 (2012)\n",
      "\t\t\t* L. Rovigatti et al., J. Comput. Chem. 36, 1 (2015)\n",
      "\t\t- for the oxDNA model:\n",
      "\t\t\t* T. E. Ouldridge et al., J. Chem. Phys, 134, 085101 (2011)\n",
      "\t\t- for the oxDNA2 model:\n",
      "\t\t\t* B. E. K. Snodin et al., J. Chem. Phys. 142, 234901 (2015)\n",
      "\t\t- for the oxRNA model:\n",
      "\t\t\t* P. Šulc et al., J. Chem. Phys. 140, 235102 (2014)\n"
     ]
    },
    {
     "name": "stdout",
     "output_type": "stream",
     "text": [
      "Running //scratch/matthew/melting_sims/umbrella/sim_macros/1p_systems/1p_k10_max7/1p_k10_max7_pull\n",
      "Writing production files...\n"
     ]
    },
    {
     "name": "stderr",
     "output_type": "stream",
     "text": [
      "INFO: seeding the RNG with 1331970937\n",
      "INFO: Initializing backend \n",
      "INFO: Simulation type: MD\n",
      "INFO: CUDA backend precision: mixed\n",
      "INFO: The generator will try to take into account bonded interactions by choosing distances between bonded neighbours no larger than 2.000000\n",
      "INFO: Using 'oxDNA2_sequence_dependent_parameters.txt' as the input for sequence-dependent values\n",
      "INFO: Converting temperature from Celsius (25.000000 C°) to simulation units (0.099383)\n",
      "INFO: Running Debye-Huckel at salt concentration =  1\n",
      "INFO: Using different widths for major and minor grooves\n",
      "INFO: Temperature change detected (new temperature: 25.00 C, 298.15 K), re-initialising the DNA interaction\n",
      "DEBUG: Debye-Huckel parameters: Q=0.054300, lambda_0=0.361646, lambda=0.360529, r_high=1.081586, cutoff=2.585176\n",
      "DEBUG: Debye-Huckel parameters: debye_huckel_RC=1.622379e+00, debye_huckel_B=8.546594e-03\n",
      "INFO: The Debye length at this temperature and salt concentration is 0.360529\n",
      "INFO: Setting the maximum IO limit to 5 MB/s\n",
      "INFO: CUDA device not specified\n",
      "INFO: The generator will try to take into account bonded interactions by choosing distances between bonded neighbours no larger than 2.000000\n",
      "INFO: Using 'oxDNA2_sequence_dependent_parameters.txt' as the input for sequence-dependent values\n",
      "INFO: pid: 2456245\n",
      "DEBUG: Debye-Huckel parameters: Q=0.054300, lambda_0=0.361646, lambda=0.360529, r_high=1.081586, cutoff=2.585176\n",
      "DEBUG: Debye-Huckel parameters: debye_huckel_RC=1.622379e+00, debye_huckel_B=8.546594e-03\n",
      "INFO: The Debye length at this temperature and salt concentration is 0.360529\n",
      "INFO: Parsing JSON force file forces.json\n",
      "INFO: Adding a COM force of stiffness = 10.000000, r0 = 0.000000, rate = 0.000007 on particle 0\n",
      "INFO: Adding a COM force of stiffness = 10.000000, r0 = 0.000000, rate = 0.000007 on particle 1\n",
      "INFO: Adding a COM force of stiffness = 10.000000, r0 = 0.000000, rate = 0.000007 on particle 2\n",
      "INFO: Adding a COM force of stiffness = 10.000000, r0 = 0.000000, rate = 0.000007 on particle 3\n",
      "INFO: Adding a COM force of stiffness = 10.000000, r0 = 0.000000, rate = 0.000007 on particle 4\n",
      "INFO: Adding a COM force of stiffness = 10.000000, r0 = 0.000000, rate = 0.000007 on particle 5\n",
      "INFO: Adding a COM force of stiffness = 10.000000, r0 = 0.000000, rate = 0.000007 on particle 6\n",
      "INFO: Adding a COM force of stiffness = 10.000000, r0 = 0.000000, rate = 0.000007 on particle 7\n",
      "INFO: Adding a COM force of stiffness = 10.000000, r0 = 0.000000, rate = 0.000007 on particle 8\n",
      "INFO: Adding a COM force of stiffness = 10.000000, r0 = 0.000000, rate = 0.000007 on particle 9\n",
      "INFO: Adding a COM force of stiffness = 10.000000, r0 = 0.000000, rate = 0.000007 on particle 10\n",
      "INFO: Adding a COM force of stiffness = 10.000000, r0 = 0.000000, rate = 0.000007 on particle 11\n",
      "INFO: Adding a COM force of stiffness = 10.000000, r0 = 0.000000, rate = 0.000007 on particle 12\n",
      "INFO: Adding a COM force of stiffness = 10.000000, r0 = 0.000000, rate = 0.000007 on particle 13\n",
      "INFO: Adding a COM force of stiffness = 10.000000, r0 = 0.000000, rate = 0.000007 on particle 14\n",
      "INFO: Adding a COM force of stiffness = 10.000000, r0 = 0.000000, rate = 0.000007 on particle 15\n",
      "INFO: Adding a COM force of stiffness = 10.000000, r0 = 0.000000, rate = 0.000007 on particle 16\n",
      "INFO: Adding a COM force of stiffness = 10.000000, r0 = 0.000000, rate = 0.000007 on particle 17\n",
      "INFO:    Force file parsed\n",
      "INFO: (Cells.cpp) N_cells_side: 4, 4, 4; rcut=2.98518, IS_MC: 0\n",
      "INFO: N: 18, N molecules: 2\n",
      "INFO: Using randomly distributed velocities\n",
      "INFO: Initial kinetic energy: 4.568801\n",
      "INFO: Choosing device automatically\n",
      "cudaGetDeviceCount FAILED, CUDA Driver and Runtime CUDA Driver and Runtime version may be mismatched, exiting.\n"
     ]
    },
    {
     "ename": "FileNotFoundError",
     "evalue": "[Errno 2] No such file or directory: '//scratch/matthew/melting_sims/umbrella/sim_macros/1p_systems/1p_k10_max7/1p_k10_max7_pull/last_conf.dat'",
     "output_type": "error",
     "traceback": [
      "\u001b[0;31m---------------------------------------------------------------------------\u001b[0m",
      "\u001b[0;31mFileNotFoundError\u001b[0m                         Traceback (most recent call last)",
      "Input \u001b[0;32mIn [2]\u001b[0m, in \u001b[0;36m<cell line: 30>\u001b[0;34m()\u001b[0m\n\u001b[1;32m     28\u001b[0m run_file \u001b[38;5;241m=\u001b[39m \u001b[38;5;124mf\u001b[39m\u001b[38;5;124m'\u001b[39m\u001b[38;5;132;01m{\u001b[39;00mpath\u001b[38;5;132;01m}\u001b[39;00m\u001b[38;5;124m/\u001b[39m\u001b[38;5;132;01m{\u001b[39;00msystem\u001b[38;5;132;01m}\u001b[39;00m\u001b[38;5;124m/run.sh\u001b[39m\u001b[38;5;124m'\u001b[39m\n\u001b[1;32m     29\u001b[0m \u001b[38;5;66;03m#sim_dir = f\"{path}/{system}/umbrella_production_1e5_example\"\u001b[39;00m\n\u001b[0;32m---> 30\u001b[0m \u001b[43mprepare_umbrella_sampling\u001b[49m\u001b[43m(\u001b[49m\u001b[43mpath\u001b[49m\u001b[43m,\u001b[49m\u001b[43m \u001b[49m\u001b[43msystem\u001b[49m\u001b[43m,\u001b[49m\u001b[43m \u001b[49m\u001b[43mp1\u001b[49m\u001b[43m,\u001b[49m\u001b[43m \u001b[49m\u001b[43mp2\u001b[49m\u001b[43m,\u001b[49m\u001b[43m \u001b[49m\u001b[43minput_umbrella\u001b[49m\u001b[43m,\u001b[49m\u001b[43m \u001b[49m\u001b[43mall_forces\u001b[49m\u001b[43m,\u001b[49m\u001b[43m \u001b[49m\u001b[43msteps_per_conf\u001b[49m\u001b[43m,\u001b[49m\u001b[43m \u001b[49m\u001b[43mxmin\u001b[49m\u001b[43m,\u001b[49m\u001b[43m \u001b[49m\u001b[43mxmax\u001b[49m\u001b[43m,\u001b[49m\u001b[43m \u001b[49m\u001b[43mn_windows\u001b[49m\u001b[43m,\u001b[49m\u001b[43m \u001b[49m\u001b[43mn_gpus\u001b[49m\u001b[43m,\u001b[49m\u001b[43m \u001b[49m\u001b[43mrun_file\u001b[49m\u001b[43m)\u001b[49m\n",
      "File \u001b[0;32m/scratch/matthew/melting_sims/umbrella/gen_umbrella/sim_macros.py:202\u001b[0m, in \u001b[0;36mprepare_umbrella_sampling\u001b[0;34m(path, system, p1, p2, input_json_dict, all_forces, steps_per_conf, xmin, xmax, n_windows, n_gpus, run_file)\u001b[0m\n\u001b[1;32m    200\u001b[0m input_json_dict[\u001b[38;5;124m\"\u001b[39m\u001b[38;5;124mobservables_file\u001b[39m\u001b[38;5;124m\"\u001b[39m] \u001b[38;5;241m=\u001b[39m \u001b[38;5;124m\"\u001b[39m\u001b[38;5;124mobservables.json\u001b[39m\u001b[38;5;124m\"\u001b[39m\n\u001b[1;32m    201\u001b[0m input_production \u001b[38;5;241m=\u001b[39m deepcopy(input_json_dict)\n\u001b[0;32m--> 202\u001b[0m \u001b[43mwrite_production\u001b[49m\u001b[43m(\u001b[49m\n\u001b[1;32m    203\u001b[0m \u001b[43m    \u001b[49m\u001b[43mfile_dir\u001b[49m\u001b[38;5;241;43m=\u001b[39;49m\u001b[38;5;124;43mf\u001b[39;49m\u001b[38;5;124;43m\"\u001b[39;49m\u001b[38;5;132;43;01m{\u001b[39;49;00m\u001b[43mpath\u001b[49m\u001b[38;5;132;43;01m}\u001b[39;49;00m\u001b[38;5;124;43m/\u001b[39;49m\u001b[38;5;132;43;01m{\u001b[39;49;00m\u001b[43msystem\u001b[49m\u001b[38;5;132;43;01m}\u001b[39;49;00m\u001b[38;5;124;43m/\u001b[39;49m\u001b[38;5;132;43;01m{\u001b[39;49;00m\u001b[43msystem\u001b[49m\u001b[38;5;132;43;01m}\u001b[39;49;00m\u001b[38;5;124;43m_pull\u001b[39;49m\u001b[38;5;124;43m\"\u001b[39;49m\u001b[43m,\u001b[49m\n\u001b[1;32m    204\u001b[0m \u001b[43m    \u001b[49m\u001b[43msim_dir\u001b[49m\u001b[38;5;241;43m=\u001b[39;49m\u001b[38;5;124;43mf\u001b[39;49m\u001b[38;5;124;43m\"\u001b[39;49m\u001b[38;5;132;43;01m{\u001b[39;49;00m\u001b[43mpath\u001b[49m\u001b[38;5;132;43;01m}\u001b[39;49;00m\u001b[38;5;124;43m/\u001b[39;49m\u001b[38;5;132;43;01m{\u001b[39;49;00m\u001b[43msystem\u001b[49m\u001b[38;5;132;43;01m}\u001b[39;49;00m\u001b[38;5;124;43m/umbrella_production_\u001b[39;49m\u001b[38;5;132;43;01m{\u001b[39;49;00m\u001b[43minput_production\u001b[49m\u001b[43m[\u001b[49m\u001b[38;5;124;43m'\u001b[39;49m\u001b[38;5;124;43msteps\u001b[39;49m\u001b[38;5;124;43m'\u001b[39;49m\u001b[43m]\u001b[49m\u001b[38;5;132;43;01m}\u001b[39;49;00m\u001b[38;5;124;43m\"\u001b[39;49m\u001b[43m,\u001b[49m\n\u001b[1;32m    205\u001b[0m \u001b[43m    \u001b[49m\u001b[43mp1\u001b[49m\u001b[38;5;241;43m=\u001b[39;49m\u001b[43mp1\u001b[49m\u001b[43m,\u001b[49m\n\u001b[1;32m    206\u001b[0m \u001b[43m    \u001b[49m\u001b[43mp2\u001b[49m\u001b[38;5;241;43m=\u001b[39;49m\u001b[43mp2\u001b[49m\u001b[43m,\u001b[49m\n\u001b[1;32m    207\u001b[0m \u001b[43m    \u001b[49m\u001b[43mxmin\u001b[49m\u001b[38;5;241;43m=\u001b[39;49m\u001b[43mxmin\u001b[49m\u001b[43m,\u001b[49m\n\u001b[1;32m    208\u001b[0m \u001b[43m    \u001b[49m\u001b[43mxmax\u001b[49m\u001b[38;5;241;43m=\u001b[39;49m\u001b[43mxmax\u001b[49m\u001b[43m,\u001b[49m\n\u001b[1;32m    209\u001b[0m \u001b[43m    \u001b[49m\u001b[43mall_forces\u001b[49m\u001b[38;5;241;43m=\u001b[39;49m\u001b[43mall_forces\u001b[49m\u001b[43m,\u001b[49m\n\u001b[1;32m    210\u001b[0m \u001b[43m    \u001b[49m\u001b[43mn_gpus\u001b[49m\u001b[38;5;241;43m=\u001b[39;49m\u001b[43mn_gpus\u001b[49m\u001b[43m,\u001b[49m\n\u001b[1;32m    211\u001b[0m \u001b[43m    \u001b[49m\u001b[43minput_json_dict\u001b[49m\u001b[38;5;241;43m=\u001b[39;49m\u001b[43minput_production\u001b[49m\u001b[43m,\u001b[49m\n\u001b[1;32m    212\u001b[0m \u001b[43m    \u001b[49m\u001b[43mrun_file\u001b[49m\u001b[38;5;241;43m=\u001b[39;49m\u001b[43mrun_file\u001b[49m\n\u001b[1;32m    213\u001b[0m \u001b[43m\u001b[49m\u001b[43m)\u001b[49m\n\u001b[1;32m    214\u001b[0m \u001b[38;5;28;01mreturn\u001b[39;00m \u001b[38;5;28;01mNone\u001b[39;00m\n",
      "File \u001b[0;32m/scratch/matthew/melting_sims/umbrella/gen_umbrella/production_files.py:125\u001b[0m, in \u001b[0;36mwrite_production\u001b[0;34m(file_dir, sim_dir, p1, p2, xmin, xmax, all_forces, steps_per_window, n_gpus, input_json_dict, run_file, restart_from_last_conf)\u001b[0m\n\u001b[1;32m    122\u001b[0m traj \u001b[38;5;241m=\u001b[39m os\u001b[38;5;241m.\u001b[39mpath\u001b[38;5;241m.\u001b[39mjoin(file_dir, \u001b[38;5;124m'\u001b[39m\u001b[38;5;124mtrajectory.dat\u001b[39m\u001b[38;5;124m'\u001b[39m)\n\u001b[1;32m    124\u001b[0m \u001b[38;5;66;03m# Create umbrella window dirs and separate the pulling confs into umbrella windows\u001b[39;00m\n\u001b[0;32m--> 125\u001b[0m n_confs \u001b[38;5;241m=\u001b[39m \u001b[43msep_conf\u001b[49m\u001b[43m(\u001b[49m\u001b[43mos\u001b[49m\u001b[38;5;241;43m.\u001b[39;49m\u001b[43mpath\u001b[49m\u001b[38;5;241;43m.\u001b[39;49m\u001b[43mjoin\u001b[49m\u001b[43m(\u001b[49m\u001b[43mfile_dir\u001b[49m\u001b[43m,\u001b[49m\u001b[43m \u001b[49m\u001b[38;5;124;43m'\u001b[39;49m\u001b[38;5;124;43mlast_conf.dat\u001b[39;49m\u001b[38;5;124;43m'\u001b[39;49m\u001b[43m)\u001b[49m\u001b[43m,\u001b[49m\u001b[43m \u001b[49m\u001b[43mtraj\u001b[49m\u001b[43m,\u001b[49m\u001b[43m \u001b[49m\u001b[43msim_dir\u001b[49m\u001b[43m)\u001b[49m\n\u001b[1;32m    126\u001b[0m x_range \u001b[38;5;241m=\u001b[39m np\u001b[38;5;241m.\u001b[39mlinspace(xmin, xmax, (n_confs \u001b[38;5;241m+\u001b[39m \u001b[38;5;241m1\u001b[39m))[\u001b[38;5;241m1\u001b[39m:]\n\u001b[1;32m    128\u001b[0m \u001b[38;5;66;03m#Get the optimal number of windows for each gpu to run\u001b[39;00m\n",
      "File \u001b[0;32m/scratch/matthew/melting_sims/umbrella/gen_umbrella/production_files.py:21\u001b[0m, in \u001b[0;36msep_conf\u001b[0;34m(last_conf, traj, sim_dir)\u001b[0m\n\u001b[1;32m     19\u001b[0m     os\u001b[38;5;241m.\u001b[39mmkdir(sim_dir)\n\u001b[1;32m     20\u001b[0m \u001b[38;5;66;03m# get number of lines in a singe oxDNA configuration\u001b[39;00m\n\u001b[0;32m---> 21\u001b[0m num_lines \u001b[38;5;241m=\u001b[39m \u001b[38;5;28msum\u001b[39m(\u001b[38;5;241m1\u001b[39m \u001b[38;5;28;01mfor\u001b[39;00m line \u001b[38;5;129;01min\u001b[39;00m \u001b[38;5;28;43mopen\u001b[39;49m\u001b[43m(\u001b[49m\u001b[43mlast_conf\u001b[49m\u001b[43m)\u001b[49m)\n\u001b[1;32m     22\u001b[0m \u001b[38;5;28;01mwith\u001b[39;00m \u001b[38;5;28mopen\u001b[39m(traj, \u001b[38;5;124m'\u001b[39m\u001b[38;5;124mr\u001b[39m\u001b[38;5;124m'\u001b[39m) \u001b[38;5;28;01mas\u001b[39;00m f:\n\u001b[1;32m     23\u001b[0m     \u001b[38;5;66;03m# read trajectory file\u001b[39;00m\n\u001b[1;32m     24\u001b[0m     file \u001b[38;5;241m=\u001b[39m f\u001b[38;5;241m.\u001b[39mreadlines()\n",
      "\u001b[0;31mFileNotFoundError\u001b[0m: [Errno 2] No such file or directory: '//scratch/matthew/melting_sims/umbrella/sim_macros/1p_systems/1p_k10_max7/1p_k10_max7_pull/last_conf.dat'"
     ]
    }
   ],
   "source": [
    "path = '//scratch/matthew/melting_sims/umbrella/sim_macros/1p_systems'\n",
    "system =  '1p_k10_max7'\n",
    "p1 = get_op_string(0, 8)\n",
    "p2 = get_op_string(9, 17)\n",
    "input_json_dict = input_json()\n",
    "input_json_dict['steps'] = '1e5'\n",
    "input_json_dict[\"CUDA_list\"] = \"no\"\n",
    "input_json_dict[\"use_average_seq\"] = \"false\"\n",
    "input_json_dict[\"seq_dep_file\"] = 'oxDNA2_sequence_dependent_parameters.txt'\n",
    "input_json_dict['print_conf_interval'] = '100000'\n",
    "input_json_dict['print_energy_every'] = '100000'\n",
    "input_umbrella = deepcopy(input_json_dict)\n",
    "\n",
    "com_force_params = Force.com_force(\n",
    "    p1=get_op_string(0, 8),\n",
    "    p2=get_op_string(9, 17),\n",
    "    k='10',\n",
    "    r0='0',\n",
    "    pbc='0',\n",
    "    rate='0'\n",
    ")\n",
    "all_forces = [com_force_params]\n",
    "steps_per_conf = 1e4\n",
    "xmin = 0\n",
    "xmax = 7\n",
    "n_windows = 100\n",
    "n_gpus = 5\n",
    "run_file = f'{path}/{system}/run.sh'\n",
    "#sim_dir = f\"{path}/{system}/umbrella_production_1e5_example\"\n",
    "prepare_umbrella_sampling(path, system, p1, p2, input_umbrella, all_forces, steps_per_conf, xmin, xmax, n_windows, n_gpus, run_file)"
   ]
  }
 ],
 "metadata": {
  "kernelspec": {
   "display_name": "oxDNA3.3",
   "language": "python",
   "name": "oxdna3.3"
  },
  "language_info": {
   "codemirror_mode": {
    "name": "ipython",
    "version": 2
   },
   "file_extension": ".py",
   "mimetype": "text/x-python",
   "name": "python",
   "nbconvert_exporter": "python",
   "pygments_lexer": "ipython2",
   "version": "2.7.6"
  }
 },
 "nbformat": 4,
 "nbformat_minor": 0
}
